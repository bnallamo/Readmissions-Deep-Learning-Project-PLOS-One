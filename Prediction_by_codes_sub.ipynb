{
 "cells": [
  {
   "cell_type": "markdown",
   "metadata": {},
   "source": [
    "# Prediction by Diagnosis Codes\n",
    "In this notebook we use some fancier networks. "
   ]
  },
  {
   "cell_type": "code",
   "execution_count": 1,
   "metadata": {},
   "outputs": [],
   "source": [
    "import pandas as pd\n",
    "import numpy as np\n",
    "import matplotlib.pyplot as plt\n",
    "#import statsmodels.api as sm\n",
    "from sklearn.model_selection import train_test_split, StratifiedKFold\n",
    "from sklearn.metrics import roc_curve, auc\n",
    "import os, sys, time\n",
    "from importlib import reload\n",
    "%matplotlib inline"
   ]
  },
  {
   "cell_type": "code",
   "execution_count": 2,
   "metadata": {},
   "outputs": [],
   "source": [
    "os.environ['CUDA_VISIBLE_DEVICES'] = ''"
   ]
  },
  {
   "cell_type": "code",
   "execution_count": 2,
   "metadata": {},
   "outputs": [],
   "source": [
    "path = '/nfs/turbo/intmed-bnallamo-turbo/wsliu/Data/NRD/'"
   ]
  },
  {
   "cell_type": "code",
   "execution_count": 2,
   "metadata": {},
   "outputs": [],
   "source": [
    "path = '/nfs/turbo/umms-awaljee/wsliu/Data/NRD/'"
   ]
  },
  {
   "cell_type": "code",
   "execution_count": 3,
   "metadata": {},
   "outputs": [],
   "source": [
    "model_path = path + 'models/'\n",
    "if not os.path.exists(model_path): os.mkdir(model_path)"
   ]
  },
  {
   "cell_type": "code",
   "execution_count": 4,
   "metadata": {
    "scrolled": true
   },
   "outputs": [
    {
     "name": "stderr",
     "output_type": "stream",
     "text": [
      "Using TensorFlow backend.\n"
     ]
    }
   ],
   "source": [
    "from keras.layers import Input, Embedding, Concatenate, Reshape, BatchNormalization, LSTM, CuDNNLSTM, CuDNNGRU, Lambda, Add\n",
    "from keras.models import Model\n",
    "from keras.layers.core import Dense, Activation, Dropout, RepeatVector\n",
    "from keras.callbacks import ModelCheckpoint, ReduceLROnPlateau, EarlyStopping\n",
    "from keras.utils import to_categorical\n",
    "from keras.optimizers import Adam\n",
    "from keras.initializers import Constant\n",
    "import keras.backend as K\n",
    "\n",
    "module_path = os.path.abspath(os.path.join('..'))\n",
    "if module_path not in sys.path:\n",
    "    sys.path.append(module_path)\n",
    "from DL_utils import plot_roc\n",
    "from keras_addon import AUCCheckPoint\n",
    "from utils import get_frequency, preprocess\n",
    "\n",
    "from ccs_tools import dx_multi, pr_multi, core_dtypes_pd"
   ]
  },
  {
   "cell_type": "code",
   "execution_count": 118,
   "metadata": {},
   "outputs": [],
   "source": [
    "from ccs_tools import dx_label"
   ]
  },
  {
   "cell_type": "markdown",
   "metadata": {},
   "source": [
    "## Data Preparation"
   ]
  },
  {
   "cell_type": "code",
   "execution_count": 5,
   "metadata": {},
   "outputs": [],
   "source": [
    "cohort='ami'\n",
    "tst_seed=0"
   ]
  },
  {
   "cell_type": "code",
   "execution_count": 492,
   "metadata": {},
   "outputs": [],
   "source": [
    "all_df = pd.read_csv(path+'cohorts20/{}/pred_comorb.csv'.format(cohort), dtype=core_dtypes_pd)"
   ]
  },
  {
   "cell_type": "code",
   "execution_count": 127,
   "metadata": {},
   "outputs": [],
   "source": [
    "n_DX = 29\n",
    "n_PR = 15\n",
    "DXs = ['DX'+str(n) for n in range(2, n_DX+2)]\n",
    "PRs = ['PR'+str(n) for n in range(1, n_PR+1)]"
   ]
  },
  {
   "cell_type": "code",
   "execution_count": 493,
   "metadata": {},
   "outputs": [],
   "source": [
    "freq = get_frequency(all_df)"
   ]
  },
  {
   "cell_type": "code",
   "execution_count": 494,
   "metadata": {},
   "outputs": [],
   "source": [
    "DX1_rarecutpoint = 100\n",
    "DX_rarecutpoint = 100\n",
    "PR_rarecutpoint = 100"
   ]
  },
  {
   "cell_type": "code",
   "execution_count": 495,
   "metadata": {},
   "outputs": [],
   "source": [
    "infreq_DX1 = sorted(freq['DX1'].loc[freq['DX1']<DX1_rarecutpoint].index)\n",
    "infreq_DX = sorted(freq['DX'].loc[freq['DX']<DX_rarecutpoint].index)\n",
    "infreq_PR = sorted(freq['PR'].loc[freq['PR']<PR_rarecutpoint].index)"
   ]
  },
  {
   "cell_type": "code",
   "execution_count": 496,
   "metadata": {},
   "outputs": [],
   "source": [
    "unclassified = set(dx_multi.loc[dx_multi.CCS_LVL1 == '18', 'ICD9CM_CODE'])"
   ]
  },
  {
   "cell_type": "code",
   "execution_count": 238,
   "metadata": {},
   "outputs": [
    {
     "data": {
      "text/plain": [
       "184993"
      ]
     },
     "execution_count": 238,
     "metadata": {},
     "output_type": "execute_result"
    }
   ],
   "source": [
    "len(all_df)"
   ]
  },
  {
   "cell_type": "code",
   "execution_count": 497,
   "metadata": {},
   "outputs": [],
   "source": [
    "DX1_out = set(infreq_DX1).union(set(unclassified))\n",
    "DX_out = set(infreq_DX).union(set(unclassified))\n",
    "PR_out = set(infreq_PR)"
   ]
  },
  {
   "cell_type": "code",
   "execution_count": 498,
   "metadata": {},
   "outputs": [],
   "source": [
    "clean_df = all_df.loc[~all_df.DX1.isin(DX1_out)]\n",
    "\n",
    "for dx in DXs:\n",
    "    clean_df = clean_df.loc[~clean_df[dx].isin(DX_out)]\n",
    "\n",
    "for pr in PRs:\n",
    "    clean_df = clean_df.loc[~clean_df[pr].isin(PR_out)]"
   ]
  },
  {
   "cell_type": "code",
   "execution_count": 241,
   "metadata": {},
   "outputs": [
    {
     "data": {
      "text/plain": [
       "111619"
      ]
     },
     "execution_count": 241,
     "metadata": {},
     "output_type": "execute_result"
    }
   ],
   "source": [
    "len(clean_df)"
   ]
  },
  {
   "cell_type": "code",
   "execution_count": 499,
   "metadata": {},
   "outputs": [],
   "source": [
    "hosp_freq = clean_df.HOSP_NRD.value_counts()\n",
    "hosp_in = hosp_freq.loc[hosp_freq>=10].index"
   ]
  },
  {
   "cell_type": "code",
   "execution_count": 500,
   "metadata": {},
   "outputs": [],
   "source": [
    "all_df = clean_df.loc[clean_df.HOSP_NRD.isin(hosp_in)]"
   ]
  },
  {
   "cell_type": "code",
   "execution_count": 501,
   "metadata": {},
   "outputs": [
    {
     "data": {
      "text/plain": [
       "87202"
      ]
     },
     "execution_count": 501,
     "metadata": {},
     "output_type": "execute_result"
    }
   ],
   "source": [
    "len(all_df)"
   ]
  },
  {
   "cell_type": "code",
   "execution_count": 502,
   "metadata": {},
   "outputs": [],
   "source": [
    "preprocessed = preprocess(all_df, DX_rarecutpoint=0, PR_rarecutpoint=0)"
   ]
  },
  {
   "cell_type": "code",
   "execution_count": 503,
   "metadata": {},
   "outputs": [],
   "source": [
    "all_df = preprocessed['int_df'].reset_index(drop=True)"
   ]
  },
  {
   "cell_type": "code",
   "execution_count": 11,
   "metadata": {},
   "outputs": [],
   "source": [
    "tst_key = pd.read_csv(path+'cohorts20/{}/tst_key{}.csv'.format(cohort, tst_seed), names = ['KEY_NRD'])\n",
    "tst_df = all_df.loc[all_df.KEY_NRD.isin(tst_key.KEY_NRD)]\n",
    "train_df0 = all_df.loc[~all_df.KEY_NRD.isin(tst_key.KEY_NRD)].reset_index()"
   ]
  },
  {
   "cell_type": "code",
   "execution_count": 17,
   "metadata": {},
   "outputs": [
    {
     "data": {
      "text/plain": [
       "((166058, 184), (184993, 183))"
      ]
     },
     "execution_count": 17,
     "metadata": {},
     "output_type": "execute_result"
    }
   ],
   "source": [
    "train_df0.shape, all_df.shape"
   ]
  },
  {
   "cell_type": "code",
   "execution_count": 143,
   "metadata": {},
   "outputs": [],
   "source": [
    "from sklearn.model_selection import StratifiedKFold"
   ]
  },
  {
   "cell_type": "code",
   "execution_count": 504,
   "metadata": {},
   "outputs": [],
   "source": [
    "skf = StratifiedKFold(n_splits=10, random_state=24, shuffle=True)"
   ]
  },
  {
   "cell_type": "code",
   "execution_count": 505,
   "metadata": {},
   "outputs": [],
   "source": [
    "train_idx, tst_idx = next(skf.split(all_df, all_df.HOSP_NRD))"
   ]
  },
  {
   "cell_type": "code",
   "execution_count": 506,
   "metadata": {},
   "outputs": [],
   "source": [
    "train_df0 = all_df.loc[train_idx].reset_index(drop=True)\n",
    "tst_df = all_df.loc[tst_idx].reset_index(drop=True)"
   ]
  },
  {
   "cell_type": "code",
   "execution_count": 294,
   "metadata": {},
   "outputs": [
    {
     "data": {
      "text/plain": [
       "((95532, 183), (11078, 183))"
      ]
     },
     "execution_count": 294,
     "metadata": {},
     "output_type": "execute_result"
    }
   ],
   "source": [
    "train_df0.shape, tst_df.shape"
   ]
  },
  {
   "cell_type": "markdown",
   "metadata": {},
   "source": [
    "## Multi-Level CCS Codes"
   ]
  },
  {
   "cell_type": "markdown",
   "metadata": {},
   "source": [
    "### Create the parent pairs"
   ]
  },
  {
   "cell_type": "markdown",
   "metadata": {},
   "source": [
    "Read the ICD9 CCS multi-level category dictionary file. "
   ]
  },
  {
   "cell_type": "code",
   "execution_count": 12,
   "metadata": {},
   "outputs": [],
   "source": [
    "from ccs_tools import dx_label"
   ]
  },
  {
   "cell_type": "code",
   "execution_count": 22,
   "metadata": {},
   "outputs": [],
   "source": [
    "rare_desc = icd_dict.loc[icd_dict.dgns_cd.isin(rare_code), ['dgns_cd', 'longdesc']]"
   ]
  },
  {
   "cell_type": "code",
   "execution_count": 23,
   "metadata": {},
   "outputs": [],
   "source": [
    "rare_desc.to_csv(path+'rare_icd9.csv', index=False)"
   ]
  },
  {
   "cell_type": "code",
   "execution_count": 31,
   "metadata": {
    "scrolled": true
   },
   "outputs": [
    {
     "data": {
      "text/plain": [
       "Injury and poisoning                                                                 2764\n",
       "Residual codes; unclassified; all E codes [259. and 260.]                            1589\n",
       "Diseases of the nervous system and sense organs                                      1587\n",
       "Infectious and parasitic diseases                                                    1226\n",
       "Complications of pregnancy; childbirth; and the puerperium                           1205\n",
       "Neoplasms                                                                            1114\n",
       "Diseases of the musculoskeletal system and connective tissue                          863\n",
       "Diseases of the digestive system                                                      757\n",
       "Mental Illness                                                                        597\n",
       "Diseases of the circulatory system                                                    553\n",
       "Diseases of the genitourinary system                                                  498\n",
       "Endocrine; nutritional; and metabolic diseases and immunity disorders                 445\n",
       "Congenital anomalies                                                                  444\n",
       "Symptoms; signs; and ill-defined conditions and factors influencing health status     403\n",
       "Certain conditions originating in the perinatal period                                351\n",
       "Diseases of the respiratory system                                                    342\n",
       "Diseases of the skin and subcutaneous tissue                                          190\n",
       "Diseases of the blood and blood-forming organs                                        134\n",
       "Mental illness                                                                         10\n",
       "Name: CCS_LVL1_LABEL, dtype: int64"
      ]
     },
     "execution_count": 31,
     "metadata": {},
     "output_type": "execute_result"
    }
   ],
   "source": [
    "dx_multi.CCS_LVL1_LABEL.value_counts()"
   ]
  },
  {
   "cell_type": "markdown",
   "metadata": {},
   "source": [
    "## Embedding + NN"
   ]
  },
  {
   "cell_type": "markdown",
   "metadata": {},
   "source": [
    "### Train embedding with Glove"
   ]
  },
  {
   "cell_type": "code",
   "execution_count": 82,
   "metadata": {},
   "outputs": [],
   "source": [
    "from glove import Glove"
   ]
  },
  {
   "cell_type": "code",
   "execution_count": 148,
   "metadata": {},
   "outputs": [],
   "source": [
    "embed_dim=100\n",
    "count_cap=5"
   ]
  },
  {
   "cell_type": "code",
   "execution_count": 507,
   "metadata": {},
   "outputs": [],
   "source": [
    "g = Glove(input_dim=len(preprocessed['code_cat']), embedding_dim=embed_dim, count_cap=count_cap)"
   ]
  },
  {
   "cell_type": "code",
   "execution_count": 508,
   "metadata": {},
   "outputs": [
    {
     "name": "stdout",
     "output_type": "stream",
     "text": [
      "Updating co-occurrence matrix from a Dataframe with 78066 rows...\n",
      "Finished. It takes 15.1 seconds to update the cooccurrences.\n"
     ]
    }
   ],
   "source": [
    "g.update_cooccur(train_df0[['DX1']+DXs+PRs])"
   ]
  },
  {
   "cell_type": "code",
   "execution_count": 509,
   "metadata": {},
   "outputs": [],
   "source": [
    "cooccur_df = g.get_cooccur_df()"
   ]
  },
  {
   "cell_type": "code",
   "execution_count": 314,
   "metadata": {},
   "outputs": [
    {
     "data": {
      "text/plain": [
       "(586066, 3)"
      ]
     },
     "execution_count": 314,
     "metadata": {},
     "output_type": "execute_result"
    }
   ],
   "source": [
    "cooccur_df.shape"
   ]
  },
  {
   "cell_type": "code",
   "execution_count": 510,
   "metadata": {},
   "outputs": [],
   "source": [
    "parent_pairs = preprocessed['parent_pairs']"
   ]
  },
  {
   "cell_type": "code",
   "execution_count": 511,
   "metadata": {
    "scrolled": true
   },
   "outputs": [
    {
     "name": "stdout",
     "output_type": "stream",
     "text": [
      "Preparing data...\n",
      "Defining the GloVe model...\n",
      "Training the GloVe model...\n",
      "Epoch 1/80\n",
      "283451/283451 [==============================] - 4s 15us/step - loss: 3.8116\n",
      "Epoch 2/80\n",
      "283451/283451 [==============================] - 0s 2us/step - loss: 2.3740\n",
      "Epoch 3/80\n",
      "283451/283451 [==============================] - 0s 2us/step - loss: 0.7994\n",
      "Epoch 4/80\n",
      "283451/283451 [==============================] - 1s 2us/step - loss: 0.4223\n",
      "Epoch 5/80\n",
      "283451/283451 [==============================] - 0s 2us/step - loss: 0.3284\n",
      "Epoch 6/80\n",
      "283451/283451 [==============================] - 0s 2us/step - loss: 0.2984\n",
      "Epoch 7/80\n",
      "283451/283451 [==============================] - 0s 2us/step - loss: 0.2838\n",
      "Epoch 8/80\n",
      "283451/283451 [==============================] - 0s 2us/step - loss: 0.2721\n",
      "Epoch 9/80\n",
      "283451/283451 [==============================] - 0s 2us/step - loss: 0.2597\n",
      "Epoch 10/80\n",
      "283451/283451 [==============================] - 0s 2us/step - loss: 0.2465\n",
      "Epoch 11/80\n",
      "283451/283451 [==============================] - 1s 2us/step - loss: 0.2337\n",
      "Epoch 12/80\n",
      "283451/283451 [==============================] - 0s 2us/step - loss: 0.2222\n",
      "Epoch 13/80\n",
      "283451/283451 [==============================] - 0s 2us/step - loss: 0.2123\n",
      "Epoch 14/80\n",
      "283451/283451 [==============================] - 0s 2us/step - loss: 0.2035\n",
      "Epoch 15/80\n",
      "283451/283451 [==============================] - 0s 2us/step - loss: 0.1959\n",
      "Epoch 16/80\n",
      "283451/283451 [==============================] - 0s 2us/step - loss: 0.1893\n",
      "Epoch 17/80\n",
      "283451/283451 [==============================] - 0s 2us/step - loss: 0.1832\n",
      "Epoch 18/80\n",
      "283451/283451 [==============================] - 0s 2us/step - loss: 0.1777\n",
      "Epoch 19/80\n",
      "283451/283451 [==============================] - 0s 2us/step - loss: 0.1727\n",
      "Epoch 20/80\n",
      "283451/283451 [==============================] - 0s 2us/step - loss: 0.1678\n",
      "Epoch 21/80\n",
      "283451/283451 [==============================] - 0s 2us/step - loss: 0.1633\n",
      "Epoch 22/80\n",
      "283451/283451 [==============================] - 0s 2us/step - loss: 0.1592\n",
      "Epoch 23/80\n",
      "283451/283451 [==============================] - 0s 2us/step - loss: 0.1553\n",
      "Epoch 24/80\n",
      "283451/283451 [==============================] - 0s 2us/step - loss: 0.1515\n",
      "Epoch 25/80\n",
      "283451/283451 [==============================] - 0s 2us/step - loss: 0.1480\n",
      "Epoch 26/80\n",
      "283451/283451 [==============================] - 0s 2us/step - loss: 0.1447\n",
      "Epoch 27/80\n",
      "283451/283451 [==============================] - 0s 2us/step - loss: 0.1414\n",
      "Epoch 28/80\n",
      "283451/283451 [==============================] - 0s 2us/step - loss: 0.1382\n",
      "Epoch 29/80\n",
      "283451/283451 [==============================] - 0s 2us/step - loss: 0.1351A: 0s - loss: \n",
      "Epoch 30/80\n",
      "283451/283451 [==============================] - 0s 2us/step - loss: 0.1320\n",
      "Epoch 31/80\n",
      "283451/283451 [==============================] - 1s 2us/step - loss: 0.1291\n",
      "Epoch 32/80\n",
      "283451/283451 [==============================] - 0s 2us/step - loss: 0.1263\n",
      "Epoch 33/80\n",
      "283451/283451 [==============================] - 0s 2us/step - loss: 0.1235\n",
      "Epoch 34/80\n",
      "283451/283451 [==============================] - 0s 2us/step - loss: 0.1209\n",
      "Epoch 35/80\n",
      "283451/283451 [==============================] - 0s 2us/step - loss: 0.1183\n",
      "Epoch 36/80\n",
      "283451/283451 [==============================] - 0s 2us/step - loss: 0.1158\n",
      "Epoch 37/80\n",
      "283451/283451 [==============================] - 0s 2us/step - loss: 0.1135\n",
      "Epoch 38/80\n",
      "283451/283451 [==============================] - 1s 2us/step - loss: 0.1111\n",
      "Epoch 39/80\n",
      "283451/283451 [==============================] - 1s 2us/step - loss: 0.1089\n",
      "Epoch 40/80\n",
      "283451/283451 [==============================] - 1s 2us/step - loss: 0.1068\n",
      "Epoch 41/80\n",
      "283451/283451 [==============================] - 1s 2us/step - loss: 0.1047\n",
      "Epoch 42/80\n",
      "283451/283451 [==============================] - 1s 2us/step - loss: 0.1027\n",
      "Epoch 43/80\n",
      "283451/283451 [==============================] - 1s 2us/step - loss: 0.1007\n",
      "Epoch 44/80\n",
      "283451/283451 [==============================] - 0s 2us/step - loss: 0.0988\n",
      "Epoch 45/80\n",
      "283451/283451 [==============================] - 1s 2us/step - loss: 0.0970\n",
      "Epoch 46/80\n",
      "283451/283451 [==============================] - 1s 2us/step - loss: 0.0952\n",
      "Epoch 47/80\n",
      "283451/283451 [==============================] - 0s 2us/step - loss: 0.0935\n",
      "Epoch 48/80\n",
      "283451/283451 [==============================] - 1s 2us/step - loss: 0.0918\n",
      "Epoch 49/80\n",
      "283451/283451 [==============================] - 0s 2us/step - loss: 0.0902\n",
      "Epoch 50/80\n",
      "283451/283451 [==============================] - 0s 2us/step - loss: 0.0886\n",
      "Epoch 51/80\n",
      "283451/283451 [==============================] - 0s 2us/step - loss: 0.0871\n",
      "Epoch 52/80\n",
      "283451/283451 [==============================] - 0s 2us/step - loss: 0.0857\n",
      "Epoch 53/80\n",
      "283451/283451 [==============================] - 1s 2us/step - loss: 0.0842\n",
      "Epoch 54/80\n",
      "283451/283451 [==============================] - 0s 2us/step - loss: 0.0829\n",
      "Epoch 55/80\n",
      "283451/283451 [==============================] - 0s 2us/step - loss: 0.0815\n",
      "Epoch 56/80\n",
      "283451/283451 [==============================] - 0s 2us/step - loss: 0.0802\n",
      "Epoch 57/80\n",
      "283451/283451 [==============================] - 0s 2us/step - loss: 0.0790\n",
      "Epoch 58/80\n",
      "283451/283451 [==============================] - 0s 2us/step - loss: 0.0778\n",
      "Epoch 59/80\n",
      "283451/283451 [==============================] - 0s 2us/step - loss: 0.0766\n",
      "Epoch 60/80\n",
      "283451/283451 [==============================] - 0s 2us/step - loss: 0.0755\n",
      "Epoch 61/80\n",
      "283451/283451 [==============================] - 0s 2us/step - loss: 0.0744\n",
      "Epoch 62/80\n",
      "283451/283451 [==============================] - 0s 2us/step - loss: 0.0734\n",
      "Epoch 63/80\n",
      "283451/283451 [==============================] - 0s 2us/step - loss: 0.0725\n",
      "Epoch 64/80\n",
      "283451/283451 [==============================] - 0s 2us/step - loss: 0.0714\n",
      "Epoch 65/80\n",
      "283451/283451 [==============================] - 0s 2us/step - loss: 0.0706\n",
      "Epoch 66/80\n",
      "283451/283451 [==============================] - 0s 2us/step - loss: 0.0697\n",
      "Epoch 67/80\n",
      "283451/283451 [==============================] - 0s 2us/step - loss: 0.0689\n",
      "Epoch 68/80\n",
      "283451/283451 [==============================] - 0s 2us/step - loss: 0.0680\n",
      "Epoch 69/80\n",
      "283451/283451 [==============================] - 0s 2us/step - loss: 0.0673\n",
      "Epoch 70/80\n",
      "283451/283451 [==============================] - 0s 2us/step - loss: 0.0665\n",
      "Epoch 71/80\n",
      "283451/283451 [==============================] - 0s 2us/step - loss: 0.0658\n",
      "Epoch 72/80\n",
      "283451/283451 [==============================] - 0s 2us/step - loss: 0.0652\n",
      "Epoch 73/80\n",
      "283451/283451 [==============================] - 0s 2us/step - loss: 0.0645\n",
      "Epoch 74/80\n",
      "283451/283451 [==============================] - 0s 2us/step - loss: 0.0639\n",
      "Epoch 75/80\n",
      "283451/283451 [==============================] - 0s 2us/step - loss: 0.0634\n",
      "Epoch 76/80\n",
      "283451/283451 [==============================] - 0s 2us/step - loss: 0.0628\n",
      "Epoch 77/80\n",
      "283451/283451 [==============================] - 0s 1us/step - loss: 0.0623\n",
      "Epoch 78/80\n",
      "283451/283451 [==============================] - 0s 2us/step - loss: 0.0618\n",
      "Epoch 79/80\n",
      "283451/283451 [==============================] - 0s 2us/step - loss: 0.0614\n",
      "Epoch 80/80\n",
      "283451/283451 [==============================] - 0s 2us/step - loss: 0.0609\n",
      "Finished. The pretrained embedding matrix can be retrieved by .get_embed_mat().\n"
     ]
    }
   ],
   "source": [
    "g.train_glove(cooccur_df=cooccur_df, cache_path=model_path, epochs=80, earlystop_patience=10, reducelr_patience=3, \n",
    "              parent_pairs=parent_pairs, lamb=0., metric='cosine', batch_size=1024*4)"
   ]
  },
  {
   "cell_type": "code",
   "execution_count": 512,
   "metadata": {},
   "outputs": [],
   "source": [
    "embed_mat = g.get_embed_mat()"
   ]
  },
  {
   "cell_type": "code",
   "execution_count": 316,
   "metadata": {},
   "outputs": [
    {
     "data": {
      "text/plain": [
       "(3622, 100)"
      ]
     },
     "execution_count": 316,
     "metadata": {},
     "output_type": "execute_result"
    }
   ],
   "source": [
    "embed_mat.shape"
   ]
  },
  {
   "cell_type": "code",
   "execution_count": 237,
   "metadata": {},
   "outputs": [],
   "source": [
    "from MulticoreTSNE import MulticoreTSNE as TSNE"
   ]
  },
  {
   "cell_type": "code",
   "execution_count": 238,
   "metadata": {},
   "outputs": [],
   "source": [
    "code_freq = get_frequency(train_df0)"
   ]
  },
  {
   "cell_type": "code",
   "execution_count": 239,
   "metadata": {},
   "outputs": [],
   "source": [
    "DX_freq = code_freq['DX']"
   ]
  },
  {
   "cell_type": "code",
   "execution_count": 240,
   "metadata": {},
   "outputs": [],
   "source": [
    "DX_embed_mat = embed_mat[DX_dict[DX_cat[0]]:(DX_dict[DX_cat[-1]]+1), :]"
   ]
  },
  {
   "cell_type": "code",
   "execution_count": 306,
   "metadata": {},
   "outputs": [],
   "source": [
    "DX_embed_mat = embed_mat[1:(DX_dict[DX_cat[-1]]+1), :]"
   ]
  },
  {
   "cell_type": "code",
   "execution_count": 300,
   "metadata": {},
   "outputs": [],
   "source": [
    "tsne = TSNE(n_components=2, init='random', random_state=0)"
   ]
  },
  {
   "cell_type": "code",
   "execution_count": 307,
   "metadata": {},
   "outputs": [
    {
     "name": "stdout",
     "output_type": "stream",
     "text": [
      "Time used: 12.048529148101807 sec\n"
     ]
    }
   ],
   "source": [
    "start = time.time()\n",
    "DX_tsne = tsne.fit_transform(DX_embed_mat)\n",
    "print('Time used: {} sec'.format(time.time()-start))"
   ]
  },
  {
   "cell_type": "code",
   "execution_count": 243,
   "metadata": {},
   "outputs": [],
   "source": [
    "plot_df = pd.DataFrame(dict(x=DX_tsne[:, 0], y=DX_tsne[:, 1]), index=DX_cat)"
   ]
  },
  {
   "cell_type": "code",
   "execution_count": 321,
   "metadata": {},
   "outputs": [],
   "source": [
    "plot_df = pd.DataFrame(dict(x=DX_tsne[:, 0], y=DX_tsne[:, 1]), index=['m'+dx for dx in DX1_cat]+DX_cat)"
   ]
  },
  {
   "cell_type": "markdown",
   "metadata": {},
   "source": [
    "CCS category labels:"
   ]
  },
  {
   "cell_type": "code",
   "execution_count": 244,
   "metadata": {},
   "outputs": [],
   "source": [
    "plot_df = plot_df.assign(ccs_lvl1=[dx_multi.loc[dx, 'CCS_LVL1']+' '+dx_multi.loc[dx, 'CCS_LVL1_LABEL'] for dx in plot_df.index])\n",
    "\n",
    "plot_df = plot_df.assign(freq=DX_freq.loc[pd.Series(DX_cat).apply(lambda x:DX_dict[x])].values)\n",
    "\n",
    "plot_df = plot_df.assign(dot_size=plot_df.freq.apply(lambda x:np.log(x+1)**2/4))"
   ]
  },
  {
   "cell_type": "code",
   "execution_count": 310,
   "metadata": {},
   "outputs": [],
   "source": [
    "plot_df = plot_df.assign(label='other')"
   ]
  },
  {
   "cell_type": "code",
   "execution_count": 320,
   "metadata": {},
   "outputs": [
    {
     "data": {
      "text/html": [
       "<div>\n",
       "<style scoped>\n",
       "    .dataframe tbody tr th:only-of-type {\n",
       "        vertical-align: middle;\n",
       "    }\n",
       "\n",
       "    .dataframe tbody tr th {\n",
       "        vertical-align: top;\n",
       "    }\n",
       "\n",
       "    .dataframe thead th {\n",
       "        text-align: right;\n",
       "    }\n",
       "</style>\n",
       "<table border=\"1\" class=\"dataframe\">\n",
       "  <thead>\n",
       "    <tr style=\"text-align: right;\">\n",
       "      <th></th>\n",
       "      <th>x</th>\n",
       "      <th>y</th>\n",
       "      <th>label</th>\n",
       "    </tr>\n",
       "  </thead>\n",
       "  <tbody>\n",
       "    <tr>\n",
       "      <th>41001</th>\n",
       "      <td>3.324308</td>\n",
       "      <td>10.902804</td>\n",
       "      <td>major</td>\n",
       "    </tr>\n",
       "    <tr>\n",
       "      <th>41001</th>\n",
       "      <td>-0.376500</td>\n",
       "      <td>1.508393</td>\n",
       "      <td>other</td>\n",
       "    </tr>\n",
       "  </tbody>\n",
       "</table>\n",
       "</div>"
      ],
      "text/plain": [
       "              x          y  label\n",
       "41001  3.324308  10.902804  major\n",
       "41001 -0.376500   1.508393  other"
      ]
     },
     "execution_count": 320,
     "metadata": {},
     "output_type": "execute_result"
    }
   ],
   "source": [
    "plot_df.loc['41001']"
   ]
  },
  {
   "cell_type": "code",
   "execution_count": 322,
   "metadata": {
    "collapsed": true
   },
   "outputs": [
    {
     "data": {
      "text/html": [
       "<div>\n",
       "<style scoped>\n",
       "    .dataframe tbody tr th:only-of-type {\n",
       "        vertical-align: middle;\n",
       "    }\n",
       "\n",
       "    .dataframe tbody tr th {\n",
       "        vertical-align: top;\n",
       "    }\n",
       "\n",
       "    .dataframe thead th {\n",
       "        text-align: right;\n",
       "    }\n",
       "</style>\n",
       "<table border=\"1\" class=\"dataframe\">\n",
       "  <thead>\n",
       "    <tr style=\"text-align: right;\">\n",
       "      <th></th>\n",
       "      <th>x</th>\n",
       "      <th>y</th>\n",
       "    </tr>\n",
       "  </thead>\n",
       "  <tbody>\n",
       "    <tr>\n",
       "      <th>m41000</th>\n",
       "      <td>5.994010</td>\n",
       "      <td>-13.867500</td>\n",
       "    </tr>\n",
       "    <tr>\n",
       "      <th>m41001</th>\n",
       "      <td>3.324308</td>\n",
       "      <td>10.902804</td>\n",
       "    </tr>\n",
       "    <tr>\n",
       "      <th>m41010</th>\n",
       "      <td>-5.964371</td>\n",
       "      <td>-5.004744</td>\n",
       "    </tr>\n",
       "    <tr>\n",
       "      <th>m41011</th>\n",
       "      <td>3.358795</td>\n",
       "      <td>11.083466</td>\n",
       "    </tr>\n",
       "    <tr>\n",
       "      <th>m41020</th>\n",
       "      <td>5.888000</td>\n",
       "      <td>-13.817354</td>\n",
       "    </tr>\n",
       "    <tr>\n",
       "      <th>m41021</th>\n",
       "      <td>3.266266</td>\n",
       "      <td>10.813693</td>\n",
       "    </tr>\n",
       "    <tr>\n",
       "      <th>m41030</th>\n",
       "      <td>10.456566</td>\n",
       "      <td>-14.355887</td>\n",
       "    </tr>\n",
       "    <tr>\n",
       "      <th>m41031</th>\n",
       "      <td>3.254933</td>\n",
       "      <td>10.763239</td>\n",
       "    </tr>\n",
       "    <tr>\n",
       "      <th>m41040</th>\n",
       "      <td>4.830407</td>\n",
       "      <td>-15.705278</td>\n",
       "    </tr>\n",
       "    <tr>\n",
       "      <th>m41041</th>\n",
       "      <td>2.996257</td>\n",
       "      <td>11.277818</td>\n",
       "    </tr>\n",
       "    <tr>\n",
       "      <th>m41050</th>\n",
       "      <td>12.145478</td>\n",
       "      <td>-6.577780</td>\n",
       "    </tr>\n",
       "    <tr>\n",
       "      <th>m41051</th>\n",
       "      <td>3.137660</td>\n",
       "      <td>10.620467</td>\n",
       "    </tr>\n",
       "    <tr>\n",
       "      <th>m41060</th>\n",
       "      <td>9.797898</td>\n",
       "      <td>-12.790399</td>\n",
       "    </tr>\n",
       "    <tr>\n",
       "      <th>m41061</th>\n",
       "      <td>2.303349</td>\n",
       "      <td>7.326526</td>\n",
       "    </tr>\n",
       "    <tr>\n",
       "      <th>m41070</th>\n",
       "      <td>-12.708771</td>\n",
       "      <td>-2.968350</td>\n",
       "    </tr>\n",
       "    <tr>\n",
       "      <th>m41071</th>\n",
       "      <td>1.310318</td>\n",
       "      <td>13.164182</td>\n",
       "    </tr>\n",
       "    <tr>\n",
       "      <th>m41080</th>\n",
       "      <td>11.018405</td>\n",
       "      <td>-13.890571</td>\n",
       "    </tr>\n",
       "    <tr>\n",
       "      <th>m41081</th>\n",
       "      <td>1.539214</td>\n",
       "      <td>6.538039</td>\n",
       "    </tr>\n",
       "    <tr>\n",
       "      <th>m41090</th>\n",
       "      <td>-1.650072</td>\n",
       "      <td>-4.472263</td>\n",
       "    </tr>\n",
       "    <tr>\n",
       "      <th>m41091</th>\n",
       "      <td>2.256572</td>\n",
       "      <td>12.647313</td>\n",
       "    </tr>\n",
       "    <tr>\n",
       "      <th>00845</th>\n",
       "      <td>8.867237</td>\n",
       "      <td>10.019275</td>\n",
       "    </tr>\n",
       "    <tr>\n",
       "      <th>0088</th>\n",
       "      <td>-3.082910</td>\n",
       "      <td>0.376406</td>\n",
       "    </tr>\n",
       "    <tr>\n",
       "      <th>0090</th>\n",
       "      <td>-3.067797</td>\n",
       "      <td>4.014546</td>\n",
       "    </tr>\n",
       "    <tr>\n",
       "      <th>0340</th>\n",
       "      <td>11.605210</td>\n",
       "      <td>-11.665422</td>\n",
       "    </tr>\n",
       "    <tr>\n",
       "      <th>0380</th>\n",
       "      <td>7.734156</td>\n",
       "      <td>1.162930</td>\n",
       "    </tr>\n",
       "    <tr>\n",
       "      <th>03811</th>\n",
       "      <td>8.244345</td>\n",
       "      <td>0.877406</td>\n",
       "    </tr>\n",
       "    <tr>\n",
       "      <th>03812</th>\n",
       "      <td>8.600551</td>\n",
       "      <td>0.538114</td>\n",
       "    </tr>\n",
       "    <tr>\n",
       "      <th>03819</th>\n",
       "      <td>8.917855</td>\n",
       "      <td>-0.005611</td>\n",
       "    </tr>\n",
       "    <tr>\n",
       "      <th>03840</th>\n",
       "      <td>9.302263</td>\n",
       "      <td>1.126356</td>\n",
       "    </tr>\n",
       "    <tr>\n",
       "      <th>03842</th>\n",
       "      <td>7.652380</td>\n",
       "      <td>1.565716</td>\n",
       "    </tr>\n",
       "  </tbody>\n",
       "</table>\n",
       "</div>"
      ],
      "text/plain": [
       "                x          y\n",
       "m41000   5.994010 -13.867500\n",
       "m41001   3.324308  10.902804\n",
       "m41010  -5.964371  -5.004744\n",
       "m41011   3.358795  11.083466\n",
       "m41020   5.888000 -13.817354\n",
       "m41021   3.266266  10.813693\n",
       "m41030  10.456566 -14.355887\n",
       "m41031   3.254933  10.763239\n",
       "m41040   4.830407 -15.705278\n",
       "m41041   2.996257  11.277818\n",
       "m41050  12.145478  -6.577780\n",
       "m41051   3.137660  10.620467\n",
       "m41060   9.797898 -12.790399\n",
       "m41061   2.303349   7.326526\n",
       "m41070 -12.708771  -2.968350\n",
       "m41071   1.310318  13.164182\n",
       "m41080  11.018405 -13.890571\n",
       "m41081   1.539214   6.538039\n",
       "m41090  -1.650072  -4.472263\n",
       "m41091   2.256572  12.647313\n",
       "00845    8.867237  10.019275\n",
       "0088    -3.082910   0.376406\n",
       "0090    -3.067797   4.014546\n",
       "0340    11.605210 -11.665422\n",
       "0380     7.734156   1.162930\n",
       "03811    8.244345   0.877406\n",
       "03812    8.600551   0.538114\n",
       "03819    8.917855  -0.005611\n",
       "03840    9.302263   1.126356\n",
       "03842    7.652380   1.565716"
      ]
     },
     "execution_count": 322,
     "metadata": {},
     "output_type": "execute_result"
    }
   ],
   "source": [
    "plot_df.head(30)"
   ]
  },
  {
   "cell_type": "code",
   "execution_count": 245,
   "metadata": {
    "scrolled": true
   },
   "outputs": [],
   "source": [
    "groups = plot_df.groupby('ccs_lvl1')\n",
    "gkey = groups.size().sort_values(ascending=False).index"
   ]
  },
  {
   "cell_type": "code",
   "execution_count": 102,
   "metadata": {
    "collapsed": true
   },
   "outputs": [
    {
     "data": {
      "image/png": "[encoded data removed]",
      "text/plain": [
       "<Figure size 1296x1080 with 1 Axes>"
      ]
     },
     "metadata": {},
     "output_type": "display_data"
    }
   ],
   "source": [
    "fig, ax = plt.subplots(figsize=(18, 15))\n",
    "for name in gkey[:10]:\n",
    "    group = groups.get_group(name)\n",
    "    ax.scatter(group.x, group.y, marker='o', s=group.dot_size.values, label=name)\n",
    "    #plt.annotate(name, xy=(group.x.values, group.y.values), xytext=(group.x.values, group.y.values))\n",
    "ax.legend()\n",
    "plt.savefig('output/embed.png', dpi=200)"
   ]
  },
  {
   "cell_type": "code",
   "execution_count": 246,
   "metadata": {
    "collapsed": true
   },
   "outputs": [
    {
     "data": {
      "image/png": "[encoded data removed]",
      "text/plain": [
       "<Figure size 1296x1080 with 1 Axes>"
      ]
     },
     "metadata": {},
     "output_type": "display_data"
    }
   ],
   "source": [
    "fig, ax = plt.subplots(figsize=(18, 15))\n",
    "for name in gkey[:10]:\n",
    "    group = groups.get_group(name)\n",
    "    ax.scatter(group.x, group.y, marker='o', s=group.dot_size.values, label=name)\n",
    "    #plt.annotate(name, xy=(group.x.values, group.y.values), xytext=(group.x.values, group.y.values))\n",
    "ax.legend()\n",
    "plt.savefig('output/embed.png', dpi=200)"
   ]
  },
  {
   "cell_type": "code",
   "execution_count": 26,
   "metadata": {},
   "outputs": [],
   "source": [
    "bias_mat = g.get_bias_mat()"
   ]
  },
  {
   "cell_type": "code",
   "execution_count": 28,
   "metadata": {},
   "outputs": [],
   "source": [
    "all_freq = pd.concat([code_freq['DX1'], code_freq['DX'], code_freq['PR']], axis=0)"
   ]
  },
  {
   "cell_type": "code",
   "execution_count": 29,
   "metadata": {
    "scrolled": false
   },
   "outputs": [],
   "source": [
    "all_freq = all_freq.sort_index().drop(0)"
   ]
  },
  {
   "cell_type": "code",
   "execution_count": 30,
   "metadata": {},
   "outputs": [],
   "source": [
    "code_bias_mat = bias_mat[1:(len(DX1_cat)+len(DX_cat)+len(PR_cat)+1), :]"
   ]
  },
  {
   "cell_type": "code",
   "execution_count": 32,
   "metadata": {},
   "outputs": [
    {
     "data": {
      "text/plain": [
       "((2134, 1), (2134,))"
      ]
     },
     "execution_count": 32,
     "metadata": {},
     "output_type": "execute_result"
    }
   ],
   "source": [
    "code_bias_mat.shape, all_freq.shape"
   ]
  },
  {
   "cell_type": "code",
   "execution_count": 38,
   "metadata": {},
   "outputs": [],
   "source": [
    "from collections import defaultdict"
   ]
  },
  {
   "cell_type": "code",
   "execution_count": 39,
   "metadata": {},
   "outputs": [],
   "source": [
    "marg_dict = defaultdict(float)\n",
    "\n",
    "for _, row in cooccur_df.iterrows():\n",
    "    marg_dict[row.focal_index] += row.cooccur_counts\n",
    "    marg_dict[row.context_index] += row.cooccur_counts"
   ]
  },
  {
   "cell_type": "code",
   "execution_count": 51,
   "metadata": {},
   "outputs": [],
   "source": [
    "marg_freq = np.array(list(marg_dict.values()))"
   ]
  },
  {
   "cell_type": "code",
   "execution_count": 54,
   "metadata": {
    "collapsed": true
   },
   "outputs": [
    {
     "data": {
      "text/plain": [
       "<matplotlib.collections.PathCollection at 0x2b9297f50c18>"
      ]
     },
     "execution_count": 54,
     "metadata": {},
     "output_type": "execute_result"
    },
    {
     "data": {
      "image/png": "[encoded data removed]",
      "text/plain": [
       "<Figure size 432x288 with 1 Axes>"
      ]
     },
     "metadata": {},
     "output_type": "display_data"
    }
   ],
   "source": [
    "plt.scatter(code_bias_mat[:, 0], np.log(marg_freq))"
   ]
  },
  {
   "cell_type": "code",
   "execution_count": 56,
   "metadata": {
    "collapsed": true
   },
   "outputs": [
    {
     "data": {
      "text/plain": [
       "<matplotlib.collections.PathCollection at 0x2b929a170240>"
      ]
     },
     "execution_count": 56,
     "metadata": {},
     "output_type": "execute_result"
    },
    {
     "data": {
      "image/png": "[encoded data removed]",
      "text/plain": [
       "<Figure size 432x288 with 1 Axes>"
      ]
     },
     "metadata": {},
     "output_type": "display_data"
    }
   ],
   "source": [
    "plt.scatter(code_bias_mat[:, 0], np.log(all_freq.values))"
   ]
  },
  {
   "cell_type": "code",
   "execution_count": 57,
   "metadata": {},
   "outputs": [
    {
     "data": {
      "text/html": [
       "<div>\n",
       "<style scoped>\n",
       "    .dataframe tbody tr th:only-of-type {\n",
       "        vertical-align: middle;\n",
       "    }\n",
       "\n",
       "    .dataframe tbody tr th {\n",
       "        vertical-align: top;\n",
       "    }\n",
       "\n",
       "    .dataframe thead th {\n",
       "        text-align: right;\n",
       "    }\n",
       "</style>\n",
       "<table border=\"1\" class=\"dataframe\">\n",
       "  <thead>\n",
       "    <tr style=\"text-align: right;\">\n",
       "      <th></th>\n",
       "      <th>focal_index</th>\n",
       "      <th>context_index</th>\n",
       "      <th>cooccur_counts</th>\n",
       "    </tr>\n",
       "  </thead>\n",
       "  <tbody>\n",
       "    <tr>\n",
       "      <th>0</th>\n",
       "      <td>1151</td>\n",
       "      <td>604</td>\n",
       "      <td>2.0</td>\n",
       "    </tr>\n",
       "    <tr>\n",
       "      <th>1</th>\n",
       "      <td>1082</td>\n",
       "      <td>437</td>\n",
       "      <td>13.0</td>\n",
       "    </tr>\n",
       "    <tr>\n",
       "      <th>2</th>\n",
       "      <td>1428</td>\n",
       "      <td>153</td>\n",
       "      <td>11.0</td>\n",
       "    </tr>\n",
       "    <tr>\n",
       "      <th>3</th>\n",
       "      <td>1117</td>\n",
       "      <td>103</td>\n",
       "      <td>6.0</td>\n",
       "    </tr>\n",
       "    <tr>\n",
       "      <th>4</th>\n",
       "      <td>1006</td>\n",
       "      <td>901</td>\n",
       "      <td>3.0</td>\n",
       "    </tr>\n",
       "  </tbody>\n",
       "</table>\n",
       "</div>"
      ],
      "text/plain": [
       "   focal_index  context_index  cooccur_counts\n",
       "0         1151            604             2.0\n",
       "1         1082            437            13.0\n",
       "2         1428            153            11.0\n",
       "3         1117            103             6.0\n",
       "4         1006            901             3.0"
      ]
     },
     "execution_count": 57,
     "metadata": {},
     "output_type": "execute_result"
    }
   ],
   "source": [
    "cooccur_df.head()"
   ]
  },
  {
   "cell_type": "markdown",
   "metadata": {},
   "source": [
    "### Data formating"
   ]
  },
  {
   "cell_type": "code",
   "execution_count": 513,
   "metadata": {},
   "outputs": [],
   "source": [
    "DX1_cat = preprocessed['DX1_cat']\n",
    "DX_cat = preprocessed['DX_cat']\n",
    "PR_cat = preprocessed['PR_cat']\n",
    "DX1_dict = preprocessed['DX1_dict']\n",
    "DX_dict = preprocessed['DX_dict']\n",
    "PR_dict = preprocessed['PR_dict']\n",
    "code_cat = preprocessed['code_cat']\n",
    "hosp_cat = preprocessed['hosp_cat']\n",
    "age_mean = train_df0['AGE'].mean()\n",
    "age_std = train_df0['AGE'].std()\n",
    "los_mean = train_df0['LOS'].mean()\n",
    "los_std = train_df0['LOS'].std()\n",
    "\n",
    "DX1_array_tst = tst_df['DX1'].values\n",
    "DX_mat_tst = tst_df[DXs].values\n",
    "PR_mat_tst = tst_df[PRs].values\n",
    "\n",
    "hosp_array_tst = tst_df['HOSP_NRD'].values\n",
    "    \n",
    "demo_mat_tst = tst_df[['AGE', 'FEMALE']].values\n",
    "demo_mat_tst[:, 0] = (demo_mat_tst[:, 0]-age_mean)/age_std\n",
    "pay1_mat_tst = to_categorical(tst_df.PAY1.values)[:, 1:]\n",
    "los_array_tst = (tst_df.LOS.values - los_mean)/los_std\n",
    "ed_mat_tst = to_categorical(tst_df.HCUP_ED.values)\n",
    "zipinc_mat_tst = to_categorical(tst_df.ZIPINC_QRTL.values)[:, 1:]\n",
    "#transfer_mat_tst = to_categorical(tst_df.SAMEDAYEVENT.values)\n",
    "other_mat_tst = np.concatenate((demo_mat_tst, pay1_mat_tst, los_array_tst.reshape(los_array_tst.shape+(1,)), \n",
    "                                ed_mat_tst, zipinc_mat_tst), axis=1)\n",
    "y_true = tst_df.readm30.astype(int).values"
   ]
  },
  {
   "cell_type": "code",
   "execution_count": 514,
   "metadata": {},
   "outputs": [],
   "source": [
    "train_df = train_df0.copy()"
   ]
  },
  {
   "cell_type": "code",
   "execution_count": 515,
   "metadata": {},
   "outputs": [],
   "source": [
    "n_fold = 5"
   ]
  },
  {
   "cell_type": "code",
   "execution_count": 516,
   "metadata": {},
   "outputs": [],
   "source": [
    "skf = StratifiedKFold(n_splits=n_fold, random_state=24, shuffle=True)"
   ]
  },
  {
   "cell_type": "code",
   "execution_count": 517,
   "metadata": {},
   "outputs": [],
   "source": [
    "trn_idx, val_idx = next(skf.split(train_df, train_df0.HOSP_NRD))"
   ]
  },
  {
   "cell_type": "code",
   "execution_count": 518,
   "metadata": {},
   "outputs": [],
   "source": [
    "DX1_array_train = train_df['DX1'].values\n",
    "            \n",
    "DX1_array_trn = DX1_array_train[trn_idx]\n",
    "DX1_array_val = DX1_array_train[val_idx]\n",
    "\n",
    "DX_mat_train = train_df[DXs].values\n",
    "            \n",
    "DX_mat_trn = DX_mat_train[trn_idx, :]\n",
    "DX_mat_val = DX_mat_train[val_idx, :]\n",
    "\n",
    "PR_mat_train = train_df[PRs].values\n",
    "            \n",
    "PR_mat_trn = PR_mat_train[trn_idx, :]\n",
    "PR_mat_val = PR_mat_train[val_idx, :]"
   ]
  },
  {
   "cell_type": "code",
   "execution_count": 519,
   "metadata": {},
   "outputs": [],
   "source": [
    "hosp_array_train = train_df['HOSP_NRD'].values\n",
    "    \n",
    "hosp_array_trn = hosp_array_train[trn_idx]\n",
    "hosp_array_val = hosp_array_train[val_idx]"
   ]
  },
  {
   "cell_type": "code",
   "execution_count": 520,
   "metadata": {},
   "outputs": [],
   "source": [
    "demo_mat_train = train_df[['AGE', 'FEMALE']].values\n",
    "demo_mat_train[:, 0] = (demo_mat_train[:, 0]-age_mean)/age_std\n",
    "pay1_mat_train = to_categorical(train_df.PAY1.values)[:, 1:]\n",
    "los_array_train = (train_df.LOS.values - los_mean)/los_std\n",
    "ed_mat_train = to_categorical(train_df.HCUP_ED.values)\n",
    "zipinc_mat_train = to_categorical(train_df.ZIPINC_QRTL.values)[:, 1:]\n",
    "#transfer_mat_train = to_categorical(train_df.SAMEDAYEVENT.values)\n",
    "other_mat_train = np.concatenate((demo_mat_train, pay1_mat_train, los_array_train.reshape(los_array_train.shape+(1,)), \n",
    "                                ed_mat_train, zipinc_mat_train), axis=1)\n",
    "\n",
    "other_mat_trn = other_mat_train[trn_idx, :]\n",
    "other_mat_val = other_mat_train[val_idx, :]\n",
    "\n",
    "y_train = train_df.readm30.astype(int).values\n",
    "y_trn = y_train[trn_idx]\n",
    "y_val = y_train[val_idx]\n",
    "Y_trn = to_categorical(y_train[trn_idx])\n",
    "Y_val = to_categorical(y_train[val_idx])"
   ]
  },
  {
   "cell_type": "markdown",
   "metadata": {},
   "source": [
    "### Model Building"
   ]
  },
  {
   "cell_type": "code",
   "execution_count": 99,
   "metadata": {},
   "outputs": [],
   "source": [
    "from setsum_layer import SetSum, MaskedSum, MaskedDense, MaskedPooling"
   ]
  },
  {
   "cell_type": "code",
   "execution_count": 30,
   "metadata": {},
   "outputs": [],
   "source": [
    "from keras_multi_head import MultiHeadAttention"
   ]
  },
  {
   "cell_type": "code",
   "execution_count": 211,
   "metadata": {},
   "outputs": [],
   "source": [
    "code_embed_dim = 100\n",
    "md_width = 64\n",
    "fc_width = 512\n",
    "hosp_embed_dim = 1\n",
    "dropout = 0.3\n",
    "job_index = 0\n",
    "batchsize = 512"
   ]
  },
  {
   "cell_type": "code",
   "execution_count": 114,
   "metadata": {},
   "outputs": [],
   "source": [
    "n_heads = 8\n",
    "n_att_layers = 24"
   ]
  },
  {
   "cell_type": "code",
   "execution_count": 521,
   "metadata": {},
   "outputs": [],
   "source": [
    "embed_initializer = Constant(embed_mat)"
   ]
  },
  {
   "cell_type": "code",
   "execution_count": 130,
   "metadata": {},
   "outputs": [],
   "source": [
    "embed_initializer = 'uniform'"
   ]
  },
  {
   "cell_type": "markdown",
   "metadata": {},
   "source": [
    "Model building: \n",
    "- setsum_nn \n",
    "- setsum_lr\n",
    "- embed_sum\n",
    "- embed_pool"
   ]
  },
  {
   "cell_type": "code",
   "execution_count": 102,
   "metadata": {},
   "outputs": [],
   "source": [
    "model_name = 'setsum_nn'"
   ]
  },
  {
   "cell_type": "code",
   "execution_count": 522,
   "metadata": {},
   "outputs": [],
   "source": [
    "input_DX1 = Input(shape=(1,))\n",
    "DX1_embed = Embedding(input_dim=len(code_cat), output_dim=code_embed_dim, embeddings_initializer=embed_initializer, \n",
    "                      name='DX1_embed')(input_DX1)\n",
    "DX1_embed = Reshape((code_embed_dim,))(DX1_embed)\n",
    "input_DX = Input(shape = (len(DXs),))\n",
    "DX_embed = Embedding(input_dim=len(code_cat), output_dim=code_embed_dim, mask_zero=True, embeddings_initializer=embed_initializer, \n",
    "                     name='DX_embed')(input_DX)\n",
    "if model_name=='setsum_nn' or 'setsum_lr':\n",
    "    DX_embed = MaskedDense(md_width, activation='relu')(DX_embed)\n",
    "    DX_embed = MaskedSum()(DX_embed)\n",
    "elif model_name=='embed_sum':\n",
    "    DX_embed = MaskedSum()(DX_embed)\n",
    "elif model_name=='embed_pool':\n",
    "    DX_embed = MaskedPooling()(DX_embed)\n",
    "input_PR = Input(shape = (len(PRs),))\n",
    "PR_embed = Embedding(input_dim=len(code_cat), output_dim=code_embed_dim, mask_zero=True, embeddings_initializer=embed_initializer, \n",
    "                     name='PR_embed')(input_PR)\n",
    "if model_name=='setsum_nn' or 'setsum_lr':\n",
    "    PR_embed = MaskedDense(md_width, activation='relu')(PR_embed)\n",
    "    PR_embed = MaskedSum()(PR_embed)\n",
    "elif model_name=='embed_sum':\n",
    "    PR_embed = MaskedSum()(PR_embed)\n",
    "elif model_name=='embed_pool':\n",
    "    PR_embed = MaskedPooling()(PR_embed)\n",
    "input_hosp = Input(shape=(1,))\n",
    "hosp_embed = Embedding(input_dim=len(hosp_cat), output_dim=hosp_embed_dim, input_length=1)(input_hosp)\n",
    "hosp_embed = Reshape((hosp_embed_dim, ))(hosp_embed)\n",
    "input_other = Input(shape=(other_mat_train.shape[1], ))\n",
    "merged = Concatenate(axis=1)([DX1_embed, DX_embed, PR_embed, hosp_embed, input_other])\n",
    "if model_name=='setsum_nn':\n",
    "    merged = Dense(fc_width, activation='relu')(merged)\n",
    "    merged = Dropout(dropout)(merged)\n",
    "prediction = Dense(2, activation='softmax')(merged)\n",
    "model = Model(inputs=[input_DX1, input_DX, input_PR, input_hosp, input_other], outputs=prediction)"
   ]
  },
  {
   "cell_type": "markdown",
   "metadata": {},
   "source": [
    "Trying multi-head attention:"
   ]
  },
  {
   "cell_type": "code",
   "execution_count": 115,
   "metadata": {},
   "outputs": [],
   "source": [
    "input_DX1 = Input(shape=(1,))\n",
    "DX1_embed = Embedding(input_dim=len(code_cat), output_dim=code_embed_dim, mask_zero=True, embeddings_initializer=embed_initializer, \n",
    "                      name='DX1_embed')(input_DX1)\n",
    "#DX1_embed = Reshape((code_embed_dim,))(DX1_embed)\n",
    "\n",
    "input_DX = Input(shape = (len(DXs),))\n",
    "DX_embed = Embedding(input_dim=len(code_cat), output_dim=code_embed_dim, mask_zero=True, embeddings_initializer=embed_initializer, \n",
    "                     name='DX_embed')(input_DX)\n",
    "\n",
    "input_PR = Input(shape = (len(PRs),))\n",
    "PR_embed = Embedding(input_dim=len(code_cat), output_dim=code_embed_dim, mask_zero=True, embeddings_initializer=embed_initializer, \n",
    "                     name='PR_embed')(input_PR)\n",
    "\n",
    "code_embed = Concatenate(axis=1)([DX1_embed, DX_embed, PR_embed])\n",
    "for j in range(n_att_layers):\n",
    "    att = MultiHeadAttention(head_num=n_heads, use_bias=False, activation='linear')(code_embed)\n",
    "    code_embed = Add()([code_embed, att])\n",
    "    #code_embed = Dropout(0.3)(code_embed)\n",
    "    #code_embed = MultiHeadAttention(head_num=n_heads, use_bias=False, activation='linear')(code_embed)\n",
    "    code_embed = BatchNormalization()(code_embed)\n",
    "#code_embed = MaskedSum()(code_embed)\n",
    "code_embed = Lambda(lambda x:x[:, 0, :])(code_embed)\n",
    "#DX_embed = Reshape((1, code_embed_dim))(DX_embed)\n",
    "\n",
    "input_hosp = Input(shape=(1,))\n",
    "hosp_embed = Embedding(input_dim=len(hosp_cat), output_dim=hosp_embed_dim, input_length=1)(input_hosp)\n",
    "hosp_embed = Reshape((hosp_embed_dim, ))(hosp_embed)\n",
    "input_other = Input(shape=(other_mat_train.shape[1], ))\n",
    "merged = Concatenate(axis=1)([code_embed, hosp_embed, input_other])\n",
    "#merged = Dense(fc_width, activation='relu')(merged)\n",
    "#merged = Dropout(dropout)(merged)\n",
    "prediction = Dense(2, activation='softmax')(merged)\n",
    "model = Model(inputs=[input_DX1, input_DX, input_PR, input_hosp, input_other], outputs=prediction)"
   ]
  },
  {
   "cell_type": "code",
   "execution_count": 523,
   "metadata": {
    "scrolled": true
   },
   "outputs": [],
   "source": [
    "for l in model.layers:\n",
    "    if l.name=='DX_embed' or l.name=='PR_embed' or l.name=='DX1_embed':\n",
    "        l.trainable = False"
   ]
  },
  {
   "cell_type": "code",
   "execution_count": 524,
   "metadata": {},
   "outputs": [],
   "source": [
    "adam = Adam(lr=0.0002)\n",
    "model.compile(optimizer=adam, loss='categorical_crossentropy')"
   ]
  },
  {
   "cell_type": "code",
   "execution_count": 530,
   "metadata": {
    "scrolled": true
   },
   "outputs": [],
   "source": [
    "for l in model.layers:\n",
    "    if l.name=='DX_embed' or l.name=='PR_embed' or l.name=='DX1_embed':\n",
    "        l.trainable = True"
   ]
  },
  {
   "cell_type": "code",
   "execution_count": 531,
   "metadata": {},
   "outputs": [],
   "source": [
    "adam = Adam(lr=0.00002)\n",
    "model.compile(optimizer=adam, loss='categorical_crossentropy')"
   ]
  },
  {
   "cell_type": "code",
   "execution_count": 532,
   "metadata": {},
   "outputs": [],
   "source": [
    "auccheckpoint = AUCCheckPoint(filepath=model_path+'embeding_nn_temp'+str(job_index)+'.h5', validation_y=Y_val[:, 1], \n",
    "                                 validation_x=[DX1_array_val, DX_mat_val, PR_mat_val, hosp_array_val, other_mat_val])\n",
    "reduce_lr = ReduceLROnPlateau(monitor='val_loss', factor=0.2, patience=5, min_lr=K.epsilon())\n",
    "earlystop = EarlyStopping(monitor='val_loss', patience=20)"
   ]
  },
  {
   "cell_type": "code",
   "execution_count": 454,
   "metadata": {},
   "outputs": [],
   "source": [
    "class_weight = {0:(Y_trn.shape[0]/sum(Y_trn[:, 0])), 1:(Y_trn.shape[0]/sum(Y_trn[:, 1]))}"
   ]
  },
  {
   "cell_type": "code",
   "execution_count": 533,
   "metadata": {
    "scrolled": true
   },
   "outputs": [
    {
     "name": "stdout",
     "output_type": "stream",
     "text": [
      "Train on 62090 samples, validate on 15976 samples\n",
      "Epoch 1/30\n",
      "62090/62090 [==============================] - 6s 104us/step - loss: 0.3077 - val_loss: 0.3170\n",
      "AUC: 0.7102\n",
      "\n",
      "Epoch 2/30\n",
      "62090/62090 [==============================] - 2s 25us/step - loss: 0.3075 - val_loss: 0.3171\n",
      "AUC: 0.7104\n",
      "\n",
      "Epoch 3/30\n",
      "62090/62090 [==============================] - 1s 23us/step - loss: 0.3072 - val_loss: 0.3171\n",
      "AUC: 0.7105\n",
      "\n",
      "Epoch 4/30\n",
      "62090/62090 [==============================] - 1s 24us/step - loss: 0.3070 - val_loss: 0.3172\n",
      "AUC: 0.7103\n",
      "\n",
      "Epoch 5/30\n",
      "62090/62090 [==============================] - 1s 24us/step - loss: 0.3063 - val_loss: 0.3171\n",
      "AUC: 0.7104\n",
      "\n",
      "Epoch 6/30\n",
      "62090/62090 [==============================] - 1s 23us/step - loss: 0.3060 - val_loss: 0.3171\n",
      "AUC: 0.7107\n",
      "\n",
      "Epoch 7/30\n",
      "62090/62090 [==============================] - 1s 24us/step - loss: 0.3056 - val_loss: 0.3172\n",
      "AUC: 0.7106\n",
      "\n",
      "Epoch 8/30\n",
      "62090/62090 [==============================] - 1s 23us/step - loss: 0.3055 - val_loss: 0.3172\n",
      "AUC: 0.7106\n",
      "\n",
      "Epoch 9/30\n",
      "62090/62090 [==============================] - 1s 24us/step - loss: 0.3053 - val_loss: 0.3172\n",
      "AUC: 0.7105\n",
      "\n",
      "Epoch 10/30\n",
      "62090/62090 [==============================] - 1s 24us/step - loss: 0.3057 - val_loss: 0.3172\n",
      "AUC: 0.7105\n",
      "\n",
      "Epoch 11/30\n",
      "62090/62090 [==============================] - 1s 23us/step - loss: 0.3058 - val_loss: 0.3173\n",
      "AUC: 0.7105\n",
      "\n",
      "Epoch 12/30\n",
      "62090/62090 [==============================] - 1s 23us/step - loss: 0.3053 - val_loss: 0.3172\n",
      "AUC: 0.7105\n",
      "\n",
      "Epoch 13/30\n",
      "62090/62090 [==============================] - 1s 23us/step - loss: 0.3053 - val_loss: 0.3172\n",
      "AUC: 0.7105\n",
      "\n",
      "Epoch 14/30\n",
      "62090/62090 [==============================] - 1s 24us/step - loss: 0.3059 - val_loss: 0.3172\n",
      "AUC: 0.7105\n",
      "\n",
      "Epoch 15/30\n",
      "62090/62090 [==============================] - 1s 24us/step - loss: 0.3054 - val_loss: 0.3171\n",
      "AUC: 0.7105\n",
      "\n",
      "Epoch 16/30\n",
      "62090/62090 [==============================] - 2s 25us/step - loss: 0.3059 - val_loss: 0.3171\n",
      "AUC: 0.7105\n",
      "\n",
      "Epoch 17/30\n",
      "62090/62090 [==============================] - 1s 24us/step - loss: 0.3057 - val_loss: 0.3171\n",
      "AUC: 0.7105\n",
      "\n",
      "Epoch 18/30\n",
      "62090/62090 [==============================] - 2s 24us/step - loss: 0.3053 - val_loss: 0.3171\n",
      "AUC: 0.7105\n",
      "\n",
      "Epoch 19/30\n",
      "62090/62090 [==============================] - 2s 25us/step - loss: 0.3055 - val_loss: 0.3171\n",
      "AUC: 0.7105\n",
      "\n",
      "Epoch 20/30\n",
      "62090/62090 [==============================] - 1s 24us/step - loss: 0.3058 - val_loss: 0.3171\n",
      "AUC: 0.7105\n",
      "\n",
      "Epoch 21/30\n",
      "62090/62090 [==============================] - 1s 24us/step - loss: 0.3056 - val_loss: 0.3171\n",
      "AUC: 0.7105\n",
      "\n"
     ]
    }
   ],
   "source": [
    "hist = model.fit([DX1_array_trn, DX_mat_trn, PR_mat_trn, hosp_array_trn, other_mat_trn], Y_trn, \n",
    "                     batch_size=batchsize, epochs=30, callbacks=[auccheckpoint, reduce_lr, earlystop], \n",
    "                     validation_data=[[DX1_array_val, DX_mat_val, PR_mat_val, hosp_array_val, other_mat_val], Y_val], \n",
    "                    verbose=1)"
   ]
  },
  {
   "cell_type": "code",
   "execution_count": 105,
   "metadata": {
    "scrolled": true
   },
   "outputs": [
    {
     "data": {
      "text/plain": [
       "[<matplotlib.lines.Line2D at 0x2b36a7cb3c18>]"
      ]
     },
     "execution_count": 105,
     "metadata": {},
     "output_type": "execute_result"
    },
    {
     "data": {
      "image/png": "[encoded data removed]",
      "text/plain": [
       "<Figure size 432x288 with 1 Axes>"
      ]
     },
     "metadata": {},
     "output_type": "display_data"
    }
   ],
   "source": [
    "plt.plot(hist.history['val_loss'])"
   ]
  },
  {
   "cell_type": "code",
   "execution_count": 106,
   "metadata": {
    "scrolled": false
   },
   "outputs": [
    {
     "data": {
      "text/plain": [
       "[<matplotlib.lines.Line2D at 0x2b36a7cf4b38>]"
      ]
     },
     "execution_count": 106,
     "metadata": {},
     "output_type": "execute_result"
    },
    {
     "data": {
      "image/png": "[encoded data removed]",
      "text/plain": [
       "<Figure size 432x288 with 1 Axes>"
      ]
     },
     "metadata": {},
     "output_type": "display_data"
    }
   ],
   "source": [
    "plt.plot(auccheckpoint.auc_history)"
   ]
  },
  {
   "cell_type": "code",
   "execution_count": 534,
   "metadata": {},
   "outputs": [],
   "source": [
    "model.load_weights(model_path+'embeding_nn_temp'+str(job_index)+'.h5')"
   ]
  },
  {
   "cell_type": "code",
   "execution_count": 535,
   "metadata": {},
   "outputs": [
    {
     "name": "stdout",
     "output_type": "stream",
     "text": [
      "9136/9136 [==============================] - 1s 65us/step\n"
     ]
    }
   ],
   "source": [
    "y = model.predict([DX1_array_tst, DX_mat_tst, PR_mat_tst, hosp_array_tst, other_mat_tst], verbose=1)\n",
    "\n",
    "y_pred = y[:, 1]\n",
    "y_true = tst_df.readm30.astype(int).values"
   ]
  },
  {
   "cell_type": "code",
   "execution_count": 536,
   "metadata": {
    "scrolled": true
   },
   "outputs": [
    {
     "data": {
      "text/plain": [
       "{0: 0.7176888576409813}"
      ]
     },
     "execution_count": 536,
     "metadata": {},
     "output_type": "execute_result"
    },
    {
     "data": {
      "image/png": "[encoded data removed]",
      "text/plain": [
       "<Figure size 432x288 with 1 Axes>"
      ]
     },
     "metadata": {},
     "output_type": "display_data"
    }
   ],
   "source": [
    "plot_roc(y_pred, y_true)"
   ]
  },
  {
   "cell_type": "code",
   "execution_count": 170,
   "metadata": {},
   "outputs": [],
   "source": [
    "for l in model.layers:\n",
    "    if l.name=='DX_embed':\n",
    "        embed_mat_trained = l.get_weights()[0]"
   ]
  },
  {
   "cell_type": "markdown",
   "metadata": {},
   "source": [
    "### Less predictors"
   ]
  },
  {
   "cell_type": "code",
   "execution_count": 248,
   "metadata": {},
   "outputs": [],
   "source": [
    "model_name = 'setsum_nn'"
   ]
  },
  {
   "cell_type": "code",
   "execution_count": 274,
   "metadata": {},
   "outputs": [],
   "source": [
    "embed_initializer = 'uniform'"
   ]
  },
  {
   "cell_type": "code",
   "execution_count": 249,
   "metadata": {},
   "outputs": [],
   "source": [
    "embed_initializer = Constant(embed_mat)"
   ]
  },
  {
   "cell_type": "code",
   "execution_count": 250,
   "metadata": {},
   "outputs": [],
   "source": [
    "code_embed_dim = 100\n",
    "md_width = 128"
   ]
  },
  {
   "cell_type": "code",
   "execution_count": 286,
   "metadata": {},
   "outputs": [],
   "source": [
    "input_DX1 = Input(shape=(1,))\n",
    "DX1_embed = Embedding(input_dim=len(code_cat), output_dim=code_embed_dim, embeddings_initializer=embed_initializer, \n",
    "                      name='DX1_embed')(input_DX1)\n",
    "DX1_embed = Reshape((code_embed_dim,))(DX1_embed)\n",
    "input_DX = Input(shape = (len(DXs),))\n",
    "DX_embed = Embedding(input_dim=len(code_cat), output_dim=code_embed_dim, mask_zero=True, embeddings_initializer=embed_initializer, \n",
    "                     name='DX_embed')(input_DX)\n",
    "if model_name=='setsum_nn' or 'setsum_lr':\n",
    "    DX_embed = MaskedDense(md_width, activation='relu')(DX_embed)\n",
    "    DX_embed = MaskedSum()(DX_embed)\n",
    "elif model_name=='embed_sum':\n",
    "    DX_embed = MaskedSum()(DX_embed)\n",
    "elif model_name=='embed_pool':\n",
    "    DX_embed = MaskedPooling()(DX_embed)\n",
    "input_PR = Input(shape = (len(PRs),))\n",
    "PR_embed = Embedding(input_dim=len(code_cat), output_dim=code_embed_dim, mask_zero=True, embeddings_initializer=embed_initializer, \n",
    "                     name='PR_embed')(input_PR)\n",
    "if model_name=='setsum_nn' or 'setsum_lr':\n",
    "    PR_embed = MaskedDense(md_width, activation='relu')(PR_embed)\n",
    "    PR_embed = MaskedSum()(PR_embed)\n",
    "elif model_name=='embed_sum':\n",
    "    PR_embed = MaskedSum()(PR_embed)\n",
    "elif model_name=='embed_pool':\n",
    "    PR_embed = MaskedPooling()(PR_embed)\n",
    "input_hosp = Input(shape=(1,))\n",
    "hosp_embed = Embedding(input_dim=len(hosp_cat), output_dim=hosp_embed_dim, input_length=1)(input_hosp)\n",
    "hosp_embed = Reshape((hosp_embed_dim, ))(hosp_embed)\n",
    "input_other = Input(shape=(other_mat_train.shape[1], ))\n",
    "merged = Concatenate(axis=1)([DX1_embed, DX_embed, PR_embed, hosp_embed])\n",
    "if model_name=='setsum_nn':\n",
    "    merged = Dense(fc_width, activation='relu')(merged)\n",
    "    merged = Dropout(dropout)(merged)\n",
    "prediction = Dense(2, activation='softmax')(merged)\n",
    "model = Model(inputs=[input_DX1, input_DX, input_PR, input_hosp], outputs=prediction)"
   ]
  },
  {
   "cell_type": "code",
   "execution_count": 287,
   "metadata": {
    "scrolled": true
   },
   "outputs": [],
   "source": [
    "for l in model.layers:\n",
    "    if l.name=='DX_embed' or l.name=='PR_embed':\n",
    "        l.trainable = False"
   ]
  },
  {
   "cell_type": "code",
   "execution_count": 288,
   "metadata": {},
   "outputs": [],
   "source": [
    "adam = Adam(lr=0.0002)\n",
    "model.compile(optimizer=adam, loss='categorical_crossentropy')"
   ]
  },
  {
   "cell_type": "code",
   "execution_count": 289,
   "metadata": {},
   "outputs": [],
   "source": [
    "auccheckpoint = AUCCheckPoint(filepath=model_path+'embeding_nn_temp'+str(job_index)+'.h5', validation_y=Y_val[:, 1], \n",
    "                                 validation_x=[DX1_array_val, DX_mat_val, PR_mat_val, hosp_array_val])\n",
    "reduce_lr = ReduceLROnPlateau(monitor='val_loss', factor=0.2, patience=10, min_lr=K.epsilon())\n",
    "earlystop = EarlyStopping(monitor='val_loss', patience=20)"
   ]
  },
  {
   "cell_type": "code",
   "execution_count": 290,
   "metadata": {},
   "outputs": [],
   "source": [
    "class_weight = {0:(Y_trn.shape[0]/sum(Y_trn[:, 0])), 1:(Y_trn.shape[0]/sum(Y_trn[:, 1]))}"
   ]
  },
  {
   "cell_type": "code",
   "execution_count": 291,
   "metadata": {
    "scrolled": true
   },
   "outputs": [
    {
     "name": "stdout",
     "output_type": "stream",
     "text": [
      "Train on 133832 samples, validate on 34009 samples\n",
      "Epoch 1/30\n",
      "133832/133832 [==============================] - 4s 27us/step - loss: 1.2962 - val_loss: 0.6593\n",
      "AUC: 0.6928\n",
      "\n",
      "Epoch 2/30\n",
      "133832/133832 [==============================] - 2s 14us/step - loss: 1.2701 - val_loss: 0.6217\n",
      "AUC: 0.6995\n",
      "\n",
      "Epoch 3/30\n",
      "133832/133832 [==============================] - 2s 14us/step - loss: 1.2605 - val_loss: 0.6324\n",
      "AUC: 0.7031\n",
      "\n",
      "Epoch 4/30\n",
      "133832/133832 [==============================] - 2s 15us/step - loss: 1.2536 - val_loss: 0.6406\n",
      "AUC: 0.7056\n",
      "\n",
      "Epoch 5/30\n",
      "133832/133832 [==============================] - 2s 15us/step - loss: 1.2472 - val_loss: 0.5979\n",
      "AUC: 0.7069\n",
      "\n",
      "Epoch 6/30\n",
      "133832/133832 [==============================] - 2s 15us/step - loss: 1.2405 - val_loss: 0.6093\n",
      "AUC: 0.7078\n",
      "\n",
      "Epoch 7/30\n",
      "133832/133832 [==============================] - 2s 14us/step - loss: 1.2342 - val_loss: 0.5931\n",
      "AUC: 0.7070\n",
      "\n",
      "Epoch 8/30\n",
      "133832/133832 [==============================] - 2s 14us/step - loss: 1.2295 - val_loss: 0.6434\n",
      "AUC: 0.7056\n",
      "\n",
      "Epoch 9/30\n",
      "133832/133832 [==============================] - 2s 14us/step - loss: 1.2267 - val_loss: 0.6237\n",
      "AUC: 0.7074\n",
      "\n",
      "Epoch 10/30\n",
      "133832/133832 [==============================] - 2s 14us/step - loss: 1.2235 - val_loss: 0.6480\n",
      "AUC: 0.7064\n",
      "\n",
      "Epoch 11/30\n",
      "133832/133832 [==============================] - 2s 14us/step - loss: 1.2197 - val_loss: 0.6378\n",
      "AUC: 0.7034\n",
      "\n",
      "Epoch 12/30\n",
      "133832/133832 [==============================] - 2s 15us/step - loss: 1.2182 - val_loss: 0.6534\n",
      "AUC: 0.7062\n",
      "\n",
      "Epoch 13/30\n",
      "133832/133832 [==============================] - 2s 15us/step - loss: 1.2166 - val_loss: 0.5781\n",
      "AUC: 0.7019\n",
      "\n",
      "Epoch 14/30\n",
      "133832/133832 [==============================] - 2s 15us/step - loss: 1.2132 - val_loss: 0.5593\n",
      "AUC: 0.7060\n",
      "\n",
      "Epoch 15/30\n",
      "133832/133832 [==============================] - 2s 15us/step - loss: 1.2111 - val_loss: 0.6014\n",
      "AUC: 0.7045\n",
      "\n",
      "Epoch 16/30\n",
      "133832/133832 [==============================] - 2s 15us/step - loss: 1.2099 - val_loss: 0.6084\n",
      "AUC: 0.7058\n",
      "\n",
      "Epoch 17/30\n",
      "133832/133832 [==============================] - 2s 14us/step - loss: 1.2068 - val_loss: 0.5815\n",
      "AUC: 0.7033\n",
      "\n",
      "Epoch 18/30\n",
      "133832/133832 [==============================] - 2s 14us/step - loss: 1.2059 - val_loss: 0.5920\n",
      "AUC: 0.7051\n",
      "\n",
      "Epoch 19/30\n",
      "133832/133832 [==============================] - 2s 15us/step - loss: 1.2045 - val_loss: 0.5644\n",
      "AUC: 0.7040\n",
      "\n",
      "Epoch 20/30\n",
      "133832/133832 [==============================] - 2s 14us/step - loss: 1.2027 - val_loss: 0.6276\n",
      "AUC: 0.7026\n",
      "\n",
      "Epoch 21/30\n",
      "133832/133832 [==============================] - 2s 14us/step - loss: 1.2005 - val_loss: 0.6109\n",
      "AUC: 0.7045\n",
      "\n",
      "Epoch 22/30\n",
      "133832/133832 [==============================] - 2s 14us/step - loss: 1.1991 - val_loss: 0.6190\n",
      "AUC: 0.7025\n",
      "\n",
      "Epoch 23/30\n",
      "133832/133832 [==============================] - 2s 14us/step - loss: 1.1969 - val_loss: 0.6040\n",
      "AUC: 0.7028\n",
      "\n",
      "Epoch 24/30\n",
      "133832/133832 [==============================] - 2s 14us/step - loss: 1.1947 - val_loss: 0.6066\n",
      "AUC: 0.7033\n",
      "\n",
      "Epoch 25/30\n",
      "133832/133832 [==============================] - 2s 14us/step - loss: 1.1888 - val_loss: 0.6322\n",
      "AUC: 0.7019\n",
      "\n",
      "Epoch 26/30\n",
      "133832/133832 [==============================] - 2s 14us/step - loss: 1.1875 - val_loss: 0.6172\n",
      "AUC: 0.7006\n",
      "\n",
      "Epoch 27/30\n",
      "133832/133832 [==============================] - 2s 14us/step - loss: 1.1872 - val_loss: 0.6272\n",
      "AUC: 0.7016\n",
      "\n",
      "Epoch 28/30\n",
      "133832/133832 [==============================] - 2s 14us/step - loss: 1.1863 - val_loss: 0.6217\n",
      "AUC: 0.7010\n",
      "\n",
      "Epoch 29/30\n",
      "133832/133832 [==============================] - 2s 14us/step - loss: 1.1860 - val_loss: 0.6304\n",
      "AUC: 0.7007\n",
      "\n",
      "Epoch 30/30\n",
      "133832/133832 [==============================] - 2s 14us/step - loss: 1.1850 - val_loss: 0.6039\n",
      "AUC: 0.6998\n",
      "\n"
     ]
    }
   ],
   "source": [
    "hist = model.fit([DX1_array_trn, DX_mat_trn, PR_mat_trn, hosp_array_trn], Y_trn, \n",
    "                     batch_size=batchsize, epochs=30, callbacks=[auccheckpoint, reduce_lr, earlystop], class_weight=class_weight, \n",
    "                     validation_data=[[DX1_array_val, DX_mat_val, PR_mat_val, hosp_array_val], Y_val], \n",
    "                    verbose=1)"
   ]
  },
  {
   "cell_type": "code",
   "execution_count": 292,
   "metadata": {
    "scrolled": true
   },
   "outputs": [
    {
     "data": {
      "text/plain": [
       "[<matplotlib.lines.Line2D at 0x2b8b532ff0f0>]"
      ]
     },
     "execution_count": 292,
     "metadata": {},
     "output_type": "execute_result"
    },
    {
     "data": {
      "image/png": "[encoded data removed]",
      "text/plain": [
       "<Figure size 432x288 with 1 Axes>"
      ]
     },
     "metadata": {},
     "output_type": "display_data"
    }
   ],
   "source": [
    "plt.plot(hist.history['val_loss'])"
   ]
  },
  {
   "cell_type": "code",
   "execution_count": 293,
   "metadata": {
    "scrolled": false
   },
   "outputs": [
    {
     "data": {
      "text/plain": [
       "[<matplotlib.lines.Line2D at 0x2b8b4e963f28>]"
      ]
     },
     "execution_count": 293,
     "metadata": {},
     "output_type": "execute_result"
    },
    {
     "data": {
      "image/png": "[encoded data removed]",
      "text/plain": [
       "<Figure size 432x288 with 1 Axes>"
      ]
     },
     "metadata": {},
     "output_type": "display_data"
    }
   ],
   "source": [
    "plt.plot(auccheckpoint.auc_history)"
   ]
  },
  {
   "cell_type": "code",
   "execution_count": 294,
   "metadata": {},
   "outputs": [],
   "source": [
    "model.load_weights(model_path+'embeding_nn_temp'+str(job_index)+'.h5')"
   ]
  },
  {
   "cell_type": "code",
   "execution_count": 295,
   "metadata": {},
   "outputs": [
    {
     "name": "stdout",
     "output_type": "stream",
     "text": [
      "19214/19214 [==============================] - 1s 50us/step\n"
     ]
    }
   ],
   "source": [
    "y = model.predict([DX1_array_tst, DX_mat_tst, PR_mat_tst, hosp_array_tst], verbose=1)\n",
    "\n",
    "y_pred = y[:, 1]\n",
    "y_true = tst_df.readm30.astype(int).values"
   ]
  },
  {
   "cell_type": "code",
   "execution_count": 296,
   "metadata": {
    "scrolled": false
   },
   "outputs": [
    {
     "data": {
      "text/plain": [
       "{0: 0.701814176877337}"
      ]
     },
     "execution_count": 296,
     "metadata": {},
     "output_type": "execute_result"
    },
    {
     "data": {
      "image/png": "[encoded data removed]",
      "text/plain": [
       "<Figure size 432x288 with 1 Axes>"
      ]
     },
     "metadata": {},
     "output_type": "display_data"
    }
   ],
   "source": [
    "plot_roc(y_pred, y_true)"
   ]
  },
  {
   "cell_type": "markdown",
   "metadata": {},
   "source": [
    "## Train with One-Hot-Encoding"
   ]
  },
  {
   "cell_type": "code",
   "execution_count": 12,
   "metadata": {},
   "outputs": [],
   "source": [
    "DX1_cat = preprocessed['DX1_cat']\n",
    "DX_cat = preprocessed['DX_cat']\n",
    "PR_cat = preprocessed['PR_cat']\n",
    "DX1_dict = preprocessed['DX1_dict']\n",
    "DX_dict = preprocessed['DX_dict']\n",
    "PR_dict = preprocessed['PR_dict']\n",
    "code_cat = preprocessed['code_cat']\n",
    "hosp_cat = preprocessed['hosp_cat']\n",
    "age_mean = train_df0['AGE'].mean()\n",
    "age_std = train_df0['AGE'].std()\n",
    "los_mean = train_df0['LOS'].mean()\n",
    "los_std = train_df0['LOS'].std()"
   ]
  },
  {
   "cell_type": "code",
   "execution_count": 13,
   "metadata": {},
   "outputs": [],
   "source": [
    "code_mat_tst = tst_df[['DX1']+DXs+PRs].values\n",
    "code_ohe_tst = np.zeros((len(tst_df), len(code_cat)))\n",
    "for i in range(code_mat_tst.shape[0]):\n",
    "    for j in range(code_mat_tst.shape[1]):\n",
    "        if not code_mat_tst[i,j]==0:\n",
    "            code_ohe_tst[i, code_mat_tst[i,j]] = 1."
   ]
  },
  {
   "cell_type": "code",
   "execution_count": 14,
   "metadata": {},
   "outputs": [],
   "source": [
    "hosp_array_tst = tst_df['HOSP_NRD'].values\n",
    "hosp_ohe_tst = np.zeros((len(tst_df), len(hosp_cat)))\n",
    "for j, hosp in enumerate(hosp_array_tst):\n",
    "    hosp_ohe_tst[j, hosp] = 1."
   ]
  },
  {
   "cell_type": "code",
   "execution_count": 15,
   "metadata": {},
   "outputs": [],
   "source": [
    "demo_mat_tst = tst_df[['AGE', 'FEMALE']].values\n",
    "demo_mat_tst[:, 0] = (demo_mat_tst[:, 0]-age_mean)/age_std\n",
    "pay1_mat_tst = to_categorical(tst_df.PAY1.values)[:, 1:]\n",
    "los_array_tst = (tst_df.LOS.values - los_mean)/los_std\n",
    "ed_mat_tst = to_categorical(tst_df.HCUP_ED.values)\n",
    "zipinc_mat_tst = to_categorical(tst_df.ZIPINC_QRTL.values)[:, 1:]\n",
    "transfer_mat_tst = to_categorical(tst_df.SAMEDAYEVENT.values)\n",
    "other_mat_tst = np.concatenate((demo_mat_tst, pay1_mat_tst, los_array_tst.reshape(los_array_tst.shape+(1,)), \n",
    "                                ed_mat_tst, zipinc_mat_tst, transfer_mat_tst), axis=1)\n",
    "y_true = tst_df.readm30.astype(int).values"
   ]
  },
  {
   "cell_type": "code",
   "execution_count": 18,
   "metadata": {},
   "outputs": [],
   "source": [
    "n_fold=3"
   ]
  },
  {
   "cell_type": "code",
   "execution_count": 19,
   "metadata": {},
   "outputs": [],
   "source": [
    "skf = StratifiedKFold(n_splits=n_fold, random_state=24, shuffle=True)"
   ]
  },
  {
   "cell_type": "code",
   "execution_count": 20,
   "metadata": {},
   "outputs": [],
   "source": [
    "trn_idx, val_idx = next(skf.split(train_df0, train_df0.HOSP_NRD))"
   ]
  },
  {
   "cell_type": "code",
   "execution_count": 21,
   "metadata": {},
   "outputs": [],
   "source": [
    "train_df = train_df0.copy()"
   ]
  },
  {
   "cell_type": "code",
   "execution_count": 22,
   "metadata": {},
   "outputs": [],
   "source": [
    "code_mat_train = train_df[['DX1']+DXs+PRs].values\n",
    "code_ohe_train = np.zeros((len(train_df), len(code_cat)))\n",
    "for i in range(code_mat_train.shape[0]):\n",
    "    for j in range(code_mat_train.shape[1]):\n",
    "        if not code_mat_train[i,j]==0:\n",
    "            code_ohe_train[i, code_mat_train[i,j]] = 1.\n",
    "            \n",
    "code_ohe_trn = code_ohe_train[trn_idx, :]\n",
    "code_ohe_val = code_ohe_train[val_idx, :]"
   ]
  },
  {
   "cell_type": "code",
   "execution_count": 23,
   "metadata": {},
   "outputs": [],
   "source": [
    "hosp_array_train = train_df['HOSP_NRD'].values\n",
    "hosp_ohe_train = np.zeros((len(train_df), len(hosp_cat)))\n",
    "for j, hosp in enumerate(hosp_array_train):\n",
    "    hosp_ohe_train[j, hosp] = 1.\n",
    "    \n",
    "hosp_ohe_trn = hosp_ohe_train[trn_idx, :]\n",
    "hosp_ohe_val = hosp_ohe_train[val_idx, :]"
   ]
  },
  {
   "cell_type": "code",
   "execution_count": 24,
   "metadata": {},
   "outputs": [],
   "source": [
    "demo_mat_train = train_df[['AGE', 'FEMALE']].values\n",
    "demo_mat_train[:, 0] = (demo_mat_train[:, 0]-age_mean)/age_std\n",
    "pay1_mat_train = to_categorical(train_df.PAY1.values)[:, 1:]\n",
    "los_array_train = (train_df.LOS.values - los_mean)/los_std\n",
    "ed_mat_train = to_categorical(train_df.HCUP_ED.values)\n",
    "zipinc_mat_train = to_categorical(train_df.ZIPINC_QRTL.values)[:, 1:]\n",
    "transfer_mat_train = to_categorical(train_df.SAMEDAYEVENT.values)\n",
    "other_mat_train = np.concatenate((demo_mat_train, pay1_mat_train, los_array_train.reshape(los_array_train.shape+(1,)), \n",
    "                                ed_mat_train, zipinc_mat_train, transfer_mat_train), axis=1)\n",
    "\n",
    "other_mat_trn = other_mat_train[trn_idx, :]\n",
    "other_mat_val = other_mat_train[val_idx, :]\n",
    "\n",
    "y_train = train_df.readm30.astype(int).values\n",
    "Y_trn = to_categorical(y_train[trn_idx])\n",
    "Y_val = to_categorical(y_train[val_idx])"
   ]
  },
  {
   "cell_type": "markdown",
   "metadata": {},
   "source": [
    "### Model Building"
   ]
  },
  {
   "cell_type": "code",
   "execution_count": 16,
   "metadata": {},
   "outputs": [],
   "source": [
    "fc_width1 = 1024\n",
    "fc_width2 = 256\n",
    "dropout = 0.3\n",
    "lr = 1e-4\n",
    "batchsize = 512"
   ]
  },
  {
   "cell_type": "code",
   "execution_count": 25,
   "metadata": {},
   "outputs": [],
   "source": [
    "input_code = Input(shape = (len(code_cat),))\n",
    "input_hosp = Input(shape=(len(hosp_cat),))\n",
    "input_other = Input(shape=(other_mat_train.shape[1], ))\n",
    "\n",
    "merged = Concatenate(axis=1)([input_code, input_hosp, input_other])\n",
    "\n",
    "x = Dense(fc_width1, activation='relu')(merged)\n",
    "x = Dense(fc_width2, activation='relu')(x)\n",
    "x = Dropout(dropout)(x)\n",
    "\n",
    "prediction = Dense(2, activation='softmax')(x)\n",
    "model = Model(inputs=[input_code, input_hosp, input_other], outputs=prediction)"
   ]
  },
  {
   "cell_type": "code",
   "execution_count": 26,
   "metadata": {},
   "outputs": [
    {
     "name": "stdout",
     "output_type": "stream",
     "text": [
      "__________________________________________________________________________________________________\n",
      "Layer (type)                    Output Shape         Param #     Connected to                     \n",
      "==================================================================================================\n",
      "input_3 (InputLayer)            (None, 3525)         0                                            \n",
      "__________________________________________________________________________________________________\n",
      "input_4 (InputLayer)            (None, 959)          0                                            \n",
      "__________________________________________________________________________________________________\n",
      "input_5 (InputLayer)            (None, 23)           0                                            \n",
      "__________________________________________________________________________________________________\n",
      "concatenate_1 (Concatenate)     (None, 4507)         0           input_3[0][0]                    \n",
      "                                                                 input_4[0][0]                    \n",
      "                                                                 input_5[0][0]                    \n",
      "__________________________________________________________________________________________________\n",
      "dense_1 (Dense)                 (None, 1024)         4616192     concatenate_1[0][0]              \n",
      "__________________________________________________________________________________________________\n",
      "dense_2 (Dense)                 (None, 256)          262400      dense_1[0][0]                    \n",
      "__________________________________________________________________________________________________\n",
      "dropout_1 (Dropout)             (None, 256)          0           dense_2[0][0]                    \n",
      "__________________________________________________________________________________________________\n",
      "dense_3 (Dense)                 (None, 2)            514         dropout_1[0][0]                  \n",
      "==================================================================================================\n",
      "Total params: 4,879,106\n",
      "Trainable params: 4,879,106\n",
      "Non-trainable params: 0\n",
      "__________________________________________________________________________________________________\n"
     ]
    }
   ],
   "source": [
    "model.summary()"
   ]
  },
  {
   "cell_type": "code",
   "execution_count": 95,
   "metadata": {},
   "outputs": [],
   "source": [
    "adam = Adam(lr=lr)\n",
    "model.compile(optimizer=adam, loss='categorical_crossentropy')    "
   ]
  },
  {
   "cell_type": "code",
   "execution_count": 96,
   "metadata": {},
   "outputs": [],
   "source": [
    "auccheckpoint = AUCCheckPoint(filepath=model_path+'ohe_temp.h5', validation_y=Y_val[:, 1], \n",
    "                            validation_x=[code_ohe_val, hosp_ohe_val, other_mat_val])\n",
    "reduce_lr = ReduceLROnPlateau(monitor='val_loss', factor=0.2, patience=10, min_lr=K.epsilon())\n",
    "earlystop = EarlyStopping(monitor='val_loss', patience=20)"
   ]
  },
  {
   "cell_type": "code",
   "execution_count": 97,
   "metadata": {},
   "outputs": [],
   "source": [
    "class_weight = {0:(Y_trn.shape[0]/sum(Y_trn[:, 0])), 1:(Y_trn.shape[0]/sum(Y_trn[:, 1]))}"
   ]
  },
  {
   "cell_type": "code",
   "execution_count": 98,
   "metadata": {
    "collapsed": true
   },
   "outputs": [
    {
     "name": "stdout",
     "output_type": "stream",
     "text": [
      "Train on 111558 samples, validate on 56283 samples\n",
      "Epoch 1/5\n",
      "111558/111558 [==============================] - 6s 55us/step - loss: 1.2705 - val_loss: 0.6081\n",
      "AUC: 0.7145\n",
      "\n",
      "Epoch 2/5\n",
      "111558/111558 [==============================] - 5s 47us/step - loss: 1.2121 - val_loss: 0.6304\n",
      "AUC: 0.7153\n",
      "\n",
      "Epoch 3/5\n",
      "111558/111558 [==============================] - 5s 47us/step - loss: 1.1628 - val_loss: 0.6129\n",
      "AUC: 0.7097\n",
      "\n",
      "Epoch 4/5\n",
      "111558/111558 [==============================] - 5s 47us/step - loss: 1.0916 - val_loss: 0.6359\n",
      "AUC: 0.6957\n",
      "\n",
      "Epoch 5/5\n",
      "111558/111558 [==============================] - 5s 47us/step - loss: 0.9802 - val_loss: 0.5691\n",
      "AUC: 0.6664\n",
      "\n"
     ]
    }
   ],
   "source": [
    "hist = model.fit([code_ohe_trn, hosp_ohe_trn, other_mat_trn], Y_trn, \n",
    "                     batch_size=batchsize, epochs=5, callbacks=[auccheckpoint, reduce_lr, earlystop], class_weight=class_weight, \n",
    "                     validation_data=[[code_ohe_val, hosp_ohe_val, other_mat_val], Y_val], verbose=1)"
   ]
  },
  {
   "cell_type": "code",
   "execution_count": 99,
   "metadata": {},
   "outputs": [],
   "source": [
    "model.load_weights(model_path+'ohe_temp.h5')"
   ]
  },
  {
   "cell_type": "code",
   "execution_count": 100,
   "metadata": {},
   "outputs": [],
   "source": [
    "y_output = model.predict([code_ohe_tst, hosp_ohe_tst, other_mat_tst], verbose=0)  "
   ]
  },
  {
   "cell_type": "code",
   "execution_count": 104,
   "metadata": {},
   "outputs": [],
   "source": [
    "y_pred = y_output[:, 1]\n",
    "fpr, tpr, _ = roc_curve(y_true, y_pred)\n",
    "roc_auc = auc(fpr, tpr)"
   ]
  },
  {
   "cell_type": "code",
   "execution_count": 105,
   "metadata": {},
   "outputs": [
    {
     "data": {
      "text/plain": [
       "0.7117707427053499"
      ]
     },
     "execution_count": 105,
     "metadata": {},
     "output_type": "execute_result"
    }
   ],
   "source": [
    "roc_auc"
   ]
  },
  {
   "cell_type": "markdown",
   "metadata": {},
   "source": [
    "## Multi-Space GloVe"
   ]
  },
  {
   "cell_type": "code",
   "execution_count": 12,
   "metadata": {},
   "outputs": [],
   "source": [
    "from glove import GloveMS"
   ]
  },
  {
   "cell_type": "code",
   "execution_count": 112,
   "metadata": {},
   "outputs": [],
   "source": [
    "DX1_dim = 5\n",
    "DX_dim = 100\n",
    "PR_dim = 40\n",
    "count_cap = 5\n",
    "n_fold = 7\n",
    "hosp_embed_dim = 1\n",
    "fc_width = 128\n",
    "dropout = 0.3\n",
    "lr1 = 2e-4\n",
    "lr2 = 2e-5\n",
    "batchsize = 128"
   ]
  },
  {
   "cell_type": "code",
   "execution_count": 91,
   "metadata": {},
   "outputs": [],
   "source": [
    "DX1_cat = preprocessed['DX1_cat']\n",
    "DX_cat = preprocessed['DX_cat']\n",
    "PR_cat = preprocessed['PR_cat']\n",
    "DX1_dict = preprocessed['DX1_dict']\n",
    "DX_dict = preprocessed['DX_dict']\n",
    "PR_dict = preprocessed['PR_dict']\n",
    "code_cat = preprocessed['code_cat']\n",
    "hosp_cat = preprocessed['hosp_cat']\n",
    "\n",
    "n_DX1_cat = len(DX1_cat)\n",
    "n_DX_cat = len(DX_cat)\n",
    "n_PR_cat = len(PR_cat)\n",
    "\n",
    "n_DX = 29\n",
    "n_PR = 15\n",
    "DXs = ['DX'+str(j) for j in range(2, n_DX+2)]\n",
    "PRs = ['PR'+str(j) for j in range(1, n_PR+1)]"
   ]
  },
  {
   "cell_type": "code",
   "execution_count": 113,
   "metadata": {},
   "outputs": [],
   "source": [
    "gms = GloveMS(n_DX1_cat=n_DX1_cat, n_DX_cat=n_DX_cat, n_PR_cat=n_PR_cat, DX1_dim=DX1_dim, DX_dim=DX_dim, PR_dim=PR_dim, \n",
    "              count_cap=count_cap, scaling_factor=0.75)"
   ]
  },
  {
   "cell_type": "code",
   "execution_count": 75,
   "metadata": {},
   "outputs": [
    {
     "name": "stdout",
     "output_type": "stream",
     "text": [
      "Updating co-occurrence matrix from a Dataframe with 167841 rows...\n",
      "Finished. It takes 36.9 seconds to update the cooccurrences.\n"
     ]
    }
   ],
   "source": [
    "gms.update_cooccur(train_df0[['DX1']+DXs+PRs])\n",
    "\n",
    "cooccur_df = gms.get_cooccur_df()"
   ]
  },
  {
   "cell_type": "code",
   "execution_count": 114,
   "metadata": {
    "scrolled": true
   },
   "outputs": [
    {
     "name": "stdout",
     "output_type": "stream",
     "text": [
      "Preparing data...\n",
      "Defining the GloVe model...\n",
      "Training the GloVe model...\n",
      "Epoch 1/50\n",
      " - 22s - loss: 0.8345\n",
      "Epoch 2/50\n",
      " - 20s - loss: 0.2112\n",
      "Epoch 3/50\n",
      " - 20s - loss: 0.1570\n",
      "Epoch 4/50\n",
      " - 20s - loss: 0.1345\n",
      "Epoch 5/50\n",
      " - 20s - loss: 0.1201\n",
      "Epoch 6/50\n",
      " - 20s - loss: 0.1101\n",
      "Epoch 7/50\n",
      " - 20s - loss: 0.1026\n",
      "Epoch 8/50\n",
      " - 20s - loss: 0.0969\n",
      "Epoch 9/50\n",
      " - 20s - loss: 0.0924\n",
      "Epoch 10/50\n",
      " - 20s - loss: 0.0886\n",
      "Epoch 11/50\n",
      " - 20s - loss: 0.0856\n",
      "Epoch 12/50\n",
      " - 20s - loss: 0.0832\n",
      "Epoch 13/50\n",
      " - 20s - loss: 0.0811\n",
      "Epoch 14/50\n",
      " - 20s - loss: 0.0796\n",
      "Epoch 15/50\n",
      " - 20s - loss: 0.0783\n",
      "Epoch 16/50\n",
      " - 20s - loss: 0.0772\n",
      "Epoch 17/50\n",
      " - 20s - loss: 0.0764\n",
      "Epoch 18/50\n",
      " - 20s - loss: 0.0757\n",
      "Epoch 19/50\n",
      " - 20s - loss: 0.0750\n",
      "Epoch 20/50\n",
      " - 20s - loss: 0.0746\n",
      "Epoch 21/50\n",
      " - 20s - loss: 0.0740\n",
      "Epoch 22/50\n",
      " - 20s - loss: 0.0737\n",
      "Epoch 23/50\n",
      " - 20s - loss: 0.0733\n",
      "Epoch 24/50\n",
      " - 20s - loss: 0.0729\n",
      "Epoch 25/50\n",
      " - 20s - loss: 0.0726\n",
      "Epoch 26/50\n",
      " - 20s - loss: 0.0723\n",
      "Epoch 27/50\n",
      " - 20s - loss: 0.0722\n",
      "Epoch 28/50\n",
      " - 20s - loss: 0.0719\n",
      "Epoch 29/50\n",
      " - 20s - loss: 0.0716\n",
      "Epoch 30/50\n",
      " - 20s - loss: 0.0715\n",
      "Epoch 31/50\n",
      " - 20s - loss: 0.0713\n",
      "Epoch 32/50\n",
      " - 20s - loss: 0.0711\n",
      "Epoch 33/50\n",
      " - 20s - loss: 0.0710\n",
      "Epoch 34/50\n",
      " - 20s - loss: 0.0708\n",
      "Epoch 35/50\n",
      " - 20s - loss: 0.0707\n",
      "Epoch 36/50\n",
      " - 20s - loss: 0.0706\n",
      "Epoch 37/50\n",
      " - 20s - loss: 0.0704\n",
      "Epoch 38/50\n",
      " - 20s - loss: 0.0703\n",
      "Epoch 39/50\n",
      " - 20s - loss: 0.0702\n",
      "Epoch 40/50\n",
      " - 20s - loss: 0.0701\n",
      "Epoch 41/50\n",
      " - 20s - loss: 0.0700\n",
      "Epoch 42/50\n",
      " - 20s - loss: 0.0699\n",
      "Epoch 43/50\n",
      " - 20s - loss: 0.0698\n",
      "Epoch 44/50\n",
      " - 20s - loss: 0.0698\n",
      "Epoch 45/50\n",
      " - 20s - loss: 0.0697\n",
      "Epoch 46/50\n",
      " - 20s - loss: 0.0696\n",
      "Epoch 47/50\n",
      " - 20s - loss: 0.0696\n",
      "Epoch 48/50\n",
      " - 20s - loss: 0.0694\n",
      "Epoch 49/50\n",
      " - 20s - loss: 0.0694\n",
      "Epoch 50/50\n",
      " - 20s - loss: 0.0693\n",
      "Finished. The pretrained embedding matrix can be retrieved by .get_embed_mat().\n"
     ]
    }
   ],
   "source": [
    "gms.train_glove(cooccur_df=cooccur_df, cache_path=model_path, epochs=50, earlystop_patience=10, reducelr_patience=2, verbose=2)"
   ]
  },
  {
   "cell_type": "code",
   "execution_count": 95,
   "metadata": {},
   "outputs": [],
   "source": [
    "embeds = gms.get_embed_mat()"
   ]
  },
  {
   "cell_type": "code",
   "execution_count": 79,
   "metadata": {},
   "outputs": [],
   "source": [
    "age_mean = train_df0['AGE'].mean()\n",
    "age_std = train_df0['AGE'].std()\n",
    "los_mean = train_df0['LOS'].mean()\n",
    "los_std = train_df0['LOS'].std()\n",
    "n_pay1 = int(train_df0['PAY1'].max())+1\n",
    "n_ed = int(train_df0['HCUP_ED'].max())+1\n",
    "n_zipinc = int(train_df0['ZIPINC_QRTL'].max())+1\n",
    "\n",
    "DX1_array_tst = tst_df['DX1'].values\n",
    "DX_mat_tst = np.maximum(tst_df[DXs].values - n_DX1_cat, 0)\n",
    "PR_mat_tst = np.maximum(tst_df[PRs].values - n_DX1_cat - n_DX_cat, 0)\n",
    "hosp_array_tst = tst_df['HOSP_NRD'].values\n",
    "    \n",
    "demo_mat_tst = tst_df[['AGE', 'FEMALE']].values\n",
    "demo_mat_tst[:, 0] = (demo_mat_tst[:, 0]-age_mean)/age_std\n",
    "pay1_mat_tst = to_categorical(tst_df.PAY1.values, num_classes=n_pay1)[:, 1:]\n",
    "los_array_tst = (tst_df.LOS.values - los_mean)/los_std\n",
    "ed_mat_tst = to_categorical(tst_df.HCUP_ED.values, num_classes=n_ed)\n",
    "zipinc_mat_tst = to_categorical(tst_df.ZIPINC_QRTL.values, num_classes=n_zipinc)[:, 1:]\n",
    "#transfer_mat_tst = to_categorical(tst_df.SAMEDAYEVENT.values)\n",
    "other_mat_tst = np.concatenate((demo_mat_tst, pay1_mat_tst, los_array_tst.reshape(los_array_tst.shape+(1,)), \n",
    "                                ed_mat_tst, zipinc_mat_tst), axis=1)\n",
    "y_true = tst_df.readm30.astype(int).values"
   ]
  },
  {
   "cell_type": "code",
   "execution_count": 104,
   "metadata": {},
   "outputs": [],
   "source": [
    "skf = StratifiedKFold(n_splits=n_fold, random_state=24, shuffle=True)\n",
    "trn_idx, val_idx = next(skf.split(train_df0, train_df0.HOSP_NRD))"
   ]
  },
  {
   "cell_type": "code",
   "execution_count": 105,
   "metadata": {},
   "outputs": [],
   "source": [
    "train_df = train_df0.copy()\n",
    "DX1_array_train = train_df['DX1'].values\n",
    "DX1_array_trn = DX1_array_train[trn_idx]\n",
    "DX1_array_val = DX1_array_train[val_idx]\n",
    "\n",
    "DX_mat_train = np.maximum(train_df[DXs].values - n_DX1_cat, 0)\n",
    "DX_mat_trn = DX_mat_train[trn_idx, :]\n",
    "DX_mat_val = DX_mat_train[val_idx, :]\n",
    "\n",
    "PR_mat_train = np.maximum(train_df[PRs].values - n_DX1_cat - n_DX_cat, 0)\n",
    "PR_mat_trn = PR_mat_train[trn_idx, :]\n",
    "PR_mat_val = PR_mat_train[val_idx, :]\n",
    "    \n",
    "hosp_array_train = train_df['HOSP_NRD'].values\n",
    "hosp_array_trn = hosp_array_train[trn_idx]\n",
    "hosp_array_val = hosp_array_train[val_idx]\n",
    "    \n",
    "demo_mat_train = train_df[['AGE', 'FEMALE']].values\n",
    "demo_mat_train[:, 0] = (demo_mat_train[:, 0]-age_mean)/age_std\n",
    "pay1_mat_train = to_categorical(train_df.PAY1.values, num_classes=n_pay1)[:, 1:]\n",
    "los_array_train = (train_df.LOS.values - los_mean)/los_std\n",
    "ed_mat_train = to_categorical(train_df.HCUP_ED.values, num_classes=n_ed)\n",
    "zipinc_mat_train = to_categorical(train_df.ZIPINC_QRTL.values, num_classes=n_zipinc)[:, 1:]\n",
    "#transfer_mat_train = to_categorical(train_df.SAMEDAYEVENT.values)\n",
    "other_mat_train = np.concatenate((demo_mat_train, pay1_mat_train, los_array_train.reshape(los_array_train.shape+(1,)), \n",
    "                                    ed_mat_train, zipinc_mat_train), axis=1)\n",
    "other_mat_trn = other_mat_train[trn_idx, :]\n",
    "other_mat_val = other_mat_train[val_idx, :]\n",
    "\n",
    "y_train = train_df.readm30.astype(int).values\n",
    "Y_trn = to_categorical(y_train[trn_idx])\n",
    "Y_val = to_categorical(y_train[val_idx])"
   ]
  },
  {
   "cell_type": "code",
   "execution_count": 32,
   "metadata": {},
   "outputs": [],
   "source": [
    "from setsum_layer import MaskedDense, MaskedSum"
   ]
  },
  {
   "cell_type": "code",
   "execution_count": 106,
   "metadata": {},
   "outputs": [],
   "source": [
    "input_DX1 = Input(shape=(1,))\n",
    "DX1_embed = Embedding(input_dim=n_DX1_cat+1, output_dim=DX1_dim, embeddings_initializer=Constant(embeds['DX1_embed']), \n",
    "                              name='DX1_embed')(input_DX1)     \n",
    "DX1_embed = Reshape((DX1_dim,))(DX1_embed)\n",
    "input_DX = Input(shape = (len(DXs),))\n",
    "DX_embed = Embedding(input_dim=n_DX_cat+1, output_dim=DX_dim, mask_zero=True, \n",
    "                     embeddings_initializer=Constant(embeds['DX_embed']), name='DX_embed')(input_DX)\n",
    "DX_embed = MaskedDense(DX_dim, activation='relu')(DX_embed)\n",
    "DX_embed = MaskedSum()(DX_embed)\n",
    "input_PR = Input(shape = (len(PRs),))\n",
    "PR_embed = Embedding(input_dim=n_PR_cat+1, output_dim=PR_dim, mask_zero=True, \n",
    "                     embeddings_initializer=Constant(embeds['PR_embed']), name='PR_embed')(input_PR)\n",
    "PR_embed = MaskedDense(PR_dim, activation='relu')(PR_embed)\n",
    "PR_embed = MaskedSum()(PR_embed)\n",
    "input_hosp = Input(shape=(1,))\n",
    "hosp_embed = Embedding(input_dim=len(hosp_cat), output_dim=hosp_embed_dim, input_length=1)(input_hosp)\n",
    "hosp_embed = Reshape((hosp_embed_dim, ))(hosp_embed)\n",
    "input_other = Input(shape=(other_mat_train.shape[1], ))\n",
    "merged = Concatenate(axis=1)([DX1_embed, DX_embed, PR_embed, hosp_embed, input_other])\n",
    "merged = Dense(fc_width, activation='relu')(merged)\n",
    "merged = Dropout(dropout)(merged)\n",
    "prediction = Dense(2, activation='softmax')(merged)\n",
    "model = Model(inputs=[input_DX1, input_DX, input_PR, input_hosp, input_other], outputs=prediction)  "
   ]
  },
  {
   "cell_type": "code",
   "execution_count": 107,
   "metadata": {},
   "outputs": [],
   "source": [
    "for l in model.layers:\n",
    "    if l.name=='DX_embed' or l.name=='PR_embed' or l.name=='DX1_embed':\n",
    "        l.trainable = False\n",
    "            \n",
    "adam = Adam(lr=lr1)\n",
    "model.compile(optimizer=adam, loss='categorical_crossentropy')"
   ]
  },
  {
   "cell_type": "code",
   "execution_count": 108,
   "metadata": {},
   "outputs": [],
   "source": [
    "auccheckpoint = AUCCheckPoint(filepath=model_path+'embeding_nn_sub_temp1.h5', validation_y=Y_val[:, 1], \n",
    "                                 validation_x=[DX1_array_val, DX_mat_val, PR_mat_val, hosp_array_val, other_mat_val])\n",
    "reduce_lr = ReduceLROnPlateau(monitor='val_loss', factor=0.2, patience=10, min_lr=K.epsilon())\n",
    "earlystop = EarlyStopping(monitor='val_loss', patience=20)\n",
    "class_weight = {0:(Y_trn.shape[0]/sum(Y_trn[:, 0])), 1:(Y_trn.shape[0]/sum(Y_trn[:, 1]))}"
   ]
  },
  {
   "cell_type": "code",
   "execution_count": 109,
   "metadata": {
    "scrolled": true
   },
   "outputs": [
    {
     "name": "stdout",
     "output_type": "stream",
     "text": [
      "Train on 143376 samples, validate on 24465 samples\n",
      "Epoch 1/30\n",
      "143376/143376 [==============================] - 7s 50us/step - loss: 1.3147 - val_loss: 0.6223\n",
      "AUC: 0.7032\n",
      "\n",
      "Epoch 2/30\n",
      "143376/143376 [==============================] - 5s 37us/step - loss: 1.2663 - val_loss: 0.6354\n",
      "AUC: 0.7080\n",
      "\n",
      "Epoch 3/30\n",
      "143376/143376 [==============================] - 5s 37us/step - loss: 1.2580 - val_loss: 0.6174\n",
      "AUC: 0.7115\n",
      "\n",
      "Epoch 4/30\n",
      "143376/143376 [==============================] - 5s 37us/step - loss: 1.2519 - val_loss: 0.6577\n",
      "AUC: 0.7120\n",
      "\n",
      "Epoch 5/30\n",
      "143376/143376 [==============================] - 5s 37us/step - loss: 1.2474 - val_loss: 0.6383\n",
      "AUC: 0.7141\n",
      "\n",
      "Epoch 6/30\n",
      "143376/143376 [==============================] - 5s 37us/step - loss: 1.2433 - val_loss: 0.6005\n",
      "AUC: 0.7155\n",
      "\n",
      "Epoch 7/30\n",
      "143376/143376 [==============================] - 5s 37us/step - loss: 1.2399 - val_loss: 0.6122\n",
      "AUC: 0.7162\n",
      "\n",
      "Epoch 8/30\n",
      "143376/143376 [==============================] - 5s 37us/step - loss: 1.2348 - val_loss: 0.6184\n",
      "AUC: 0.7173\n",
      "\n",
      "Epoch 9/30\n",
      "143376/143376 [==============================] - 5s 37us/step - loss: 1.2306 - val_loss: 0.6442\n",
      "AUC: 0.7172\n",
      "\n",
      "Epoch 10/30\n",
      "143376/143376 [==============================] - 5s 37us/step - loss: 1.2273 - val_loss: 0.6477\n",
      "AUC: 0.7166\n",
      "\n",
      "Epoch 11/30\n",
      "143376/143376 [==============================] - 5s 37us/step - loss: 1.2233 - val_loss: 0.6040\n",
      "AUC: 0.7172\n",
      "\n",
      "Epoch 12/30\n",
      "143376/143376 [==============================] - 5s 37us/step - loss: 1.2199 - val_loss: 0.6196\n",
      "AUC: 0.7175\n",
      "\n",
      "Epoch 13/30\n",
      "143376/143376 [==============================] - 5s 37us/step - loss: 1.2159 - val_loss: 0.6037\n",
      "AUC: 0.7176\n",
      "\n",
      "Epoch 14/30\n",
      "143376/143376 [==============================] - 5s 37us/step - loss: 1.2127 - val_loss: 0.6283\n",
      "AUC: 0.7167\n",
      "\n",
      "Epoch 15/30\n",
      "143376/143376 [==============================] - 5s 37us/step - loss: 1.2086 - val_loss: 0.6097\n",
      "AUC: 0.7158\n",
      "\n",
      "Epoch 16/30\n",
      "143376/143376 [==============================] - 5s 37us/step - loss: 1.2067 - val_loss: 0.6075\n",
      "AUC: 0.7155\n",
      "\n",
      "Epoch 17/30\n",
      "143376/143376 [==============================] - 5s 37us/step - loss: 1.1991 - val_loss: 0.6043\n",
      "AUC: 0.7162\n",
      "\n",
      "Epoch 18/30\n",
      "143376/143376 [==============================] - 5s 37us/step - loss: 1.1975 - val_loss: 0.6069\n",
      "AUC: 0.7158\n",
      "\n",
      "Epoch 19/30\n",
      "143376/143376 [==============================] - 5s 37us/step - loss: 1.1974 - val_loss: 0.6035\n",
      "AUC: 0.7157\n",
      "\n",
      "Epoch 20/30\n",
      "143376/143376 [==============================] - 5s 37us/step - loss: 1.1965 - val_loss: 0.6180\n",
      "AUC: 0.7166\n",
      "\n",
      "Epoch 21/30\n",
      "143376/143376 [==============================] - 5s 37us/step - loss: 1.1945 - val_loss: 0.6029\n",
      "AUC: 0.7161\n",
      "\n",
      "Epoch 22/30\n",
      "143376/143376 [==============================] - 5s 37us/step - loss: 1.1956 - val_loss: 0.6126\n",
      "AUC: 0.7159\n",
      "\n",
      "Epoch 23/30\n",
      "143376/143376 [==============================] - 5s 37us/step - loss: 1.1929 - val_loss: 0.6034\n",
      "AUC: 0.7150\n",
      "\n",
      "Epoch 24/30\n",
      "143376/143376 [==============================] - 5s 37us/step - loss: 1.1933 - val_loss: 0.6224\n",
      "AUC: 0.7152\n",
      "\n",
      "Epoch 25/30\n",
      "143376/143376 [==============================] - 5s 37us/step - loss: 1.1920 - val_loss: 0.6116\n",
      "AUC: 0.7150\n",
      "\n",
      "Epoch 26/30\n",
      "143376/143376 [==============================] - 6s 38us/step - loss: 1.1904 - val_loss: 0.6162\n",
      "AUC: 0.7146\n",
      "\n"
     ]
    }
   ],
   "source": [
    "hist = model.fit([DX1_array_trn, DX_mat_trn, PR_mat_trn, hosp_array_trn, other_mat_trn], Y_trn, \n",
    "                     batch_size=batchsize, epochs=30, callbacks=[auccheckpoint, reduce_lr, earlystop], class_weight=class_weight, \n",
    "                     validation_data=[[DX1_array_val, DX_mat_val, PR_mat_val, hosp_array_val, other_mat_val], Y_val], \n",
    "                    verbose=1)"
   ]
  },
  {
   "cell_type": "code",
   "execution_count": 110,
   "metadata": {},
   "outputs": [],
   "source": [
    "model.load_weights(model_path+'embeding_nn_sub_temp1.h5')\n",
    "y = model.predict([DX1_array_tst, DX_mat_tst, PR_mat_tst, hosp_array_tst, other_mat_tst], verbose=0)"
   ]
  },
  {
   "cell_type": "code",
   "execution_count": 111,
   "metadata": {},
   "outputs": [
    {
     "data": {
      "text/plain": [
       "0.713009823826124"
      ]
     },
     "execution_count": 111,
     "metadata": {},
     "output_type": "execute_result"
    }
   ],
   "source": [
    "y_pred = y[:, 1]\n",
    "fpr, tpr, _ = roc_curve(y_true, y_pred)\n",
    "auc(fpr, tpr)"
   ]
  },
  {
   "cell_type": "code",
   "execution_count": 102,
   "metadata": {
    "scrolled": true
   },
   "outputs": [
    {
     "name": "stdout",
     "output_type": "stream",
     "text": [
      "Train on 143376 samples, validate on 24465 samples\n",
      "Epoch 1/20\n",
      "143376/143376 [==============================] - 8s 57us/step - loss: 1.2154 - val_loss: 0.6076\n",
      "AUC: 0.7179\n",
      "\n",
      "Epoch 2/20\n",
      "143376/143376 [==============================] - 6s 45us/step - loss: 1.2140 - val_loss: 0.6152\n",
      "AUC: 0.7177\n",
      "\n",
      "Epoch 3/20\n",
      "143376/143376 [==============================] - 6s 45us/step - loss: 1.2108 - val_loss: 0.6069\n",
      "AUC: 0.7176\n",
      "\n",
      "Epoch 4/20\n",
      "143376/143376 [==============================] - 6s 45us/step - loss: 1.2101 - val_loss: 0.6146\n",
      "AUC: 0.7179\n",
      "\n",
      "Epoch 5/20\n",
      "143376/143376 [==============================] - 6s 45us/step - loss: 1.2101 - val_loss: 0.6177\n",
      "AUC: 0.7178\n",
      "\n",
      "Epoch 6/20\n",
      "143376/143376 [==============================] - 6s 45us/step - loss: 1.2085 - val_loss: 0.6083\n",
      "AUC: 0.7177\n",
      "\n",
      "Epoch 7/20\n",
      "143376/143376 [==============================] - 6s 45us/step - loss: 1.2065 - val_loss: 0.6068\n",
      "AUC: 0.7179\n",
      "\n",
      "Epoch 8/20\n",
      "143376/143376 [==============================] - 6s 45us/step - loss: 1.2073 - val_loss: 0.6279\n",
      "AUC: 0.7174\n",
      "\n",
      "Epoch 9/20\n",
      "143376/143376 [==============================] - 6s 45us/step - loss: 1.2049 - val_loss: 0.6065\n",
      "AUC: 0.7178\n",
      "\n",
      "Epoch 10/20\n",
      "143376/143376 [==============================] - 6s 45us/step - loss: 1.2052 - val_loss: 0.6194\n",
      "AUC: 0.7177\n",
      "\n",
      "Epoch 11/20\n",
      "143376/143376 [==============================] - 6s 45us/step - loss: 1.2054 - val_loss: 0.6165\n",
      "AUC: 0.7174\n",
      "\n",
      "Epoch 12/20\n",
      "143376/143376 [==============================] - 6s 45us/step - loss: 1.2019 - val_loss: 0.6153\n",
      "AUC: 0.7175\n",
      "\n",
      "Epoch 13/20\n",
      "143376/143376 [==============================] - 6s 45us/step - loss: 1.2017 - val_loss: 0.6060\n",
      "AUC: 0.7175\n",
      "\n",
      "Epoch 14/20\n",
      "143376/143376 [==============================] - 6s 45us/step - loss: 1.2007 - val_loss: 0.6083\n",
      "AUC: 0.7174\n",
      "\n",
      "Epoch 15/20\n",
      "143376/143376 [==============================] - 6s 45us/step - loss: 1.2006 - val_loss: 0.6043\n",
      "AUC: 0.7174\n",
      "\n",
      "Epoch 16/20\n",
      "143376/143376 [==============================] - 7s 46us/step - loss: 1.1978 - val_loss: 0.6054\n",
      "AUC: 0.7172\n",
      "\n",
      "Epoch 17/20\n",
      "143376/143376 [==============================] - 6s 45us/step - loss: 1.1970 - val_loss: 0.6075\n",
      "AUC: 0.7168\n",
      "\n",
      "Epoch 18/20\n",
      "143376/143376 [==============================] - 6s 45us/step - loss: 1.1969 - val_loss: 0.6139\n",
      "AUC: 0.7165\n",
      "\n",
      "Epoch 19/20\n",
      "143376/143376 [==============================] - 6s 45us/step - loss: 1.1959 - val_loss: 0.6230\n",
      "AUC: 0.7167\n",
      "\n",
      "Epoch 20/20\n",
      "143376/143376 [==============================] - 6s 45us/step - loss: 1.1940 - val_loss: 0.6233\n",
      "AUC: 0.7166\n",
      "\n"
     ]
    }
   ],
   "source": [
    "for l in model.layers:\n",
    "    if l.name=='DX_embed' or l.name=='PR_embed' or l.name=='DX1_embed':\n",
    "        l.trainable = True\n",
    "adam = Adam(lr=lr2)\n",
    "model.compile(optimizer=adam, loss='categorical_crossentropy')\n",
    "    \n",
    "auccheckpoint = AUCCheckPoint(filepath=model_path+'embeding_nn_sub_temp2.h5', validation_y=Y_val[:, 1], \n",
    "                                 validation_x=[DX1_array_val, DX_mat_val, PR_mat_val, hosp_array_val, other_mat_val])\n",
    "hist = model.fit([DX1_array_trn, DX_mat_trn, PR_mat_trn, hosp_array_trn, other_mat_trn], Y_trn, \n",
    "                     batch_size=batchsize, epochs=20, callbacks=[auccheckpoint, reduce_lr, earlystop], class_weight=class_weight, \n",
    "                     validation_data=[[DX1_array_val, DX_mat_val, PR_mat_val, hosp_array_val, other_mat_val], Y_val], \n",
    "                    verbose=1)"
   ]
  },
  {
   "cell_type": "code",
   "execution_count": 103,
   "metadata": {},
   "outputs": [
    {
     "data": {
      "text/plain": [
       "0.7145367137051865"
      ]
     },
     "execution_count": 103,
     "metadata": {},
     "output_type": "execute_result"
    }
   ],
   "source": [
    "model.load_weights(model_path+'embeding_nn_sub_temp2.h5')    \n",
    "y = model.predict([DX1_array_tst, DX_mat_tst, PR_mat_tst, hosp_array_tst, other_mat_tst], verbose=0)\n",
    "y_pred = y[:, 1]\n",
    "fpr, tpr, _ = roc_curve(y_true, y_pred)\n",
    "auc(fpr, tpr)"
   ]
  },
  {
   "cell_type": "markdown",
   "metadata": {},
   "source": [
    "### Model checkup"
   ]
  },
  {
   "cell_type": "code",
   "execution_count": 5,
   "metadata": {},
   "outputs": [],
   "source": [
    "model_name = 'att_lr'\n",
    "code_embed_dim = 256\n",
    "#DX1_dim = args.DX1_dim\n",
    "#DX_dim = args.DX_dim\n",
    "#PR_dim = args.PR_dim\n",
    "hosp_embed_dim = 1\n",
    "fc_width = 512\n",
    "#md_width = args.md_width\n",
    "lr1 = 2e-4\n",
    "lr2 = 5e-5\n",
    "dropout = 0.3\n",
    "batchsize = 512\n",
    "embed_file = 'pretrain'\n",
    "cohort = 'ami'\n",
    "tst_seed = 0\n",
    "n_fold = 5\n",
    "result_file = 'inapp'\n",
    "penalty = 0\n",
    "penalty_metric = 'cosine'\n",
    "count_cap = 5\n",
    "DX1_rarecutpoint = 10\n",
    "DX_rarecutpoint = 10\n",
    "PR_rarecutpoint = 10\n",
    "other_pred = 1\n",
    "ndxpr = 0\n",
    "n_heads = 8\n",
    "att_use_bias = 0\n",
    "att_activation = 'linear'\n",
    "n_att_layers = 3\n",
    "\n",
    "job_index = 0"
   ]
  },
  {
   "cell_type": "code",
   "execution_count": 20,
   "metadata": {},
   "outputs": [],
   "source": [
    "y_pred_mat = np.load('/nfs/turbo/umms-awaljee/wsliu/Data/NRD/y_pred_mat/y_pred_mat19_02_06_08_07_19.npy')"
   ]
  },
  {
   "cell_type": "code",
   "execution_count": 8,
   "metadata": {},
   "outputs": [],
   "source": [
    "all_df = pd.read_csv(path+'cohorts20/{}/pred_comorb.csv'.format(cohort), dtype=core_dtypes_pd)"
   ]
  },
  {
   "cell_type": "code",
   "execution_count": 9,
   "metadata": {},
   "outputs": [],
   "source": [
    "tst_key = pd.read_csv(path+'cohorts20/{}/tst_key{}.csv'.format(cohort, tst_seed), names = ['KEY_NRD'])\n",
    "tst_df = all_df.loc[all_df.KEY_NRD.isin(tst_key.KEY_NRD)]"
   ]
  },
  {
   "cell_type": "code",
   "execution_count": 10,
   "metadata": {},
   "outputs": [],
   "source": [
    "y_true = tst_df.readm30.values"
   ]
  },
  {
   "cell_type": "code",
   "execution_count": 21,
   "metadata": {},
   "outputs": [
    {
     "name": "stdout",
     "output_type": "stream",
     "text": [
      "0.49943339072737125\n",
      "0.7146165858676456\n",
      "0.7134080274182013\n",
      "0.4999095077220077\n",
      "0.4992245053446833\n"
     ]
    }
   ],
   "source": [
    "for j in range(5):\n",
    "    fpr, tpr, _ = roc_curve(y_true, y_pred_mat[:, j])\n",
    "    print(auc(fpr, tpr))"
   ]
  },
  {
   "cell_type": "code",
   "execution_count": 25,
   "metadata": {},
   "outputs": [
    {
     "data": {
      "text/plain": [
       "array([0., 0., 0., ..., 0., 0., 0.], dtype=float32)"
      ]
     },
     "execution_count": 25,
     "metadata": {},
     "output_type": "execute_result"
    }
   ],
   "source": [
    "y_pred_mat[:, 4]"
   ]
  },
  {
   "cell_type": "code",
   "execution_count": 17,
   "metadata": {},
   "outputs": [
    {
     "data": {
      "text/plain": [
       "0.7126613798137749"
      ]
     },
     "execution_count": 17,
     "metadata": {},
     "output_type": "execute_result"
    }
   ],
   "source": [
    "roc_auc"
   ]
  },
  {
   "cell_type": "markdown",
   "metadata": {},
   "source": [
    "### backups"
   ]
  },
  {
   "cell_type": "markdown",
   "metadata": {},
   "source": [
    "Define the dictionaries for DX, DX1 and hosp, from value to int. "
   ]
  },
  {
   "cell_type": "code",
   "execution_count": 9,
   "metadata": {},
   "outputs": [],
   "source": [
    "freq = get_frequency(train_df0)"
   ]
  },
  {
   "cell_type": "code",
   "execution_count": 10,
   "metadata": {},
   "outputs": [],
   "source": [
    "unclassified = set(dx_multi.loc[dx_multi.CCS_LVL1 == '18', 'ICD9CM_CODE'])"
   ]
  },
  {
   "cell_type": "code",
   "execution_count": 11,
   "metadata": {},
   "outputs": [],
   "source": [
    "DX_rarecutpoint = 10\n",
    "PR_rarecutpoint = 10"
   ]
  },
  {
   "cell_type": "code",
   "execution_count": 12,
   "metadata": {},
   "outputs": [],
   "source": [
    "DX1_cat = sorted(freq['DX1'].index)\n",
    "DX_cat = sorted(freq['DX'].loc[(freq['DX']>DX_rarecutpoint) & (~freq['DX'].index.isin(unclassified)) & \n",
    "                               (~freq['DX'].index.isin(['invl', 'incn']))].index)\n",
    "PR_cat = sorted(freq['PR'].loc[(freq['PR']>PR_rarecutpoint) & (~freq['PR'].index.isin(['invl', 'incn']))].index)"
   ]
  },
  {
   "cell_type": "code",
   "execution_count": 14,
   "metadata": {},
   "outputs": [
    {
     "data": {
      "text/plain": [
       "(20, 2231, 413)"
      ]
     },
     "execution_count": 14,
     "metadata": {},
     "output_type": "execute_result"
    }
   ],
   "source": [
    "len(DX1_cat), len(DX_cat), len(PR_cat)"
   ]
  },
  {
   "cell_type": "code",
   "execution_count": 13,
   "metadata": {},
   "outputs": [],
   "source": [
    "dx1_multi_sub = dx_multi.loc[dx_multi.ICD9CM_CODE.isin(DX1_cat)]\n",
    "dx1_ccs_cat = sorted(pd.concat([dx1_multi_sub['CCS_LVL'+str(j)] for j in range(1, 5)]).unique())\n",
    "if '' in dx1_ccs_cat:\n",
    "    dx1_ccs_cat.remove('')\n",
    "dx_multi_sub = dx_multi.loc[dx_multi.ICD9CM_CODE.isin(DX_cat)]\n",
    "dx_ccs_cat = sorted(pd.concat([dx_multi_sub['CCS_LVL'+str(j)] for j in range(1, 5)]).unique())\n",
    "if '' in dx_ccs_cat:\n",
    "    dx_ccs_cat.remove('')\n",
    "\n",
    "pr_multi_sub = pr_multi.loc[pr_multi.ICD9CM_CODE.isin(PR_cat)]\n",
    "pr_ccs_cat = sorted(pd.concat([pr_multi_sub['CCS_LVL'+str(j)] for j in range(1, 4)]).unique())\n",
    "if '' in pr_ccs_cat:\n",
    "    pr_ccs_cat.remove('')"
   ]
  },
  {
   "cell_type": "code",
   "execution_count": 14,
   "metadata": {},
   "outputs": [],
   "source": [
    "code_cat = DX1_cat+DX_cat+PR_cat+dx1_ccs_cat+dx_ccs_cat+pr_ccs_cat"
   ]
  },
  {
   "cell_type": "code",
   "execution_count": 15,
   "metadata": {},
   "outputs": [],
   "source": [
    "DX1_dict = dict(zip(DX1_cat, range(1, len(DX1_cat)+1)))\n",
    "DX_dict = dict(zip(DX_cat, range(len(DX1_cat)+1, len(DX1_cat)+len(DX_cat)+1)))\n",
    "PR_dict = dict(zip(PR_cat, range(len(DX1_cat)+len(DX_cat)+1, len(DX1_cat)+len(DX_cat)+len(PR_cat)+1)))\n",
    "DX1_dict['missing'] = 0\n",
    "DX_dict['missing'] = 0\n",
    "PR_dict['missing'] = 0\n",
    "dx1_ccs_dict = dict(zip(dx1_ccs_cat, range(len(DX1_cat)+len(DX_cat)+len(PR_cat)+1, \n",
    "                                          len(DX1_cat)+len(DX_cat)+len(PR_cat)+len(dx1_ccs_cat)+1)))\n",
    "dx_ccs_dict = dict(zip(dx_ccs_cat, range(len(DX1_cat)+len(DX_cat)+len(PR_cat)+len(dx1_ccs_cat)+1, \n",
    "                                         len(DX1_cat)+len(DX_cat)+len(PR_cat)+len(dx1_ccs_cat)+len(dx_ccs_cat)+1)))\n",
    "pr_ccs_dict = dict(zip(pr_ccs_cat, range(len(DX1_cat)+len(DX_cat)+len(PR_cat)+len(dx1_ccs_cat)+len(dx_ccs_cat)+1, \n",
    "                                        len(DX1_cat)+len(DX_cat)+len(PR_cat)+len(dx1_ccs_cat)+len(dx_ccs_cat)+len(pr_ccs_cat)+1)))"
   ]
  },
  {
   "cell_type": "code",
   "execution_count": 16,
   "metadata": {},
   "outputs": [],
   "source": [
    "hosp_cat = sorted(all_df['HOSP_NRD'].value_counts().index)\n",
    "hosp_dict = dict(zip(hosp_cat, range(len(hosp_cat))))"
   ]
  },
  {
   "cell_type": "code",
   "execution_count": 18,
   "metadata": {},
   "outputs": [],
   "source": [
    "int_df = all_df.copy()"
   ]
  },
  {
   "cell_type": "code",
   "execution_count": 19,
   "metadata": {},
   "outputs": [],
   "source": [
    "int_df.loc[~int_df.DX1.isin(DX1_cat), 'DX1'] = 'missing'\n",
    "\n",
    "int_df['DX1'] = int_df['DX1'].map(DX1_dict)"
   ]
  },
  {
   "cell_type": "code",
   "execution_count": 20,
   "metadata": {},
   "outputs": [],
   "source": [
    "for dx in DXs:\n",
    "    int_df.loc[~int_df[dx].isin(DX_cat), dx] = 'missing'\n",
    "    int_df[dx] = int_df[dx].map(DX_dict)"
   ]
  },
  {
   "cell_type": "code",
   "execution_count": 21,
   "metadata": {},
   "outputs": [],
   "source": [
    "for pr in PRs:\n",
    "    int_df.loc[~int_df[pr].isin(PR_cat), pr] = 'missing'\n",
    "    int_df[pr] = int_df[pr].map(PR_dict)"
   ]
  },
  {
   "cell_type": "code",
   "execution_count": 22,
   "metadata": {},
   "outputs": [],
   "source": [
    "int_df['HOSP_NRD'] = int_df['HOSP_NRD'].map(hosp_dict)"
   ]
  }
 ],
 "metadata": {
  "kernelspec": {
   "display_name": "Python 3",
   "language": "python",
   "name": "python3"
  },
  "language_info": {
   "codemirror_mode": {
    "name": "ipython",
    "version": 3
   },
   "file_extension": ".py",
   "mimetype": "text/x-python",
   "name": "python",
   "nbconvert_exporter": "python",
   "pygments_lexer": "ipython3",
   "version": "3.5.4"
  }
 },
 "nbformat": 4,
 "nbformat_minor": 2
}

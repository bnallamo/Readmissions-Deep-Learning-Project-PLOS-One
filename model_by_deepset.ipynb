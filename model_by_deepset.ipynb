{
 "cells": [
  {
   "cell_type": "code",
   "execution_count": 1,
   "metadata": {},
   "outputs": [],
   "source": [
    "import sys, os\n",
    "import matplotlib\n",
    "import numpy as np\n",
    "import tensorflow as tf\n",
    "import matplotlib.pyplot as plt"
   ]
  },
  {
   "cell_type": "code",
   "execution_count": 2,
   "metadata": {},
   "outputs": [
    {
     "name": "stderr",
     "output_type": "stream",
     "text": [
      "Using TensorFlow backend.\n"
     ]
    }
   ],
   "source": [
    "os.environ[\"CUDA_VISIBLE_DEVICES\"] = '0'\n",
    "from IPython.display import SVG\n",
    "import keras.backend as K\n",
    "from keras.layers import Input, Dense, LSTM, GRU, Embedding, Lambda\n",
    "from keras.models import Model, load_model\n",
    "from keras.optimizers import Adam\n",
    "from keras.callbacks import ModelCheckpoint\n",
    "from keras.utils.vis_utils import model_to_dot"
   ]
  },
  {
   "cell_type": "code",
   "execution_count": 3,
   "metadata": {},
   "outputs": [],
   "source": [
    "num_train_examples  = 1000\n",
    "max_train_length = 10\n",
    "\n",
    "num_test_examples = 1000\n",
    "min_test_length=5\n",
    "max_test_length=100\n",
    "step_test_length=5"
   ]
  },
  {
   "cell_type": "code",
   "execution_count": 4,
   "metadata": {},
   "outputs": [],
   "source": [
    "X = np.zeros((num_train_examples,max_train_length))\n",
    "sum_X = np.zeros((num_train_examples))\n",
    "for i in range(num_train_examples):\n",
    "    n = np.random.randint(1,max_train_length)\n",
    "    for j in range(1,n+1):\n",
    "        X[i,-j] = np.random.randint(1,10)\n",
    "    sum_X[i] = np.sum(X[i])"
   ]
  },
  {
   "cell_type": "code",
   "execution_count": 5,
   "metadata": {},
   "outputs": [],
   "source": [
    "input_txt = Input(shape=(max_train_length,))"
   ]
  },
  {
   "cell_type": "code",
   "execution_count": 6,
   "metadata": {},
   "outputs": [],
   "source": [
    "x = Embedding(11, 100, mask_zero=True)(input_txt)"
   ]
  },
  {
   "cell_type": "code",
   "execution_count": 7,
   "metadata": {},
   "outputs": [
    {
     "data": {
      "text/plain": [
       "TensorShape([Dimension(None), Dimension(10), Dimension(100)])"
      ]
     },
     "execution_count": 7,
     "metadata": {},
     "output_type": "execute_result"
    }
   ],
   "source": [
    "x.shape"
   ]
  },
  {
   "cell_type": "code",
   "execution_count": 8,
   "metadata": {},
   "outputs": [],
   "source": [
    "x = Dense(30, activation='tanh')(x)"
   ]
  },
  {
   "cell_type": "code",
   "execution_count": null,
   "metadata": {},
   "outputs": [],
   "source": [
    "Adder = Lambda(lambda x: K.sum(x, axis=1), output_shape=(lambda shape: (shape[0], shape[2])))"
   ]
  },
  {
   "cell_type": "code",
   "execution_count": null,
   "metadata": {},
   "outputs": [],
   "source": [
    "x = Adder(x)"
   ]
  },
  {
   "cell_type": "code",
   "execution_count": null,
   "metadata": {},
   "outputs": [],
   "source": [
    "encoded = Dense(1)(x)"
   ]
  },
  {
   "cell_type": "code",
   "execution_count": 10,
   "metadata": {},
   "outputs": [
    {
     "data": {
      "text/plain": [
       "array([[0., 0., 0., 0., 0., 0., 7., 6., 7., 8.],\n",
       "       [0., 0., 0., 0., 0., 0., 0., 2., 6., 3.],\n",
       "       [0., 0., 0., 0., 0., 0., 0., 0., 0., 9.],\n",
       "       [0., 0., 6., 3., 3., 8., 4., 2., 6., 2.],\n",
       "       [0., 0., 0., 0., 0., 0., 0., 0., 8., 7.],\n",
       "       [0., 0., 0., 0., 3., 9., 2., 7., 7., 5.],\n",
       "       [0., 0., 0., 0., 0., 6., 9., 1., 7., 1.],\n",
       "       [0., 0., 0., 0., 0., 0., 0., 0., 0., 3.],\n",
       "       [0., 0., 0., 9., 3., 3., 7., 8., 2., 9.],\n",
       "       [0., 0., 0., 0., 0., 6., 3., 7., 6., 3.],\n",
       "       [0., 0., 0., 0., 0., 9., 5., 3., 9., 1.],\n",
       "       [0., 0., 7., 1., 5., 6., 3., 7., 6., 9.],\n",
       "       [0., 0., 0., 0., 0., 0., 7., 1., 9., 1.],\n",
       "       [0., 0., 0., 0., 0., 0., 2., 9., 9., 5.],\n",
       "       [0., 0., 0., 0., 0., 0., 0., 1., 8., 5.],\n",
       "       [0., 0., 0., 0., 0., 0., 0., 1., 3., 9.],\n",
       "       [0., 0., 0., 0., 0., 0., 0., 9., 3., 8.],\n",
       "       [0., 0., 4., 2., 2., 4., 7., 1., 4., 3.],\n",
       "       [0., 0., 1., 8., 3., 2., 8., 4., 6., 2.],\n",
       "       [0., 0., 0., 0., 0., 0., 0., 5., 8., 8.]])"
      ]
     },
     "execution_count": 10,
     "metadata": {},
     "output_type": "execute_result"
    }
   ],
   "source": [
    "summer = Model(input_txt, encoded)"
   ]
  }
 ],
 "metadata": {
  "kernelspec": {
   "display_name": "Python 3",
   "language": "python",
   "name": "python3"
  },
  "language_info": {
   "codemirror_mode": {
    "name": "ipython",
    "version": 3
   },
   "file_extension": ".py",
   "mimetype": "text/x-python",
   "name": "python",
   "nbconvert_exporter": "python",
   "pygments_lexer": "ipython3",
   "version": "3.5.4"
  }
 },
 "nbformat": 4,
 "nbformat_minor": 2
}

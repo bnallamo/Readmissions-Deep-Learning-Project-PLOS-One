{
 "cells": [
  {
   "cell_type": "code",
   "execution_count": 1,
   "metadata": {},
   "outputs": [],
   "source": [
    "import numpy as np\n",
    "import matplotlib.pyplot as plt\n",
    "%matplotlib inline\n",
    "import pandas as pd"
   ]
  },
  {
   "cell_type": "markdown",
   "metadata": {},
   "source": [
    "## Prepare hyper-parameters and generate the .sh files"
   ]
  },
  {
   "cell_type": "code",
   "execution_count": 27,
   "metadata": {},
   "outputs": [],
   "source": [
    "n_sample = 500\n",
    "n_job = 7"
   ]
  },
  {
   "cell_type": "code",
   "execution_count": 28,
   "metadata": {},
   "outputs": [],
   "source": [
    "for i in range(n_job):\n",
    "    model_names = np.random.choice(['setsum', 'interact'], n_sample)\n",
    "    penalty_norms = np.random.choice([1, 2], n_sample)\n",
    "    rare_cutpoints = np.random.choice([5, 10, 15, 20, 25, 30, 40, 50], n_sample)\n",
    "    fc_widths = np.random.randint(24, 48, n_sample)\n",
    "    DX_dims = np.random.randint(30, 40, n_sample)\n",
    "    hosp_dims = np.random.randint(1, 4, n_sample)\n",
    "    lrs = np.random.rand(n_sample)*3e-4+1e-5\n",
    "    dropouts = np.random.rand(n_sample)*0.3\n",
    "    batch_sizes = np.random.randint(200, 300, n_sample)\n",
    "    penalties = np.random.rand(n_sample)*0.005\n",
    "    rm_all_missings = np.random.choice([0, 1], n_sample)\n",
    "    dense_activations = np.random.choice(['relu', 'tanh'], n_sample)\n",
    "    job_indices= np.random.choice([i], n_sample)\n",
    "\n",
    "    parameters = list(zip(model_names, penalty_norms, rare_cutpoints, fc_widths, DX_dims, hosp_dims, lrs, dropouts, batch_sizes, \n",
    "                      penalties, rm_all_missings, dense_activations, job_indices))\n",
    "    \n",
    "    for para in parameters:\n",
    "        with open('hypertune'+str(i)+'.sh', 'a') as f:\n",
    "            f.write('python training_template.py --model_name {0} --penalty_norm {1} --rare_cutpoint {2} --fc_width {3} --dx_dim {4} --hosp_dim {5} --lr {6} --dropout {7} --batchsize {8} --penalty {9} --rm_all_missing {10} --dense_activation {11} --job_index {12}\\n'.format(*para))"
   ]
  },
  {
   "cell_type": "code",
   "execution_count": 119,
   "metadata": {},
   "outputs": [],
   "source": [
    "n_sample = 400\n",
    "n_job = 8"
   ]
  },
  {
   "cell_type": "code",
   "execution_count": 120,
   "metadata": {},
   "outputs": [],
   "source": [
    "for i in range(n_job):\n",
    "    model_names = np.random.choice(['setsum'], n_sample)\n",
    "    penalty_norms = np.random.choice([1, 2], n_sample)\n",
    "    rare_cutpoints = np.random.choice([10], n_sample)\n",
    "    fc_widths = np.random.choice([128], n_sample)\n",
    "    DX_dims = np.random.choice([128], n_sample)\n",
    "    lrs = np.random.rand(n_sample)*2e-4+1e-5\n",
    "    dropouts = np.random.rand(n_sample)*0.4+0.1\n",
    "    batch_sizes = np.random.choice([128], n_sample)\n",
    "    penalties = np.random.rand(n_sample)*5e-3\n",
    "    embed_dx1s = np.random.choice([0, 1], n_sample)\n",
    "    n_dense1s = np.random.choice([1, 2], n_sample)\n",
    "    n_dense2s = np.random.choice([1, 2], n_sample)\n",
    "    parent_mat_lvls = np.random.choice([1, 0], n_sample)\n",
    "    \n",
    "    penalties[(penalty_norms==1) & (parent_mat_lvls==0)] *= 0.05\n",
    "    penalties[(penalty_norms==1) & (parent_mat_lvls==1)] *= 5e-3\n",
    "    penalties[(penalty_norms==2) & (parent_mat_lvls==1)] *= 0.2\n",
    "    \n",
    "    job_indices= np.random.choice([i], n_sample)\n",
    "\n",
    "    parameters = list(zip(model_names, penalty_norms, rare_cutpoints, fc_widths, DX_dims, lrs, dropouts, batch_sizes, \n",
    "                      penalties, embed_dx1s, n_dense1s, n_dense2s, parent_mat_lvls, job_indices))\n",
    "    \n",
    "    for para in parameters:\n",
    "        with open('hypertune'+str(i)+'.sh', 'a') as f:\n",
    "            f.write('python train_template0731.py --model_name {0} --penalty_norm {1} --rare_cutpoint {2} --fc_width {3} --dx_dim {4}  --lr {5} --dropout {6} --batchsize {7} --penalty {8} --embed_dx1 {9} --n_dense1 {10} --n_dense2 {11} --parent_mat_lvl {12} --job_index {13}\\n'.format(*para))"
   ]
  },
  {
   "cell_type": "code",
   "execution_count": 9,
   "metadata": {},
   "outputs": [],
   "source": [
    "#for l1 norm:\n",
    "for i in range(n_job_l2, n_job_l2+n_job_l1):\n",
    "    model_names = np.random.choice(['setsum'], n_sample)\n",
    "    penalty_norms = np.random.choice([1], n_sample)\n",
    "    rare_cutpoints = np.random.choice([10, 20, 30, 40], n_sample)\n",
    "    fc_widths = np.random.choice([64], n_sample)\n",
    "    DX_dims = np.random.choice([128], n_sample)\n",
    "    lrs = np.random.rand(n_sample)*2e-4+5e-5\n",
    "    dropouts = np.random.rand(n_sample)*0.4+0.1\n",
    "    batch_sizes = np.random.choice([128], n_sample)\n",
    "    penalties = np.random.rand(n_sample)*5e-4\n",
    "    embed_dx1s = np.random.choice([0, 1], n_sample)\n",
    "    n_dense1s = np.random.choice([2], n_sample)\n",
    "    n_dense2s = np.random.choice([2], n_sample)\n",
    "    parent_mat_lvls = np.random.choice([0], n_sample)\n",
    "    job_indices= np.random.choice([i], n_sample)\n",
    "\n",
    "    parameters = list(zip(model_names, penalty_norms, rare_cutpoints, fc_widths, DX_dims, lrs, dropouts, batch_sizes, \n",
    "                      penalties, embed_dx1s, n_dense1s, n_dense2s, parent_mat_lvls, job_indices))\n",
    "    \n",
    "    for para in parameters:\n",
    "        with open('hypertune'+str(i)+'.sh', 'a') as f:\n",
    "            f.write('python train_template0730.py --model_name {0} --penalty_norm {1} --rare_cutpoint {2} --fc_width {3} --dx_dim {4}  --lr {5} --dropout {6} --batchsize {7} --penalty {8} --embed_dx1 {9} --n_dense1 {10} --n_dense2 {11} --parent_mat_lvl {12} --job_index {13}\\n'.format(*para))"
   ]
  },
  {
   "cell_type": "markdown",
   "metadata": {},
   "source": [
    "## Result Analysis"
   ]
  },
  {
   "cell_type": "code",
   "execution_count": 5,
   "metadata": {},
   "outputs": [],
   "source": [
    "res = pd.DataFrame()"
   ]
  },
  {
   "cell_type": "code",
   "execution_count": 19,
   "metadata": {},
   "outputs": [],
   "source": [
    "for i in range(4):\n",
    "    df = pd.read_csv('output/hypertune_masksum'+str(i)+'.csv', names=['sum_layer', 'rare_cutpoint', 'DX_dim', 'hosp_dim', 'penalty', 'fc_width', 'lr', 'dropout', 'batchsize', 'auc'])\n",
    "    res = pd.concat([res, df])\n",
    "for i in range(4):\n",
    "    df = pd.read_csv('output/hypertune_lstm'+str(i)+'.csv', names=['sum_layer', 'rare_cutpoint', 'DX_dim', 'hosp_dim', 'penalty', 'fc_width', 'lr', 'dropout', 'batchsize', 'auc'])\n",
    "    res = pd.concat([res, df])"
   ]
  },
  {
   "cell_type": "code",
   "execution_count": 40,
   "metadata": {},
   "outputs": [],
   "source": [
    "for i in range(7):\n",
    "    df = pd.read_csv('output/result0725_'+str(i)+'.csv', names=['model_name', 'penalty_norm', 'rare_cutpoint', 'fc_width', \n",
    "                                                                'DX_dim', 'hosp_dim', 'lr', 'dropout', 'batchsize', \n",
    "                                                                'penalty', 'rm_all_missing', 'dense_activation', 'auc'])\n",
    "    res = pd.concat([res, df])    "
   ]
  },
  {
   "cell_type": "code",
   "execution_count": 5,
   "metadata": {},
   "outputs": [],
   "source": [
    "for i in range(7):\n",
    "    df = pd.read_csv('output/result0726_'+str(i)+'.csv', names=['model_name', 'penalty_norm', 'rare_cutpoint', 'fc_width', \n",
    "                                                                'DX_dim', 'lr', 'dropout', 'batchsize', 'penalty', 'embed_dx1', \n",
    "                                                                'n_dense1', 'n_dense2', 'auc'])\n",
    "    res = pd.concat([res, df])    "
   ]
  },
  {
   "cell_type": "code",
   "execution_count": 6,
   "metadata": {},
   "outputs": [],
   "source": [
    "for i in range(8):\n",
    "    df = pd.read_csv('output/result0731_'+str(i)+'.csv', names=['model_name', 'penalty_norm', 'rare_cutpoint', 'fc_width', \n",
    "                                                                'DX_dim', 'lr', 'dropout', 'batchsize', 'penalty', 'embed_dx1', \n",
    "                                                                'n_dense1', 'n_dense2', 'parent_mat_lvl', 'auc'])\n",
    "    res = pd.concat([res, df])    "
   ]
  },
  {
   "cell_type": "code",
   "execution_count": 7,
   "metadata": {},
   "outputs": [
    {
     "data": {
      "text/plain": [
       "(3125, 14)"
      ]
     },
     "execution_count": 7,
     "metadata": {},
     "output_type": "execute_result"
    }
   ],
   "source": [
    "res.shape"
   ]
  },
  {
   "cell_type": "code",
   "execution_count": 9,
   "metadata": {},
   "outputs": [],
   "source": [
    "res.to_csv('output/result0731.csv', index=False)"
   ]
  },
  {
   "cell_type": "code",
   "execution_count": 8,
   "metadata": {
    "scrolled": true
   },
   "outputs": [
    {
     "data": {
      "text/html": [
       "<div>\n",
       "<style scoped>\n",
       "    .dataframe tbody tr th:only-of-type {\n",
       "        vertical-align: middle;\n",
       "    }\n",
       "\n",
       "    .dataframe tbody tr th {\n",
       "        vertical-align: top;\n",
       "    }\n",
       "\n",
       "    .dataframe thead th {\n",
       "        text-align: right;\n",
       "    }\n",
       "</style>\n",
       "<table border=\"1\" class=\"dataframe\">\n",
       "  <thead>\n",
       "    <tr style=\"text-align: right;\">\n",
       "      <th></th>\n",
       "      <th>model_name</th>\n",
       "      <th>penalty_norm</th>\n",
       "      <th>rare_cutpoint</th>\n",
       "      <th>fc_width</th>\n",
       "      <th>DX_dim</th>\n",
       "      <th>lr</th>\n",
       "      <th>dropout</th>\n",
       "      <th>batchsize</th>\n",
       "      <th>penalty</th>\n",
       "      <th>embed_dx1</th>\n",
       "      <th>n_dense1</th>\n",
       "      <th>n_dense2</th>\n",
       "      <th>parent_mat_lvl</th>\n",
       "      <th>auc</th>\n",
       "    </tr>\n",
       "  </thead>\n",
       "  <tbody>\n",
       "    <tr>\n",
       "      <th>0</th>\n",
       "      <td>setsum</td>\n",
       "      <td>1</td>\n",
       "      <td>10</td>\n",
       "      <td>128</td>\n",
       "      <td>128</td>\n",
       "      <td>0.000200</td>\n",
       "      <td>0.1047</td>\n",
       "      <td>128</td>\n",
       "      <td>0.000225</td>\n",
       "      <td>0</td>\n",
       "      <td>2</td>\n",
       "      <td>2</td>\n",
       "      <td>0</td>\n",
       "      <td>0.7076</td>\n",
       "    </tr>\n",
       "    <tr>\n",
       "      <th>1</th>\n",
       "      <td>setsum</td>\n",
       "      <td>1</td>\n",
       "      <td>10</td>\n",
       "      <td>128</td>\n",
       "      <td>128</td>\n",
       "      <td>0.000132</td>\n",
       "      <td>0.1507</td>\n",
       "      <td>128</td>\n",
       "      <td>0.000205</td>\n",
       "      <td>0</td>\n",
       "      <td>2</td>\n",
       "      <td>1</td>\n",
       "      <td>0</td>\n",
       "      <td>0.7102</td>\n",
       "    </tr>\n",
       "    <tr>\n",
       "      <th>2</th>\n",
       "      <td>setsum</td>\n",
       "      <td>1</td>\n",
       "      <td>10</td>\n",
       "      <td>128</td>\n",
       "      <td>128</td>\n",
       "      <td>0.000126</td>\n",
       "      <td>0.2764</td>\n",
       "      <td>128</td>\n",
       "      <td>0.000021</td>\n",
       "      <td>0</td>\n",
       "      <td>1</td>\n",
       "      <td>1</td>\n",
       "      <td>1</td>\n",
       "      <td>0.7109</td>\n",
       "    </tr>\n",
       "    <tr>\n",
       "      <th>3</th>\n",
       "      <td>setsum</td>\n",
       "      <td>2</td>\n",
       "      <td>10</td>\n",
       "      <td>128</td>\n",
       "      <td>128</td>\n",
       "      <td>0.000163</td>\n",
       "      <td>0.3226</td>\n",
       "      <td>128</td>\n",
       "      <td>0.003665</td>\n",
       "      <td>0</td>\n",
       "      <td>1</td>\n",
       "      <td>2</td>\n",
       "      <td>0</td>\n",
       "      <td>0.7109</td>\n",
       "    </tr>\n",
       "    <tr>\n",
       "      <th>4</th>\n",
       "      <td>setsum</td>\n",
       "      <td>1</td>\n",
       "      <td>10</td>\n",
       "      <td>128</td>\n",
       "      <td>128</td>\n",
       "      <td>0.000026</td>\n",
       "      <td>0.4884</td>\n",
       "      <td>128</td>\n",
       "      <td>0.000008</td>\n",
       "      <td>1</td>\n",
       "      <td>1</td>\n",
       "      <td>2</td>\n",
       "      <td>1</td>\n",
       "      <td>0.7063</td>\n",
       "    </tr>\n",
       "  </tbody>\n",
       "</table>\n",
       "</div>"
      ],
      "text/plain": [
       "  model_name  penalty_norm  rare_cutpoint  fc_width  DX_dim        lr  \\\n",
       "0     setsum             1             10       128     128  0.000200   \n",
       "1     setsum             1             10       128     128  0.000132   \n",
       "2     setsum             1             10       128     128  0.000126   \n",
       "3     setsum             2             10       128     128  0.000163   \n",
       "4     setsum             1             10       128     128  0.000026   \n",
       "\n",
       "   dropout  batchsize   penalty  embed_dx1  n_dense1  n_dense2  \\\n",
       "0   0.1047        128  0.000225          0         2         2   \n",
       "1   0.1507        128  0.000205          0         2         1   \n",
       "2   0.2764        128  0.000021          0         1         1   \n",
       "3   0.3226        128  0.003665          0         1         2   \n",
       "4   0.4884        128  0.000008          1         1         2   \n",
       "\n",
       "   parent_mat_lvl     auc  \n",
       "0               0  0.7076  \n",
       "1               0  0.7102  \n",
       "2               1  0.7109  \n",
       "3               0  0.7109  \n",
       "4               1  0.7063  "
      ]
     },
     "execution_count": 8,
     "metadata": {},
     "output_type": "execute_result"
    }
   ],
   "source": [
    "res.head()"
   ]
  },
  {
   "cell_type": "code",
   "execution_count": 10,
   "metadata": {
    "scrolled": true
   },
   "outputs": [
    {
     "data": {
      "text/plain": [
       "parent_mat_lvl\n",
       "0    AxesSubplot(0.125,0.125;0.775x0.755)\n",
       "1    AxesSubplot(0.125,0.125;0.775x0.755)\n",
       "Name: auc, dtype: object"
      ]
     },
     "execution_count": 10,
     "metadata": {},
     "output_type": "execute_result"
    },
    {
     "data": {
      "image/png": "[encoded data removed]",
      "text/plain": [
       "<Figure size 432x288 with 1 Axes>"
      ]
     },
     "metadata": {},
     "output_type": "display_data"
    }
   ],
   "source": [
    "res.groupby('parent_mat_lvl').auc.hist(alpha=0.5)"
   ]
  },
  {
   "cell_type": "code",
   "execution_count": 11,
   "metadata": {
    "scrolled": true
   },
   "outputs": [
    {
     "data": {
      "text/plain": [
       "penalty_norm\n",
       "1    AxesSubplot(0.125,0.125;0.775x0.755)\n",
       "2    AxesSubplot(0.125,0.125;0.775x0.755)\n",
       "Name: auc, dtype: object"
      ]
     },
     "execution_count": 11,
     "metadata": {},
     "output_type": "execute_result"
    },
    {
     "data": {
      "image/png": "[encoded data removed]",
      "text/plain": [
       "<Figure size 432x288 with 1 Axes>"
      ]
     },
     "metadata": {},
     "output_type": "display_data"
    }
   ],
   "source": [
    "res.groupby('penalty_norm').auc.hist(alpha=0.5)"
   ]
  },
  {
   "cell_type": "code",
   "execution_count": 73,
   "metadata": {},
   "outputs": [
    {
     "data": {
      "text/plain": [
       "embed_dx1\n",
       "0    AxesSubplot(0.125,0.125;0.775x0.755)\n",
       "1    AxesSubplot(0.125,0.125;0.775x0.755)\n",
       "Name: auc, dtype: object"
      ]
     },
     "execution_count": 73,
     "metadata": {},
     "output_type": "execute_result"
    },
    {
     "data": {
      "image/png": "[encoded data removed]",
      "text/plain": [
       "<Figure size 432x288 with 1 Axes>"
      ]
     },
     "metadata": {},
     "output_type": "display_data"
    }
   ],
   "source": [
    "res.groupby('embed_dx1').auc.hist(alpha=0.5)"
   ]
  },
  {
   "cell_type": "code",
   "execution_count": 77,
   "metadata": {},
   "outputs": [],
   "source": [
    "subset = res.loc[(res.model_name=='setsum') & (res.penalty_norm == 1) & (res.parent_mat_lvl==1) & (res.embed_dx1>-1) & \n",
    "                 (res.lr>1.5e-4)]"
   ]
  },
  {
   "cell_type": "code",
   "execution_count": 73,
   "metadata": {},
   "outputs": [],
   "source": [
    "subset = res.loc[(res.model_name=='setsum') & (res.penalty_norm == 2)]"
   ]
  },
  {
   "cell_type": "code",
   "execution_count": 78,
   "metadata": {},
   "outputs": [
    {
     "data": {
      "text/plain": [
       "embed_dx1\n",
       "0    AxesSubplot(0.125,0.125;0.775x0.755)\n",
       "1    AxesSubplot(0.125,0.125;0.775x0.755)\n",
       "Name: auc, dtype: object"
      ]
     },
     "execution_count": 78,
     "metadata": {},
     "output_type": "execute_result"
    },
    {
     "data": {
      "image/png": "[encoded data removed]",
      "text/plain": [
       "<Figure size 432x288 with 1 Axes>"
      ]
     },
     "metadata": {},
     "output_type": "display_data"
    }
   ],
   "source": [
    "subset.groupby('embed_dx1').auc.hist(alpha=0.5)"
   ]
  },
  {
   "cell_type": "code",
   "execution_count": 74,
   "metadata": {
    "collapsed": true
   },
   "outputs": [
    {
     "data": {
      "text/plain": [
       "parent_mat_lvl\n",
       "0    AxesSubplot(0.125,0.125;0.775x0.755)\n",
       "1    AxesSubplot(0.125,0.125;0.775x0.755)\n",
       "Name: auc, dtype: object"
      ]
     },
     "execution_count": 74,
     "metadata": {},
     "output_type": "execute_result"
    },
    {
     "data": {
      "image/png": "[encoded data removed]",
      "text/plain": [
       "<Figure size 432x288 with 1 Axes>"
      ]
     },
     "metadata": {},
     "output_type": "display_data"
    }
   ],
   "source": [
    "subset.groupby('parent_mat_lvl').auc.hist(alpha=0.5)"
   ]
  },
  {
   "cell_type": "code",
   "execution_count": 79,
   "metadata": {
    "scrolled": false
   },
   "outputs": [
    {
     "data": {
      "text/plain": [
       "<matplotlib.axes._subplots.AxesSubplot at 0x2b8c83982748>"
      ]
     },
     "execution_count": 79,
     "metadata": {},
     "output_type": "execute_result"
    },
    {
     "data": {
      "image/png": "[encoded data removed]",
      "text/plain": [
       "<Figure size 432x288 with 1 Axes>"
      ]
     },
     "metadata": {},
     "output_type": "display_data"
    }
   ],
   "source": [
    "subset.plot.scatter('penalty', 'auc', xlim=(-1e-5, 3e-5), ylim=(0.699, 0.714))"
   ]
  },
  {
   "cell_type": "code",
   "execution_count": 23,
   "metadata": {
    "collapsed": true
   },
   "outputs": [
    {
     "data": {
      "text/plain": [
       "<matplotlib.axes._subplots.AxesSubplot at 0x2b18e1071828>"
      ]
     },
     "execution_count": 23,
     "metadata": {},
     "output_type": "execute_result"
    },
    {
     "data": {
      "image/png": "[encoded data removed]",
      "text/plain": [
       "<Figure size 432x288 with 1 Axes>"
      ]
     },
     "metadata": {},
     "output_type": "display_data"
    }
   ],
   "source": [
    "subset.plot.scatter('rare_cutpoint', 'auc', ylim=(0.698, 0.714))"
   ]
  },
  {
   "cell_type": "code",
   "execution_count": 71,
   "metadata": {
    "scrolled": false
   },
   "outputs": [
    {
     "data": {
      "text/plain": [
       "<matplotlib.axes._subplots.AxesSubplot at 0x2b8c8375f7b8>"
      ]
     },
     "execution_count": 71,
     "metadata": {},
     "output_type": "execute_result"
    },
    {
     "data": {
      "image/png": "[encoded data removed]",
      "text/plain": [
       "<Figure size 432x288 with 1 Axes>"
      ]
     },
     "metadata": {},
     "output_type": "display_data"
    }
   ],
   "source": [
    "subset.plot.scatter('lr', 'auc', xlim=(0, 0.00035), ylim=(0.698, 0.714))"
   ]
  },
  {
   "cell_type": "code",
   "execution_count": 28,
   "metadata": {
    "collapsed": true
   },
   "outputs": [
    {
     "data": {
      "text/plain": [
       "<matplotlib.axes._subplots.AxesSubplot at 0x2b8c565d9048>"
      ]
     },
     "execution_count": 28,
     "metadata": {},
     "output_type": "execute_result"
    },
    {
     "data": {
      "image/png": "[encoded data removed]",
      "text/plain": [
       "<Figure size 432x288 with 1 Axes>"
      ]
     },
     "metadata": {},
     "output_type": "display_data"
    }
   ],
   "source": [
    "subset.plot.scatter('batchsize', 'auc', ylim=(0.699, 0.714))"
   ]
  },
  {
   "cell_type": "code",
   "execution_count": 29,
   "metadata": {
    "collapsed": true
   },
   "outputs": [
    {
     "data": {
      "text/plain": [
       "<matplotlib.axes._subplots.AxesSubplot at 0x2b8c566baef0>"
      ]
     },
     "execution_count": 29,
     "metadata": {},
     "output_type": "execute_result"
    },
    {
     "data": {
      "image/png": "[encoded data removed]",
      "text/plain": [
       "<Figure size 432x288 with 1 Axes>"
      ]
     },
     "metadata": {},
     "output_type": "display_data"
    }
   ],
   "source": [
    "subset.plot.scatter('fc_width', 'auc', ylim=(0.698, 0.714))"
   ]
  },
  {
   "cell_type": "code",
   "execution_count": 72,
   "metadata": {
    "scrolled": false
   },
   "outputs": [
    {
     "data": {
      "text/plain": [
       "<matplotlib.axes._subplots.AxesSubplot at 0x2b8c837f0cc0>"
      ]
     },
     "execution_count": 72,
     "metadata": {},
     "output_type": "execute_result"
    },
    {
     "data": {
      "image/png": "[encoded data removed]",
      "text/plain": [
       "<Figure size 432x288 with 1 Axes>"
      ]
     },
     "metadata": {},
     "output_type": "display_data"
    }
   ],
   "source": [
    "subset.plot.scatter('dropout', 'auc', ylim=(0.698, 0.713))"
   ]
  },
  {
   "cell_type": "code",
   "execution_count": 31,
   "metadata": {
    "collapsed": true
   },
   "outputs": [
    {
     "data": {
      "text/plain": [
       "<matplotlib.axes._subplots.AxesSubplot at 0x2b8c56731898>"
      ]
     },
     "execution_count": 31,
     "metadata": {},
     "output_type": "execute_result"
    },
    {
     "data": {
      "image/png": "[encoded data removed]",
      "text/plain": [
       "<Figure size 432x288 with 1 Axes>"
      ]
     },
     "metadata": {},
     "output_type": "display_data"
    }
   ],
   "source": [
    "subset.plot.scatter('DX_dim', 'auc', ylim=(0.698, 0.714))"
   ]
  },
  {
   "cell_type": "code",
   "execution_count": 33,
   "metadata": {
    "scrolled": true
   },
   "outputs": [
    {
     "data": {
      "text/plain": [
       "n_dense2\n",
       "1    AxesSubplot(0.125,0.125;0.775x0.755)\n",
       "2    AxesSubplot(0.125,0.125;0.775x0.755)\n",
       "Name: auc, dtype: object"
      ]
     },
     "execution_count": 33,
     "metadata": {},
     "output_type": "execute_result"
    },
    {
     "data": {
      "image/png": "[encoded data removed]",
      "text/plain": [
       "<Figure size 432x288 with 1 Axes>"
      ]
     },
     "metadata": {},
     "output_type": "display_data"
    }
   ],
   "source": [
    "subset.groupby('n_dense2').auc.plot(kind='kde')"
   ]
  },
  {
   "cell_type": "code",
   "execution_count": 22,
   "metadata": {
    "scrolled": true
   },
   "outputs": [],
   "source": [
    "highauc = res.loc[(res.model_name=='setsum') & (res.auc>0.7092) & (res.penalty_norm==2)]"
   ]
  },
  {
   "cell_type": "code",
   "execution_count": 55,
   "metadata": {},
   "outputs": [
    {
     "data": {
      "text/plain": [
       "<matplotlib.axes._subplots.AxesSubplot at 0x2b6d4940cb38>"
      ]
     },
     "execution_count": 55,
     "metadata": {},
     "output_type": "execute_result"
    },
    {
     "data": {
      "image/png": "[encoded data removed]",
      "text/plain": [
       "<Figure size 432x288 with 1 Axes>"
      ]
     },
     "metadata": {},
     "output_type": "display_data"
    }
   ],
   "source": [
    "highauc.plot.scatter('lr', 'batchsize', xlim=(0, 3e-4))"
   ]
  },
  {
   "cell_type": "code",
   "execution_count": 56,
   "metadata": {
    "scrolled": true
   },
   "outputs": [
    {
     "data": {
      "text/plain": [
       "<matplotlib.axes._subplots.AxesSubplot at 0x2b6d493dd6a0>"
      ]
     },
     "execution_count": 56,
     "metadata": {},
     "output_type": "execute_result"
    },
    {
     "data": {
      "image/png": "[encoded data removed]",
      "text/plain": [
       "<Figure size 432x288 with 1 Axes>"
      ]
     },
     "metadata": {},
     "output_type": "display_data"
    }
   ],
   "source": [
    "highauc.plot.scatter('penalty', 'rare_cutpoint', xlim=(0, 0.01), ylim=(0,51))"
   ]
  },
  {
   "cell_type": "code",
   "execution_count": 57,
   "metadata": {
    "scrolled": true
   },
   "outputs": [
    {
     "data": {
      "text/plain": [
       "<matplotlib.axes._subplots.AxesSubplot at 0x2b6d494b18d0>"
      ]
     },
     "execution_count": 57,
     "metadata": {},
     "output_type": "execute_result"
    },
    {
     "data": {
      "image/png": "[encoded data removed]",
      "text/plain": [
       "<Figure size 432x288 with 1 Axes>"
      ]
     },
     "metadata": {},
     "output_type": "display_data"
    }
   ],
   "source": [
    "highauc.plot.scatter('rare_cutpoint', 'penalty_norm')"
   ]
  },
  {
   "cell_type": "code",
   "execution_count": 68,
   "metadata": {},
   "outputs": [
    {
     "data": {
      "text/html": [
       "<div>\n",
       "<style scoped>\n",
       "    .dataframe tbody tr th:only-of-type {\n",
       "        vertical-align: middle;\n",
       "    }\n",
       "\n",
       "    .dataframe tbody tr th {\n",
       "        vertical-align: top;\n",
       "    }\n",
       "\n",
       "    .dataframe thead th {\n",
       "        text-align: right;\n",
       "    }\n",
       "</style>\n",
       "<table border=\"1\" class=\"dataframe\">\n",
       "  <thead>\n",
       "    <tr style=\"text-align: right;\">\n",
       "      <th>penalty_norm</th>\n",
       "      <th>1</th>\n",
       "      <th>2</th>\n",
       "    </tr>\n",
       "    <tr>\n",
       "      <th>parent_mat_lvl</th>\n",
       "      <th></th>\n",
       "      <th></th>\n",
       "    </tr>\n",
       "  </thead>\n",
       "  <tbody>\n",
       "    <tr>\n",
       "      <th>0</th>\n",
       "      <td>5</td>\n",
       "      <td>11</td>\n",
       "    </tr>\n",
       "    <tr>\n",
       "      <th>1</th>\n",
       "      <td>19</td>\n",
       "      <td>6</td>\n",
       "    </tr>\n",
       "  </tbody>\n",
       "</table>\n",
       "</div>"
      ],
      "text/plain": [
       "penalty_norm     1   2\n",
       "parent_mat_lvl        \n",
       "0                5  11\n",
       "1               19   6"
      ]
     },
     "execution_count": 68,
     "metadata": {},
     "output_type": "execute_result"
    }
   ],
   "source": [
    "pd.crosstab(highauc.parent_mat_lvl, highauc.penalty_norm)"
   ]
  },
  {
   "cell_type": "code",
   "execution_count": 60,
   "metadata": {
    "scrolled": false
   },
   "outputs": [],
   "source": [
    "highauc = res.loc[(res.auc>0.712)]"
   ]
  },
  {
   "cell_type": "code",
   "execution_count": 61,
   "metadata": {
    "scrolled": true
   },
   "outputs": [
    {
     "data": {
      "text/html": [
       "<div>\n",
       "<style scoped>\n",
       "    .dataframe tbody tr th:only-of-type {\n",
       "        vertical-align: middle;\n",
       "    }\n",
       "\n",
       "    .dataframe tbody tr th {\n",
       "        vertical-align: top;\n",
       "    }\n",
       "\n",
       "    .dataframe thead th {\n",
       "        text-align: right;\n",
       "    }\n",
       "</style>\n",
       "<table border=\"1\" class=\"dataframe\">\n",
       "  <thead>\n",
       "    <tr style=\"text-align: right;\">\n",
       "      <th></th>\n",
       "      <th>model_name</th>\n",
       "      <th>penalty_norm</th>\n",
       "      <th>rare_cutpoint</th>\n",
       "      <th>fc_width</th>\n",
       "      <th>DX_dim</th>\n",
       "      <th>lr</th>\n",
       "      <th>dropout</th>\n",
       "      <th>batchsize</th>\n",
       "      <th>penalty</th>\n",
       "      <th>embed_dx1</th>\n",
       "      <th>n_dense1</th>\n",
       "      <th>n_dense2</th>\n",
       "      <th>parent_mat_lvl</th>\n",
       "      <th>auc</th>\n",
       "    </tr>\n",
       "  </thead>\n",
       "  <tbody>\n",
       "    <tr>\n",
       "      <th>189</th>\n",
       "      <td>setsum</td>\n",
       "      <td>1</td>\n",
       "      <td>10</td>\n",
       "      <td>128</td>\n",
       "      <td>128</td>\n",
       "      <td>0.000148</td>\n",
       "      <td>0.3465</td>\n",
       "      <td>128</td>\n",
       "      <td>0.000009</td>\n",
       "      <td>0</td>\n",
       "      <td>1</td>\n",
       "      <td>2</td>\n",
       "      <td>1</td>\n",
       "      <td>0.7121</td>\n",
       "    </tr>\n",
       "    <tr>\n",
       "      <th>195</th>\n",
       "      <td>setsum</td>\n",
       "      <td>2</td>\n",
       "      <td>10</td>\n",
       "      <td>128</td>\n",
       "      <td>128</td>\n",
       "      <td>0.000153</td>\n",
       "      <td>0.4175</td>\n",
       "      <td>128</td>\n",
       "      <td>0.001487</td>\n",
       "      <td>0</td>\n",
       "      <td>1</td>\n",
       "      <td>1</td>\n",
       "      <td>0</td>\n",
       "      <td>0.7122</td>\n",
       "    </tr>\n",
       "    <tr>\n",
       "      <th>243</th>\n",
       "      <td>setsum</td>\n",
       "      <td>1</td>\n",
       "      <td>10</td>\n",
       "      <td>128</td>\n",
       "      <td>128</td>\n",
       "      <td>0.000090</td>\n",
       "      <td>0.1814</td>\n",
       "      <td>128</td>\n",
       "      <td>0.000021</td>\n",
       "      <td>0</td>\n",
       "      <td>2</td>\n",
       "      <td>1</td>\n",
       "      <td>1</td>\n",
       "      <td>0.7124</td>\n",
       "    </tr>\n",
       "    <tr>\n",
       "      <th>309</th>\n",
       "      <td>setsum</td>\n",
       "      <td>1</td>\n",
       "      <td>10</td>\n",
       "      <td>128</td>\n",
       "      <td>128</td>\n",
       "      <td>0.000190</td>\n",
       "      <td>0.4057</td>\n",
       "      <td>128</td>\n",
       "      <td>0.000015</td>\n",
       "      <td>1</td>\n",
       "      <td>1</td>\n",
       "      <td>1</td>\n",
       "      <td>1</td>\n",
       "      <td>0.7132</td>\n",
       "    </tr>\n",
       "    <tr>\n",
       "      <th>369</th>\n",
       "      <td>setsum</td>\n",
       "      <td>1</td>\n",
       "      <td>10</td>\n",
       "      <td>128</td>\n",
       "      <td>128</td>\n",
       "      <td>0.000155</td>\n",
       "      <td>0.3814</td>\n",
       "      <td>128</td>\n",
       "      <td>0.000025</td>\n",
       "      <td>1</td>\n",
       "      <td>1</td>\n",
       "      <td>2</td>\n",
       "      <td>1</td>\n",
       "      <td>0.7125</td>\n",
       "    </tr>\n",
       "    <tr>\n",
       "      <th>81</th>\n",
       "      <td>setsum</td>\n",
       "      <td>1</td>\n",
       "      <td>10</td>\n",
       "      <td>128</td>\n",
       "      <td>128</td>\n",
       "      <td>0.000181</td>\n",
       "      <td>0.2120</td>\n",
       "      <td>128</td>\n",
       "      <td>0.000019</td>\n",
       "      <td>1</td>\n",
       "      <td>1</td>\n",
       "      <td>1</td>\n",
       "      <td>1</td>\n",
       "      <td>0.7122</td>\n",
       "    </tr>\n",
       "    <tr>\n",
       "      <th>85</th>\n",
       "      <td>setsum</td>\n",
       "      <td>2</td>\n",
       "      <td>10</td>\n",
       "      <td>128</td>\n",
       "      <td>128</td>\n",
       "      <td>0.000203</td>\n",
       "      <td>0.2060</td>\n",
       "      <td>128</td>\n",
       "      <td>0.002508</td>\n",
       "      <td>0</td>\n",
       "      <td>2</td>\n",
       "      <td>2</td>\n",
       "      <td>0</td>\n",
       "      <td>0.7128</td>\n",
       "    </tr>\n",
       "    <tr>\n",
       "      <th>118</th>\n",
       "      <td>setsum</td>\n",
       "      <td>1</td>\n",
       "      <td>10</td>\n",
       "      <td>128</td>\n",
       "      <td>128</td>\n",
       "      <td>0.000059</td>\n",
       "      <td>0.3921</td>\n",
       "      <td>128</td>\n",
       "      <td>0.000209</td>\n",
       "      <td>0</td>\n",
       "      <td>2</td>\n",
       "      <td>1</td>\n",
       "      <td>0</td>\n",
       "      <td>0.7124</td>\n",
       "    </tr>\n",
       "    <tr>\n",
       "      <th>129</th>\n",
       "      <td>setsum</td>\n",
       "      <td>1</td>\n",
       "      <td>10</td>\n",
       "      <td>128</td>\n",
       "      <td>128</td>\n",
       "      <td>0.000143</td>\n",
       "      <td>0.4042</td>\n",
       "      <td>128</td>\n",
       "      <td>0.000017</td>\n",
       "      <td>1</td>\n",
       "      <td>2</td>\n",
       "      <td>2</td>\n",
       "      <td>1</td>\n",
       "      <td>0.7127</td>\n",
       "    </tr>\n",
       "    <tr>\n",
       "      <th>219</th>\n",
       "      <td>setsum</td>\n",
       "      <td>1</td>\n",
       "      <td>10</td>\n",
       "      <td>128</td>\n",
       "      <td>128</td>\n",
       "      <td>0.000114</td>\n",
       "      <td>0.3316</td>\n",
       "      <td>128</td>\n",
       "      <td>0.000192</td>\n",
       "      <td>1</td>\n",
       "      <td>2</td>\n",
       "      <td>1</td>\n",
       "      <td>0</td>\n",
       "      <td>0.7121</td>\n",
       "    </tr>\n",
       "    <tr>\n",
       "      <th>320</th>\n",
       "      <td>setsum</td>\n",
       "      <td>1</td>\n",
       "      <td>10</td>\n",
       "      <td>128</td>\n",
       "      <td>128</td>\n",
       "      <td>0.000165</td>\n",
       "      <td>0.4603</td>\n",
       "      <td>128</td>\n",
       "      <td>0.000010</td>\n",
       "      <td>0</td>\n",
       "      <td>2</td>\n",
       "      <td>1</td>\n",
       "      <td>1</td>\n",
       "      <td>0.7123</td>\n",
       "    </tr>\n",
       "    <tr>\n",
       "      <th>383</th>\n",
       "      <td>setsum</td>\n",
       "      <td>1</td>\n",
       "      <td>10</td>\n",
       "      <td>128</td>\n",
       "      <td>128</td>\n",
       "      <td>0.000126</td>\n",
       "      <td>0.3488</td>\n",
       "      <td>128</td>\n",
       "      <td>0.000023</td>\n",
       "      <td>1</td>\n",
       "      <td>2</td>\n",
       "      <td>2</td>\n",
       "      <td>1</td>\n",
       "      <td>0.7122</td>\n",
       "    </tr>\n",
       "    <tr>\n",
       "      <th>19</th>\n",
       "      <td>setsum</td>\n",
       "      <td>1</td>\n",
       "      <td>10</td>\n",
       "      <td>128</td>\n",
       "      <td>128</td>\n",
       "      <td>0.000167</td>\n",
       "      <td>0.2221</td>\n",
       "      <td>128</td>\n",
       "      <td>0.000013</td>\n",
       "      <td>0</td>\n",
       "      <td>2</td>\n",
       "      <td>1</td>\n",
       "      <td>1</td>\n",
       "      <td>0.7130</td>\n",
       "    </tr>\n",
       "    <tr>\n",
       "      <th>76</th>\n",
       "      <td>setsum</td>\n",
       "      <td>2</td>\n",
       "      <td>10</td>\n",
       "      <td>128</td>\n",
       "      <td>128</td>\n",
       "      <td>0.000179</td>\n",
       "      <td>0.4701</td>\n",
       "      <td>128</td>\n",
       "      <td>0.004222</td>\n",
       "      <td>0</td>\n",
       "      <td>2</td>\n",
       "      <td>1</td>\n",
       "      <td>0</td>\n",
       "      <td>0.7121</td>\n",
       "    </tr>\n",
       "    <tr>\n",
       "      <th>355</th>\n",
       "      <td>setsum</td>\n",
       "      <td>1</td>\n",
       "      <td>10</td>\n",
       "      <td>128</td>\n",
       "      <td>128</td>\n",
       "      <td>0.000125</td>\n",
       "      <td>0.1208</td>\n",
       "      <td>128</td>\n",
       "      <td>0.000024</td>\n",
       "      <td>1</td>\n",
       "      <td>2</td>\n",
       "      <td>2</td>\n",
       "      <td>1</td>\n",
       "      <td>0.7128</td>\n",
       "    </tr>\n",
       "    <tr>\n",
       "      <th>376</th>\n",
       "      <td>setsum</td>\n",
       "      <td>1</td>\n",
       "      <td>10</td>\n",
       "      <td>128</td>\n",
       "      <td>128</td>\n",
       "      <td>0.000100</td>\n",
       "      <td>0.1003</td>\n",
       "      <td>128</td>\n",
       "      <td>0.000022</td>\n",
       "      <td>1</td>\n",
       "      <td>2</td>\n",
       "      <td>2</td>\n",
       "      <td>1</td>\n",
       "      <td>0.7130</td>\n",
       "    </tr>\n",
       "    <tr>\n",
       "      <th>24</th>\n",
       "      <td>setsum</td>\n",
       "      <td>1</td>\n",
       "      <td>10</td>\n",
       "      <td>128</td>\n",
       "      <td>128</td>\n",
       "      <td>0.000163</td>\n",
       "      <td>0.1951</td>\n",
       "      <td>128</td>\n",
       "      <td>0.000022</td>\n",
       "      <td>0</td>\n",
       "      <td>1</td>\n",
       "      <td>2</td>\n",
       "      <td>1</td>\n",
       "      <td>0.7121</td>\n",
       "    </tr>\n",
       "    <tr>\n",
       "      <th>28</th>\n",
       "      <td>setsum</td>\n",
       "      <td>1</td>\n",
       "      <td>10</td>\n",
       "      <td>128</td>\n",
       "      <td>128</td>\n",
       "      <td>0.000185</td>\n",
       "      <td>0.3764</td>\n",
       "      <td>128</td>\n",
       "      <td>0.000019</td>\n",
       "      <td>1</td>\n",
       "      <td>1</td>\n",
       "      <td>1</td>\n",
       "      <td>1</td>\n",
       "      <td>0.7122</td>\n",
       "    </tr>\n",
       "    <tr>\n",
       "      <th>70</th>\n",
       "      <td>setsum</td>\n",
       "      <td>2</td>\n",
       "      <td>10</td>\n",
       "      <td>128</td>\n",
       "      <td>128</td>\n",
       "      <td>0.000157</td>\n",
       "      <td>0.3184</td>\n",
       "      <td>128</td>\n",
       "      <td>0.001818</td>\n",
       "      <td>1</td>\n",
       "      <td>2</td>\n",
       "      <td>1</td>\n",
       "      <td>0</td>\n",
       "      <td>0.7122</td>\n",
       "    </tr>\n",
       "    <tr>\n",
       "      <th>154</th>\n",
       "      <td>setsum</td>\n",
       "      <td>1</td>\n",
       "      <td>10</td>\n",
       "      <td>128</td>\n",
       "      <td>128</td>\n",
       "      <td>0.000143</td>\n",
       "      <td>0.2564</td>\n",
       "      <td>128</td>\n",
       "      <td>0.000017</td>\n",
       "      <td>0</td>\n",
       "      <td>1</td>\n",
       "      <td>1</td>\n",
       "      <td>1</td>\n",
       "      <td>0.7131</td>\n",
       "    </tr>\n",
       "    <tr>\n",
       "      <th>227</th>\n",
       "      <td>setsum</td>\n",
       "      <td>1</td>\n",
       "      <td>10</td>\n",
       "      <td>128</td>\n",
       "      <td>128</td>\n",
       "      <td>0.000056</td>\n",
       "      <td>0.3298</td>\n",
       "      <td>128</td>\n",
       "      <td>0.000125</td>\n",
       "      <td>0</td>\n",
       "      <td>2</td>\n",
       "      <td>1</td>\n",
       "      <td>0</td>\n",
       "      <td>0.7133</td>\n",
       "    </tr>\n",
       "    <tr>\n",
       "      <th>364</th>\n",
       "      <td>setsum</td>\n",
       "      <td>1</td>\n",
       "      <td>10</td>\n",
       "      <td>128</td>\n",
       "      <td>128</td>\n",
       "      <td>0.000102</td>\n",
       "      <td>0.2213</td>\n",
       "      <td>128</td>\n",
       "      <td>0.000019</td>\n",
       "      <td>1</td>\n",
       "      <td>2</td>\n",
       "      <td>2</td>\n",
       "      <td>1</td>\n",
       "      <td>0.7128</td>\n",
       "    </tr>\n",
       "    <tr>\n",
       "      <th>3</th>\n",
       "      <td>setsum</td>\n",
       "      <td>1</td>\n",
       "      <td>10</td>\n",
       "      <td>128</td>\n",
       "      <td>128</td>\n",
       "      <td>0.000121</td>\n",
       "      <td>0.3381</td>\n",
       "      <td>128</td>\n",
       "      <td>0.000021</td>\n",
       "      <td>1</td>\n",
       "      <td>1</td>\n",
       "      <td>2</td>\n",
       "      <td>1</td>\n",
       "      <td>0.7123</td>\n",
       "    </tr>\n",
       "    <tr>\n",
       "      <th>87</th>\n",
       "      <td>setsum</td>\n",
       "      <td>2</td>\n",
       "      <td>10</td>\n",
       "      <td>128</td>\n",
       "      <td>128</td>\n",
       "      <td>0.000138</td>\n",
       "      <td>0.3396</td>\n",
       "      <td>128</td>\n",
       "      <td>0.003751</td>\n",
       "      <td>1</td>\n",
       "      <td>1</td>\n",
       "      <td>1</td>\n",
       "      <td>0</td>\n",
       "      <td>0.7127</td>\n",
       "    </tr>\n",
       "    <tr>\n",
       "      <th>169</th>\n",
       "      <td>setsum</td>\n",
       "      <td>2</td>\n",
       "      <td>10</td>\n",
       "      <td>128</td>\n",
       "      <td>128</td>\n",
       "      <td>0.000188</td>\n",
       "      <td>0.3729</td>\n",
       "      <td>128</td>\n",
       "      <td>0.003487</td>\n",
       "      <td>0</td>\n",
       "      <td>1</td>\n",
       "      <td>1</td>\n",
       "      <td>0</td>\n",
       "      <td>0.7123</td>\n",
       "    </tr>\n",
       "    <tr>\n",
       "      <th>365</th>\n",
       "      <td>setsum</td>\n",
       "      <td>2</td>\n",
       "      <td>10</td>\n",
       "      <td>128</td>\n",
       "      <td>128</td>\n",
       "      <td>0.000155</td>\n",
       "      <td>0.1832</td>\n",
       "      <td>128</td>\n",
       "      <td>0.003060</td>\n",
       "      <td>0</td>\n",
       "      <td>2</td>\n",
       "      <td>1</td>\n",
       "      <td>0</td>\n",
       "      <td>0.7132</td>\n",
       "    </tr>\n",
       "    <tr>\n",
       "      <th>84</th>\n",
       "      <td>setsum</td>\n",
       "      <td>2</td>\n",
       "      <td>10</td>\n",
       "      <td>128</td>\n",
       "      <td>128</td>\n",
       "      <td>0.000198</td>\n",
       "      <td>0.3662</td>\n",
       "      <td>128</td>\n",
       "      <td>0.000265</td>\n",
       "      <td>0</td>\n",
       "      <td>2</td>\n",
       "      <td>2</td>\n",
       "      <td>1</td>\n",
       "      <td>0.7121</td>\n",
       "    </tr>\n",
       "    <tr>\n",
       "      <th>263</th>\n",
       "      <td>setsum</td>\n",
       "      <td>2</td>\n",
       "      <td>10</td>\n",
       "      <td>128</td>\n",
       "      <td>128</td>\n",
       "      <td>0.000172</td>\n",
       "      <td>0.1066</td>\n",
       "      <td>128</td>\n",
       "      <td>0.000633</td>\n",
       "      <td>0</td>\n",
       "      <td>2</td>\n",
       "      <td>1</td>\n",
       "      <td>1</td>\n",
       "      <td>0.7122</td>\n",
       "    </tr>\n",
       "    <tr>\n",
       "      <th>274</th>\n",
       "      <td>setsum</td>\n",
       "      <td>2</td>\n",
       "      <td>10</td>\n",
       "      <td>128</td>\n",
       "      <td>128</td>\n",
       "      <td>0.000118</td>\n",
       "      <td>0.4853</td>\n",
       "      <td>128</td>\n",
       "      <td>0.000788</td>\n",
       "      <td>0</td>\n",
       "      <td>1</td>\n",
       "      <td>1</td>\n",
       "      <td>1</td>\n",
       "      <td>0.7124</td>\n",
       "    </tr>\n",
       "    <tr>\n",
       "      <th>361</th>\n",
       "      <td>setsum</td>\n",
       "      <td>2</td>\n",
       "      <td>10</td>\n",
       "      <td>128</td>\n",
       "      <td>128</td>\n",
       "      <td>0.000200</td>\n",
       "      <td>0.3513</td>\n",
       "      <td>128</td>\n",
       "      <td>0.002102</td>\n",
       "      <td>1</td>\n",
       "      <td>1</td>\n",
       "      <td>1</td>\n",
       "      <td>0</td>\n",
       "      <td>0.7123</td>\n",
       "    </tr>\n",
       "    <tr>\n",
       "      <th>76</th>\n",
       "      <td>setsum</td>\n",
       "      <td>2</td>\n",
       "      <td>10</td>\n",
       "      <td>128</td>\n",
       "      <td>128</td>\n",
       "      <td>0.000138</td>\n",
       "      <td>0.4101</td>\n",
       "      <td>128</td>\n",
       "      <td>0.000689</td>\n",
       "      <td>1</td>\n",
       "      <td>1</td>\n",
       "      <td>1</td>\n",
       "      <td>1</td>\n",
       "      <td>0.7121</td>\n",
       "    </tr>\n",
       "    <tr>\n",
       "      <th>110</th>\n",
       "      <td>setsum</td>\n",
       "      <td>2</td>\n",
       "      <td>10</td>\n",
       "      <td>128</td>\n",
       "      <td>128</td>\n",
       "      <td>0.000139</td>\n",
       "      <td>0.4050</td>\n",
       "      <td>128</td>\n",
       "      <td>0.000864</td>\n",
       "      <td>1</td>\n",
       "      <td>2</td>\n",
       "      <td>2</td>\n",
       "      <td>1</td>\n",
       "      <td>0.7123</td>\n",
       "    </tr>\n",
       "    <tr>\n",
       "      <th>148</th>\n",
       "      <td>setsum</td>\n",
       "      <td>2</td>\n",
       "      <td>10</td>\n",
       "      <td>128</td>\n",
       "      <td>128</td>\n",
       "      <td>0.000154</td>\n",
       "      <td>0.1820</td>\n",
       "      <td>128</td>\n",
       "      <td>0.000625</td>\n",
       "      <td>1</td>\n",
       "      <td>2</td>\n",
       "      <td>2</td>\n",
       "      <td>1</td>\n",
       "      <td>0.7129</td>\n",
       "    </tr>\n",
       "    <tr>\n",
       "      <th>160</th>\n",
       "      <td>setsum</td>\n",
       "      <td>1</td>\n",
       "      <td>10</td>\n",
       "      <td>128</td>\n",
       "      <td>128</td>\n",
       "      <td>0.000182</td>\n",
       "      <td>0.3870</td>\n",
       "      <td>128</td>\n",
       "      <td>0.000025</td>\n",
       "      <td>1</td>\n",
       "      <td>1</td>\n",
       "      <td>1</td>\n",
       "      <td>1</td>\n",
       "      <td>0.7124</td>\n",
       "    </tr>\n",
       "    <tr>\n",
       "      <th>161</th>\n",
       "      <td>setsum</td>\n",
       "      <td>2</td>\n",
       "      <td>10</td>\n",
       "      <td>128</td>\n",
       "      <td>128</td>\n",
       "      <td>0.000161</td>\n",
       "      <td>0.1484</td>\n",
       "      <td>128</td>\n",
       "      <td>0.003557</td>\n",
       "      <td>1</td>\n",
       "      <td>2</td>\n",
       "      <td>2</td>\n",
       "      <td>0</td>\n",
       "      <td>0.7137</td>\n",
       "    </tr>\n",
       "    <tr>\n",
       "      <th>222</th>\n",
       "      <td>setsum</td>\n",
       "      <td>1</td>\n",
       "      <td>10</td>\n",
       "      <td>128</td>\n",
       "      <td>128</td>\n",
       "      <td>0.000079</td>\n",
       "      <td>0.1887</td>\n",
       "      <td>128</td>\n",
       "      <td>0.000179</td>\n",
       "      <td>0</td>\n",
       "      <td>2</td>\n",
       "      <td>2</td>\n",
       "      <td>0</td>\n",
       "      <td>0.7133</td>\n",
       "    </tr>\n",
       "    <tr>\n",
       "      <th>236</th>\n",
       "      <td>setsum</td>\n",
       "      <td>1</td>\n",
       "      <td>10</td>\n",
       "      <td>128</td>\n",
       "      <td>128</td>\n",
       "      <td>0.000137</td>\n",
       "      <td>0.3976</td>\n",
       "      <td>128</td>\n",
       "      <td>0.000010</td>\n",
       "      <td>0</td>\n",
       "      <td>2</td>\n",
       "      <td>1</td>\n",
       "      <td>1</td>\n",
       "      <td>0.7134</td>\n",
       "    </tr>\n",
       "    <tr>\n",
       "      <th>295</th>\n",
       "      <td>setsum</td>\n",
       "      <td>1</td>\n",
       "      <td>10</td>\n",
       "      <td>128</td>\n",
       "      <td>128</td>\n",
       "      <td>0.000139</td>\n",
       "      <td>0.2236</td>\n",
       "      <td>128</td>\n",
       "      <td>0.000101</td>\n",
       "      <td>0</td>\n",
       "      <td>1</td>\n",
       "      <td>2</td>\n",
       "      <td>0</td>\n",
       "      <td>0.7123</td>\n",
       "    </tr>\n",
       "    <tr>\n",
       "      <th>207</th>\n",
       "      <td>setsum</td>\n",
       "      <td>2</td>\n",
       "      <td>10</td>\n",
       "      <td>128</td>\n",
       "      <td>128</td>\n",
       "      <td>0.000130</td>\n",
       "      <td>0.1940</td>\n",
       "      <td>128</td>\n",
       "      <td>0.003783</td>\n",
       "      <td>1</td>\n",
       "      <td>1</td>\n",
       "      <td>2</td>\n",
       "      <td>0</td>\n",
       "      <td>0.7123</td>\n",
       "    </tr>\n",
       "    <tr>\n",
       "      <th>326</th>\n",
       "      <td>setsum</td>\n",
       "      <td>2</td>\n",
       "      <td>10</td>\n",
       "      <td>128</td>\n",
       "      <td>128</td>\n",
       "      <td>0.000131</td>\n",
       "      <td>0.3789</td>\n",
       "      <td>128</td>\n",
       "      <td>0.004017</td>\n",
       "      <td>1</td>\n",
       "      <td>1</td>\n",
       "      <td>2</td>\n",
       "      <td>0</td>\n",
       "      <td>0.7126</td>\n",
       "    </tr>\n",
       "    <tr>\n",
       "      <th>340</th>\n",
       "      <td>setsum</td>\n",
       "      <td>1</td>\n",
       "      <td>10</td>\n",
       "      <td>128</td>\n",
       "      <td>128</td>\n",
       "      <td>0.000185</td>\n",
       "      <td>0.1025</td>\n",
       "      <td>128</td>\n",
       "      <td>0.000009</td>\n",
       "      <td>1</td>\n",
       "      <td>2</td>\n",
       "      <td>1</td>\n",
       "      <td>1</td>\n",
       "      <td>0.7126</td>\n",
       "    </tr>\n",
       "  </tbody>\n",
       "</table>\n",
       "</div>"
      ],
      "text/plain": [
       "    model_name  penalty_norm  rare_cutpoint  fc_width  DX_dim        lr  \\\n",
       "189     setsum             1             10       128     128  0.000148   \n",
       "195     setsum             2             10       128     128  0.000153   \n",
       "243     setsum             1             10       128     128  0.000090   \n",
       "309     setsum             1             10       128     128  0.000190   \n",
       "369     setsum             1             10       128     128  0.000155   \n",
       "81      setsum             1             10       128     128  0.000181   \n",
       "85      setsum             2             10       128     128  0.000203   \n",
       "118     setsum             1             10       128     128  0.000059   \n",
       "129     setsum             1             10       128     128  0.000143   \n",
       "219     setsum             1             10       128     128  0.000114   \n",
       "320     setsum             1             10       128     128  0.000165   \n",
       "383     setsum             1             10       128     128  0.000126   \n",
       "19      setsum             1             10       128     128  0.000167   \n",
       "76      setsum             2             10       128     128  0.000179   \n",
       "355     setsum             1             10       128     128  0.000125   \n",
       "376     setsum             1             10       128     128  0.000100   \n",
       "24      setsum             1             10       128     128  0.000163   \n",
       "28      setsum             1             10       128     128  0.000185   \n",
       "70      setsum             2             10       128     128  0.000157   \n",
       "154     setsum             1             10       128     128  0.000143   \n",
       "227     setsum             1             10       128     128  0.000056   \n",
       "364     setsum             1             10       128     128  0.000102   \n",
       "3       setsum             1             10       128     128  0.000121   \n",
       "87      setsum             2             10       128     128  0.000138   \n",
       "169     setsum             2             10       128     128  0.000188   \n",
       "365     setsum             2             10       128     128  0.000155   \n",
       "84      setsum             2             10       128     128  0.000198   \n",
       "263     setsum             2             10       128     128  0.000172   \n",
       "274     setsum             2             10       128     128  0.000118   \n",
       "361     setsum             2             10       128     128  0.000200   \n",
       "76      setsum             2             10       128     128  0.000138   \n",
       "110     setsum             2             10       128     128  0.000139   \n",
       "148     setsum             2             10       128     128  0.000154   \n",
       "160     setsum             1             10       128     128  0.000182   \n",
       "161     setsum             2             10       128     128  0.000161   \n",
       "222     setsum             1             10       128     128  0.000079   \n",
       "236     setsum             1             10       128     128  0.000137   \n",
       "295     setsum             1             10       128     128  0.000139   \n",
       "207     setsum             2             10       128     128  0.000130   \n",
       "326     setsum             2             10       128     128  0.000131   \n",
       "340     setsum             1             10       128     128  0.000185   \n",
       "\n",
       "     dropout  batchsize   penalty  embed_dx1  n_dense1  n_dense2  \\\n",
       "189   0.3465        128  0.000009          0         1         2   \n",
       "195   0.4175        128  0.001487          0         1         1   \n",
       "243   0.1814        128  0.000021          0         2         1   \n",
       "309   0.4057        128  0.000015          1         1         1   \n",
       "369   0.3814        128  0.000025          1         1         2   \n",
       "81    0.2120        128  0.000019          1         1         1   \n",
       "85    0.2060        128  0.002508          0         2         2   \n",
       "118   0.3921        128  0.000209          0         2         1   \n",
       "129   0.4042        128  0.000017          1         2         2   \n",
       "219   0.3316        128  0.000192          1         2         1   \n",
       "320   0.4603        128  0.000010          0         2         1   \n",
       "383   0.3488        128  0.000023          1         2         2   \n",
       "19    0.2221        128  0.000013          0         2         1   \n",
       "76    0.4701        128  0.004222          0         2         1   \n",
       "355   0.1208        128  0.000024          1         2         2   \n",
       "376   0.1003        128  0.000022          1         2         2   \n",
       "24    0.1951        128  0.000022          0         1         2   \n",
       "28    0.3764        128  0.000019          1         1         1   \n",
       "70    0.3184        128  0.001818          1         2         1   \n",
       "154   0.2564        128  0.000017          0         1         1   \n",
       "227   0.3298        128  0.000125          0         2         1   \n",
       "364   0.2213        128  0.000019          1         2         2   \n",
       "3     0.3381        128  0.000021          1         1         2   \n",
       "87    0.3396        128  0.003751          1         1         1   \n",
       "169   0.3729        128  0.003487          0         1         1   \n",
       "365   0.1832        128  0.003060          0         2         1   \n",
       "84    0.3662        128  0.000265          0         2         2   \n",
       "263   0.1066        128  0.000633          0         2         1   \n",
       "274   0.4853        128  0.000788          0         1         1   \n",
       "361   0.3513        128  0.002102          1         1         1   \n",
       "76    0.4101        128  0.000689          1         1         1   \n",
       "110   0.4050        128  0.000864          1         2         2   \n",
       "148   0.1820        128  0.000625          1         2         2   \n",
       "160   0.3870        128  0.000025          1         1         1   \n",
       "161   0.1484        128  0.003557          1         2         2   \n",
       "222   0.1887        128  0.000179          0         2         2   \n",
       "236   0.3976        128  0.000010          0         2         1   \n",
       "295   0.2236        128  0.000101          0         1         2   \n",
       "207   0.1940        128  0.003783          1         1         2   \n",
       "326   0.3789        128  0.004017          1         1         2   \n",
       "340   0.1025        128  0.000009          1         2         1   \n",
       "\n",
       "     parent_mat_lvl     auc  \n",
       "189               1  0.7121  \n",
       "195               0  0.7122  \n",
       "243               1  0.7124  \n",
       "309               1  0.7132  \n",
       "369               1  0.7125  \n",
       "81                1  0.7122  \n",
       "85                0  0.7128  \n",
       "118               0  0.7124  \n",
       "129               1  0.7127  \n",
       "219               0  0.7121  \n",
       "320               1  0.7123  \n",
       "383               1  0.7122  \n",
       "19                1  0.7130  \n",
       "76                0  0.7121  \n",
       "355               1  0.7128  \n",
       "376               1  0.7130  \n",
       "24                1  0.7121  \n",
       "28                1  0.7122  \n",
       "70                0  0.7122  \n",
       "154               1  0.7131  \n",
       "227               0  0.7133  \n",
       "364               1  0.7128  \n",
       "3                 1  0.7123  \n",
       "87                0  0.7127  \n",
       "169               0  0.7123  \n",
       "365               0  0.7132  \n",
       "84                1  0.7121  \n",
       "263               1  0.7122  \n",
       "274               1  0.7124  \n",
       "361               0  0.7123  \n",
       "76                1  0.7121  \n",
       "110               1  0.7123  \n",
       "148               1  0.7129  \n",
       "160               1  0.7124  \n",
       "161               0  0.7137  \n",
       "222               0  0.7133  \n",
       "236               1  0.7134  \n",
       "295               0  0.7123  \n",
       "207               0  0.7123  \n",
       "326               0  0.7126  \n",
       "340               1  0.7126  "
      ]
     },
     "execution_count": 61,
     "metadata": {},
     "output_type": "execute_result"
    }
   ],
   "source": [
    "highauc"
   ]
  },
  {
   "cell_type": "code",
   "execution_count": 66,
   "metadata": {},
   "outputs": [
    {
     "data": {
      "text/plain": [
       "<matplotlib.axes._subplots.AxesSubplot at 0x2b8c8372d6a0>"
      ]
     },
     "execution_count": 66,
     "metadata": {},
     "output_type": "execute_result"
    },
    {
     "data": {
      "image/png": "[encoded data removed]",
      "text/plain": [
       "<Figure size 432x288 with 1 Axes>"
      ]
     },
     "metadata": {},
     "output_type": "display_data"
    }
   ],
   "source": [
    "highauc.penalty_norm.plot.hist()"
   ]
  },
  {
   "cell_type": "code",
   "execution_count": null,
   "metadata": {},
   "outputs": [],
   "source": []
  }
 ],
 "metadata": {
  "kernelspec": {
   "display_name": "Python 3",
   "language": "python",
   "name": "python3"
  },
  "language_info": {
   "codemirror_mode": {
    "name": "ipython",
    "version": 3
   },
   "file_extension": ".py",
   "mimetype": "text/x-python",
   "name": "python",
   "nbconvert_exporter": "python",
   "pygments_lexer": "ipython3",
   "version": "3.5.4"
  }
 },
 "nbformat": 4,
 "nbformat_minor": 2
}

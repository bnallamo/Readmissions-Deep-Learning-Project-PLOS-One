{
 "cells": [
  {
   "cell_type": "code",
   "execution_count": 1,
   "metadata": {},
   "outputs": [],
   "source": [
    "import numpy as np\n",
    "import matplotlib.pyplot as plt\n",
    "%matplotlib inline\n",
    "import pandas as pd\n",
    "import os, sys\n",
    "import itertools\n",
    "from sklearn.model_selection import train_test_split\n",
    "from sklearn.metrics import roc_curve, auc"
   ]
  },
  {
   "cell_type": "code",
   "execution_count": 2,
   "metadata": {},
   "outputs": [],
   "source": [
    "path = '/nfs/turbo/umms-awaljee/wsliu/Data/NRD/'"
   ]
  },
  {
   "cell_type": "code",
   "execution_count": 3,
   "metadata": {},
   "outputs": [
    {
     "name": "stderr",
     "output_type": "stream",
     "text": [
      "Using TensorFlow backend.\n"
     ]
    }
   ],
   "source": [
    "module_path = '/home/wsliu/Codes/DLproj'\n",
    "if module_path not in sys.path:\n",
    "    sys.path.append(module_path)\n",
    "if module_path+'/NRD' not in sys.path:\n",
    "    sys.path.append(module_path+'/NRD')\n",
    "from utils import core_dtypes_pd"
   ]
  },
  {
   "cell_type": "code",
   "execution_count": 4,
   "metadata": {},
   "outputs": [],
   "source": [
    "from glove import Glove"
   ]
  },
  {
   "cell_type": "markdown",
   "metadata": {},
   "source": [
    "## Prepare hyper-parameters and generate the .sh files"
   ]
  },
  {
   "cell_type": "markdown",
   "metadata": {},
   "source": [
    "Random search:"
   ]
  },
  {
   "cell_type": "code",
   "execution_count": 27,
   "metadata": {},
   "outputs": [],
   "source": [
    "n_sample = 500\n",
    "n_job = 7"
   ]
  },
  {
   "cell_type": "code",
   "execution_count": 12,
   "metadata": {
    "collapsed": true
   },
   "outputs": [
    {
     "ename": "NameError",
     "evalue": "name 'n_job' is not defined",
     "output_type": "error",
     "traceback": [
      "\u001b[0;31m---------------------------------------------------------------------------\u001b[0m",
      "\u001b[0;31mNameError\u001b[0m                                 Traceback (most recent call last)",
      "\u001b[0;32m<ipython-input-12-d84acee27cbc>\u001b[0m in \u001b[0;36m<module>\u001b[0;34m()\u001b[0m\n\u001b[0;32m----> 1\u001b[0;31m \u001b[0;32mfor\u001b[0m \u001b[0mi\u001b[0m \u001b[0;32min\u001b[0m \u001b[0mrange\u001b[0m\u001b[0;34m(\u001b[0m\u001b[0mn_job\u001b[0m\u001b[0;34m)\u001b[0m\u001b[0;34m:\u001b[0m\u001b[0;34m\u001b[0m\u001b[0m\n\u001b[0m\u001b[1;32m      2\u001b[0m     \u001b[0mmodel_names\u001b[0m \u001b[0;34m=\u001b[0m \u001b[0mnp\u001b[0m\u001b[0;34m.\u001b[0m\u001b[0mrandom\u001b[0m\u001b[0;34m.\u001b[0m\u001b[0mchoice\u001b[0m\u001b[0;34m(\u001b[0m\u001b[0;34m[\u001b[0m\u001b[0;34m'setsum'\u001b[0m\u001b[0;34m,\u001b[0m \u001b[0;34m'interact'\u001b[0m\u001b[0;34m]\u001b[0m\u001b[0;34m,\u001b[0m \u001b[0mn_sample\u001b[0m\u001b[0;34m)\u001b[0m\u001b[0;34m\u001b[0m\u001b[0m\n\u001b[1;32m      3\u001b[0m     \u001b[0mpenalty_norms\u001b[0m \u001b[0;34m=\u001b[0m \u001b[0mnp\u001b[0m\u001b[0;34m.\u001b[0m\u001b[0mrandom\u001b[0m\u001b[0;34m.\u001b[0m\u001b[0mchoice\u001b[0m\u001b[0;34m(\u001b[0m\u001b[0;34m[\u001b[0m\u001b[0;36m1\u001b[0m\u001b[0;34m,\u001b[0m \u001b[0;36m2\u001b[0m\u001b[0;34m]\u001b[0m\u001b[0;34m,\u001b[0m \u001b[0mn_sample\u001b[0m\u001b[0;34m)\u001b[0m\u001b[0;34m\u001b[0m\u001b[0m\n\u001b[1;32m      4\u001b[0m     \u001b[0mrare_cutpoints\u001b[0m \u001b[0;34m=\u001b[0m \u001b[0mnp\u001b[0m\u001b[0;34m.\u001b[0m\u001b[0mrandom\u001b[0m\u001b[0;34m.\u001b[0m\u001b[0mchoice\u001b[0m\u001b[0;34m(\u001b[0m\u001b[0;34m[\u001b[0m\u001b[0;36m5\u001b[0m\u001b[0;34m,\u001b[0m \u001b[0;36m10\u001b[0m\u001b[0;34m,\u001b[0m \u001b[0;36m15\u001b[0m\u001b[0;34m,\u001b[0m \u001b[0;36m20\u001b[0m\u001b[0;34m,\u001b[0m \u001b[0;36m25\u001b[0m\u001b[0;34m,\u001b[0m \u001b[0;36m30\u001b[0m\u001b[0;34m,\u001b[0m \u001b[0;36m40\u001b[0m\u001b[0;34m,\u001b[0m \u001b[0;36m50\u001b[0m\u001b[0;34m]\u001b[0m\u001b[0;34m,\u001b[0m \u001b[0mn_sample\u001b[0m\u001b[0;34m)\u001b[0m\u001b[0;34m\u001b[0m\u001b[0m\n\u001b[1;32m      5\u001b[0m     \u001b[0mfc_widths\u001b[0m \u001b[0;34m=\u001b[0m \u001b[0mnp\u001b[0m\u001b[0;34m.\u001b[0m\u001b[0mrandom\u001b[0m\u001b[0;34m.\u001b[0m\u001b[0mrandint\u001b[0m\u001b[0;34m(\u001b[0m\u001b[0;36m24\u001b[0m\u001b[0;34m,\u001b[0m \u001b[0;36m48\u001b[0m\u001b[0;34m,\u001b[0m \u001b[0mn_sample\u001b[0m\u001b[0;34m)\u001b[0m\u001b[0;34m\u001b[0m\u001b[0m\n",
      "\u001b[0;31mNameError\u001b[0m: name 'n_job' is not defined"
     ]
    }
   ],
   "source": [
    "for i in range(n_job):\n",
    "    model_names = np.random.choice(['setsum', 'interact'], n_sample)\n",
    "    penalty_norms = np.random.choice([1, 2], n_sample)\n",
    "    rare_cutpoints = np.random.choice([5, 10, 15, 20, 25, 30, 40, 50], n_sample)\n",
    "    fc_widths = np.random.randint(24, 48, n_sample)\n",
    "    DX_dims = np.random.randint(30, 40, n_sample)\n",
    "    hosp_dims = np.random.randint(1, 4, n_sample)\n",
    "    lrs = np.random.rand(n_sample)*3e-4+1e-5\n",
    "    dropouts = np.random.rand(n_sample)*0.3\n",
    "    batch_sizes = np.random.randint(200, 300, n_sample)\n",
    "    penalties = np.random.rand(n_sample)*0.005\n",
    "    rm_all_missings = np.random.choice([0, 1], n_sample)\n",
    "    dense_activations = np.random.choice(['relu', 'tanh'], n_sample)\n",
    "    job_indices= np.random.choice([i], n_sample)\n",
    "\n",
    "    parameters = list(zip(model_names, penalty_norms, rare_cutpoints, fc_widths, DX_dims, hosp_dims, lrs, dropouts, batch_sizes, \n",
    "                      penalties, rm_all_missings, dense_activations, job_indices))\n",
    "    \n",
    "    for para in parameters:\n",
    "        with open('hypertune'+str(i)+'.sh', 'a') as f:\n",
    "            f.write('python train_template.py --model_name {0} --penalty_norm {1} --rare_cutpoint {2} --fc_width {3} --dx_dim {4} --hosp_dim {5} --lr {6} --dropout {7} --batchsize {8} --penalty {9} --rm_all_missing {10} --dense_activation {11} --job_index {12}\\n'.format(*para))"
   ]
  },
  {
   "cell_type": "code",
   "execution_count": 4,
   "metadata": {},
   "outputs": [],
   "source": [
    "cooccur_df = pd.read_csv(path+'all/sepdx1/cooccur_df_ami0.csv')"
   ]
  },
  {
   "cell_type": "code",
   "execution_count": 19,
   "metadata": {},
   "outputs": [
    {
     "data": {
      "text/plain": [
       "<matplotlib.axes._subplots.AxesSubplot at 0x2ae9befb8f60>"
      ]
     },
     "execution_count": 19,
     "metadata": {},
     "output_type": "execute_result"
    },
    {
     "data": {
      "image/png": "[encoded data removed]",
      "text/plain": [
       "<Figure size 432x288 with 1 Axes>"
      ]
     },
     "metadata": {},
     "output_type": "display_data"
    }
   ],
   "source": [
    "cooccur_df.cooccur_counts.apply(np.log).plot.hist(bins=100)"
   ]
  },
  {
   "cell_type": "code",
   "execution_count": 21,
   "metadata": {},
   "outputs": [
    {
     "data": {
      "text/plain": [
       "0.009028399854745453"
      ]
     },
     "execution_count": 21,
     "metadata": {},
     "output_type": "execute_result"
    }
   ],
   "source": [
    "sum(cooccur_df.cooccur_counts>1000)/len(cooccur_df)"
   ]
  },
  {
   "cell_type": "markdown",
   "metadata": {},
   "source": [
    "Grid search:"
   ]
  },
  {
   "cell_type": "code",
   "execution_count": 2,
   "metadata": {},
   "outputs": [],
   "source": [
    "!rm hypertune*.sh"
   ]
  },
  {
   "cell_type": "code",
   "execution_count": 10,
   "metadata": {},
   "outputs": [],
   "source": [
    "embed_dims = [200]\n",
    "penalties = [0., 0.5]\n",
    "cohorts = ['ami', 'chf', 'pna']\n",
    "tst_seeds = range(10)\n",
    "zips = [(cohort, tst_seed, 'all/sepdx1/cooccur_df_{}{}.csv'.format(cohort, tst_seed)) for cohort in cohorts for tst_seed in tst_seeds]\n",
    "sep_dx1s = [1]\n",
    "count_caps = [20]\n",
    "save_folders = ['all/sepdx1/test_embed/cosine/']\n",
    "metrics = ['cosine']"
   ]
  },
  {
   "cell_type": "code",
   "execution_count": 11,
   "metadata": {},
   "outputs": [],
   "source": [
    "para_itr = itertools.product(embed_dims, penalties, zips, sep_dx1s, count_caps, save_folders, metrics)\n",
    "\n",
    "para_lst = [(e, p, z[2], z[1], s, c, z[0], sf, m) for e, p, z, s, c, sf, m in para_itr]"
   ]
  },
  {
   "cell_type": "code",
   "execution_count": 12,
   "metadata": {},
   "outputs": [
    {
     "data": {
      "text/plain": [
       "60"
      ]
     },
     "execution_count": 12,
     "metadata": {},
     "output_type": "execute_result"
    }
   ],
   "source": [
    "len(para_lst)"
   ]
  },
  {
   "cell_type": "code",
   "execution_count": 15,
   "metadata": {
    "collapsed": true
   },
   "outputs": [
    {
     "data": {
      "text/plain": [
       "[(200,\n",
       "  0.0,\n",
       "  'all/sepdx1/cooccur_df_ami0.csv',\n",
       "  0,\n",
       "  1,\n",
       "  20,\n",
       "  'ami',\n",
       "  'all/sepdx1/test_embed/l2/',\n",
       "  'l2'),\n",
       " (200,\n",
       "  0.0,\n",
       "  'all/sepdx1/cooccur_df_ami0.csv',\n",
       "  0,\n",
       "  1,\n",
       "  100,\n",
       "  'ami',\n",
       "  'all/sepdx1/test_embed/l2/',\n",
       "  'l2'),\n",
       " (200,\n",
       "  0.0,\n",
       "  'all/sepdx1/cooccur_df_ami0.csv',\n",
       "  0,\n",
       "  1,\n",
       "  500,\n",
       "  'ami',\n",
       "  'all/sepdx1/test_embed/l2/',\n",
       "  'l2'),\n",
       " (200,\n",
       "  1.0,\n",
       "  'all/sepdx1/cooccur_df_ami0.csv',\n",
       "  0,\n",
       "  1,\n",
       "  20,\n",
       "  'ami',\n",
       "  'all/sepdx1/test_embed/l2/',\n",
       "  'l2'),\n",
       " (200,\n",
       "  1.0,\n",
       "  'all/sepdx1/cooccur_df_ami0.csv',\n",
       "  0,\n",
       "  1,\n",
       "  100,\n",
       "  'ami',\n",
       "  'all/sepdx1/test_embed/l2/',\n",
       "  'l2'),\n",
       " (200,\n",
       "  1.0,\n",
       "  'all/sepdx1/cooccur_df_ami0.csv',\n",
       "  0,\n",
       "  1,\n",
       "  500,\n",
       "  'ami',\n",
       "  'all/sepdx1/test_embed/l2/',\n",
       "  'l2'),\n",
       " (200,\n",
       "  2.0,\n",
       "  'all/sepdx1/cooccur_df_ami0.csv',\n",
       "  0,\n",
       "  1,\n",
       "  20,\n",
       "  'ami',\n",
       "  'all/sepdx1/test_embed/l2/',\n",
       "  'l2'),\n",
       " (200,\n",
       "  2.0,\n",
       "  'all/sepdx1/cooccur_df_ami0.csv',\n",
       "  0,\n",
       "  1,\n",
       "  100,\n",
       "  'ami',\n",
       "  'all/sepdx1/test_embed/l2/',\n",
       "  'l2'),\n",
       " (200,\n",
       "  2.0,\n",
       "  'all/sepdx1/cooccur_df_ami0.csv',\n",
       "  0,\n",
       "  1,\n",
       "  500,\n",
       "  'ami',\n",
       "  'all/sepdx1/test_embed/l2/',\n",
       "  'l2'),\n",
       " (200,\n",
       "  5.0,\n",
       "  'all/sepdx1/cooccur_df_ami0.csv',\n",
       "  0,\n",
       "  1,\n",
       "  20,\n",
       "  'ami',\n",
       "  'all/sepdx1/test_embed/l2/',\n",
       "  'l2'),\n",
       " (200,\n",
       "  5.0,\n",
       "  'all/sepdx1/cooccur_df_ami0.csv',\n",
       "  0,\n",
       "  1,\n",
       "  100,\n",
       "  'ami',\n",
       "  'all/sepdx1/test_embed/l2/',\n",
       "  'l2'),\n",
       " (200,\n",
       "  5.0,\n",
       "  'all/sepdx1/cooccur_df_ami0.csv',\n",
       "  0,\n",
       "  1,\n",
       "  500,\n",
       "  'ami',\n",
       "  'all/sepdx1/test_embed/l2/',\n",
       "  'l2')]"
      ]
     },
     "execution_count": 15,
     "metadata": {},
     "output_type": "execute_result"
    }
   ],
   "source": [
    "para_lst"
   ]
  },
  {
   "cell_type": "code",
   "execution_count": 13,
   "metadata": {},
   "outputs": [],
   "source": [
    "n_jobs = 6\n",
    "for para, job_index in zip(para_lst, itertools.cycle(range(n_jobs))):\n",
    "    with open('hypertune'+str(job_index)+'.sh', 'a') as f:\n",
    "        f.write('python glove_train_penalty.py --embed_dim {0} --penalty {1} --cooccur_file {2} --test_fold {3} --sep_dx1 {4} --count_cap {5} --cohort {6} --save_folder {7} --metric {8} --job_index {9}\\n'.format(*para, job_index))"
   ]
  },
  {
   "cell_type": "code",
   "execution_count": 8,
   "metadata": {},
   "outputs": [],
   "source": [
    "for para in para_itr:\n",
    "    with open('hypertune3.sh', 'a') as f:\n",
    "        f.write('python glove_train_penalty.py --embed_dim {0} --penalty {1} --cooccur_file {2} --test_fold {3} --job_index {13}\\n'.format(*para, 3))"
   ]
  },
  {
   "cell_type": "markdown",
   "metadata": {},
   "source": [
    "### Multi-Space"
   ]
  },
  {
   "cell_type": "code",
   "execution_count": 2,
   "metadata": {},
   "outputs": [],
   "source": [
    "!rm hypertune*.sh"
   ]
  },
  {
   "cell_type": "code",
   "execution_count": 3,
   "metadata": {},
   "outputs": [],
   "source": [
    "DX1_dims = [200]\n",
    "DX_dims = [200]\n",
    "PR_dims = [50, 100]\n",
    "penalties = [0.]\n",
    "penalty_metrics = ['cosine']\n",
    "count_caps = [5, 20, 100]\n",
    "DX1_rarecutpoints = [10]\n",
    "DX_rarecutpoints = [10]\n",
    "PR_rarecutpoints = [10]\n",
    "save_folders = ['multi_space_glove/embed_mats/']"
   ]
  },
  {
   "cell_type": "code",
   "execution_count": 4,
   "metadata": {},
   "outputs": [],
   "source": [
    "para_itr = itertools.product(DX1_dims, DX_dims, PR_dims, penalties, penalty_metrics, count_caps, DX1_rarecutpoints, \n",
    "                             DX_rarecutpoints, PR_rarecutpoints, save_folders)\n",
    "para_lst = list(para_itr)"
   ]
  },
  {
   "cell_type": "code",
   "execution_count": 5,
   "metadata": {},
   "outputs": [
    {
     "data": {
      "text/plain": [
       "6"
      ]
     },
     "execution_count": 5,
     "metadata": {},
     "output_type": "execute_result"
    }
   ],
   "source": [
    "len(para_lst)"
   ]
  },
  {
   "cell_type": "code",
   "execution_count": 6,
   "metadata": {},
   "outputs": [],
   "source": [
    "n_jobs = 3\n",
    "for para, job_index in zip(para_lst, itertools.cycle(range(n_jobs))):\n",
    "    with open('hypertune'+str(job_index)+'.sh', 'a') as f:\n",
    "        f.write('python glove_train_multispace.py --DX1_dim {} --DX_dim {} --PR_dim {} --penalty {} --penalty_metric {} --count_cap {} --dx1_rarecutpoint {} --dx_rarecutpoint {} --pr_rarecutpoint {} --save_folder {} --job_index {}\\n'.format(*para, job_index))"
   ]
  },
  {
   "cell_type": "markdown",
   "metadata": {},
   "source": [
    "## Result Analysis"
   ]
  },
  {
   "cell_type": "code",
   "execution_count": 2,
   "metadata": {},
   "outputs": [],
   "source": [
    "res = pd.DataFrame()"
   ]
  },
  {
   "cell_type": "code",
   "execution_count": 4,
   "metadata": {},
   "outputs": [],
   "source": [
    "for job_ind in range(4):\n",
    "    df = pd.read_csv('output/ht_result0903_'+str(job_ind)+'.csv', \n",
    "                     names=['model_name', 'code_embed_dim', 'hosp_embed_dim', 'fc_width', 'md_width', 'lr1', 'lr2', 'dropout',\n",
    "                            'batchsize', 'embed_file', 'data_file', 'sep_dx1', 'tst_seed', 'n_fold', 'auc_mean', 'auc_cil', \n",
    "                            'auc_cih', 'auc_avg', 'auc_freeze', 'y_pred_file'], index_col=None)\n",
    "    res = pd.concat([res, df])"
   ]
  },
  {
   "cell_type": "code",
   "execution_count": 5,
   "metadata": {
    "scrolled": true
   },
   "outputs": [
    {
     "data": {
      "text/html": [
       "<div>\n",
       "<style scoped>\n",
       "    .dataframe tbody tr th:only-of-type {\n",
       "        vertical-align: middle;\n",
       "    }\n",
       "\n",
       "    .dataframe tbody tr th {\n",
       "        vertical-align: top;\n",
       "    }\n",
       "\n",
       "    .dataframe thead th {\n",
       "        text-align: right;\n",
       "    }\n",
       "</style>\n",
       "<table border=\"1\" class=\"dataframe\">\n",
       "  <thead>\n",
       "    <tr style=\"text-align: right;\">\n",
       "      <th></th>\n",
       "      <th>model_name</th>\n",
       "      <th>code_embed_dim</th>\n",
       "      <th>hosp_embed_dim</th>\n",
       "      <th>fc_width</th>\n",
       "      <th>md_width</th>\n",
       "      <th>lr1</th>\n",
       "      <th>lr2</th>\n",
       "      <th>dropout</th>\n",
       "      <th>batchsize</th>\n",
       "      <th>embed_file</th>\n",
       "      <th>data_file</th>\n",
       "      <th>sep_dx1</th>\n",
       "      <th>tst_seed</th>\n",
       "      <th>n_fold</th>\n",
       "      <th>auc_mean</th>\n",
       "      <th>auc_cil</th>\n",
       "      <th>auc_cih</th>\n",
       "      <th>auc_avg</th>\n",
       "      <th>auc_freeze</th>\n",
       "      <th>y_pred_file</th>\n",
       "    </tr>\n",
       "  </thead>\n",
       "  <tbody>\n",
       "    <tr>\n",
       "      <th>0</th>\n",
       "      <td>setsum</td>\n",
       "      <td>100</td>\n",
       "      <td>1</td>\n",
       "      <td>128</td>\n",
       "      <td>128</td>\n",
       "      <td>0.0002</td>\n",
       "      <td>0.00002</td>\n",
       "      <td>0.3</td>\n",
       "      <td>256</td>\n",
       "      <td>all/embed_mat_100_0.000_0.npy</td>\n",
       "      <td>cohorts/ami/ami_pred.csv</td>\n",
       "      <td>0</td>\n",
       "      <td>0</td>\n",
       "      <td>7</td>\n",
       "      <td>0.7283</td>\n",
       "      <td>(0.7269</td>\n",
       "      <td>0.7297)</td>\n",
       "      <td>0.7308</td>\n",
       "      <td>0.7279</td>\n",
       "      <td>output/y_pred_mat18_09_03_05_01_28.npy</td>\n",
       "    </tr>\n",
       "    <tr>\n",
       "      <th>1</th>\n",
       "      <td>setsum</td>\n",
       "      <td>100</td>\n",
       "      <td>1</td>\n",
       "      <td>128</td>\n",
       "      <td>128</td>\n",
       "      <td>0.0002</td>\n",
       "      <td>0.00002</td>\n",
       "      <td>0.3</td>\n",
       "      <td>256</td>\n",
       "      <td>all/embed_mat_100_0.100_0.npy</td>\n",
       "      <td>cohorts/ami/ami_pred.csv</td>\n",
       "      <td>0</td>\n",
       "      <td>0</td>\n",
       "      <td>7</td>\n",
       "      <td>0.7285</td>\n",
       "      <td>(0.7275</td>\n",
       "      <td>0.7296)</td>\n",
       "      <td>0.7313</td>\n",
       "      <td>0.7280</td>\n",
       "      <td>output/y_pred_mat18_09_03_05_35_55.npy</td>\n",
       "    </tr>\n",
       "    <tr>\n",
       "      <th>2</th>\n",
       "      <td>setsum</td>\n",
       "      <td>100</td>\n",
       "      <td>1</td>\n",
       "      <td>128</td>\n",
       "      <td>128</td>\n",
       "      <td>0.0002</td>\n",
       "      <td>0.00002</td>\n",
       "      <td>0.3</td>\n",
       "      <td>256</td>\n",
       "      <td>all/embed_mat_100_0.200_0.npy</td>\n",
       "      <td>cohorts/ami/ami_pred.csv</td>\n",
       "      <td>0</td>\n",
       "      <td>0</td>\n",
       "      <td>7</td>\n",
       "      <td>0.7275</td>\n",
       "      <td>(0.7265</td>\n",
       "      <td>0.7286)</td>\n",
       "      <td>0.7302</td>\n",
       "      <td>0.7268</td>\n",
       "      <td>output/y_pred_mat18_09_03_06_10_29.npy</td>\n",
       "    </tr>\n",
       "    <tr>\n",
       "      <th>3</th>\n",
       "      <td>setsum</td>\n",
       "      <td>100</td>\n",
       "      <td>1</td>\n",
       "      <td>128</td>\n",
       "      <td>128</td>\n",
       "      <td>0.0002</td>\n",
       "      <td>0.00002</td>\n",
       "      <td>0.3</td>\n",
       "      <td>256</td>\n",
       "      <td>all/embed_mat_100_0.300_0.npy</td>\n",
       "      <td>cohorts/ami/ami_pred.csv</td>\n",
       "      <td>0</td>\n",
       "      <td>0</td>\n",
       "      <td>7</td>\n",
       "      <td>0.7281</td>\n",
       "      <td>(0.7270</td>\n",
       "      <td>0.7293)</td>\n",
       "      <td>0.7310</td>\n",
       "      <td>0.7279</td>\n",
       "      <td>output/y_pred_mat18_09_03_06_43_47.npy</td>\n",
       "    </tr>\n",
       "    <tr>\n",
       "      <th>4</th>\n",
       "      <td>setsum</td>\n",
       "      <td>100</td>\n",
       "      <td>1</td>\n",
       "      <td>128</td>\n",
       "      <td>128</td>\n",
       "      <td>0.0002</td>\n",
       "      <td>0.00002</td>\n",
       "      <td>0.3</td>\n",
       "      <td>256</td>\n",
       "      <td>all/embed_mat_100_0.400_0.npy</td>\n",
       "      <td>cohorts/ami/ami_pred.csv</td>\n",
       "      <td>0</td>\n",
       "      <td>0</td>\n",
       "      <td>7</td>\n",
       "      <td>0.7284</td>\n",
       "      <td>(0.7270</td>\n",
       "      <td>0.7298)</td>\n",
       "      <td>0.7310</td>\n",
       "      <td>0.7278</td>\n",
       "      <td>output/y_pred_mat18_09_03_07_20_24.npy</td>\n",
       "    </tr>\n",
       "    <tr>\n",
       "      <th>5</th>\n",
       "      <td>setsum</td>\n",
       "      <td>100</td>\n",
       "      <td>1</td>\n",
       "      <td>128</td>\n",
       "      <td>128</td>\n",
       "      <td>0.0002</td>\n",
       "      <td>0.00002</td>\n",
       "      <td>0.3</td>\n",
       "      <td>256</td>\n",
       "      <td>all/embed_mat_100_0.500_0.npy</td>\n",
       "      <td>cohorts/ami/ami_pred.csv</td>\n",
       "      <td>0</td>\n",
       "      <td>0</td>\n",
       "      <td>7</td>\n",
       "      <td>0.7284</td>\n",
       "      <td>(0.7266</td>\n",
       "      <td>0.7301)</td>\n",
       "      <td>0.7309</td>\n",
       "      <td>0.7275</td>\n",
       "      <td>output/y_pred_mat18_09_03_07_56_18.npy</td>\n",
       "    </tr>\n",
       "    <tr>\n",
       "      <th>0</th>\n",
       "      <td>setsum</td>\n",
       "      <td>100</td>\n",
       "      <td>1</td>\n",
       "      <td>128</td>\n",
       "      <td>128</td>\n",
       "      <td>0.0002</td>\n",
       "      <td>0.00002</td>\n",
       "      <td>0.3</td>\n",
       "      <td>256</td>\n",
       "      <td>all/embed_mat_100_0.025_0.npy</td>\n",
       "      <td>cohorts/ami/ami_pred.csv</td>\n",
       "      <td>0</td>\n",
       "      <td>0</td>\n",
       "      <td>7</td>\n",
       "      <td>0.7275</td>\n",
       "      <td>(0.7261</td>\n",
       "      <td>0.7289)</td>\n",
       "      <td>0.7303</td>\n",
       "      <td>0.7274</td>\n",
       "      <td>output/y_pred_mat18_09_03_05_00_14.npy</td>\n",
       "    </tr>\n",
       "    <tr>\n",
       "      <th>1</th>\n",
       "      <td>setsum</td>\n",
       "      <td>100</td>\n",
       "      <td>1</td>\n",
       "      <td>128</td>\n",
       "      <td>128</td>\n",
       "      <td>0.0002</td>\n",
       "      <td>0.00002</td>\n",
       "      <td>0.3</td>\n",
       "      <td>256</td>\n",
       "      <td>all/embed_mat_100_0.125_0.npy</td>\n",
       "      <td>cohorts/ami/ami_pred.csv</td>\n",
       "      <td>0</td>\n",
       "      <td>0</td>\n",
       "      <td>7</td>\n",
       "      <td>0.7278</td>\n",
       "      <td>(0.7269</td>\n",
       "      <td>0.7287)</td>\n",
       "      <td>0.7305</td>\n",
       "      <td>0.7276</td>\n",
       "      <td>output/y_pred_mat18_09_03_05_34_09.npy</td>\n",
       "    </tr>\n",
       "    <tr>\n",
       "      <th>2</th>\n",
       "      <td>setsum</td>\n",
       "      <td>100</td>\n",
       "      <td>1</td>\n",
       "      <td>128</td>\n",
       "      <td>128</td>\n",
       "      <td>0.0002</td>\n",
       "      <td>0.00002</td>\n",
       "      <td>0.3</td>\n",
       "      <td>256</td>\n",
       "      <td>all/embed_mat_100_0.225_0.npy</td>\n",
       "      <td>cohorts/ami/ami_pred.csv</td>\n",
       "      <td>0</td>\n",
       "      <td>0</td>\n",
       "      <td>7</td>\n",
       "      <td>0.7285</td>\n",
       "      <td>(0.7271</td>\n",
       "      <td>0.7299)</td>\n",
       "      <td>0.7308</td>\n",
       "      <td>0.7280</td>\n",
       "      <td>output/y_pred_mat18_09_03_06_09_06.npy</td>\n",
       "    </tr>\n",
       "    <tr>\n",
       "      <th>3</th>\n",
       "      <td>setsum</td>\n",
       "      <td>100</td>\n",
       "      <td>1</td>\n",
       "      <td>128</td>\n",
       "      <td>128</td>\n",
       "      <td>0.0002</td>\n",
       "      <td>0.00002</td>\n",
       "      <td>0.3</td>\n",
       "      <td>256</td>\n",
       "      <td>all/embed_mat_100_0.325_0.npy</td>\n",
       "      <td>cohorts/ami/ami_pred.csv</td>\n",
       "      <td>0</td>\n",
       "      <td>0</td>\n",
       "      <td>7</td>\n",
       "      <td>0.7288</td>\n",
       "      <td>(0.7281</td>\n",
       "      <td>0.7295)</td>\n",
       "      <td>0.7313</td>\n",
       "      <td>0.7278</td>\n",
       "      <td>output/y_pred_mat18_09_03_06_45_42.npy</td>\n",
       "    </tr>\n",
       "    <tr>\n",
       "      <th>4</th>\n",
       "      <td>setsum</td>\n",
       "      <td>100</td>\n",
       "      <td>1</td>\n",
       "      <td>128</td>\n",
       "      <td>128</td>\n",
       "      <td>0.0002</td>\n",
       "      <td>0.00002</td>\n",
       "      <td>0.3</td>\n",
       "      <td>256</td>\n",
       "      <td>all/embed_mat_100_0.425_0.npy</td>\n",
       "      <td>cohorts/ami/ami_pred.csv</td>\n",
       "      <td>0</td>\n",
       "      <td>0</td>\n",
       "      <td>7</td>\n",
       "      <td>0.7287</td>\n",
       "      <td>(0.7280</td>\n",
       "      <td>0.7294)</td>\n",
       "      <td>0.7313</td>\n",
       "      <td>0.7279</td>\n",
       "      <td>output/y_pred_mat18_09_03_07_20_51.npy</td>\n",
       "    </tr>\n",
       "    <tr>\n",
       "      <th>0</th>\n",
       "      <td>setsum</td>\n",
       "      <td>100</td>\n",
       "      <td>1</td>\n",
       "      <td>128</td>\n",
       "      <td>128</td>\n",
       "      <td>0.0002</td>\n",
       "      <td>0.00002</td>\n",
       "      <td>0.3</td>\n",
       "      <td>256</td>\n",
       "      <td>all/embed_mat_100_0.050_0.npy</td>\n",
       "      <td>cohorts/ami/ami_pred.csv</td>\n",
       "      <td>0</td>\n",
       "      <td>0</td>\n",
       "      <td>7</td>\n",
       "      <td>0.7287</td>\n",
       "      <td>(0.7280</td>\n",
       "      <td>0.7294)</td>\n",
       "      <td>0.7311</td>\n",
       "      <td>0.7279</td>\n",
       "      <td>output/y_pred_mat18_09_03_05_06_26.npy</td>\n",
       "    </tr>\n",
       "    <tr>\n",
       "      <th>1</th>\n",
       "      <td>setsum</td>\n",
       "      <td>100</td>\n",
       "      <td>1</td>\n",
       "      <td>128</td>\n",
       "      <td>128</td>\n",
       "      <td>0.0002</td>\n",
       "      <td>0.00002</td>\n",
       "      <td>0.3</td>\n",
       "      <td>256</td>\n",
       "      <td>all/embed_mat_100_0.150_0.npy</td>\n",
       "      <td>cohorts/ami/ami_pred.csv</td>\n",
       "      <td>0</td>\n",
       "      <td>0</td>\n",
       "      <td>7</td>\n",
       "      <td>0.7284</td>\n",
       "      <td>(0.7268</td>\n",
       "      <td>0.7301)</td>\n",
       "      <td>0.7311</td>\n",
       "      <td>0.7280</td>\n",
       "      <td>output/y_pred_mat18_09_03_05_44_54.npy</td>\n",
       "    </tr>\n",
       "    <tr>\n",
       "      <th>2</th>\n",
       "      <td>setsum</td>\n",
       "      <td>100</td>\n",
       "      <td>1</td>\n",
       "      <td>128</td>\n",
       "      <td>128</td>\n",
       "      <td>0.0002</td>\n",
       "      <td>0.00002</td>\n",
       "      <td>0.3</td>\n",
       "      <td>256</td>\n",
       "      <td>all/embed_mat_100_0.250_0.npy</td>\n",
       "      <td>cohorts/ami/ami_pred.csv</td>\n",
       "      <td>0</td>\n",
       "      <td>0</td>\n",
       "      <td>7</td>\n",
       "      <td>0.7287</td>\n",
       "      <td>(0.7281</td>\n",
       "      <td>0.7294)</td>\n",
       "      <td>0.7316</td>\n",
       "      <td>0.7283</td>\n",
       "      <td>output/y_pred_mat18_09_03_06_22_10.npy</td>\n",
       "    </tr>\n",
       "    <tr>\n",
       "      <th>3</th>\n",
       "      <td>setsum</td>\n",
       "      <td>100</td>\n",
       "      <td>1</td>\n",
       "      <td>128</td>\n",
       "      <td>128</td>\n",
       "      <td>0.0002</td>\n",
       "      <td>0.00002</td>\n",
       "      <td>0.3</td>\n",
       "      <td>256</td>\n",
       "      <td>all/embed_mat_100_0.350_0.npy</td>\n",
       "      <td>cohorts/ami/ami_pred.csv</td>\n",
       "      <td>0</td>\n",
       "      <td>0</td>\n",
       "      <td>7</td>\n",
       "      <td>0.7280</td>\n",
       "      <td>(0.7270</td>\n",
       "      <td>0.7291)</td>\n",
       "      <td>0.7308</td>\n",
       "      <td>0.7268</td>\n",
       "      <td>output/y_pred_mat18_09_03_07_00_00.npy</td>\n",
       "    </tr>\n",
       "    <tr>\n",
       "      <th>4</th>\n",
       "      <td>setsum</td>\n",
       "      <td>100</td>\n",
       "      <td>1</td>\n",
       "      <td>128</td>\n",
       "      <td>128</td>\n",
       "      <td>0.0002</td>\n",
       "      <td>0.00002</td>\n",
       "      <td>0.3</td>\n",
       "      <td>256</td>\n",
       "      <td>all/embed_mat_100_0.450_0.npy</td>\n",
       "      <td>cohorts/ami/ami_pred.csv</td>\n",
       "      <td>0</td>\n",
       "      <td>0</td>\n",
       "      <td>7</td>\n",
       "      <td>0.7282</td>\n",
       "      <td>(0.7273</td>\n",
       "      <td>0.7292)</td>\n",
       "      <td>0.7308</td>\n",
       "      <td>0.7281</td>\n",
       "      <td>output/y_pred_mat18_09_03_07_39_53.npy</td>\n",
       "    </tr>\n",
       "    <tr>\n",
       "      <th>0</th>\n",
       "      <td>setsum</td>\n",
       "      <td>100</td>\n",
       "      <td>1</td>\n",
       "      <td>128</td>\n",
       "      <td>128</td>\n",
       "      <td>0.0002</td>\n",
       "      <td>0.00002</td>\n",
       "      <td>0.3</td>\n",
       "      <td>256</td>\n",
       "      <td>all/embed_mat_100_0.075_0.npy</td>\n",
       "      <td>cohorts/ami/ami_pred.csv</td>\n",
       "      <td>0</td>\n",
       "      <td>0</td>\n",
       "      <td>7</td>\n",
       "      <td>0.7276</td>\n",
       "      <td>(0.7268</td>\n",
       "      <td>0.7284)</td>\n",
       "      <td>0.7303</td>\n",
       "      <td>0.7272</td>\n",
       "      <td>output/y_pred_mat18_09_03_05_00_47.npy</td>\n",
       "    </tr>\n",
       "    <tr>\n",
       "      <th>1</th>\n",
       "      <td>setsum</td>\n",
       "      <td>100</td>\n",
       "      <td>1</td>\n",
       "      <td>128</td>\n",
       "      <td>128</td>\n",
       "      <td>0.0002</td>\n",
       "      <td>0.00002</td>\n",
       "      <td>0.3</td>\n",
       "      <td>256</td>\n",
       "      <td>all/embed_mat_100_0.175_0.npy</td>\n",
       "      <td>cohorts/ami/ami_pred.csv</td>\n",
       "      <td>0</td>\n",
       "      <td>0</td>\n",
       "      <td>7</td>\n",
       "      <td>0.7288</td>\n",
       "      <td>(0.7281</td>\n",
       "      <td>0.7295)</td>\n",
       "      <td>0.7313</td>\n",
       "      <td>0.7280</td>\n",
       "      <td>output/y_pred_mat18_09_03_05_34_30.npy</td>\n",
       "    </tr>\n",
       "    <tr>\n",
       "      <th>2</th>\n",
       "      <td>setsum</td>\n",
       "      <td>100</td>\n",
       "      <td>1</td>\n",
       "      <td>128</td>\n",
       "      <td>128</td>\n",
       "      <td>0.0002</td>\n",
       "      <td>0.00002</td>\n",
       "      <td>0.3</td>\n",
       "      <td>256</td>\n",
       "      <td>all/embed_mat_100_0.275_0.npy</td>\n",
       "      <td>cohorts/ami/ami_pred.csv</td>\n",
       "      <td>0</td>\n",
       "      <td>0</td>\n",
       "      <td>7</td>\n",
       "      <td>0.7278</td>\n",
       "      <td>(0.7261</td>\n",
       "      <td>0.7295)</td>\n",
       "      <td>0.7304</td>\n",
       "      <td>0.7272</td>\n",
       "      <td>output/y_pred_mat18_09_03_06_08_39.npy</td>\n",
       "    </tr>\n",
       "    <tr>\n",
       "      <th>3</th>\n",
       "      <td>setsum</td>\n",
       "      <td>100</td>\n",
       "      <td>1</td>\n",
       "      <td>128</td>\n",
       "      <td>128</td>\n",
       "      <td>0.0002</td>\n",
       "      <td>0.00002</td>\n",
       "      <td>0.3</td>\n",
       "      <td>256</td>\n",
       "      <td>all/embed_mat_100_0.375_0.npy</td>\n",
       "      <td>cohorts/ami/ami_pred.csv</td>\n",
       "      <td>0</td>\n",
       "      <td>0</td>\n",
       "      <td>7</td>\n",
       "      <td>0.7277</td>\n",
       "      <td>(0.7268</td>\n",
       "      <td>0.7287)</td>\n",
       "      <td>0.7304</td>\n",
       "      <td>0.7271</td>\n",
       "      <td>output/y_pred_mat18_09_03_06_42_05.npy</td>\n",
       "    </tr>\n",
       "    <tr>\n",
       "      <th>4</th>\n",
       "      <td>setsum</td>\n",
       "      <td>100</td>\n",
       "      <td>1</td>\n",
       "      <td>128</td>\n",
       "      <td>128</td>\n",
       "      <td>0.0002</td>\n",
       "      <td>0.00002</td>\n",
       "      <td>0.3</td>\n",
       "      <td>256</td>\n",
       "      <td>all/embed_mat_100_0.475_0.npy</td>\n",
       "      <td>cohorts/ami/ami_pred.csv</td>\n",
       "      <td>0</td>\n",
       "      <td>0</td>\n",
       "      <td>7</td>\n",
       "      <td>0.7283</td>\n",
       "      <td>(0.7272</td>\n",
       "      <td>0.7294)</td>\n",
       "      <td>0.7309</td>\n",
       "      <td>0.7277</td>\n",
       "      <td>output/y_pred_mat18_09_03_07_18_10.npy</td>\n",
       "    </tr>\n",
       "  </tbody>\n",
       "</table>\n",
       "</div>"
      ],
      "text/plain": [
       "  model_name  code_embed_dim  hosp_embed_dim  fc_width  md_width     lr1  \\\n",
       "0     setsum             100               1       128       128  0.0002   \n",
       "1     setsum             100               1       128       128  0.0002   \n",
       "2     setsum             100               1       128       128  0.0002   \n",
       "3     setsum             100               1       128       128  0.0002   \n",
       "4     setsum             100               1       128       128  0.0002   \n",
       "5     setsum             100               1       128       128  0.0002   \n",
       "0     setsum             100               1       128       128  0.0002   \n",
       "1     setsum             100               1       128       128  0.0002   \n",
       "2     setsum             100               1       128       128  0.0002   \n",
       "3     setsum             100               1       128       128  0.0002   \n",
       "4     setsum             100               1       128       128  0.0002   \n",
       "0     setsum             100               1       128       128  0.0002   \n",
       "1     setsum             100               1       128       128  0.0002   \n",
       "2     setsum             100               1       128       128  0.0002   \n",
       "3     setsum             100               1       128       128  0.0002   \n",
       "4     setsum             100               1       128       128  0.0002   \n",
       "0     setsum             100               1       128       128  0.0002   \n",
       "1     setsum             100               1       128       128  0.0002   \n",
       "2     setsum             100               1       128       128  0.0002   \n",
       "3     setsum             100               1       128       128  0.0002   \n",
       "4     setsum             100               1       128       128  0.0002   \n",
       "\n",
       "       lr2  dropout  batchsize                     embed_file  \\\n",
       "0  0.00002      0.3        256  all/embed_mat_100_0.000_0.npy   \n",
       "1  0.00002      0.3        256  all/embed_mat_100_0.100_0.npy   \n",
       "2  0.00002      0.3        256  all/embed_mat_100_0.200_0.npy   \n",
       "3  0.00002      0.3        256  all/embed_mat_100_0.300_0.npy   \n",
       "4  0.00002      0.3        256  all/embed_mat_100_0.400_0.npy   \n",
       "5  0.00002      0.3        256  all/embed_mat_100_0.500_0.npy   \n",
       "0  0.00002      0.3        256  all/embed_mat_100_0.025_0.npy   \n",
       "1  0.00002      0.3        256  all/embed_mat_100_0.125_0.npy   \n",
       "2  0.00002      0.3        256  all/embed_mat_100_0.225_0.npy   \n",
       "3  0.00002      0.3        256  all/embed_mat_100_0.325_0.npy   \n",
       "4  0.00002      0.3        256  all/embed_mat_100_0.425_0.npy   \n",
       "0  0.00002      0.3        256  all/embed_mat_100_0.050_0.npy   \n",
       "1  0.00002      0.3        256  all/embed_mat_100_0.150_0.npy   \n",
       "2  0.00002      0.3        256  all/embed_mat_100_0.250_0.npy   \n",
       "3  0.00002      0.3        256  all/embed_mat_100_0.350_0.npy   \n",
       "4  0.00002      0.3        256  all/embed_mat_100_0.450_0.npy   \n",
       "0  0.00002      0.3        256  all/embed_mat_100_0.075_0.npy   \n",
       "1  0.00002      0.3        256  all/embed_mat_100_0.175_0.npy   \n",
       "2  0.00002      0.3        256  all/embed_mat_100_0.275_0.npy   \n",
       "3  0.00002      0.3        256  all/embed_mat_100_0.375_0.npy   \n",
       "4  0.00002      0.3        256  all/embed_mat_100_0.475_0.npy   \n",
       "\n",
       "                  data_file  sep_dx1  tst_seed  n_fold  auc_mean  auc_cil  \\\n",
       "0  cohorts/ami/ami_pred.csv        0         0       7    0.7283  (0.7269   \n",
       "1  cohorts/ami/ami_pred.csv        0         0       7    0.7285  (0.7275   \n",
       "2  cohorts/ami/ami_pred.csv        0         0       7    0.7275  (0.7265   \n",
       "3  cohorts/ami/ami_pred.csv        0         0       7    0.7281  (0.7270   \n",
       "4  cohorts/ami/ami_pred.csv        0         0       7    0.7284  (0.7270   \n",
       "5  cohorts/ami/ami_pred.csv        0         0       7    0.7284  (0.7266   \n",
       "0  cohorts/ami/ami_pred.csv        0         0       7    0.7275  (0.7261   \n",
       "1  cohorts/ami/ami_pred.csv        0         0       7    0.7278  (0.7269   \n",
       "2  cohorts/ami/ami_pred.csv        0         0       7    0.7285  (0.7271   \n",
       "3  cohorts/ami/ami_pred.csv        0         0       7    0.7288  (0.7281   \n",
       "4  cohorts/ami/ami_pred.csv        0         0       7    0.7287  (0.7280   \n",
       "0  cohorts/ami/ami_pred.csv        0         0       7    0.7287  (0.7280   \n",
       "1  cohorts/ami/ami_pred.csv        0         0       7    0.7284  (0.7268   \n",
       "2  cohorts/ami/ami_pred.csv        0         0       7    0.7287  (0.7281   \n",
       "3  cohorts/ami/ami_pred.csv        0         0       7    0.7280  (0.7270   \n",
       "4  cohorts/ami/ami_pred.csv        0         0       7    0.7282  (0.7273   \n",
       "0  cohorts/ami/ami_pred.csv        0         0       7    0.7276  (0.7268   \n",
       "1  cohorts/ami/ami_pred.csv        0         0       7    0.7288  (0.7281   \n",
       "2  cohorts/ami/ami_pred.csv        0         0       7    0.7278  (0.7261   \n",
       "3  cohorts/ami/ami_pred.csv        0         0       7    0.7277  (0.7268   \n",
       "4  cohorts/ami/ami_pred.csv        0         0       7    0.7283  (0.7272   \n",
       "\n",
       "    auc_cih  auc_avg  auc_freeze                             y_pred_file  \n",
       "0   0.7297)   0.7308      0.7279  output/y_pred_mat18_09_03_05_01_28.npy  \n",
       "1   0.7296)   0.7313      0.7280  output/y_pred_mat18_09_03_05_35_55.npy  \n",
       "2   0.7286)   0.7302      0.7268  output/y_pred_mat18_09_03_06_10_29.npy  \n",
       "3   0.7293)   0.7310      0.7279  output/y_pred_mat18_09_03_06_43_47.npy  \n",
       "4   0.7298)   0.7310      0.7278  output/y_pred_mat18_09_03_07_20_24.npy  \n",
       "5   0.7301)   0.7309      0.7275  output/y_pred_mat18_09_03_07_56_18.npy  \n",
       "0   0.7289)   0.7303      0.7274  output/y_pred_mat18_09_03_05_00_14.npy  \n",
       "1   0.7287)   0.7305      0.7276  output/y_pred_mat18_09_03_05_34_09.npy  \n",
       "2   0.7299)   0.7308      0.7280  output/y_pred_mat18_09_03_06_09_06.npy  \n",
       "3   0.7295)   0.7313      0.7278  output/y_pred_mat18_09_03_06_45_42.npy  \n",
       "4   0.7294)   0.7313      0.7279  output/y_pred_mat18_09_03_07_20_51.npy  \n",
       "0   0.7294)   0.7311      0.7279  output/y_pred_mat18_09_03_05_06_26.npy  \n",
       "1   0.7301)   0.7311      0.7280  output/y_pred_mat18_09_03_05_44_54.npy  \n",
       "2   0.7294)   0.7316      0.7283  output/y_pred_mat18_09_03_06_22_10.npy  \n",
       "3   0.7291)   0.7308      0.7268  output/y_pred_mat18_09_03_07_00_00.npy  \n",
       "4   0.7292)   0.7308      0.7281  output/y_pred_mat18_09_03_07_39_53.npy  \n",
       "0   0.7284)   0.7303      0.7272  output/y_pred_mat18_09_03_05_00_47.npy  \n",
       "1   0.7295)   0.7313      0.7280  output/y_pred_mat18_09_03_05_34_30.npy  \n",
       "2   0.7295)   0.7304      0.7272  output/y_pred_mat18_09_03_06_08_39.npy  \n",
       "3   0.7287)   0.7304      0.7271  output/y_pred_mat18_09_03_06_42_05.npy  \n",
       "4   0.7294)   0.7309      0.7277  output/y_pred_mat18_09_03_07_18_10.npy  "
      ]
     },
     "execution_count": 5,
     "metadata": {},
     "output_type": "execute_result"
    }
   ],
   "source": [
    "res"
   ]
  },
  {
   "cell_type": "code",
   "execution_count": 6,
   "metadata": {},
   "outputs": [],
   "source": [
    "res = res.assign(penalty = res.embed_file.apply(lambda x:float(x[18:-6])))"
   ]
  },
  {
   "cell_type": "code",
   "execution_count": 14,
   "metadata": {
    "scrolled": false
   },
   "outputs": [
    {
     "data": {
      "text/plain": [
       "<matplotlib.axes._subplots.AxesSubplot at 0x2ac8752a6748>"
      ]
     },
     "execution_count": 14,
     "metadata": {},
     "output_type": "execute_result"
    },
    {
     "data": {
      "image/png": "[encoded data removed]",
      "text/plain": [
       "<Figure size 432x288 with 1 Axes>"
      ]
     },
     "metadata": {},
     "output_type": "display_data"
    },
    {
     "data": {
      "image/png": "[encoded data removed]",
      "text/plain": [
       "<Figure size 432x288 with 1 Axes>"
      ]
     },
     "metadata": {},
     "output_type": "display_data"
    }
   ],
   "source": [
    "res.plot.scatter('penalty', 'auc_freeze', ylim=(0.725, 0.735))\n",
    "res.plot.scatter('penalty', 'auc_mean', ylim=(0.725, 0.735))"
   ]
  },
  {
   "cell_type": "code",
   "execution_count": 28,
   "metadata": {},
   "outputs": [],
   "source": [
    "res2 = pd.read_csv('output/ht_result0828.csv')"
   ]
  },
  {
   "cell_type": "code",
   "execution_count": 31,
   "metadata": {},
   "outputs": [
    {
     "data": {
      "text/plain": [
       "<matplotlib.axes._subplots.AxesSubplot at 0x2ace2680eb38>"
      ]
     },
     "execution_count": 31,
     "metadata": {},
     "output_type": "execute_result"
    },
    {
     "data": {
      "image/png": "[encoded data removed]",
      "text/plain": [
       "<Figure size 432x288 with 1 Axes>"
      ]
     },
     "metadata": {},
     "output_type": "display_data"
    }
   ],
   "source": [
    "res2.plot.scatter('penalty', 'auc_mean', xlim=(0, 1e-5), ylim=(0.72, 0.73))"
   ]
  },
  {
   "cell_type": "code",
   "execution_count": 36,
   "metadata": {},
   "outputs": [],
   "source": [
    "res = res.loc[res.md_width>100]"
   ]
  },
  {
   "cell_type": "code",
   "execution_count": 38,
   "metadata": {
    "scrolled": true
   },
   "outputs": [
    {
     "data": {
      "text/plain": [
       "<matplotlib.axes._subplots.AxesSubplot at 0x2b5a2a6ccba8>"
      ]
     },
     "execution_count": 38,
     "metadata": {},
     "output_type": "execute_result"
    },
    {
     "data": {
      "image/png": "[encoded data removed]",
      "text/plain": [
       "<Figure size 432x288 with 1 Axes>"
      ]
     },
     "metadata": {},
     "output_type": "display_data"
    }
   ],
   "source": [
    "res.plot.scatter('lr2', 'auc_mean', xlim=(0, 1e-4), ylim=(0.72, 0.73))"
   ]
  },
  {
   "cell_type": "code",
   "execution_count": 40,
   "metadata": {
    "scrolled": true
   },
   "outputs": [
    {
     "data": {
      "text/plain": [
       "<matplotlib.axes._subplots.AxesSubplot at 0x2b5a2a76bf28>"
      ]
     },
     "execution_count": 40,
     "metadata": {},
     "output_type": "execute_result"
    },
    {
     "data": {
      "image/png": "[encoded data removed]",
      "text/plain": [
       "<Figure size 432x288 with 1 Axes>"
      ]
     },
     "metadata": {},
     "output_type": "display_data"
    }
   ],
   "source": [
    "res.plot.scatter('batchsize', 'auc_mean', ylim=(0.72, 0.73))"
   ]
  },
  {
   "cell_type": "code",
   "execution_count": 15,
   "metadata": {},
   "outputs": [],
   "source": [
    "res.to_csv('output/ht_result0903.csv', index=False)"
   ]
  },
  {
   "cell_type": "code",
   "execution_count": 17,
   "metadata": {},
   "outputs": [
    {
     "data": {
      "text/html": [
       "<div>\n",
       "<style scoped>\n",
       "    .dataframe tbody tr th:only-of-type {\n",
       "        vertical-align: middle;\n",
       "    }\n",
       "\n",
       "    .dataframe tbody tr th {\n",
       "        vertical-align: top;\n",
       "    }\n",
       "\n",
       "    .dataframe thead th {\n",
       "        text-align: right;\n",
       "    }\n",
       "</style>\n",
       "<table border=\"1\" class=\"dataframe\">\n",
       "  <thead>\n",
       "    <tr style=\"text-align: right;\">\n",
       "      <th></th>\n",
       "      <th>embed_file</th>\n",
       "      <th>y_pred_file</th>\n",
       "      <th>auc_mean</th>\n",
       "    </tr>\n",
       "  </thead>\n",
       "  <tbody>\n",
       "    <tr>\n",
       "      <th>5</th>\n",
       "      <td>all/embed_mat_pen6e-7.npy</td>\n",
       "      <td>output/y_pred_mat18_08_30_01_34_24.npy</td>\n",
       "      <td>0.7282</td>\n",
       "    </tr>\n",
       "    <tr>\n",
       "      <th>8</th>\n",
       "      <td>all/embed_mat_pen9e-7.npy</td>\n",
       "      <td>output/y_pred_mat18_08_30_03_43_48.npy</td>\n",
       "      <td>0.7282</td>\n",
       "    </tr>\n",
       "  </tbody>\n",
       "</table>\n",
       "</div>"
      ],
      "text/plain": [
       "                  embed_file                             y_pred_file  auc_mean\n",
       "5  all/embed_mat_pen6e-7.npy  output/y_pred_mat18_08_30_01_34_24.npy    0.7282\n",
       "8  all/embed_mat_pen9e-7.npy  output/y_pred_mat18_08_30_03_43_48.npy    0.7282"
      ]
     },
     "execution_count": 17,
     "metadata": {},
     "output_type": "execute_result"
    }
   ],
   "source": [
    "res.loc[res.auc_mean==res.auc_mean.max(), ['embed_file', 'y_pred_file', 'auc_mean']]"
   ]
  },
  {
   "cell_type": "code",
   "execution_count": 43,
   "metadata": {},
   "outputs": [
    {
     "data": {
      "text/html": [
       "<div>\n",
       "<style scoped>\n",
       "    .dataframe tbody tr th:only-of-type {\n",
       "        vertical-align: middle;\n",
       "    }\n",
       "\n",
       "    .dataframe tbody tr th {\n",
       "        vertical-align: top;\n",
       "    }\n",
       "\n",
       "    .dataframe thead th {\n",
       "        text-align: right;\n",
       "    }\n",
       "</style>\n",
       "<table border=\"1\" class=\"dataframe\">\n",
       "  <thead>\n",
       "    <tr style=\"text-align: right;\">\n",
       "      <th></th>\n",
       "      <th>model_name</th>\n",
       "      <th>code_embed_dim</th>\n",
       "      <th>hosp_embed_dim</th>\n",
       "      <th>fc_width</th>\n",
       "      <th>md_width</th>\n",
       "      <th>lr1</th>\n",
       "      <th>lr2</th>\n",
       "      <th>dropout</th>\n",
       "      <th>batchsize</th>\n",
       "      <th>embed_file</th>\n",
       "      <th>data_file</th>\n",
       "      <th>sep_dx1</th>\n",
       "      <th>tst_seed</th>\n",
       "      <th>n_fold</th>\n",
       "      <th>auc_mean</th>\n",
       "      <th>auc_cil</th>\n",
       "      <th>auc_cih</th>\n",
       "      <th>y_pred_file</th>\n",
       "    </tr>\n",
       "  </thead>\n",
       "  <tbody>\n",
       "    <tr>\n",
       "      <th>26</th>\n",
       "      <td>setsum</td>\n",
       "      <td>100</td>\n",
       "      <td>1</td>\n",
       "      <td>128</td>\n",
       "      <td>128</td>\n",
       "      <td>0.0002</td>\n",
       "      <td>0.00002</td>\n",
       "      <td>0.1</td>\n",
       "      <td>128</td>\n",
       "      <td>all/embed_mat_pen_2_1e-6.npy</td>\n",
       "      <td>cohorts/ami/ami_pred.csv</td>\n",
       "      <td>0</td>\n",
       "      <td>0</td>\n",
       "      <td>7</td>\n",
       "      <td>0.7286</td>\n",
       "      <td>(0.7275</td>\n",
       "      <td>0.7298)</td>\n",
       "      <td>output/y_pred_mat18_08_30_11_48_48.npy</td>\n",
       "    </tr>\n",
       "    <tr>\n",
       "      <th>35</th>\n",
       "      <td>setsum</td>\n",
       "      <td>100</td>\n",
       "      <td>1</td>\n",
       "      <td>128</td>\n",
       "      <td>256</td>\n",
       "      <td>0.0002</td>\n",
       "      <td>0.00005</td>\n",
       "      <td>0.3</td>\n",
       "      <td>256</td>\n",
       "      <td>all/embed_mat_pen_2_1e-6.npy</td>\n",
       "      <td>cohorts/ami/ami_pred.csv</td>\n",
       "      <td>0</td>\n",
       "      <td>0</td>\n",
       "      <td>7</td>\n",
       "      <td>0.7286</td>\n",
       "      <td>(0.7278</td>\n",
       "      <td>0.7295)</td>\n",
       "      <td>output/y_pred_mat18_08_30_06_42_42.npy</td>\n",
       "    </tr>\n",
       "    <tr>\n",
       "      <th>24</th>\n",
       "      <td>setsum</td>\n",
       "      <td>100</td>\n",
       "      <td>1</td>\n",
       "      <td>128</td>\n",
       "      <td>128</td>\n",
       "      <td>0.0002</td>\n",
       "      <td>0.00001</td>\n",
       "      <td>0.1</td>\n",
       "      <td>256</td>\n",
       "      <td>all/embed_mat_pen_2_1e-6.npy</td>\n",
       "      <td>cohorts/ami/ami_pred.csv</td>\n",
       "      <td>0</td>\n",
       "      <td>0</td>\n",
       "      <td>7</td>\n",
       "      <td>0.7287</td>\n",
       "      <td>(0.7275</td>\n",
       "      <td>0.7300)</td>\n",
       "      <td>output/y_pred_mat18_08_30_11_59_33.npy</td>\n",
       "    </tr>\n",
       "    <tr>\n",
       "      <th>34</th>\n",
       "      <td>setsum</td>\n",
       "      <td>100</td>\n",
       "      <td>1</td>\n",
       "      <td>128</td>\n",
       "      <td>256</td>\n",
       "      <td>0.0002</td>\n",
       "      <td>0.00005</td>\n",
       "      <td>0.1</td>\n",
       "      <td>256</td>\n",
       "      <td>all/embed_mat_pen_2_1e-6.npy</td>\n",
       "      <td>cohorts/ami/ami_pred.csv</td>\n",
       "      <td>0</td>\n",
       "      <td>0</td>\n",
       "      <td>7</td>\n",
       "      <td>0.7286</td>\n",
       "      <td>(0.7271</td>\n",
       "      <td>0.7301)</td>\n",
       "      <td>output/y_pred_mat18_08_30_08_38_31.npy</td>\n",
       "    </tr>\n",
       "    <tr>\n",
       "      <th>27</th>\n",
       "      <td>setsum</td>\n",
       "      <td>100</td>\n",
       "      <td>1</td>\n",
       "      <td>128</td>\n",
       "      <td>128</td>\n",
       "      <td>0.0002</td>\n",
       "      <td>0.00002</td>\n",
       "      <td>0.5</td>\n",
       "      <td>256</td>\n",
       "      <td>all/embed_mat_pen_2_1e-6.npy</td>\n",
       "      <td>cohorts/ami/ami_pred.csv</td>\n",
       "      <td>0</td>\n",
       "      <td>0</td>\n",
       "      <td>7</td>\n",
       "      <td>0.7286</td>\n",
       "      <td>(0.7278</td>\n",
       "      <td>0.7294)</td>\n",
       "      <td>output/y_pred_mat18_08_30_12_04_01.npy</td>\n",
       "    </tr>\n",
       "  </tbody>\n",
       "</table>\n",
       "</div>"
      ],
      "text/plain": [
       "   model_name  code_embed_dim  hosp_embed_dim  fc_width  md_width     lr1  \\\n",
       "26     setsum             100               1       128       128  0.0002   \n",
       "35     setsum             100               1       128       256  0.0002   \n",
       "24     setsum             100               1       128       128  0.0002   \n",
       "34     setsum             100               1       128       256  0.0002   \n",
       "27     setsum             100               1       128       128  0.0002   \n",
       "\n",
       "        lr2  dropout  batchsize                    embed_file  \\\n",
       "26  0.00002      0.1        128  all/embed_mat_pen_2_1e-6.npy   \n",
       "35  0.00005      0.3        256  all/embed_mat_pen_2_1e-6.npy   \n",
       "24  0.00001      0.1        256  all/embed_mat_pen_2_1e-6.npy   \n",
       "34  0.00005      0.1        256  all/embed_mat_pen_2_1e-6.npy   \n",
       "27  0.00002      0.5        256  all/embed_mat_pen_2_1e-6.npy   \n",
       "\n",
       "                   data_file  sep_dx1  tst_seed  n_fold  auc_mean  auc_cil  \\\n",
       "26  cohorts/ami/ami_pred.csv        0         0       7    0.7286  (0.7275   \n",
       "35  cohorts/ami/ami_pred.csv        0         0       7    0.7286  (0.7278   \n",
       "24  cohorts/ami/ami_pred.csv        0         0       7    0.7287  (0.7275   \n",
       "34  cohorts/ami/ami_pred.csv        0         0       7    0.7286  (0.7271   \n",
       "27  cohorts/ami/ami_pred.csv        0         0       7    0.7286  (0.7278   \n",
       "\n",
       "     auc_cih                             y_pred_file  \n",
       "26   0.7298)  output/y_pred_mat18_08_30_11_48_48.npy  \n",
       "35   0.7295)  output/y_pred_mat18_08_30_06_42_42.npy  \n",
       "24   0.7300)  output/y_pred_mat18_08_30_11_59_33.npy  \n",
       "34   0.7301)  output/y_pred_mat18_08_30_08_38_31.npy  \n",
       "27   0.7294)  output/y_pred_mat18_08_30_12_04_01.npy  "
      ]
     },
     "execution_count": 43,
     "metadata": {},
     "output_type": "execute_result"
    }
   ],
   "source": [
    "res.loc[res.auc_mean>0.7285, ]"
   ]
  },
  {
   "cell_type": "code",
   "execution_count": 73,
   "metadata": {},
   "outputs": [],
   "source": [
    "y_pred_mat = np.load('output/y_pred_mat18_Aug_29_06_08_54.npy')\n",
    "\n",
    "all_df = pd.read_csv(path+'cohorts/ami/ami_pred.csv', dtype=core_dtypes_pd)\n",
    "\n",
    "train_df, tst_df = train_test_split(all_df, test_size=0.1, stratify=all_df.HOSP_NRD, random_state=0)\n",
    "\n",
    "y_true = tst_df.readm30.astype(int).values"
   ]
  },
  {
   "cell_type": "code",
   "execution_count": 91,
   "metadata": {},
   "outputs": [],
   "source": [
    "auc_lst = []\n",
    "\n",
    "for j in range(y_pred_mat.shape[1]):\n",
    "    fpr, tpr, _ = roc_curve(y_true, y_pred_mat[:, j])\n",
    "    roc_auc = auc(fpr, tpr)\n",
    "    auc_lst.append(roc_auc)"
   ]
  },
  {
   "cell_type": "code",
   "execution_count": 94,
   "metadata": {},
   "outputs": [],
   "source": [
    "y_pred_avg = y_pred_mat.sum(axis=1)"
   ]
  },
  {
   "cell_type": "code",
   "execution_count": 95,
   "metadata": {
    "scrolled": true
   },
   "outputs": [
    {
     "data": {
      "text/plain": [
       "0.7298965868619355"
      ]
     },
     "execution_count": 95,
     "metadata": {},
     "output_type": "execute_result"
    }
   ],
   "source": [
    "fpr, tpr, _ = roc_curve(y_true, y_pred_avg)\n",
    "auc(fpr, tpr)"
   ]
  },
  {
   "cell_type": "code",
   "execution_count": 49,
   "metadata": {},
   "outputs": [],
   "source": [
    "embed_mat = np.load(path+'all/embed_mat_pen1e-7.npy')"
   ]
  },
  {
   "cell_type": "code",
   "execution_count": 50,
   "metadata": {},
   "outputs": [
    {
     "data": {
      "text/plain": [
       "(20153, 100)"
      ]
     },
     "execution_count": 50,
     "metadata": {},
     "output_type": "execute_result"
    }
   ],
   "source": [
    "embed_mat.shape"
   ]
  }
 ],
 "metadata": {
  "kernelspec": {
   "display_name": "Python 3",
   "language": "python",
   "name": "python3"
  },
  "language_info": {
   "codemirror_mode": {
    "name": "ipython",
    "version": 3
   },
   "file_extension": ".py",
   "mimetype": "text/x-python",
   "name": "python",
   "nbconvert_exporter": "python",
   "pygments_lexer": "ipython3",
   "version": "3.5.4"
  }
 },
 "nbformat": 4,
 "nbformat_minor": 2
}

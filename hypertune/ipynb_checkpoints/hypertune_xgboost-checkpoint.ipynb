{
 "cells": [
  {
   "cell_type": "code",
   "execution_count": 1,
   "metadata": {},
   "outputs": [],
   "source": [
    "import numpy as np\n",
    "import matplotlib.pyplot as plt\n",
    "%matplotlib inline\n",
    "import pandas as pd\n",
    "import os, sys\n",
    "import itertools\n",
    "from sklearn.model_selection import train_test_split\n",
    "from sklearn.metrics import roc_curve, auc\n",
    "import statsmodels.stats.api as sms"
   ]
  },
  {
   "cell_type": "code",
   "execution_count": 2,
   "metadata": {},
   "outputs": [],
   "source": [
    "path = '/nfs/turbo/umms-awaljee/wsliu/Data/NRD/'"
   ]
  },
  {
   "cell_type": "code",
   "execution_count": 3,
   "metadata": {},
   "outputs": [],
   "source": [
    "module_path = '/home/wsliu/Codes/DLproj'\n",
    "if module_path not in sys.path:\n",
    "    sys.path.append(module_path)\n",
    "if module_path+'/NRD' not in sys.path:\n",
    "    sys.path.append(module_path+'/NRD')"
   ]
  },
  {
   "cell_type": "code",
   "execution_count": 4,
   "metadata": {},
   "outputs": [],
   "source": [
    "from DL_utils import parallel_coordinates"
   ]
  },
  {
   "cell_type": "code",
   "execution_count": 5,
   "metadata": {},
   "outputs": [],
   "source": [
    "from ccs_tools import core_dtypes_pd"
   ]
  },
  {
   "cell_type": "code",
   "execution_count": 8,
   "metadata": {},
   "outputs": [],
   "source": [
    "folder = 'multi_space_glove/'\n",
    "DX1_freq = pd.read_csv(path+folder+'DX1_freq.csv', dtype={'DX1':str, 'frequency':int})\n",
    "DX_freq = pd.read_csv(path+folder+'DX_freq.csv', dtype={'DX':str, 'frequency':int})\n",
    "PR_freq = pd.read_csv(path+folder+'PR_freq.csv', dtype={'PR':str, 'frequency':int})"
   ]
  },
  {
   "cell_type": "code",
   "execution_count": 14,
   "metadata": {},
   "outputs": [],
   "source": [
    "from ccs_tools import dx_multi, pr_multi, core_dtypes_pd\n",
    "unclassified = set(dx_multi.loc[dx_multi.CCS_LVL1 == '18', 'ICD9CM_CODE'])"
   ]
  },
  {
   "cell_type": "code",
   "execution_count": 16,
   "metadata": {},
   "outputs": [],
   "source": [
    "DX1_rarecutpoint = 10\n",
    "DX_rarecutpoint = 10\n",
    "PR_rarecutpoint = 10"
   ]
  },
  {
   "cell_type": "code",
   "execution_count": 17,
   "metadata": {},
   "outputs": [],
   "source": [
    "DX1_freq = DX1_freq.loc[DX1_freq.frequency>0]\n",
    "DX_freq = DX_freq.loc[DX_freq.frequency>0]\n",
    "PR_freq = PR_freq.loc[PR_freq.frequency>0]\n",
    "DX1_cat = sorted(DX1_freq.loc[(DX1_freq.frequency>DX1_rarecutpoint) & (~DX1_freq.DX1.isin(unclassified))].DX1)\n",
    "DX_cat = sorted(DX_freq.loc[(DX_freq.frequency>DX_rarecutpoint) & (~DX_freq.DX.isin(unclassified))].DX)\n",
    "PR_cat = sorted(PR_freq.loc[(PR_freq.frequency>PR_rarecutpoint)].PR)\n",
    "n_DX1_cat = len(DX1_cat)\n",
    "n_DX_cat = len(DX_cat)\n",
    "n_PR_cat = len(PR_cat)"
   ]
  },
  {
   "cell_type": "code",
   "execution_count": 18,
   "metadata": {},
   "outputs": [
    {
     "data": {
      "text/plain": [
       "9778"
      ]
     },
     "execution_count": 18,
     "metadata": {},
     "output_type": "execute_result"
    }
   ],
   "source": [
    "len(set(DX1_cat).union(set(DX_cat)))"
   ]
  },
  {
   "cell_type": "code",
   "execution_count": 19,
   "metadata": {},
   "outputs": [
    {
     "data": {
      "text/plain": [
       "3183"
      ]
     },
     "execution_count": 19,
     "metadata": {},
     "output_type": "execute_result"
    }
   ],
   "source": [
    "len(PR_cat)"
   ]
  },
  {
   "cell_type": "markdown",
   "metadata": {},
   "source": [
    "## Editing pbs Files"
   ]
  },
  {
   "cell_type": "code",
   "execution_count": 2,
   "metadata": {},
   "outputs": [],
   "source": [
    "!rm batch_gpu*.pbs"
   ]
  },
  {
   "cell_type": "code",
   "execution_count": 3,
   "metadata": {},
   "outputs": [],
   "source": [
    "for job_index in range(12):\n",
    "    with open('batch_gpu{}.pbs'.format(job_index), 'w') as f:\n",
    "        f.write(\"\"\"#!/bin/sh\n",
    "\n",
    "#### PBS preamble\n",
    "\n",
    "#PBS -N NRD_hypertune{}\n",
    "\n",
    "#PBS -M wsliu@umich.edu\n",
    "#PBS -m abe\n",
    "\n",
    "#PBS -A awaljee_fluxg\n",
    "\n",
    "#PBS -q fluxg\n",
    "\n",
    "#PBS -V\n",
    "#PBS -l nodes=1:gpus={},mem={}gb,walltime={}:00:00\n",
    "#PBS -j oe\n",
    "\n",
    "#### End PBS preamble\n",
    "\n",
    "#  Show list of CPUs you ran on, if you're running under PBS\n",
    "if [ -n \"$PBS_NODEFILE\" ]; then cat $PBS_NODEFILE; fi\n",
    "\n",
    "#  Change to the directory you submitted from\n",
    "if [ -n \"$PBS_O_WORKDIR\" ]; then cd $PBS_O_WORKDIR; fi\n",
    "\n",
    "#  Put your job commands here:\n",
    "sh hypertune{}.sh\"\"\".format(job_index, '1', 7, 72, job_index))"
   ]
  },
  {
   "cell_type": "code",
   "execution_count": 10,
   "metadata": {},
   "outputs": [],
   "source": [
    "!rm batch*.pbs"
   ]
  },
  {
   "cell_type": "code",
   "execution_count": 11,
   "metadata": {},
   "outputs": [],
   "source": [
    "for job_index in range(20):\n",
    "    with open('batch{}.pbs'.format(job_index), 'w') as f:\n",
    "        f.write(\"\"\"#!/bin/sh\n",
    "\n",
    "#### PBS preamble\n",
    "\n",
    "#PBS -N NRD_hypertune{}\n",
    "\n",
    "#PBS -M wsliu@umich.edu\n",
    "#PBS -m abe\n",
    "\n",
    "#PBS -A awaljee_fluxod\n",
    "\n",
    "#PBS -q fluxod\n",
    "\n",
    "#PBS -V\n",
    "#PBS -l nodes=1:ppn={},pmem={}gb,walltime={}:00:00\n",
    "#PBS -j oe\n",
    "\n",
    "#### End PBS preamble\n",
    "\n",
    "#  Show list of CPUs you ran on, if you're running under PBS\n",
    "if [ -n \"$PBS_NODEFILE\" ]; then cat $PBS_NODEFILE; fi\n",
    "\n",
    "#  Change to the directory you submitted from\n",
    "if [ -n \"$PBS_O_WORKDIR\" ]; then cd $PBS_O_WORKDIR; fi\n",
    "\n",
    "#  Put your job commands here:\n",
    "sh hypertune{}.sh\"\"\".format(job_index, '2', 23, 48, job_index))"
   ]
  },
  {
   "cell_type": "code",
   "execution_count": 11,
   "metadata": {},
   "outputs": [],
   "source": [
    "for job_index in range(3):\n",
    "    with open('batch{}.pbs'.format(job_index), 'w') as f:\n",
    "        f.write(\"\"\"#!/bin/sh\n",
    "\n",
    "#### PBS preamble\n",
    "\n",
    "#PBS -N NRD_hypertune{}\n",
    "\n",
    "#PBS -M wsliu@umich.edu\n",
    "#PBS -m abe\n",
    "\n",
    "#PBS -A awaljee_fluxod\n",
    "\n",
    "#PBS -q fluxod\n",
    "\n",
    "#PBS -V\n",
    "#PBS -l nodes=1:largemem,mem={}gb,walltime={}:00:00\n",
    "#PBS -j oe\n",
    "\n",
    "#### End PBS preamble\n",
    "\n",
    "#  Show list of CPUs you ran on, if you're running under PBS\n",
    "if [ -n \"$PBS_NODEFILE\" ]; then cat $PBS_NODEFILE; fi\n",
    "\n",
    "#  Change to the directory you submitted from\n",
    "if [ -n \"$PBS_O_WORKDIR\" ]; then cd $PBS_O_WORKDIR; fi\n",
    "\n",
    "#  Put your job commands here:\n",
    "sh hypertune{}.sh\"\"\".format(job_index, 63, 48, job_index))"
   ]
  },
  {
   "cell_type": "markdown",
   "metadata": {},
   "source": [
    "## Prepare hyper-parameters and generate the .sh files"
   ]
  },
  {
   "cell_type": "code",
   "execution_count": 12,
   "metadata": {
    "scrolled": true
   },
   "outputs": [],
   "source": [
    "!rm hypertune*.sh"
   ]
  },
  {
   "cell_type": "code",
   "execution_count": 13,
   "metadata": {},
   "outputs": [],
   "source": [
    "ts = range(10)\n",
    "#ts.remove(7)"
   ]
  },
  {
   "cell_type": "code",
   "execution_count": 15,
   "metadata": {},
   "outputs": [],
   "source": [
    "lrs = [2e-5]\n",
    "tst_seeds = ts\n",
    "cohorts = ['ami', 'chf', 'pna']\n",
    "folders = ['multi_space_glove/']\n",
    "DX_rarecutpoints = [10]\n",
    "PR_rarecutpoints = [10]\n",
    "result_files = ['output/ht_result0524_{}.csv']"
   ]
  },
  {
   "cell_type": "code",
   "execution_count": 16,
   "metadata": {},
   "outputs": [],
   "source": [
    "para_itr = itertools.product(lrs, tst_seeds, cohorts, folders, DX_rarecutpoints, result_files)\n",
    "para_lst = [(lr, ts, ch, fl, dxr, dxr, rf) for (lr, ts, ch, fl, dxr, rf) in para_itr]"
   ]
  },
  {
   "cell_type": "code",
   "execution_count": 17,
   "metadata": {},
   "outputs": [
    {
     "data": {
      "text/plain": [
       "30"
      ]
     },
     "execution_count": 17,
     "metadata": {},
     "output_type": "execute_result"
    }
   ],
   "source": [
    "len(para_lst)"
   ]
  },
  {
   "cell_type": "code",
   "execution_count": 18,
   "metadata": {},
   "outputs": [],
   "source": [
    "job_lst = range(3)\n",
    "for para, job_ind in zip(para_lst, itertools.cycle(job_lst)):\n",
    "    with open('hypertune'+str(job_ind)+'.sh', 'a') as f:\n",
    "        f.write('python train_template_xgboost0425.py --lr {} --tst_seed {} --cohort {} --folder {} --dx_rarecutpoint {} --pr_rarecutpoint {} --result_file {} --job_index {}\\n'.format(*para, job_ind))"
   ]
  },
  {
   "cell_type": "code",
   "execution_count": 12,
   "metadata": {},
   "outputs": [],
   "source": [
    "job_ind = 2\n",
    "for para in para_lst:\n",
    "    with open('hypertune'+str(job_ind)+'.sh', 'a') as f:\n",
    "        f.write('python template_all_multispace0102.py --model_name {} --DX1_dim {} --DX_dim {} --PR_dim {} --fc_width {} --lr1 {} --lr2 {} --dropout {} --batchsize {} --embed_file {} --penalty {} --penalty_metric {} --count_cap {} --tst_seed {} --cohort {} --dx1_rarecutpoint {} --dx_rarecutpoint {} --pr_rarecutpoint {} --other_pred {} --ndxpr {} --val_fold {} --result_file {} --job_index {}\\n'.format(*para, job_ind))"
   ]
  },
  {
   "cell_type": "markdown",
   "metadata": {},
   "source": [
    "## Result Analysis"
   ]
  },
  {
   "cell_type": "code",
   "execution_count": 2,
   "metadata": {},
   "outputs": [],
   "source": [
    "res = pd.DataFrame()"
   ]
  },
  {
   "cell_type": "code",
   "execution_count": 3,
   "metadata": {
    "scrolled": true
   },
   "outputs": [],
   "source": [
    "for job_ind in range(2):\n",
    "    df = pd.read_csv('output/ht_result0523_'+str(job_ind)+'.csv', \n",
    "                     names=['lr', 'cohort', 'tst_seed', 'DX_rarecutpoint', 'PR_rarecutpoint', 'n_code_cat', 'n_X', \n",
    "                            'roc_auc'], index_col=None)\n",
    "    res = pd.concat([res, df])"
   ]
  },
  {
   "cell_type": "code",
   "execution_count": 4,
   "metadata": {},
   "outputs": [
    {
     "data": {
      "text/html": [
       "<div>\n",
       "<style scoped>\n",
       "    .dataframe tbody tr th:only-of-type {\n",
       "        vertical-align: middle;\n",
       "    }\n",
       "\n",
       "    .dataframe tbody tr th {\n",
       "        vertical-align: top;\n",
       "    }\n",
       "\n",
       "    .dataframe thead th {\n",
       "        text-align: right;\n",
       "    }\n",
       "</style>\n",
       "<table border=\"1\" class=\"dataframe\">\n",
       "  <thead>\n",
       "    <tr style=\"text-align: right;\">\n",
       "      <th></th>\n",
       "      <th>lr</th>\n",
       "      <th>cohort</th>\n",
       "      <th>tst_seed</th>\n",
       "      <th>DX_rarecutpoint</th>\n",
       "      <th>PR_rarecutpoint</th>\n",
       "      <th>n_code_cat</th>\n",
       "      <th>n_X</th>\n",
       "      <th>roc_auc</th>\n",
       "    </tr>\n",
       "  </thead>\n",
       "  <tbody>\n",
       "    <tr>\n",
       "      <th>0</th>\n",
       "      <td>0.00002</td>\n",
       "      <td>ami</td>\n",
       "      <td>0</td>\n",
       "      <td>10</td>\n",
       "      <td>10</td>\n",
       "      <td>3105</td>\n",
       "      <td>4177</td>\n",
       "      <td>0.66473</td>\n",
       "    </tr>\n",
       "    <tr>\n",
       "      <th>1</th>\n",
       "      <td>0.00002</td>\n",
       "      <td>pna</td>\n",
       "      <td>0</td>\n",
       "      <td>10</td>\n",
       "      <td>10</td>\n",
       "      <td>3873</td>\n",
       "      <td>5727</td>\n",
       "      <td>0.63206</td>\n",
       "    </tr>\n",
       "    <tr>\n",
       "      <th>2</th>\n",
       "      <td>0.00002</td>\n",
       "      <td>chf</td>\n",
       "      <td>1</td>\n",
       "      <td>10</td>\n",
       "      <td>10</td>\n",
       "      <td>3652</td>\n",
       "      <td>5319</td>\n",
       "      <td>0.60367</td>\n",
       "    </tr>\n",
       "    <tr>\n",
       "      <th>3</th>\n",
       "      <td>0.00002</td>\n",
       "      <td>ami</td>\n",
       "      <td>2</td>\n",
       "      <td>10</td>\n",
       "      <td>10</td>\n",
       "      <td>3105</td>\n",
       "      <td>4177</td>\n",
       "      <td>0.66430</td>\n",
       "    </tr>\n",
       "    <tr>\n",
       "      <th>4</th>\n",
       "      <td>0.00002</td>\n",
       "      <td>pna</td>\n",
       "      <td>2</td>\n",
       "      <td>10</td>\n",
       "      <td>10</td>\n",
       "      <td>3873</td>\n",
       "      <td>5727</td>\n",
       "      <td>0.63377</td>\n",
       "    </tr>\n",
       "  </tbody>\n",
       "</table>\n",
       "</div>"
      ],
      "text/plain": [
       "        lr cohort  tst_seed  DX_rarecutpoint  PR_rarecutpoint  n_code_cat  \\\n",
       "0  0.00002    ami         0               10               10        3105   \n",
       "1  0.00002    pna         0               10               10        3873   \n",
       "2  0.00002    chf         1               10               10        3652   \n",
       "3  0.00002    ami         2               10               10        3105   \n",
       "4  0.00002    pna         2               10               10        3873   \n",
       "\n",
       "    n_X  roc_auc  \n",
       "0  4177  0.66473  \n",
       "1  5727  0.63206  \n",
       "2  5319  0.60367  \n",
       "3  4177  0.66430  \n",
       "4  5727  0.63377  "
      ]
     },
     "execution_count": 4,
     "metadata": {},
     "output_type": "execute_result"
    }
   ],
   "source": [
    "res.head()"
   ]
  },
  {
   "cell_type": "code",
   "execution_count": 5,
   "metadata": {},
   "outputs": [
    {
     "data": {
      "text/plain": [
       "(30, 8)"
      ]
     },
     "execution_count": 5,
     "metadata": {},
     "output_type": "execute_result"
    }
   ],
   "source": [
    "res.shape"
   ]
  },
  {
   "cell_type": "code",
   "execution_count": 25,
   "metadata": {},
   "outputs": [],
   "source": [
    "res_grouped = res.groupby(['cohort', 'DX_rarecutpoint'])"
   ]
  },
  {
   "cell_type": "code",
   "execution_count": 26,
   "metadata": {},
   "outputs": [
    {
     "data": {
      "text/html": [
       "<div>\n",
       "<style scoped>\n",
       "    .dataframe tbody tr th:only-of-type {\n",
       "        vertical-align: middle;\n",
       "    }\n",
       "\n",
       "    .dataframe tbody tr th {\n",
       "        vertical-align: top;\n",
       "    }\n",
       "\n",
       "    .dataframe thead tr th {\n",
       "        text-align: left;\n",
       "    }\n",
       "\n",
       "    .dataframe thead tr:last-of-type th {\n",
       "        text-align: right;\n",
       "    }\n",
       "</style>\n",
       "<table border=\"1\" class=\"dataframe\">\n",
       "  <thead>\n",
       "    <tr>\n",
       "      <th></th>\n",
       "      <th></th>\n",
       "      <th colspan=\"2\" halign=\"left\">roc_auc</th>\n",
       "    </tr>\n",
       "    <tr>\n",
       "      <th></th>\n",
       "      <th></th>\n",
       "      <th>mean</th>\n",
       "      <th>count</th>\n",
       "    </tr>\n",
       "    <tr>\n",
       "      <th>cohort</th>\n",
       "      <th>DX_rarecutpoint</th>\n",
       "      <th></th>\n",
       "      <th></th>\n",
       "    </tr>\n",
       "  </thead>\n",
       "  <tbody>\n",
       "    <tr>\n",
       "      <th rowspan=\"6\" valign=\"top\">ami</th>\n",
       "      <th>10</th>\n",
       "      <td>0.701448</td>\n",
       "      <td>9</td>\n",
       "    </tr>\n",
       "    <tr>\n",
       "      <th>20</th>\n",
       "      <td>0.701448</td>\n",
       "      <td>9</td>\n",
       "    </tr>\n",
       "    <tr>\n",
       "      <th>40</th>\n",
       "      <td>0.701493</td>\n",
       "      <td>10</td>\n",
       "    </tr>\n",
       "    <tr>\n",
       "      <th>60</th>\n",
       "      <td>0.701512</td>\n",
       "      <td>10</td>\n",
       "    </tr>\n",
       "    <tr>\n",
       "      <th>80</th>\n",
       "      <td>0.701514</td>\n",
       "      <td>10</td>\n",
       "    </tr>\n",
       "    <tr>\n",
       "      <th>100</th>\n",
       "      <td>0.701509</td>\n",
       "      <td>10</td>\n",
       "    </tr>\n",
       "    <tr>\n",
       "      <th rowspan=\"6\" valign=\"top\">chf</th>\n",
       "      <th>10</th>\n",
       "      <td>0.615313</td>\n",
       "      <td>6</td>\n",
       "    </tr>\n",
       "    <tr>\n",
       "      <th>20</th>\n",
       "      <td>0.614633</td>\n",
       "      <td>9</td>\n",
       "    </tr>\n",
       "    <tr>\n",
       "      <th>40</th>\n",
       "      <td>0.614292</td>\n",
       "      <td>10</td>\n",
       "    </tr>\n",
       "    <tr>\n",
       "      <th>60</th>\n",
       "      <td>0.614292</td>\n",
       "      <td>10</td>\n",
       "    </tr>\n",
       "    <tr>\n",
       "      <th>80</th>\n",
       "      <td>0.614292</td>\n",
       "      <td>10</td>\n",
       "    </tr>\n",
       "    <tr>\n",
       "      <th>100</th>\n",
       "      <td>0.614265</td>\n",
       "      <td>10</td>\n",
       "    </tr>\n",
       "    <tr>\n",
       "      <th rowspan=\"4\" valign=\"top\">pna</th>\n",
       "      <th>40</th>\n",
       "      <td>0.653794</td>\n",
       "      <td>10</td>\n",
       "    </tr>\n",
       "    <tr>\n",
       "      <th>60</th>\n",
       "      <td>0.653796</td>\n",
       "      <td>10</td>\n",
       "    </tr>\n",
       "    <tr>\n",
       "      <th>80</th>\n",
       "      <td>0.653796</td>\n",
       "      <td>10</td>\n",
       "    </tr>\n",
       "    <tr>\n",
       "      <th>100</th>\n",
       "      <td>0.653772</td>\n",
       "      <td>10</td>\n",
       "    </tr>\n",
       "  </tbody>\n",
       "</table>\n",
       "</div>"
      ],
      "text/plain": [
       "                         roc_auc      \n",
       "                            mean count\n",
       "cohort DX_rarecutpoint                \n",
       "ami    10               0.701448     9\n",
       "       20               0.701448     9\n",
       "       40               0.701493    10\n",
       "       60               0.701512    10\n",
       "       80               0.701514    10\n",
       "       100              0.701509    10\n",
       "chf    10               0.615313     6\n",
       "       20               0.614633     9\n",
       "       40               0.614292    10\n",
       "       60               0.614292    10\n",
       "       80               0.614292    10\n",
       "       100              0.614265    10\n",
       "pna    40               0.653794    10\n",
       "       60               0.653796    10\n",
       "       80               0.653796    10\n",
       "       100              0.653772    10"
      ]
     },
     "execution_count": 26,
     "metadata": {},
     "output_type": "execute_result"
    }
   ],
   "source": [
    "res_grouped[['roc_auc']].agg(['mean', 'count'])"
   ]
  },
  {
   "cell_type": "code",
   "execution_count": 13,
   "metadata": {},
   "outputs": [
    {
     "data": {
      "text/html": [
       "<div>\n",
       "<style scoped>\n",
       "    .dataframe tbody tr th:only-of-type {\n",
       "        vertical-align: middle;\n",
       "    }\n",
       "\n",
       "    .dataframe tbody tr th {\n",
       "        vertical-align: top;\n",
       "    }\n",
       "\n",
       "    .dataframe thead th {\n",
       "        text-align: right;\n",
       "    }\n",
       "</style>\n",
       "<table border=\"1\" class=\"dataframe\">\n",
       "  <thead>\n",
       "    <tr style=\"text-align: right;\">\n",
       "      <th></th>\n",
       "      <th>lr</th>\n",
       "      <th>cohort</th>\n",
       "      <th>tst_seed</th>\n",
       "      <th>DX_rarecutpoint</th>\n",
       "      <th>PR_rarecutpoint</th>\n",
       "      <th>n_code_cat</th>\n",
       "      <th>n_X</th>\n",
       "      <th>roc_auc</th>\n",
       "    </tr>\n",
       "  </thead>\n",
       "  <tbody>\n",
       "    <tr>\n",
       "      <th>11</th>\n",
       "      <td>0.00002</td>\n",
       "      <td>pna</td>\n",
       "      <td>0</td>\n",
       "      <td>40</td>\n",
       "      <td>40</td>\n",
       "      <td>3042</td>\n",
       "      <td>4963</td>\n",
       "      <td>0.65587</td>\n",
       "    </tr>\n",
       "    <tr>\n",
       "      <th>9</th>\n",
       "      <td>0.00002</td>\n",
       "      <td>pna</td>\n",
       "      <td>1</td>\n",
       "      <td>40</td>\n",
       "      <td>40</td>\n",
       "      <td>3042</td>\n",
       "      <td>4963</td>\n",
       "      <td>0.65582</td>\n",
       "    </tr>\n",
       "    <tr>\n",
       "      <th>10</th>\n",
       "      <td>0.00002</td>\n",
       "      <td>pna</td>\n",
       "      <td>2</td>\n",
       "      <td>40</td>\n",
       "      <td>40</td>\n",
       "      <td>3042</td>\n",
       "      <td>4963</td>\n",
       "      <td>0.65465</td>\n",
       "    </tr>\n",
       "    <tr>\n",
       "      <th>12</th>\n",
       "      <td>0.00002</td>\n",
       "      <td>pna</td>\n",
       "      <td>3</td>\n",
       "      <td>40</td>\n",
       "      <td>40</td>\n",
       "      <td>3042</td>\n",
       "      <td>4963</td>\n",
       "      <td>0.65412</td>\n",
       "    </tr>\n",
       "    <tr>\n",
       "      <th>7</th>\n",
       "      <td>0.00002</td>\n",
       "      <td>pna</td>\n",
       "      <td>4</td>\n",
       "      <td>40</td>\n",
       "      <td>40</td>\n",
       "      <td>3042</td>\n",
       "      <td>4963</td>\n",
       "      <td>0.65597</td>\n",
       "    </tr>\n",
       "    <tr>\n",
       "      <th>9</th>\n",
       "      <td>0.00002</td>\n",
       "      <td>pna</td>\n",
       "      <td>5</td>\n",
       "      <td>40</td>\n",
       "      <td>40</td>\n",
       "      <td>3042</td>\n",
       "      <td>4963</td>\n",
       "      <td>0.65273</td>\n",
       "    </tr>\n",
       "    <tr>\n",
       "      <th>7</th>\n",
       "      <td>0.00000</td>\n",
       "      <td>pna</td>\n",
       "      <td>6</td>\n",
       "      <td>40</td>\n",
       "      <td>40</td>\n",
       "      <td>3042</td>\n",
       "      <td>4963</td>\n",
       "      <td>0.65969</td>\n",
       "    </tr>\n",
       "    <tr>\n",
       "      <th>7</th>\n",
       "      <td>0.00002</td>\n",
       "      <td>pna</td>\n",
       "      <td>7</td>\n",
       "      <td>40</td>\n",
       "      <td>40</td>\n",
       "      <td>3042</td>\n",
       "      <td>4963</td>\n",
       "      <td>0.65005</td>\n",
       "    </tr>\n",
       "    <tr>\n",
       "      <th>6</th>\n",
       "      <td>0.00002</td>\n",
       "      <td>pna</td>\n",
       "      <td>9</td>\n",
       "      <td>40</td>\n",
       "      <td>40</td>\n",
       "      <td>3042</td>\n",
       "      <td>4963</td>\n",
       "      <td>0.65351</td>\n",
       "    </tr>\n",
       "  </tbody>\n",
       "</table>\n",
       "</div>"
      ],
      "text/plain": [
       "         lr cohort  tst_seed  DX_rarecutpoint  PR_rarecutpoint  n_code_cat  \\\n",
       "11  0.00002    pna         0               40               40        3042   \n",
       "9   0.00002    pna         1               40               40        3042   \n",
       "10  0.00002    pna         2               40               40        3042   \n",
       "12  0.00002    pna         3               40               40        3042   \n",
       "7   0.00002    pna         4               40               40        3042   \n",
       "9   0.00002    pna         5               40               40        3042   \n",
       "7   0.00000    pna         6               40               40        3042   \n",
       "7   0.00002    pna         7               40               40        3042   \n",
       "6   0.00002    pna         9               40               40        3042   \n",
       "\n",
       "     n_X  roc_auc  \n",
       "11  4963  0.65587  \n",
       "9   4963  0.65582  \n",
       "10  4963  0.65465  \n",
       "12  4963  0.65412  \n",
       "7   4963  0.65597  \n",
       "9   4963  0.65273  \n",
       "7   4963  0.65969  \n",
       "7   4963  0.65005  \n",
       "6   4963  0.65351  "
      ]
     },
     "execution_count": 13,
     "metadata": {},
     "output_type": "execute_result"
    }
   ],
   "source": [
    "res.loc[res.DX_rarecutpoint==40].groupby('cohort').get_group('pna').sort_values(['DX_rarecutpoint', 'tst_seed'])"
   ]
  },
  {
   "cell_type": "code",
   "execution_count": 9,
   "metadata": {},
   "outputs": [],
   "source": [
    "res.to_csv('output/ht_result0523xgboost_elder.csv', index=False)"
   ]
  },
  {
   "cell_type": "code",
   "execution_count": 29,
   "metadata": {},
   "outputs": [],
   "source": [
    "res = res.loc[res.DX_rarecutpoint==40]"
   ]
  },
  {
   "cell_type": "code",
   "execution_count": 6,
   "metadata": {},
   "outputs": [],
   "source": [
    "res_grouped = res.groupby(['cohort'])"
   ]
  },
  {
   "cell_type": "code",
   "execution_count": 7,
   "metadata": {},
   "outputs": [
    {
     "data": {
      "text/html": [
       "<div>\n",
       "<style scoped>\n",
       "    .dataframe tbody tr th:only-of-type {\n",
       "        vertical-align: middle;\n",
       "    }\n",
       "\n",
       "    .dataframe tbody tr th {\n",
       "        vertical-align: top;\n",
       "    }\n",
       "\n",
       "    .dataframe thead tr th {\n",
       "        text-align: left;\n",
       "    }\n",
       "\n",
       "    .dataframe thead tr:last-of-type th {\n",
       "        text-align: right;\n",
       "    }\n",
       "</style>\n",
       "<table border=\"1\" class=\"dataframe\">\n",
       "  <thead>\n",
       "    <tr>\n",
       "      <th></th>\n",
       "      <th colspan=\"2\" halign=\"left\">roc_auc</th>\n",
       "    </tr>\n",
       "    <tr>\n",
       "      <th></th>\n",
       "      <th>mean</th>\n",
       "      <th>count</th>\n",
       "    </tr>\n",
       "    <tr>\n",
       "      <th>cohort</th>\n",
       "      <th></th>\n",
       "      <th></th>\n",
       "    </tr>\n",
       "  </thead>\n",
       "  <tbody>\n",
       "    <tr>\n",
       "      <th>ami</th>\n",
       "      <td>0.666148</td>\n",
       "      <td>10</td>\n",
       "    </tr>\n",
       "    <tr>\n",
       "      <th>chf</th>\n",
       "      <td>0.601764</td>\n",
       "      <td>10</td>\n",
       "    </tr>\n",
       "    <tr>\n",
       "      <th>pna</th>\n",
       "      <td>0.634731</td>\n",
       "      <td>10</td>\n",
       "    </tr>\n",
       "  </tbody>\n",
       "</table>\n",
       "</div>"
      ],
      "text/plain": [
       "         roc_auc      \n",
       "            mean count\n",
       "cohort                \n",
       "ami     0.666148    10\n",
       "chf     0.601764    10\n",
       "pna     0.634731    10"
      ]
     },
     "execution_count": 7,
     "metadata": {},
     "output_type": "execute_result"
    }
   ],
   "source": [
    "res_grouped[['roc_auc']].agg(['mean', 'count'])"
   ]
  },
  {
   "cell_type": "markdown",
   "metadata": {},
   "source": [
    "Rarecutpoint = 10, folder = 'elder/':"
   ]
  },
  {
   "cell_type": "code",
   "execution_count": 8,
   "metadata": {},
   "outputs": [
    {
     "name": "stdout",
     "output_type": "stream",
     "text": [
      "ami auc: 0.666 (0.664, 0.668)\n",
      "chf auc: 0.602 (0.599, 0.605)\n",
      "pna auc: 0.635 (0.632, 0.638)\n"
     ]
    }
   ],
   "source": [
    "for n, g in res_grouped:\n",
    "    print(n, 'auc: {0:.3f} ({1:.3f}, {2:.3f})'.format(g.roc_auc.mean(), *sms.DescrStatsW(g.roc_auc).zconfint_mean()))"
   ]
  }
 ],
 "metadata": {
  "kernelspec": {
   "display_name": "Python 3",
   "language": "python",
   "name": "python3"
  },
  "language_info": {
   "codemirror_mode": {
    "name": "ipython",
    "version": 3
   },
   "file_extension": ".py",
   "mimetype": "text/x-python",
   "name": "python",
   "nbconvert_exporter": "python",
   "pygments_lexer": "ipython3",
   "version": "3.5.4"
  }
 },
 "nbformat": 4,
 "nbformat_minor": 2
}

{
 "cells": [
  {
   "cell_type": "code",
   "execution_count": 1,
   "metadata": {},
   "outputs": [],
   "source": [
    "import numpy as np\n",
    "import matplotlib.pyplot as plt\n",
    "%matplotlib inline\n",
    "import pandas as pd\n",
    "import os, sys\n",
    "import itertools\n",
    "from sklearn.model_selection import train_test_split\n",
    "from sklearn.metrics import roc_curve, auc\n",
    "import statsmodels.stats.api as sms"
   ]
  },
  {
   "cell_type": "code",
   "execution_count": 2,
   "metadata": {},
   "outputs": [],
   "source": [
    "os.environ['CUDA_VISIBLE_DEVICES'] = ''"
   ]
  },
  {
   "cell_type": "code",
   "execution_count": 7,
   "metadata": {},
   "outputs": [],
   "source": [
    "path = '/nfs/turbo/umms-awaljee/wsliu/Data/NRD/'"
   ]
  },
  {
   "cell_type": "code",
   "execution_count": 3,
   "metadata": {},
   "outputs": [],
   "source": [
    "module_path = '/home/wsliu/Codes/DLproj'\n",
    "if module_path not in sys.path:\n",
    "    sys.path.append(module_path)\n",
    "if module_path+'/NRD' not in sys.path:\n",
    "    sys.path.append(module_path+'/NRD')"
   ]
  },
  {
   "cell_type": "code",
   "execution_count": 4,
   "metadata": {},
   "outputs": [],
   "source": [
    "from ccs_tools import core_dtypes_pd"
   ]
  },
  {
   "cell_type": "code",
   "execution_count": 5,
   "metadata": {},
   "outputs": [
    {
     "name": "stderr",
     "output_type": "stream",
     "text": [
      "Using TensorFlow backend.\n"
     ]
    }
   ],
   "source": [
    "from utils import preprocess"
   ]
  },
  {
   "cell_type": "markdown",
   "metadata": {},
   "source": [
    "## Prepare hyper-parameters and generate the .sh files"
   ]
  },
  {
   "cell_type": "code",
   "execution_count": 2,
   "metadata": {
    "scrolled": true
   },
   "outputs": [],
   "source": [
    "!rm hypertune*.sh"
   ]
  },
  {
   "cell_type": "code",
   "execution_count": 3,
   "metadata": {},
   "outputs": [],
   "source": [
    "cohorts = ['ami', 'chf', 'pna']\n",
    "tst_seeds = range(10)\n",
    "eval_datas = ['tst']\n",
    "resample_fracs = [1.]"
   ]
  },
  {
   "cell_type": "code",
   "execution_count": 4,
   "metadata": {},
   "outputs": [],
   "source": [
    "para_itr = itertools.product(cohorts, tst_seeds, eval_datas, resample_fracs)\n",
    "para_lst = list(para_itr)"
   ]
  },
  {
   "cell_type": "code",
   "execution_count": 8,
   "metadata": {},
   "outputs": [],
   "source": [
    "para_itr = itertools.product(eval_datas, cohorts, tst_seeds, resample_fracs)\n",
    "para_lst = [(p[1], p[2], p[0], p[3]) for p in para_itr]"
   ]
  },
  {
   "cell_type": "code",
   "execution_count": 5,
   "metadata": {},
   "outputs": [
    {
     "data": {
      "text/plain": [
       "30"
      ]
     },
     "execution_count": 5,
     "metadata": {},
     "output_type": "execute_result"
    }
   ],
   "source": [
    "len(para_lst)"
   ]
  },
  {
   "cell_type": "code",
   "execution_count": 6,
   "metadata": {},
   "outputs": [],
   "source": [
    "n_jobs = 8\n",
    "for para, job_ind in zip(para_lst, itertools.cycle(range(n_jobs))):\n",
    "    with open('hypertune'+str(job_ind)+'.sh', 'a') as f:\n",
    "        f.write('python recycle_pred0113.py --cohort {} --tst_seed {} --eval_data {} --resample_frac {} --job_index {}\\n'.format(*para, job_ind))"
   ]
  },
  {
   "cell_type": "code",
   "execution_count": 22,
   "metadata": {},
   "outputs": [],
   "source": [
    "job_ind = 4\n",
    "for para in para_lst:\n",
    "    with open('hypertune'+str(job_ind)+'.sh', 'a') as f:\n",
    "        f.write('python recycle_pred0113.py --cohort {} --tst_seed {} --eval_data {} --resample_frac {} --job_index {}\\n'.format(*para, job_ind))"
   ]
  },
  {
   "cell_type": "markdown",
   "metadata": {},
   "source": [
    "## Inference"
   ]
  },
  {
   "cell_type": "code",
   "execution_count": 3,
   "metadata": {
    "scrolled": true
   },
   "outputs": [],
   "source": [
    "!rm hypertune*.sh"
   ]
  },
  {
   "cell_type": "code",
   "execution_count": 4,
   "metadata": {},
   "outputs": [],
   "source": [
    "cohorts = ['ami']\n",
    "split_seeds = [2, 3]\n",
    "train_idxs = [1, 2]\n",
    "sample_seeds = range(5)\n",
    "n_vals = [10]"
   ]
  },
  {
   "cell_type": "code",
   "execution_count": 5,
   "metadata": {},
   "outputs": [],
   "source": [
    "para_itr = itertools.product(cohorts, split_seeds, train_idxs, sample_seeds, n_vals)\n",
    "para_lst = list(para_itr)"
   ]
  },
  {
   "cell_type": "code",
   "execution_count": 6,
   "metadata": {},
   "outputs": [
    {
     "data": {
      "text/plain": [
       "20"
      ]
     },
     "execution_count": 6,
     "metadata": {},
     "output_type": "execute_result"
    }
   ],
   "source": [
    "len(para_lst)"
   ]
  },
  {
   "cell_type": "code",
   "execution_count": 7,
   "metadata": {},
   "outputs": [],
   "source": [
    "n_jobs = 10\n",
    "for para, job_ind in zip(para_lst, itertools.cycle(range(n_jobs))):\n",
    "    with open('hypertune'+str(job_ind)+'.sh', 'a') as f:\n",
    "        f.write('python split_hosp_ohe.py --cohort {} --split_seed {} --train_idx {} --sample_seed {} --n_val {} --job_index {}\\n'.format(*para, job_ind))"
   ]
  },
  {
   "cell_type": "code",
   "execution_count": 107,
   "metadata": {},
   "outputs": [],
   "source": [
    "job_index = 5\n",
    "for para in para_lst:\n",
    "    with open('hypertune'+str(job_index)+'.sh', 'a') as f:\n",
    "        f.write('python train_template_all0827.py --model_name {0} --code_embed_dim {1} --fc_width {2} --md_width {3} --lr1 {4} --lr2 {5} --dropout {6} --batchsize {7} --embed_file {8} --tst_seed {9} --cohort {10} --sep_dx1 {11} --val_fold {12} --result_file {13} --job_index {14}\\n'.format(*para, job_index))"
   ]
  },
  {
   "cell_type": "markdown",
   "metadata": {},
   "source": [
    "## Result Analysis"
   ]
  },
  {
   "cell_type": "code",
   "execution_count": 5,
   "metadata": {},
   "outputs": [],
   "source": [
    "from sklearn.metrics import cohen_kappa_score\n",
    "from scipy.stats import spearmanr"
   ]
  },
  {
   "cell_type": "code",
   "execution_count": 54,
   "metadata": {},
   "outputs": [],
   "source": [
    "cohort = 'ami'\n",
    "split_seed = 3\n",
    "train_idx = 1\n",
    "sample_seed = 0\n",
    "n_val = 10"
   ]
  },
  {
   "cell_type": "code",
   "execution_count": 55,
   "metadata": {},
   "outputs": [],
   "source": [
    "auc = pd.read_csv(path+'cohorts30/{}/inference/auc_hospohe_{}{}_{}.csv'.format(cohort, split_seed, train_idx, sample_seed))"
   ]
  },
  {
   "cell_type": "code",
   "execution_count": 56,
   "metadata": {},
   "outputs": [
    {
     "data": {
      "text/html": [
       "<div>\n",
       "<style scoped>\n",
       "    .dataframe tbody tr th:only-of-type {\n",
       "        vertical-align: middle;\n",
       "    }\n",
       "\n",
       "    .dataframe tbody tr th {\n",
       "        vertical-align: top;\n",
       "    }\n",
       "\n",
       "    .dataframe thead th {\n",
       "        text-align: right;\n",
       "    }\n",
       "</style>\n",
       "<table border=\"1\" class=\"dataframe\">\n",
       "  <thead>\n",
       "    <tr style=\"text-align: right;\">\n",
       "      <th></th>\n",
       "      <th>auc0</th>\n",
       "      <th>auc1</th>\n",
       "      <th>auc2</th>\n",
       "      <th>auc3</th>\n",
       "      <th>auc4</th>\n",
       "      <th>auc5</th>\n",
       "      <th>auc6</th>\n",
       "      <th>auc7</th>\n",
       "      <th>auc8</th>\n",
       "      <th>auc9</th>\n",
       "      <th>auc_avg</th>\n",
       "    </tr>\n",
       "  </thead>\n",
       "  <tbody>\n",
       "    <tr>\n",
       "      <th>0</th>\n",
       "      <td>0.722096</td>\n",
       "      <td>0.720786</td>\n",
       "      <td>0.721702</td>\n",
       "      <td>0.721585</td>\n",
       "      <td>0.720822</td>\n",
       "      <td>0.721198</td>\n",
       "      <td>0.721456</td>\n",
       "      <td>0.721325</td>\n",
       "      <td>0.721107</td>\n",
       "      <td>0.721414</td>\n",
       "      <td>0.723376</td>\n",
       "    </tr>\n",
       "  </tbody>\n",
       "</table>\n",
       "</div>"
      ],
      "text/plain": [
       "       auc0      auc1      auc2      auc3      auc4      auc5      auc6  \\\n",
       "0  0.722096  0.720786  0.721702  0.721585  0.720822  0.721198  0.721456   \n",
       "\n",
       "       auc7      auc8      auc9   auc_avg  \n",
       "0  0.721325  0.721107  0.721414  0.723376  "
      ]
     },
     "execution_count": 56,
     "metadata": {},
     "output_type": "execute_result"
    }
   ],
   "source": [
    "auc"
   ]
  },
  {
   "cell_type": "code",
   "execution_count": 11,
   "metadata": {},
   "outputs": [],
   "source": [
    "recyc_pred = pd.read_csv(path+'cohorts30/{}/inference/recyc_pred_nosample_{}{}_{}.csv'.format(cohort, split_seed, train_idx, sample_seed))"
   ]
  },
  {
   "cell_type": "code",
   "execution_count": 12,
   "metadata": {},
   "outputs": [
    {
     "data": {
      "text/html": [
       "<div>\n",
       "<style scoped>\n",
       "    .dataframe tbody tr th:only-of-type {\n",
       "        vertical-align: middle;\n",
       "    }\n",
       "\n",
       "    .dataframe tbody tr th {\n",
       "        vertical-align: top;\n",
       "    }\n",
       "\n",
       "    .dataframe thead th {\n",
       "        text-align: right;\n",
       "    }\n",
       "</style>\n",
       "<table border=\"1\" class=\"dataframe\">\n",
       "  <thead>\n",
       "    <tr style=\"text-align: right;\">\n",
       "      <th></th>\n",
       "      <th>recycle_pred0</th>\n",
       "      <th>recycle_pred1</th>\n",
       "      <th>recycle_pred2</th>\n",
       "      <th>recycle_pred3</th>\n",
       "      <th>recycle_pred4</th>\n",
       "      <th>recycle_pred5</th>\n",
       "      <th>recycle_pred6</th>\n",
       "      <th>recycle_pred7</th>\n",
       "      <th>recycle_pred8</th>\n",
       "      <th>recycle_pred9</th>\n",
       "      <th>recyc_mean</th>\n",
       "      <th>HOSP_NRD</th>\n",
       "    </tr>\n",
       "  </thead>\n",
       "  <tbody>\n",
       "    <tr>\n",
       "      <th>0</th>\n",
       "      <td>0.115522</td>\n",
       "      <td>0.122610</td>\n",
       "      <td>0.125812</td>\n",
       "      <td>0.116358</td>\n",
       "      <td>0.113503</td>\n",
       "      <td>0.118303</td>\n",
       "      <td>0.119154</td>\n",
       "      <td>0.126736</td>\n",
       "      <td>0.102817</td>\n",
       "      <td>0.135186</td>\n",
       "      <td>0.119600</td>\n",
       "      <td>11006.0</td>\n",
       "    </tr>\n",
       "    <tr>\n",
       "      <th>1</th>\n",
       "      <td>0.116178</td>\n",
       "      <td>0.109845</td>\n",
       "      <td>0.116532</td>\n",
       "      <td>0.121698</td>\n",
       "      <td>0.122348</td>\n",
       "      <td>0.116459</td>\n",
       "      <td>0.114815</td>\n",
       "      <td>0.122146</td>\n",
       "      <td>0.114690</td>\n",
       "      <td>0.124633</td>\n",
       "      <td>0.117934</td>\n",
       "      <td>11010.0</td>\n",
       "    </tr>\n",
       "    <tr>\n",
       "      <th>2</th>\n",
       "      <td>0.124341</td>\n",
       "      <td>0.119005</td>\n",
       "      <td>0.127408</td>\n",
       "      <td>0.116914</td>\n",
       "      <td>0.127239</td>\n",
       "      <td>0.120774</td>\n",
       "      <td>0.119682</td>\n",
       "      <td>0.130957</td>\n",
       "      <td>0.117785</td>\n",
       "      <td>0.125158</td>\n",
       "      <td>0.122926</td>\n",
       "      <td>11011.0</td>\n",
       "    </tr>\n",
       "    <tr>\n",
       "      <th>3</th>\n",
       "      <td>0.141895</td>\n",
       "      <td>0.155645</td>\n",
       "      <td>0.135620</td>\n",
       "      <td>0.138936</td>\n",
       "      <td>0.151126</td>\n",
       "      <td>0.155298</td>\n",
       "      <td>0.140310</td>\n",
       "      <td>0.139006</td>\n",
       "      <td>0.162380</td>\n",
       "      <td>0.163113</td>\n",
       "      <td>0.148333</td>\n",
       "      <td>11013.0</td>\n",
       "    </tr>\n",
       "    <tr>\n",
       "      <th>4</th>\n",
       "      <td>0.123854</td>\n",
       "      <td>0.120909</td>\n",
       "      <td>0.126746</td>\n",
       "      <td>0.115191</td>\n",
       "      <td>0.118059</td>\n",
       "      <td>0.122579</td>\n",
       "      <td>0.122299</td>\n",
       "      <td>0.120929</td>\n",
       "      <td>0.118270</td>\n",
       "      <td>0.126494</td>\n",
       "      <td>0.121533</td>\n",
       "      <td>11014.0</td>\n",
       "    </tr>\n",
       "  </tbody>\n",
       "</table>\n",
       "</div>"
      ],
      "text/plain": [
       "   recycle_pred0  recycle_pred1  recycle_pred2  recycle_pred3  recycle_pred4  \\\n",
       "0       0.115522       0.122610       0.125812       0.116358       0.113503   \n",
       "1       0.116178       0.109845       0.116532       0.121698       0.122348   \n",
       "2       0.124341       0.119005       0.127408       0.116914       0.127239   \n",
       "3       0.141895       0.155645       0.135620       0.138936       0.151126   \n",
       "4       0.123854       0.120909       0.126746       0.115191       0.118059   \n",
       "\n",
       "   recycle_pred5  recycle_pred6  recycle_pred7  recycle_pred8  recycle_pred9  \\\n",
       "0       0.118303       0.119154       0.126736       0.102817       0.135186   \n",
       "1       0.116459       0.114815       0.122146       0.114690       0.124633   \n",
       "2       0.120774       0.119682       0.130957       0.117785       0.125158   \n",
       "3       0.155298       0.140310       0.139006       0.162380       0.163113   \n",
       "4       0.122579       0.122299       0.120929       0.118270       0.126494   \n",
       "\n",
       "   recyc_mean  HOSP_NRD  \n",
       "0    0.119600   11006.0  \n",
       "1    0.117934   11010.0  \n",
       "2    0.122926   11011.0  \n",
       "3    0.148333   11013.0  \n",
       "4    0.121533   11014.0  "
      ]
     },
     "execution_count": 12,
     "metadata": {},
     "output_type": "execute_result"
    }
   ],
   "source": [
    "recyc_pred.head()"
   ]
  },
  {
   "cell_type": "code",
   "execution_count": 57,
   "metadata": {},
   "outputs": [],
   "source": [
    "auc_lst = []\n",
    "for sample_seed in range(5):\n",
    "    auc = pd.read_csv(path+'cohorts30/{}/inference/auc_hospohe_{}{}_{}.csv'.format(cohort, split_seed, train_idx, sample_seed))\n",
    "    auc_lst.append(auc.auc_avg.values[0])"
   ]
  },
  {
   "cell_type": "code",
   "execution_count": 58,
   "metadata": {},
   "outputs": [
    {
     "data": {
      "text/plain": [
       "[0.7233762343473995,\n",
       " 0.7234238859527496,\n",
       " 0.7232524148849391,\n",
       " 0.7232300475616822,\n",
       " 0.7233511282951177]"
      ]
     },
     "execution_count": 58,
     "metadata": {},
     "output_type": "execute_result"
    }
   ],
   "source": [
    "auc_lst"
   ]
  },
  {
   "cell_type": "code",
   "execution_count": 102,
   "metadata": {},
   "outputs": [],
   "source": [
    "recyc_preds = pd.DataFrame()\n",
    "for sample_seed in range(5):\n",
    "    recyc_pred = pd.read_csv(path+'cohorts30/{}/inference/recyc_pred_group_{}{}_{}.csv'.format(cohort, split_seed, train_idx, \n",
    "                                                                                         sample_seed))\n",
    "    val_avg = recyc_pred[['HOSP_NRD', 'recyc_mean']]\n",
    "    val_avg.columns = ['HOSP_NRD', 'recyc_pred'+str(sample_seed)]\n",
    "    try:\n",
    "        recyc_preds = pd.merge(recyc_preds, val_avg, on='HOSP_NRD')\n",
    "    except KeyError:\n",
    "        recyc_preds = val_avg"
   ]
  },
  {
   "cell_type": "code",
   "execution_count": 95,
   "metadata": {},
   "outputs": [],
   "source": [
    "recyc_preds = pd.DataFrame()\n",
    "for sample_seed in range(10):\n",
    "    recyc_pred = pd.read_csv(path+'cohorts30/{}/inference/recyc_pred_nosample_{}{}_{}.csv'.format(cohort, split_seed, train_idx, \n",
    "                                                                                         sample_seed))\n",
    "    to_merge = recyc_pred[['HOSP_NRD']+ ['recycle_pred'+str(j) for j in range(n_val)]]\n",
    "    to_merge.columns = ['HOSP_NRD']+ ['recycle_pred'+str(sample_seed)+'_'+str(j) for j in range(n_val)]\n",
    "    try:\n",
    "        recyc_preds = pd.merge(recyc_preds, to_merge, on='HOSP_NRD')\n",
    "    except KeyError:\n",
    "        recyc_preds = to_merge.copy()"
   ]
  },
  {
   "cell_type": "code",
   "execution_count": 15,
   "metadata": {},
   "outputs": [
    {
     "data": {
      "text/plain": [
       "(874, 101)"
      ]
     },
     "execution_count": 15,
     "metadata": {},
     "output_type": "execute_result"
    }
   ],
   "source": [
    "recyc_preds.shape"
   ]
  },
  {
   "cell_type": "code",
   "execution_count": 16,
   "metadata": {},
   "outputs": [],
   "source": [
    "hosp_df = recyc_preds.set_index(recyc_preds.HOSP_NRD).drop(columns=['HOSP_NRD']).transpose()"
   ]
  },
  {
   "cell_type": "code",
   "execution_count": 49,
   "metadata": {},
   "outputs": [
    {
     "data": {
      "text/plain": [
       "12245.0"
      ]
     },
     "execution_count": 49,
     "metadata": {},
     "output_type": "execute_result"
    }
   ],
   "source": [
    "hosp_freq.index[0]"
   ]
  },
  {
   "cell_type": "code",
   "execution_count": 66,
   "metadata": {},
   "outputs": [
    {
     "data": {
      "text/html": [
       "<div>\n",
       "<style scoped>\n",
       "    .dataframe tbody tr th:only-of-type {\n",
       "        vertical-align: middle;\n",
       "    }\n",
       "\n",
       "    .dataframe tbody tr th {\n",
       "        vertical-align: top;\n",
       "    }\n",
       "\n",
       "    .dataframe thead th {\n",
       "        text-align: right;\n",
       "    }\n",
       "</style>\n",
       "<table border=\"1\" class=\"dataframe\">\n",
       "  <thead>\n",
       "    <tr style=\"text-align: right;\">\n",
       "      <th></th>\n",
       "      <th>HOSP_NRD</th>\n",
       "      <th>recycle_pred0_0</th>\n",
       "      <th>recycle_pred0_1</th>\n",
       "      <th>recycle_pred0_2</th>\n",
       "      <th>recycle_pred0_3</th>\n",
       "      <th>recycle_pred0_4</th>\n",
       "      <th>recycle_pred0_5</th>\n",
       "      <th>recycle_pred0_6</th>\n",
       "      <th>recycle_pred0_7</th>\n",
       "      <th>recycle_pred0_8</th>\n",
       "      <th>...</th>\n",
       "      <th>recycle_pred9_15</th>\n",
       "      <th>recycle_pred9_16</th>\n",
       "      <th>recycle_pred9_17</th>\n",
       "      <th>recycle_pred9_18</th>\n",
       "      <th>recycle_pred9_19</th>\n",
       "      <th>recyc_mean</th>\n",
       "      <th>recyc_std</th>\n",
       "      <th>upper</th>\n",
       "      <th>lower</th>\n",
       "      <th>rank</th>\n",
       "    </tr>\n",
       "  </thead>\n",
       "  <tbody>\n",
       "    <tr>\n",
       "      <th>3</th>\n",
       "      <td>11013.0</td>\n",
       "      <td>0.144917</td>\n",
       "      <td>0.134876</td>\n",
       "      <td>0.143931</td>\n",
       "      <td>0.124025</td>\n",
       "      <td>0.140978</td>\n",
       "      <td>0.137928</td>\n",
       "      <td>0.133959</td>\n",
       "      <td>0.125084</td>\n",
       "      <td>0.155603</td>\n",
       "      <td>...</td>\n",
       "      <td>0.124943</td>\n",
       "      <td>0.124807</td>\n",
       "      <td>0.149169</td>\n",
       "      <td>0.14437</td>\n",
       "      <td>0.192865</td>\n",
       "      <td>0.136793</td>\n",
       "      <td>0.014973</td>\n",
       "      <td>0.16614</td>\n",
       "      <td>0.107447</td>\n",
       "      <td>873</td>\n",
       "    </tr>\n",
       "  </tbody>\n",
       "</table>\n",
       "<p>1 rows × 206 columns</p>\n",
       "</div>"
      ],
      "text/plain": [
       "   HOSP_NRD  recycle_pred0_0  recycle_pred0_1  recycle_pred0_2  \\\n",
       "3   11013.0         0.144917         0.134876         0.143931   \n",
       "\n",
       "   recycle_pred0_3  recycle_pred0_4  recycle_pred0_5  recycle_pred0_6  \\\n",
       "3         0.124025         0.140978         0.137928         0.133959   \n",
       "\n",
       "   recycle_pred0_7  recycle_pred0_8  ...   recycle_pred9_15  recycle_pred9_16  \\\n",
       "3         0.125084         0.155603  ...           0.124943          0.124807   \n",
       "\n",
       "   recycle_pred9_17  recycle_pred9_18  recycle_pred9_19  recyc_mean  \\\n",
       "3          0.149169           0.14437          0.192865    0.136793   \n",
       "\n",
       "   recyc_std    upper     lower  rank  \n",
       "3   0.014973  0.16614  0.107447   873  \n",
       "\n",
       "[1 rows x 206 columns]"
      ]
     },
     "execution_count": 66,
     "metadata": {},
     "output_type": "execute_result"
    }
   ],
   "source": [
    "recyc_preds.loc[recyc_preds.recyc_mean==recyc_preds.recyc_mean.max()]"
   ]
  },
  {
   "cell_type": "code",
   "execution_count": 17,
   "metadata": {},
   "outputs": [
    {
     "data": {
      "text/plain": [
       "<matplotlib.axes._subplots.AxesSubplot at 0x2b07ffdca278>"
      ]
     },
     "execution_count": 17,
     "metadata": {},
     "output_type": "execute_result"
    },
    {
     "data": {
      "image/png": "[encoded data removed]",
      "text/plain": [
       "<Figure size 432x288 with 1 Axes>"
      ]
     },
     "metadata": {},
     "output_type": "display_data"
    }
   ],
   "source": [
    "hosp_df[11013].plot.hist()"
   ]
  },
  {
   "cell_type": "code",
   "execution_count": 7,
   "metadata": {},
   "outputs": [],
   "source": [
    "train_df = pd.read_csv(path+'cohorts30/{}/inference/index_split{}_{}.csv'.format(cohort, split_seed, train_idx), dtype=core_dtypes_pd)"
   ]
  },
  {
   "cell_type": "code",
   "execution_count": 8,
   "metadata": {},
   "outputs": [],
   "source": [
    "hosp_freq = train_df.HOSP_NRD.value_counts()"
   ]
  },
  {
   "cell_type": "code",
   "execution_count": null,
   "metadata": {},
   "outputs": [],
   "source": [
    "recyc_preds = recyc_preds.assign(N=recyc_preds.HOSP_NRD.apply(lambda x:hosp_freq[x]))\n",
    "\n",
    "pred_cols = recyc_preds.columns[1:-1]\n",
    "\n",
    "recyc_preds = recyc_preds.assign(recyc_mean=recyc_preds[pred_cols].mean(axis=1))\n",
    "recyc_preds = recyc_preds.assign(recyc_std=recyc_preds[pred_cols].std(axis=1))\n",
    "\n",
    "recyc_preds = recyc_preds.assign(upper = recyc_preds.recyc_mean + 1.96*recyc_preds.recyc_std)\n",
    "recyc_preds = recyc_preds.assign(lower = recyc_preds.recyc_mean - 1.96*recyc_preds.recyc_std)\n",
    "recyc_preds = recyc_preds.sort_values('recyc_mean')\n",
    "recyc_preds = recyc_preds.assign(rank = range(len(recyc_preds)))\n",
    "\n",
    "recyc_preds = recyc_preds.assign(lower = recyc_preds[pred_cols].quantile(0.025, axis=1))\n",
    "recyc_preds = recyc_preds.assign(upper = recyc_preds[pred_cols].quantile(0.975, axis=1))"
   ]
  },
  {
   "cell_type": "code",
   "execution_count": null,
   "metadata": {},
   "outputs": [],
   "source": [
    "recyc_preds = recyc_preds.assign(recyc_mean=recyc_preds[['recyc_pred'+str(j) for j in range(10)]].mean(axis=1))\n",
    "recyc_preds = recyc_preds.assign(recyc_std=recyc_preds[['recyc_pred'+str(j) for j in range(10)]].std(axis=1))\n",
    "\n",
    "recyc_preds = recyc_preds.assign(upper = recyc_preds.recyc_mean + 1.96*recyc_preds.recyc_std)\n",
    "recyc_preds = recyc_preds.assign(lower = recyc_preds.recyc_mean - 1.96*recyc_preds.recyc_std)\n",
    "recyc_preds = recyc_preds.sort_values('recyc_mean')\n",
    "recyc_preds = recyc_preds.assign(rank = range(len(recyc_preds)))"
   ]
  },
  {
   "cell_type": "code",
   "execution_count": 83,
   "metadata": {},
   "outputs": [],
   "source": [
    "national_mean = recyc_preds.mean(axis=0)['recyc_mean']"
   ]
  },
  {
   "cell_type": "code",
   "execution_count": 100,
   "metadata": {},
   "outputs": [],
   "source": [
    "national_mean = train_df.readm30.mean()"
   ]
  },
  {
   "cell_type": "code",
   "execution_count": 81,
   "metadata": {},
   "outputs": [],
   "source": [
    "national_mean = (recyc_preds['recyc_mean'].values*recyc_preds['N']).sum()/(recyc_preds['N'].sum())"
   ]
  },
  {
   "cell_type": "code",
   "execution_count": 101,
   "metadata": {},
   "outputs": [
    {
     "data": {
      "text/plain": [
       "0.12483313220201415"
      ]
     },
     "execution_count": 101,
     "metadata": {},
     "output_type": "execute_result"
    }
   ],
   "source": [
    "national_mean"
   ]
  },
  {
   "cell_type": "code",
   "execution_count": 102,
   "metadata": {},
   "outputs": [],
   "source": [
    "recyc_preds = recyc_preds.assign(outlier='not_outlier')\n",
    "\n",
    "recyc_preds.loc[recyc_preds.upper<national_mean, 'outlier'] = 'good'\n",
    "\n",
    "recyc_preds.loc[recyc_preds.lower>national_mean, 'outlier'] = 'bad'"
   ]
  },
  {
   "cell_type": "code",
   "execution_count": 36,
   "metadata": {},
   "outputs": [
    {
     "data": {
      "text/html": [
       "<div>\n",
       "<style scoped>\n",
       "    .dataframe tbody tr th:only-of-type {\n",
       "        vertical-align: middle;\n",
       "    }\n",
       "\n",
       "    .dataframe tbody tr th {\n",
       "        vertical-align: top;\n",
       "    }\n",
       "\n",
       "    .dataframe thead th {\n",
       "        text-align: right;\n",
       "    }\n",
       "</style>\n",
       "<table border=\"1\" class=\"dataframe\">\n",
       "  <thead>\n",
       "    <tr style=\"text-align: right;\">\n",
       "      <th></th>\n",
       "      <th>HOSP_NRD</th>\n",
       "      <th>recycle_pred0_0</th>\n",
       "      <th>recycle_pred0_1</th>\n",
       "      <th>recycle_pred0_2</th>\n",
       "      <th>recycle_pred0_3</th>\n",
       "      <th>recycle_pred0_4</th>\n",
       "      <th>recycle_pred0_5</th>\n",
       "      <th>recycle_pred0_6</th>\n",
       "      <th>recycle_pred0_7</th>\n",
       "      <th>recycle_pred0_8</th>\n",
       "      <th>...</th>\n",
       "      <th>recycle_pred9_7</th>\n",
       "      <th>recycle_pred9_8</th>\n",
       "      <th>recycle_pred9_9</th>\n",
       "      <th>N</th>\n",
       "      <th>recyc_mean</th>\n",
       "      <th>recyc_std</th>\n",
       "      <th>upper</th>\n",
       "      <th>lower</th>\n",
       "      <th>rank</th>\n",
       "      <th>outlier</th>\n",
       "    </tr>\n",
       "  </thead>\n",
       "  <tbody>\n",
       "    <tr>\n",
       "      <th>527</th>\n",
       "      <td>12842.0</td>\n",
       "      <td>0.094518</td>\n",
       "      <td>0.094653</td>\n",
       "      <td>0.099849</td>\n",
       "      <td>0.104156</td>\n",
       "      <td>0.105102</td>\n",
       "      <td>0.097305</td>\n",
       "      <td>0.104226</td>\n",
       "      <td>0.115235</td>\n",
       "      <td>0.095484</td>\n",
       "      <td>...</td>\n",
       "      <td>0.112800</td>\n",
       "      <td>0.092097</td>\n",
       "      <td>0.100193</td>\n",
       "      <td>35</td>\n",
       "      <td>0.102625</td>\n",
       "      <td>0.013239</td>\n",
       "      <td>0.124062</td>\n",
       "      <td>0.074529</td>\n",
       "      <td>0</td>\n",
       "      <td>not_outlier</td>\n",
       "    </tr>\n",
       "    <tr>\n",
       "      <th>195</th>\n",
       "      <td>11682.0</td>\n",
       "      <td>0.103031</td>\n",
       "      <td>0.087307</td>\n",
       "      <td>0.102525</td>\n",
       "      <td>0.114081</td>\n",
       "      <td>0.112974</td>\n",
       "      <td>0.103600</td>\n",
       "      <td>0.098442</td>\n",
       "      <td>0.111341</td>\n",
       "      <td>0.108624</td>\n",
       "      <td>...</td>\n",
       "      <td>0.111210</td>\n",
       "      <td>0.083054</td>\n",
       "      <td>0.094333</td>\n",
       "      <td>31</td>\n",
       "      <td>0.103789</td>\n",
       "      <td>0.013132</td>\n",
       "      <td>0.122882</td>\n",
       "      <td>0.075309</td>\n",
       "      <td>1</td>\n",
       "      <td>not_outlier</td>\n",
       "    </tr>\n",
       "    <tr>\n",
       "      <th>422</th>\n",
       "      <td>12434.0</td>\n",
       "      <td>0.107128</td>\n",
       "      <td>0.082844</td>\n",
       "      <td>0.106550</td>\n",
       "      <td>0.120399</td>\n",
       "      <td>0.106921</td>\n",
       "      <td>0.098815</td>\n",
       "      <td>0.105882</td>\n",
       "      <td>0.114537</td>\n",
       "      <td>0.102025</td>\n",
       "      <td>...</td>\n",
       "      <td>0.108081</td>\n",
       "      <td>0.090098</td>\n",
       "      <td>0.109402</td>\n",
       "      <td>40</td>\n",
       "      <td>0.104418</td>\n",
       "      <td>0.012889</td>\n",
       "      <td>0.123864</td>\n",
       "      <td>0.079697</td>\n",
       "      <td>2</td>\n",
       "      <td>not_outlier</td>\n",
       "    </tr>\n",
       "    <tr>\n",
       "      <th>121</th>\n",
       "      <td>11399.0</td>\n",
       "      <td>0.098839</td>\n",
       "      <td>0.103220</td>\n",
       "      <td>0.102149</td>\n",
       "      <td>0.112049</td>\n",
       "      <td>0.105402</td>\n",
       "      <td>0.104145</td>\n",
       "      <td>0.102054</td>\n",
       "      <td>0.111949</td>\n",
       "      <td>0.102673</td>\n",
       "      <td>...</td>\n",
       "      <td>0.120328</td>\n",
       "      <td>0.101958</td>\n",
       "      <td>0.105918</td>\n",
       "      <td>98</td>\n",
       "      <td>0.105376</td>\n",
       "      <td>0.011170</td>\n",
       "      <td>0.123346</td>\n",
       "      <td>0.082352</td>\n",
       "      <td>3</td>\n",
       "      <td>not_outlier</td>\n",
       "    </tr>\n",
       "    <tr>\n",
       "      <th>44</th>\n",
       "      <td>11152.0</td>\n",
       "      <td>0.105931</td>\n",
       "      <td>0.089567</td>\n",
       "      <td>0.112052</td>\n",
       "      <td>0.117344</td>\n",
       "      <td>0.110584</td>\n",
       "      <td>0.100401</td>\n",
       "      <td>0.099459</td>\n",
       "      <td>0.109667</td>\n",
       "      <td>0.103641</td>\n",
       "      <td>...</td>\n",
       "      <td>0.110256</td>\n",
       "      <td>0.100565</td>\n",
       "      <td>0.094604</td>\n",
       "      <td>30</td>\n",
       "      <td>0.106052</td>\n",
       "      <td>0.011532</td>\n",
       "      <td>0.124281</td>\n",
       "      <td>0.082326</td>\n",
       "      <td>4</td>\n",
       "      <td>not_outlier</td>\n",
       "    </tr>\n",
       "  </tbody>\n",
       "</table>\n",
       "<p>5 rows × 108 columns</p>\n",
       "</div>"
      ],
      "text/plain": [
       "     HOSP_NRD  recycle_pred0_0  recycle_pred0_1  recycle_pred0_2  \\\n",
       "527   12842.0         0.094518         0.094653         0.099849   \n",
       "195   11682.0         0.103031         0.087307         0.102525   \n",
       "422   12434.0         0.107128         0.082844         0.106550   \n",
       "121   11399.0         0.098839         0.103220         0.102149   \n",
       "44    11152.0         0.105931         0.089567         0.112052   \n",
       "\n",
       "     recycle_pred0_3  recycle_pred0_4  recycle_pred0_5  recycle_pred0_6  \\\n",
       "527         0.104156         0.105102         0.097305         0.104226   \n",
       "195         0.114081         0.112974         0.103600         0.098442   \n",
       "422         0.120399         0.106921         0.098815         0.105882   \n",
       "121         0.112049         0.105402         0.104145         0.102054   \n",
       "44          0.117344         0.110584         0.100401         0.099459   \n",
       "\n",
       "     recycle_pred0_7  recycle_pred0_8     ...       recycle_pred9_7  \\\n",
       "527         0.115235         0.095484     ...              0.112800   \n",
       "195         0.111341         0.108624     ...              0.111210   \n",
       "422         0.114537         0.102025     ...              0.108081   \n",
       "121         0.111949         0.102673     ...              0.120328   \n",
       "44          0.109667         0.103641     ...              0.110256   \n",
       "\n",
       "     recycle_pred9_8  recycle_pred9_9   N  recyc_mean  recyc_std     upper  \\\n",
       "527         0.092097         0.100193  35    0.102625   0.013239  0.124062   \n",
       "195         0.083054         0.094333  31    0.103789   0.013132  0.122882   \n",
       "422         0.090098         0.109402  40    0.104418   0.012889  0.123864   \n",
       "121         0.101958         0.105918  98    0.105376   0.011170  0.123346   \n",
       "44          0.100565         0.094604  30    0.106052   0.011532  0.124281   \n",
       "\n",
       "        lower  rank      outlier  \n",
       "527  0.074529     0  not_outlier  \n",
       "195  0.075309     1  not_outlier  \n",
       "422  0.079697     2  not_outlier  \n",
       "121  0.082352     3  not_outlier  \n",
       "44   0.082326     4  not_outlier  \n",
       "\n",
       "[5 rows x 108 columns]"
      ]
     },
     "execution_count": 36,
     "metadata": {},
     "output_type": "execute_result"
    }
   ],
   "source": [
    "recyc_preds.head()"
   ]
  },
  {
   "cell_type": "code",
   "execution_count": 149,
   "metadata": {
    "scrolled": true
   },
   "outputs": [
    {
     "data": {
      "text/plain": [
       "<matplotlib.axes._subplots.AxesSubplot at 0x2b436c088cf8>"
      ]
     },
     "execution_count": 149,
     "metadata": {},
     "output_type": "execute_result"
    },
    {
     "data": {
      "image/png": "[encoded data removed]",
      "text/plain": [
       "<Figure size 432x288 with 1 Axes>"
      ]
     },
     "metadata": {},
     "output_type": "display_data"
    }
   ],
   "source": [
    "recyc_preds.plot.scatter('recyc_pred0', 'recyc_pred2')"
   ]
  },
  {
   "cell_type": "code",
   "execution_count": 21,
   "metadata": {},
   "outputs": [
    {
     "data": {
      "text/plain": [
       "0.034058426127354484"
      ]
     },
     "execution_count": 21,
     "metadata": {},
     "output_type": "execute_result"
    }
   ],
   "source": [
    "recyc_preds.recyc_std.mean()*1.96*2"
   ]
  },
  {
   "cell_type": "code",
   "execution_count": 103,
   "metadata": {},
   "outputs": [
    {
     "data": {
      "text/plain": [
       "not_outlier    869\n",
       "bad              4\n",
       "good             1\n",
       "Name: outlier, dtype: int64"
      ]
     },
     "execution_count": 103,
     "metadata": {},
     "output_type": "execute_result"
    }
   ],
   "source": [
    "recyc_preds.outlier.value_counts()"
   ]
  },
  {
   "cell_type": "code",
   "execution_count": 29,
   "metadata": {},
   "outputs": [
    {
     "data": {
      "text/plain": [
       "<matplotlib.axes._subplots.AxesSubplot at 0x2b08032afc88>"
      ]
     },
     "execution_count": 29,
     "metadata": {},
     "output_type": "execute_result"
    },
    {
     "data": {
      "image/png": "[encoded data removed]",
      "text/plain": [
       "<Figure size 432x288 with 1 Axes>"
      ]
     },
     "metadata": {},
     "output_type": "display_data"
    }
   ],
   "source": [
    "recyc_preds.lower.plot.hist()"
   ]
  },
  {
   "cell_type": "code",
   "execution_count": 108,
   "metadata": {},
   "outputs": [
    {
     "data": {
      "text/plain": [
       "<matplotlib.axes._subplots.AxesSubplot at 0x2acf3d0c5e80>"
      ]
     },
     "execution_count": 108,
     "metadata": {},
     "output_type": "execute_result"
    },
    {
     "data": {
      "image/png": "[encoded data removed]",
      "text/plain": [
       "<Figure size 432x288 with 1 Axes>"
      ]
     },
     "metadata": {},
     "output_type": "display_data"
    }
   ],
   "source": [
    "recyc_preds.plot.scatter('N', 'recyc_std', ylim=(0, 0.008))"
   ]
  },
  {
   "cell_type": "code",
   "execution_count": 89,
   "metadata": {
    "scrolled": false
   },
   "outputs": [
    {
     "data": {
      "text/plain": [
       "<matplotlib.axes._subplots.AxesSubplot at 0x2b08051abd68>"
      ]
     },
     "execution_count": 89,
     "metadata": {},
     "output_type": "execute_result"
    },
    {
     "data": {
      "image/png": "[encoded data removed]",
      "text/plain": [
       "<Figure size 432x288 with 1 Axes>"
      ]
     },
     "metadata": {},
     "output_type": "display_data"
    }
   ],
   "source": [
    "recyc_preds.plot.scatter('N', 'recyc_std', ylim=(0, 0.017))"
   ]
  },
  {
   "cell_type": "code",
   "execution_count": 38,
   "metadata": {},
   "outputs": [],
   "source": [
    "cohort='ami'\n",
    "split_seed = 3\n",
    "n_val = 20\n",
    "for train_idx in [1, 2]:\n",
    "    recyc_preds = pd.DataFrame()\n",
    "    for sample_seed in range(10):\n",
    "        recyc_pred = pd.read_csv(path+'cohorts30/{}/inference/recyc_pred_{}{}_{}.csv'.format(cohort, split_seed, train_idx, \n",
    "                                                                                         sample_seed))\n",
    "        to_merge = recyc_pred[['HOSP_NRD']+ ['recycle_pred'+str(j) for j in range(n_val)]]\n",
    "        to_merge.columns = ['HOSP_NRD']+ ['recycle_pred'+str(sample_seed)+'_'+str(j) for j in range(n_val)]\n",
    "        try:\n",
    "            recyc_preds = pd.merge(recyc_preds, to_merge, on='HOSP_NRD')\n",
    "        except KeyError:\n",
    "            recyc_preds = to_merge.copy()\n",
    "    recyc_preds = recyc_preds.assign(N=recyc_preds.HOSP_NRD.apply(lambda x:hosp_freq[x]))\n",
    "    pred_cols = recyc_preds.columns[1:-1]\n",
    "    recyc_preds = recyc_preds.assign(recyc_mean=recyc_preds[pred_cols].mean(axis=1))\n",
    "    recyc_preds = recyc_preds.assign(recyc_std=recyc_preds[pred_cols].std(axis=1))\n",
    "    recyc_preds = recyc_preds.sort_values('recyc_mean')\n",
    "    recyc_preds = recyc_preds.assign(rank = range(len(recyc_preds)))\n",
    "    recyc_preds = recyc_preds.assign(lower = recyc_preds[pred_cols].quantile(0.025, axis=1))\n",
    "    recyc_preds = recyc_preds.assign(upper = recyc_preds[pred_cols].quantile(0.975, axis=1))\n",
    "    national_mean = (recyc_preds['recyc_mean'].values*recyc_preds['N']).sum()/(recyc_preds['N'].sum())\n",
    "    recyc_preds = recyc_preds.assign(outlier='not_outlier')\n",
    "    recyc_preds.loc[recyc_preds.upper<national_mean, 'outlier'] = 'good'\n",
    "    recyc_preds.loc[recyc_preds.lower>national_mean, 'outlier'] = 'bad'\n",
    "    \n",
    "    to_merge = recyc_preds[['HOSP_NRD', 'recyc_mean', 'outlier', 'rank']].copy()\n",
    "    to_merge.columns = ['HOSP_NRD', 'recyc_mean'+str(train_idx), 'outlier'+str(train_idx), 'rank'+str(train_idx)]\n",
    "    if train_idx==1:\n",
    "        DL_compare = to_merge.copy()\n",
    "    else:\n",
    "        DL_compare = pd.merge(DL_compare, to_merge, on='HOSP_NRD')        "
   ]
  },
  {
   "cell_type": "code",
   "execution_count": 39,
   "metadata": {},
   "outputs": [
    {
     "data": {
      "text/plain": [
       "<matplotlib.axes._subplots.AxesSubplot at 0x2b53f3be31d0>"
      ]
     },
     "execution_count": 39,
     "metadata": {},
     "output_type": "execute_result"
    },
    {
     "data": {
      "image/png": "[encoded data removed]",
      "text/plain": [
       "<Figure size 432x288 with 1 Axes>"
      ]
     },
     "metadata": {},
     "output_type": "display_data"
    }
   ],
   "source": [
    "DL_compare.plot.scatter('recyc_mean1', 'recyc_mean2')"
   ]
  },
  {
   "cell_type": "code",
   "execution_count": 40,
   "metadata": {},
   "outputs": [],
   "source": [
    "n_sub = 1\n",
    "topbottom = DL_compare.loc[(DL_compare.rank1<n_sub)|(DL_compare.rank1>=len(DL_compare)-n_sub)|\n",
    "                           (DL_compare.rank2<n_sub)|(DL_compare.rank2>=len(DL_compare)-n_sub)]"
   ]
  },
  {
   "cell_type": "code",
   "execution_count": 33,
   "metadata": {},
   "outputs": [
    {
     "data": {
      "text/html": [
       "<div>\n",
       "<style scoped>\n",
       "    .dataframe tbody tr th:only-of-type {\n",
       "        vertical-align: middle;\n",
       "    }\n",
       "\n",
       "    .dataframe tbody tr th {\n",
       "        vertical-align: top;\n",
       "    }\n",
       "\n",
       "    .dataframe thead th {\n",
       "        text-align: right;\n",
       "    }\n",
       "</style>\n",
       "<table border=\"1\" class=\"dataframe\">\n",
       "  <thead>\n",
       "    <tr style=\"text-align: right;\">\n",
       "      <th></th>\n",
       "      <th>HOSP_NRD</th>\n",
       "      <th>recyc_mean1</th>\n",
       "      <th>outlier1</th>\n",
       "      <th>rank1</th>\n",
       "      <th>recyc_mean2</th>\n",
       "      <th>outlier2</th>\n",
       "      <th>rank2</th>\n",
       "    </tr>\n",
       "  </thead>\n",
       "  <tbody>\n",
       "    <tr>\n",
       "      <th>0</th>\n",
       "      <td>13344.0</td>\n",
       "      <td>0.105104</td>\n",
       "      <td>good</td>\n",
       "      <td>0</td>\n",
       "      <td>0.123816</td>\n",
       "      <td>not_outlier</td>\n",
       "      <td>282</td>\n",
       "    </tr>\n",
       "    <tr>\n",
       "      <th>293</th>\n",
       "      <td>14053.0</td>\n",
       "      <td>0.123099</td>\n",
       "      <td>not_outlier</td>\n",
       "      <td>293</td>\n",
       "      <td>0.101659</td>\n",
       "      <td>good</td>\n",
       "      <td>0</td>\n",
       "    </tr>\n",
       "    <tr>\n",
       "      <th>837</th>\n",
       "      <td>11984.0</td>\n",
       "      <td>0.134195</td>\n",
       "      <td>not_outlier</td>\n",
       "      <td>837</td>\n",
       "      <td>0.141403</td>\n",
       "      <td>not_outlier</td>\n",
       "      <td>873</td>\n",
       "    </tr>\n",
       "    <tr>\n",
       "      <th>873</th>\n",
       "      <td>13386.0</td>\n",
       "      <td>0.138605</td>\n",
       "      <td>not_outlier</td>\n",
       "      <td>873</td>\n",
       "      <td>0.117512</td>\n",
       "      <td>not_outlier</td>\n",
       "      <td>77</td>\n",
       "    </tr>\n",
       "  </tbody>\n",
       "</table>\n",
       "</div>"
      ],
      "text/plain": [
       "     HOSP_NRD  recyc_mean1     outlier1  rank1  recyc_mean2     outlier2  \\\n",
       "0     13344.0     0.105104         good      0     0.123816  not_outlier   \n",
       "293   14053.0     0.123099  not_outlier    293     0.101659         good   \n",
       "837   11984.0     0.134195  not_outlier    837     0.141403  not_outlier   \n",
       "873   13386.0     0.138605  not_outlier    873     0.117512  not_outlier   \n",
       "\n",
       "     rank2  \n",
       "0      282  \n",
       "293      0  \n",
       "837    873  \n",
       "873     77  "
      ]
     },
     "execution_count": 33,
     "metadata": {},
     "output_type": "execute_result"
    }
   ],
   "source": [
    "topbottom"
   ]
  },
  {
   "cell_type": "code",
   "execution_count": 41,
   "metadata": {},
   "outputs": [
    {
     "data": {
      "text/plain": [
       "0.3890160183066362"
      ]
     },
     "execution_count": 41,
     "metadata": {},
     "output_type": "execute_result"
    }
   ],
   "source": [
    "np.mean(np.abs(topbottom.rank1 - topbottom.rank2))/len(DL_compare)"
   ]
  },
  {
   "cell_type": "code",
   "execution_count": 42,
   "metadata": {},
   "outputs": [],
   "source": [
    "mean_change = []\n",
    "for n_sub in range(1, 400, 10):\n",
    "    topbottom = DL_compare.loc[(DL_compare.rank1<n_sub)|(DL_compare.rank1>=len(DL_compare)-n_sub)|\n",
    "                           (DL_compare.rank2<n_sub)|(DL_compare.rank2>=len(DL_compare)-n_sub)]\n",
    "    mean_change.append(np.mean(np.abs(topbottom.rank1 - topbottom.rank2))/len(DL_compare))"
   ]
  },
  {
   "cell_type": "code",
   "execution_count": 43,
   "metadata": {},
   "outputs": [
    {
     "data": {
      "text/plain": [
       "[<matplotlib.lines.Line2D at 0x2b53f5690a58>]"
      ]
     },
     "execution_count": 43,
     "metadata": {},
     "output_type": "execute_result"
    },
    {
     "data": {
      "image/png": "[encoded data removed]",
      "text/plain": [
       "<Figure size 432x288 with 1 Axes>"
      ]
     },
     "metadata": {},
     "output_type": "display_data"
    }
   ],
   "source": [
    "plt.plot(range(1, 400, 10), mean_change)"
   ]
  },
  {
   "cell_type": "code",
   "execution_count": 44,
   "metadata": {},
   "outputs": [
    {
     "data": {
      "text/plain": [
       "SpearmanrResult(correlation=0.23123212783190608, pvalue=4.508684724562272e-12)"
      ]
     },
     "execution_count": 44,
     "metadata": {},
     "output_type": "execute_result"
    }
   ],
   "source": [
    "spearmanr(DL_compare.recyc_mean1, DL_compare.recyc_mean2)"
   ]
  },
  {
   "cell_type": "code",
   "execution_count": 108,
   "metadata": {},
   "outputs": [
    {
     "data": {
      "text/plain": [
       "array([[1.        , 0.19231556],\n",
       "       [0.19231556, 1.        ]])"
      ]
     },
     "execution_count": 108,
     "metadata": {},
     "output_type": "execute_result"
    }
   ],
   "source": [
    "np.corrcoef(DL_compare.recyc_mean1, DL_compare.recyc_mean2)"
   ]
  },
  {
   "cell_type": "code",
   "execution_count": 110,
   "metadata": {},
   "outputs": [
    {
     "data": {
      "text/plain": [
       "-0.005671077504725952"
      ]
     },
     "execution_count": 110,
     "metadata": {},
     "output_type": "execute_result"
    }
   ],
   "source": [
    "cohen_kappa_score(DL_compare.outlier1, DL_compare.outlier2)"
   ]
  },
  {
   "cell_type": "code",
   "execution_count": 109,
   "metadata": {},
   "outputs": [
    {
     "data": {
      "text/html": [
       "<div>\n",
       "<style scoped>\n",
       "    .dataframe tbody tr th:only-of-type {\n",
       "        vertical-align: middle;\n",
       "    }\n",
       "\n",
       "    .dataframe tbody tr th {\n",
       "        vertical-align: top;\n",
       "    }\n",
       "\n",
       "    .dataframe thead th {\n",
       "        text-align: right;\n",
       "    }\n",
       "</style>\n",
       "<table border=\"1\" class=\"dataframe\">\n",
       "  <thead>\n",
       "    <tr style=\"text-align: right;\">\n",
       "      <th>outlier2</th>\n",
       "      <th>bad</th>\n",
       "      <th>good</th>\n",
       "      <th>not_outlier</th>\n",
       "      <th>All</th>\n",
       "    </tr>\n",
       "    <tr>\n",
       "      <th>outlier1</th>\n",
       "      <th></th>\n",
       "      <th></th>\n",
       "      <th></th>\n",
       "      <th></th>\n",
       "    </tr>\n",
       "  </thead>\n",
       "  <tbody>\n",
       "    <tr>\n",
       "      <th>bad</th>\n",
       "      <td>0</td>\n",
       "      <td>0</td>\n",
       "      <td>5</td>\n",
       "      <td>5</td>\n",
       "    </tr>\n",
       "    <tr>\n",
       "      <th>good</th>\n",
       "      <td>0</td>\n",
       "      <td>0</td>\n",
       "      <td>4</td>\n",
       "      <td>4</td>\n",
       "    </tr>\n",
       "    <tr>\n",
       "      <th>not_outlier</th>\n",
       "      <td>4</td>\n",
       "      <td>1</td>\n",
       "      <td>860</td>\n",
       "      <td>865</td>\n",
       "    </tr>\n",
       "    <tr>\n",
       "      <th>All</th>\n",
       "      <td>4</td>\n",
       "      <td>1</td>\n",
       "      <td>869</td>\n",
       "      <td>874</td>\n",
       "    </tr>\n",
       "  </tbody>\n",
       "</table>\n",
       "</div>"
      ],
      "text/plain": [
       "outlier2     bad  good  not_outlier  All\n",
       "outlier1                                \n",
       "bad            0     0            5    5\n",
       "good           0     0            4    4\n",
       "not_outlier    4     1          860  865\n",
       "All            4     1          869  874"
      ]
     },
     "execution_count": 109,
     "metadata": {},
     "output_type": "execute_result"
    }
   ],
   "source": [
    "pd.crosstab(DL_compare.outlier1, DL_compare.outlier2, margins=True)"
   ]
  },
  {
   "cell_type": "code",
   "execution_count": 113,
   "metadata": {},
   "outputs": [
    {
     "data": {
      "text/html": [
       "<div>\n",
       "<style scoped>\n",
       "    .dataframe tbody tr th:only-of-type {\n",
       "        vertical-align: middle;\n",
       "    }\n",
       "\n",
       "    .dataframe tbody tr th {\n",
       "        vertical-align: top;\n",
       "    }\n",
       "\n",
       "    .dataframe thead th {\n",
       "        text-align: right;\n",
       "    }\n",
       "</style>\n",
       "<table border=\"1\" class=\"dataframe\">\n",
       "  <thead>\n",
       "    <tr style=\"text-align: right;\">\n",
       "      <th></th>\n",
       "      <th>HOSP_NRD</th>\n",
       "      <th>recyc_mean1</th>\n",
       "      <th>outlier1</th>\n",
       "      <th>rank1</th>\n",
       "      <th>recyc_mean2</th>\n",
       "      <th>outlier2</th>\n",
       "      <th>rank2</th>\n",
       "    </tr>\n",
       "  </thead>\n",
       "  <tbody>\n",
       "    <tr>\n",
       "      <th>293</th>\n",
       "      <td>14053.0</td>\n",
       "      <td>0.123099</td>\n",
       "      <td>not_outlier</td>\n",
       "      <td>293</td>\n",
       "      <td>0.101659</td>\n",
       "      <td>good</td>\n",
       "      <td>0</td>\n",
       "    </tr>\n",
       "  </tbody>\n",
       "</table>\n",
       "</div>"
      ],
      "text/plain": [
       "     HOSP_NRD  recyc_mean1     outlier1  rank1  recyc_mean2 outlier2  rank2\n",
       "293   14053.0     0.123099  not_outlier    293     0.101659     good      0"
      ]
     },
     "execution_count": 113,
     "metadata": {},
     "output_type": "execute_result"
    }
   ],
   "source": [
    "DL_compare.loc[DL_compare['outlier2']=='good']"
   ]
  },
  {
   "cell_type": "code",
   "execution_count": 114,
   "metadata": {},
   "outputs": [
    {
     "data": {
      "text/html": [
       "<div>\n",
       "<style scoped>\n",
       "    .dataframe tbody tr th:only-of-type {\n",
       "        vertical-align: middle;\n",
       "    }\n",
       "\n",
       "    .dataframe tbody tr th {\n",
       "        vertical-align: top;\n",
       "    }\n",
       "\n",
       "    .dataframe thead th {\n",
       "        text-align: right;\n",
       "    }\n",
       "</style>\n",
       "<table border=\"1\" class=\"dataframe\">\n",
       "  <thead>\n",
       "    <tr style=\"text-align: right;\">\n",
       "      <th></th>\n",
       "      <th>HOSP_NRD</th>\n",
       "      <th>recyc_mean1</th>\n",
       "      <th>outlier1</th>\n",
       "      <th>rank1</th>\n",
       "      <th>recyc_mean2</th>\n",
       "      <th>outlier2</th>\n",
       "      <th>rank2</th>\n",
       "    </tr>\n",
       "  </thead>\n",
       "  <tbody>\n",
       "    <tr>\n",
       "      <th>190</th>\n",
       "      <td>13180.0</td>\n",
       "      <td>0.121285</td>\n",
       "      <td>not_outlier</td>\n",
       "      <td>190</td>\n",
       "      <td>0.139383</td>\n",
       "      <td>bad</td>\n",
       "      <td>867</td>\n",
       "    </tr>\n",
       "    <tr>\n",
       "      <th>801</th>\n",
       "      <td>12397.0</td>\n",
       "      <td>0.132567</td>\n",
       "      <td>not_outlier</td>\n",
       "      <td>801</td>\n",
       "      <td>0.138180</td>\n",
       "      <td>bad</td>\n",
       "      <td>865</td>\n",
       "    </tr>\n",
       "    <tr>\n",
       "      <th>828</th>\n",
       "      <td>13000.0</td>\n",
       "      <td>0.133446</td>\n",
       "      <td>not_outlier</td>\n",
       "      <td>828</td>\n",
       "      <td>0.141179</td>\n",
       "      <td>bad</td>\n",
       "      <td>872</td>\n",
       "    </tr>\n",
       "    <tr>\n",
       "      <th>837</th>\n",
       "      <td>11984.0</td>\n",
       "      <td>0.134195</td>\n",
       "      <td>not_outlier</td>\n",
       "      <td>837</td>\n",
       "      <td>0.141403</td>\n",
       "      <td>bad</td>\n",
       "      <td>873</td>\n",
       "    </tr>\n",
       "  </tbody>\n",
       "</table>\n",
       "</div>"
      ],
      "text/plain": [
       "     HOSP_NRD  recyc_mean1     outlier1  rank1  recyc_mean2 outlier2  rank2\n",
       "190   13180.0     0.121285  not_outlier    190     0.139383      bad    867\n",
       "801   12397.0     0.132567  not_outlier    801     0.138180      bad    865\n",
       "828   13000.0     0.133446  not_outlier    828     0.141179      bad    872\n",
       "837   11984.0     0.134195  not_outlier    837     0.141403      bad    873"
      ]
     },
     "execution_count": 114,
     "metadata": {},
     "output_type": "execute_result"
    }
   ],
   "source": [
    "DL_compare.loc[DL_compare['outlier2']=='bad']"
   ]
  },
  {
   "cell_type": "markdown",
   "metadata": {},
   "source": [
    "### Hospital Intercept"
   ]
  },
  {
   "cell_type": "code",
   "execution_count": 8,
   "metadata": {},
   "outputs": [],
   "source": [
    "cohort = 'ami'\n",
    "split_seed = 3\n",
    "train_idx = 1"
   ]
  },
  {
   "cell_type": "code",
   "execution_count": 9,
   "metadata": {},
   "outputs": [],
   "source": [
    "hosp_embed_mats = []\n",
    "for sample_seed in range(5):\n",
    "    hosp_embed_mat = np.load(path+'cohorts30/{}/inference/hosp_embed_mats_{}{}_{}.npy'.format(cohort, split_seed, train_idx, \n",
    "                                                                                         sample_seed))\n",
    "    hosp_embed_mats.append(hosp_embed_mat)"
   ]
  },
  {
   "cell_type": "code",
   "execution_count": 21,
   "metadata": {},
   "outputs": [],
   "source": [
    "recyc_preds = []\n",
    "for sample_seed in range(5):\n",
    "    recyc_pred = pd.read_csv(path+'cohorts30/{}/inference/recyc_pred_hospohe_{}{}_{}.csv'.format(cohort, split_seed, train_idx, \n",
    "                                                                                         sample_seed))\n",
    "    recyc_preds.append(recyc_pred)"
   ]
  },
  {
   "cell_type": "code",
   "execution_count": 19,
   "metadata": {},
   "outputs": [],
   "source": [
    "hosp_embed_mats = []\n",
    "for sample_seed in range(5):\n",
    "    hosp_embed_mat = np.load(path+'cohorts30/{}/inference/hosp_ohe_mats_{}{}_{}.npy'.format(cohort, split_seed, train_idx, \n",
    "                                                                                         sample_seed))\n",
    "    hosp_embed_mats.append(hosp_embed_mat)"
   ]
  },
  {
   "cell_type": "code",
   "execution_count": 13,
   "metadata": {
    "collapsed": true
   },
   "outputs": [
    {
     "data": {
      "text/html": [
       "<div>\n",
       "<style scoped>\n",
       "    .dataframe tbody tr th:only-of-type {\n",
       "        vertical-align: middle;\n",
       "    }\n",
       "\n",
       "    .dataframe tbody tr th {\n",
       "        vertical-align: top;\n",
       "    }\n",
       "\n",
       "    .dataframe thead th {\n",
       "        text-align: right;\n",
       "    }\n",
       "</style>\n",
       "<table border=\"1\" class=\"dataframe\">\n",
       "  <thead>\n",
       "    <tr style=\"text-align: right;\">\n",
       "      <th></th>\n",
       "      <th>recycle_pred0</th>\n",
       "      <th>recycle_pred1</th>\n",
       "      <th>recycle_pred2</th>\n",
       "      <th>recycle_pred3</th>\n",
       "      <th>recycle_pred4</th>\n",
       "      <th>recycle_pred5</th>\n",
       "      <th>recycle_pred6</th>\n",
       "      <th>recycle_pred7</th>\n",
       "      <th>recycle_pred8</th>\n",
       "      <th>recycle_pred9</th>\n",
       "      <th>recyc_mean</th>\n",
       "      <th>HOSP_NRD</th>\n",
       "    </tr>\n",
       "  </thead>\n",
       "  <tbody>\n",
       "    <tr>\n",
       "      <th>0</th>\n",
       "      <td>0.131887</td>\n",
       "      <td>0.120805</td>\n",
       "      <td>0.121347</td>\n",
       "      <td>0.122256</td>\n",
       "      <td>0.135420</td>\n",
       "      <td>0.125369</td>\n",
       "      <td>0.124353</td>\n",
       "      <td>0.122056</td>\n",
       "      <td>0.119167</td>\n",
       "      <td>0.126054</td>\n",
       "      <td>0.124871</td>\n",
       "      <td>11006.0</td>\n",
       "    </tr>\n",
       "    <tr>\n",
       "      <th>1</th>\n",
       "      <td>0.131296</td>\n",
       "      <td>0.119592</td>\n",
       "      <td>0.123666</td>\n",
       "      <td>0.122207</td>\n",
       "      <td>0.135842</td>\n",
       "      <td>0.122978</td>\n",
       "      <td>0.122660</td>\n",
       "      <td>0.121511</td>\n",
       "      <td>0.120035</td>\n",
       "      <td>0.125119</td>\n",
       "      <td>0.124491</td>\n",
       "      <td>11010.0</td>\n",
       "    </tr>\n",
       "    <tr>\n",
       "      <th>2</th>\n",
       "      <td>0.130628</td>\n",
       "      <td>0.120340</td>\n",
       "      <td>0.122555</td>\n",
       "      <td>0.117005</td>\n",
       "      <td>0.132525</td>\n",
       "      <td>0.121925</td>\n",
       "      <td>0.122092</td>\n",
       "      <td>0.121504</td>\n",
       "      <td>0.119712</td>\n",
       "      <td>0.126035</td>\n",
       "      <td>0.123432</td>\n",
       "      <td>11011.0</td>\n",
       "    </tr>\n",
       "    <tr>\n",
       "      <th>3</th>\n",
       "      <td>0.134120</td>\n",
       "      <td>0.121136</td>\n",
       "      <td>0.124264</td>\n",
       "      <td>0.125321</td>\n",
       "      <td>0.139850</td>\n",
       "      <td>0.125200</td>\n",
       "      <td>0.125098</td>\n",
       "      <td>0.122465</td>\n",
       "      <td>0.120020</td>\n",
       "      <td>0.127003</td>\n",
       "      <td>0.126448</td>\n",
       "      <td>11013.0</td>\n",
       "    </tr>\n",
       "    <tr>\n",
       "      <th>4</th>\n",
       "      <td>0.130315</td>\n",
       "      <td>0.120159</td>\n",
       "      <td>0.123519</td>\n",
       "      <td>0.123878</td>\n",
       "      <td>0.139595</td>\n",
       "      <td>0.123773</td>\n",
       "      <td>0.123575</td>\n",
       "      <td>0.121581</td>\n",
       "      <td>0.120110</td>\n",
       "      <td>0.125563</td>\n",
       "      <td>0.125207</td>\n",
       "      <td>11014.0</td>\n",
       "    </tr>\n",
       "  </tbody>\n",
       "</table>\n",
       "</div>"
      ],
      "text/plain": [
       "   recycle_pred0  recycle_pred1  recycle_pred2  recycle_pred3  recycle_pred4  \\\n",
       "0       0.131887       0.120805       0.121347       0.122256       0.135420   \n",
       "1       0.131296       0.119592       0.123666       0.122207       0.135842   \n",
       "2       0.130628       0.120340       0.122555       0.117005       0.132525   \n",
       "3       0.134120       0.121136       0.124264       0.125321       0.139850   \n",
       "4       0.130315       0.120159       0.123519       0.123878       0.139595   \n",
       "\n",
       "   recycle_pred5  recycle_pred6  recycle_pred7  recycle_pred8  recycle_pred9  \\\n",
       "0       0.125369       0.124353       0.122056       0.119167       0.126054   \n",
       "1       0.122978       0.122660       0.121511       0.120035       0.125119   \n",
       "2       0.121925       0.122092       0.121504       0.119712       0.126035   \n",
       "3       0.125200       0.125098       0.122465       0.120020       0.127003   \n",
       "4       0.123773       0.123575       0.121581       0.120110       0.125563   \n",
       "\n",
       "   recyc_mean  HOSP_NRD  \n",
       "0    0.124871   11006.0  \n",
       "1    0.124491   11010.0  \n",
       "2    0.123432   11011.0  \n",
       "3    0.126448   11013.0  \n",
       "4    0.125207   11014.0  "
      ]
     },
     "execution_count": 13,
     "metadata": {},
     "output_type": "execute_result"
    }
   ],
   "source": [
    "recyc_preds[0].head()"
   ]
  },
  {
   "cell_type": "code",
   "execution_count": 22,
   "metadata": {},
   "outputs": [
    {
     "data": {
      "text/plain": [
       "<matplotlib.collections.PathCollection at 0x2b7b27bf00b8>"
      ]
     },
     "execution_count": 22,
     "metadata": {},
     "output_type": "execute_result"
    },
    {
     "data": {
      "image/png": "[encoded data removed]",
      "text/plain": [
       "<Figure size 432x288 with 1 Axes>"
      ]
     },
     "metadata": {},
     "output_type": "display_data"
    }
   ],
   "source": [
    "plt.scatter(hosp_embed_mats[0][:, 4], recyc_preds[0].iloc[:, 4])"
   ]
  },
  {
   "cell_type": "code",
   "execution_count": 75,
   "metadata": {},
   "outputs": [],
   "source": [
    "hosp_embed_stack = np.stack(hosp_embed_mats, axis=2)"
   ]
  },
  {
   "cell_type": "code",
   "execution_count": 71,
   "metadata": {},
   "outputs": [
    {
     "data": {
      "text/plain": [
       "(874, 10, 5)"
      ]
     },
     "execution_count": 71,
     "metadata": {},
     "output_type": "execute_result"
    }
   ],
   "source": [
    "hosp_embed_stack.shape"
   ]
  },
  {
   "cell_type": "code",
   "execution_count": 76,
   "metadata": {},
   "outputs": [],
   "source": [
    "res.append(hosp_embed_stack)"
   ]
  },
  {
   "cell_type": "code",
   "execution_count": 77,
   "metadata": {},
   "outputs": [
    {
     "data": {
      "text/plain": [
       "<matplotlib.collections.PathCollection at 0x2b6985f08240>"
      ]
     },
     "execution_count": 77,
     "metadata": {},
     "output_type": "execute_result"
    },
    {
     "data": {
      "image/png": "[encoded data removed]",
      "text/plain": [
       "<Figure size 432x288 with 1 Axes>"
      ]
     },
     "metadata": {},
     "output_type": "display_data"
    }
   ],
   "source": [
    "plt.scatter(res[2][:, 0, :].mean(axis=1), res[3][:, 0, :].mean(axis=1))"
   ]
  },
  {
   "cell_type": "code",
   "execution_count": 80,
   "metadata": {},
   "outputs": [
    {
     "data": {
      "text/plain": [
       "<matplotlib.collections.PathCollection at 0x2b6985f92048>"
      ]
     },
     "execution_count": 80,
     "metadata": {},
     "output_type": "execute_result"
    },
    {
     "data": {
      "image/png": "[encoded data removed]",
      "text/plain": [
       "<Figure size 432x288 with 1 Axes>"
      ]
     },
     "metadata": {},
     "output_type": "display_data"
    }
   ],
   "source": [
    "plt.scatter(res[2][:, 0, 0], res[2][:, 0, 3])"
   ]
  },
  {
   "cell_type": "code",
   "execution_count": 50,
   "metadata": {},
   "outputs": [],
   "source": [
    "from sklearn.preprocessing import normalize"
   ]
  },
  {
   "cell_type": "code",
   "execution_count": null,
   "metadata": {},
   "outputs": [],
   "source": [
    "res_norm = res.copy()\n",
    "for j in range(2):\n",
    "    for "
   ]
  },
  {
   "cell_type": "markdown",
   "metadata": {},
   "source": [
    "### Normalizing"
   ]
  },
  {
   "cell_type": "code",
   "execution_count": 176,
   "metadata": {},
   "outputs": [],
   "source": [
    "recyc_renorm = recyc_preds[['HOSP_NRD', 'N']+['recyc_pred'+str(j) for j in range(10)]].copy()\n",
    "\n",
    "for j in range(10):\n",
    "    recyc_renorm['recyc_pred'+str(j)] = recyc_renorm['recyc_pred'+str(j)] - recyc_renorm['recyc_pred'+str(j)].mean()\n",
    "\n",
    "recyc_renorm = recyc_renorm.assign(recyc_mean=recyc_renorm[['recyc_pred'+str(j) for j in range(10)]].mean(axis=1))\n",
    "recyc_renorm = recyc_renorm.assign(recyc_std=recyc_renorm[['recyc_pred'+str(j) for j in range(10)]].std(axis=1))\n",
    "recyc_renorm = recyc_renorm.assign(upper = recyc_renorm.recyc_mean + 1.96*recyc_renorm.recyc_std)\n",
    "recyc_renorm = recyc_renorm.assign(lower = recyc_renorm.recyc_mean - 1.96*recyc_renorm.recyc_std)\n",
    "\n",
    "recyc_renorm['outlier'] = 'not_outlier'\n",
    "recyc_renorm.loc[recyc_renorm.upper<0, 'outlier'] = 'good'\n",
    "recyc_renorm.loc[recyc_renorm.lower>0, 'outlier'] = 'bad'"
   ]
  },
  {
   "cell_type": "code",
   "execution_count": 95,
   "metadata": {
    "collapsed": true
   },
   "outputs": [
    {
     "ename": "NameError",
     "evalue": "name 'recyc_renorm' is not defined",
     "output_type": "error",
     "traceback": [
      "\u001b[0;31m---------------------------------------------------------------------------\u001b[0m",
      "\u001b[0;31mNameError\u001b[0m                                 Traceback (most recent call last)",
      "\u001b[0;32m<ipython-input-95-1105801931bd>\u001b[0m in \u001b[0;36m<module>\u001b[0;34m()\u001b[0m\n\u001b[0;32m----> 1\u001b[0;31m \u001b[0mto_merge\u001b[0m \u001b[0;34m=\u001b[0m \u001b[0mrecyc_renorm\u001b[0m\u001b[0;34m[\u001b[0m\u001b[0;34m[\u001b[0m\u001b[0;34m'HOSP_NRD'\u001b[0m\u001b[0;34m,\u001b[0m \u001b[0;34m'recyc_mean'\u001b[0m\u001b[0;34m,\u001b[0m \u001b[0;34m'outlier'\u001b[0m\u001b[0;34m]\u001b[0m\u001b[0;34m]\u001b[0m\u001b[0;34m.\u001b[0m\u001b[0mcopy\u001b[0m\u001b[0;34m(\u001b[0m\u001b[0;34m)\u001b[0m\u001b[0;34m\u001b[0m\u001b[0m\n\u001b[0m\u001b[1;32m      2\u001b[0m \u001b[0;34m\u001b[0m\u001b[0m\n\u001b[1;32m      3\u001b[0m \u001b[0mto_merge\u001b[0m\u001b[0;34m.\u001b[0m\u001b[0mcolumns\u001b[0m \u001b[0;34m=\u001b[0m \u001b[0;34m[\u001b[0m\u001b[0;34m'HOSP_NRD'\u001b[0m\u001b[0;34m,\u001b[0m \u001b[0;34m'recyc_mean'\u001b[0m\u001b[0;34m+\u001b[0m\u001b[0mstr\u001b[0m\u001b[0;34m(\u001b[0m\u001b[0mtrain_idx\u001b[0m\u001b[0;34m)\u001b[0m\u001b[0;34m,\u001b[0m \u001b[0;34m'outlier'\u001b[0m\u001b[0;34m+\u001b[0m\u001b[0mstr\u001b[0m\u001b[0;34m(\u001b[0m\u001b[0mtrain_idx\u001b[0m\u001b[0;34m)\u001b[0m\u001b[0;34m]\u001b[0m\u001b[0;34m\u001b[0m\u001b[0m\n",
      "\u001b[0;31mNameError\u001b[0m: name 'recyc_renorm' is not defined"
     ]
    }
   ],
   "source": [
    "to_merge = recyc_renorm[['HOSP_NRD', 'recyc_mean', 'outlier']].copy()\n",
    "\n",
    "to_merge.columns = ['HOSP_NRD', 'recyc_mean'+str(train_idx), 'outlier'+str(train_idx)]"
   ]
  },
  {
   "cell_type": "code",
   "execution_count": 172,
   "metadata": {},
   "outputs": [],
   "source": [
    "DL_compare = to_merge.copy()"
   ]
  },
  {
   "cell_type": "code",
   "execution_count": 178,
   "metadata": {},
   "outputs": [],
   "source": [
    "DL_compare = pd.merge(DL_compare, to_merge, on='HOSP_NRD')"
   ]
  },
  {
   "cell_type": "code",
   "execution_count": 161,
   "metadata": {},
   "outputs": [
    {
     "data": {
      "text/plain": [
       "not_outlier    455\n",
       "bad            221\n",
       "good           198\n",
       "Name: outlier, dtype: int64"
      ]
     },
     "execution_count": 161,
     "metadata": {},
     "output_type": "execute_result"
    }
   ],
   "source": [
    "recyc_renorm['outlier'].value_counts()"
   ]
  },
  {
   "cell_type": "code",
   "execution_count": 73,
   "metadata": {},
   "outputs": [
    {
     "data": {
      "text/html": [
       "<div>\n",
       "<style scoped>\n",
       "    .dataframe tbody tr th:only-of-type {\n",
       "        vertical-align: middle;\n",
       "    }\n",
       "\n",
       "    .dataframe tbody tr th {\n",
       "        vertical-align: top;\n",
       "    }\n",
       "\n",
       "    .dataframe thead th {\n",
       "        text-align: right;\n",
       "    }\n",
       "</style>\n",
       "<table border=\"1\" class=\"dataframe\">\n",
       "  <thead>\n",
       "    <tr style=\"text-align: right;\">\n",
       "      <th></th>\n",
       "      <th>HOSP_NRD</th>\n",
       "      <th>N</th>\n",
       "      <th>recyc_pred0</th>\n",
       "      <th>recyc_pred1</th>\n",
       "      <th>recyc_pred2</th>\n",
       "      <th>recyc_pred3</th>\n",
       "      <th>recyc_pred4</th>\n",
       "      <th>recyc_pred5</th>\n",
       "      <th>recyc_pred6</th>\n",
       "      <th>recyc_pred7</th>\n",
       "      <th>recyc_pred8</th>\n",
       "      <th>recyc_pred9</th>\n",
       "      <th>recyc_mean</th>\n",
       "      <th>recyc_std</th>\n",
       "      <th>upper</th>\n",
       "      <th>lower</th>\n",
       "      <th>outlier</th>\n",
       "    </tr>\n",
       "  </thead>\n",
       "  <tbody>\n",
       "    <tr>\n",
       "      <th>0</th>\n",
       "      <td>11006.0</td>\n",
       "      <td>88</td>\n",
       "      <td>-0.008381</td>\n",
       "      <td>-0.008994</td>\n",
       "      <td>-0.007248</td>\n",
       "      <td>-0.009039</td>\n",
       "      <td>-0.009801</td>\n",
       "      <td>-0.007368</td>\n",
       "      <td>-0.007933</td>\n",
       "      <td>-0.010241</td>\n",
       "      <td>-0.006755</td>\n",
       "      <td>-0.007229</td>\n",
       "      <td>-0.008299</td>\n",
       "      <td>0.001188</td>\n",
       "      <td>-0.005971</td>\n",
       "      <td>-0.010627</td>\n",
       "      <td>good</td>\n",
       "    </tr>\n",
       "    <tr>\n",
       "      <th>1</th>\n",
       "      <td>11010.0</td>\n",
       "      <td>208</td>\n",
       "      <td>-0.014354</td>\n",
       "      <td>-0.016875</td>\n",
       "      <td>-0.015778</td>\n",
       "      <td>-0.015510</td>\n",
       "      <td>-0.017006</td>\n",
       "      <td>-0.012171</td>\n",
       "      <td>-0.014656</td>\n",
       "      <td>-0.017332</td>\n",
       "      <td>-0.014268</td>\n",
       "      <td>-0.016473</td>\n",
       "      <td>-0.015442</td>\n",
       "      <td>0.001603</td>\n",
       "      <td>-0.012300</td>\n",
       "      <td>-0.018584</td>\n",
       "      <td>good</td>\n",
       "    </tr>\n",
       "    <tr>\n",
       "      <th>2</th>\n",
       "      <td>11011.0</td>\n",
       "      <td>36</td>\n",
       "      <td>-0.003125</td>\n",
       "      <td>-0.004833</td>\n",
       "      <td>-0.004819</td>\n",
       "      <td>-0.004986</td>\n",
       "      <td>-0.004375</td>\n",
       "      <td>-0.003862</td>\n",
       "      <td>-0.006959</td>\n",
       "      <td>-0.006972</td>\n",
       "      <td>-0.006532</td>\n",
       "      <td>-0.005258</td>\n",
       "      <td>-0.005172</td>\n",
       "      <td>0.001295</td>\n",
       "      <td>-0.002633</td>\n",
       "      <td>-0.007711</td>\n",
       "      <td>good</td>\n",
       "    </tr>\n",
       "    <tr>\n",
       "      <th>3</th>\n",
       "      <td>11013.0</td>\n",
       "      <td>230</td>\n",
       "      <td>0.004218</td>\n",
       "      <td>0.007364</td>\n",
       "      <td>0.006275</td>\n",
       "      <td>0.005769</td>\n",
       "      <td>0.008090</td>\n",
       "      <td>0.004522</td>\n",
       "      <td>0.007124</td>\n",
       "      <td>0.007819</td>\n",
       "      <td>0.008742</td>\n",
       "      <td>0.007319</td>\n",
       "      <td>0.006724</td>\n",
       "      <td>0.001502</td>\n",
       "      <td>0.009668</td>\n",
       "      <td>0.003780</td>\n",
       "      <td>bad</td>\n",
       "    </tr>\n",
       "    <tr>\n",
       "      <th>4</th>\n",
       "      <td>11014.0</td>\n",
       "      <td>308</td>\n",
       "      <td>-0.003024</td>\n",
       "      <td>-0.001799</td>\n",
       "      <td>-0.005184</td>\n",
       "      <td>-0.003897</td>\n",
       "      <td>-0.002025</td>\n",
       "      <td>-0.003873</td>\n",
       "      <td>-0.000971</td>\n",
       "      <td>-0.000954</td>\n",
       "      <td>0.000529</td>\n",
       "      <td>-0.004333</td>\n",
       "      <td>-0.002553</td>\n",
       "      <td>0.001803</td>\n",
       "      <td>0.000981</td>\n",
       "      <td>-0.006088</td>\n",
       "      <td>not_outlier</td>\n",
       "    </tr>\n",
       "  </tbody>\n",
       "</table>\n",
       "</div>"
      ],
      "text/plain": [
       "   HOSP_NRD    N  recyc_pred0  recyc_pred1  recyc_pred2  recyc_pred3  \\\n",
       "0   11006.0   88    -0.008381    -0.008994    -0.007248    -0.009039   \n",
       "1   11010.0  208    -0.014354    -0.016875    -0.015778    -0.015510   \n",
       "2   11011.0   36    -0.003125    -0.004833    -0.004819    -0.004986   \n",
       "3   11013.0  230     0.004218     0.007364     0.006275     0.005769   \n",
       "4   11014.0  308    -0.003024    -0.001799    -0.005184    -0.003897   \n",
       "\n",
       "   recyc_pred4  recyc_pred5  recyc_pred6  recyc_pred7  recyc_pred8  \\\n",
       "0    -0.009801    -0.007368    -0.007933    -0.010241    -0.006755   \n",
       "1    -0.017006    -0.012171    -0.014656    -0.017332    -0.014268   \n",
       "2    -0.004375    -0.003862    -0.006959    -0.006972    -0.006532   \n",
       "3     0.008090     0.004522     0.007124     0.007819     0.008742   \n",
       "4    -0.002025    -0.003873    -0.000971    -0.000954     0.000529   \n",
       "\n",
       "   recyc_pred9  recyc_mean  recyc_std     upper     lower      outlier  \n",
       "0    -0.007229   -0.008299   0.001188 -0.005971 -0.010627         good  \n",
       "1    -0.016473   -0.015442   0.001603 -0.012300 -0.018584         good  \n",
       "2    -0.005258   -0.005172   0.001295 -0.002633 -0.007711         good  \n",
       "3     0.007319    0.006724   0.001502  0.009668  0.003780          bad  \n",
       "4    -0.004333   -0.002553   0.001803  0.000981 -0.006088  not_outlier  "
      ]
     },
     "execution_count": 73,
     "metadata": {},
     "output_type": "execute_result"
    }
   ],
   "source": [
    "recyc_renorm.head()"
   ]
  },
  {
   "cell_type": "code",
   "execution_count": 64,
   "metadata": {},
   "outputs": [
    {
     "data": {
      "text/plain": [
       "<matplotlib.axes._subplots.AxesSubplot at 0x2b08050edf60>"
      ]
     },
     "execution_count": 64,
     "metadata": {},
     "output_type": "execute_result"
    },
    {
     "data": {
      "image/png": "[encoded data removed]",
      "text/plain": [
       "<Figure size 432x288 with 1 Axes>"
      ]
     },
     "metadata": {},
     "output_type": "display_data"
    }
   ],
   "source": [
    "recyc_pred.recyc_mean.plot.hist(bins=20)"
   ]
  },
  {
   "cell_type": "markdown",
   "metadata": {},
   "source": [
    "### Diagnosis"
   ]
  },
  {
   "cell_type": "code",
   "execution_count": 6,
   "metadata": {},
   "outputs": [],
   "source": [
    "import pandas as pd\n",
    "import numpy as np\n",
    "from sklearn.model_selection import train_test_split, StratifiedShuffleSplit, StratifiedKFold\n",
    "from sklearn.metrics import roc_curve, auc\n",
    "import os, sys\n",
    "path = '/nfs/turbo/umms-awaljee/wsliu/Data/NRD/'\n",
    "\n",
    "model_path = path + 'models/'\n",
    "if not os.path.exists(model_path): os.mkdir(model_path)\n",
    "    \n",
    "from keras.layers import Input, Embedding, Concatenate, Reshape, Lambda\n",
    "from keras.models import Model\n",
    "from keras.layers.core import Dense, Activation, Dropout, RepeatVector\n",
    "from keras.callbacks import ModelCheckpoint, ReduceLROnPlateau, EarlyStopping\n",
    "from keras.utils import to_categorical\n",
    "from keras.optimizers import Adam\n",
    "from keras.initializers import Constant\n",
    "import keras.backend as K\n",
    "\n",
    "module_path = '/home/wsliu/Codes/DLproj'\n",
    "if module_path not in sys.path:\n",
    "    sys.path.append(module_path)\n",
    "if module_path+'/NRD' not in sys.path:\n",
    "    sys.path.append(module_path+'/NRD')\n",
    "from DL_utils import plot_roc\n",
    "from keras_addon import AUCCheckPoint\n",
    "from utils import Mat_reg\n",
    "\n",
    "from ccs_tools import dx_multi, pr_multi, core_dtypes_pd\n",
    "from setsum_layer import MaskedSum, MaskedDense"
   ]
  },
  {
   "cell_type": "code",
   "execution_count": 104,
   "metadata": {},
   "outputs": [],
   "source": [
    "cohort = 'ami'\n",
    "train_idx = 2\n",
    "split_seed = 0\n",
    "sample_seed = 0\n",
    "n_val = 1\n",
    "\n",
    "job_index = 7"
   ]
  },
  {
   "cell_type": "code",
   "execution_count": 105,
   "metadata": {},
   "outputs": [],
   "source": [
    "all_df = pd.read_csv(path+'cohorts30/{}/pred_comorb.csv'.format(cohort), dtype=core_dtypes_pd)\n",
    "train_df0 = pd.read_csv(path+'cohorts30/{}/inference/index_split{}_{}.csv'.format(cohort, split_seed, train_idx), dtype=core_dtypes_pd)\n",
    "train_df0 = train_df0.reset_index(drop=True)\n",
    "tst_df = pd.read_csv(path+'cohorts30/{}/inference/index_split{}_{}.csv'.format(cohort, split_seed, 3-train_idx), dtype=core_dtypes_pd)\n",
    "#index_df = train_df0.sample(frac=0.1, random_state=24)"
   ]
  },
  {
   "cell_type": "code",
   "execution_count": 97,
   "metadata": {},
   "outputs": [],
   "source": [
    "DX_cat = ['missing'] + sorted(dx_multi.ICD9CM_CODE)\n",
    "PR_cat = ['missing'] + sorted(pr_multi.ICD9CM_CODE)\n",
    "n_DX_cat = len(DX_cat)\n",
    "n_PR_cat = len(PR_cat)\n",
    "unclassified = set(dx_multi.loc[dx_multi.CCS_LVL1 == '18', 'ICD9CM_CODE'])\n",
    "dx_ccs_cat = pd.concat([dx_multi.CCS_LVL1, dx_multi.CCS_LVL2, dx_multi.CCS_LVL3, dx_multi.CCS_LVL4]).astype('category').cat.categories\n",
    "pr_ccs_cat = pd.concat([pr_multi.CCS_LVL1, pr_multi.CCS_LVL2, pr_multi.CCS_LVL3]).astype('category').cat.categories\n",
    "\n",
    "DX1_dict = dict(zip(DX_cat, range(len(DX_cat))))\n",
    "DX_dict = dict(zip(DX_cat, [0] + list(range(len(DX_cat), len(DX_cat)*2))))\n",
    "PR_dict = dict(zip(PR_cat, [0] + list(range(len(DX_cat)*2-1, len(DX_cat)*2+len(PR_cat)-1))))\n",
    "code_cat = ['missing'] + sorted(dx_multi.ICD9CM_CODE)*2 + sorted(pr_multi.ICD9CM_CODE) + sorted(dx_ccs_cat)[1:]*2 + sorted(pr_ccs_cat)[1:]\n",
    "n_code_cat = len(code_cat)    \n",
    "dx1_ccs_dict = dict(zip(dx_ccs_cat[1:], range(1+len(dx_multi)*2+len(pr_multi), len(dx_multi)*2+len(pr_multi)+len(dx_ccs_cat))))\n",
    "dx_ccs_dict = dict(zip(dx_ccs_cat[1:], range(1+len(dx_multi)*2+len(pr_multi)+len(dx_ccs_cat[1:]), \n",
    "                                             1+len(dx_multi)*2+len(pr_multi)+len(dx_ccs_cat[1:])*2)))\n",
    "pr_ccs_dict = dict(zip(pr_ccs_cat[1:], range(1+len(dx_multi)*2+len(pr_multi)+len(dx_ccs_cat[1:])*2, n_code_cat)))\n",
    "\n",
    "hosp_series = all_df['HOSP_NRD'].astype('category')\n",
    "hosp_cat = hosp_series.cat.categories\n",
    "hosp_dict = dict(zip(hosp_cat, range(len(hosp_cat))))\n",
    "\n",
    "n_DX = 29\n",
    "n_PR = 15\n",
    "DXs = ['DX'+str(j) for j in range(2, n_DX+2)]\n",
    "PRs = ['PR'+str(j) for j in range(1, n_PR+1)]"
   ]
  },
  {
   "cell_type": "code",
   "execution_count": 106,
   "metadata": {},
   "outputs": [],
   "source": [
    "age_mean = all_df['AGE'].mean()\n",
    "age_std = all_df['AGE'].std()\n",
    "los_mean = all_df['LOS'].mean()\n",
    "los_std = all_df['LOS'].std()\n",
    "n_pay1 = int(all_df['PAY1'].max())+1\n",
    "n_ed = int(all_df['HCUP_ED'].max())+1\n",
    "n_zipinc = int(all_df['ZIPINC_QRTL'].max())+1\n",
    "\n",
    "DX1_array_tst = tst_df.DX1.map(DX1_dict).values\n",
    "DX_df_tst = tst_df[DXs]\n",
    "DX_df_tst = DX_df_tst.fillna('missing')\n",
    "DX_df_tst[DX_df_tst.isin(['invl', 'incn'])] = 'missing'\n",
    "DX_df_tst[DX_df_tst.isin(unclassified)] = 'missing'\n",
    "for dx in DXs:\n",
    "    DX_df_tst[dx] = DX_df_tst[dx].map(DX_dict)\n",
    "DX_mat_tst = DX_df_tst.values\n",
    "PR_df_tst = tst_df[PRs]\n",
    "PR_df_tst = PR_df_tst.fillna('missing')\n",
    "PR_df_tst[PR_df_tst.isin(['invl', 'incn'])] = 'missing'\n",
    "for pr in PRs:\n",
    "    PR_df_tst[pr] = PR_df_tst[pr].map(PR_dict)\n",
    "PR_mat_tst = PR_df_tst.values\n",
    "demo_mat_tst = tst_df[['AGE', 'FEMALE']].values\n",
    "demo_mat_tst[:, 0] = (demo_mat_tst[:, 0]-age_mean)/age_std\n",
    "hosp_array_tst = tst_df['HOSP_NRD'].map(hosp_dict).values\n",
    "pay1_mat_tst = to_categorical(tst_df.PAY1.values, num_classes=n_pay1)[:, 1:]\n",
    "los_array_tst = (tst_df.LOS.values - los_mean)/los_std\n",
    "ed_mat_tst = to_categorical(tst_df.HCUP_ED.values, num_classes=n_ed)\n",
    "zipinc_mat_tst = to_categorical(tst_df.ZIPINC_QRTL.values, num_classes=n_zipinc)[:, 1:]\n",
    "#transfer_mat_tst = to_categorical(tst_df.SAMEDAYEVENT.values)\n",
    "other_mat_tst = np.concatenate((demo_mat_tst, pay1_mat_tst, los_array_tst.reshape(los_array_tst.shape+(1,)), \n",
    "                                ed_mat_tst, zipinc_mat_tst), axis=1)\n",
    "y_true = tst_df.readm30.astype(int).values"
   ]
  },
  {
   "cell_type": "code",
   "execution_count": 113,
   "metadata": {},
   "outputs": [],
   "source": [
    "DX1_array_index = index_df.DX1.map(DX1_dict).values\n",
    "DX_df_index = index_df[DXs]\n",
    "DX_df_index = DX_df_index.fillna('missing')\n",
    "DX_df_index[DX_df_index.isin(['invl', 'incn'])] = 'missing'\n",
    "DX_df_index[DX_df_index.isin(unclassified)] = 'missing'\n",
    "for dx in DXs:\n",
    "    DX_df_index[dx] = DX_df_index[dx].map(DX_dict)\n",
    "DX_mat_index = DX_df_index.values\n",
    "PR_df_index = index_df[PRs]\n",
    "PR_df_index = PR_df_index.fillna('missing')\n",
    "PR_df_index[PR_df_index.isin(['invl', 'incn'])] = 'missing'\n",
    "for pr in PRs:\n",
    "    PR_df_index[pr] = PR_df_index[pr].map(PR_dict)\n",
    "PR_mat_index = PR_df_index.values\n",
    "demo_mat_index = index_df[['AGE', 'FEMALE']].values\n",
    "demo_mat_index[:, 0] = (demo_mat_index[:, 0]-age_mean)/age_std\n",
    "hosp_array_index = index_df['HOSP_NRD'].map(hosp_dict).values\n",
    "pay1_mat_index = to_categorical(index_df.PAY1.values, num_classes=n_pay1)[:, 1:]\n",
    "los_array_index = (index_df.LOS.values - los_mean)/los_std\n",
    "ed_mat_index = to_categorical(index_df.HCUP_ED.values, num_classes=n_ed)\n",
    "zipinc_mat_index = to_categorical(index_df.ZIPINC_QRTL.values, num_classes=n_zipinc)[:, 1:]\n",
    "#transfer_mat = to_categorical(index_df.SAMEDAYEVENT.values)\n",
    "other_mat_index = np.concatenate((demo_mat_index, pay1_mat_index, los_array_index.reshape(los_array_index.shape+(1,)), \n",
    "                                ed_mat_index, zipinc_mat_index), axis=1)"
   ]
  },
  {
   "cell_type": "code",
   "execution_count": 11,
   "metadata": {},
   "outputs": [],
   "source": [
    "code_embed_dim = 200\n",
    "hosp_embed_dim = 1\n",
    "lr1 = 2e-4\n",
    "lr2 = 2e-5\n",
    "fc_width = 512\n",
    "md_width = 128\n",
    "dropout = 0.3\n",
    "batchsize = 256\n",
    "penalty = 0.\n",
    "    \n",
    "embed_glove = np.load(path+'all/sepdx1/test_embed/cosine/embed_mat_{0}_{1:.3f}_{2}_{3}{4}.npy'.format(code_embed_dim, 0, 20, cohort, \n",
    "                                                                                                      0))\n",
    "embed_initializer = Constant(embed_glove)"
   ]
  },
  {
   "cell_type": "code",
   "execution_count": 9,
   "metadata": {},
   "outputs": [],
   "source": [
    "from keras import regularizers"
   ]
  },
  {
   "cell_type": "code",
   "execution_count": 12,
   "metadata": {},
   "outputs": [],
   "source": [
    "val_ind = 0\n",
    "sample_seed = 0"
   ]
  },
  {
   "cell_type": "code",
   "execution_count": 107,
   "metadata": {
    "scrolled": true
   },
   "outputs": [
    {
     "name": "stdout",
     "output_type": "stream",
     "text": [
      "Train on 79591 samples, validate on 14046 samples\n",
      "Epoch 1/50\n",
      " - 3s - loss: 0.3616 - val_loss: 0.3585\n",
      "AUC: 0.7064\n",
      "\n",
      "Epoch 2/50\n",
      " - 2s - loss: 0.3457 - val_loss: 0.3511\n",
      "AUC: 0.7099\n",
      "\n",
      "Epoch 3/50\n",
      " - 2s - loss: 0.3419 - val_loss: 0.3515\n",
      "AUC: 0.7095\n",
      "\n",
      "Epoch 4/50\n",
      " - 2s - loss: 0.3394 - val_loss: 0.3529\n",
      "AUC: 0.7064\n",
      "\n",
      "Epoch 5/50\n",
      " - 2s - loss: 0.3368 - val_loss: 0.3540\n",
      "AUC: 0.7068\n",
      "\n",
      "Epoch 6/50\n",
      " - 2s - loss: 0.3337 - val_loss: 0.3545\n",
      "AUC: 0.7059\n",
      "\n",
      "Epoch 7/50\n",
      " - 2s - loss: 0.3308 - val_loss: 0.3561\n",
      "AUC: 0.7065\n",
      "\n",
      "Epoch 8/50\n",
      " - 2s - loss: 0.3280 - val_loss: 0.3566\n",
      "AUC: 0.6981\n",
      "\n",
      "Epoch 9/50\n",
      " - 2s - loss: 0.3242 - val_loss: 0.3632\n",
      "AUC: 0.6908\n",
      "\n",
      "Epoch 10/50\n",
      " - 2s - loss: 0.3204 - val_loss: 0.3614\n",
      "AUC: 0.6952\n",
      "\n",
      "Epoch 11/50\n",
      " - 2s - loss: 0.3163 - val_loss: 0.3684\n",
      "AUC: 0.6899\n",
      "\n",
      "Epoch 12/50\n",
      " - 2s - loss: 0.3110 - val_loss: 0.3673\n",
      "AUC: 0.6930\n",
      "\n",
      "Epoch 13/50\n",
      " - 2s - loss: 0.3003 - val_loss: 0.3705\n",
      "AUC: 0.6830\n",
      "\n",
      "Epoch 14/50\n",
      " - 2s - loss: 0.2957 - val_loss: 0.3729\n",
      "AUC: 0.6830\n",
      "\n",
      "Epoch 15/50\n",
      " - 2s - loss: 0.2927 - val_loss: 0.3738\n",
      "AUC: 0.6748\n",
      "\n",
      "Epoch 16/50\n",
      " - 2s - loss: 0.2903 - val_loss: 0.3783\n",
      "AUC: 0.6779\n",
      "\n",
      "Epoch 17/50\n",
      " - 2s - loss: 0.2883 - val_loss: 0.3826\n",
      "AUC: 0.6729\n",
      "\n",
      "Epoch 18/50\n",
      " - 2s - loss: 0.2862 - val_loss: 0.3825\n",
      "AUC: 0.6734\n",
      "\n",
      "Epoch 19/50\n",
      " - 2s - loss: 0.2838 - val_loss: 0.3850\n",
      "AUC: 0.6688\n",
      "\n",
      "Epoch 20/50\n",
      " - 2s - loss: 0.2811 - val_loss: 0.3849\n",
      "AUC: 0.6709\n",
      "\n",
      "Epoch 21/50\n",
      " - 2s - loss: 0.2802 - val_loss: 0.3838\n",
      "AUC: 0.6641\n",
      "\n",
      "Epoch 22/50\n",
      " - 2s - loss: 0.2770 - val_loss: 0.3852\n",
      "AUC: 0.6654\n",
      "\n",
      "Train on 79591 samples, validate on 14046 samples\n",
      "Epoch 1/15\n",
      " - 9s - loss: 0.3411 - val_loss: 0.3511\n",
      "AUC: 0.7102\n",
      "\n",
      "Epoch 2/15\n",
      " - 8s - loss: 0.3395 - val_loss: 0.3515\n",
      "AUC: 0.7107\n",
      "\n",
      "Epoch 3/15\n",
      " - 8s - loss: 0.3383 - val_loss: 0.3514\n",
      "AUC: 0.7110\n",
      "\n",
      "Epoch 4/15\n",
      " - 8s - loss: 0.3375 - val_loss: 0.3513\n",
      "AUC: 0.7112\n",
      "\n",
      "Epoch 5/15\n",
      " - 8s - loss: 0.3361 - val_loss: 0.3514\n",
      "AUC: 0.7110\n",
      "\n",
      "Epoch 6/15\n",
      " - 8s - loss: 0.3349 - val_loss: 0.3513\n",
      "AUC: 0.7106\n",
      "\n",
      "Epoch 7/15\n",
      " - 8s - loss: 0.3338 - val_loss: 0.3518\n",
      "AUC: 0.7110\n",
      "\n",
      "Epoch 8/15\n",
      " - 8s - loss: 0.3334 - val_loss: 0.3517\n",
      "AUC: 0.7098\n",
      "\n",
      "Epoch 9/15\n",
      " - 8s - loss: 0.3320 - val_loss: 0.3520\n",
      "AUC: 0.7099\n",
      "\n",
      "Epoch 10/15\n",
      " - 8s - loss: 0.3304 - val_loss: 0.3522\n",
      "AUC: 0.7090\n",
      "\n",
      "Epoch 11/15\n",
      " - 8s - loss: 0.3299 - val_loss: 0.3527\n",
      "AUC: 0.7082\n",
      "\n",
      "Epoch 12/15\n",
      " - 8s - loss: 0.3278 - val_loss: 0.3528\n",
      "AUC: 0.7087\n",
      "\n",
      "Epoch 13/15\n",
      " - 8s - loss: 0.3278 - val_loss: 0.3530\n",
      "AUC: 0.7086\n",
      "\n",
      "Epoch 14/15\n",
      " - 8s - loss: 0.3279 - val_loss: 0.3532\n",
      "AUC: 0.7082\n",
      "\n",
      "Epoch 15/15\n",
      " - 8s - loss: 0.3271 - val_loss: 0.3532\n",
      "AUC: 0.7083\n",
      "\n"
     ]
    }
   ],
   "source": [
    "auc_lst = []\n",
    "y_pred_lst = []\n",
    "for val_ind in range(n_val):\n",
    "    trn_df0, val_df = train_test_split(train_df0, test_size=0.15, random_state=24+val_ind, stratify=train_df0.HOSP_NRD)\n",
    "    trn_df = trn_df0.groupby('HOSP_NRD').apply(lambda x:x.sample(frac=1., random_state=sample_seed, replace=True)).reset_index(drop=True)\n",
    "    index_df = trn_df0.loc[~trn_df0.KEY_NRD.isin(set(trn_df.KEY_NRD.values))].copy()\n",
    "    N_trn = len(trn_df)\n",
    "    train_df = pd.concat([trn_df, val_df])\n",
    "    \n",
    "    DX1_series = train_df['DX1'].map(DX1_dict)\n",
    "    DX1_array = DX1_series.values\n",
    "    DX1_array_trn = DX1_array[:N_trn]\n",
    "    DX1_array_val = DX1_array[N_trn:]\n",
    "    \n",
    "    DX_df = train_df[DXs]\n",
    "    DX_df = DX_df.fillna('missing')\n",
    "    DX_df[DX_df.isin(['invl', 'incn'])] = 'missing'\n",
    "    DX_df[DX_df.isin(unclassified)] = 'missing'\n",
    "    for dx in DXs:\n",
    "        DX_df[dx] = DX_df[dx].map(DX_dict)\n",
    "    DX_mat = DX_df.values\n",
    "    DX_mat_trn = DX_mat[:N_trn, ]\n",
    "    DX_mat_val = DX_mat[N_trn:, ]\n",
    "    \n",
    "    PR_df = train_df[PRs]\n",
    "    PR_df = PR_df.fillna('missing')\n",
    "    PR_df[PR_df.isin(['invl', 'incn'])] = 'missing'\n",
    "    for pr in PRs:\n",
    "        PR_df[pr] = PR_df[pr].map(PR_dict)\n",
    "    PR_mat = PR_df.values\n",
    "    PR_mat_trn = PR_mat[:N_trn, ]\n",
    "    PR_mat_val = PR_mat[N_trn:, ]\n",
    "    \n",
    "    hosp_series = train_df['HOSP_NRD'].map(hosp_dict)\n",
    "    hosp_array = hosp_series.values\n",
    "    hosp_array_trn = hosp_array[:N_trn]\n",
    "    hosp_array_val = hosp_array[N_trn:]\n",
    "    \n",
    "    demo_mat = train_df[['AGE', 'FEMALE']].values\n",
    "    demo_mat[:, 0] = (demo_mat[:, 0]-age_mean)/age_std\n",
    "    pay1_mat = to_categorical(train_df.PAY1.values, num_classes=n_pay1)[:, 1:]\n",
    "    los_array = train_df.LOS.values\n",
    "    los_array = (los_array - los_mean)/los_std\n",
    "    ed_mat = to_categorical(train_df.HCUP_ED.values, num_classes=n_ed)\n",
    "    zipinc_mat = to_categorical(train_df.ZIPINC_QRTL.values, num_classes=n_zipinc)[:, 1:]\n",
    "    #transfer_mat = to_categorical(train_df.SAMEDAYEVENT.values)\n",
    "    other_mat = np.concatenate((demo_mat, pay1_mat, los_array.reshape(los_array.shape+(1,)), ed_mat, zipinc_mat), axis=1)\n",
    "    other_mat_trn = other_mat[:N_trn, ]\n",
    "    other_mat_val = other_mat[N_trn:, ]\n",
    "    \n",
    "    y = train_df['readm30'].values.astype(int)\n",
    "    y_trn = y[:N_trn]\n",
    "    y_val = y[N_trn:]\n",
    "    \n",
    "    input_DX1 = Input(shape=(1,))\n",
    "    DX1_embed = Embedding(input_dim=n_code_cat, output_dim=code_embed_dim, embeddings_initializer=embed_initializer, \n",
    "                                 name='DX1_embed')(input_DX1)\n",
    "    DX1_embed = Reshape((code_embed_dim,))(DX1_embed)\n",
    "    input_DX = Input(shape = (n_DX,))\n",
    "    DX_embed = Embedding(input_dim=n_code_cat, output_dim=code_embed_dim, mask_zero=True, embeddings_initializer=embed_initializer, \n",
    "                             name='DX_embed')(input_DX)\n",
    "    DX_embed = MaskedDense(md_width, activation='relu')(DX_embed)\n",
    "    DX_embed = MaskedSum()(DX_embed)\n",
    "    input_PR = Input(shape = (n_PR,))\n",
    "    PR_embed = Embedding(input_dim=n_code_cat, output_dim=code_embed_dim, mask_zero=True, embeddings_initializer=embed_initializer,\n",
    "                            name='PR_embed')(input_PR)\n",
    "    PR_embed = MaskedDense(md_width, activation='relu')(PR_embed)\n",
    "    PR_embed = MaskedSum()(PR_embed)\n",
    "    input_hosp = Input(shape=(1,))\n",
    "    hosp_embed = Embedding(input_dim=len(hosp_cat), output_dim=hosp_embed_dim, input_length=1)(input_hosp)\n",
    "    hosp_embed = Reshape((hosp_embed_dim, ))(hosp_embed)\n",
    "    input_other = Input(shape=(other_mat.shape[1], ))\n",
    "    #merged = Concatenate(axis=1)([DX1_embed, DX_embed, PR_embed, hosp_embed, input_other])\n",
    "    merged = Concatenate(axis=1)([DX1_embed, DX_embed, PR_embed, input_other])\n",
    "    x = Dense(fc_width, activation='relu')(merged)\n",
    "    x = Dropout(dropout)(x)\n",
    "    x = Dense(128, activation='relu')(x)\n",
    "    prediction = Dense(1, activation='sigmoid')(x)\n",
    "    #model = Model(inputs=[input_DX1, input_DX, input_PR, input_hosp, input_other], outputs=prediction)    \n",
    "    model = Model(inputs=[input_DX1, input_DX, input_PR, input_other], outputs=prediction)\n",
    "    \n",
    "    for l in model.layers:\n",
    "        if l.name=='DX_embed' or l.name=='PR_embed' or l.name=='DX1_embed':\n",
    "            l.trainable = False\n",
    "            \n",
    "    adam = Adam(lr=lr1)\n",
    "    model.compile(optimizer=adam, loss='binary_crossentropy')\n",
    "    \n",
    "    checkpoint = AUCCheckPoint(filepath=model_path+'temp/{}/inference_temp1.h5'.format(job_index), validation_y=y_val, \n",
    "                                 validation_x=[DX1_array_val, DX_mat_val, PR_mat_val, other_mat_val])\n",
    "    reduce_lr = ReduceLROnPlateau(monitor='val_loss', factor=0.2, patience=10, min_lr=K.epsilon())\n",
    "    earlystop = EarlyStopping(monitor='val_loss', patience=20)\n",
    "    \n",
    "    #hist = model.fit([DX1_array_trn, DX_mat_trn, PR_mat_trn, hosp_array_trn, other_mat_trn], y_trn, \n",
    "    #                 batch_size=batchsize, epochs=50, callbacks=[checkpoint, reduce_lr, earlystop], \n",
    "    #                 validation_data=[[DX1_array_val, DX_mat_val, PR_mat_val, hosp_array_val, other_mat_val], y_val], \n",
    "    #                verbose=2)\n",
    "    hist = model.fit([DX1_array_trn, DX_mat_trn, PR_mat_trn, other_mat_trn], y_trn, \n",
    "                     batch_size=batchsize, epochs=50, callbacks=[checkpoint, reduce_lr, earlystop], \n",
    "                     validation_data=[[DX1_array_val, DX_mat_val, PR_mat_val, other_mat_val], y_val], \n",
    "                    verbose=2)\n",
    "    \n",
    "    model.load_weights(model_path+'temp/{}/inference_temp1.h5'.format(job_index))\n",
    "    \n",
    "    for l in model.layers:\n",
    "        if l.name=='DX_embed' or l.name=='PR_embed' or l.name=='DX1_embed':\n",
    "            l.trainable = True\n",
    "    adam = Adam(lr=lr2)\n",
    "    model.compile(optimizer=adam, loss='binary_crossentropy')\n",
    "    \n",
    "    checkpoint = AUCCheckPoint(filepath=model_path+'temp/{}/inference_temp2.h5'.format(job_index), validation_y=y_val, \n",
    "                                 validation_x=[DX1_array_val, DX_mat_val, PR_mat_val, other_mat_val])\n",
    "    #hist = model.fit([DX1_array_trn, DX_mat_trn, PR_mat_trn, hosp_array_trn, other_mat_trn], y_trn, \n",
    "    #                 batch_size=batchsize, epochs=15, callbacks=[checkpoint, reduce_lr, earlystop], \n",
    "    #                 validation_data=[[DX1_array_val, DX_mat_val, PR_mat_val, hosp_array_val, other_mat_val], y_val], \n",
    "    #                verbose=2)\n",
    "    hist = model.fit([DX1_array_trn, DX_mat_trn, PR_mat_trn, other_mat_trn], y_trn, \n",
    "                     batch_size=batchsize, epochs=15, callbacks=[checkpoint, reduce_lr, earlystop], \n",
    "                     validation_data=[[DX1_array_val, DX_mat_val, PR_mat_val, other_mat_val], y_val], \n",
    "                    verbose=2)\n",
    "    \n",
    "    model.load_weights(model_path+'temp/{}/inference_temp2.h5'.format(job_index))\n",
    "    \n",
    "    #y_pred = model.predict([DX1_array_tst, DX_mat_tst, PR_mat_tst, hosp_array_tst, other_mat_tst], verbose=0)\n",
    "    y_pred = model.predict([DX1_array_tst, DX_mat_tst, PR_mat_tst, other_mat_tst], verbose=0)\n",
    "    fpr, tpr, _ = roc_curve(y_true, y_pred)\n",
    "    roc_auc = auc(fpr, tpr)\n",
    "    #model.save_weights(model_path+'testing/inf_{}{}{}_{}_{}.h5'.format(cohort, split_seed, train_idx, sample_seed, val_ind))\n",
    "    model.save_weights(model_path+'testing/inf_temp_nohosp{}.h5'.format(train_idx))\n",
    "    auc_lst.append(roc_auc)\n",
    "    y_pred_lst.append(y_pred)"
   ]
  },
  {
   "cell_type": "code",
   "execution_count": 108,
   "metadata": {},
   "outputs": [
    {
     "data": {
      "text/plain": [
       "[0.7127784965546937]"
      ]
     },
     "execution_count": 108,
     "metadata": {},
     "output_type": "execute_result"
    }
   ],
   "source": [
    "auc_lst"
   ]
  },
  {
   "cell_type": "code",
   "execution_count": 15,
   "metadata": {},
   "outputs": [],
   "source": [
    "index_df1 = index_df.copy()"
   ]
  },
  {
   "cell_type": "code",
   "execution_count": 27,
   "metadata": {},
   "outputs": [],
   "source": [
    "index_df2 = index_df.copy()"
   ]
  },
  {
   "cell_type": "code",
   "execution_count": 36,
   "metadata": {},
   "outputs": [],
   "source": [
    "index_df = index_df2.copy()"
   ]
  },
  {
   "cell_type": "code",
   "execution_count": 37,
   "metadata": {},
   "outputs": [],
   "source": [
    "DX1_array_index = index_df.DX1.map(DX1_dict).values\n",
    "DX_df_index = index_df[DXs]\n",
    "DX_df_index = DX_df_index.fillna('missing')\n",
    "DX_df_index[DX_df_index.isin(['invl', 'incn'])] = 'missing'\n",
    "DX_df_index[DX_df_index.isin(unclassified)] = 'missing'\n",
    "for dx in DXs:\n",
    "    DX_df_index[dx] = DX_df_index[dx].map(DX_dict)\n",
    "DX_mat_index = DX_df_index.values\n",
    "PR_df_index = index_df[PRs]\n",
    "PR_df_index = PR_df_index.fillna('missing')\n",
    "PR_df_index[PR_df_index.isin(['invl', 'incn'])] = 'missing'\n",
    "for pr in PRs:\n",
    "    PR_df_index[pr] = PR_df_index[pr].map(PR_dict)\n",
    "PR_mat_index = PR_df_index.values\n",
    "demo_mat_index = index_df[['AGE', 'FEMALE']].values\n",
    "demo_mat_index[:, 0] = (demo_mat_index[:, 0]-age_mean)/age_std\n",
    "hosp_array_index = index_df['HOSP_NRD'].map(hosp_dict).values\n",
    "pay1_mat_index = to_categorical(index_df.PAY1.values, num_classes=n_pay1)[:, 1:]\n",
    "los_array_index = (index_df.LOS.values - los_mean)/los_std\n",
    "ed_mat_index = to_categorical(index_df.HCUP_ED.values, num_classes=n_ed)\n",
    "zipinc_mat_index = to_categorical(index_df.ZIPINC_QRTL.values, num_classes=n_zipinc)[:, 1:]\n",
    "#transfer_mat = to_categorical(index_df.SAMEDAYEVENT.values)\n",
    "other_mat_index = np.concatenate((demo_mat_index, pay1_mat_index, los_array_index.reshape(los_array_index.shape+(1,)), \n",
    "                                ed_mat_index, zipinc_mat_index), axis=1)"
   ]
  },
  {
   "cell_type": "code",
   "execution_count": 68,
   "metadata": {},
   "outputs": [],
   "source": [
    "model.load_weights(model_path+'testing/inf_temp2.h5')"
   ]
  },
  {
   "cell_type": "code",
   "execution_count": 41,
   "metadata": {},
   "outputs": [
    {
     "name": "stdout",
     "output_type": "stream",
     "text": [
      "28090/28090 [==============================] - 1s 38us/step\n"
     ]
    }
   ],
   "source": [
    "y2 = model.predict([DX1_array_index, DX_mat_index, PR_mat_index, hosp_array_index, other_mat_index], verbose=1)"
   ]
  },
  {
   "cell_type": "code",
   "execution_count": 39,
   "metadata": {},
   "outputs": [
    {
     "data": {
      "text/plain": [
       "0.7185538333819107"
      ]
     },
     "execution_count": 39,
     "metadata": {},
     "output_type": "execute_result"
    }
   ],
   "source": [
    "fpr, tpr, _ = roc_curve(index_df.readm30.values, y1)\n",
    "auc(fpr, tpr)"
   ]
  },
  {
   "cell_type": "code",
   "execution_count": 42,
   "metadata": {},
   "outputs": [
    {
     "data": {
      "text/plain": [
       "0.7179290022819129"
      ]
     },
     "execution_count": 42,
     "metadata": {},
     "output_type": "execute_result"
    }
   ],
   "source": [
    "fpr, tpr, _ = roc_curve(index_df.readm30.values, y2)\n",
    "auc(fpr, tpr)"
   ]
  },
  {
   "cell_type": "code",
   "execution_count": 26,
   "metadata": {},
   "outputs": [],
   "source": [
    "import matplotlib.pyplot as plt\n",
    "%matplotlib inline"
   ]
  },
  {
   "cell_type": "code",
   "execution_count": 43,
   "metadata": {},
   "outputs": [
    {
     "data": {
      "text/plain": [
       "<matplotlib.collections.PathCollection at 0x2b77993c2be0>"
      ]
     },
     "execution_count": 43,
     "metadata": {},
     "output_type": "execute_result"
    },
    {
     "data": {
      "image/png": "[encoded data removed]",
      "text/plain": [
       "<Figure size 432x288 with 1 Axes>"
      ]
     },
     "metadata": {},
     "output_type": "display_data"
    }
   ],
   "source": [
    "plt.scatter(y1, y2)"
   ]
  },
  {
   "cell_type": "code",
   "execution_count": 33,
   "metadata": {},
   "outputs": [],
   "source": [
    "from scipy.stats import spearmanr"
   ]
  },
  {
   "cell_type": "code",
   "execution_count": 44,
   "metadata": {},
   "outputs": [
    {
     "data": {
      "text/plain": [
       "SpearmanrResult(correlation=0.9286051208805963, pvalue=0.0)"
      ]
     },
     "execution_count": 44,
     "metadata": {},
     "output_type": "execute_result"
    }
   ],
   "source": [
    "spearmanr(y1, y2)"
   ]
  },
  {
   "cell_type": "code",
   "execution_count": 73,
   "metadata": {},
   "outputs": [],
   "source": [
    "hosp = hosp_cat[666]"
   ]
  },
  {
   "cell_type": "code",
   "execution_count": 84,
   "metadata": {},
   "outputs": [],
   "source": [
    "hosp = 12245"
   ]
  },
  {
   "cell_type": "code",
   "execution_count": 85,
   "metadata": {},
   "outputs": [
    {
     "data": {
      "text/plain": [
       "360"
      ]
     },
     "execution_count": 85,
     "metadata": {},
     "output_type": "execute_result"
    }
   ],
   "source": [
    "hosp_dict[hosp]"
   ]
  },
  {
   "cell_type": "code",
   "execution_count": 86,
   "metadata": {},
   "outputs": [
    {
     "data": {
      "text/plain": [
       "182"
      ]
     },
     "execution_count": 86,
     "metadata": {},
     "output_type": "execute_result"
    }
   ],
   "source": [
    "sum(index_df.HOSP_NRD==hosp)"
   ]
  },
  {
   "cell_type": "code",
   "execution_count": 88,
   "metadata": {},
   "outputs": [],
   "source": [
    "hosp_array_index = np.repeat(hosp_dict[hosp], len(index_df))"
   ]
  },
  {
   "cell_type": "code",
   "execution_count": 91,
   "metadata": {},
   "outputs": [],
   "source": [
    "model.load_weights(model_path+'testing/inf_temp2.h5')"
   ]
  },
  {
   "cell_type": "code",
   "execution_count": 92,
   "metadata": {},
   "outputs": [
    {
     "name": "stdout",
     "output_type": "stream",
     "text": [
      "28090/28090 [==============================] - 1s 40us/step\n"
     ]
    }
   ],
   "source": [
    "y_pred_index2 = model.predict([DX1_array_index, DX_mat_index, PR_mat_index, hosp_array_index, other_mat_index], verbose=1)"
   ]
  },
  {
   "cell_type": "code",
   "execution_count": 93,
   "metadata": {},
   "outputs": [
    {
     "data": {
      "text/plain": [
       "<matplotlib.collections.PathCollection at 0x2b77996a9be0>"
      ]
     },
     "execution_count": 93,
     "metadata": {},
     "output_type": "execute_result"
    },
    {
     "data": {
      "image/png": "[encoded data removed]",
      "text/plain": [
       "<Figure size 432x288 with 1 Axes>"
      ]
     },
     "metadata": {},
     "output_type": "display_data"
    }
   ],
   "source": [
    "plt.scatter(y_pred_index1, y_pred_index2)"
   ]
  },
  {
   "cell_type": "code",
   "execution_count": 94,
   "metadata": {},
   "outputs": [
    {
     "data": {
      "text/plain": [
       "SpearmanrResult(correlation=0.9322984959310859, pvalue=0.0)"
      ]
     },
     "execution_count": 94,
     "metadata": {},
     "output_type": "execute_result"
    }
   ],
   "source": [
    "spearmanr(y_pred_index1, y_pred_index2)"
   ]
  },
  {
   "cell_type": "code",
   "execution_count": 48,
   "metadata": {
    "collapsed": true
   },
   "outputs": [
    {
     "name": "stdout",
     "output_type": "stream",
     "text": [
      "0\n",
      "1\n",
      "2\n",
      "3\n",
      "4\n",
      "5\n",
      "6\n",
      "7\n",
      "8\n",
      "9\n",
      "10\n",
      "11\n",
      "12\n",
      "13\n",
      "14\n",
      "15\n",
      "16\n",
      "17\n",
      "18\n",
      "19\n",
      "20\n",
      "21\n",
      "22\n",
      "23\n",
      "24\n",
      "25\n",
      "26\n",
      "27\n",
      "28\n",
      "29\n",
      "30\n",
      "31\n",
      "32\n",
      "33\n",
      "34\n",
      "35\n",
      "36\n",
      "37\n",
      "38\n",
      "39\n",
      "40\n",
      "41\n",
      "42\n",
      "43\n",
      "44\n",
      "45\n",
      "46\n",
      "47\n",
      "48\n",
      "49\n",
      "50\n",
      "51\n",
      "52\n",
      "53\n",
      "54\n",
      "55\n",
      "56\n",
      "57\n",
      "58\n",
      "59\n",
      "60\n",
      "61\n",
      "62\n",
      "63\n",
      "64\n",
      "65\n",
      "66\n",
      "67\n",
      "68\n",
      "69\n",
      "70\n",
      "71\n",
      "72\n",
      "73\n",
      "74\n",
      "75\n",
      "76\n",
      "77\n",
      "78\n",
      "79\n",
      "80\n",
      "81\n",
      "82\n",
      "83\n",
      "84\n",
      "85\n",
      "86\n",
      "87\n",
      "88\n",
      "89\n",
      "90\n",
      "91\n",
      "92\n",
      "93\n",
      "94\n",
      "95\n",
      "96\n",
      "97\n",
      "98\n",
      "99\n",
      "100\n",
      "101\n",
      "102\n",
      "103\n",
      "104\n",
      "105\n",
      "106\n",
      "107\n",
      "108\n",
      "109\n",
      "110\n",
      "111\n",
      "112\n",
      "113\n",
      "114\n",
      "115\n",
      "116\n",
      "117\n",
      "118\n",
      "119\n",
      "120\n",
      "121\n",
      "122\n",
      "123\n",
      "124\n",
      "125\n",
      "126\n",
      "127\n",
      "128\n",
      "129\n",
      "130\n",
      "131\n",
      "132\n",
      "133\n",
      "134\n",
      "135\n",
      "136\n",
      "137\n",
      "138\n",
      "139\n",
      "140\n",
      "141\n",
      "142\n",
      "143\n",
      "144\n",
      "145\n",
      "146\n",
      "147\n",
      "148\n",
      "149\n",
      "150\n",
      "151\n",
      "152\n",
      "153\n",
      "154\n",
      "155\n",
      "156\n",
      "157\n",
      "158\n",
      "159\n",
      "160\n",
      "161\n",
      "162\n",
      "163\n",
      "164\n",
      "165\n",
      "166\n",
      "167\n",
      "168\n",
      "169\n",
      "170\n",
      "171\n",
      "172\n",
      "173\n",
      "174\n",
      "175\n",
      "176\n",
      "177\n",
      "178\n",
      "179\n",
      "180\n",
      "181\n",
      "182\n",
      "183\n",
      "184\n",
      "185\n",
      "186\n",
      "187\n",
      "188\n",
      "189\n",
      "190\n",
      "191\n",
      "192\n",
      "193\n",
      "194\n",
      "195\n",
      "196\n",
      "197\n",
      "198\n",
      "199\n",
      "200\n",
      "201\n",
      "202\n",
      "203\n",
      "204\n",
      "205\n",
      "206\n",
      "207\n",
      "208\n",
      "209\n",
      "210\n",
      "211\n",
      "212\n",
      "213\n",
      "214\n",
      "215\n",
      "216\n",
      "217\n",
      "218\n",
      "219\n",
      "220\n",
      "221\n",
      "222\n",
      "223\n",
      "224\n",
      "225\n",
      "226\n",
      "227\n",
      "228\n",
      "229\n",
      "230\n",
      "231\n",
      "232\n",
      "233\n",
      "234\n",
      "235\n",
      "236\n",
      "237\n",
      "238\n",
      "239\n",
      "240\n",
      "241\n",
      "242\n",
      "243\n",
      "244\n",
      "245\n",
      "246\n",
      "247\n",
      "248\n",
      "249\n",
      "250\n",
      "251\n",
      "252\n",
      "253\n",
      "254\n",
      "255\n",
      "256\n",
      "257\n",
      "258\n",
      "259\n",
      "260\n",
      "261\n",
      "262\n",
      "263\n",
      "264\n",
      "265\n",
      "266\n",
      "267\n",
      "268\n",
      "269\n",
      "270\n",
      "271\n",
      "272\n",
      "273\n",
      "274\n",
      "275\n",
      "276\n",
      "277\n",
      "278\n",
      "279\n",
      "280\n",
      "281\n",
      "282\n",
      "283\n",
      "284\n",
      "285\n",
      "286\n",
      "287\n",
      "288\n",
      "289\n",
      "290\n",
      "291\n",
      "292\n",
      "293\n",
      "294\n",
      "295\n",
      "296\n",
      "297\n",
      "298\n",
      "299\n",
      "300\n",
      "301\n",
      "302\n",
      "303\n",
      "304\n",
      "305\n",
      "306\n",
      "307\n",
      "308\n",
      "309\n",
      "310\n",
      "311\n",
      "312\n",
      "313\n",
      "314\n",
      "315\n",
      "316\n",
      "317\n",
      "318\n",
      "319\n",
      "320\n",
      "321\n",
      "322\n",
      "323\n",
      "324\n",
      "325\n",
      "326\n",
      "327\n",
      "328\n",
      "329\n",
      "330\n",
      "331\n",
      "332\n",
      "333\n",
      "334\n",
      "335\n",
      "336\n",
      "337\n",
      "338\n",
      "339\n",
      "340\n",
      "341\n",
      "342\n",
      "343\n",
      "344\n",
      "345\n",
      "346\n",
      "347\n",
      "348\n",
      "349\n",
      "350\n",
      "351\n",
      "352\n",
      "353\n",
      "354\n",
      "355\n",
      "356\n",
      "357\n",
      "358\n",
      "359\n",
      "360\n",
      "361\n",
      "362\n",
      "363\n",
      "364\n",
      "365\n",
      "366\n",
      "367\n",
      "368\n",
      "369\n",
      "370\n",
      "371\n",
      "372\n",
      "373\n",
      "374\n",
      "375\n",
      "376\n",
      "377\n",
      "378\n",
      "379\n",
      "380\n",
      "381\n",
      "382\n",
      "383\n",
      "384\n",
      "385\n",
      "386\n",
      "387\n",
      "388\n",
      "389\n",
      "390\n",
      "391\n",
      "392\n",
      "393\n",
      "394\n",
      "395\n",
      "396\n",
      "397\n",
      "398\n",
      "399\n",
      "400\n",
      "401\n",
      "402\n",
      "403\n",
      "404\n",
      "405\n",
      "406\n",
      "407\n",
      "408\n",
      "409\n",
      "410\n",
      "411\n",
      "412\n",
      "413\n",
      "414\n",
      "415\n",
      "416\n",
      "417\n",
      "418\n",
      "419\n",
      "420\n",
      "421\n",
      "422\n",
      "423\n",
      "424\n",
      "425\n",
      "426\n",
      "427\n",
      "428\n",
      "429\n",
      "430\n",
      "431\n",
      "432\n",
      "433\n",
      "434\n",
      "435\n",
      "436\n",
      "437\n",
      "438\n",
      "439\n",
      "440\n",
      "441\n",
      "442\n",
      "443\n",
      "444\n",
      "445\n",
      "446\n",
      "447\n",
      "448\n",
      "449\n",
      "450\n",
      "451\n",
      "452\n",
      "453\n",
      "454\n",
      "455\n",
      "456\n",
      "457\n",
      "458\n",
      "459\n",
      "460\n",
      "461\n",
      "462\n",
      "463\n",
      "464\n",
      "465\n",
      "466\n",
      "467\n",
      "468\n",
      "469\n",
      "470\n",
      "471\n",
      "472\n",
      "473\n",
      "474\n",
      "475\n",
      "476\n",
      "477\n",
      "478\n",
      "479\n",
      "480\n",
      "481\n",
      "482\n",
      "483\n",
      "484\n",
      "485\n",
      "486\n",
      "487\n",
      "488\n",
      "489\n",
      "490\n",
      "491\n",
      "492\n",
      "493\n",
      "494\n",
      "495\n",
      "496\n",
      "497\n",
      "498\n",
      "499\n",
      "500\n",
      "501\n",
      "502\n",
      "503\n",
      "504\n",
      "505\n",
      "506\n",
      "507\n",
      "508\n",
      "509\n",
      "510\n",
      "511\n",
      "512\n",
      "513\n",
      "514\n",
      "515\n",
      "516\n",
      "517\n",
      "518\n",
      "519\n",
      "520\n",
      "521\n",
      "522\n",
      "523\n",
      "524\n",
      "525\n",
      "526\n",
      "527\n",
      "528\n",
      "529\n",
      "530\n",
      "531\n",
      "532\n",
      "533\n",
      "534\n",
      "535\n",
      "536\n",
      "537\n",
      "538\n",
      "539\n",
      "540\n",
      "541\n",
      "542\n",
      "543\n",
      "544\n",
      "545\n",
      "546\n",
      "547\n",
      "548\n",
      "549\n",
      "550\n",
      "551\n",
      "552\n",
      "553\n",
      "554\n",
      "555\n",
      "556\n",
      "557\n",
      "558\n",
      "559\n",
      "560\n",
      "561\n",
      "562\n",
      "563\n",
      "564\n",
      "565\n",
      "566\n",
      "567\n",
      "568\n",
      "569\n",
      "570\n",
      "571\n",
      "572\n",
      "573\n",
      "574\n",
      "575\n",
      "576\n",
      "577\n",
      "578\n",
      "579\n",
      "580\n",
      "581\n",
      "582\n",
      "583\n",
      "584\n",
      "585\n",
      "586\n",
      "587\n",
      "588\n",
      "589\n",
      "590\n",
      "591\n",
      "592\n",
      "593\n",
      "594\n",
      "595\n",
      "596\n",
      "597\n",
      "598\n",
      "599\n",
      "600\n",
      "601\n",
      "602\n",
      "603\n",
      "604\n",
      "605\n",
      "606\n",
      "607\n",
      "608\n",
      "609\n",
      "610\n",
      "611\n",
      "612\n",
      "613\n",
      "614\n",
      "615\n",
      "616\n",
      "617\n",
      "618\n",
      "619\n",
      "620\n",
      "621\n",
      "622\n",
      "623\n",
      "624\n",
      "625\n",
      "626\n",
      "627\n",
      "628\n",
      "629\n",
      "630\n",
      "631\n",
      "632\n",
      "633\n",
      "634\n",
      "635\n",
      "636\n",
      "637\n",
      "638\n",
      "639\n",
      "640\n",
      "641\n",
      "642\n",
      "643\n",
      "644\n",
      "645\n",
      "646\n",
      "647\n",
      "648\n",
      "649\n",
      "650\n",
      "651\n",
      "652\n",
      "653\n",
      "654\n",
      "655\n",
      "656\n",
      "657\n",
      "658\n",
      "659\n",
      "660\n",
      "661\n",
      "662\n",
      "663\n",
      "664\n",
      "665\n",
      "666\n",
      "667\n",
      "668\n",
      "669\n",
      "670\n",
      "671\n",
      "672\n",
      "673\n",
      "674\n",
      "675\n",
      "676\n",
      "677\n",
      "678\n",
      "679\n",
      "680\n",
      "681\n",
      "682\n",
      "683\n",
      "684\n",
      "685\n",
      "686\n",
      "687\n",
      "688\n",
      "689\n",
      "690\n",
      "691\n",
      "692\n",
      "693\n",
      "694\n",
      "695\n",
      "696\n",
      "697\n",
      "698\n",
      "699\n",
      "700\n",
      "701\n",
      "702\n",
      "703\n",
      "704\n",
      "705\n",
      "706\n",
      "707\n",
      "708\n",
      "709\n",
      "710\n",
      "711\n",
      "712\n",
      "713\n",
      "714\n",
      "715\n",
      "716\n",
      "717\n",
      "718\n",
      "719\n",
      "720\n",
      "721\n",
      "722\n",
      "723\n",
      "724\n",
      "725\n",
      "726\n",
      "727\n",
      "728\n",
      "729\n",
      "730\n",
      "731\n",
      "732\n",
      "733\n",
      "734\n",
      "735\n",
      "736\n",
      "737\n",
      "738\n",
      "739\n",
      "740\n",
      "741\n",
      "742\n",
      "743\n",
      "744\n",
      "745\n",
      "746\n",
      "747\n",
      "748\n",
      "749\n",
      "750\n",
      "751\n",
      "752\n",
      "753\n",
      "754\n",
      "755\n",
      "756\n",
      "757\n",
      "758\n",
      "759\n",
      "760\n",
      "761\n",
      "762\n",
      "763\n",
      "764\n",
      "765\n",
      "766\n",
      "767\n",
      "768\n",
      "769\n",
      "770\n",
      "771\n",
      "772\n",
      "773\n",
      "774\n",
      "775\n",
      "776\n",
      "777\n",
      "778\n",
      "779\n",
      "780\n",
      "781\n",
      "782\n",
      "783\n",
      "784\n",
      "785\n",
      "786\n",
      "787\n",
      "788\n",
      "789\n",
      "790\n",
      "791\n",
      "792\n",
      "793\n",
      "794\n",
      "795\n",
      "796\n",
      "797\n",
      "798\n",
      "799\n",
      "800\n",
      "801\n",
      "802\n",
      "803\n",
      "804\n",
      "805\n",
      "806\n",
      "807\n",
      "808\n",
      "809\n",
      "810\n",
      "811\n",
      "812\n",
      "813\n",
      "814\n",
      "815\n",
      "816\n",
      "817\n",
      "818\n",
      "819\n",
      "820\n",
      "821\n",
      "822\n",
      "823\n",
      "824\n",
      "825\n",
      "826\n",
      "827\n",
      "828\n",
      "829\n",
      "830\n",
      "831\n",
      "832\n",
      "833\n",
      "834\n",
      "835\n",
      "836\n",
      "837\n",
      "838\n",
      "839\n",
      "840\n",
      "841\n",
      "842\n",
      "843\n",
      "844\n",
      "845\n",
      "846\n",
      "847\n",
      "848\n",
      "849\n",
      "850\n",
      "851\n",
      "852\n",
      "853\n",
      "854\n",
      "855\n",
      "856\n",
      "857\n",
      "858\n",
      "859\n",
      "860\n",
      "861\n",
      "862\n",
      "863\n",
      "864\n",
      "865\n",
      "866\n",
      "867\n",
      "868\n",
      "869\n",
      "870\n",
      "871\n",
      "872\n",
      "873\n"
     ]
    }
   ],
   "source": [
    "recycle_pred = np.zeros((len(hosp_cat), ))\n",
    "for i, hosp in enumerate(hosp_cat):\n",
    "    hosp_array_index = np.repeat(hosp_dict[hosp], len(index_df))\n",
    "    y_pred_index = model.predict([DX1_array_index, DX_mat_index, PR_mat_index, hosp_array_index, other_mat_index], verbose=0)\n",
    "    recycle_pred[i] = y_pred_index.mean()\n",
    "    print(i)"
   ]
  },
  {
   "cell_type": "code",
   "execution_count": 49,
   "metadata": {},
   "outputs": [],
   "source": [
    "recycle_pred1 = recycle_pred.copy()"
   ]
  },
  {
   "cell_type": "code",
   "execution_count": 50,
   "metadata": {},
   "outputs": [
    {
     "data": {
      "text/plain": [
       "<matplotlib.collections.PathCollection at 0x2b77987c64a8>"
      ]
     },
     "execution_count": 50,
     "metadata": {},
     "output_type": "execute_result"
    },
    {
     "data": {
      "image/png": "[encoded data removed]",
      "text/plain": [
       "<Figure size 432x288 with 1 Axes>"
      ]
     },
     "metadata": {},
     "output_type": "display_data"
    }
   ],
   "source": [
    "plt.scatter(recycle_pred1, recycle_pred2)"
   ]
  },
  {
   "cell_type": "code",
   "execution_count": 51,
   "metadata": {},
   "outputs": [
    {
     "data": {
      "text/plain": [
       "SpearmanrResult(correlation=0.043557832276792385, pvalue=0.19827236196341336)"
      ]
     },
     "execution_count": 51,
     "metadata": {},
     "output_type": "execute_result"
    }
   ],
   "source": [
    "spearmanr(recycle_pred1, recycle_pred2)"
   ]
  }
 ],
 "metadata": {
  "kernelspec": {
   "display_name": "Python 3",
   "language": "python",
   "name": "python3"
  },
  "language_info": {
   "codemirror_mode": {
    "name": "ipython",
    "version": 3
   },
   "file_extension": ".py",
   "mimetype": "text/x-python",
   "name": "python",
   "nbconvert_exporter": "python",
   "pygments_lexer": "ipython3",
   "version": "3.5.4"
  }
 },
 "nbformat": 4,
 "nbformat_minor": 2
}

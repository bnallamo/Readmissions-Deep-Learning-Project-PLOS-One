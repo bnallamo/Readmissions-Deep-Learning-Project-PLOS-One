{
 "cells": [
  {
   "cell_type": "markdown",
   "metadata": {},
   "source": [
    "# Risk Adjustment\n",
    "In this notebook we risk adjusted readmission rate for each hospital. "
   ]
  },
  {
   "cell_type": "code",
   "execution_count": 1,
   "metadata": {},
   "outputs": [],
   "source": [
    "import pandas as pd\n",
    "import numpy as np\n",
    "import matplotlib.pyplot as plt\n",
    "#import statsmodels.api as sm\n",
    "from sklearn.model_selection import train_test_split, StratifiedKFold, GroupShuffleSplit\n",
    "from sklearn.metrics import roc_curve, auc\n",
    "import os, sys, time\n",
    "from importlib import reload\n",
    "%matplotlib inline"
   ]
  },
  {
   "cell_type": "code",
   "execution_count": 2,
   "metadata": {},
   "outputs": [],
   "source": [
    "path = '/nfs/turbo/umms-awaljee/wsliu/Data/NRD/'"
   ]
  },
  {
   "cell_type": "code",
   "execution_count": 3,
   "metadata": {},
   "outputs": [],
   "source": [
    "model_path = path + 'models/'\n",
    "if not os.path.exists(model_path): os.mkdir(model_path)"
   ]
  },
  {
   "cell_type": "code",
   "execution_count": null,
   "metadata": {},
   "outputs": [
    {
     "name": "stderr",
     "output_type": "stream",
     "text": [
      "Using TensorFlow backend.\n"
     ]
    }
   ],
   "source": [
    "from keras.layers import Input, Embedding, Concatenate, Reshape, BatchNormalization, LSTM, CuDNNLSTM, CuDNNGRU, Lambda\n",
    "from keras.models import Model\n",
    "from keras.layers.core import Dense, Activation, Dropout, RepeatVector\n",
    "from keras.callbacks import ModelCheckpoint, ReduceLROnPlateau, EarlyStopping\n",
    "from keras.utils import to_categorical\n",
    "from keras.optimizers import Adam\n",
    "from keras.initializers import Constant\n",
    "import keras.backend as K\n",
    "\n",
    "module_path = os.path.abspath(os.path.join('..'))\n",
    "if module_path not in sys.path:\n",
    "    sys.path.append(module_path)\n",
    "from DL_utils import plot_roc\n",
    "from keras_addon import AUCCheckPoint\n",
    "from utils import get_frequency, preprocess"
   ]
  },
  {
   "cell_type": "code",
   "execution_count": null,
   "metadata": {
    "scrolled": true
   },
   "outputs": [],
   "source": [
    "from ccs_tools import dx_multi, pr_multi, core_dtypes_pd"
   ]
  },
  {
   "cell_type": "code",
   "execution_count": 49,
   "metadata": {},
   "outputs": [],
   "source": [
    "ccs_levels = dx_multi.copy()"
   ]
  },
  {
   "cell_type": "code",
   "execution_count": 50,
   "metadata": {},
   "outputs": [],
   "source": [
    "ccs_levels = ccs_levels.assign(ccs_lvl1=[ccs_levels.loc[dx, 'CCS_LVL1'] + ' ' + ccs_levels.loc[dx, 'CCS_LVL1_LABEL'] for dx in ccs_levels.index])\n",
    "ccs_levels = ccs_levels.assign(ccs_lvl2=[ccs_levels.loc[dx, 'CCS_LVL2'] + ' ' + ccs_levels.loc[dx, 'CCS_LVL2_LABEL'] for dx in ccs_levels.index])\n",
    "ccs_levels = ccs_levels.assign(ccs_lvl3=[ccs_levels.loc[dx, 'CCS_LVL3'] + ' ' + ccs_levels.loc[dx, 'CCS_LVL3_LABEL'] for dx in ccs_levels.index])"
   ]
  },
  {
   "cell_type": "code",
   "execution_count": 51,
   "metadata": {},
   "outputs": [
    {
     "data": {
      "text/plain": [
       "1 Infectious and parasitic diseases                                                     1226\n",
       "10 Diseases of the genitourinary system                                                  498\n",
       "11 Complications of pregnancy; childbirth; and the puerperium                           1205\n",
       "12 Diseases of the skin and subcutaneous tissue                                          190\n",
       "13 Diseases of the musculoskeletal system and connective tissue                          863\n",
       "14 Congenital anomalies                                                                  444\n",
       "15 Certain conditions originating in the perinatal period                                351\n",
       "16 Injury and poisoning                                                                 2764\n",
       "17 Symptoms; signs; and ill-defined conditions and factors influencing health status     403\n",
       "18 Residual codes; unclassified; all E codes [259. and 260.]                            1589\n",
       "2 Neoplasms                                                                             1114\n",
       "3 Endocrine; nutritional; and metabolic diseases and immunity disorders                  445\n",
       "4 Diseases of the blood and blood-forming organs                                         134\n",
       "5 Mental Illness                                                                         597\n",
       "5 Mental illness                                                                          10\n",
       "6 Diseases of the nervous system and sense organs                                       1587\n",
       "7 Diseases of the circulatory system                                                     553\n",
       "8 Diseases of the respiratory system                                                     342\n",
       "9 Diseases of the digestive system                                                       757\n",
       "Name: ccs_lvl1, dtype: int64"
      ]
     },
     "execution_count": 51,
     "metadata": {},
     "output_type": "execute_result"
    }
   ],
   "source": [
    "ccs_levels.ccs_lvl1.value_counts().sort_index()"
   ]
  },
  {
   "cell_type": "code",
   "execution_count": 52,
   "metadata": {},
   "outputs": [
    {
     "data": {
      "text/plain": [
       "7.1 Hypertension                                          40\n",
       "7.2 Diseases of the heart                                239\n",
       "7.3 Cerebrovascular disease                               82\n",
       "7.4 Diseases of arteries; arterioles; and capillaries    112\n",
       "7.5 Diseases of veins and lymphatics                      80\n",
       "Name: ccs_lvl2, dtype: int64"
      ]
     },
     "execution_count": 52,
     "metadata": {},
     "output_type": "execute_result"
    }
   ],
   "source": [
    "ccs_levels.loc[ccs_levels.CCS_LVL1=='7', 'ccs_lvl2'].value_counts().sort_index()"
   ]
  },
  {
   "cell_type": "code",
   "execution_count": 53,
   "metadata": {},
   "outputs": [
    {
     "data": {
      "text/plain": [
       "7.2.1 Heart valve disorders [96.]                                                              28\n",
       "7.2.10 Cardiac arrest and ventricular fibrillation [107.]                                       3\n",
       "7.2.11 Congestive heart failure; nonhypertensive [108.]                                        16\n",
       "7.2.2 Peri-; endo-; and myocarditis; cardiomyopathy (except that caused by TB or STD) [97.]    57\n",
       "7.2.3 Acute myocardial infarction [100.]                                                       40\n",
       "7.2.4 Coronary atherosclerosis and other heart disease [101.]                                  20\n",
       "7.2.5 Nonspecific chest pain [102.]                                                             3\n",
       "7.2.6 Pulmonary heart disease [103.]                                                           15\n",
       "7.2.7 Other and ill-defined heart disease [104.]                                               16\n",
       "7.2.8 Conduction disorders [105.]                                                              28\n",
       "7.2.9 Cardiac dysrhythmias [106.]                                                              13\n",
       "Name: ccs_lvl3, dtype: int64"
      ]
     },
     "execution_count": 53,
     "metadata": {},
     "output_type": "execute_result"
    }
   ],
   "source": [
    "ccs_levels.loc[ccs_levels.CCS_LVL2=='7.2', 'ccs_lvl3'].value_counts().sort_index()"
   ]
  },
  {
   "cell_type": "code",
   "execution_count": 62,
   "metadata": {},
   "outputs": [
    {
     "data": {
      "text/plain": [
       "8.1 Respiratory infections                                             128\n",
       "8.2 Chronic obstructive pulmonary disease and bronchiectasis [127.]     15\n",
       "8.3 Asthma [128.]                                                       14\n",
       "8.4 Aspiration pneumonitis; food/vomitus [129.]                          1\n",
       "8.5 Pleurisy; pneumothorax; pulmonary collapse [130.]                   17\n",
       "8.6 Respiratory failure; insufficiency; arrest (adult) [131.]           16\n",
       "8.7 Lung disease due to external agents [132.]                          29\n",
       "8.8 Other lower respiratory disease [133.]                              62\n",
       "8.9 Other upper respiratory disease [134.]                              60\n",
       "Name: ccs_lvl2, dtype: int64"
      ]
     },
     "execution_count": 62,
     "metadata": {},
     "output_type": "execute_result"
    }
   ],
   "source": [
    "ccs_levels.loc[ccs_levels.CCS_LVL1=='8', 'ccs_lvl2'].value_counts().sort_index()"
   ]
  },
  {
   "cell_type": "code",
   "execution_count": 61,
   "metadata": {},
   "outputs": [
    {
     "data": {
      "text/plain": [
       "8.1.1 Pneumonia (except that caused by TB or STD) [122.]    62\n",
       "8.1.2 Influenza [123.]                                      15\n",
       "8.1.3 Acute and chronic tonsillitis [124.]                  12\n",
       "8.1.4 Acute bronchitis [125.]                                4\n",
       "8.1.5 Other upper respiratory infections [126.]             35\n",
       "Name: ccs_lvl3, dtype: int64"
      ]
     },
     "execution_count": 61,
     "metadata": {},
     "output_type": "execute_result"
    }
   ],
   "source": [
    "ccs_levels.loc[ccs_levels.CCS_LVL2=='8.1', 'ccs_lvl3'].value_counts().sort_index()"
   ]
  },
  {
   "cell_type": "code",
   "execution_count": 66,
   "metadata": {},
   "outputs": [
    {
     "data": {
      "text/plain": [
       "ICD9CM_CODE                                                       486\n",
       "CCS_LVL1                                                            8\n",
       "CCS_LVL1_LABEL                     Diseases of the respiratory system\n",
       "CCS_LVL2                                                          8.1\n",
       "CCS_LVL2_LABEL                                 Respiratory infections\n",
       "CCS_LVL3                                                        8.1.1\n",
       "CCS_LVL3_LABEL      Pneumonia (except that caused by TB or STD) [1...\n",
       "CCS_LVL4                                                      8.1.1.3\n",
       "CCS_LVL4_LABEL                        Pneumonia; organism unspecified\n",
       "finest_non_empty                                              8.1.1.3\n",
       "ccs_lvl1                         8 Diseases of the respiratory system\n",
       "ccs_lvl2                                   8.1 Respiratory infections\n",
       "ccs_lvl3            8.1.1 Pneumonia (except that caused by TB or S...\n",
       "Name: 486, dtype: object"
      ]
     },
     "execution_count": 66,
     "metadata": {},
     "output_type": "execute_result"
    }
   ],
   "source": [
    "ccs_levels.loc['486']"
   ]
  },
  {
   "cell_type": "markdown",
   "metadata": {},
   "source": [
    "## Risk Adjustment for HLR"
   ]
  },
  {
   "cell_type": "code",
   "execution_count": 6,
   "metadata": {},
   "outputs": [],
   "source": [
    "cohort = 'ami'\n",
    "tst_seed = 0"
   ]
  },
  {
   "cell_type": "code",
   "execution_count": 27,
   "metadata": {},
   "outputs": [],
   "source": [
    "adjusted_ME = pd.read_csv(path+'cohorts20/'+cohort+'/adjusted_ME.csv')\n",
    "recycled_ME = pd.read_csv(path+'cohorts20/'+cohort+'/recycled_ME.csv')"
   ]
  },
  {
   "cell_type": "code",
   "execution_count": 25,
   "metadata": {},
   "outputs": [],
   "source": [
    "recycled_DL = pd.DataFrame(dict(HOSP_NRD=adjusted_ME.HOSP_NRD))\n",
    "for tst_seed in range(10):\n",
    "    recyc_DL = pd.read_csv(path+'cohorts30/{}/recyc_pred_ms_tst{}_1.00.csv'.format(cohort, tst_seed))\n",
    "    recyc_DL.columns = ['HOSP_NRD', 'Recycled_DL'+str(tst_seed)]\n",
    "    recycled_DL = pd.merge(recycled_DL, recyc_DL, on='HOSP_NRD')"
   ]
  },
  {
   "cell_type": "code",
   "execution_count": 28,
   "metadata": {},
   "outputs": [],
   "source": [
    "recycled_DL = pd.DataFrame(dict(HOSP_NRD=adjusted_ME.HOSP_NRD))\n",
    "for tst_seed in range(10):\n",
    "    recyc_DL = pd.read_csv(path+'cohorts20/{}/recyc_pred_ms_notest_index{}_1.00.csv'.format(cohort, tst_seed))\n",
    "    recyc_DL.columns = ['HOSP_NRD', 'Recycled_DL'+str(tst_seed)]\n",
    "    recycled_DL = pd.merge(recycled_DL, recyc_DL, on='HOSP_NRD')"
   ]
  },
  {
   "cell_type": "code",
   "execution_count": 20,
   "metadata": {},
   "outputs": [],
   "source": [
    "recycled_DL = pd.DataFrame(dict(HOSP_NRD=adjusted_ME.HOSP_NRD))\n",
    "for tst_seed in list(range(5))+list(range(6, 10)):\n",
    "    recyc_DL = pd.read_csv(path+'cohorts20/{}/recyc_pred_ms_notest_index{}_1.00.csv'.format(cohort, tst_seed))\n",
    "    recyc_DL.columns = ['HOSP_NRD', 'Recycled_DL'+str(tst_seed)]\n",
    "    recycled_DL = pd.merge(recycled_DL, recyc_DL, on='HOSP_NRD')"
   ]
  },
  {
   "cell_type": "code",
   "execution_count": 21,
   "metadata": {},
   "outputs": [],
   "source": [
    "recycled_DL = recycled_DL.assign(Recycled_DL=recycled_DL[['Recycled_DL'+str(tst_seed) for tst_seed in list(range(5))+list(range(6, 10))]].mean(axis=1))"
   ]
  },
  {
   "cell_type": "code",
   "execution_count": 30,
   "metadata": {},
   "outputs": [],
   "source": [
    "recycled_DL = recycled_DL.assign(Recycled_DL=recycled_DL[['Recycled_DL'+str(tst_seed) for tst_seed in range(10)]].mean(axis=1))"
   ]
  },
  {
   "cell_type": "code",
   "execution_count": 31,
   "metadata": {},
   "outputs": [],
   "source": [
    "compare = pd.merge(adjusted_ME, recycled_ME, on='HOSP_NRD')\n",
    "compare = pd.merge(compare, recycled_DL, on='HOSP_NRD')"
   ]
  },
  {
   "cell_type": "code",
   "execution_count": 4,
   "metadata": {},
   "outputs": [],
   "source": [
    "cohort = 'ami'\n",
    "tst_seed = 0\n",
    "folder = 'multi_space_glove/'\n",
    "hosp_cutoff = 10"
   ]
  },
  {
   "cell_type": "code",
   "execution_count": 8,
   "metadata": {},
   "outputs": [],
   "source": [
    "adjusted_ME = pd.read_csv(path+folder+'cohorts{}/{}/adjusted_ME{}.csv'.format(hosp_cutoff, cohort, tst_seed))\n",
    "recycled_ME = pd.read_csv(path+folder+'cohorts{}/{}/recycled_ME_tst{}.csv'.format(hosp_cutoff, cohort, tst_seed))\n",
    "recycled_DL = pd.read_csv(path+folder+'cohorts{}/{}/recyc_pred_tst{}_1.00.csv'.format(hosp_cutoff, cohort, tst_seed))"
   ]
  },
  {
   "cell_type": "code",
   "execution_count": 16,
   "metadata": {},
   "outputs": [],
   "source": [
    "adjusted_ME = pd.read_csv(path+folder+'cohorts{}/{}/adjusted_ME{}.csv'.format(hosp_cutoff, cohort, 0))\n",
    "adjusted_ME = adjusted_ME[['HOSP_NRD', 'Adjusted_ME']]\n",
    "adjusted_ME = adjusted_ME.sort_values('Adjusted_ME')\n",
    "adjusted_ME = adjusted_ME.assign(Rank_adj_ME=range(len(adjusted_ME)))\n",
    "adjusted_ME.columns = ['HOSP_NRD', 'Adjusted_ME0', 'Rank_adj_ME0']\n",
    "for tst_seed in range(1, 10):\n",
    "    adjusted = pd.read_csv(path+folder+'cohorts{}/{}/adjusted_ME{}.csv'.format(hosp_cutoff, cohort, tst_seed))\n",
    "    adjusted = adjusted[['HOSP_NRD', 'Adjusted_ME']]\n",
    "    adjusted = adjusted.sort_values('Adjusted_ME')\n",
    "    adjusted = adjusted.assign(Rank_adj_ME=range(len(adjusted)))\n",
    "    adjusted.columns = ['HOSP_NRD', 'Adjusted_ME'+str(tst_seed), 'Rank_adj_ME'+str(tst_seed)]\n",
    "    adjusted_ME = pd.merge(adjusted_ME, adjusted, on='HOSP_NRD')\n",
    "\n",
    "adjusted_ME = adjusted_ME.assign(Adjusted_ME_avg=adjusted_ME[['Adjusted_ME{}'.format(j) for j in range(10)]].mean(axis=1))\n",
    "adjusted_ME = adjusted_ME.assign(Avg_rank_adj_ME=adjusted_ME[['Rank_adj_ME{}'.format(j) for j in range(10)]].mean(axis=1))"
   ]
  },
  {
   "cell_type": "code",
   "execution_count": 17,
   "metadata": {},
   "outputs": [],
   "source": [
    "adjusted_ME = adjusted_ME.sort_values('Adjusted_ME_avg')\n",
    "adjusted_ME = adjusted_ME.assign(Rank_avg_adj_ME = range(len(adjusted_ME)))"
   ]
  },
  {
   "cell_type": "code",
   "execution_count": 18,
   "metadata": {},
   "outputs": [
    {
     "data": {
      "text/plain": [
       "<matplotlib.axes._subplots.AxesSubplot at 0x2b5ba23e45c0>"
      ]
     },
     "execution_count": 18,
     "metadata": {},
     "output_type": "execute_result"
    },
    {
     "data": {
      "image/png": "[encoded data removed]",
      "text/plain": [
       "<Figure size 432x288 with 1 Axes>"
      ]
     },
     "metadata": {},
     "output_type": "display_data"
    }
   ],
   "source": [
    "adjusted_ME.plot.scatter('Avg_rank_adj_ME', 'Rank_avg_adj_ME')"
   ]
  },
  {
   "cell_type": "code",
   "execution_count": 12,
   "metadata": {},
   "outputs": [],
   "source": [
    "recycled_ME = pd.read_csv(path+folder+'cohorts{}/{}/recycled_ME_tst{}.csv'.format(hosp_cutoff, cohort, 0))\n",
    "recycled_ME = recycled_ME[['HOSP_NRD', 'Recycled_ME']]\n",
    "recycled_ME.columns = ['HOSP_NRD', 'Recycled_ME0']\n",
    "for tst_seed in range(1, 10):\n",
    "    recycled = pd.read_csv(path+folder+'cohorts{}/{}/recycled_ME_tst{}.csv'.format(hosp_cutoff, cohort, tst_seed))\n",
    "    recycled = recycled[['HOSP_NRD', 'Recycled_ME']]\n",
    "    recycled.columns = ['HOSP_NRD', 'Recycled_ME'+str(tst_seed)]\n",
    "    recycled_ME = pd.merge(recycled_ME, recycled, on='HOSP_NRD')\n",
    "\n",
    "recycled_ME = recycled_ME.assign(Recycled_ME=recycled_ME[['Recycled_ME{}'.format(j) for j in range(10)]].mean(axis=1))"
   ]
  },
  {
   "cell_type": "code",
   "execution_count": 20,
   "metadata": {},
   "outputs": [],
   "source": [
    "recycled_DL = pd.read_csv(path+folder+'cohorts{}/{}/recyc_pred_tst{}_1.00.csv'.format(hosp_cutoff, cohort, 0))\n",
    "recycled_DL = recycled_DL.assign(Recycled_DL=recycled_DL[['recyc_pred'+str(j) for j in range(9)]].mean(axis=1))\n",
    "recycled_DL = recycled_DL[['HOSP_NRD', 'Recycled_DL']]\n",
    "recycled_DL = recycled_DL.sort_values('Recycled_DL')\n",
    "recycled_DL = recycled_DL.assign(Rank_rec_DL=range(len(recycled_DL)))\n",
    "recycled_DL.columns = ['HOSP_NRD', 'Recycled_DL0', 'Rank_rec_DL0']\n",
    "for tst_seed in range(1, 10):\n",
    "    recycled = pd.read_csv(path+folder+'cohorts{}/{}/recyc_pred_tst{}_1.00.csv'.format(hosp_cutoff, cohort, tst_seed))\n",
    "    recycled = recycled.assign(Recycled_DL=recycled[['recyc_pred'+str(j) for j in range(9)]].mean(axis=1))\n",
    "    recycled = recycled[['HOSP_NRD', 'Recycled_DL']]\n",
    "    recycled = recycled.sort_values('Recycled_DL')\n",
    "    recycled = recycled.assign(Rank_rec_DL=range(len(recycled)))\n",
    "    recycled.columns = ['HOSP_NRD', 'Recycled_DL'+str(tst_seed), 'Rank_rec_DL'+str(tst_seed)]\n",
    "    recycled_DL = pd.merge(recycled_DL, recycled, on='HOSP_NRD')\n",
    "\n",
    "recycled_DL = recycled_DL.assign(Recycled_DL_avg=recycled_DL[['Recycled_DL{}'.format(j) for j in range(10)]].mean(axis=1))\n",
    "recycled_DL = recycled_DL.assign(Avg_rank_rec_DL=recycled_DL[['Rank_rec_DL{}'.format(j) for j in range(10)]].mean(axis=1))"
   ]
  },
  {
   "cell_type": "code",
   "execution_count": 21,
   "metadata": {},
   "outputs": [],
   "source": [
    "recycled_DL = recycled_DL.sort_values('Recycled_DL_avg')\n",
    "recycled_DL = recycled_DL.assign(Rank_avg_rec_DL = range(len(recycled_DL)))"
   ]
  },
  {
   "cell_type": "code",
   "execution_count": 23,
   "metadata": {},
   "outputs": [
    {
     "data": {
      "text/plain": [
       "<matplotlib.axes._subplots.AxesSubplot at 0x2b5ba4408898>"
      ]
     },
     "execution_count": 23,
     "metadata": {},
     "output_type": "execute_result"
    },
    {
     "data": {
      "image/png": "[encoded data removed]",
      "text/plain": [
       "<Figure size 432x288 with 1 Axes>"
      ]
     },
     "metadata": {},
     "output_type": "display_data"
    }
   ],
   "source": [
    "recycled_DL.plot.scatter('Avg_rank_rec_DL', 'Rank_avg_rec_DL')"
   ]
  },
  {
   "cell_type": "code",
   "execution_count": 26,
   "metadata": {},
   "outputs": [],
   "source": [
    "diff = recycled_DL.Avg_rank_rec_DL - recycled_DL.Rank_avg_rec_DL"
   ]
  },
  {
   "cell_type": "code",
   "execution_count": 28,
   "metadata": {},
   "outputs": [
    {
     "data": {
      "text/plain": [
       "<matplotlib.axes._subplots.AxesSubplot at 0x2b5ba481e518>"
      ]
     },
     "execution_count": 28,
     "metadata": {},
     "output_type": "execute_result"
    },
    {
     "data": {
      "image/png": "[encoded data removed]",
      "text/plain": [
       "<Figure size 432x288 with 1 Axes>"
      ]
     },
     "metadata": {},
     "output_type": "display_data"
    }
   ],
   "source": [
    "diff.hist()"
   ]
  },
  {
   "cell_type": "code",
   "execution_count": 29,
   "metadata": {},
   "outputs": [
    {
     "data": {
      "text/plain": [
       "0.044722719141323794"
      ]
     },
     "execution_count": 29,
     "metadata": {},
     "output_type": "execute_result"
    }
   ],
   "source": [
    "50/len(recycled_DL)"
   ]
  },
  {
   "cell_type": "code",
   "execution_count": 13,
   "metadata": {},
   "outputs": [],
   "source": [
    "compare = pd.merge(adjusted_ME, recycled_ME, on='HOSP_NRD')\n",
    "compare = pd.merge(compare, recycled_DL, on='HOSP_NRD')\n",
    "#compare = compare.assign(Recycled_DL=compare[['recyc_pred'+str(j) for j in range(9)]].mean(axis=1))"
   ]
  },
  {
   "cell_type": "code",
   "execution_count": 49,
   "metadata": {},
   "outputs": [
    {
     "data": {
      "text/plain": [
       "<matplotlib.axes._subplots.AxesSubplot at 0x2b06c442eb00>"
      ]
     },
     "execution_count": 49,
     "metadata": {},
     "output_type": "execute_result"
    },
    {
     "data": {
      "image/png": "[encoded data removed]",
      "text/plain": [
       "<Figure size 432x288 with 1 Axes>"
      ]
     },
     "metadata": {},
     "output_type": "display_data"
    }
   ],
   "source": [
    "compare.plot.scatter('Adjusted_ME', 'Recycled_DL')"
   ]
  },
  {
   "cell_type": "code",
   "execution_count": 14,
   "metadata": {},
   "outputs": [
    {
     "data": {
      "text/plain": [
       "<matplotlib.axes._subplots.AxesSubplot at 0x2b63f539eef0>"
      ]
     },
     "execution_count": 14,
     "metadata": {},
     "output_type": "execute_result"
    },
    {
     "data": {
      "image/png": "[encoded data removed]",
      "text/plain": [
       "<Figure size 432x288 with 1 Axes>"
      ]
     },
     "metadata": {},
     "output_type": "display_data"
    }
   ],
   "source": [
    "compare.plot.scatter('Adjusted_ME', 'Recycled_ME')"
   ]
  },
  {
   "cell_type": "code",
   "execution_count": 50,
   "metadata": {},
   "outputs": [],
   "source": [
    "compare[['HOSP_NRD', 'Adjusted_ME', 'Recycled_ME', 'Recycled_DL']].to_csv(\n",
    "    path+folder+'cohorts{}/{}/risk_adjust_compare_tst.csv'.format(hosp_cutoff, cohort), index=False)"
   ]
  },
  {
   "cell_type": "code",
   "execution_count": 51,
   "metadata": {},
   "outputs": [
    {
     "data": {
      "text/plain": [
       "<matplotlib.legend.Legend at 0x2b06c4479710>"
      ]
     },
     "execution_count": 51,
     "metadata": {},
     "output_type": "execute_result"
    },
    {
     "data": {
      "image/png": "[encoded data removed]",
      "text/plain": [
       "<Figure size 432x288 with 1 Axes>"
      ]
     },
     "metadata": {},
     "output_type": "display_data"
    }
   ],
   "source": [
    "plt.hist(compare.Adjusted_ME.values, alpha=0.5, label='Adjusted_ME')\n",
    "plt.hist(compare.Recycled_DL.values, alpha=0.5, label='Recycled_DL')\n",
    "plt.legend()"
   ]
  },
  {
   "cell_type": "code",
   "execution_count": 52,
   "metadata": {
    "scrolled": true
   },
   "outputs": [
    {
     "data": {
      "text/html": [
       "<div>\n",
       "<style scoped>\n",
       "    .dataframe tbody tr th:only-of-type {\n",
       "        vertical-align: middle;\n",
       "    }\n",
       "\n",
       "    .dataframe tbody tr th {\n",
       "        vertical-align: top;\n",
       "    }\n",
       "\n",
       "    .dataframe thead th {\n",
       "        text-align: right;\n",
       "    }\n",
       "</style>\n",
       "<table border=\"1\" class=\"dataframe\">\n",
       "  <thead>\n",
       "    <tr style=\"text-align: right;\">\n",
       "      <th></th>\n",
       "      <th>count</th>\n",
       "      <th>mean</th>\n",
       "      <th>std</th>\n",
       "      <th>min</th>\n",
       "      <th>25%</th>\n",
       "      <th>50%</th>\n",
       "      <th>75%</th>\n",
       "      <th>max</th>\n",
       "      <th>IQR</th>\n",
       "    </tr>\n",
       "  </thead>\n",
       "  <tbody>\n",
       "    <tr>\n",
       "      <th>Adjusted_ME</th>\n",
       "      <td>1919.0</td>\n",
       "      <td>0.143661</td>\n",
       "      <td>0.011946</td>\n",
       "      <td>0.105962</td>\n",
       "      <td>0.136106</td>\n",
       "      <td>0.142105</td>\n",
       "      <td>0.150074</td>\n",
       "      <td>0.202432</td>\n",
       "      <td>0.013968</td>\n",
       "    </tr>\n",
       "    <tr>\n",
       "      <th>Recycled_ME</th>\n",
       "      <td>1919.0</td>\n",
       "      <td>0.140358</td>\n",
       "      <td>0.011607</td>\n",
       "      <td>0.103089</td>\n",
       "      <td>0.133140</td>\n",
       "      <td>0.138891</td>\n",
       "      <td>0.146576</td>\n",
       "      <td>0.195531</td>\n",
       "      <td>0.013436</td>\n",
       "    </tr>\n",
       "    <tr>\n",
       "      <th>Recycled_DL</th>\n",
       "      <td>1919.0</td>\n",
       "      <td>0.140215</td>\n",
       "      <td>0.015232</td>\n",
       "      <td>0.086314</td>\n",
       "      <td>0.130732</td>\n",
       "      <td>0.141047</td>\n",
       "      <td>0.150475</td>\n",
       "      <td>0.191631</td>\n",
       "      <td>0.019744</td>\n",
       "    </tr>\n",
       "  </tbody>\n",
       "</table>\n",
       "</div>"
      ],
      "text/plain": [
       "              count      mean       std       min       25%       50%  \\\n",
       "Adjusted_ME  1919.0  0.143661  0.011946  0.105962  0.136106  0.142105   \n",
       "Recycled_ME  1919.0  0.140358  0.011607  0.103089  0.133140  0.138891   \n",
       "Recycled_DL  1919.0  0.140215  0.015232  0.086314  0.130732  0.141047   \n",
       "\n",
       "                  75%       max       IQR  \n",
       "Adjusted_ME  0.150074  0.202432  0.013968  \n",
       "Recycled_ME  0.146576  0.195531  0.013436  \n",
       "Recycled_DL  0.150475  0.191631  0.019744  "
      ]
     },
     "execution_count": 52,
     "metadata": {},
     "output_type": "execute_result"
    }
   ],
   "source": [
    "description = compare[['Adjusted_ME', 'Recycled_ME', 'Recycled_DL']].describe().transpose()\n",
    "\n",
    "description.assign(IQR=description['75%']-description['25%'])"
   ]
  },
  {
   "cell_type": "code",
   "execution_count": 53,
   "metadata": {},
   "outputs": [],
   "source": [
    "compare = pd.read_csv(path+'cohorts30/{}/risk_adjust_compare.csv'.format(cohort))"
   ]
  },
  {
   "cell_type": "code",
   "execution_count": 5,
   "metadata": {},
   "outputs": [],
   "source": [
    "compare_ami = pd.read_csv(path+folder+'cohorts{}/ami/risk_adjust_compare_tst.csv'.format(hosp_cutoff))\n",
    "compare_chf = pd.read_csv(path+folder+'cohorts{}/chf/risk_adjust_compare_tst.csv'.format(hosp_cutoff))\n",
    "compare_pna = pd.read_csv(path+folder+'cohorts{}/pna/risk_adjust_compare_tst.csv'.format(hosp_cutoff))"
   ]
  },
  {
   "cell_type": "code",
   "execution_count": 38,
   "metadata": {
    "scrolled": true
   },
   "outputs": [
    {
     "data": {
      "text/html": [
       "<div>\n",
       "<style scoped>\n",
       "    .dataframe tbody tr th:only-of-type {\n",
       "        vertical-align: middle;\n",
       "    }\n",
       "\n",
       "    .dataframe tbody tr th {\n",
       "        vertical-align: top;\n",
       "    }\n",
       "\n",
       "    .dataframe thead th {\n",
       "        text-align: right;\n",
       "    }\n",
       "</style>\n",
       "<table border=\"1\" class=\"dataframe\">\n",
       "  <thead>\n",
       "    <tr style=\"text-align: right;\">\n",
       "      <th></th>\n",
       "      <th>count</th>\n",
       "      <th>mean</th>\n",
       "      <th>std</th>\n",
       "      <th>min</th>\n",
       "      <th>25%</th>\n",
       "      <th>50%</th>\n",
       "      <th>75%</th>\n",
       "      <th>max</th>\n",
       "      <th>IQR</th>\n",
       "    </tr>\n",
       "  </thead>\n",
       "  <tbody>\n",
       "    <tr>\n",
       "      <th>Adjusted_ME</th>\n",
       "      <td>1749.0</td>\n",
       "      <td>0.155904</td>\n",
       "      <td>0.012852</td>\n",
       "      <td>0.118430</td>\n",
       "      <td>0.147581</td>\n",
       "      <td>0.154642</td>\n",
       "      <td>0.162857</td>\n",
       "      <td>0.212120</td>\n",
       "      <td>0.015276</td>\n",
       "    </tr>\n",
       "    <tr>\n",
       "      <th>Recycled_ME</th>\n",
       "      <td>1749.0</td>\n",
       "      <td>0.150109</td>\n",
       "      <td>0.012302</td>\n",
       "      <td>0.114217</td>\n",
       "      <td>0.142235</td>\n",
       "      <td>0.148935</td>\n",
       "      <td>0.156633</td>\n",
       "      <td>0.201427</td>\n",
       "      <td>0.014399</td>\n",
       "    </tr>\n",
       "    <tr>\n",
       "      <th>Recycled_DL</th>\n",
       "      <td>1749.0</td>\n",
       "      <td>0.148517</td>\n",
       "      <td>0.014746</td>\n",
       "      <td>0.098707</td>\n",
       "      <td>0.139601</td>\n",
       "      <td>0.149261</td>\n",
       "      <td>0.158234</td>\n",
       "      <td>0.198713</td>\n",
       "      <td>0.018633</td>\n",
       "    </tr>\n",
       "  </tbody>\n",
       "</table>\n",
       "</div>"
      ],
      "text/plain": [
       "              count      mean       std       min       25%       50%  \\\n",
       "Adjusted_ME  1749.0  0.155904  0.012852  0.118430  0.147581  0.154642   \n",
       "Recycled_ME  1749.0  0.150109  0.012302  0.114217  0.142235  0.148935   \n",
       "Recycled_DL  1749.0  0.148517  0.014746  0.098707  0.139601  0.149261   \n",
       "\n",
       "                  75%       max       IQR  \n",
       "Adjusted_ME  0.162857  0.212120  0.015276  \n",
       "Recycled_ME  0.156633  0.201427  0.014399  \n",
       "Recycled_DL  0.158234  0.198713  0.018633  "
      ]
     },
     "execution_count": 38,
     "metadata": {},
     "output_type": "execute_result"
    }
   ],
   "source": [
    "description = compare_pna[['Adjusted_ME', 'Recycled_ME', 'Recycled_DL']].describe().transpose()\n",
    "description.assign(IQR=description['75%']-description['25%'])"
   ]
  },
  {
   "cell_type": "code",
   "execution_count": 11,
   "metadata": {},
   "outputs": [],
   "source": [
    "compare = compare_ami.copy()"
   ]
  },
  {
   "cell_type": "code",
   "execution_count": 12,
   "metadata": {},
   "outputs": [],
   "source": [
    "compare = pd.merge(observed, compare, on='HOSP_NRD')"
   ]
  },
  {
   "cell_type": "code",
   "execution_count": 13,
   "metadata": {},
   "outputs": [],
   "source": [
    "compare.columns = ['HOSP_NRD', 'Observed', 'N', 'Adjusted_ME', 'Recycled_ME', 'Recycled_DL']"
   ]
  },
  {
   "cell_type": "code",
   "execution_count": 101,
   "metadata": {
    "scrolled": true
   },
   "outputs": [
    {
     "data": {
      "text/html": [
       "<div>\n",
       "<style scoped>\n",
       "    .dataframe tbody tr th:only-of-type {\n",
       "        vertical-align: middle;\n",
       "    }\n",
       "\n",
       "    .dataframe tbody tr th {\n",
       "        vertical-align: top;\n",
       "    }\n",
       "\n",
       "    .dataframe thead th {\n",
       "        text-align: right;\n",
       "    }\n",
       "</style>\n",
       "<table border=\"1\" class=\"dataframe\">\n",
       "  <thead>\n",
       "    <tr style=\"text-align: right;\">\n",
       "      <th></th>\n",
       "      <th>HOSP_NRD</th>\n",
       "      <th>Observed</th>\n",
       "      <th>N</th>\n",
       "      <th>Adjusted_ME</th>\n",
       "      <th>Recycled_ME</th>\n",
       "      <th>Recycled_DL</th>\n",
       "    </tr>\n",
       "  </thead>\n",
       "  <tbody>\n",
       "    <tr>\n",
       "      <th>HOSP_NRD</th>\n",
       "      <td>1.000000</td>\n",
       "      <td>-0.017177</td>\n",
       "      <td>-0.002239</td>\n",
       "      <td>-0.047209</td>\n",
       "      <td>-0.050776</td>\n",
       "      <td>-0.047238</td>\n",
       "    </tr>\n",
       "    <tr>\n",
       "      <th>Observed</th>\n",
       "      <td>-0.017177</td>\n",
       "      <td>1.000000</td>\n",
       "      <td>0.027668</td>\n",
       "      <td>0.881312</td>\n",
       "      <td>0.883367</td>\n",
       "      <td>0.821526</td>\n",
       "    </tr>\n",
       "    <tr>\n",
       "      <th>N</th>\n",
       "      <td>-0.002239</td>\n",
       "      <td>0.027668</td>\n",
       "      <td>1.000000</td>\n",
       "      <td>-0.016836</td>\n",
       "      <td>-0.017172</td>\n",
       "      <td>-0.051857</td>\n",
       "    </tr>\n",
       "    <tr>\n",
       "      <th>Adjusted_ME</th>\n",
       "      <td>-0.047209</td>\n",
       "      <td>0.881312</td>\n",
       "      <td>-0.016836</td>\n",
       "      <td>1.000000</td>\n",
       "      <td>0.999682</td>\n",
       "      <td>0.917476</td>\n",
       "    </tr>\n",
       "    <tr>\n",
       "      <th>Recycled_ME</th>\n",
       "      <td>-0.050776</td>\n",
       "      <td>0.883367</td>\n",
       "      <td>-0.017172</td>\n",
       "      <td>0.999682</td>\n",
       "      <td>1.000000</td>\n",
       "      <td>0.917392</td>\n",
       "    </tr>\n",
       "    <tr>\n",
       "      <th>Recycled_DL</th>\n",
       "      <td>-0.047238</td>\n",
       "      <td>0.821526</td>\n",
       "      <td>-0.051857</td>\n",
       "      <td>0.917476</td>\n",
       "      <td>0.917392</td>\n",
       "      <td>1.000000</td>\n",
       "    </tr>\n",
       "  </tbody>\n",
       "</table>\n",
       "</div>"
      ],
      "text/plain": [
       "             HOSP_NRD  Observed         N  Adjusted_ME  Recycled_ME  \\\n",
       "HOSP_NRD     1.000000 -0.017177 -0.002239    -0.047209    -0.050776   \n",
       "Observed    -0.017177  1.000000  0.027668     0.881312     0.883367   \n",
       "N           -0.002239  0.027668  1.000000    -0.016836    -0.017172   \n",
       "Adjusted_ME -0.047209  0.881312 -0.016836     1.000000     0.999682   \n",
       "Recycled_ME -0.050776  0.883367 -0.017172     0.999682     1.000000   \n",
       "Recycled_DL -0.047238  0.821526 -0.051857     0.917476     0.917392   \n",
       "\n",
       "             Recycled_DL  \n",
       "HOSP_NRD       -0.047238  \n",
       "Observed        0.821526  \n",
       "N              -0.051857  \n",
       "Adjusted_ME     0.917476  \n",
       "Recycled_ME     0.917392  \n",
       "Recycled_DL     1.000000  "
      ]
     },
     "execution_count": 101,
     "metadata": {},
     "output_type": "execute_result"
    }
   ],
   "source": [
    "compare_ami.loc[compare_ami.N>200].corr()"
   ]
  },
  {
   "cell_type": "code",
   "execution_count": 102,
   "metadata": {
    "scrolled": true
   },
   "outputs": [
    {
     "data": {
      "text/html": [
       "<div>\n",
       "<style scoped>\n",
       "    .dataframe tbody tr th:only-of-type {\n",
       "        vertical-align: middle;\n",
       "    }\n",
       "\n",
       "    .dataframe tbody tr th {\n",
       "        vertical-align: top;\n",
       "    }\n",
       "\n",
       "    .dataframe thead th {\n",
       "        text-align: right;\n",
       "    }\n",
       "</style>\n",
       "<table border=\"1\" class=\"dataframe\">\n",
       "  <thead>\n",
       "    <tr style=\"text-align: right;\">\n",
       "      <th></th>\n",
       "      <th>HOSP_NRD</th>\n",
       "      <th>Observed</th>\n",
       "      <th>N</th>\n",
       "      <th>Adjusted_ME</th>\n",
       "      <th>Recycled_ME</th>\n",
       "      <th>Recycled_DL</th>\n",
       "    </tr>\n",
       "  </thead>\n",
       "  <tbody>\n",
       "    <tr>\n",
       "      <th>HOSP_NRD</th>\n",
       "      <td>1.000000</td>\n",
       "      <td>0.015025</td>\n",
       "      <td>-0.034157</td>\n",
       "      <td>0.049408</td>\n",
       "      <td>0.049429</td>\n",
       "      <td>0.028554</td>\n",
       "    </tr>\n",
       "    <tr>\n",
       "      <th>Observed</th>\n",
       "      <td>0.015025</td>\n",
       "      <td>1.000000</td>\n",
       "      <td>-0.228620</td>\n",
       "      <td>0.765904</td>\n",
       "      <td>0.772879</td>\n",
       "      <td>0.735288</td>\n",
       "    </tr>\n",
       "    <tr>\n",
       "      <th>N</th>\n",
       "      <td>-0.034157</td>\n",
       "      <td>-0.228620</td>\n",
       "      <td>1.000000</td>\n",
       "      <td>-0.023424</td>\n",
       "      <td>-0.025572</td>\n",
       "      <td>0.032050</td>\n",
       "    </tr>\n",
       "    <tr>\n",
       "      <th>Adjusted_ME</th>\n",
       "      <td>0.049408</td>\n",
       "      <td>0.765904</td>\n",
       "      <td>-0.023424</td>\n",
       "      <td>1.000000</td>\n",
       "      <td>0.999155</td>\n",
       "      <td>0.902887</td>\n",
       "    </tr>\n",
       "    <tr>\n",
       "      <th>Recycled_ME</th>\n",
       "      <td>0.049429</td>\n",
       "      <td>0.772879</td>\n",
       "      <td>-0.025572</td>\n",
       "      <td>0.999155</td>\n",
       "      <td>1.000000</td>\n",
       "      <td>0.901102</td>\n",
       "    </tr>\n",
       "    <tr>\n",
       "      <th>Recycled_DL</th>\n",
       "      <td>0.028554</td>\n",
       "      <td>0.735288</td>\n",
       "      <td>0.032050</td>\n",
       "      <td>0.902887</td>\n",
       "      <td>0.901102</td>\n",
       "      <td>1.000000</td>\n",
       "    </tr>\n",
       "  </tbody>\n",
       "</table>\n",
       "</div>"
      ],
      "text/plain": [
       "             HOSP_NRD  Observed         N  Adjusted_ME  Recycled_ME  \\\n",
       "HOSP_NRD     1.000000  0.015025 -0.034157     0.049408     0.049429   \n",
       "Observed     0.015025  1.000000 -0.228620     0.765904     0.772879   \n",
       "N           -0.034157 -0.228620  1.000000    -0.023424    -0.025572   \n",
       "Adjusted_ME  0.049408  0.765904 -0.023424     1.000000     0.999155   \n",
       "Recycled_ME  0.049429  0.772879 -0.025572     0.999155     1.000000   \n",
       "Recycled_DL  0.028554  0.735288  0.032050     0.902887     0.901102   \n",
       "\n",
       "             Recycled_DL  \n",
       "HOSP_NRD        0.028554  \n",
       "Observed        0.735288  \n",
       "N               0.032050  \n",
       "Adjusted_ME     0.902887  \n",
       "Recycled_ME     0.901102  \n",
       "Recycled_DL     1.000000  "
      ]
     },
     "execution_count": 102,
     "metadata": {},
     "output_type": "execute_result"
    }
   ],
   "source": [
    "compare_ami.loc[compare_ami.N<=200].corr()"
   ]
  },
  {
   "cell_type": "code",
   "execution_count": 98,
   "metadata": {
    "scrolled": true
   },
   "outputs": [
    {
     "data": {
      "text/plain": [
       "<matplotlib.axes._subplots.AxesSubplot at 0x2b56fb239a20>"
      ]
     },
     "execution_count": 98,
     "metadata": {},
     "output_type": "execute_result"
    },
    {
     "data": {
      "image/png": "[encoded data removed]",
      "text/plain": [
       "<Figure size 432x288 with 1 Axes>"
      ]
     },
     "metadata": {},
     "output_type": "display_data"
    }
   ],
   "source": [
    "compare_ami.plot.scatter('Observed', 'Adjusted_ME')"
   ]
  },
  {
   "cell_type": "code",
   "execution_count": 14,
   "metadata": {
    "scrolled": false
   },
   "outputs": [
    {
     "data": {
      "text/plain": [
       "<matplotlib.legend.Legend at 0x2b6c0878d828>"
      ]
     },
     "execution_count": 14,
     "metadata": {},
     "output_type": "execute_result"
    },
    {
     "data": {
      "image/png": "[encoded data removed]",
      "text/plain": [
       "<Figure size 864x576 with 1 Axes>"
      ]
     },
     "metadata": {},
     "output_type": "display_data"
    }
   ],
   "source": [
    "cut = compare.N.median()\n",
    "plt.figure(figsize=(12, 8))\n",
    "plt.plot([compare.Adjusted_ME.min(), compare.Adjusted_ME.max()], [compare.Adjusted_ME.min(), compare.Adjusted_ME.max()], ls='--')\n",
    "plt.xlabel('Adjusted_HLR')\n",
    "plt.ylabel('Recycled_DL')\n",
    "plt.scatter(compare.loc[compare.N>cut, 'Adjusted_ME'].values, compare.loc[compare.N>cut, 'Recycled_DL'].values, alpha=0.5, s=5, label='Larger Hospital')\n",
    "plt.scatter(compare.loc[compare.N<=cut, 'Adjusted_ME'].values, compare.loc[compare.N<=cut, 'Recycled_DL'].values, alpha=0.5, s=5, label='Smaller Hospital')\n",
    "plt.legend()"
   ]
  },
  {
   "cell_type": "code",
   "execution_count": 84,
   "metadata": {},
   "outputs": [],
   "source": [
    "compare.to_csv(path+'cohorts20/{}/risk_adjust_compare_tst.csv'.format(cohort), index=False)"
   ]
  },
  {
   "cell_type": "code",
   "execution_count": 47,
   "metadata": {},
   "outputs": [
    {
     "data": {
      "text/plain": [
       "<matplotlib.legend.Legend at 0x2b56fa78ccf8>"
      ]
     },
     "execution_count": 47,
     "metadata": {},
     "output_type": "execute_result"
    },
    {
     "data": {
      "image/png": "[encoded data removed]",
      "text/plain": [
       "<Figure size 432x288 with 1 Axes>"
      ]
     },
     "metadata": {},
     "output_type": "display_data"
    }
   ],
   "source": [
    "plt.hist(compare_ami.Adjusted_ME.values, alpha=0.5, label='Adjusted_ME')\n",
    "plt.hist(compare_ami.Recycled_ME.values, alpha=0.5, label='Recycled_ME')\n",
    "plt.legend()"
   ]
  },
  {
   "cell_type": "code",
   "execution_count": 95,
   "metadata": {},
   "outputs": [
    {
     "data": {
      "text/html": [
       "<div>\n",
       "<style scoped>\n",
       "    .dataframe tbody tr th:only-of-type {\n",
       "        vertical-align: middle;\n",
       "    }\n",
       "\n",
       "    .dataframe tbody tr th {\n",
       "        vertical-align: top;\n",
       "    }\n",
       "\n",
       "    .dataframe thead th {\n",
       "        text-align: right;\n",
       "    }\n",
       "</style>\n",
       "<table border=\"1\" class=\"dataframe\">\n",
       "  <thead>\n",
       "    <tr style=\"text-align: right;\">\n",
       "      <th></th>\n",
       "      <th>HOSP_NRD</th>\n",
       "      <th>Observed</th>\n",
       "      <th>N</th>\n",
       "      <th>Adjusted_ME</th>\n",
       "      <th>Recycled_ME</th>\n",
       "      <th>Recycled_DL</th>\n",
       "    </tr>\n",
       "  </thead>\n",
       "  <tbody>\n",
       "    <tr>\n",
       "      <th>443</th>\n",
       "      <td>12513.0</td>\n",
       "      <td>0.000000</td>\n",
       "      <td>34</td>\n",
       "      <td>0.111205</td>\n",
       "      <td>0.108725</td>\n",
       "      <td>0.087451</td>\n",
       "    </tr>\n",
       "    <tr>\n",
       "      <th>319</th>\n",
       "      <td>12129.0</td>\n",
       "      <td>0.027027</td>\n",
       "      <td>37</td>\n",
       "      <td>0.108603</td>\n",
       "      <td>0.105339</td>\n",
       "      <td>0.090587</td>\n",
       "    </tr>\n",
       "    <tr>\n",
       "      <th>17</th>\n",
       "      <td>11058.0</td>\n",
       "      <td>0.061667</td>\n",
       "      <td>600</td>\n",
       "      <td>0.089745</td>\n",
       "      <td>0.088581</td>\n",
       "      <td>0.090621</td>\n",
       "    </tr>\n",
       "    <tr>\n",
       "      <th>844</th>\n",
       "      <td>13967.0</td>\n",
       "      <td>0.060241</td>\n",
       "      <td>249</td>\n",
       "      <td>0.097145</td>\n",
       "      <td>0.094809</td>\n",
       "      <td>0.092536</td>\n",
       "    </tr>\n",
       "    <tr>\n",
       "      <th>348</th>\n",
       "      <td>12208.0</td>\n",
       "      <td>0.035088</td>\n",
       "      <td>114</td>\n",
       "      <td>0.099710</td>\n",
       "      <td>0.097704</td>\n",
       "      <td>0.093101</td>\n",
       "    </tr>\n",
       "    <tr>\n",
       "      <th>121</th>\n",
       "      <td>11399.0</td>\n",
       "      <td>0.040816</td>\n",
       "      <td>196</td>\n",
       "      <td>0.090384</td>\n",
       "      <td>0.088097</td>\n",
       "      <td>0.093906</td>\n",
       "    </tr>\n",
       "    <tr>\n",
       "      <th>484</th>\n",
       "      <td>12679.0</td>\n",
       "      <td>0.087146</td>\n",
       "      <td>459</td>\n",
       "      <td>0.093837</td>\n",
       "      <td>0.091108</td>\n",
       "      <td>0.094969</td>\n",
       "    </tr>\n",
       "    <tr>\n",
       "      <th>195</th>\n",
       "      <td>11682.0</td>\n",
       "      <td>0.016393</td>\n",
       "      <td>61</td>\n",
       "      <td>0.106125</td>\n",
       "      <td>0.104321</td>\n",
       "      <td>0.096027</td>\n",
       "    </tr>\n",
       "    <tr>\n",
       "      <th>388</th>\n",
       "      <td>12335.0</td>\n",
       "      <td>0.057971</td>\n",
       "      <td>69</td>\n",
       "      <td>0.098677</td>\n",
       "      <td>0.093855</td>\n",
       "      <td>0.096132</td>\n",
       "    </tr>\n",
       "    <tr>\n",
       "      <th>303</th>\n",
       "      <td>12056.0</td>\n",
       "      <td>0.031250</td>\n",
       "      <td>96</td>\n",
       "      <td>0.102644</td>\n",
       "      <td>0.100302</td>\n",
       "      <td>0.096254</td>\n",
       "    </tr>\n",
       "  </tbody>\n",
       "</table>\n",
       "</div>"
      ],
      "text/plain": [
       "     HOSP_NRD  Observed    N  Adjusted_ME  Recycled_ME  Recycled_DL\n",
       "443   12513.0  0.000000   34     0.111205     0.108725     0.087451\n",
       "319   12129.0  0.027027   37     0.108603     0.105339     0.090587\n",
       "17    11058.0  0.061667  600     0.089745     0.088581     0.090621\n",
       "844   13967.0  0.060241  249     0.097145     0.094809     0.092536\n",
       "348   12208.0  0.035088  114     0.099710     0.097704     0.093101\n",
       "121   11399.0  0.040816  196     0.090384     0.088097     0.093906\n",
       "484   12679.0  0.087146  459     0.093837     0.091108     0.094969\n",
       "195   11682.0  0.016393   61     0.106125     0.104321     0.096027\n",
       "388   12335.0  0.057971   69     0.098677     0.093855     0.096132\n",
       "303   12056.0  0.031250   96     0.102644     0.100302     0.096254"
      ]
     },
     "execution_count": 95,
     "metadata": {},
     "output_type": "execute_result"
    }
   ],
   "source": [
    "compare_ami.sort_values('Recycled_DL').head(10)"
   ]
  },
  {
   "cell_type": "code",
   "execution_count": 6,
   "metadata": {},
   "outputs": [],
   "source": [
    "bins_ami=np.linspace(np.min([compare_ami.Recycled_DL.min(), compare_ami.Recycled_DL.min()])-0.005, \n",
    "                     np.max([compare_ami.Recycled_DL.max(), compare_ami.Recycled_DL.max()])+0.005, 25)\n",
    "bins_chf=np.linspace(np.min([compare_chf.Recycled_DL.min(), compare_chf.Recycled_DL.min()])-0.005, \n",
    "                     np.max([compare_chf.Recycled_DL.max(), compare_chf.Recycled_DL.max()])+0.005, 25)\n",
    "bins_pna=np.linspace(np.min([compare_pna.Recycled_DL.min(), compare_pna.Recycled_DL.min()])-0.005, \n",
    "                     np.max([compare_pna.Recycled_DL.max(), compare_pna.Recycled_DL.max()])+0.005, 25)"
   ]
  },
  {
   "cell_type": "code",
   "execution_count": 8,
   "metadata": {},
   "outputs": [
    {
     "data": {
      "image/png": "[encoded data removed]",
      "text/plain": [
       "<Figure size 1296x360 with 3 Axes>"
      ]
     },
     "metadata": {},
     "output_type": "display_data"
    }
   ],
   "source": [
    "fig, axes = plt.subplots(nrows=1, ncols=3, figsize=(18, 5))\n",
    "ax0, ax1, ax2 = axes.flatten()\n",
    "ax0.hist(compare_ami.Recycled_ME.values, bins_ami, alpha=0.5, label='HLR model')\n",
    "ax0.hist(compare_ami.Recycled_DL.values, bins_ami, alpha=0.5, label='ME-DS model')\n",
    "ax0.legend(loc='upper right')\n",
    "ax0.set_title('AMI')\n",
    "ax1.hist(compare_chf.Recycled_ME.values, bins_chf, alpha=0.5, label='HLR model')\n",
    "ax1.hist(compare_chf.Recycled_DL.values, bins_chf, alpha=0.5, label='ME-DS model')\n",
    "ax1.legend(loc='upper right')\n",
    "ax1.set_title('HF')\n",
    "ax2.hist(compare_pna.Recycled_ME.values, bins_pna, alpha=0.5, label='HLR model')\n",
    "ax2.hist(compare_pna.Recycled_DL.values, bins_pna, alpha=0.5, label='ME-DS model')\n",
    "ax2.legend(loc='upper right')\n",
    "ax2.set_title('PNA')\n",
    "plt.savefig('plots/RSRR_hist.png', dpi=300, bbox_inches='tight')"
   ]
  },
  {
   "cell_type": "code",
   "execution_count": 16,
   "metadata": {},
   "outputs": [
    {
     "data": {
      "text/html": [
       "<div>\n",
       "<style scoped>\n",
       "    .dataframe tbody tr th:only-of-type {\n",
       "        vertical-align: middle;\n",
       "    }\n",
       "\n",
       "    .dataframe tbody tr th {\n",
       "        vertical-align: top;\n",
       "    }\n",
       "\n",
       "    .dataframe thead th {\n",
       "        text-align: right;\n",
       "    }\n",
       "</style>\n",
       "<table border=\"1\" class=\"dataframe\">\n",
       "  <thead>\n",
       "    <tr style=\"text-align: right;\">\n",
       "      <th></th>\n",
       "      <th>Unnamed: 0_x</th>\n",
       "      <th>HOSP_NRD</th>\n",
       "      <th>readm30</th>\n",
       "      <th>predicted_score</th>\n",
       "      <th>expected_score</th>\n",
       "      <th>Adjusted_ME</th>\n",
       "      <th>Unnamed: 0_y</th>\n",
       "      <th>Recycled_ME</th>\n",
       "      <th>recyc_pred0</th>\n",
       "      <th>recyc_pred1</th>\n",
       "      <th>recyc_pred2</th>\n",
       "      <th>recyc_pred3</th>\n",
       "      <th>recyc_pred4</th>\n",
       "      <th>recyc_pred5</th>\n",
       "      <th>recyc_pred6</th>\n",
       "      <th>recyc_pred7</th>\n",
       "      <th>recyc_pred8</th>\n",
       "      <th>Recycled_DL</th>\n",
       "    </tr>\n",
       "  </thead>\n",
       "  <tbody>\n",
       "    <tr>\n",
       "      <th>0</th>\n",
       "      <td>1</td>\n",
       "      <td>11006</td>\n",
       "      <td>0.117647</td>\n",
       "      <td>0.101592</td>\n",
       "      <td>0.113433</td>\n",
       "      <td>0.111579</td>\n",
       "      <td>714</td>\n",
       "      <td>0.109678</td>\n",
       "      <td>0.108399</td>\n",
       "      <td>0.109666</td>\n",
       "      <td>0.106481</td>\n",
       "      <td>0.103874</td>\n",
       "      <td>0.120454</td>\n",
       "      <td>0.106260</td>\n",
       "      <td>0.100003</td>\n",
       "      <td>0.093238</td>\n",
       "      <td>0.089752</td>\n",
       "      <td>0.104236</td>\n",
       "    </tr>\n",
       "    <tr>\n",
       "      <th>1</th>\n",
       "      <td>2</td>\n",
       "      <td>11010</td>\n",
       "      <td>0.071429</td>\n",
       "      <td>0.096735</td>\n",
       "      <td>0.108642</td>\n",
       "      <td>0.110931</td>\n",
       "      <td>26</td>\n",
       "      <td>0.109232</td>\n",
       "      <td>0.099385</td>\n",
       "      <td>0.115725</td>\n",
       "      <td>0.102854</td>\n",
       "      <td>0.110029</td>\n",
       "      <td>0.097732</td>\n",
       "      <td>0.106241</td>\n",
       "      <td>0.109038</td>\n",
       "      <td>0.104464</td>\n",
       "      <td>0.099854</td>\n",
       "      <td>0.105036</td>\n",
       "    </tr>\n",
       "    <tr>\n",
       "      <th>2</th>\n",
       "      <td>3</td>\n",
       "      <td>11011</td>\n",
       "      <td>0.142857</td>\n",
       "      <td>0.186063</td>\n",
       "      <td>0.215092</td>\n",
       "      <td>0.107770</td>\n",
       "      <td>787</td>\n",
       "      <td>0.104148</td>\n",
       "      <td>0.095124</td>\n",
       "      <td>0.100756</td>\n",
       "      <td>0.090777</td>\n",
       "      <td>0.108958</td>\n",
       "      <td>0.110143</td>\n",
       "      <td>0.109348</td>\n",
       "      <td>0.098964</td>\n",
       "      <td>0.094346</td>\n",
       "      <td>0.102475</td>\n",
       "      <td>0.101210</td>\n",
       "    </tr>\n",
       "    <tr>\n",
       "      <th>3</th>\n",
       "      <td>4</td>\n",
       "      <td>11013</td>\n",
       "      <td>0.177778</td>\n",
       "      <td>0.187026</td>\n",
       "      <td>0.142877</td>\n",
       "      <td>0.163081</td>\n",
       "      <td>209</td>\n",
       "      <td>0.161490</td>\n",
       "      <td>0.144417</td>\n",
       "      <td>0.160219</td>\n",
       "      <td>0.168162</td>\n",
       "      <td>0.149275</td>\n",
       "      <td>0.144333</td>\n",
       "      <td>0.155957</td>\n",
       "      <td>0.147545</td>\n",
       "      <td>0.161591</td>\n",
       "      <td>0.144768</td>\n",
       "      <td>0.152919</td>\n",
       "    </tr>\n",
       "    <tr>\n",
       "      <th>4</th>\n",
       "      <td>5</td>\n",
       "      <td>11014</td>\n",
       "      <td>0.065574</td>\n",
       "      <td>0.113573</td>\n",
       "      <td>0.122753</td>\n",
       "      <td>0.115267</td>\n",
       "      <td>174</td>\n",
       "      <td>0.112946</td>\n",
       "      <td>0.111523</td>\n",
       "      <td>0.115956</td>\n",
       "      <td>0.113446</td>\n",
       "      <td>0.120069</td>\n",
       "      <td>0.115047</td>\n",
       "      <td>0.093887</td>\n",
       "      <td>0.107607</td>\n",
       "      <td>0.113254</td>\n",
       "      <td>0.105051</td>\n",
       "      <td>0.110649</td>\n",
       "    </tr>\n",
       "  </tbody>\n",
       "</table>\n",
       "</div>"
      ],
      "text/plain": [
       "   Unnamed: 0_x  HOSP_NRD   readm30  predicted_score  expected_score  \\\n",
       "0             1     11006  0.117647         0.101592        0.113433   \n",
       "1             2     11010  0.071429         0.096735        0.108642   \n",
       "2             3     11011  0.142857         0.186063        0.215092   \n",
       "3             4     11013  0.177778         0.187026        0.142877   \n",
       "4             5     11014  0.065574         0.113573        0.122753   \n",
       "\n",
       "   Adjusted_ME  Unnamed: 0_y  Recycled_ME  recyc_pred0  recyc_pred1  \\\n",
       "0     0.111579           714     0.109678     0.108399     0.109666   \n",
       "1     0.110931            26     0.109232     0.099385     0.115725   \n",
       "2     0.107770           787     0.104148     0.095124     0.100756   \n",
       "3     0.163081           209     0.161490     0.144417     0.160219   \n",
       "4     0.115267           174     0.112946     0.111523     0.115956   \n",
       "\n",
       "   recyc_pred2  recyc_pred3  recyc_pred4  recyc_pred5  recyc_pred6  \\\n",
       "0     0.106481     0.103874     0.120454     0.106260     0.100003   \n",
       "1     0.102854     0.110029     0.097732     0.106241     0.109038   \n",
       "2     0.090777     0.108958     0.110143     0.109348     0.098964   \n",
       "3     0.168162     0.149275     0.144333     0.155957     0.147545   \n",
       "4     0.113446     0.120069     0.115047     0.093887     0.107607   \n",
       "\n",
       "   recyc_pred7  recyc_pred8  Recycled_DL  \n",
       "0     0.093238     0.089752     0.104236  \n",
       "1     0.104464     0.099854     0.105036  \n",
       "2     0.094346     0.102475     0.101210  \n",
       "3     0.161591     0.144768     0.152919  \n",
       "4     0.113254     0.105051     0.110649  "
      ]
     },
     "execution_count": 16,
     "metadata": {},
     "output_type": "execute_result"
    }
   ],
   "source": [
    "compare.head()"
   ]
  },
  {
   "cell_type": "code",
   "execution_count": 30,
   "metadata": {},
   "outputs": [],
   "source": [
    "compare = compare_pna.copy()"
   ]
  },
  {
   "cell_type": "code",
   "execution_count": 31,
   "metadata": {},
   "outputs": [],
   "source": [
    "compare = compare.sort_values('Recycled_ME')\n",
    "compare = compare.assign(Rank_ME = range(len(compare)))\n",
    "\n",
    "compare = compare.assign(Division_ME = '2middle60')\n",
    "compare.loc[compare.Rank_ME<int(len(compare)*0.2), 'Division_ME'] = '1top20'\n",
    "compare.loc[compare.Rank_ME>int(len(compare)*0.8), 'Division_ME'] = '3bottom20'"
   ]
  },
  {
   "cell_type": "code",
   "execution_count": 32,
   "metadata": {},
   "outputs": [],
   "source": [
    "compare = compare.sort_values('Recycled_DL')\n",
    "compare = compare.assign(Rank_DL = range(len(compare)))\n",
    "\n",
    "compare = compare.assign(Division_DL = '2middle60')\n",
    "compare.loc[compare.Rank_DL<int(len(compare)*0.2), 'Division_DL'] = '1top20'\n",
    "compare.loc[compare.Rank_DL>int(len(compare)*0.8), 'Division_DL'] = '3bottom20'"
   ]
  },
  {
   "cell_type": "code",
   "execution_count": 33,
   "metadata": {
    "scrolled": true
   },
   "outputs": [
    {
     "data": {
      "text/html": [
       "<div>\n",
       "<style scoped>\n",
       "    .dataframe tbody tr th:only-of-type {\n",
       "        vertical-align: middle;\n",
       "    }\n",
       "\n",
       "    .dataframe tbody tr th {\n",
       "        vertical-align: top;\n",
       "    }\n",
       "\n",
       "    .dataframe thead th {\n",
       "        text-align: right;\n",
       "    }\n",
       "</style>\n",
       "<table border=\"1\" class=\"dataframe\">\n",
       "  <thead>\n",
       "    <tr style=\"text-align: right;\">\n",
       "      <th>Division_ME</th>\n",
       "      <th>1top20</th>\n",
       "      <th>2middle60</th>\n",
       "      <th>3bottom20</th>\n",
       "      <th>All</th>\n",
       "    </tr>\n",
       "    <tr>\n",
       "      <th>Division_DL</th>\n",
       "      <th></th>\n",
       "      <th></th>\n",
       "      <th></th>\n",
       "      <th></th>\n",
       "    </tr>\n",
       "  </thead>\n",
       "  <tbody>\n",
       "    <tr>\n",
       "      <th>1top20</th>\n",
       "      <td>261</td>\n",
       "      <td>122</td>\n",
       "      <td>0</td>\n",
       "      <td>383</td>\n",
       "    </tr>\n",
       "    <tr>\n",
       "      <th>2middle60</th>\n",
       "      <td>122</td>\n",
       "      <td>949</td>\n",
       "      <td>82</td>\n",
       "      <td>1153</td>\n",
       "    </tr>\n",
       "    <tr>\n",
       "      <th>3bottom20</th>\n",
       "      <td>0</td>\n",
       "      <td>82</td>\n",
       "      <td>301</td>\n",
       "      <td>383</td>\n",
       "    </tr>\n",
       "    <tr>\n",
       "      <th>All</th>\n",
       "      <td>383</td>\n",
       "      <td>1153</td>\n",
       "      <td>383</td>\n",
       "      <td>1919</td>\n",
       "    </tr>\n",
       "  </tbody>\n",
       "</table>\n",
       "</div>"
      ],
      "text/plain": [
       "Division_ME  1top20  2middle60  3bottom20   All\n",
       "Division_DL                                    \n",
       "1top20          261        122          0   383\n",
       "2middle60       122        949         82  1153\n",
       "3bottom20         0         82        301   383\n",
       "All             383       1153        383  1919"
      ]
     },
     "execution_count": 33,
     "metadata": {},
     "output_type": "execute_result"
    }
   ],
   "source": [
    "pd.crosstab(index=compare.Division_DL, columns=compare.Division_ME, margins=True)"
   ]
  },
  {
   "cell_type": "code",
   "execution_count": 34,
   "metadata": {},
   "outputs": [
    {
     "data": {
      "text/plain": [
       "0.03309481216457961"
      ]
     },
     "execution_count": 34,
     "metadata": {},
     "output_type": "execute_result"
    }
   ],
   "source": [
    "37/1118"
   ]
  },
  {
   "cell_type": "code",
   "execution_count": 16,
   "metadata": {},
   "outputs": [],
   "source": [
    "compare = compare.sort_values('Adjusted_ME')\n",
    "compare = compare.assign(Rank_Adjusted = range(len(compare)))"
   ]
  },
  {
   "cell_type": "code",
   "execution_count": 17,
   "metadata": {},
   "outputs": [],
   "source": [
    "compare = compare.sort_values('Recycled_ME')\n",
    "compare = compare.assign(Rank_Recycled = range(len(compare)))"
   ]
  },
  {
   "cell_type": "code",
   "execution_count": 23,
   "metadata": {},
   "outputs": [
    {
     "data": {
      "image/png": "[encoded data removed]",
      "text/plain": [
       "<Figure size 1152x504 with 2 Axes>"
      ]
     },
     "metadata": {},
     "output_type": "display_data"
    }
   ],
   "source": [
    "fig, axes = plt.subplots(nrows=1, ncols=2, figsize=(16, 7))\n",
    "ax0, ax1 = axes.flatten()\n",
    "ax0.scatter(compare.Adjusted_ME.values, compare.Recycled_ME.values, s=5)\n",
    "ax0.set_title('Standardized Hospital Readmission Rates by HLR')\n",
    "ax0.set_xlabel('CMS Risk-Adjustment')\n",
    "ax0.set_ylabel('Predictive Margin')\n",
    "ax1.scatter(compare.Rank_Adjusted.values, compare.Rank_Recycled.values, s=5)\n",
    "ax1.set_title('Hospital Rankings by HLR')\n",
    "ax1.set_xlabel('CMS Risk-Adjustment')\n",
    "ax1.set_ylabel('Predictive Margin')\n",
    "plt.savefig('plots/risk_adj.png', dpi=300, bbox_inches='tight')"
   ]
  },
  {
   "cell_type": "markdown",
   "metadata": {},
   "source": [
    "## Risk Adjustment for DL"
   ]
  },
  {
   "cell_type": "code",
   "execution_count": 7,
   "metadata": {},
   "outputs": [],
   "source": [
    "cohort='ami'\n",
    "tst_seed=0"
   ]
  },
  {
   "cell_type": "code",
   "execution_count": 9,
   "metadata": {},
   "outputs": [],
   "source": [
    "index_df = pd.read_csv(path+folder+'cohorts{}/{}/pred_comorb.csv'.format(hosp_cutoff, cohort), dtype=core_dtypes_pd)"
   ]
  },
  {
   "cell_type": "code",
   "execution_count": 10,
   "metadata": {},
   "outputs": [],
   "source": [
    "observed = index_df.groupby('HOSP_NRD')['readm30'].agg(['mean', 'size'])"
   ]
  },
  {
   "cell_type": "code",
   "execution_count": 57,
   "metadata": {},
   "outputs": [
    {
     "data": {
      "text/plain": [
       "(56,)"
      ]
     },
     "execution_count": 57,
     "metadata": {},
     "output_type": "execute_result"
    }
   ],
   "source": [
    "index_df.loc[index_df.HOSP_NRD==13016, 'readm30'].shape"
   ]
  },
  {
   "cell_type": "code",
   "execution_count": 43,
   "metadata": {},
   "outputs": [
    {
     "data": {
      "text/plain": [
       "0.1259848340831802"
      ]
     },
     "execution_count": 43,
     "metadata": {},
     "output_type": "execute_result"
    }
   ],
   "source": [
    "index_df.readm30.mean()"
   ]
  },
  {
   "cell_type": "code",
   "execution_count": 28,
   "metadata": {},
   "outputs": [],
   "source": [
    "tst_df = pd.read_csv(path+'cohorts20/{}/tst{}.csv'.format(cohort, tst_seed), dtype=core_dtypes_pd)"
   ]
  },
  {
   "cell_type": "code",
   "execution_count": 118,
   "metadata": {},
   "outputs": [
    {
     "data": {
      "text/plain": [
       "(187274, 183)"
      ]
     },
     "execution_count": 118,
     "metadata": {},
     "output_type": "execute_result"
    }
   ],
   "source": [
    "index_df.shape"
   ]
  },
  {
   "cell_type": "markdown",
   "metadata": {},
   "source": [
    "### Subsampling"
   ]
  },
  {
   "cell_type": "code",
   "execution_count": 99,
   "metadata": {},
   "outputs": [
    {
     "data": {
      "text/html": [
       "<div>\n",
       "<style scoped>\n",
       "    .dataframe tbody tr th:only-of-type {\n",
       "        vertical-align: middle;\n",
       "    }\n",
       "\n",
       "    .dataframe tbody tr th {\n",
       "        vertical-align: top;\n",
       "    }\n",
       "\n",
       "    .dataframe thead th {\n",
       "        text-align: right;\n",
       "    }\n",
       "</style>\n",
       "<table border=\"1\" class=\"dataframe\">\n",
       "  <thead>\n",
       "    <tr style=\"text-align: right;\">\n",
       "      <th></th>\n",
       "      <th>AGE</th>\n",
       "      <th>AWEEKEND</th>\n",
       "      <th>DIED</th>\n",
       "      <th>DISCWT</th>\n",
       "      <th>DISPUNIFORM</th>\n",
       "      <th>DMONTH</th>\n",
       "      <th>DQTR</th>\n",
       "      <th>DRG</th>\n",
       "      <th>DRGVER</th>\n",
       "      <th>DRG_NoPOA</th>\n",
       "      <th>...</th>\n",
       "      <th>CM_OBESE</th>\n",
       "      <th>CM_PARA</th>\n",
       "      <th>CM_PERIVASC</th>\n",
       "      <th>CM_PSYCH</th>\n",
       "      <th>CM_PULMCIRC</th>\n",
       "      <th>CM_RENLFAIL</th>\n",
       "      <th>CM_TUMOR</th>\n",
       "      <th>CM_ULCER</th>\n",
       "      <th>CM_VALVE</th>\n",
       "      <th>CM_WGHTLOSS</th>\n",
       "    </tr>\n",
       "  </thead>\n",
       "  <tbody>\n",
       "    <tr>\n",
       "      <th>37898</th>\n",
       "      <td>43.0</td>\n",
       "      <td>0.0</td>\n",
       "      <td>0.0</td>\n",
       "      <td>2.260694</td>\n",
       "      <td>1.0</td>\n",
       "      <td>1.0</td>\n",
       "      <td>1.0</td>\n",
       "      <td>250.0</td>\n",
       "      <td>31.0</td>\n",
       "      <td>250.0</td>\n",
       "      <td>...</td>\n",
       "      <td>0.0</td>\n",
       "      <td>0.0</td>\n",
       "      <td>0.0</td>\n",
       "      <td>0.0</td>\n",
       "      <td>0.0</td>\n",
       "      <td>0.0</td>\n",
       "      <td>0.0</td>\n",
       "      <td>0.0</td>\n",
       "      <td>0.0</td>\n",
       "      <td>0.0</td>\n",
       "    </tr>\n",
       "    <tr>\n",
       "      <th>157531</th>\n",
       "      <td>38.0</td>\n",
       "      <td>1.0</td>\n",
       "      <td>0.0</td>\n",
       "      <td>2.537206</td>\n",
       "      <td>1.0</td>\n",
       "      <td>4.0</td>\n",
       "      <td>2.0</td>\n",
       "      <td>247.0</td>\n",
       "      <td>31.0</td>\n",
       "      <td>247.0</td>\n",
       "      <td>...</td>\n",
       "      <td>0.0</td>\n",
       "      <td>0.0</td>\n",
       "      <td>0.0</td>\n",
       "      <td>0.0</td>\n",
       "      <td>0.0</td>\n",
       "      <td>0.0</td>\n",
       "      <td>0.0</td>\n",
       "      <td>0.0</td>\n",
       "      <td>0.0</td>\n",
       "      <td>0.0</td>\n",
       "    </tr>\n",
       "  </tbody>\n",
       "</table>\n",
       "<p>2 rows × 179 columns</p>\n",
       "</div>"
      ],
      "text/plain": [
       "         AGE  AWEEKEND  DIED    DISCWT  DISPUNIFORM  DMONTH  DQTR    DRG  \\\n",
       "37898   43.0       0.0   0.0  2.260694          1.0     1.0   1.0  250.0   \n",
       "157531  38.0       1.0   0.0  2.537206          1.0     4.0   2.0  247.0   \n",
       "\n",
       "        DRGVER  DRG_NoPOA     ...     CM_OBESE CM_PARA CM_PERIVASC CM_PSYCH  \\\n",
       "37898     31.0      250.0     ...          0.0     0.0         0.0      0.0   \n",
       "157531    31.0      247.0     ...          0.0     0.0         0.0      0.0   \n",
       "\n",
       "       CM_PULMCIRC CM_RENLFAIL CM_TUMOR CM_ULCER CM_VALVE CM_WGHTLOSS  \n",
       "37898          0.0         0.0      0.0      0.0      0.0         0.0  \n",
       "157531         0.0         0.0      0.0      0.0      0.0         0.0  \n",
       "\n",
       "[2 rows x 179 columns]"
      ]
     },
     "execution_count": 99,
     "metadata": {},
     "output_type": "execute_result"
    }
   ],
   "source": [
    "tst_df.sample(frac=0.0001)"
   ]
  },
  {
   "cell_type": "code",
   "execution_count": 69,
   "metadata": {},
   "outputs": [],
   "source": [
    "resampled = index_df.groupby('HOSP_NRD').apply(lambda x:x.sample(frac=0.03))"
   ]
  },
  {
   "cell_type": "code",
   "execution_count": 72,
   "metadata": {},
   "outputs": [],
   "source": [
    "resampled = resampled.reset_index(drop=True)"
   ]
  },
  {
   "cell_type": "code",
   "execution_count": 18,
   "metadata": {},
   "outputs": [],
   "source": [
    "recyc_pred0 = pd.read_csv(path+'cohorts30/ami/recyc_pred_subsample_tst2_1.00.csv')"
   ]
  },
  {
   "cell_type": "code",
   "execution_count": 23,
   "metadata": {},
   "outputs": [],
   "source": [
    "recyc_pred1 = pd.read_csv(path+'cohorts30/ami/recyc_pred_subsample_tst2_0.03.csv')"
   ]
  },
  {
   "cell_type": "code",
   "execution_count": 8,
   "metadata": {},
   "outputs": [
    {
     "data": {
      "text/html": [
       "<div>\n",
       "<style scoped>\n",
       "    .dataframe tbody tr th:only-of-type {\n",
       "        vertical-align: middle;\n",
       "    }\n",
       "\n",
       "    .dataframe tbody tr th {\n",
       "        vertical-align: top;\n",
       "    }\n",
       "\n",
       "    .dataframe thead th {\n",
       "        text-align: right;\n",
       "    }\n",
       "</style>\n",
       "<table border=\"1\" class=\"dataframe\">\n",
       "  <thead>\n",
       "    <tr style=\"text-align: right;\">\n",
       "      <th></th>\n",
       "      <th>recycle_pred0</th>\n",
       "      <th>recycle_pred1</th>\n",
       "      <th>recycle_pred2</th>\n",
       "      <th>recycle_pred3</th>\n",
       "      <th>recycle_pred4</th>\n",
       "      <th>recycle_pred5</th>\n",
       "      <th>recycle_pred6</th>\n",
       "      <th>recycle_pred7</th>\n",
       "      <th>recycle_pred8</th>\n",
       "      <th>HOSP_NRD</th>\n",
       "    </tr>\n",
       "  </thead>\n",
       "  <tbody>\n",
       "    <tr>\n",
       "      <th>0</th>\n",
       "      <td>0.129192</td>\n",
       "      <td>0.112443</td>\n",
       "      <td>0.115247</td>\n",
       "      <td>0.125012</td>\n",
       "      <td>0.113576</td>\n",
       "      <td>0.118052</td>\n",
       "      <td>0.116930</td>\n",
       "      <td>0.105061</td>\n",
       "      <td>0.117479</td>\n",
       "      <td>11006.0</td>\n",
       "    </tr>\n",
       "    <tr>\n",
       "      <th>1</th>\n",
       "      <td>0.107054</td>\n",
       "      <td>0.106097</td>\n",
       "      <td>0.103182</td>\n",
       "      <td>0.110509</td>\n",
       "      <td>0.115980</td>\n",
       "      <td>0.116261</td>\n",
       "      <td>0.098843</td>\n",
       "      <td>0.094880</td>\n",
       "      <td>0.108732</td>\n",
       "      <td>11010.0</td>\n",
       "    </tr>\n",
       "    <tr>\n",
       "      <th>2</th>\n",
       "      <td>0.113926</td>\n",
       "      <td>0.111053</td>\n",
       "      <td>0.114793</td>\n",
       "      <td>0.122014</td>\n",
       "      <td>0.124755</td>\n",
       "      <td>0.123318</td>\n",
       "      <td>0.117902</td>\n",
       "      <td>0.109314</td>\n",
       "      <td>0.116972</td>\n",
       "      <td>11011.0</td>\n",
       "    </tr>\n",
       "    <tr>\n",
       "      <th>3</th>\n",
       "      <td>0.145607</td>\n",
       "      <td>0.135421</td>\n",
       "      <td>0.136300</td>\n",
       "      <td>0.147907</td>\n",
       "      <td>0.135041</td>\n",
       "      <td>0.128416</td>\n",
       "      <td>0.161989</td>\n",
       "      <td>0.131937</td>\n",
       "      <td>0.132280</td>\n",
       "      <td>11013.0</td>\n",
       "    </tr>\n",
       "    <tr>\n",
       "      <th>4</th>\n",
       "      <td>0.107502</td>\n",
       "      <td>0.121933</td>\n",
       "      <td>0.117444</td>\n",
       "      <td>0.123720</td>\n",
       "      <td>0.126204</td>\n",
       "      <td>0.117350</td>\n",
       "      <td>0.113690</td>\n",
       "      <td>0.104035</td>\n",
       "      <td>0.121433</td>\n",
       "      <td>11014.0</td>\n",
       "    </tr>\n",
       "  </tbody>\n",
       "</table>\n",
       "</div>"
      ],
      "text/plain": [
       "   recycle_pred0  recycle_pred1  recycle_pred2  recycle_pred3  recycle_pred4  \\\n",
       "0       0.129192       0.112443       0.115247       0.125012       0.113576   \n",
       "1       0.107054       0.106097       0.103182       0.110509       0.115980   \n",
       "2       0.113926       0.111053       0.114793       0.122014       0.124755   \n",
       "3       0.145607       0.135421       0.136300       0.147907       0.135041   \n",
       "4       0.107502       0.121933       0.117444       0.123720       0.126204   \n",
       "\n",
       "   recycle_pred5  recycle_pred6  recycle_pred7  recycle_pred8  HOSP_NRD  \n",
       "0       0.118052       0.116930       0.105061       0.117479   11006.0  \n",
       "1       0.116261       0.098843       0.094880       0.108732   11010.0  \n",
       "2       0.123318       0.117902       0.109314       0.116972   11011.0  \n",
       "3       0.128416       0.161989       0.131937       0.132280   11013.0  \n",
       "4       0.117350       0.113690       0.104035       0.121433   11014.0  "
      ]
     },
     "execution_count": 8,
     "metadata": {},
     "output_type": "execute_result"
    }
   ],
   "source": [
    "recyc_pred0.head()"
   ]
  },
  {
   "cell_type": "code",
   "execution_count": 24,
   "metadata": {},
   "outputs": [],
   "source": [
    "compare = pd.merge(recyc_pred0[['HOSP_NRD', 'recycle_pred3']], recyc_pred1[['HOSP_NRD', 'recycle_pred3']], on='HOSP_NRD', suffixes=['_0', '_1'])\n",
    "\n",
    "compare.columns = ['HOSP_NRD', 'pred0', 'pred1']"
   ]
  },
  {
   "cell_type": "code",
   "execution_count": 21,
   "metadata": {},
   "outputs": [
    {
     "data": {
      "text/plain": [
       "<matplotlib.axes._subplots.AxesSubplot at 0x2b950153a4a8>"
      ]
     },
     "execution_count": 21,
     "metadata": {},
     "output_type": "execute_result"
    },
    {
     "data": {
      "image/png": "[encoded data removed]",
      "text/plain": [
       "<Figure size 432x288 with 1 Axes>"
      ]
     },
     "metadata": {},
     "output_type": "display_data"
    }
   ],
   "source": [
    "compare.plot.scatter('pred0', 'pred1')"
   ]
  },
  {
   "cell_type": "code",
   "execution_count": 25,
   "metadata": {},
   "outputs": [
    {
     "data": {
      "text/html": [
       "<div>\n",
       "<style scoped>\n",
       "    .dataframe tbody tr th:only-of-type {\n",
       "        vertical-align: middle;\n",
       "    }\n",
       "\n",
       "    .dataframe tbody tr th {\n",
       "        vertical-align: top;\n",
       "    }\n",
       "\n",
       "    .dataframe thead th {\n",
       "        text-align: right;\n",
       "    }\n",
       "</style>\n",
       "<table border=\"1\" class=\"dataframe\">\n",
       "  <thead>\n",
       "    <tr style=\"text-align: right;\">\n",
       "      <th></th>\n",
       "      <th>pred0</th>\n",
       "      <th>pred1</th>\n",
       "    </tr>\n",
       "  </thead>\n",
       "  <tbody>\n",
       "    <tr>\n",
       "      <th>count</th>\n",
       "      <td>874.000000</td>\n",
       "      <td>874.000000</td>\n",
       "    </tr>\n",
       "    <tr>\n",
       "      <th>mean</th>\n",
       "      <td>0.124839</td>\n",
       "      <td>0.118927</td>\n",
       "    </tr>\n",
       "    <tr>\n",
       "      <th>std</th>\n",
       "      <td>0.010115</td>\n",
       "      <td>0.009926</td>\n",
       "    </tr>\n",
       "    <tr>\n",
       "      <th>min</th>\n",
       "      <td>0.091793</td>\n",
       "      <td>0.086666</td>\n",
       "    </tr>\n",
       "    <tr>\n",
       "      <th>25%</th>\n",
       "      <td>0.117994</td>\n",
       "      <td>0.112201</td>\n",
       "    </tr>\n",
       "    <tr>\n",
       "      <th>50%</th>\n",
       "      <td>0.124899</td>\n",
       "      <td>0.118969</td>\n",
       "    </tr>\n",
       "    <tr>\n",
       "      <th>75%</th>\n",
       "      <td>0.131962</td>\n",
       "      <td>0.125908</td>\n",
       "    </tr>\n",
       "    <tr>\n",
       "      <th>max</th>\n",
       "      <td>0.151928</td>\n",
       "      <td>0.145631</td>\n",
       "    </tr>\n",
       "  </tbody>\n",
       "</table>\n",
       "</div>"
      ],
      "text/plain": [
       "            pred0       pred1\n",
       "count  874.000000  874.000000\n",
       "mean     0.124839    0.118927\n",
       "std      0.010115    0.009926\n",
       "min      0.091793    0.086666\n",
       "25%      0.117994    0.112201\n",
       "50%      0.124899    0.118969\n",
       "75%      0.131962    0.125908\n",
       "max      0.151928    0.145631"
      ]
     },
     "execution_count": 25,
     "metadata": {},
     "output_type": "execute_result"
    }
   ],
   "source": [
    "compare[['pred0', 'pred1']].describe()"
   ]
  },
  {
   "cell_type": "markdown",
   "metadata": {},
   "source": [
    "### Data formating"
   ]
  },
  {
   "cell_type": "code",
   "execution_count": 87,
   "metadata": {},
   "outputs": [],
   "source": [
    "n_DX = 29\n",
    "n_PR = 15\n",
    "DXs = ['DX'+str(n) for n in range(2, n_DX+2)]\n",
    "PRs = ['PR'+str(n) for n in range(1, n_PR+1)]"
   ]
  },
  {
   "cell_type": "code",
   "execution_count": 88,
   "metadata": {},
   "outputs": [],
   "source": [
    "DX_cat = ['missing'] + sorted(dx_multi.ICD9CM_CODE)\n",
    "PR_cat = ['missing'] + sorted(pr_multi.ICD9CM_CODE)\n",
    "n_DX_cat = len(DX_cat)\n",
    "n_PR_cat = len(PR_cat)\n",
    "unclassified = set(dx_multi.loc[dx_multi.CCS_LVL1 == '18', 'ICD9CM_CODE'])\n",
    "dx_ccs_cat = pd.concat([dx_multi.CCS_LVL1, dx_multi.CCS_LVL2, dx_multi.CCS_LVL3, dx_multi.CCS_LVL4]).astype('category').cat.categories\n",
    "pr_ccs_cat = pd.concat([pr_multi.CCS_LVL1, pr_multi.CCS_LVL2, pr_multi.CCS_LVL3]).astype('category').cat.categories\n",
    "\n",
    "DX1_dict = dict(zip(DX_cat, range(len(DX_cat))))\n",
    "DX_dict = dict(zip(DX_cat, [0] + list(range(len(DX_cat), len(DX_cat)*2))))\n",
    "PR_dict = dict(zip(PR_cat, [0] + list(range(len(DX_cat)*2-1, len(DX_cat)*2+len(PR_cat)-1))))\n",
    "code_cat = ['missing']+sorted(dx_multi.ICD9CM_CODE)*2+sorted(pr_multi.ICD9CM_CODE)+sorted(dx_ccs_cat)[1:]*2+sorted(pr_ccs_cat)[1:]\n",
    "n_code_cat = len(code_cat)    \n",
    "dx1_ccs_dict = dict(zip(dx_ccs_cat[1:], range(1+len(dx_multi)*2+len(pr_multi), len(dx_multi)*2+len(pr_multi)+len(dx_ccs_cat))))\n",
    "dx_ccs_dict = dict(zip(dx_ccs_cat[1:], range(1+len(dx_multi)*2+len(pr_multi)+len(dx_ccs_cat[1:]), \n",
    "                                             1+len(dx_multi)*2+len(pr_multi)+len(dx_ccs_cat[1:])*2)))\n",
    "pr_ccs_dict = dict(zip(pr_ccs_cat[1:], range(1+len(dx_multi)*2+len(pr_multi)+len(dx_ccs_cat[1:])*2, n_code_cat)))"
   ]
  },
  {
   "cell_type": "code",
   "execution_count": 89,
   "metadata": {},
   "outputs": [],
   "source": [
    "all_df = pd.read_csv(path+'cohorts/{}/{}_pred.csv'.format(cohort, cohort), dtype=core_dtypes_pd)"
   ]
  },
  {
   "cell_type": "code",
   "execution_count": 90,
   "metadata": {},
   "outputs": [],
   "source": [
    "hosp_freq = all_df.HOSP_NRD.value_counts()"
   ]
  },
  {
   "cell_type": "code",
   "execution_count": 12,
   "metadata": {},
   "outputs": [
    {
     "data": {
      "text/plain": [
       "(1107, 868)"
      ]
     },
     "execution_count": 12,
     "metadata": {},
     "output_type": "execute_result"
    }
   ],
   "source": [
    "len(hosp_freq), sum(hosp_freq>30)"
   ]
  },
  {
   "cell_type": "code",
   "execution_count": 91,
   "metadata": {},
   "outputs": [],
   "source": [
    "hosp_series = all_df['HOSP_NRD'].astype('category')\n",
    "hosp_cat = hosp_series.cat.categories\n",
    "hosp_dict = dict(zip(hosp_cat, range(len(hosp_cat))))"
   ]
  },
  {
   "cell_type": "code",
   "execution_count": 92,
   "metadata": {},
   "outputs": [],
   "source": [
    "tst_key = pd.read_csv(path+'cohorts/{}/tst_key{}.csv'.format(cohort, tst_seed), names = ['KEY_NRD'])\n",
    "tst_df = all_df.loc[all_df.KEY_NRD.isin(tst_key.KEY_NRD)]\n",
    "train_df0 = all_df.loc[~all_df.KEY_NRD.isin(tst_key.KEY_NRD)].reset_index()\n",
    "\n",
    "age_mean = train_df0['AGE'].mean()\n",
    "age_std = train_df0['AGE'].std()\n",
    "los_mean = train_df0['LOS'].mean()\n",
    "los_std = train_df0['LOS'].std()"
   ]
  },
  {
   "cell_type": "code",
   "execution_count": 93,
   "metadata": {},
   "outputs": [],
   "source": [
    "DX1_array = index_df.DX1.map(DX1_dict).values\n",
    "DX_df = index_df[DXs]\n",
    "DX_df = DX_df.fillna('missing')\n",
    "DX_df[DX_df.isin(['invl', 'incn'])] = 'missing'\n",
    "DX_df[DX_df.isin(unclassified)] = 'missing'\n",
    "for dx in DXs:\n",
    "    DX_df[dx] = DX_df[dx].map(DX_dict)\n",
    "DX_mat = DX_df.values\n",
    "PR_df = index_df[PRs]\n",
    "PR_df = PR_df.fillna('missing')\n",
    "PR_df[PR_df.isin(['invl', 'incn'])] = 'missing'\n",
    "for pr in PRs:\n",
    "    PR_df[pr] = PR_df[pr].map(PR_dict)\n",
    "PR_mat = PR_df.values\n",
    "demo_mat = index_df[['AGE', 'FEMALE']].values\n",
    "demo_mat[:, 0] = (demo_mat[:, 0]-age_mean)/age_std\n",
    "hosp_array = index_df['HOSP_NRD'].map(hosp_dict).values\n",
    "pay1_mat = to_categorical(index_df.PAY1.values)[:, 1:]\n",
    "los_array = (index_df.LOS.values - los_mean)/los_std\n",
    "ed_mat = to_categorical(index_df.HCUP_ED.values)\n",
    "zipinc_mat = to_categorical(index_df.ZIPINC_QRTL.values)[:, 1:]\n",
    "transfer_mat = to_categorical(index_df.SAMEDAYEVENT.values)\n",
    "other_mat = np.concatenate((demo_mat, pay1_mat, los_array.reshape(los_array.shape+(1,)), \n",
    "                                ed_mat, zipinc_mat, transfer_mat), axis=1)"
   ]
  },
  {
   "cell_type": "markdown",
   "metadata": {},
   "source": [
    "### Model Building"
   ]
  },
  {
   "cell_type": "code",
   "execution_count": 100,
   "metadata": {},
   "outputs": [],
   "source": [
    "from setsum_layer import SetSum, MaskedSum, MaskedDense, MaskedPooling"
   ]
  },
  {
   "cell_type": "code",
   "execution_count": 101,
   "metadata": {},
   "outputs": [],
   "source": [
    "code_embed_dim = 200\n",
    "md_width = 128\n",
    "fc_width = 512\n",
    "hosp_embed_dim = 1\n",
    "dropout = 0.3\n",
    "batchsize = 512"
   ]
  },
  {
   "cell_type": "code",
   "execution_count": 103,
   "metadata": {},
   "outputs": [],
   "source": [
    "input_DX1 = Input(shape=(1,))\n",
    "DX1_embed = Embedding(input_dim=n_code_cat, output_dim=code_embed_dim, name='DX1_embed')(input_DX1)\n",
    "DX1_embed = Reshape((code_embed_dim,))(DX1_embed)\n",
    "input_DX = Input(shape = (n_DX,))\n",
    "DX_embed = Embedding(input_dim=n_code_cat, output_dim=code_embed_dim, mask_zero=True, name='DX_embed')(input_DX)\n",
    "DX_embed = MaskedDense(md_width, activation='relu')(DX_embed)\n",
    "DX_embed = MaskedSum()(DX_embed)\n",
    "input_PR = Input(shape = (n_PR,))\n",
    "PR_embed = Embedding(input_dim=n_code_cat, output_dim=code_embed_dim, mask_zero=True, name='PR_embed')(input_PR)\n",
    "PR_embed = MaskedDense(md_width, activation='relu')(PR_embed)\n",
    "PR_embed = MaskedSum()(PR_embed)\n",
    "input_hosp = Input(shape=(1,))\n",
    "hosp_embed = Embedding(input_dim=len(hosp_cat), output_dim=hosp_embed_dim, input_length=1, name='hosp_embed')(input_hosp)\n",
    "hosp_embed = Reshape((hosp_embed_dim, ))(hosp_embed)\n",
    "input_other = Input(shape=(other_mat.shape[1], ))\n",
    "merged = Concatenate(axis=1)([DX1_embed, DX_embed, PR_embed, hosp_embed, input_other])\n",
    "x = Dense(fc_width, activation='relu')(merged)\n",
    "x = Dropout(dropout)(x)\n",
    "prediction = Dense(2, activation='softmax')(x)\n",
    "model = Model(inputs=[input_DX1, input_DX, input_PR, input_hosp, input_other], outputs=prediction)"
   ]
  },
  {
   "cell_type": "code",
   "execution_count": 104,
   "metadata": {},
   "outputs": [],
   "source": [
    "model.load_weights(model_path+'best_{}{}.h5'.format(cohort, tst_seed))"
   ]
  },
  {
   "cell_type": "code",
   "execution_count": 105,
   "metadata": {},
   "outputs": [
    {
     "name": "stdout",
     "output_type": "stream",
     "text": [
      "191509/191509 [==============================] - 10s 51us/step\n"
     ]
    }
   ],
   "source": [
    "y = model.predict([DX1_array, DX_mat, PR_mat, hosp_array, other_mat], verbose=1)\n",
    "\n",
    "y_pred = y[:, 1]"
   ]
  },
  {
   "cell_type": "code",
   "execution_count": 109,
   "metadata": {},
   "outputs": [],
   "source": [
    "national_pred = y_pred.mean()"
   ]
  },
  {
   "cell_type": "code",
   "execution_count": 106,
   "metadata": {},
   "outputs": [],
   "source": [
    "y_true = adjust_df.readm30.values"
   ]
  },
  {
   "cell_type": "code",
   "execution_count": 107,
   "metadata": {
    "scrolled": false
   },
   "outputs": [
    {
     "data": {
      "text/plain": [
       "{0: 0.732404492704879}"
      ]
     },
     "execution_count": 107,
     "metadata": {},
     "output_type": "execute_result"
    },
    {
     "data": {
      "image/png": "[encoded data removed]",
      "text/plain": [
       "<Figure size 432x288 with 1 Axes>"
      ]
     },
     "metadata": {},
     "output_type": "display_data"
    }
   ],
   "source": [
    "plot_roc(y_pred, y_true)"
   ]
  },
  {
   "cell_type": "code",
   "execution_count": 112,
   "metadata": {},
   "outputs": [],
   "source": [
    "hosp_embed_layer = [l for l in model.layers if l.name=='hosp_embed'][0]\n",
    "\n",
    "hosp_embed_mat = hosp_embed_layer.get_weights()[0]\n",
    "\n",
    "hosp_embed_array = hosp_embed_mat[:, 0]"
   ]
  },
  {
   "cell_type": "code",
   "execution_count": 63,
   "metadata": {},
   "outputs": [],
   "source": [
    "adjust_df = adjust_df.assign(predicted_score_dl=y_pred)"
   ]
  },
  {
   "cell_type": "code",
   "execution_count": 24,
   "metadata": {},
   "outputs": [],
   "source": [
    "grouped = adjust_df.groupby('HOSP_NRD')"
   ]
  },
  {
   "cell_type": "code",
   "execution_count": 25,
   "metadata": {},
   "outputs": [],
   "source": [
    "adjusted_rate = grouped[['readm30', 'predicted_score', 'expected_score', 'predicted_score_dl']].mean()"
   ]
  },
  {
   "cell_type": "code",
   "execution_count": 78,
   "metadata": {},
   "outputs": [],
   "source": [
    "adjusted_rate = adjusted_rate.assign(N=grouped.size())"
   ]
  },
  {
   "cell_type": "code",
   "execution_count": 27,
   "metadata": {},
   "outputs": [],
   "source": [
    "adjusted_rate = adjusted_rate.sort_values(by='N', ascending=False)"
   ]
  },
  {
   "cell_type": "code",
   "execution_count": 30,
   "metadata": {},
   "outputs": [
    {
     "data": {
      "text/plain": [
       "(0.11953476071357727, 0.12666245450605454, 0.12489865147974813)"
      ]
     },
     "execution_count": 30,
     "metadata": {},
     "output_type": "execute_result"
    }
   ],
   "source": [
    "adjust_df.predicted_score_dl.mean(), adjust_df.readm30.mean(), adjust_df.predicted_score.mean()"
   ]
  },
  {
   "cell_type": "code",
   "execution_count": 68,
   "metadata": {},
   "outputs": [],
   "source": [
    "national_observed = adjust_df.readm30.mean()"
   ]
  },
  {
   "cell_type": "code",
   "execution_count": 36,
   "metadata": {},
   "outputs": [],
   "source": [
    "adjusted_rate.columns = ['Observed', 'Predicted_ME', 'Expected_ME', 'Predicted_DL', 'N']"
   ]
  },
  {
   "cell_type": "code",
   "execution_count": 100,
   "metadata": {},
   "outputs": [],
   "source": [
    "adjusted_rate.columns = ['Observed', 'Predicted_ME', 'Expected_ME', 'N']"
   ]
  },
  {
   "cell_type": "code",
   "execution_count": 101,
   "metadata": {},
   "outputs": [],
   "source": [
    "adjusted_rate = adjusted_rate.assign(Adjusted_ME=adjusted_rate.Predicted_ME/adjusted_rate.Expected_ME*national_observed)"
   ]
  },
  {
   "cell_type": "code",
   "execution_count": 69,
   "metadata": {},
   "outputs": [],
   "source": [
    "hosp_lst = adjusted_rate.HOSP_NRD.values"
   ]
  },
  {
   "cell_type": "code",
   "execution_count": 70,
   "metadata": {},
   "outputs": [
    {
     "data": {
      "text/plain": [
       "array([12245, 13794, 13108, 11296, 11449, 12888, 11569, 11386, 12616,\n",
       "       12419])"
      ]
     },
     "execution_count": 70,
     "metadata": {},
     "output_type": "execute_result"
    }
   ],
   "source": [
    "hosp_lst[:10]"
   ]
  },
  {
   "cell_type": "code",
   "execution_count": 71,
   "metadata": {},
   "outputs": [
    {
     "name": "stdout",
     "output_type": "stream",
     "text": [
      "0\n",
      "1\n",
      "2\n",
      "3\n",
      "4\n"
     ]
    }
   ],
   "source": [
    "recycle_pred = []\n",
    "for i, hosp in enumerate(hosp_lst[:5]):\n",
    "    hosp_array = np.repeat(hosp_dict[hosp], len(index_df))\n",
    "    y = model.predict([DX1_array, DX_mat, PR_mat, hosp_array, other_mat], verbose=0)\n",
    "    y_pred = y[:, 1]\n",
    "    recycle_pred.append(y_pred.mean())\n",
    "    print(i)"
   ]
  },
  {
   "cell_type": "code",
   "execution_count": 72,
   "metadata": {},
   "outputs": [
    {
     "data": {
      "text/plain": [
       "[0.12781878, 0.119579345, 0.12239194, 0.11557904, 0.11595199]"
      ]
     },
     "execution_count": 72,
     "metadata": {},
     "output_type": "execute_result"
    }
   ],
   "source": [
    "recycle_pred"
   ]
  },
  {
   "cell_type": "code",
   "execution_count": 47,
   "metadata": {},
   "outputs": [
    {
     "data": {
      "text/plain": [
       "1107"
      ]
     },
     "execution_count": 47,
     "metadata": {},
     "output_type": "execute_result"
    }
   ],
   "source": [
    "len(recycle_pred)"
   ]
  },
  {
   "cell_type": "code",
   "execution_count": 48,
   "metadata": {},
   "outputs": [],
   "source": [
    "adjusted_rate = adjusted_rate.assign(Adjusted_DL=recycle_pred)"
   ]
  },
  {
   "cell_type": "code",
   "execution_count": 17,
   "metadata": {},
   "outputs": [],
   "source": [
    "adjusted_rate0 = adjusted_rate.copy()"
   ]
  },
  {
   "cell_type": "code",
   "execution_count": 10,
   "metadata": {},
   "outputs": [],
   "source": [
    "adjusted_rate = adjusted_rate0.loc[adjusted_rate0.N>9]"
   ]
  },
  {
   "cell_type": "code",
   "execution_count": 18,
   "metadata": {},
   "outputs": [],
   "source": [
    "adjusted_rate = adjusted_rate.sort_values('Adjusted_ME')\n",
    "adjusted_rate = adjusted_rate.assign(Rank_ME = range(len(adjusted_rate)))\n",
    "\n",
    "adjusted_rate = adjusted_rate.assign(Division_ME = 'middle60')\n",
    "adjusted_rate.loc[adjusted_rate.Rank_ME<int(len(adjusted_rate)*0.2), 'Division_ME'] = 'top20'\n",
    "adjusted_rate.loc[adjusted_rate.Rank_ME>int(len(adjusted_rate)*0.8), 'Division_ME'] = 'bottom20'"
   ]
  },
  {
   "cell_type": "code",
   "execution_count": 19,
   "metadata": {},
   "outputs": [],
   "source": [
    "adjusted_rate = adjusted_rate.sort_values('Adjusted_DL')\n",
    "adjusted_rate = adjusted_rate.assign(Rank_DL = range(len(adjusted_rate)))\n",
    "\n",
    "adjusted_rate = adjusted_rate.assign(Division_DL = 'middle60')\n",
    "adjusted_rate.loc[adjusted_rate.Rank_DL<int(len(adjusted_rate)*0.2), 'Division_DL'] = 'top20'\n",
    "adjusted_rate.loc[adjusted_rate.Rank_DL>int(len(adjusted_rate)*0.8), 'Division_DL'] = 'bottom20'"
   ]
  },
  {
   "cell_type": "code",
   "execution_count": 20,
   "metadata": {},
   "outputs": [],
   "source": [
    "adjusted_rate = adjusted_rate.sort_values('Recycled_ME')\n",
    "adjusted_rate = adjusted_rate.assign(Rank_recycle_ME = range(len(adjusted_rate)))\n",
    "\n",
    "adjusted_rate = adjusted_rate.assign(Division_recycle_ME = 'middle60')\n",
    "adjusted_rate.loc[adjusted_rate.Rank_recycle_ME<int(len(adjusted_rate)*0.2), 'Division_recycle_ME'] = 'top20'\n",
    "adjusted_rate.loc[adjusted_rate.Rank_recycle_ME>int(len(adjusted_rate)*0.8), 'Division_recycle_ME'] = 'bottom20'"
   ]
  },
  {
   "cell_type": "code",
   "execution_count": 15,
   "metadata": {
    "collapsed": true
   },
   "outputs": [
    {
     "data": {
      "text/html": [
       "<div>\n",
       "<style scoped>\n",
       "    .dataframe tbody tr th:only-of-type {\n",
       "        vertical-align: middle;\n",
       "    }\n",
       "\n",
       "    .dataframe tbody tr th {\n",
       "        vertical-align: top;\n",
       "    }\n",
       "\n",
       "    .dataframe thead th {\n",
       "        text-align: right;\n",
       "    }\n",
       "</style>\n",
       "<table border=\"1\" class=\"dataframe\">\n",
       "  <thead>\n",
       "    <tr style=\"text-align: right;\">\n",
       "      <th></th>\n",
       "      <th>HOSP_NRD</th>\n",
       "      <th>Observed</th>\n",
       "      <th>Predicted_ME</th>\n",
       "      <th>Expected_ME</th>\n",
       "      <th>Predicted_DL</th>\n",
       "      <th>N</th>\n",
       "      <th>Adjusted_ME</th>\n",
       "      <th>Adjusted_DL</th>\n",
       "      <th>Rank_ME</th>\n",
       "      <th>Division_ME</th>\n",
       "      <th>Rank_DL</th>\n",
       "      <th>Division_DL</th>\n",
       "    </tr>\n",
       "  </thead>\n",
       "  <tbody>\n",
       "    <tr>\n",
       "      <th>857</th>\n",
       "      <td>12513</td>\n",
       "      <td>0.000000</td>\n",
       "      <td>0.098073</td>\n",
       "      <td>0.107894</td>\n",
       "      <td>0.072570</td>\n",
       "      <td>34</td>\n",
       "      <td>0.115133</td>\n",
       "      <td>0.100217</td>\n",
       "      <td>164</td>\n",
       "      <td>top20</td>\n",
       "      <td>0</td>\n",
       "      <td>top20</td>\n",
       "    </tr>\n",
       "    <tr>\n",
       "      <th>420</th>\n",
       "      <td>14035</td>\n",
       "      <td>0.045714</td>\n",
       "      <td>0.087958</td>\n",
       "      <td>0.119099</td>\n",
       "      <td>0.084754</td>\n",
       "      <td>175</td>\n",
       "      <td>0.093544</td>\n",
       "      <td>0.101063</td>\n",
       "      <td>2</td>\n",
       "      <td>top20</td>\n",
       "      <td>1</td>\n",
       "      <td>top20</td>\n",
       "    </tr>\n",
       "    <tr>\n",
       "      <th>31</th>\n",
       "      <td>11058</td>\n",
       "      <td>0.061667</td>\n",
       "      <td>0.077574</td>\n",
       "      <td>0.104205</td>\n",
       "      <td>0.086588</td>\n",
       "      <td>600</td>\n",
       "      <td>0.094293</td>\n",
       "      <td>0.102124</td>\n",
       "      <td>5</td>\n",
       "      <td>top20</td>\n",
       "      <td>2</td>\n",
       "      <td>top20</td>\n",
       "    </tr>\n",
       "    <tr>\n",
       "      <th>269</th>\n",
       "      <td>13967</td>\n",
       "      <td>0.060241</td>\n",
       "      <td>0.092157</td>\n",
       "      <td>0.116396</td>\n",
       "      <td>0.090304</td>\n",
       "      <td>249</td>\n",
       "      <td>0.100285</td>\n",
       "      <td>0.103186</td>\n",
       "      <td>14</td>\n",
       "      <td>top20</td>\n",
       "      <td>3</td>\n",
       "      <td>top20</td>\n",
       "    </tr>\n",
       "    <tr>\n",
       "      <th>38</th>\n",
       "      <td>11055</td>\n",
       "      <td>0.095400</td>\n",
       "      <td>0.099371</td>\n",
       "      <td>0.119092</td>\n",
       "      <td>0.104955</td>\n",
       "      <td>587</td>\n",
       "      <td>0.105687</td>\n",
       "      <td>0.103320</td>\n",
       "      <td>38</td>\n",
       "      <td>top20</td>\n",
       "      <td>4</td>\n",
       "      <td>top20</td>\n",
       "    </tr>\n",
       "    <tr>\n",
       "      <th>862</th>\n",
       "      <td>13462</td>\n",
       "      <td>0.060606</td>\n",
       "      <td>0.129126</td>\n",
       "      <td>0.141223</td>\n",
       "      <td>0.117283</td>\n",
       "      <td>33</td>\n",
       "      <td>0.115813</td>\n",
       "      <td>0.103486</td>\n",
       "      <td>183</td>\n",
       "      <td>top20</td>\n",
       "      <td>5</td>\n",
       "      <td>top20</td>\n",
       "    </tr>\n",
       "    <tr>\n",
       "      <th>593</th>\n",
       "      <td>13008</td>\n",
       "      <td>0.071429</td>\n",
       "      <td>0.100246</td>\n",
       "      <td>0.115616</td>\n",
       "      <td>0.094118</td>\n",
       "      <td>112</td>\n",
       "      <td>0.109824</td>\n",
       "      <td>0.103912</td>\n",
       "      <td>78</td>\n",
       "      <td>top20</td>\n",
       "      <td>6</td>\n",
       "      <td>top20</td>\n",
       "    </tr>\n",
       "    <tr>\n",
       "      <th>734</th>\n",
       "      <td>11184</td>\n",
       "      <td>0.046154</td>\n",
       "      <td>0.097535</td>\n",
       "      <td>0.111969</td>\n",
       "      <td>0.080916</td>\n",
       "      <td>65</td>\n",
       "      <td>0.110334</td>\n",
       "      <td>0.103967</td>\n",
       "      <td>85</td>\n",
       "      <td>top20</td>\n",
       "      <td>7</td>\n",
       "      <td>top20</td>\n",
       "    </tr>\n",
       "    <tr>\n",
       "      <th>769</th>\n",
       "      <td>12861</td>\n",
       "      <td>0.054545</td>\n",
       "      <td>0.092059</td>\n",
       "      <td>0.097675</td>\n",
       "      <td>0.067970</td>\n",
       "      <td>55</td>\n",
       "      <td>0.119379</td>\n",
       "      <td>0.104242</td>\n",
       "      <td>262</td>\n",
       "      <td>middle60</td>\n",
       "      <td>8</td>\n",
       "      <td>top20</td>\n",
       "    </tr>\n",
       "    <tr>\n",
       "      <th>428</th>\n",
       "      <td>13906</td>\n",
       "      <td>0.057803</td>\n",
       "      <td>0.078413</td>\n",
       "      <td>0.094241</td>\n",
       "      <td>0.071936</td>\n",
       "      <td>173</td>\n",
       "      <td>0.105389</td>\n",
       "      <td>0.104713</td>\n",
       "      <td>36</td>\n",
       "      <td>top20</td>\n",
       "      <td>9</td>\n",
       "      <td>top20</td>\n",
       "    </tr>\n",
       "    <tr>\n",
       "      <th>929</th>\n",
       "      <td>12476</td>\n",
       "      <td>0.130435</td>\n",
       "      <td>0.171967</td>\n",
       "      <td>0.180348</td>\n",
       "      <td>0.175627</td>\n",
       "      <td>23</td>\n",
       "      <td>0.120776</td>\n",
       "      <td>0.104900</td>\n",
       "      <td>300</td>\n",
       "      <td>middle60</td>\n",
       "      <td>10</td>\n",
       "      <td>top20</td>\n",
       "    </tr>\n",
       "    <tr>\n",
       "      <th>1034</th>\n",
       "      <td>12825</td>\n",
       "      <td>0.071429</td>\n",
       "      <td>0.122081</td>\n",
       "      <td>0.127577</td>\n",
       "      <td>0.124234</td>\n",
       "      <td>14</td>\n",
       "      <td>0.121206</td>\n",
       "      <td>0.105411</td>\n",
       "      <td>321</td>\n",
       "      <td>middle60</td>\n",
       "      <td>11</td>\n",
       "      <td>top20</td>\n",
       "    </tr>\n",
       "    <tr>\n",
       "      <th>318</th>\n",
       "      <td>14000</td>\n",
       "      <td>0.092920</td>\n",
       "      <td>0.113462</td>\n",
       "      <td>0.137289</td>\n",
       "      <td>0.109042</td>\n",
       "      <td>226</td>\n",
       "      <td>0.104680</td>\n",
       "      <td>0.105808</td>\n",
       "      <td>34</td>\n",
       "      <td>top20</td>\n",
       "      <td>12</td>\n",
       "      <td>top20</td>\n",
       "    </tr>\n",
       "    <tr>\n",
       "      <th>731</th>\n",
       "      <td>12585</td>\n",
       "      <td>0.166667</td>\n",
       "      <td>0.146208</td>\n",
       "      <td>0.152568</td>\n",
       "      <td>0.184800</td>\n",
       "      <td>66</td>\n",
       "      <td>0.121383</td>\n",
       "      <td>0.105823</td>\n",
       "      <td>331</td>\n",
       "      <td>middle60</td>\n",
       "      <td>13</td>\n",
       "      <td>top20</td>\n",
       "    </tr>\n",
       "    <tr>\n",
       "      <th>59</th>\n",
       "      <td>11614</td>\n",
       "      <td>0.097416</td>\n",
       "      <td>0.100670</td>\n",
       "      <td>0.129748</td>\n",
       "      <td>0.099806</td>\n",
       "      <td>503</td>\n",
       "      <td>0.098276</td>\n",
       "      <td>0.106040</td>\n",
       "      <td>11</td>\n",
       "      <td>top20</td>\n",
       "      <td>14</td>\n",
       "      <td>top20</td>\n",
       "    </tr>\n",
       "    <tr>\n",
       "      <th>651</th>\n",
       "      <td>12045</td>\n",
       "      <td>0.054348</td>\n",
       "      <td>0.109565</td>\n",
       "      <td>0.128549</td>\n",
       "      <td>0.092858</td>\n",
       "      <td>92</td>\n",
       "      <td>0.107956</td>\n",
       "      <td>0.106317</td>\n",
       "      <td>56</td>\n",
       "      <td>top20</td>\n",
       "      <td>15</td>\n",
       "      <td>top20</td>\n",
       "    </tr>\n",
       "    <tr>\n",
       "      <th>51</th>\n",
       "      <td>12298</td>\n",
       "      <td>0.107607</td>\n",
       "      <td>0.111772</td>\n",
       "      <td>0.133509</td>\n",
       "      <td>0.122403</td>\n",
       "      <td>539</td>\n",
       "      <td>0.106040</td>\n",
       "      <td>0.106321</td>\n",
       "      <td>42</td>\n",
       "      <td>top20</td>\n",
       "      <td>16</td>\n",
       "      <td>top20</td>\n",
       "    </tr>\n",
       "    <tr>\n",
       "      <th>600</th>\n",
       "      <td>13489</td>\n",
       "      <td>0.074074</td>\n",
       "      <td>0.095095</td>\n",
       "      <td>0.113903</td>\n",
       "      <td>0.089599</td>\n",
       "      <td>108</td>\n",
       "      <td>0.105748</td>\n",
       "      <td>0.106431</td>\n",
       "      <td>39</td>\n",
       "      <td>top20</td>\n",
       "      <td>17</td>\n",
       "      <td>top20</td>\n",
       "    </tr>\n",
       "    <tr>\n",
       "      <th>346</th>\n",
       "      <td>13360</td>\n",
       "      <td>0.080952</td>\n",
       "      <td>0.098779</td>\n",
       "      <td>0.124023</td>\n",
       "      <td>0.096193</td>\n",
       "      <td>210</td>\n",
       "      <td>0.100881</td>\n",
       "      <td>0.106556</td>\n",
       "      <td>17</td>\n",
       "      <td>top20</td>\n",
       "      <td>18</td>\n",
       "      <td>top20</td>\n",
       "    </tr>\n",
       "    <tr>\n",
       "      <th>691</th>\n",
       "      <td>13498</td>\n",
       "      <td>0.175676</td>\n",
       "      <td>0.174060</td>\n",
       "      <td>0.196316</td>\n",
       "      <td>0.177967</td>\n",
       "      <td>74</td>\n",
       "      <td>0.112303</td>\n",
       "      <td>0.106798</td>\n",
       "      <td>111</td>\n",
       "      <td>top20</td>\n",
       "      <td>19</td>\n",
       "      <td>top20</td>\n",
       "    </tr>\n",
       "  </tbody>\n",
       "</table>\n",
       "</div>"
      ],
      "text/plain": [
       "      HOSP_NRD  Observed  Predicted_ME  Expected_ME  Predicted_DL    N  \\\n",
       "857      12513  0.000000      0.098073     0.107894      0.072570   34   \n",
       "420      14035  0.045714      0.087958     0.119099      0.084754  175   \n",
       "31       11058  0.061667      0.077574     0.104205      0.086588  600   \n",
       "269      13967  0.060241      0.092157     0.116396      0.090304  249   \n",
       "38       11055  0.095400      0.099371     0.119092      0.104955  587   \n",
       "862      13462  0.060606      0.129126     0.141223      0.117283   33   \n",
       "593      13008  0.071429      0.100246     0.115616      0.094118  112   \n",
       "734      11184  0.046154      0.097535     0.111969      0.080916   65   \n",
       "769      12861  0.054545      0.092059     0.097675      0.067970   55   \n",
       "428      13906  0.057803      0.078413     0.094241      0.071936  173   \n",
       "929      12476  0.130435      0.171967     0.180348      0.175627   23   \n",
       "1034     12825  0.071429      0.122081     0.127577      0.124234   14   \n",
       "318      14000  0.092920      0.113462     0.137289      0.109042  226   \n",
       "731      12585  0.166667      0.146208     0.152568      0.184800   66   \n",
       "59       11614  0.097416      0.100670     0.129748      0.099806  503   \n",
       "651      12045  0.054348      0.109565     0.128549      0.092858   92   \n",
       "51       12298  0.107607      0.111772     0.133509      0.122403  539   \n",
       "600      13489  0.074074      0.095095     0.113903      0.089599  108   \n",
       "346      13360  0.080952      0.098779     0.124023      0.096193  210   \n",
       "691      13498  0.175676      0.174060     0.196316      0.177967   74   \n",
       "\n",
       "      Adjusted_ME  Adjusted_DL  Rank_ME Division_ME  Rank_DL Division_DL  \n",
       "857      0.115133     0.100217      164       top20        0       top20  \n",
       "420      0.093544     0.101063        2       top20        1       top20  \n",
       "31       0.094293     0.102124        5       top20        2       top20  \n",
       "269      0.100285     0.103186       14       top20        3       top20  \n",
       "38       0.105687     0.103320       38       top20        4       top20  \n",
       "862      0.115813     0.103486      183       top20        5       top20  \n",
       "593      0.109824     0.103912       78       top20        6       top20  \n",
       "734      0.110334     0.103967       85       top20        7       top20  \n",
       "769      0.119379     0.104242      262    middle60        8       top20  \n",
       "428      0.105389     0.104713       36       top20        9       top20  \n",
       "929      0.120776     0.104900      300    middle60       10       top20  \n",
       "1034     0.121206     0.105411      321    middle60       11       top20  \n",
       "318      0.104680     0.105808       34       top20       12       top20  \n",
       "731      0.121383     0.105823      331    middle60       13       top20  \n",
       "59       0.098276     0.106040       11       top20       14       top20  \n",
       "651      0.107956     0.106317       56       top20       15       top20  \n",
       "51       0.106040     0.106321       42       top20       16       top20  \n",
       "600      0.105748     0.106431       39       top20       17       top20  \n",
       "346      0.100881     0.106556       17       top20       18       top20  \n",
       "691      0.112303     0.106798      111       top20       19       top20  "
      ]
     },
     "execution_count": 15,
     "metadata": {},
     "output_type": "execute_result"
    }
   ],
   "source": [
    "adjusted_rate.head(20)"
   ]
  },
  {
   "cell_type": "code",
   "execution_count": 11,
   "metadata": {
    "collapsed": true
   },
   "outputs": [
    {
     "data": {
      "text/html": [
       "<div>\n",
       "<style scoped>\n",
       "    .dataframe tbody tr th:only-of-type {\n",
       "        vertical-align: middle;\n",
       "    }\n",
       "\n",
       "    .dataframe tbody tr th {\n",
       "        vertical-align: top;\n",
       "    }\n",
       "\n",
       "    .dataframe thead th {\n",
       "        text-align: right;\n",
       "    }\n",
       "</style>\n",
       "<table border=\"1\" class=\"dataframe\">\n",
       "  <thead>\n",
       "    <tr style=\"text-align: right;\">\n",
       "      <th></th>\n",
       "      <th>HOSP_NRD</th>\n",
       "      <th>N</th>\n",
       "      <th>Observed</th>\n",
       "      <th>Adjusted_ME</th>\n",
       "      <th>Adjusted_DL</th>\n",
       "    </tr>\n",
       "  </thead>\n",
       "  <tbody>\n",
       "    <tr>\n",
       "      <th>1087</th>\n",
       "      <td>11424</td>\n",
       "      <td>11</td>\n",
       "      <td>0.090909</td>\n",
       "      <td>0.121668</td>\n",
       "      <td>0.110919</td>\n",
       "    </tr>\n",
       "    <tr>\n",
       "      <th>1088</th>\n",
       "      <td>12274</td>\n",
       "      <td>11</td>\n",
       "      <td>0.363636</td>\n",
       "      <td>0.128576</td>\n",
       "      <td>0.122766</td>\n",
       "    </tr>\n",
       "    <tr>\n",
       "      <th>1089</th>\n",
       "      <td>11456</td>\n",
       "      <td>11</td>\n",
       "      <td>0.090909</td>\n",
       "      <td>0.126595</td>\n",
       "      <td>0.117963</td>\n",
       "    </tr>\n",
       "    <tr>\n",
       "      <th>1090</th>\n",
       "      <td>13071</td>\n",
       "      <td>11</td>\n",
       "      <td>0.272727</td>\n",
       "      <td>0.125964</td>\n",
       "      <td>0.117699</td>\n",
       "    </tr>\n",
       "    <tr>\n",
       "      <th>1091</th>\n",
       "      <td>12828</td>\n",
       "      <td>11</td>\n",
       "      <td>0.181818</td>\n",
       "      <td>0.128669</td>\n",
       "      <td>0.120154</td>\n",
       "    </tr>\n",
       "    <tr>\n",
       "      <th>1092</th>\n",
       "      <td>11997</td>\n",
       "      <td>10</td>\n",
       "      <td>0.000000</td>\n",
       "      <td>0.120680</td>\n",
       "      <td>0.115942</td>\n",
       "    </tr>\n",
       "    <tr>\n",
       "      <th>1093</th>\n",
       "      <td>12874</td>\n",
       "      <td>10</td>\n",
       "      <td>0.200000</td>\n",
       "      <td>0.128908</td>\n",
       "      <td>0.112815</td>\n",
       "    </tr>\n",
       "    <tr>\n",
       "      <th>1094</th>\n",
       "      <td>13318</td>\n",
       "      <td>10</td>\n",
       "      <td>0.100000</td>\n",
       "      <td>0.124979</td>\n",
       "      <td>0.113105</td>\n",
       "    </tr>\n",
       "    <tr>\n",
       "      <th>1095</th>\n",
       "      <td>12066</td>\n",
       "      <td>10</td>\n",
       "      <td>0.200000</td>\n",
       "      <td>0.128936</td>\n",
       "      <td>0.123382</td>\n",
       "    </tr>\n",
       "    <tr>\n",
       "      <th>1096</th>\n",
       "      <td>12218</td>\n",
       "      <td>10</td>\n",
       "      <td>0.100000</td>\n",
       "      <td>0.125914</td>\n",
       "      <td>0.120221</td>\n",
       "    </tr>\n",
       "    <tr>\n",
       "      <th>1097</th>\n",
       "      <td>13660</td>\n",
       "      <td>10</td>\n",
       "      <td>0.200000</td>\n",
       "      <td>0.127200</td>\n",
       "      <td>0.120377</td>\n",
       "    </tr>\n",
       "    <tr>\n",
       "      <th>1098</th>\n",
       "      <td>11863</td>\n",
       "      <td>10</td>\n",
       "      <td>0.000000</td>\n",
       "      <td>0.121583</td>\n",
       "      <td>0.107772</td>\n",
       "    </tr>\n",
       "    <tr>\n",
       "      <th>1099</th>\n",
       "      <td>11244</td>\n",
       "      <td>10</td>\n",
       "      <td>0.400000</td>\n",
       "      <td>0.138392</td>\n",
       "      <td>0.122761</td>\n",
       "    </tr>\n",
       "    <tr>\n",
       "      <th>1100</th>\n",
       "      <td>11504</td>\n",
       "      <td>10</td>\n",
       "      <td>0.300000</td>\n",
       "      <td>0.131652</td>\n",
       "      <td>0.118702</td>\n",
       "    </tr>\n",
       "    <tr>\n",
       "      <th>1101</th>\n",
       "      <td>11275</td>\n",
       "      <td>10</td>\n",
       "      <td>0.400000</td>\n",
       "      <td>0.135988</td>\n",
       "      <td>0.127330</td>\n",
       "    </tr>\n",
       "    <tr>\n",
       "      <th>1102</th>\n",
       "      <td>11656</td>\n",
       "      <td>10</td>\n",
       "      <td>0.200000</td>\n",
       "      <td>0.128749</td>\n",
       "      <td>0.116095</td>\n",
       "    </tr>\n",
       "    <tr>\n",
       "      <th>1103</th>\n",
       "      <td>13729</td>\n",
       "      <td>10</td>\n",
       "      <td>0.300000</td>\n",
       "      <td>0.131253</td>\n",
       "      <td>0.114389</td>\n",
       "    </tr>\n",
       "    <tr>\n",
       "      <th>1104</th>\n",
       "      <td>12927</td>\n",
       "      <td>10</td>\n",
       "      <td>0.100000</td>\n",
       "      <td>0.123279</td>\n",
       "      <td>0.122195</td>\n",
       "    </tr>\n",
       "    <tr>\n",
       "      <th>1105</th>\n",
       "      <td>12837</td>\n",
       "      <td>10</td>\n",
       "      <td>0.100000</td>\n",
       "      <td>0.125351</td>\n",
       "      <td>0.115559</td>\n",
       "    </tr>\n",
       "    <tr>\n",
       "      <th>1106</th>\n",
       "      <td>13820</td>\n",
       "      <td>10</td>\n",
       "      <td>0.100000</td>\n",
       "      <td>0.125519</td>\n",
       "      <td>0.110889</td>\n",
       "    </tr>\n",
       "  </tbody>\n",
       "</table>\n",
       "</div>"
      ],
      "text/plain": [
       "      HOSP_NRD   N  Observed  Adjusted_ME  Adjusted_DL\n",
       "1087     11424  11  0.090909     0.121668     0.110919\n",
       "1088     12274  11  0.363636     0.128576     0.122766\n",
       "1089     11456  11  0.090909     0.126595     0.117963\n",
       "1090     13071  11  0.272727     0.125964     0.117699\n",
       "1091     12828  11  0.181818     0.128669     0.120154\n",
       "1092     11997  10  0.000000     0.120680     0.115942\n",
       "1093     12874  10  0.200000     0.128908     0.112815\n",
       "1094     13318  10  0.100000     0.124979     0.113105\n",
       "1095     12066  10  0.200000     0.128936     0.123382\n",
       "1096     12218  10  0.100000     0.125914     0.120221\n",
       "1097     13660  10  0.200000     0.127200     0.120377\n",
       "1098     11863  10  0.000000     0.121583     0.107772\n",
       "1099     11244  10  0.400000     0.138392     0.122761\n",
       "1100     11504  10  0.300000     0.131652     0.118702\n",
       "1101     11275  10  0.400000     0.135988     0.127330\n",
       "1102     11656  10  0.200000     0.128749     0.116095\n",
       "1103     13729  10  0.300000     0.131253     0.114389\n",
       "1104     12927  10  0.100000     0.123279     0.122195\n",
       "1105     12837  10  0.100000     0.125351     0.115559\n",
       "1106     13820  10  0.100000     0.125519     0.110889"
      ]
     },
     "execution_count": 11,
     "metadata": {},
     "output_type": "execute_result"
    }
   ],
   "source": [
    "adjusted_rate[['HOSP_NRD', 'N', 'Observed', 'Adjusted_ME', 'Adjusted_DL']].tail(20)"
   ]
  },
  {
   "cell_type": "code",
   "execution_count": 14,
   "metadata": {},
   "outputs": [
    {
     "data": {
      "text/plain": [
       "(1107, 12)"
      ]
     },
     "execution_count": 14,
     "metadata": {},
     "output_type": "execute_result"
    }
   ],
   "source": [
    "adjusted_rate.shape"
   ]
  },
  {
   "cell_type": "code",
   "execution_count": 37,
   "metadata": {},
   "outputs": [
    {
     "data": {
      "text/plain": [
       "<matplotlib.axes._subplots.AxesSubplot at 0x2aea2f1293c8>"
      ]
     },
     "execution_count": 37,
     "metadata": {},
     "output_type": "execute_result"
    },
    {
     "data": {
      "image/png": "[encoded data removed]",
      "text/plain": [
       "<Figure size 432x288 with 1 Axes>"
      ]
     },
     "metadata": {},
     "output_type": "display_data"
    }
   ],
   "source": [
    "adjusted_rate.plot.scatter('Rank_DL1', 'Rank_recycle_ME')"
   ]
  },
  {
   "cell_type": "code",
   "execution_count": 38,
   "metadata": {},
   "outputs": [
    {
     "data": {
      "text/plain": [
       "<matplotlib.axes._subplots.AxesSubplot at 0x2aea2f1f6128>"
      ]
     },
     "execution_count": 38,
     "metadata": {},
     "output_type": "execute_result"
    },
    {
     "data": {
      "image/png": "[encoded data removed]",
      "text/plain": [
       "<Figure size 432x288 with 1 Axes>"
      ]
     },
     "metadata": {},
     "output_type": "display_data"
    }
   ],
   "source": [
    "adjusted_rate.plot.scatter('Adjusted_DL1', 'Recycled_ME')"
   ]
  },
  {
   "cell_type": "code",
   "execution_count": 39,
   "metadata": {},
   "outputs": [
    {
     "data": {
      "text/html": [
       "<div>\n",
       "<style scoped>\n",
       "    .dataframe tbody tr th:only-of-type {\n",
       "        vertical-align: middle;\n",
       "    }\n",
       "\n",
       "    .dataframe tbody tr th {\n",
       "        vertical-align: top;\n",
       "    }\n",
       "\n",
       "    .dataframe thead th {\n",
       "        text-align: right;\n",
       "    }\n",
       "</style>\n",
       "<table border=\"1\" class=\"dataframe\">\n",
       "  <thead>\n",
       "    <tr style=\"text-align: right;\">\n",
       "      <th>Division_recycle_ME</th>\n",
       "      <th>bottom20</th>\n",
       "      <th>middle60</th>\n",
       "      <th>top20</th>\n",
       "      <th>All</th>\n",
       "    </tr>\n",
       "    <tr>\n",
       "      <th>Division_DL1</th>\n",
       "      <th></th>\n",
       "      <th></th>\n",
       "      <th></th>\n",
       "      <th></th>\n",
       "    </tr>\n",
       "  </thead>\n",
       "  <tbody>\n",
       "    <tr>\n",
       "      <th>bottom20</th>\n",
       "      <td>116</td>\n",
       "      <td>103</td>\n",
       "      <td>2</td>\n",
       "      <td>221</td>\n",
       "    </tr>\n",
       "    <tr>\n",
       "      <th>middle60</th>\n",
       "      <td>103</td>\n",
       "      <td>456</td>\n",
       "      <td>106</td>\n",
       "      <td>665</td>\n",
       "    </tr>\n",
       "    <tr>\n",
       "      <th>top20</th>\n",
       "      <td>2</td>\n",
       "      <td>106</td>\n",
       "      <td>113</td>\n",
       "      <td>221</td>\n",
       "    </tr>\n",
       "    <tr>\n",
       "      <th>All</th>\n",
       "      <td>221</td>\n",
       "      <td>665</td>\n",
       "      <td>221</td>\n",
       "      <td>1107</td>\n",
       "    </tr>\n",
       "  </tbody>\n",
       "</table>\n",
       "</div>"
      ],
      "text/plain": [
       "Division_recycle_ME  bottom20  middle60  top20   All\n",
       "Division_DL1                                        \n",
       "bottom20                  116       103      2   221\n",
       "middle60                  103       456    106   665\n",
       "top20                       2       106    113   221\n",
       "All                       221       665    221  1107"
      ]
     },
     "execution_count": 39,
     "metadata": {},
     "output_type": "execute_result"
    }
   ],
   "source": [
    "pd.crosstab(adjusted_rate.Division_DL1, adjusted_rate.Division_recycle_ME, margins=True)"
   ]
  },
  {
   "cell_type": "code",
   "execution_count": 18,
   "metadata": {},
   "outputs": [
    {
     "data": {
      "text/html": [
       "<div>\n",
       "<style scoped>\n",
       "    .dataframe tbody tr th:only-of-type {\n",
       "        vertical-align: middle;\n",
       "    }\n",
       "\n",
       "    .dataframe tbody tr th {\n",
       "        vertical-align: top;\n",
       "    }\n",
       "\n",
       "    .dataframe thead th {\n",
       "        text-align: right;\n",
       "    }\n",
       "</style>\n",
       "<table border=\"1\" class=\"dataframe\">\n",
       "  <thead>\n",
       "    <tr style=\"text-align: right;\">\n",
       "      <th>Division_ME</th>\n",
       "      <th>bottom20</th>\n",
       "      <th>middle60</th>\n",
       "      <th>top20</th>\n",
       "    </tr>\n",
       "    <tr>\n",
       "      <th>Division_DL</th>\n",
       "      <th></th>\n",
       "      <th></th>\n",
       "      <th></th>\n",
       "    </tr>\n",
       "  </thead>\n",
       "  <tbody>\n",
       "    <tr>\n",
       "      <th>bottom20</th>\n",
       "      <td>0.542986</td>\n",
       "      <td>0.443439</td>\n",
       "      <td>0.013575</td>\n",
       "    </tr>\n",
       "    <tr>\n",
       "      <th>middle60</th>\n",
       "      <td>0.148872</td>\n",
       "      <td>0.708271</td>\n",
       "      <td>0.142857</td>\n",
       "    </tr>\n",
       "    <tr>\n",
       "      <th>top20</th>\n",
       "      <td>0.009050</td>\n",
       "      <td>0.434389</td>\n",
       "      <td>0.556561</td>\n",
       "    </tr>\n",
       "  </tbody>\n",
       "</table>\n",
       "</div>"
      ],
      "text/plain": [
       "Division_ME  bottom20  middle60     top20\n",
       "Division_DL                              \n",
       "bottom20     0.542986  0.443439  0.013575\n",
       "middle60     0.148872  0.708271  0.142857\n",
       "top20        0.009050  0.434389  0.556561"
      ]
     },
     "execution_count": 18,
     "metadata": {},
     "output_type": "execute_result"
    }
   ],
   "source": [
    "pd.crosstab(adjusted_rate.Division_DL, adjusted_rate.Division_ME, normalize='index')"
   ]
  },
  {
   "cell_type": "code",
   "execution_count": 16,
   "metadata": {},
   "outputs": [],
   "source": [
    "adjusted_rate = adjusted_rate.assign(rank_diff=adjusted_rate.Rank_ME - adjusted_rate.Rank_DL)"
   ]
  },
  {
   "cell_type": "code",
   "execution_count": 17,
   "metadata": {},
   "outputs": [
    {
     "data": {
      "text/html": [
       "<div>\n",
       "<style scoped>\n",
       "    .dataframe tbody tr th:only-of-type {\n",
       "        vertical-align: middle;\n",
       "    }\n",
       "\n",
       "    .dataframe tbody tr th {\n",
       "        vertical-align: top;\n",
       "    }\n",
       "\n",
       "    .dataframe thead th {\n",
       "        text-align: right;\n",
       "    }\n",
       "</style>\n",
       "<table border=\"1\" class=\"dataframe\">\n",
       "  <thead>\n",
       "    <tr style=\"text-align: right;\">\n",
       "      <th></th>\n",
       "      <th>HOSP_NRD</th>\n",
       "      <th>Observed</th>\n",
       "      <th>Predicted_ME</th>\n",
       "      <th>Expected_ME</th>\n",
       "      <th>Predicted_DL</th>\n",
       "      <th>N</th>\n",
       "      <th>Adjusted_ME</th>\n",
       "      <th>Adjusted_DL</th>\n",
       "      <th>Rank_ME</th>\n",
       "      <th>Division_ME</th>\n",
       "      <th>Rank_DL</th>\n",
       "      <th>Division_DL</th>\n",
       "      <th>rank_diff</th>\n",
       "    </tr>\n",
       "  </thead>\n",
       "  <tbody>\n",
       "    <tr>\n",
       "      <th>301</th>\n",
       "      <td>13042</td>\n",
       "      <td>0.141026</td>\n",
       "      <td>0.133393</td>\n",
       "      <td>0.123684</td>\n",
       "      <td>0.130901</td>\n",
       "      <td>234</td>\n",
       "      <td>0.136605</td>\n",
       "      <td>0.112552</td>\n",
       "      <td>908</td>\n",
       "      <td>bottom20</td>\n",
       "      <td>151</td>\n",
       "      <td>top20</td>\n",
       "      <td>757</td>\n",
       "    </tr>\n",
       "    <tr>\n",
       "      <th>329</th>\n",
       "      <td>11973</td>\n",
       "      <td>0.150000</td>\n",
       "      <td>0.139472</td>\n",
       "      <td>0.130377</td>\n",
       "      <td>0.143659</td>\n",
       "      <td>220</td>\n",
       "      <td>0.135498</td>\n",
       "      <td>0.112926</td>\n",
       "      <td>876</td>\n",
       "      <td>middle60</td>\n",
       "      <td>169</td>\n",
       "      <td>top20</td>\n",
       "      <td>707</td>\n",
       "    </tr>\n",
       "    <tr>\n",
       "      <th>562</th>\n",
       "      <td>11943</td>\n",
       "      <td>0.139344</td>\n",
       "      <td>0.111421</td>\n",
       "      <td>0.103801</td>\n",
       "      <td>0.125417</td>\n",
       "      <td>122</td>\n",
       "      <td>0.135961</td>\n",
       "      <td>0.113867</td>\n",
       "      <td>891</td>\n",
       "      <td>bottom20</td>\n",
       "      <td>209</td>\n",
       "      <td>top20</td>\n",
       "      <td>682</td>\n",
       "    </tr>\n",
       "    <tr>\n",
       "      <th>213</th>\n",
       "      <td>13180</td>\n",
       "      <td>0.161972</td>\n",
       "      <td>0.135559</td>\n",
       "      <td>0.111793</td>\n",
       "      <td>0.127514</td>\n",
       "      <td>284</td>\n",
       "      <td>0.153590</td>\n",
       "      <td>0.116939</td>\n",
       "      <td>1074</td>\n",
       "      <td>bottom20</td>\n",
       "      <td>397</td>\n",
       "      <td>middle60</td>\n",
       "      <td>677</td>\n",
       "    </tr>\n",
       "    <tr>\n",
       "      <th>568</th>\n",
       "      <td>13408</td>\n",
       "      <td>0.159664</td>\n",
       "      <td>0.133056</td>\n",
       "      <td>0.117297</td>\n",
       "      <td>0.125535</td>\n",
       "      <td>119</td>\n",
       "      <td>0.143680</td>\n",
       "      <td>0.116379</td>\n",
       "      <td>1008</td>\n",
       "      <td>bottom20</td>\n",
       "      <td>362</td>\n",
       "      <td>middle60</td>\n",
       "      <td>646</td>\n",
       "    </tr>\n",
       "  </tbody>\n",
       "</table>\n",
       "</div>"
      ],
      "text/plain": [
       "     HOSP_NRD  Observed  Predicted_ME  Expected_ME  Predicted_DL    N  \\\n",
       "301     13042  0.141026      0.133393     0.123684      0.130901  234   \n",
       "329     11973  0.150000      0.139472     0.130377      0.143659  220   \n",
       "562     11943  0.139344      0.111421     0.103801      0.125417  122   \n",
       "213     13180  0.161972      0.135559     0.111793      0.127514  284   \n",
       "568     13408  0.159664      0.133056     0.117297      0.125535  119   \n",
       "\n",
       "     Adjusted_ME  Adjusted_DL  Rank_ME Division_ME  Rank_DL Division_DL  \\\n",
       "301     0.136605     0.112552      908    bottom20      151       top20   \n",
       "329     0.135498     0.112926      876    middle60      169       top20   \n",
       "562     0.135961     0.113867      891    bottom20      209       top20   \n",
       "213     0.153590     0.116939     1074    bottom20      397    middle60   \n",
       "568     0.143680     0.116379     1008    bottom20      362    middle60   \n",
       "\n",
       "     rank_diff  \n",
       "301        757  \n",
       "329        707  \n",
       "562        682  \n",
       "213        677  \n",
       "568        646  "
      ]
     },
     "execution_count": 17,
     "metadata": {},
     "output_type": "execute_result"
    }
   ],
   "source": [
    "adjusted_rate.sort_values('rank_diff', ascending=False).head()"
   ]
  },
  {
   "cell_type": "code",
   "execution_count": 50,
   "metadata": {},
   "outputs": [],
   "source": [
    "adjusted_rate.to_csv(path+'cohorts/{}/adjusted_rate.csv'.format(cohort))"
   ]
  },
  {
   "cell_type": "code",
   "execution_count": 24,
   "metadata": {},
   "outputs": [],
   "source": [
    "adjusted_rate = pd.read_csv(path+'cohorts/{}/adjusted_rate.csv'.format(cohort))"
   ]
  },
  {
   "cell_type": "code",
   "execution_count": 138,
   "metadata": {},
   "outputs": [],
   "source": [
    "recycle_DL = pd.read_csv(path+'cohorts/{}/recyc_pred_{}.csv'.format(cohort, 0))\n",
    "recycle_DL.columns = ['Adjusted_index{}'.format(0), 'HOSP_NRD']\n",
    "for tst_seed in range(1, 10):\n",
    "    recyc = pd.read_csv(path+'cohorts/{}/recyc_pred_{}.csv'.format(cohort, tst_seed))\n",
    "    recyc.columns = ['Adjusted_index{}'.format(tst_seed), 'HOSP_NRD']\n",
    "    recycle_DL = pd.merge(recycle_DL, recyc, on='HOSP_NRD')"
   ]
  },
  {
   "cell_type": "code",
   "execution_count": 139,
   "metadata": {},
   "outputs": [],
   "source": [
    "for tst_seed in range(7):\n",
    "    recyc = pd.read_csv(path+'cohorts/{}/recyc_pred_tst{}.csv'.format(cohort, tst_seed))\n",
    "    recyc.columns = ['Adjusted_tst{}'.format(tst_seed), 'HOSP_NRD']\n",
    "    recycle_DL = pd.merge(recycle_DL, recyc, on='HOSP_NRD')"
   ]
  },
  {
   "cell_type": "code",
   "execution_count": 80,
   "metadata": {},
   "outputs": [],
   "source": [
    "recycle_DL = recycle_DL.assign(mean=recycle_DL[['Adjusted_DL'+str(s) for s in range(10)]].mean(axis=1))\n",
    "recycle_DL = recycle_DL.assign(std=recycle_DL[['Adjusted_DL'+str(s) for s in range(10)]].std(axis=1)/np.sqrt(1))\n",
    "recycle_DL = recycle_DL.assign(upper=recycle_DL['mean']+1.96*recycle_DL['std'])\n",
    "recycle_DL = recycle_DL.assign(lower=recycle_DL['mean']-1.96*recycle_DL['std'])"
   ]
  },
  {
   "cell_type": "code",
   "execution_count": 140,
   "metadata": {},
   "outputs": [
    {
     "data": {
      "text/html": [
       "<div>\n",
       "<style scoped>\n",
       "    .dataframe tbody tr th:only-of-type {\n",
       "        vertical-align: middle;\n",
       "    }\n",
       "\n",
       "    .dataframe tbody tr th {\n",
       "        vertical-align: top;\n",
       "    }\n",
       "\n",
       "    .dataframe thead th {\n",
       "        text-align: right;\n",
       "    }\n",
       "</style>\n",
       "<table border=\"1\" class=\"dataframe\">\n",
       "  <thead>\n",
       "    <tr style=\"text-align: right;\">\n",
       "      <th></th>\n",
       "      <th>Adjusted_index0</th>\n",
       "      <th>HOSP_NRD</th>\n",
       "      <th>Adjusted_index1</th>\n",
       "      <th>Adjusted_index2</th>\n",
       "      <th>Adjusted_index3</th>\n",
       "      <th>Adjusted_index4</th>\n",
       "      <th>Adjusted_index5</th>\n",
       "      <th>Adjusted_index6</th>\n",
       "      <th>Adjusted_index7</th>\n",
       "      <th>Adjusted_index8</th>\n",
       "      <th>Adjusted_index9</th>\n",
       "      <th>Adjusted_tst0</th>\n",
       "      <th>Adjusted_tst1</th>\n",
       "      <th>Adjusted_tst2</th>\n",
       "      <th>Adjusted_tst3</th>\n",
       "      <th>Adjusted_tst4</th>\n",
       "      <th>Adjusted_tst5</th>\n",
       "      <th>Adjusted_tst6</th>\n",
       "    </tr>\n",
       "  </thead>\n",
       "  <tbody>\n",
       "    <tr>\n",
       "      <th>0</th>\n",
       "      <td>0.111387</td>\n",
       "      <td>11006.0</td>\n",
       "      <td>0.117523</td>\n",
       "      <td>0.120643</td>\n",
       "      <td>0.106672</td>\n",
       "      <td>0.118943</td>\n",
       "      <td>0.125235</td>\n",
       "      <td>0.127023</td>\n",
       "      <td>0.108597</td>\n",
       "      <td>0.106732</td>\n",
       "      <td>0.119385</td>\n",
       "      <td>0.110114</td>\n",
       "      <td>0.115654</td>\n",
       "      <td>0.120461</td>\n",
       "      <td>0.105349</td>\n",
       "      <td>0.117297</td>\n",
       "      <td>0.123791</td>\n",
       "      <td>0.125217</td>\n",
       "    </tr>\n",
       "    <tr>\n",
       "      <th>1</th>\n",
       "      <td>0.115136</td>\n",
       "      <td>11010.0</td>\n",
       "      <td>0.118052</td>\n",
       "      <td>0.119817</td>\n",
       "      <td>0.109564</td>\n",
       "      <td>0.117154</td>\n",
       "      <td>0.109042</td>\n",
       "      <td>0.123234</td>\n",
       "      <td>0.104473</td>\n",
       "      <td>0.097824</td>\n",
       "      <td>0.110803</td>\n",
       "      <td>0.113841</td>\n",
       "      <td>0.116177</td>\n",
       "      <td>0.119639</td>\n",
       "      <td>0.108220</td>\n",
       "      <td>0.115513</td>\n",
       "      <td>0.107679</td>\n",
       "      <td>0.121456</td>\n",
       "    </tr>\n",
       "    <tr>\n",
       "      <th>2</th>\n",
       "      <td>0.111795</td>\n",
       "      <td>11011.0</td>\n",
       "      <td>0.108583</td>\n",
       "      <td>0.125113</td>\n",
       "      <td>0.110101</td>\n",
       "      <td>0.115699</td>\n",
       "      <td>0.118537</td>\n",
       "      <td>0.115928</td>\n",
       "      <td>0.107616</td>\n",
       "      <td>0.103374</td>\n",
       "      <td>0.111845</td>\n",
       "      <td>0.110519</td>\n",
       "      <td>0.106824</td>\n",
       "      <td>0.124908</td>\n",
       "      <td>0.108752</td>\n",
       "      <td>0.114063</td>\n",
       "      <td>0.117123</td>\n",
       "      <td>0.114209</td>\n",
       "    </tr>\n",
       "    <tr>\n",
       "      <th>3</th>\n",
       "      <td>0.128108</td>\n",
       "      <td>11013.0</td>\n",
       "      <td>0.133123</td>\n",
       "      <td>0.137423</td>\n",
       "      <td>0.132450</td>\n",
       "      <td>0.137320</td>\n",
       "      <td>0.127113</td>\n",
       "      <td>0.141172</td>\n",
       "      <td>0.133023</td>\n",
       "      <td>0.146313</td>\n",
       "      <td>0.130289</td>\n",
       "      <td>0.126742</td>\n",
       "      <td>0.131081</td>\n",
       "      <td>0.137156</td>\n",
       "      <td>0.130943</td>\n",
       "      <td>0.135636</td>\n",
       "      <td>0.125661</td>\n",
       "      <td>0.139268</td>\n",
       "    </tr>\n",
       "    <tr>\n",
       "      <th>4</th>\n",
       "      <td>0.115302</td>\n",
       "      <td>11014.0</td>\n",
       "      <td>0.126566</td>\n",
       "      <td>0.117974</td>\n",
       "      <td>0.112363</td>\n",
       "      <td>0.114952</td>\n",
       "      <td>0.115864</td>\n",
       "      <td>0.129919</td>\n",
       "      <td>0.115519</td>\n",
       "      <td>0.114341</td>\n",
       "      <td>0.115896</td>\n",
       "      <td>0.114006</td>\n",
       "      <td>0.124595</td>\n",
       "      <td>0.117805</td>\n",
       "      <td>0.110998</td>\n",
       "      <td>0.113317</td>\n",
       "      <td>0.114464</td>\n",
       "      <td>0.128092</td>\n",
       "    </tr>\n",
       "  </tbody>\n",
       "</table>\n",
       "</div>"
      ],
      "text/plain": [
       "   Adjusted_index0  HOSP_NRD  Adjusted_index1  Adjusted_index2  \\\n",
       "0         0.111387   11006.0         0.117523         0.120643   \n",
       "1         0.115136   11010.0         0.118052         0.119817   \n",
       "2         0.111795   11011.0         0.108583         0.125113   \n",
       "3         0.128108   11013.0         0.133123         0.137423   \n",
       "4         0.115302   11014.0         0.126566         0.117974   \n",
       "\n",
       "   Adjusted_index3  Adjusted_index4  Adjusted_index5  Adjusted_index6  \\\n",
       "0         0.106672         0.118943         0.125235         0.127023   \n",
       "1         0.109564         0.117154         0.109042         0.123234   \n",
       "2         0.110101         0.115699         0.118537         0.115928   \n",
       "3         0.132450         0.137320         0.127113         0.141172   \n",
       "4         0.112363         0.114952         0.115864         0.129919   \n",
       "\n",
       "   Adjusted_index7  Adjusted_index8  Adjusted_index9  Adjusted_tst0  \\\n",
       "0         0.108597         0.106732         0.119385       0.110114   \n",
       "1         0.104473         0.097824         0.110803       0.113841   \n",
       "2         0.107616         0.103374         0.111845       0.110519   \n",
       "3         0.133023         0.146313         0.130289       0.126742   \n",
       "4         0.115519         0.114341         0.115896       0.114006   \n",
       "\n",
       "   Adjusted_tst1  Adjusted_tst2  Adjusted_tst3  Adjusted_tst4  Adjusted_tst5  \\\n",
       "0       0.115654       0.120461       0.105349       0.117297       0.123791   \n",
       "1       0.116177       0.119639       0.108220       0.115513       0.107679   \n",
       "2       0.106824       0.124908       0.108752       0.114063       0.117123   \n",
       "3       0.131081       0.137156       0.130943       0.135636       0.125661   \n",
       "4       0.124595       0.117805       0.110998       0.113317       0.114464   \n",
       "\n",
       "   Adjusted_tst6  \n",
       "0       0.125217  \n",
       "1       0.121456  \n",
       "2       0.114209  \n",
       "3       0.139268  \n",
       "4       0.128092  "
      ]
     },
     "execution_count": 140,
     "metadata": {},
     "output_type": "execute_result"
    }
   ],
   "source": [
    "recycle_DL.head()"
   ]
  },
  {
   "cell_type": "code",
   "execution_count": 119,
   "metadata": {},
   "outputs": [],
   "source": [
    "recycle_DL = recycle_DL.assign(intercept0=recycle_DL.HOSP_NRD.apply(lambda x:hosp_embed_array[hosp_dict[x]]))"
   ]
  },
  {
   "cell_type": "code",
   "execution_count": 22,
   "metadata": {},
   "outputs": [
    {
     "data": {
      "text/plain": [
       "(0.10371397972452481, 0.1361400854459275)"
      ]
     },
     "execution_count": 22,
     "metadata": {},
     "output_type": "execute_result"
    }
   ],
   "source": [
    "recycle_DL.upper.min(), recycle_DL.lower.max()"
   ]
  },
  {
   "cell_type": "code",
   "execution_count": 110,
   "metadata": {},
   "outputs": [
    {
     "data": {
      "text/plain": [
       "(21, 28)"
      ]
     },
     "execution_count": 110,
     "metadata": {},
     "output_type": "execute_result"
    }
   ],
   "source": [
    "sum(recycle_DL.upper<national_pred), sum(recycle_DL.lower>national_pred)"
   ]
  },
  {
   "cell_type": "code",
   "execution_count": 146,
   "metadata": {},
   "outputs": [
    {
     "data": {
      "text/plain": [
       "<matplotlib.axes._subplots.AxesSubplot at 0x2b857d113a58>"
      ]
     },
     "execution_count": 146,
     "metadata": {},
     "output_type": "execute_result"
    },
    {
     "data": {
      "image/png": "[encoded data removed]",
      "text/plain": [
       "<Figure size 432x288 with 1 Axes>"
      ]
     },
     "metadata": {},
     "output_type": "display_data"
    }
   ],
   "source": [
    "recycle_DL.plot.scatter('Adjusted_tst6', 'Adjusted_index6')"
   ]
  },
  {
   "cell_type": "code",
   "execution_count": 141,
   "metadata": {},
   "outputs": [
    {
     "name": "stderr",
     "output_type": "stream",
     "text": [
      "/sw/lsa/centos7/python-anaconda-arc-connect/created-20170421/lib/python3.5/site-packages/IPython/core/interactiveshell.py:2961: FutureWarning: 'HOSP_NRD' is both an index level and a column label.\n",
      "Defaulting to column, but this will raise an ambiguity error in a future version\n",
      "  exec(code_obj, self.user_global_ns, self.user_ns)\n"
     ]
    }
   ],
   "source": [
    "compare = pd.merge(adjusted_rate[['HOSP_NRD', 'Adjusted_ME']], recycle_DL[['HOSP_NRD', 'mean']], on='HOSP_NRD')"
   ]
  },
  {
   "cell_type": "code",
   "execution_count": 142,
   "metadata": {},
   "outputs": [
    {
     "data": {
      "text/plain": [
       "<matplotlib.axes._subplots.AxesSubplot at 0x2aea56db4cf8>"
      ]
     },
     "execution_count": 142,
     "metadata": {},
     "output_type": "execute_result"
    },
    {
     "data": {
      "image/png": "[encoded data removed]",
      "text/plain": [
       "<Figure size 432x288 with 1 Axes>"
      ]
     },
     "metadata": {},
     "output_type": "display_data"
    }
   ],
   "source": [
    "compare.plot.scatter('Adjusted_ME', 'mean')"
   ]
  },
  {
   "cell_type": "code",
   "execution_count": 124,
   "metadata": {},
   "outputs": [
    {
     "data": {
      "text/plain": [
       "<matplotlib.axes._subplots.AxesSubplot at 0x2aea56d41390>"
      ]
     },
     "execution_count": 124,
     "metadata": {},
     "output_type": "execute_result"
    },
    {
     "data": {
      "image/png": "[encoded data removed]",
      "text/plain": [
       "<Figure size 432x288 with 1 Axes>"
      ]
     },
     "metadata": {},
     "output_type": "display_data"
    }
   ],
   "source": [
    "recycle_DL.plot.scatter('Adjusted_DL6', 'Adjusted_DL5')"
   ]
  },
  {
   "cell_type": "code",
   "execution_count": 31,
   "metadata": {},
   "outputs": [],
   "source": [
    "adjusted_rate = pd.merge(adjusted_rate, recycle_DL1, on='HOSP_NRD')"
   ]
  },
  {
   "cell_type": "code",
   "execution_count": 32,
   "metadata": {},
   "outputs": [],
   "source": [
    "adjusted_rate = adjusted_rate.sort_values('Adjusted_DL1')\n",
    "adjusted_rate = adjusted_rate.assign(Rank_DL1 = range(len(adjusted_rate)))\n",
    "\n",
    "adjusted_rate = adjusted_rate.assign(Division_DL1 = 'middle60')\n",
    "adjusted_rate.loc[adjusted_rate.Rank_DL1<int(len(adjusted_rate)*0.2), 'Division_DL1'] = 'top20'\n",
    "adjusted_rate.loc[adjusted_rate.Rank_DL1>int(len(adjusted_rate)*0.8), 'Division_DL1'] = 'bottom20'"
   ]
  },
  {
   "cell_type": "code",
   "execution_count": 41,
   "metadata": {},
   "outputs": [
    {
     "data": {
      "text/html": [
       "<div>\n",
       "<style scoped>\n",
       "    .dataframe tbody tr th:only-of-type {\n",
       "        vertical-align: middle;\n",
       "    }\n",
       "\n",
       "    .dataframe tbody tr th {\n",
       "        vertical-align: top;\n",
       "    }\n",
       "\n",
       "    .dataframe thead th {\n",
       "        text-align: right;\n",
       "    }\n",
       "</style>\n",
       "<table border=\"1\" class=\"dataframe\">\n",
       "  <thead>\n",
       "    <tr style=\"text-align: right;\">\n",
       "      <th></th>\n",
       "      <th>Adjusted_DL</th>\n",
       "      <th>Adjusted_DL1</th>\n",
       "    </tr>\n",
       "  </thead>\n",
       "  <tbody>\n",
       "    <tr>\n",
       "      <th>count</th>\n",
       "      <td>1107.000000</td>\n",
       "      <td>1107.000000</td>\n",
       "    </tr>\n",
       "    <tr>\n",
       "      <th>mean</th>\n",
       "      <td>0.119030</td>\n",
       "      <td>0.124436</td>\n",
       "    </tr>\n",
       "    <tr>\n",
       "      <th>std</th>\n",
       "      <td>0.005857</td>\n",
       "      <td>0.007482</td>\n",
       "    </tr>\n",
       "    <tr>\n",
       "      <th>min</th>\n",
       "      <td>0.100217</td>\n",
       "      <td>0.097055</td>\n",
       "    </tr>\n",
       "    <tr>\n",
       "      <th>25%</th>\n",
       "      <td>0.115115</td>\n",
       "      <td>0.119554</td>\n",
       "    </tr>\n",
       "    <tr>\n",
       "      <th>50%</th>\n",
       "      <td>0.119223</td>\n",
       "      <td>0.124456</td>\n",
       "    </tr>\n",
       "    <tr>\n",
       "      <th>75%</th>\n",
       "      <td>0.122996</td>\n",
       "      <td>0.129663</td>\n",
       "    </tr>\n",
       "    <tr>\n",
       "      <th>max</th>\n",
       "      <td>0.134095</td>\n",
       "      <td>0.145435</td>\n",
       "    </tr>\n",
       "  </tbody>\n",
       "</table>\n",
       "</div>"
      ],
      "text/plain": [
       "       Adjusted_DL  Adjusted_DL1\n",
       "count  1107.000000   1107.000000\n",
       "mean      0.119030      0.124436\n",
       "std       0.005857      0.007482\n",
       "min       0.100217      0.097055\n",
       "25%       0.115115      0.119554\n",
       "50%       0.119223      0.124456\n",
       "75%       0.122996      0.129663\n",
       "max       0.134095      0.145435"
      ]
     },
     "execution_count": 41,
     "metadata": {},
     "output_type": "execute_result"
    }
   ],
   "source": [
    "adjusted_rate[['Adjusted_DL', 'Adjusted_DL1']].describe()"
   ]
  },
  {
   "cell_type": "code",
   "execution_count": 33,
   "metadata": {},
   "outputs": [
    {
     "data": {
      "text/plain": [
       "<matplotlib.axes._subplots.AxesSubplot at 0x2aea2f129cf8>"
      ]
     },
     "execution_count": 33,
     "metadata": {},
     "output_type": "execute_result"
    },
    {
     "data": {
      "image/png": "[encoded data removed]",
      "text/plain": [
       "<Figure size 432x288 with 1 Axes>"
      ]
     },
     "metadata": {},
     "output_type": "display_data"
    }
   ],
   "source": [
    "adjusted_rate.plot.scatter('Adjusted_DL', 'Adjusted_DL1')"
   ]
  },
  {
   "cell_type": "code",
   "execution_count": 34,
   "metadata": {},
   "outputs": [
    {
     "data": {
      "text/plain": [
       "<matplotlib.axes._subplots.AxesSubplot at 0x2aea2f0e0c88>"
      ]
     },
     "execution_count": 34,
     "metadata": {},
     "output_type": "execute_result"
    },
    {
     "data": {
      "image/png": "[encoded data removed]",
      "text/plain": [
       "<Figure size 432x288 with 1 Axes>"
      ]
     },
     "metadata": {},
     "output_type": "display_data"
    }
   ],
   "source": [
    "adjusted_rate.plot.scatter('Rank_DL', 'Rank_DL1')"
   ]
  },
  {
   "cell_type": "code",
   "execution_count": 36,
   "metadata": {},
   "outputs": [
    {
     "data": {
      "text/html": [
       "<div>\n",
       "<style scoped>\n",
       "    .dataframe tbody tr th:only-of-type {\n",
       "        vertical-align: middle;\n",
       "    }\n",
       "\n",
       "    .dataframe tbody tr th {\n",
       "        vertical-align: top;\n",
       "    }\n",
       "\n",
       "    .dataframe thead th {\n",
       "        text-align: right;\n",
       "    }\n",
       "</style>\n",
       "<table border=\"1\" class=\"dataframe\">\n",
       "  <thead>\n",
       "    <tr style=\"text-align: right;\">\n",
       "      <th>Division_DL1</th>\n",
       "      <th>bottom20</th>\n",
       "      <th>middle60</th>\n",
       "      <th>top20</th>\n",
       "      <th>All</th>\n",
       "    </tr>\n",
       "    <tr>\n",
       "      <th>Division_DL</th>\n",
       "      <th></th>\n",
       "      <th></th>\n",
       "      <th></th>\n",
       "      <th></th>\n",
       "    </tr>\n",
       "  </thead>\n",
       "  <tbody>\n",
       "    <tr>\n",
       "      <th>bottom20</th>\n",
       "      <td>95</td>\n",
       "      <td>123</td>\n",
       "      <td>3</td>\n",
       "      <td>221</td>\n",
       "    </tr>\n",
       "    <tr>\n",
       "      <th>middle60</th>\n",
       "      <td>118</td>\n",
       "      <td>434</td>\n",
       "      <td>113</td>\n",
       "      <td>665</td>\n",
       "    </tr>\n",
       "    <tr>\n",
       "      <th>top20</th>\n",
       "      <td>8</td>\n",
       "      <td>108</td>\n",
       "      <td>105</td>\n",
       "      <td>221</td>\n",
       "    </tr>\n",
       "    <tr>\n",
       "      <th>All</th>\n",
       "      <td>221</td>\n",
       "      <td>665</td>\n",
       "      <td>221</td>\n",
       "      <td>1107</td>\n",
       "    </tr>\n",
       "  </tbody>\n",
       "</table>\n",
       "</div>"
      ],
      "text/plain": [
       "Division_DL1  bottom20  middle60  top20   All\n",
       "Division_DL                                  \n",
       "bottom20            95       123      3   221\n",
       "middle60           118       434    113   665\n",
       "top20                8       108    105   221\n",
       "All                221       665    221  1107"
      ]
     },
     "execution_count": 36,
     "metadata": {},
     "output_type": "execute_result"
    }
   ],
   "source": [
    "pd.crosstab(adjusted_rate.Division_DL, adjusted_rate.Division_DL1, margins=True)"
   ]
  },
  {
   "cell_type": "markdown",
   "metadata": {},
   "source": [
    "## Inference"
   ]
  },
  {
   "cell_type": "code",
   "execution_count": 41,
   "metadata": {},
   "outputs": [],
   "source": [
    "from sklearn.metrics import cohen_kappa_score\n",
    "from scipy.stats import spearmanr"
   ]
  },
  {
   "cell_type": "markdown",
   "metadata": {},
   "source": [
    "### Mixed Effect Model"
   ]
  },
  {
   "cell_type": "code",
   "execution_count": 6,
   "metadata": {},
   "outputs": [],
   "source": [
    "cohort = 'ami'\n",
    "split_seed = 4\n",
    "train_idx = 1"
   ]
  },
  {
   "cell_type": "code",
   "execution_count": 10,
   "metadata": {},
   "outputs": [],
   "source": [
    "train_df = pd.read_csv(path+'cohorts30/{}/inference/index_split{}_{}.csv'.format(cohort, split_seed, train_idx), dtype=core_dtypes_pd)"
   ]
  },
  {
   "cell_type": "code",
   "execution_count": 11,
   "metadata": {},
   "outputs": [],
   "source": [
    "hosp_freq = train_df.HOSP_NRD.value_counts()"
   ]
  },
  {
   "cell_type": "code",
   "execution_count": 10,
   "metadata": {},
   "outputs": [],
   "source": [
    "random_effects = pd.read_csv(path+'cohorts30/{}/inference/adjusted_ME{}{}.csv'.format(cohort, split_seed, train_idx))\n",
    "\n",
    "random_effects = random_effects.assign(upper = random_effects.random_effects + 1.96*random_effects.postVar.apply(np.sqrt))\n",
    "random_effects = random_effects.assign(lower = random_effects.random_effects - 1.96*random_effects.postVar.apply(np.sqrt))\n",
    "\n",
    "random_effects = random_effects.assign(outlier = 'not_outlier')\n",
    "random_effects.loc[random_effects.upper < 0, 'outlier'] = 'good'\n",
    "random_effects.loc[random_effects.lower > 0, 'outlier'] = 'bad'"
   ]
  },
  {
   "cell_type": "code",
   "execution_count": 32,
   "metadata": {},
   "outputs": [
    {
     "data": {
      "text/plain": [
       "(874, 6)"
      ]
     },
     "execution_count": 32,
     "metadata": {},
     "output_type": "execute_result"
    }
   ],
   "source": [
    "random_effects.shape"
   ]
  },
  {
   "cell_type": "code",
   "execution_count": 33,
   "metadata": {},
   "outputs": [],
   "source": [
    "random_effects = pd.merge(random_effects, adjusted_rate[['HOSP_NRD', 'N']], on='HOSP_NRD')"
   ]
  },
  {
   "cell_type": "code",
   "execution_count": 11,
   "metadata": {},
   "outputs": [
    {
     "data": {
      "text/html": [
       "<div>\n",
       "<style scoped>\n",
       "    .dataframe tbody tr th:only-of-type {\n",
       "        vertical-align: middle;\n",
       "    }\n",
       "\n",
       "    .dataframe tbody tr th {\n",
       "        vertical-align: top;\n",
       "    }\n",
       "\n",
       "    .dataframe thead th {\n",
       "        text-align: right;\n",
       "    }\n",
       "</style>\n",
       "<table border=\"1\" class=\"dataframe\">\n",
       "  <thead>\n",
       "    <tr style=\"text-align: right;\">\n",
       "      <th></th>\n",
       "      <th>Unnamed: 0</th>\n",
       "      <th>HOSP_NRD</th>\n",
       "      <th>random_effects</th>\n",
       "      <th>postVar</th>\n",
       "      <th>readm30</th>\n",
       "      <th>predicted_score</th>\n",
       "      <th>expected_score</th>\n",
       "      <th>Adjusted_ME</th>\n",
       "      <th>upper</th>\n",
       "      <th>lower</th>\n",
       "      <th>outlier</th>\n",
       "    </tr>\n",
       "  </thead>\n",
       "  <tbody>\n",
       "    <tr>\n",
       "      <th>0</th>\n",
       "      <td>1</td>\n",
       "      <td>11006</td>\n",
       "      <td>-0.113801</td>\n",
       "      <td>0.031926</td>\n",
       "      <td>0.079545</td>\n",
       "      <td>0.109325</td>\n",
       "      <td>0.120507</td>\n",
       "      <td>0.114044</td>\n",
       "      <td>0.236408</td>\n",
       "      <td>-0.464011</td>\n",
       "      <td>not_outlier</td>\n",
       "    </tr>\n",
       "    <tr>\n",
       "      <th>1</th>\n",
       "      <td>2</td>\n",
       "      <td>11010</td>\n",
       "      <td>-0.233280</td>\n",
       "      <td>0.024963</td>\n",
       "      <td>0.067308</td>\n",
       "      <td>0.093135</td>\n",
       "      <td>0.114016</td>\n",
       "      <td>0.102686</td>\n",
       "      <td>0.076394</td>\n",
       "      <td>-0.542954</td>\n",
       "      <td>not_outlier</td>\n",
       "    </tr>\n",
       "    <tr>\n",
       "      <th>2</th>\n",
       "      <td>3</td>\n",
       "      <td>11011</td>\n",
       "      <td>-0.111712</td>\n",
       "      <td>0.035545</td>\n",
       "      <td>0.111111</td>\n",
       "      <td>0.182570</td>\n",
       "      <td>0.198917</td>\n",
       "      <td>0.115378</td>\n",
       "      <td>0.257814</td>\n",
       "      <td>-0.481239</td>\n",
       "      <td>not_outlier</td>\n",
       "    </tr>\n",
       "    <tr>\n",
       "      <th>3</th>\n",
       "      <td>4</td>\n",
       "      <td>11013</td>\n",
       "      <td>0.195363</td>\n",
       "      <td>0.019281</td>\n",
       "      <td>0.178261</td>\n",
       "      <td>0.158701</td>\n",
       "      <td>0.135643</td>\n",
       "      <td>0.147078</td>\n",
       "      <td>0.467519</td>\n",
       "      <td>-0.076792</td>\n",
       "      <td>not_outlier</td>\n",
       "    </tr>\n",
       "    <tr>\n",
       "      <th>4</th>\n",
       "      <td>5</td>\n",
       "      <td>11014</td>\n",
       "      <td>-0.100615</td>\n",
       "      <td>0.019670</td>\n",
       "      <td>0.097403</td>\n",
       "      <td>0.104925</td>\n",
       "      <td>0.114352</td>\n",
       "      <td>0.115346</td>\n",
       "      <td>0.174275</td>\n",
       "      <td>-0.375504</td>\n",
       "      <td>not_outlier</td>\n",
       "    </tr>\n",
       "  </tbody>\n",
       "</table>\n",
       "</div>"
      ],
      "text/plain": [
       "   Unnamed: 0  HOSP_NRD  random_effects   postVar   readm30  predicted_score  \\\n",
       "0           1     11006       -0.113801  0.031926  0.079545         0.109325   \n",
       "1           2     11010       -0.233280  0.024963  0.067308         0.093135   \n",
       "2           3     11011       -0.111712  0.035545  0.111111         0.182570   \n",
       "3           4     11013        0.195363  0.019281  0.178261         0.158701   \n",
       "4           5     11014       -0.100615  0.019670  0.097403         0.104925   \n",
       "\n",
       "   expected_score  Adjusted_ME     upper     lower      outlier  \n",
       "0        0.120507     0.114044  0.236408 -0.464011  not_outlier  \n",
       "1        0.114016     0.102686  0.076394 -0.542954  not_outlier  \n",
       "2        0.198917     0.115378  0.257814 -0.481239  not_outlier  \n",
       "3        0.135643     0.147078  0.467519 -0.076792  not_outlier  \n",
       "4        0.114352     0.115346  0.174275 -0.375504  not_outlier  "
      ]
     },
     "execution_count": 11,
     "metadata": {},
     "output_type": "execute_result"
    }
   ],
   "source": [
    "random_effects.head()"
   ]
  },
  {
   "cell_type": "code",
   "execution_count": 12,
   "metadata": {},
   "outputs": [
    {
     "data": {
      "text/plain": [
       "<matplotlib.axes._subplots.AxesSubplot at 0x2acc8bf1e2e8>"
      ]
     },
     "execution_count": 12,
     "metadata": {},
     "output_type": "execute_result"
    },
    {
     "data": {
      "image/png": "[encoded data removed]",
      "text/plain": [
       "<Figure size 432x288 with 1 Axes>"
      ]
     },
     "metadata": {},
     "output_type": "display_data"
    }
   ],
   "source": [
    "random_effects.plot.scatter('random_effects', 'Adjusted_ME')"
   ]
  },
  {
   "cell_type": "code",
   "execution_count": 13,
   "metadata": {},
   "outputs": [
    {
     "data": {
      "text/plain": [
       "not_outlier    863\n",
       "bad              9\n",
       "good             2\n",
       "Name: outlier, dtype: int64"
      ]
     },
     "execution_count": 13,
     "metadata": {},
     "output_type": "execute_result"
    }
   ],
   "source": [
    "random_effects.outlier.value_counts()"
   ]
  },
  {
   "cell_type": "code",
   "execution_count": 7,
   "metadata": {},
   "outputs": [],
   "source": [
    "split_seed = 3"
   ]
  },
  {
   "cell_type": "code",
   "execution_count": 8,
   "metadata": {},
   "outputs": [],
   "source": [
    "RE_compare = pd.DataFrame()\n",
    "for train_idx in [1,2]:\n",
    "    random_effects = pd.read_csv(path+'cohorts30/{}/inference/adjusted_ME{}{}.csv'.format(cohort, split_seed, train_idx))\n",
    "\n",
    "    random_effects = random_effects.assign(upper = random_effects.random_effects + 1.96*random_effects.postVar.apply(np.sqrt))\n",
    "    random_effects = random_effects.assign(lower = random_effects.random_effects - 1.96*random_effects.postVar.apply(np.sqrt))\n",
    "\n",
    "    random_effects = random_effects.assign(outlier = 'not_outlier')\n",
    "    random_effects.loc[random_effects.upper < 0, 'outlier'] = 'good'\n",
    "    random_effects.loc[random_effects.lower > 0, 'outlier'] = 'bad'\n",
    "    \n",
    "    random_effects = random_effects.sort_values('random_effects')\n",
    "    random_effects = random_effects.assign(rank=range(len(random_effects)))\n",
    "    \n",
    "    to_merge = random_effects[['HOSP_NRD', 'outlier', 'random_effects', 'Adjusted_ME', 'rank']]\n",
    "    to_merge.columns = ['HOSP_NRD', 'outlier'+str(train_idx), 'RE'+str(train_idx), 'Adjusted_ME'+str(train_idx), 'rank'+str(train_idx)]\n",
    "    \n",
    "    try:\n",
    "        RE_compare = pd.merge(RE_compare, to_merge, on='HOSP_NRD')\n",
    "    except KeyError:\n",
    "        RE_compare = to_merge"
   ]
  },
  {
   "cell_type": "code",
   "execution_count": 12,
   "metadata": {},
   "outputs": [],
   "source": [
    "RE_compare = RE_compare.assign(N=RE_compare.HOSP_NRD.apply(lambda x:hosp_freq[x]))"
   ]
  },
  {
   "cell_type": "code",
   "execution_count": 40,
   "metadata": {},
   "outputs": [
    {
     "data": {
      "text/html": [
       "<div>\n",
       "<style scoped>\n",
       "    .dataframe tbody tr th:only-of-type {\n",
       "        vertical-align: middle;\n",
       "    }\n",
       "\n",
       "    .dataframe tbody tr th {\n",
       "        vertical-align: top;\n",
       "    }\n",
       "\n",
       "    .dataframe thead th {\n",
       "        text-align: right;\n",
       "    }\n",
       "</style>\n",
       "<table border=\"1\" class=\"dataframe\">\n",
       "  <thead>\n",
       "    <tr style=\"text-align: right;\">\n",
       "      <th></th>\n",
       "      <th>HOSP_NRD</th>\n",
       "      <th>outlier1</th>\n",
       "      <th>RE1</th>\n",
       "      <th>Adjusted_ME1</th>\n",
       "      <th>rank1</th>\n",
       "      <th>outlier2</th>\n",
       "      <th>RE2</th>\n",
       "      <th>Adjusted_ME2</th>\n",
       "      <th>rank2</th>\n",
       "      <th>N</th>\n",
       "    </tr>\n",
       "  </thead>\n",
       "  <tbody>\n",
       "    <tr>\n",
       "      <th>0</th>\n",
       "      <td>12419</td>\n",
       "      <td>good</td>\n",
       "      <td>-0.431546</td>\n",
       "      <td>0.086922</td>\n",
       "      <td>0</td>\n",
       "      <td>good</td>\n",
       "      <td>-0.353054</td>\n",
       "      <td>0.093917</td>\n",
       "      <td>0</td>\n",
       "      <td>406</td>\n",
       "    </tr>\n",
       "    <tr>\n",
       "      <th>1</th>\n",
       "      <td>13344</td>\n",
       "      <td>good</td>\n",
       "      <td>-0.370618</td>\n",
       "      <td>0.091113</td>\n",
       "      <td>1</td>\n",
       "      <td>not_outlier</td>\n",
       "      <td>0.042965</td>\n",
       "      <td>0.130331</td>\n",
       "      <td>575</td>\n",
       "      <td>164</td>\n",
       "    </tr>\n",
       "    <tr>\n",
       "      <th>2</th>\n",
       "      <td>12393</td>\n",
       "      <td>not_outlier</td>\n",
       "      <td>-0.319726</td>\n",
       "      <td>0.097181</td>\n",
       "      <td>2</td>\n",
       "      <td>not_outlier</td>\n",
       "      <td>-0.205717</td>\n",
       "      <td>0.107036</td>\n",
       "      <td>24</td>\n",
       "      <td>82</td>\n",
       "    </tr>\n",
       "    <tr>\n",
       "      <th>3</th>\n",
       "      <td>13321</td>\n",
       "      <td>not_outlier</td>\n",
       "      <td>-0.284808</td>\n",
       "      <td>0.097148</td>\n",
       "      <td>3</td>\n",
       "      <td>not_outlier</td>\n",
       "      <td>-0.159138</td>\n",
       "      <td>0.109834</td>\n",
       "      <td>59</td>\n",
       "      <td>298</td>\n",
       "    </tr>\n",
       "    <tr>\n",
       "      <th>4</th>\n",
       "      <td>11614</td>\n",
       "      <td>not_outlier</td>\n",
       "      <td>-0.257920</td>\n",
       "      <td>0.100061</td>\n",
       "      <td>4</td>\n",
       "      <td>not_outlier</td>\n",
       "      <td>-0.077580</td>\n",
       "      <td>0.118001</td>\n",
       "      <td>197</td>\n",
       "      <td>251</td>\n",
       "    </tr>\n",
       "  </tbody>\n",
       "</table>\n",
       "</div>"
      ],
      "text/plain": [
       "   HOSP_NRD     outlier1       RE1  Adjusted_ME1  rank1     outlier2  \\\n",
       "0     12419         good -0.431546      0.086922      0         good   \n",
       "1     13344         good -0.370618      0.091113      1  not_outlier   \n",
       "2     12393  not_outlier -0.319726      0.097181      2  not_outlier   \n",
       "3     13321  not_outlier -0.284808      0.097148      3  not_outlier   \n",
       "4     11614  not_outlier -0.257920      0.100061      4  not_outlier   \n",
       "\n",
       "        RE2  Adjusted_ME2  rank2    N  \n",
       "0 -0.353054      0.093917      0  406  \n",
       "1  0.042965      0.130331    575  164  \n",
       "2 -0.205717      0.107036     24   82  \n",
       "3 -0.159138      0.109834     59  298  \n",
       "4 -0.077580      0.118001    197  251  "
      ]
     },
     "execution_count": 40,
     "metadata": {},
     "output_type": "execute_result"
    }
   ],
   "source": [
    "RE_compare.head()"
   ]
  },
  {
   "cell_type": "code",
   "execution_count": 13,
   "metadata": {},
   "outputs": [
    {
     "data": {
      "text/plain": [
       "<matplotlib.axes._subplots.AxesSubplot at 0x2b332ae33c18>"
      ]
     },
     "execution_count": 13,
     "metadata": {},
     "output_type": "execute_result"
    },
    {
     "data": {
      "image/png": "[encoded data removed]",
      "text/plain": [
       "<Figure size 432x288 with 1 Axes>"
      ]
     },
     "metadata": {},
     "output_type": "display_data"
    }
   ],
   "source": [
    "RE_compare.loc[RE_compare.N>2].plot.scatter('Adjusted_ME1', 'Adjusted_ME2')"
   ]
  },
  {
   "cell_type": "code",
   "execution_count": 18,
   "metadata": {},
   "outputs": [],
   "source": [
    "mean_change = []\n",
    "for n_sub in range(1, 400, 10):\n",
    "    topbottom = RE_compare.loc[(RE_compare.rank1<n_sub)|(RE_compare.rank1>=len(RE_compare)-n_sub)|\n",
    "                           (RE_compare.rank2<n_sub)|(RE_compare.rank2>=len(RE_compare)-n_sub)]\n",
    "    mean_change.append(np.mean(np.abs(topbottom.rank1 - topbottom.rank2))/len(RE_compare))"
   ]
  },
  {
   "cell_type": "code",
   "execution_count": 19,
   "metadata": {},
   "outputs": [
    {
     "data": {
      "text/plain": [
       "[<matplotlib.lines.Line2D at 0x2b332c5758d0>]"
      ]
     },
     "execution_count": 19,
     "metadata": {},
     "output_type": "execute_result"
    },
    {
     "data": {
      "image/png": "[encoded data removed]",
      "text/plain": [
       "<Figure size 432x288 with 1 Axes>"
      ]
     },
     "metadata": {},
     "output_type": "display_data"
    }
   ],
   "source": [
    "plt.plot(range(1, 400, 10), mean_change)"
   ]
  },
  {
   "cell_type": "code",
   "execution_count": 43,
   "metadata": {},
   "outputs": [
    {
     "data": {
      "text/plain": [
       "SpearmanrResult(correlation=0.3304890734231365, pvalue=1.0179203761454458e-23)"
      ]
     },
     "execution_count": 43,
     "metadata": {},
     "output_type": "execute_result"
    }
   ],
   "source": [
    "spearmanr(RE_compare.rank1.values, RE_compare.rank2.values)"
   ]
  },
  {
   "cell_type": "code",
   "execution_count": 76,
   "metadata": {},
   "outputs": [
    {
     "data": {
      "text/plain": [
       "SpearmanrResult(correlation=-0.03280936364669397, pvalue=0.7458956773375924)"
      ]
     },
     "execution_count": 76,
     "metadata": {},
     "output_type": "execute_result"
    }
   ],
   "source": [
    "spearmanr(np.random.choice(list(range(1000)), 100), np.random.choice(list(range(1000)), 100))"
   ]
  },
  {
   "cell_type": "code",
   "execution_count": 34,
   "metadata": {},
   "outputs": [
    {
     "data": {
      "text/plain": [
       "0.29861792242532326"
      ]
     },
     "execution_count": 34,
     "metadata": {},
     "output_type": "execute_result"
    }
   ],
   "source": [
    "cohen_kappa_score(RE_compare.outlier1, RE_compare.outlier2)"
   ]
  },
  {
   "cell_type": "code",
   "execution_count": 35,
   "metadata": {},
   "outputs": [
    {
     "data": {
      "text/html": [
       "<div>\n",
       "<style scoped>\n",
       "    .dataframe tbody tr th:only-of-type {\n",
       "        vertical-align: middle;\n",
       "    }\n",
       "\n",
       "    .dataframe tbody tr th {\n",
       "        vertical-align: top;\n",
       "    }\n",
       "\n",
       "    .dataframe thead th {\n",
       "        text-align: right;\n",
       "    }\n",
       "</style>\n",
       "<table border=\"1\" class=\"dataframe\">\n",
       "  <thead>\n",
       "    <tr style=\"text-align: right;\">\n",
       "      <th>outlier2</th>\n",
       "      <th>bad</th>\n",
       "      <th>good</th>\n",
       "      <th>not_outlier</th>\n",
       "      <th>All</th>\n",
       "    </tr>\n",
       "    <tr>\n",
       "      <th>outlier1</th>\n",
       "      <th></th>\n",
       "      <th></th>\n",
       "      <th></th>\n",
       "      <th></th>\n",
       "    </tr>\n",
       "  </thead>\n",
       "  <tbody>\n",
       "    <tr>\n",
       "      <th>bad</th>\n",
       "      <td>3</td>\n",
       "      <td>0</td>\n",
       "      <td>8</td>\n",
       "      <td>11</td>\n",
       "    </tr>\n",
       "    <tr>\n",
       "      <th>good</th>\n",
       "      <td>0</td>\n",
       "      <td>1</td>\n",
       "      <td>1</td>\n",
       "      <td>2</td>\n",
       "    </tr>\n",
       "    <tr>\n",
       "      <th>not_outlier</th>\n",
       "      <td>8</td>\n",
       "      <td>1</td>\n",
       "      <td>852</td>\n",
       "      <td>861</td>\n",
       "    </tr>\n",
       "    <tr>\n",
       "      <th>All</th>\n",
       "      <td>11</td>\n",
       "      <td>2</td>\n",
       "      <td>861</td>\n",
       "      <td>874</td>\n",
       "    </tr>\n",
       "  </tbody>\n",
       "</table>\n",
       "</div>"
      ],
      "text/plain": [
       "outlier2     bad  good  not_outlier  All\n",
       "outlier1                                \n",
       "bad            3     0            8   11\n",
       "good           0     1            1    2\n",
       "not_outlier    8     1          852  861\n",
       "All           11     2          861  874"
      ]
     },
     "execution_count": 35,
     "metadata": {},
     "output_type": "execute_result"
    }
   ],
   "source": [
    "pd.crosstab(RE_compare.outlier1, RE_compare.outlier2, margins=True)"
   ]
  },
  {
   "cell_type": "code",
   "execution_count": 22,
   "metadata": {},
   "outputs": [],
   "source": [
    "agree_scores = []\n",
    "for i in range(10):\n",
    "    for j in range(i):\n",
    "        agree_scores.append(cohen_kappa_score(RE_compare['outlier'+str(j)], RE_compare['outlier'+str(i)]))"
   ]
  },
  {
   "cell_type": "code",
   "execution_count": 24,
   "metadata": {},
   "outputs": [
    {
     "data": {
      "text/plain": [
       "0.7163717878296532"
      ]
     },
     "execution_count": 24,
     "metadata": {},
     "output_type": "execute_result"
    }
   ],
   "source": [
    "np.mean(agree_scores)"
   ]
  },
  {
   "cell_type": "markdown",
   "metadata": {},
   "source": [
    "### DL model"
   ]
  },
  {
   "cell_type": "code",
   "execution_count": 28,
   "metadata": {},
   "outputs": [],
   "source": [
    "tst_seed = 0"
   ]
  },
  {
   "cell_type": "code",
   "execution_count": 29,
   "metadata": {},
   "outputs": [],
   "source": [
    "recycle_pred = pd.read_csv(path+'cohorts30/{}/recyc_pred_allval_tst{}.csv'.format(cohort, tst_seed))"
   ]
  },
  {
   "cell_type": "code",
   "execution_count": 30,
   "metadata": {},
   "outputs": [],
   "source": [
    "recycle_pred = recycle_pred.assign(mean=recycle_pred[['recycle_pred'+str(j) for j in range(9)]].mean(axis=1))\n",
    "recycle_pred = recycle_pred.assign(std=recycle_pred[['recycle_pred'+str(j) for j in range(9)]].std(axis=1))"
   ]
  },
  {
   "cell_type": "code",
   "execution_count": 35,
   "metadata": {},
   "outputs": [],
   "source": [
    "recycle_pred = recycle_pred.assign(upper=recycle_pred['mean']+1.96*recycle_pred['std'])\n",
    "recycle_pred = recycle_pred.assign(lower=recycle_pred['mean']-1.96*recycle_pred['std'])"
   ]
  },
  {
   "cell_type": "code",
   "execution_count": 39,
   "metadata": {},
   "outputs": [],
   "source": [
    "recycle_pred = pd.merge(recycle_pred, adjusted_rate[['HOSP_NRD', 'N']], on='HOSP_NRD')"
   ]
  },
  {
   "cell_type": "code",
   "execution_count": 64,
   "metadata": {},
   "outputs": [],
   "source": [
    "national_mean = recycle_pred['mean'].mean()"
   ]
  },
  {
   "cell_type": "code",
   "execution_count": 68,
   "metadata": {},
   "outputs": [],
   "source": [
    "recycle_pred = recycle_pred.assign(outlier='not_outlier')\n",
    "recycle_pred.loc[recycle_pred.upper<national_mean, 'outlier'] = 'good'\n",
    "recycle_pred.loc[recycle_pred.lower>national_mean, 'outlier'] = 'bad'"
   ]
  },
  {
   "cell_type": "code",
   "execution_count": 69,
   "metadata": {},
   "outputs": [
    {
     "data": {
      "text/plain": [
       "not_outlier    753\n",
       "bad             62\n",
       "good            59\n",
       "Name: outlier, dtype: int64"
      ]
     },
     "execution_count": 69,
     "metadata": {},
     "output_type": "execute_result"
    }
   ],
   "source": [
    "recycle_pred.outlier.value_counts()"
   ]
  },
  {
   "cell_type": "code",
   "execution_count": 30,
   "metadata": {},
   "outputs": [
    {
     "data": {
      "text/html": [
       "<div>\n",
       "<style scoped>\n",
       "    .dataframe tbody tr th:only-of-type {\n",
       "        vertical-align: middle;\n",
       "    }\n",
       "\n",
       "    .dataframe tbody tr th {\n",
       "        vertical-align: top;\n",
       "    }\n",
       "\n",
       "    .dataframe thead th {\n",
       "        text-align: right;\n",
       "    }\n",
       "</style>\n",
       "<table border=\"1\" class=\"dataframe\">\n",
       "  <thead>\n",
       "    <tr style=\"text-align: right;\">\n",
       "      <th></th>\n",
       "      <th>recycle_pred0</th>\n",
       "      <th>recycle_pred1</th>\n",
       "      <th>recycle_pred2</th>\n",
       "      <th>recycle_pred3</th>\n",
       "      <th>recycle_pred4</th>\n",
       "      <th>recycle_pred5</th>\n",
       "      <th>recycle_pred6</th>\n",
       "      <th>recycle_pred7</th>\n",
       "      <th>recycle_pred8</th>\n",
       "      <th>HOSP_NRD</th>\n",
       "    </tr>\n",
       "  </thead>\n",
       "  <tbody>\n",
       "    <tr>\n",
       "      <th>0</th>\n",
       "      <td>0.122879</td>\n",
       "      <td>0.119591</td>\n",
       "      <td>0.109598</td>\n",
       "      <td>0.111319</td>\n",
       "      <td>0.114096</td>\n",
       "      <td>0.113663</td>\n",
       "      <td>0.111695</td>\n",
       "      <td>0.092948</td>\n",
       "      <td>0.103654</td>\n",
       "      <td>11006.0</td>\n",
       "    </tr>\n",
       "    <tr>\n",
       "      <th>1</th>\n",
       "      <td>0.122387</td>\n",
       "      <td>0.108584</td>\n",
       "      <td>0.111672</td>\n",
       "      <td>0.112634</td>\n",
       "      <td>0.106399</td>\n",
       "      <td>0.109547</td>\n",
       "      <td>0.109125</td>\n",
       "      <td>0.109045</td>\n",
       "      <td>0.111632</td>\n",
       "      <td>11010.0</td>\n",
       "    </tr>\n",
       "    <tr>\n",
       "      <th>2</th>\n",
       "      <td>0.120659</td>\n",
       "      <td>0.106689</td>\n",
       "      <td>0.093146</td>\n",
       "      <td>0.109774</td>\n",
       "      <td>0.115128</td>\n",
       "      <td>0.116125</td>\n",
       "      <td>0.112901</td>\n",
       "      <td>0.100389</td>\n",
       "      <td>0.106800</td>\n",
       "      <td>11011.0</td>\n",
       "    </tr>\n",
       "    <tr>\n",
       "      <th>3</th>\n",
       "      <td>0.136752</td>\n",
       "      <td>0.136877</td>\n",
       "      <td>0.142795</td>\n",
       "      <td>0.134194</td>\n",
       "      <td>0.136740</td>\n",
       "      <td>0.131593</td>\n",
       "      <td>0.139838</td>\n",
       "      <td>0.139100</td>\n",
       "      <td>0.143648</td>\n",
       "      <td>11013.0</td>\n",
       "    </tr>\n",
       "    <tr>\n",
       "      <th>4</th>\n",
       "      <td>0.120044</td>\n",
       "      <td>0.114468</td>\n",
       "      <td>0.117568</td>\n",
       "      <td>0.116837</td>\n",
       "      <td>0.115465</td>\n",
       "      <td>0.116346</td>\n",
       "      <td>0.125638</td>\n",
       "      <td>0.111803</td>\n",
       "      <td>0.113436</td>\n",
       "      <td>11014.0</td>\n",
       "    </tr>\n",
       "  </tbody>\n",
       "</table>\n",
       "</div>"
      ],
      "text/plain": [
       "   recycle_pred0  recycle_pred1  recycle_pred2  recycle_pred3  recycle_pred4  \\\n",
       "0       0.122879       0.119591       0.109598       0.111319       0.114096   \n",
       "1       0.122387       0.108584       0.111672       0.112634       0.106399   \n",
       "2       0.120659       0.106689       0.093146       0.109774       0.115128   \n",
       "3       0.136752       0.136877       0.142795       0.134194       0.136740   \n",
       "4       0.120044       0.114468       0.117568       0.116837       0.115465   \n",
       "\n",
       "   recycle_pred5  recycle_pred6  recycle_pred7  recycle_pred8  HOSP_NRD  \n",
       "0       0.113663       0.111695       0.092948       0.103654   11006.0  \n",
       "1       0.109547       0.109125       0.109045       0.111632   11010.0  \n",
       "2       0.116125       0.112901       0.100389       0.106800   11011.0  \n",
       "3       0.131593       0.139838       0.139100       0.143648   11013.0  \n",
       "4       0.116346       0.125638       0.111803       0.113436   11014.0  "
      ]
     },
     "execution_count": 30,
     "metadata": {},
     "output_type": "execute_result"
    }
   ],
   "source": [
    "recycle_pred.head()"
   ]
  },
  {
   "cell_type": "code",
   "execution_count": 99,
   "metadata": {},
   "outputs": [],
   "source": [
    "DL_compare = pd.DataFrame()\n",
    "for tst_seed in list(range(7))+[8, 9]:\n",
    "    recycle_pred = pd.read_csv(path+'cohorts30/{}/recyc_pred_allval_tst{}.csv'.format(cohort, tst_seed))\n",
    "    recycle_pred = recycle_pred.assign(mean=recycle_pred[['recycle_pred'+str(j) for j in range(9)]].mean(axis=1))\n",
    "    recycle_pred = recycle_pred.assign(std=recycle_pred[['recycle_pred'+str(j) for j in range(9)]].std(axis=1))\n",
    "    recycle_pred = recycle_pred.assign(upper=recycle_pred['mean']+1.96*recycle_pred['std'])\n",
    "    recycle_pred = recycle_pred.assign(lower=recycle_pred['mean']-1.96*recycle_pred['std'])\n",
    "    national_mean = recycle_pred['mean'].mean()\n",
    "    recycle_pred = recycle_pred.assign(outlier='not_outlier')\n",
    "    recycle_pred.loc[recycle_pred.upper<national_mean, 'outlier'] = 'good'\n",
    "    recycle_pred.loc[recycle_pred.lower>national_mean, 'outlier'] = 'bad'\n",
    "    to_merge = recycle_pred[['HOSP_NRD', 'mean', 'outlier', 'recycle_pred1']]\n",
    "    to_merge.columns = ['HOSP_NRD', 'recyc_pred'+str(tst_seed), 'outlier'+str(tst_seed), 'recyc_sample'+str(tst_seed)]\n",
    "    try:\n",
    "        DL_compare = pd.merge(DL_compare, to_merge, on='HOSP_NRD')\n",
    "    except KeyError:\n",
    "        DL_compare = to_merge.copy()"
   ]
  },
  {
   "cell_type": "code",
   "execution_count": 31,
   "metadata": {},
   "outputs": [],
   "source": [
    "DL_compare = pd.DataFrame()\n",
    "for tst_seed in range(10):\n",
    "    recycle_pred = pd.read_csv(path+'cohorts30/{}/recyc_pred_allval_tst{}.csv'.format(cohort, tst_seed))\n",
    "    recycle_pred = recycle_pred.assign(mean=recycle_pred[['recycle_pred'+str(j) for j in range(9)]].mean(axis=1))    \n",
    "    to_merge = recycle_pred[['HOSP_NRD', 'mean']]\n",
    "    to_merge.columns = ['HOSP_NRD', 'recyc_pred'+str(tst_seed)]\n",
    "    try:\n",
    "        DL_compare = pd.merge(DL_compare, to_merge, on='HOSP_NRD')\n",
    "    except KeyError:\n",
    "        DL_compare = to_merge.copy()"
   ]
  },
  {
   "cell_type": "code",
   "execution_count": 33,
   "metadata": {},
   "outputs": [],
   "source": [
    "DL_compare = DL_compare.assign(std=DL_compare[['recyc_pred'+str(j) for j in range(10)]].std(axis=1))"
   ]
  },
  {
   "cell_type": "code",
   "execution_count": 41,
   "metadata": {},
   "outputs": [],
   "source": [
    "DL_compare = pd.merge(DL_compare, adjusted_rate[['HOSP_NRD', 'N']], on='HOSP_NRD')"
   ]
  },
  {
   "cell_type": "code",
   "execution_count": 42,
   "metadata": {},
   "outputs": [
    {
     "data": {
      "text/html": [
       "<div>\n",
       "<style scoped>\n",
       "    .dataframe tbody tr th:only-of-type {\n",
       "        vertical-align: middle;\n",
       "    }\n",
       "\n",
       "    .dataframe tbody tr th {\n",
       "        vertical-align: top;\n",
       "    }\n",
       "\n",
       "    .dataframe thead th {\n",
       "        text-align: right;\n",
       "    }\n",
       "</style>\n",
       "<table border=\"1\" class=\"dataframe\">\n",
       "  <thead>\n",
       "    <tr style=\"text-align: right;\">\n",
       "      <th></th>\n",
       "      <th>HOSP_NRD</th>\n",
       "      <th>recyc_pred0</th>\n",
       "      <th>recyc_pred1</th>\n",
       "      <th>recyc_pred2</th>\n",
       "      <th>recyc_pred3</th>\n",
       "      <th>recyc_pred4</th>\n",
       "      <th>recyc_pred5</th>\n",
       "      <th>recyc_pred6</th>\n",
       "      <th>recyc_pred7</th>\n",
       "      <th>recyc_pred8</th>\n",
       "      <th>recyc_pred9</th>\n",
       "      <th>std</th>\n",
       "      <th>N</th>\n",
       "    </tr>\n",
       "  </thead>\n",
       "  <tbody>\n",
       "    <tr>\n",
       "      <th>0</th>\n",
       "      <td>11006.0</td>\n",
       "      <td>0.111049</td>\n",
       "      <td>0.112403</td>\n",
       "      <td>0.116999</td>\n",
       "      <td>0.109504</td>\n",
       "      <td>0.115585</td>\n",
       "      <td>0.118185</td>\n",
       "      <td>0.114876</td>\n",
       "      <td>0.114679</td>\n",
       "      <td>0.112865</td>\n",
       "      <td>0.115293</td>\n",
       "      <td>0.002677</td>\n",
       "      <td>177</td>\n",
       "    </tr>\n",
       "    <tr>\n",
       "      <th>1</th>\n",
       "      <td>11010.0</td>\n",
       "      <td>0.111225</td>\n",
       "      <td>0.109125</td>\n",
       "      <td>0.106838</td>\n",
       "      <td>0.114990</td>\n",
       "      <td>0.110846</td>\n",
       "      <td>0.115588</td>\n",
       "      <td>0.113129</td>\n",
       "      <td>0.115816</td>\n",
       "      <td>0.112575</td>\n",
       "      <td>0.110401</td>\n",
       "      <td>0.002932</td>\n",
       "      <td>416</td>\n",
       "    </tr>\n",
       "    <tr>\n",
       "      <th>2</th>\n",
       "      <td>11011.0</td>\n",
       "      <td>0.109068</td>\n",
       "      <td>0.103413</td>\n",
       "      <td>0.117116</td>\n",
       "      <td>0.109008</td>\n",
       "      <td>0.110622</td>\n",
       "      <td>0.115907</td>\n",
       "      <td>0.115083</td>\n",
       "      <td>0.114967</td>\n",
       "      <td>0.112329</td>\n",
       "      <td>0.115024</td>\n",
       "      <td>0.004236</td>\n",
       "      <td>71</td>\n",
       "    </tr>\n",
       "    <tr>\n",
       "      <th>3</th>\n",
       "      <td>11013.0</td>\n",
       "      <td>0.137949</td>\n",
       "      <td>0.133529</td>\n",
       "      <td>0.139433</td>\n",
       "      <td>0.136706</td>\n",
       "      <td>0.139706</td>\n",
       "      <td>0.140183</td>\n",
       "      <td>0.133557</td>\n",
       "      <td>0.128460</td>\n",
       "      <td>0.143059</td>\n",
       "      <td>0.137313</td>\n",
       "      <td>0.004190</td>\n",
       "      <td>459</td>\n",
       "    </tr>\n",
       "    <tr>\n",
       "      <th>4</th>\n",
       "      <td>11014.0</td>\n",
       "      <td>0.116845</td>\n",
       "      <td>0.117579</td>\n",
       "      <td>0.117034</td>\n",
       "      <td>0.116356</td>\n",
       "      <td>0.118270</td>\n",
       "      <td>0.120149</td>\n",
       "      <td>0.122009</td>\n",
       "      <td>0.110831</td>\n",
       "      <td>0.118780</td>\n",
       "      <td>0.118029</td>\n",
       "      <td>0.002910</td>\n",
       "      <td>617</td>\n",
       "    </tr>\n",
       "  </tbody>\n",
       "</table>\n",
       "</div>"
      ],
      "text/plain": [
       "   HOSP_NRD  recyc_pred0  recyc_pred1  recyc_pred2  recyc_pred3  recyc_pred4  \\\n",
       "0   11006.0     0.111049     0.112403     0.116999     0.109504     0.115585   \n",
       "1   11010.0     0.111225     0.109125     0.106838     0.114990     0.110846   \n",
       "2   11011.0     0.109068     0.103413     0.117116     0.109008     0.110622   \n",
       "3   11013.0     0.137949     0.133529     0.139433     0.136706     0.139706   \n",
       "4   11014.0     0.116845     0.117579     0.117034     0.116356     0.118270   \n",
       "\n",
       "   recyc_pred5  recyc_pred6  recyc_pred7  recyc_pred8  recyc_pred9       std  \\\n",
       "0     0.118185     0.114876     0.114679     0.112865     0.115293  0.002677   \n",
       "1     0.115588     0.113129     0.115816     0.112575     0.110401  0.002932   \n",
       "2     0.115907     0.115083     0.114967     0.112329     0.115024  0.004236   \n",
       "3     0.140183     0.133557     0.128460     0.143059     0.137313  0.004190   \n",
       "4     0.120149     0.122009     0.110831     0.118780     0.118029  0.002910   \n",
       "\n",
       "     N  \n",
       "0  177  \n",
       "1  416  \n",
       "2   71  \n",
       "3  459  \n",
       "4  617  "
      ]
     },
     "execution_count": 42,
     "metadata": {},
     "output_type": "execute_result"
    }
   ],
   "source": [
    "DL_compare.head()"
   ]
  },
  {
   "cell_type": "code",
   "execution_count": 46,
   "metadata": {},
   "outputs": [],
   "source": [
    "DL_compare = DL_compare.assign(sqrt_inv=1/np.sqrt(DL_compare.N))"
   ]
  },
  {
   "cell_type": "code",
   "execution_count": 47,
   "metadata": {},
   "outputs": [
    {
     "data": {
      "text/plain": [
       "<matplotlib.axes._subplots.AxesSubplot at 0x2afce120ba90>"
      ]
     },
     "execution_count": 47,
     "metadata": {},
     "output_type": "execute_result"
    },
    {
     "data": {
      "image/png": "[encoded data removed]",
      "text/plain": [
       "<Figure size 432x288 with 1 Axes>"
      ]
     },
     "metadata": {},
     "output_type": "display_data"
    }
   ],
   "source": [
    "DL_compare.plot.scatter('sqrt_inv', 'std', ylim=(0, 0.007))"
   ]
  },
  {
   "cell_type": "code",
   "execution_count": 104,
   "metadata": {},
   "outputs": [
    {
     "data": {
      "text/html": [
       "<div>\n",
       "<style scoped>\n",
       "    .dataframe tbody tr th:only-of-type {\n",
       "        vertical-align: middle;\n",
       "    }\n",
       "\n",
       "    .dataframe tbody tr th {\n",
       "        vertical-align: top;\n",
       "    }\n",
       "\n",
       "    .dataframe thead th {\n",
       "        text-align: right;\n",
       "    }\n",
       "</style>\n",
       "<table border=\"1\" class=\"dataframe\">\n",
       "  <thead>\n",
       "    <tr style=\"text-align: right;\">\n",
       "      <th>outlier2</th>\n",
       "      <th>bad</th>\n",
       "      <th>good</th>\n",
       "      <th>not_outlier</th>\n",
       "      <th>All</th>\n",
       "    </tr>\n",
       "    <tr>\n",
       "      <th>outlier1</th>\n",
       "      <th></th>\n",
       "      <th></th>\n",
       "      <th></th>\n",
       "      <th></th>\n",
       "    </tr>\n",
       "  </thead>\n",
       "  <tbody>\n",
       "    <tr>\n",
       "      <th>bad</th>\n",
       "      <td>9</td>\n",
       "      <td>0</td>\n",
       "      <td>10</td>\n",
       "      <td>19</td>\n",
       "    </tr>\n",
       "    <tr>\n",
       "      <th>good</th>\n",
       "      <td>0</td>\n",
       "      <td>11</td>\n",
       "      <td>9</td>\n",
       "      <td>20</td>\n",
       "    </tr>\n",
       "    <tr>\n",
       "      <th>not_outlier</th>\n",
       "      <td>10</td>\n",
       "      <td>9</td>\n",
       "      <td>816</td>\n",
       "      <td>835</td>\n",
       "    </tr>\n",
       "    <tr>\n",
       "      <th>All</th>\n",
       "      <td>19</td>\n",
       "      <td>20</td>\n",
       "      <td>835</td>\n",
       "      <td>874</td>\n",
       "    </tr>\n",
       "  </tbody>\n",
       "</table>\n",
       "</div>"
      ],
      "text/plain": [
       "outlier2     bad  good  not_outlier  All\n",
       "outlier1                                \n",
       "bad            9     0           10   19\n",
       "good           0    11            9   20\n",
       "not_outlier   10     9          816  835\n",
       "All           19    20          835  874"
      ]
     },
     "execution_count": 104,
     "metadata": {},
     "output_type": "execute_result"
    }
   ],
   "source": [
    "pd.crosstab(DL_compare.outlier1, DL_compare.outlier2, margins=True)"
   ]
  },
  {
   "cell_type": "code",
   "execution_count": 100,
   "metadata": {},
   "outputs": [
    {
     "data": {
      "text/plain": [
       "<matplotlib.axes._subplots.AxesSubplot at 0x2b98cb080080>"
      ]
     },
     "execution_count": 100,
     "metadata": {},
     "output_type": "execute_result"
    },
    {
     "data": {
      "image/png": "[encoded data removed]",
      "text/plain": [
       "<Figure size 432x288 with 1 Axes>"
      ]
     },
     "metadata": {},
     "output_type": "display_data"
    }
   ],
   "source": [
    "DL_compare.plot.scatter('recyc_pred0', 'recyc_pred2')"
   ]
  },
  {
   "cell_type": "code",
   "execution_count": 101,
   "metadata": {},
   "outputs": [
    {
     "data": {
      "text/plain": [
       "<matplotlib.axes._subplots.AxesSubplot at 0x2b98cb0c2ac8>"
      ]
     },
     "execution_count": 101,
     "metadata": {},
     "output_type": "execute_result"
    },
    {
     "data": {
      "image/png": "[encoded data removed]",
      "text/plain": [
       "<Figure size 432x288 with 1 Axes>"
      ]
     },
     "metadata": {},
     "output_type": "display_data"
    }
   ],
   "source": [
    "DL_compare.plot.scatter('recyc_sample0', 'recyc_sample2')"
   ]
  },
  {
   "cell_type": "code",
   "execution_count": 85,
   "metadata": {},
   "outputs": [],
   "source": [
    "tst_seeds = list(range(7))+[8, 9]"
   ]
  },
  {
   "cell_type": "code",
   "execution_count": 105,
   "metadata": {},
   "outputs": [],
   "source": [
    "DL_agree = []\n",
    "for i, si in enumerate(tst_seeds):\n",
    "    for sj in tst_seeds[:i]:\n",
    "        DL_agree.append(cohen_kappa_score(DL_compare['outlier'+str(sj)], DL_compare['outlier'+str(si)]))"
   ]
  },
  {
   "cell_type": "code",
   "execution_count": 106,
   "metadata": {},
   "outputs": [
    {
     "data": {
      "text/plain": [
       "0.5313198765619466"
      ]
     },
     "execution_count": 106,
     "metadata": {},
     "output_type": "execute_result"
    }
   ],
   "source": [
    "np.mean(DL_agree)"
   ]
  },
  {
   "cell_type": "code",
   "execution_count": 45,
   "metadata": {},
   "outputs": [],
   "source": [
    "compare = pd.merge(adjusted_rate[['HOSP_NRD', 'N', 'Adjusted_ME']], recycle_pred[['HOSP_NRD', 'mean']], on='HOSP_NRD')"
   ]
  },
  {
   "cell_type": "code",
   "execution_count": 46,
   "metadata": {},
   "outputs": [
    {
     "data": {
      "text/plain": [
       "<matplotlib.axes._subplots.AxesSubplot at 0x2b984329d7b8>"
      ]
     },
     "execution_count": 46,
     "metadata": {},
     "output_type": "execute_result"
    },
    {
     "data": {
      "image/png": "[encoded data removed]",
      "text/plain": [
       "<Figure size 432x288 with 1 Axes>"
      ]
     },
     "metadata": {},
     "output_type": "display_data"
    }
   ],
   "source": [
    "compare.plot.scatter('Adjusted_ME', 'mean')"
   ]
  },
  {
   "cell_type": "code",
   "execution_count": 63,
   "metadata": {},
   "outputs": [
    {
     "data": {
      "text/plain": [
       "<matplotlib.axes._subplots.AxesSubplot at 0x2b98c7b20c18>"
      ]
     },
     "execution_count": 63,
     "metadata": {},
     "output_type": "execute_result"
    },
    {
     "data": {
      "image/png": "[encoded data removed]",
      "text/plain": [
       "<Figure size 432x288 with 1 Axes>"
      ]
     },
     "metadata": {},
     "output_type": "display_data"
    }
   ],
   "source": [
    "recycle_pred.loc[recycle_pred.N>50].plot.scatter('recycle_pred0', 'recycle_pred1')"
   ]
  },
  {
   "cell_type": "code",
   "execution_count": null,
   "metadata": {},
   "outputs": [],
   "source": [
    "DL_compare"
   ]
  },
  {
   "cell_type": "markdown",
   "metadata": {},
   "source": [
    "### Model Average"
   ]
  },
  {
   "cell_type": "code",
   "execution_count": 5,
   "metadata": {},
   "outputs": [],
   "source": [
    "cohort = 'ami'\n",
    "tst_seed = 1\n",
    "val_seed = 0"
   ]
  },
  {
   "cell_type": "code",
   "execution_count": 21,
   "metadata": {},
   "outputs": [],
   "source": [
    "auc_df = pd.read_csv(path+'cohorts30/{}/model_avg/auc_auc{}{}.csv'.format(cohort, tst_seed, val_seed))"
   ]
  },
  {
   "cell_type": "code",
   "execution_count": 6,
   "metadata": {},
   "outputs": [],
   "source": [
    "pred_df0 = pd.read_csv(path+'cohorts30/{}/model_avg/pred_auc{}{}.csv'.format(cohort, tst_seed, 0))"
   ]
  },
  {
   "cell_type": "code",
   "execution_count": 7,
   "metadata": {},
   "outputs": [],
   "source": [
    "pred_df1 = pd.read_csv(path+'cohorts30/{}/model_avg/pred_auc{}{}.csv'.format(cohort, tst_seed, 1))"
   ]
  },
  {
   "cell_type": "code",
   "execution_count": 14,
   "metadata": {},
   "outputs": [
    {
     "data": {
      "text/html": [
       "<div>\n",
       "<style scoped>\n",
       "    .dataframe tbody tr th:only-of-type {\n",
       "        vertical-align: middle;\n",
       "    }\n",
       "\n",
       "    .dataframe tbody tr th {\n",
       "        vertical-align: top;\n",
       "    }\n",
       "\n",
       "    .dataframe thead th {\n",
       "        text-align: right;\n",
       "    }\n",
       "</style>\n",
       "<table border=\"1\" class=\"dataframe\">\n",
       "  <thead>\n",
       "    <tr style=\"text-align: right;\">\n",
       "      <th></th>\n",
       "      <th>auc0</th>\n",
       "      <th>auc1</th>\n",
       "      <th>auc2</th>\n",
       "      <th>auc3</th>\n",
       "      <th>auc4</th>\n",
       "      <th>auc5</th>\n",
       "      <th>auc6</th>\n",
       "      <th>auc7</th>\n",
       "      <th>auc8</th>\n",
       "      <th>auc9</th>\n",
       "      <th>...</th>\n",
       "      <th>auc16</th>\n",
       "      <th>auc17</th>\n",
       "      <th>auc18</th>\n",
       "      <th>auc19</th>\n",
       "      <th>auc20</th>\n",
       "      <th>auc21</th>\n",
       "      <th>auc22</th>\n",
       "      <th>auc23</th>\n",
       "      <th>auc24</th>\n",
       "      <th>auc_avg</th>\n",
       "    </tr>\n",
       "  </thead>\n",
       "  <tbody>\n",
       "    <tr>\n",
       "      <th>0</th>\n",
       "      <td>0.719872</td>\n",
       "      <td>0.719309</td>\n",
       "      <td>0.719006</td>\n",
       "      <td>0.718547</td>\n",
       "      <td>0.71957</td>\n",
       "      <td>0.719518</td>\n",
       "      <td>0.718877</td>\n",
       "      <td>0.718824</td>\n",
       "      <td>0.717976</td>\n",
       "      <td>0.71982</td>\n",
       "      <td>...</td>\n",
       "      <td>0.718562</td>\n",
       "      <td>0.717749</td>\n",
       "      <td>0.719735</td>\n",
       "      <td>0.719909</td>\n",
       "      <td>0.717857</td>\n",
       "      <td>0.719932</td>\n",
       "      <td>0.719415</td>\n",
       "      <td>0.718842</td>\n",
       "      <td>0.719085</td>\n",
       "      <td>0.720689</td>\n",
       "    </tr>\n",
       "  </tbody>\n",
       "</table>\n",
       "<p>1 rows × 26 columns</p>\n",
       "</div>"
      ],
      "text/plain": [
       "       auc0      auc1      auc2      auc3     auc4      auc5      auc6  \\\n",
       "0  0.719872  0.719309  0.719006  0.718547  0.71957  0.719518  0.718877   \n",
       "\n",
       "       auc7      auc8     auc9    ...        auc16     auc17     auc18  \\\n",
       "0  0.718824  0.717976  0.71982    ...     0.718562  0.717749  0.719735   \n",
       "\n",
       "      auc19     auc20     auc21     auc22     auc23     auc24   auc_avg  \n",
       "0  0.719909  0.717857  0.719932  0.719415  0.718842  0.719085  0.720689  \n",
       "\n",
       "[1 rows x 26 columns]"
      ]
     },
     "execution_count": 14,
     "metadata": {},
     "output_type": "execute_result"
    }
   ],
   "source": [
    "auc_df"
   ]
  },
  {
   "cell_type": "code",
   "execution_count": 31,
   "metadata": {},
   "outputs": [],
   "source": [
    "auc_avg = []\n",
    "auc_mean = []\n",
    "auc_std = []\n",
    "for val_seed in range(9):\n",
    "    auc_df = pd.read_csv(path+'cohorts30/{}/model_avg/auc_auc{}{}.csv'.format(cohort, tst_seed, val_seed))\n",
    "    auc_avg.append(auc_df.auc_avg.values[0])\n",
    "    auc_mean.append(np.mean(auc_df.iloc[0].values[:-1]))\n",
    "    auc_std.append(np.std(auc_df.iloc[0].values[:-1]))"
   ]
  },
  {
   "cell_type": "code",
   "execution_count": 25,
   "metadata": {},
   "outputs": [
    {
     "data": {
      "text/plain": [
       "(0.7208923853605391, 0.7192564400627358, 0.0007330162316364413)"
      ]
     },
     "execution_count": 25,
     "metadata": {},
     "output_type": "execute_result"
    }
   ],
   "source": [
    "np.mean(auc_avg), np.mean(auc_mean), np.mean(auc_std)"
   ]
  },
  {
   "cell_type": "code",
   "execution_count": 27,
   "metadata": {},
   "outputs": [
    {
     "data": {
      "text/plain": [
       "(0.7206106626862288, 0.7190050981617052, 0.0007655666848341432)"
      ]
     },
     "execution_count": 27,
     "metadata": {},
     "output_type": "execute_result"
    }
   ],
   "source": [
    "np.mean(auc_avg), np.mean(auc_mean), np.mean(auc_std)"
   ]
  },
  {
   "cell_type": "code",
   "execution_count": 8,
   "metadata": {},
   "outputs": [
    {
     "data": {
      "text/html": [
       "<div>\n",
       "<style scoped>\n",
       "    .dataframe tbody tr th:only-of-type {\n",
       "        vertical-align: middle;\n",
       "    }\n",
       "\n",
       "    .dataframe tbody tr th {\n",
       "        vertical-align: top;\n",
       "    }\n",
       "\n",
       "    .dataframe thead th {\n",
       "        text-align: right;\n",
       "    }\n",
       "</style>\n",
       "<table border=\"1\" class=\"dataframe\">\n",
       "  <thead>\n",
       "    <tr style=\"text-align: right;\">\n",
       "      <th></th>\n",
       "      <th>pred0</th>\n",
       "      <th>pred1</th>\n",
       "      <th>pred2</th>\n",
       "      <th>pred3</th>\n",
       "      <th>pred4</th>\n",
       "      <th>pred5</th>\n",
       "      <th>pred6</th>\n",
       "      <th>pred7</th>\n",
       "      <th>pred8</th>\n",
       "      <th>pred9</th>\n",
       "      <th>...</th>\n",
       "      <th>pred16</th>\n",
       "      <th>pred17</th>\n",
       "      <th>pred18</th>\n",
       "      <th>pred19</th>\n",
       "      <th>pred20</th>\n",
       "      <th>pred21</th>\n",
       "      <th>pred22</th>\n",
       "      <th>pred23</th>\n",
       "      <th>pred24</th>\n",
       "      <th>pred_avg</th>\n",
       "    </tr>\n",
       "  </thead>\n",
       "  <tbody>\n",
       "    <tr>\n",
       "      <th>0</th>\n",
       "      <td>0.162252</td>\n",
       "      <td>0.114345</td>\n",
       "      <td>0.135777</td>\n",
       "      <td>0.149597</td>\n",
       "      <td>0.139015</td>\n",
       "      <td>0.122746</td>\n",
       "      <td>0.155796</td>\n",
       "      <td>0.123529</td>\n",
       "      <td>0.130514</td>\n",
       "      <td>0.127393</td>\n",
       "      <td>...</td>\n",
       "      <td>0.137972</td>\n",
       "      <td>0.142270</td>\n",
       "      <td>0.116610</td>\n",
       "      <td>0.134052</td>\n",
       "      <td>0.116603</td>\n",
       "      <td>0.136210</td>\n",
       "      <td>0.140518</td>\n",
       "      <td>0.122134</td>\n",
       "      <td>0.154558</td>\n",
       "      <td>0.132150</td>\n",
       "    </tr>\n",
       "    <tr>\n",
       "      <th>1</th>\n",
       "      <td>0.145372</td>\n",
       "      <td>0.108558</td>\n",
       "      <td>0.140535</td>\n",
       "      <td>0.135537</td>\n",
       "      <td>0.127568</td>\n",
       "      <td>0.137383</td>\n",
       "      <td>0.147492</td>\n",
       "      <td>0.143889</td>\n",
       "      <td>0.145915</td>\n",
       "      <td>0.140725</td>\n",
       "      <td>...</td>\n",
       "      <td>0.147379</td>\n",
       "      <td>0.124959</td>\n",
       "      <td>0.127931</td>\n",
       "      <td>0.143997</td>\n",
       "      <td>0.124328</td>\n",
       "      <td>0.124282</td>\n",
       "      <td>0.145710</td>\n",
       "      <td>0.125237</td>\n",
       "      <td>0.113254</td>\n",
       "      <td>0.134118</td>\n",
       "    </tr>\n",
       "    <tr>\n",
       "      <th>2</th>\n",
       "      <td>0.025653</td>\n",
       "      <td>0.024955</td>\n",
       "      <td>0.023265</td>\n",
       "      <td>0.026290</td>\n",
       "      <td>0.025391</td>\n",
       "      <td>0.024871</td>\n",
       "      <td>0.025943</td>\n",
       "      <td>0.024780</td>\n",
       "      <td>0.024847</td>\n",
       "      <td>0.027431</td>\n",
       "      <td>...</td>\n",
       "      <td>0.029341</td>\n",
       "      <td>0.028070</td>\n",
       "      <td>0.027350</td>\n",
       "      <td>0.028088</td>\n",
       "      <td>0.023470</td>\n",
       "      <td>0.024525</td>\n",
       "      <td>0.030098</td>\n",
       "      <td>0.025047</td>\n",
       "      <td>0.025556</td>\n",
       "      <td>0.026132</td>\n",
       "    </tr>\n",
       "    <tr>\n",
       "      <th>3</th>\n",
       "      <td>0.366268</td>\n",
       "      <td>0.311505</td>\n",
       "      <td>0.374964</td>\n",
       "      <td>0.313760</td>\n",
       "      <td>0.327067</td>\n",
       "      <td>0.343134</td>\n",
       "      <td>0.342701</td>\n",
       "      <td>0.396603</td>\n",
       "      <td>0.356680</td>\n",
       "      <td>0.298974</td>\n",
       "      <td>...</td>\n",
       "      <td>0.319656</td>\n",
       "      <td>0.317326</td>\n",
       "      <td>0.308182</td>\n",
       "      <td>0.385428</td>\n",
       "      <td>0.323560</td>\n",
       "      <td>0.287847</td>\n",
       "      <td>0.342468</td>\n",
       "      <td>0.306045</td>\n",
       "      <td>0.334558</td>\n",
       "      <td>0.332657</td>\n",
       "    </tr>\n",
       "    <tr>\n",
       "      <th>4</th>\n",
       "      <td>0.107280</td>\n",
       "      <td>0.107621</td>\n",
       "      <td>0.105747</td>\n",
       "      <td>0.164042</td>\n",
       "      <td>0.089425</td>\n",
       "      <td>0.138897</td>\n",
       "      <td>0.123713</td>\n",
       "      <td>0.128910</td>\n",
       "      <td>0.124437</td>\n",
       "      <td>0.146779</td>\n",
       "      <td>...</td>\n",
       "      <td>0.119093</td>\n",
       "      <td>0.110289</td>\n",
       "      <td>0.131528</td>\n",
       "      <td>0.123190</td>\n",
       "      <td>0.120626</td>\n",
       "      <td>0.102096</td>\n",
       "      <td>0.158116</td>\n",
       "      <td>0.118415</td>\n",
       "      <td>0.134456</td>\n",
       "      <td>0.121762</td>\n",
       "    </tr>\n",
       "  </tbody>\n",
       "</table>\n",
       "<p>5 rows × 26 columns</p>\n",
       "</div>"
      ],
      "text/plain": [
       "      pred0     pred1     pred2     pred3     pred4     pred5     pred6  \\\n",
       "0  0.162252  0.114345  0.135777  0.149597  0.139015  0.122746  0.155796   \n",
       "1  0.145372  0.108558  0.140535  0.135537  0.127568  0.137383  0.147492   \n",
       "2  0.025653  0.024955  0.023265  0.026290  0.025391  0.024871  0.025943   \n",
       "3  0.366268  0.311505  0.374964  0.313760  0.327067  0.343134  0.342701   \n",
       "4  0.107280  0.107621  0.105747  0.164042  0.089425  0.138897  0.123713   \n",
       "\n",
       "      pred7     pred8     pred9    ...       pred16    pred17    pred18  \\\n",
       "0  0.123529  0.130514  0.127393    ...     0.137972  0.142270  0.116610   \n",
       "1  0.143889  0.145915  0.140725    ...     0.147379  0.124959  0.127931   \n",
       "2  0.024780  0.024847  0.027431    ...     0.029341  0.028070  0.027350   \n",
       "3  0.396603  0.356680  0.298974    ...     0.319656  0.317326  0.308182   \n",
       "4  0.128910  0.124437  0.146779    ...     0.119093  0.110289  0.131528   \n",
       "\n",
       "     pred19    pred20    pred21    pred22    pred23    pred24  pred_avg  \n",
       "0  0.134052  0.116603  0.136210  0.140518  0.122134  0.154558  0.132150  \n",
       "1  0.143997  0.124328  0.124282  0.145710  0.125237  0.113254  0.134118  \n",
       "2  0.028088  0.023470  0.024525  0.030098  0.025047  0.025556  0.026132  \n",
       "3  0.385428  0.323560  0.287847  0.342468  0.306045  0.334558  0.332657  \n",
       "4  0.123190  0.120626  0.102096  0.158116  0.118415  0.134456  0.121762  \n",
       "\n",
       "[5 rows x 26 columns]"
      ]
     },
     "execution_count": 8,
     "metadata": {},
     "output_type": "execute_result"
    }
   ],
   "source": [
    "pred_df0.head()"
   ]
  },
  {
   "cell_type": "code",
   "execution_count": 9,
   "metadata": {},
   "outputs": [],
   "source": [
    "pred_df0.columns = ['pred0_'+str(j) for j in range(25)]+['avg0']\n",
    "pred_df1.columns = ['pred1_'+str(j) for j in range(25)]+['avg1']"
   ]
  },
  {
   "cell_type": "code",
   "execution_count": 10,
   "metadata": {},
   "outputs": [],
   "source": [
    "compare = pd.concat([pred_df0, pred_df1], axis=1)"
   ]
  },
  {
   "cell_type": "code",
   "execution_count": 11,
   "metadata": {},
   "outputs": [],
   "source": [
    "compare = compare.assign(avg1_5f=compare[['pred1_'+str(j) for j in range(5)]].mean(axis=1))"
   ]
  },
  {
   "cell_type": "code",
   "execution_count": 13,
   "metadata": {},
   "outputs": [],
   "source": [
    "compare = compare.assign(avg1_20f=compare[['pred1_'+str(j) for j in range(20)]].mean(axis=1))"
   ]
  },
  {
   "cell_type": "code",
   "execution_count": 66,
   "metadata": {},
   "outputs": [
    {
     "data": {
      "text/html": [
       "<div>\n",
       "<style scoped>\n",
       "    .dataframe tbody tr th:only-of-type {\n",
       "        vertical-align: middle;\n",
       "    }\n",
       "\n",
       "    .dataframe tbody tr th {\n",
       "        vertical-align: top;\n",
       "    }\n",
       "\n",
       "    .dataframe thead th {\n",
       "        text-align: right;\n",
       "    }\n",
       "</style>\n",
       "<table border=\"1\" class=\"dataframe\">\n",
       "  <thead>\n",
       "    <tr style=\"text-align: right;\">\n",
       "      <th></th>\n",
       "      <th>pred0_0</th>\n",
       "      <th>pred0_1</th>\n",
       "      <th>pred0_2</th>\n",
       "      <th>pred0_3</th>\n",
       "      <th>pred0_4</th>\n",
       "      <th>pred0_5</th>\n",
       "      <th>pred0_6</th>\n",
       "      <th>pred0_7</th>\n",
       "      <th>pred0_8</th>\n",
       "      <th>pred0_9</th>\n",
       "      <th>...</th>\n",
       "      <th>pred1_19</th>\n",
       "      <th>pred1_20</th>\n",
       "      <th>pred1_21</th>\n",
       "      <th>pred1_22</th>\n",
       "      <th>pred1_23</th>\n",
       "      <th>pred1_24</th>\n",
       "      <th>avg1</th>\n",
       "      <th>avg0_10f</th>\n",
       "      <th>avg0_10l</th>\n",
       "      <th>avg0_5l</th>\n",
       "    </tr>\n",
       "  </thead>\n",
       "  <tbody>\n",
       "    <tr>\n",
       "      <th>0</th>\n",
       "      <td>0.162252</td>\n",
       "      <td>0.114345</td>\n",
       "      <td>0.135777</td>\n",
       "      <td>0.149597</td>\n",
       "      <td>0.139015</td>\n",
       "      <td>0.122746</td>\n",
       "      <td>0.155796</td>\n",
       "      <td>0.123529</td>\n",
       "      <td>0.130514</td>\n",
       "      <td>0.127393</td>\n",
       "      <td>...</td>\n",
       "      <td>0.151064</td>\n",
       "      <td>0.125698</td>\n",
       "      <td>0.138643</td>\n",
       "      <td>0.129101</td>\n",
       "      <td>0.115849</td>\n",
       "      <td>0.136384</td>\n",
       "      <td>0.137242</td>\n",
       "      <td>0.136096</td>\n",
       "      <td>0.127276</td>\n",
       "      <td>0.131996</td>\n",
       "    </tr>\n",
       "    <tr>\n",
       "      <th>1</th>\n",
       "      <td>0.145372</td>\n",
       "      <td>0.108558</td>\n",
       "      <td>0.140535</td>\n",
       "      <td>0.135537</td>\n",
       "      <td>0.127568</td>\n",
       "      <td>0.137383</td>\n",
       "      <td>0.147492</td>\n",
       "      <td>0.143889</td>\n",
       "      <td>0.145915</td>\n",
       "      <td>0.140725</td>\n",
       "      <td>...</td>\n",
       "      <td>0.139593</td>\n",
       "      <td>0.144945</td>\n",
       "      <td>0.146768</td>\n",
       "      <td>0.142364</td>\n",
       "      <td>0.139332</td>\n",
       "      <td>0.148561</td>\n",
       "      <td>0.144099</td>\n",
       "      <td>0.137297</td>\n",
       "      <td>0.134718</td>\n",
       "      <td>0.143081</td>\n",
       "    </tr>\n",
       "    <tr>\n",
       "      <th>2</th>\n",
       "      <td>0.025653</td>\n",
       "      <td>0.024955</td>\n",
       "      <td>0.023265</td>\n",
       "      <td>0.026290</td>\n",
       "      <td>0.025391</td>\n",
       "      <td>0.024871</td>\n",
       "      <td>0.025943</td>\n",
       "      <td>0.024780</td>\n",
       "      <td>0.024847</td>\n",
       "      <td>0.027431</td>\n",
       "      <td>...</td>\n",
       "      <td>0.023391</td>\n",
       "      <td>0.022535</td>\n",
       "      <td>0.025094</td>\n",
       "      <td>0.022981</td>\n",
       "      <td>0.021883</td>\n",
       "      <td>0.020282</td>\n",
       "      <td>0.023333</td>\n",
       "      <td>0.025343</td>\n",
       "      <td>0.027117</td>\n",
       "      <td>0.025574</td>\n",
       "    </tr>\n",
       "    <tr>\n",
       "      <th>3</th>\n",
       "      <td>0.366268</td>\n",
       "      <td>0.311505</td>\n",
       "      <td>0.374964</td>\n",
       "      <td>0.313760</td>\n",
       "      <td>0.327067</td>\n",
       "      <td>0.343134</td>\n",
       "      <td>0.342701</td>\n",
       "      <td>0.396603</td>\n",
       "      <td>0.356680</td>\n",
       "      <td>0.298974</td>\n",
       "      <td>...</td>\n",
       "      <td>0.327975</td>\n",
       "      <td>0.292404</td>\n",
       "      <td>0.306621</td>\n",
       "      <td>0.338890</td>\n",
       "      <td>0.311509</td>\n",
       "      <td>0.343591</td>\n",
       "      <td>0.335581</td>\n",
       "      <td>0.343166</td>\n",
       "      <td>0.329029</td>\n",
       "      <td>0.347618</td>\n",
       "    </tr>\n",
       "    <tr>\n",
       "      <th>4</th>\n",
       "      <td>0.107280</td>\n",
       "      <td>0.107621</td>\n",
       "      <td>0.105747</td>\n",
       "      <td>0.164042</td>\n",
       "      <td>0.089425</td>\n",
       "      <td>0.138897</td>\n",
       "      <td>0.123713</td>\n",
       "      <td>0.128910</td>\n",
       "      <td>0.124437</td>\n",
       "      <td>0.146779</td>\n",
       "      <td>...</td>\n",
       "      <td>0.116276</td>\n",
       "      <td>0.141644</td>\n",
       "      <td>0.116331</td>\n",
       "      <td>0.110200</td>\n",
       "      <td>0.102858</td>\n",
       "      <td>0.172948</td>\n",
       "      <td>0.128027</td>\n",
       "      <td>0.123685</td>\n",
       "      <td>0.117348</td>\n",
       "      <td>0.132547</td>\n",
       "    </tr>\n",
       "  </tbody>\n",
       "</table>\n",
       "<p>5 rows × 55 columns</p>\n",
       "</div>"
      ],
      "text/plain": [
       "    pred0_0   pred0_1   pred0_2   pred0_3   pred0_4   pred0_5   pred0_6  \\\n",
       "0  0.162252  0.114345  0.135777  0.149597  0.139015  0.122746  0.155796   \n",
       "1  0.145372  0.108558  0.140535  0.135537  0.127568  0.137383  0.147492   \n",
       "2  0.025653  0.024955  0.023265  0.026290  0.025391  0.024871  0.025943   \n",
       "3  0.366268  0.311505  0.374964  0.313760  0.327067  0.343134  0.342701   \n",
       "4  0.107280  0.107621  0.105747  0.164042  0.089425  0.138897  0.123713   \n",
       "\n",
       "    pred0_7   pred0_8   pred0_9    ...     pred1_19  pred1_20  pred1_21  \\\n",
       "0  0.123529  0.130514  0.127393    ...     0.151064  0.125698  0.138643   \n",
       "1  0.143889  0.145915  0.140725    ...     0.139593  0.144945  0.146768   \n",
       "2  0.024780  0.024847  0.027431    ...     0.023391  0.022535  0.025094   \n",
       "3  0.396603  0.356680  0.298974    ...     0.327975  0.292404  0.306621   \n",
       "4  0.128910  0.124437  0.146779    ...     0.116276  0.141644  0.116331   \n",
       "\n",
       "   pred1_22  pred1_23  pred1_24      avg1  avg0_10f  avg0_10l   avg0_5l  \n",
       "0  0.129101  0.115849  0.136384  0.137242  0.136096  0.127276  0.131996  \n",
       "1  0.142364  0.139332  0.148561  0.144099  0.137297  0.134718  0.143081  \n",
       "2  0.022981  0.021883  0.020282  0.023333  0.025343  0.027117  0.025574  \n",
       "3  0.338890  0.311509  0.343591  0.335581  0.343166  0.329029  0.347618  \n",
       "4  0.110200  0.102858  0.172948  0.128027  0.123685  0.117348  0.132547  \n",
       "\n",
       "[5 rows x 55 columns]"
      ]
     },
     "execution_count": 66,
     "metadata": {},
     "output_type": "execute_result"
    }
   ],
   "source": [
    "compare.head()"
   ]
  },
  {
   "cell_type": "code",
   "execution_count": 24,
   "metadata": {},
   "outputs": [
    {
     "data": {
      "text/plain": [
       "0.013401288578754294"
      ]
     },
     "execution_count": 24,
     "metadata": {},
     "output_type": "execute_result"
    }
   ],
   "source": [
    "np.mean([np.sqrt(((compare['pred1_'+str(j)] - compare.avg1)**2).mean()) for j in range(25)])"
   ]
  },
  {
   "cell_type": "code",
   "execution_count": 27,
   "metadata": {},
   "outputs": [
    {
     "data": {
      "text/plain": [
       "0.0012602963598482822"
      ]
     },
     "execution_count": 27,
     "metadata": {},
     "output_type": "execute_result"
    }
   ],
   "source": [
    "np.sqrt(((compare.avg1_20f - compare.avg1)**2).mean())"
   ]
  },
  {
   "cell_type": "code",
   "execution_count": 52,
   "metadata": {
    "collapsed": true
   },
   "outputs": [
    {
     "data": {
      "text/plain": [
       "<matplotlib.axes._subplots.AxesSubplot at 0x2b37fd4c20f0>"
      ]
     },
     "execution_count": 52,
     "metadata": {},
     "output_type": "execute_result"
    },
    {
     "data": {
      "image/png": "[encoded data removed]",
      "text/plain": [
       "<Figure size 432x288 with 1 Axes>"
      ]
     },
     "metadata": {},
     "output_type": "display_data"
    }
   ],
   "source": [
    "compare.plot.scatter('pred0_0', 'pred1_1')"
   ]
  },
  {
   "cell_type": "code",
   "execution_count": 60,
   "metadata": {
    "collapsed": true
   },
   "outputs": [
    {
     "data": {
      "text/plain": [
       "<matplotlib.axes._subplots.AxesSubplot at 0x2b3880cf8550>"
      ]
     },
     "execution_count": 60,
     "metadata": {},
     "output_type": "execute_result"
    },
    {
     "data": {
      "image/png": "[encoded data removed]",
      "text/plain": [
       "<Figure size 432x288 with 1 Axes>"
      ]
     },
     "metadata": {},
     "output_type": "display_data"
    }
   ],
   "source": [
    "compare.plot.scatter('avg0_10f', 'avg0_10l')"
   ]
  },
  {
   "cell_type": "markdown",
   "metadata": {},
   "source": [
    "## Diagnosis for abnormal hospitals"
   ]
  },
  {
   "cell_type": "code",
   "execution_count": 18,
   "metadata": {},
   "outputs": [],
   "source": [
    "hosp1 = index_df.loc[index_df.HOSP_NRD==13042]"
   ]
  },
  {
   "cell_type": "code",
   "execution_count": 20,
   "metadata": {},
   "outputs": [],
   "source": [
    "comorbs = [c for c in index_df.columns if c.startswith('CM_')]"
   ]
  },
  {
   "cell_type": "code",
   "execution_count": 33,
   "metadata": {},
   "outputs": [
    {
     "data": {
      "text/html": [
       "<div>\n",
       "<style scoped>\n",
       "    .dataframe tbody tr th:only-of-type {\n",
       "        vertical-align: middle;\n",
       "    }\n",
       "\n",
       "    .dataframe tbody tr th {\n",
       "        vertical-align: top;\n",
       "    }\n",
       "\n",
       "    .dataframe thead th {\n",
       "        text-align: right;\n",
       "    }\n",
       "</style>\n",
       "<table border=\"1\" class=\"dataframe\">\n",
       "  <thead>\n",
       "    <tr style=\"text-align: right;\">\n",
       "      <th></th>\n",
       "      <th>0</th>\n",
       "      <th>1</th>\n",
       "    </tr>\n",
       "  </thead>\n",
       "  <tbody>\n",
       "    <tr>\n",
       "      <th>CM_AIDS</th>\n",
       "      <td>0.000000</td>\n",
       "      <td>0.001426</td>\n",
       "    </tr>\n",
       "    <tr>\n",
       "      <th>CM_ALCOHOL</th>\n",
       "      <td>0.072650</td>\n",
       "      <td>0.035330</td>\n",
       "    </tr>\n",
       "    <tr>\n",
       "      <th>CM_ANEMDEF</th>\n",
       "      <td>0.196581</td>\n",
       "      <td>0.165893</td>\n",
       "    </tr>\n",
       "    <tr>\n",
       "      <th>CM_ARTH</th>\n",
       "      <td>0.029915</td>\n",
       "      <td>0.026025</td>\n",
       "    </tr>\n",
       "    <tr>\n",
       "      <th>CM_BLDLOSS</th>\n",
       "      <td>0.000000</td>\n",
       "      <td>0.007185</td>\n",
       "    </tr>\n",
       "    <tr>\n",
       "      <th>CM_CHF</th>\n",
       "      <td>0.008547</td>\n",
       "      <td>0.004741</td>\n",
       "    </tr>\n",
       "    <tr>\n",
       "      <th>CM_CHRNLUNG</th>\n",
       "      <td>0.205128</td>\n",
       "      <td>0.205108</td>\n",
       "    </tr>\n",
       "    <tr>\n",
       "      <th>CM_COAG</th>\n",
       "      <td>0.025641</td>\n",
       "      <td>0.054447</td>\n",
       "    </tr>\n",
       "    <tr>\n",
       "      <th>CM_DEPRESS</th>\n",
       "      <td>0.085470</td>\n",
       "      <td>0.081098</td>\n",
       "    </tr>\n",
       "    <tr>\n",
       "      <th>CM_DM</th>\n",
       "      <td>0.388889</td>\n",
       "      <td>0.298633</td>\n",
       "    </tr>\n",
       "    <tr>\n",
       "      <th>CM_DMCX</th>\n",
       "      <td>0.106838</td>\n",
       "      <td>0.079845</td>\n",
       "    </tr>\n",
       "    <tr>\n",
       "      <th>CM_DRUG</th>\n",
       "      <td>0.059829</td>\n",
       "      <td>0.031382</td>\n",
       "    </tr>\n",
       "    <tr>\n",
       "      <th>CM_HTN_C</th>\n",
       "      <td>0.803419</td>\n",
       "      <td>0.742811</td>\n",
       "    </tr>\n",
       "    <tr>\n",
       "      <th>CM_HYPOTHY</th>\n",
       "      <td>0.068376</td>\n",
       "      <td>0.116209</td>\n",
       "    </tr>\n",
       "    <tr>\n",
       "      <th>CM_LIVER</th>\n",
       "      <td>0.012821</td>\n",
       "      <td>0.017524</td>\n",
       "    </tr>\n",
       "    <tr>\n",
       "      <th>CM_LYMPH</th>\n",
       "      <td>0.004274</td>\n",
       "      <td>0.005854</td>\n",
       "    </tr>\n",
       "    <tr>\n",
       "      <th>CM_LYTES</th>\n",
       "      <td>0.136752</td>\n",
       "      <td>0.223754</td>\n",
       "    </tr>\n",
       "    <tr>\n",
       "      <th>CM_METS</th>\n",
       "      <td>0.008547</td>\n",
       "      <td>0.008135</td>\n",
       "    </tr>\n",
       "    <tr>\n",
       "      <th>CM_NEURO</th>\n",
       "      <td>0.055556</td>\n",
       "      <td>0.059068</td>\n",
       "    </tr>\n",
       "    <tr>\n",
       "      <th>CM_OBESE</th>\n",
       "      <td>0.192308</td>\n",
       "      <td>0.176143</td>\n",
       "    </tr>\n",
       "    <tr>\n",
       "      <th>CM_PARA</th>\n",
       "      <td>0.008547</td>\n",
       "      <td>0.016469</td>\n",
       "    </tr>\n",
       "    <tr>\n",
       "      <th>CM_PERIVASC</th>\n",
       "      <td>0.094017</td>\n",
       "      <td>0.125806</td>\n",
       "    </tr>\n",
       "    <tr>\n",
       "      <th>CM_PSYCH</th>\n",
       "      <td>0.029915</td>\n",
       "      <td>0.027330</td>\n",
       "    </tr>\n",
       "    <tr>\n",
       "      <th>CM_PULMCIRC</th>\n",
       "      <td>0.000000</td>\n",
       "      <td>0.000872</td>\n",
       "    </tr>\n",
       "    <tr>\n",
       "      <th>CM_RENLFAIL</th>\n",
       "      <td>0.247863</td>\n",
       "      <td>0.203724</td>\n",
       "    </tr>\n",
       "    <tr>\n",
       "      <th>CM_TUMOR</th>\n",
       "      <td>0.008547</td>\n",
       "      <td>0.014616</td>\n",
       "    </tr>\n",
       "    <tr>\n",
       "      <th>CM_ULCER</th>\n",
       "      <td>0.000000</td>\n",
       "      <td>0.000277</td>\n",
       "    </tr>\n",
       "    <tr>\n",
       "      <th>CM_VALVE</th>\n",
       "      <td>0.000000</td>\n",
       "      <td>0.001577</td>\n",
       "    </tr>\n",
       "    <tr>\n",
       "      <th>CM_WGHTLOSS</th>\n",
       "      <td>0.017094</td>\n",
       "      <td>0.026678</td>\n",
       "    </tr>\n",
       "  </tbody>\n",
       "</table>\n",
       "</div>"
      ],
      "text/plain": [
       "                    0         1\n",
       "CM_AIDS      0.000000  0.001426\n",
       "CM_ALCOHOL   0.072650  0.035330\n",
       "CM_ANEMDEF   0.196581  0.165893\n",
       "CM_ARTH      0.029915  0.026025\n",
       "CM_BLDLOSS   0.000000  0.007185\n",
       "CM_CHF       0.008547  0.004741\n",
       "CM_CHRNLUNG  0.205128  0.205108\n",
       "CM_COAG      0.025641  0.054447\n",
       "CM_DEPRESS   0.085470  0.081098\n",
       "CM_DM        0.388889  0.298633\n",
       "CM_DMCX      0.106838  0.079845\n",
       "CM_DRUG      0.059829  0.031382\n",
       "CM_HTN_C     0.803419  0.742811\n",
       "CM_HYPOTHY   0.068376  0.116209\n",
       "CM_LIVER     0.012821  0.017524\n",
       "CM_LYMPH     0.004274  0.005854\n",
       "CM_LYTES     0.136752  0.223754\n",
       "CM_METS      0.008547  0.008135\n",
       "CM_NEURO     0.055556  0.059068\n",
       "CM_OBESE     0.192308  0.176143\n",
       "CM_PARA      0.008547  0.016469\n",
       "CM_PERIVASC  0.094017  0.125806\n",
       "CM_PSYCH     0.029915  0.027330\n",
       "CM_PULMCIRC  0.000000  0.000872\n",
       "CM_RENLFAIL  0.247863  0.203724\n",
       "CM_TUMOR     0.008547  0.014616\n",
       "CM_ULCER     0.000000  0.000277\n",
       "CM_VALVE     0.000000  0.001577\n",
       "CM_WGHTLOSS  0.017094  0.026678"
      ]
     },
     "execution_count": 33,
     "metadata": {},
     "output_type": "execute_result"
    }
   ],
   "source": [
    "pd.concat([hosp1[comorbs].mean(), index_df[comorbs].mean()], axis=1)"
   ]
  },
  {
   "cell_type": "code",
   "execution_count": 38,
   "metadata": {},
   "outputs": [],
   "source": [
    "cooccur_hosp1 = np.dot(hosp1[comorbs].values.transpose(), hosp1[comorbs].values)/len(hosp1)"
   ]
  },
  {
   "cell_type": "code",
   "execution_count": 42,
   "metadata": {},
   "outputs": [],
   "source": [
    "cooccur_index = np.dot(index_df[comorbs].values.transpose(), index_df[comorbs].values)/len(index_df)"
   ]
  },
  {
   "cell_type": "code",
   "execution_count": 43,
   "metadata": {},
   "outputs": [],
   "source": [
    "diff = pd.DataFrame(data=(cooccur_hosp1-cooccur_index), index=comorbs, columns=comorbs)"
   ]
  },
  {
   "cell_type": "code",
   "execution_count": 50,
   "metadata": {},
   "outputs": [
    {
     "data": {
      "text/plain": [
       "(array([9]), array([9]))"
      ]
     },
     "execution_count": 50,
     "metadata": {},
     "output_type": "execute_result"
    }
   ],
   "source": [
    "np.where(diff.values==diff.values.max())"
   ]
  },
  {
   "cell_type": "code",
   "execution_count": 52,
   "metadata": {},
   "outputs": [
    {
     "data": {
      "text/plain": [
       "0.32051282051282054"
      ]
     },
     "execution_count": 52,
     "metadata": {},
     "output_type": "execute_result"
    }
   ],
   "source": [
    "cooccur_hosp1[9, 12]"
   ]
  },
  {
   "cell_type": "code",
   "execution_count": 53,
   "metadata": {},
   "outputs": [
    {
     "data": {
      "text/plain": [
       "0.24922588494535505"
      ]
     },
     "execution_count": 53,
     "metadata": {},
     "output_type": "execute_result"
    }
   ],
   "source": [
    "cooccur_index[9, 12]"
   ]
  },
  {
   "cell_type": "code",
   "execution_count": 51,
   "metadata": {},
   "outputs": [
    {
     "data": {
      "text/html": [
       "<div>\n",
       "<style scoped>\n",
       "    .dataframe tbody tr th:only-of-type {\n",
       "        vertical-align: middle;\n",
       "    }\n",
       "\n",
       "    .dataframe tbody tr th {\n",
       "        vertical-align: top;\n",
       "    }\n",
       "\n",
       "    .dataframe thead th {\n",
       "        text-align: right;\n",
       "    }\n",
       "</style>\n",
       "<table border=\"1\" class=\"dataframe\">\n",
       "  <thead>\n",
       "    <tr style=\"text-align: right;\">\n",
       "      <th></th>\n",
       "      <th>CM_AIDS</th>\n",
       "      <th>CM_ALCOHOL</th>\n",
       "      <th>CM_ANEMDEF</th>\n",
       "      <th>CM_ARTH</th>\n",
       "      <th>CM_BLDLOSS</th>\n",
       "      <th>CM_CHF</th>\n",
       "      <th>CM_CHRNLUNG</th>\n",
       "      <th>CM_COAG</th>\n",
       "      <th>CM_DEPRESS</th>\n",
       "      <th>CM_DM</th>\n",
       "      <th>...</th>\n",
       "      <th>CM_OBESE</th>\n",
       "      <th>CM_PARA</th>\n",
       "      <th>CM_PERIVASC</th>\n",
       "      <th>CM_PSYCH</th>\n",
       "      <th>CM_PULMCIRC</th>\n",
       "      <th>CM_RENLFAIL</th>\n",
       "      <th>CM_TUMOR</th>\n",
       "      <th>CM_ULCER</th>\n",
       "      <th>CM_VALVE</th>\n",
       "      <th>CM_WGHTLOSS</th>\n",
       "    </tr>\n",
       "  </thead>\n",
       "  <tbody>\n",
       "    <tr>\n",
       "      <th>CM_AIDS</th>\n",
       "      <td>-0.001426</td>\n",
       "      <td>-0.000089</td>\n",
       "      <td>-0.000324</td>\n",
       "      <td>-0.000031</td>\n",
       "      <td>-0.000005</td>\n",
       "      <td>-0.000010</td>\n",
       "      <td>-0.000266</td>\n",
       "      <td>-0.000131</td>\n",
       "      <td>-0.000251</td>\n",
       "      <td>-0.000355</td>\n",
       "      <td>...</td>\n",
       "      <td>-0.000094</td>\n",
       "      <td>-0.000021</td>\n",
       "      <td>-0.000120</td>\n",
       "      <td>-0.000099</td>\n",
       "      <td>-0.000005</td>\n",
       "      <td>-0.000355</td>\n",
       "      <td>-0.000021</td>\n",
       "      <td>0.000000</td>\n",
       "      <td>-0.000005</td>\n",
       "      <td>-0.000057</td>\n",
       "    </tr>\n",
       "    <tr>\n",
       "      <th>CM_ALCOHOL</th>\n",
       "      <td>-0.000089</td>\n",
       "      <td>0.037320</td>\n",
       "      <td>0.011925</td>\n",
       "      <td>-0.000486</td>\n",
       "      <td>-0.000240</td>\n",
       "      <td>-0.000198</td>\n",
       "      <td>0.016028</td>\n",
       "      <td>-0.003415</td>\n",
       "      <td>0.009416</td>\n",
       "      <td>0.010013</td>\n",
       "      <td>...</td>\n",
       "      <td>0.003096</td>\n",
       "      <td>-0.000407</td>\n",
       "      <td>0.004041</td>\n",
       "      <td>0.002263</td>\n",
       "      <td>-0.000042</td>\n",
       "      <td>0.004730</td>\n",
       "      <td>-0.000428</td>\n",
       "      <td>-0.000021</td>\n",
       "      <td>-0.000052</td>\n",
       "      <td>0.002702</td>\n",
       "    </tr>\n",
       "    <tr>\n",
       "      <th>CM_ANEMDEF</th>\n",
       "      <td>-0.000324</td>\n",
       "      <td>0.011925</td>\n",
       "      <td>0.030688</td>\n",
       "      <td>0.002469</td>\n",
       "      <td>-0.001493</td>\n",
       "      <td>-0.001551</td>\n",
       "      <td>-0.002312</td>\n",
       "      <td>-0.018025</td>\n",
       "      <td>0.000520</td>\n",
       "      <td>0.046577</td>\n",
       "      <td>...</td>\n",
       "      <td>-0.002431</td>\n",
       "      <td>-0.000478</td>\n",
       "      <td>-0.013127</td>\n",
       "      <td>-0.006099</td>\n",
       "      <td>-0.000366</td>\n",
       "      <td>0.012402</td>\n",
       "      <td>-0.004099</td>\n",
       "      <td>-0.000141</td>\n",
       "      <td>-0.000574</td>\n",
       "      <td>0.006739</td>\n",
       "    </tr>\n",
       "    <tr>\n",
       "      <th>CM_ARTH</th>\n",
       "      <td>-0.000031</td>\n",
       "      <td>-0.000486</td>\n",
       "      <td>0.002469</td>\n",
       "      <td>0.003890</td>\n",
       "      <td>-0.000277</td>\n",
       "      <td>-0.000073</td>\n",
       "      <td>-0.007227</td>\n",
       "      <td>-0.001828</td>\n",
       "      <td>0.001177</td>\n",
       "      <td>0.018889</td>\n",
       "      <td>...</td>\n",
       "      <td>0.004297</td>\n",
       "      <td>-0.000418</td>\n",
       "      <td>0.000409</td>\n",
       "      <td>-0.000841</td>\n",
       "      <td>-0.000031</td>\n",
       "      <td>0.006544</td>\n",
       "      <td>-0.000433</td>\n",
       "      <td>-0.000016</td>\n",
       "      <td>-0.000031</td>\n",
       "      <td>-0.001159</td>\n",
       "    </tr>\n",
       "    <tr>\n",
       "      <th>CM_BLDLOSS</th>\n",
       "      <td>-0.000005</td>\n",
       "      <td>-0.000240</td>\n",
       "      <td>-0.001493</td>\n",
       "      <td>-0.000277</td>\n",
       "      <td>-0.007185</td>\n",
       "      <td>-0.000131</td>\n",
       "      <td>-0.002104</td>\n",
       "      <td>-0.000893</td>\n",
       "      <td>-0.000689</td>\n",
       "      <td>-0.002334</td>\n",
       "      <td>...</td>\n",
       "      <td>-0.001269</td>\n",
       "      <td>-0.000178</td>\n",
       "      <td>-0.001650</td>\n",
       "      <td>-0.000219</td>\n",
       "      <td>-0.000010</td>\n",
       "      <td>-0.002882</td>\n",
       "      <td>-0.000334</td>\n",
       "      <td>-0.000016</td>\n",
       "      <td>-0.000057</td>\n",
       "      <td>-0.000512</td>\n",
       "    </tr>\n",
       "    <tr>\n",
       "      <th>CM_CHF</th>\n",
       "      <td>-0.000010</td>\n",
       "      <td>-0.000198</td>\n",
       "      <td>-0.001551</td>\n",
       "      <td>-0.000073</td>\n",
       "      <td>-0.000131</td>\n",
       "      <td>0.003806</td>\n",
       "      <td>-0.001316</td>\n",
       "      <td>0.003532</td>\n",
       "      <td>-0.000345</td>\n",
       "      <td>-0.001478</td>\n",
       "      <td>...</td>\n",
       "      <td>-0.000862</td>\n",
       "      <td>-0.000319</td>\n",
       "      <td>-0.000966</td>\n",
       "      <td>-0.000157</td>\n",
       "      <td>-0.000595</td>\n",
       "      <td>0.006563</td>\n",
       "      <td>-0.000183</td>\n",
       "      <td>0.000000</td>\n",
       "      <td>-0.001050</td>\n",
       "      <td>-0.000877</td>\n",
       "    </tr>\n",
       "    <tr>\n",
       "      <th>CM_CHRNLUNG</th>\n",
       "      <td>-0.000266</td>\n",
       "      <td>0.016028</td>\n",
       "      <td>-0.002312</td>\n",
       "      <td>-0.007227</td>\n",
       "      <td>-0.002104</td>\n",
       "      <td>-0.001316</td>\n",
       "      <td>0.000020</td>\n",
       "      <td>-0.009240</td>\n",
       "      <td>0.001209</td>\n",
       "      <td>0.015111</td>\n",
       "      <td>...</td>\n",
       "      <td>0.000873</td>\n",
       "      <td>-0.003911</td>\n",
       "      <td>-0.007136</td>\n",
       "      <td>0.003912</td>\n",
       "      <td>-0.000334</td>\n",
       "      <td>-0.009325</td>\n",
       "      <td>-0.004705</td>\n",
       "      <td>-0.000078</td>\n",
       "      <td>-0.000423</td>\n",
       "      <td>-0.004269</td>\n",
       "    </tr>\n",
       "    <tr>\n",
       "      <th>CM_COAG</th>\n",
       "      <td>-0.000131</td>\n",
       "      <td>-0.003415</td>\n",
       "      <td>-0.018025</td>\n",
       "      <td>-0.001828</td>\n",
       "      <td>-0.000893</td>\n",
       "      <td>0.003532</td>\n",
       "      <td>-0.009240</td>\n",
       "      <td>-0.028806</td>\n",
       "      <td>-0.000222</td>\n",
       "      <td>-0.003529</td>\n",
       "      <td>...</td>\n",
       "      <td>-0.001087</td>\n",
       "      <td>-0.001342</td>\n",
       "      <td>-0.010454</td>\n",
       "      <td>-0.001723</td>\n",
       "      <td>-0.000157</td>\n",
       "      <td>-0.013214</td>\n",
       "      <td>-0.001201</td>\n",
       "      <td>-0.000021</td>\n",
       "      <td>-0.000345</td>\n",
       "      <td>-0.003781</td>\n",
       "    </tr>\n",
       "    <tr>\n",
       "      <th>CM_DEPRESS</th>\n",
       "      <td>-0.000251</td>\n",
       "      <td>0.009416</td>\n",
       "      <td>0.000520</td>\n",
       "      <td>0.001177</td>\n",
       "      <td>-0.000689</td>\n",
       "      <td>-0.000345</td>\n",
       "      <td>0.001209</td>\n",
       "      <td>-0.000222</td>\n",
       "      <td>0.004372</td>\n",
       "      <td>0.009119</td>\n",
       "      <td>...</td>\n",
       "      <td>-0.004735</td>\n",
       "      <td>-0.002047</td>\n",
       "      <td>-0.003050</td>\n",
       "      <td>0.002263</td>\n",
       "      <td>-0.000073</td>\n",
       "      <td>0.007997</td>\n",
       "      <td>-0.001206</td>\n",
       "      <td>-0.000010</td>\n",
       "      <td>-0.000146</td>\n",
       "      <td>0.001449</td>\n",
       "    </tr>\n",
       "    <tr>\n",
       "      <th>CM_DM</th>\n",
       "      <td>-0.000355</td>\n",
       "      <td>0.010013</td>\n",
       "      <td>0.046577</td>\n",
       "      <td>0.018889</td>\n",
       "      <td>-0.002334</td>\n",
       "      <td>-0.001478</td>\n",
       "      <td>0.015111</td>\n",
       "      <td>-0.003529</td>\n",
       "      <td>0.009119</td>\n",
       "      <td>0.090255</td>\n",
       "      <td>...</td>\n",
       "      <td>0.022665</td>\n",
       "      <td>-0.001643</td>\n",
       "      <td>0.017427</td>\n",
       "      <td>0.000620</td>\n",
       "      <td>-0.000282</td>\n",
       "      <td>0.027662</td>\n",
       "      <td>-0.004261</td>\n",
       "      <td>-0.000094</td>\n",
       "      <td>-0.000496</td>\n",
       "      <td>-0.006433</td>\n",
       "    </tr>\n",
       "    <tr>\n",
       "      <th>CM_DMCX</th>\n",
       "      <td>-0.000068</td>\n",
       "      <td>-0.001754</td>\n",
       "      <td>-0.004415</td>\n",
       "      <td>-0.001833</td>\n",
       "      <td>-0.001029</td>\n",
       "      <td>0.007565</td>\n",
       "      <td>-0.001850</td>\n",
       "      <td>0.001649</td>\n",
       "      <td>-0.000084</td>\n",
       "      <td>0.000000</td>\n",
       "      <td>...</td>\n",
       "      <td>0.006318</td>\n",
       "      <td>-0.002658</td>\n",
       "      <td>-0.019167</td>\n",
       "      <td>0.000524</td>\n",
       "      <td>-0.000157</td>\n",
       "      <td>-0.007985</td>\n",
       "      <td>-0.000956</td>\n",
       "      <td>-0.000031</td>\n",
       "      <td>-0.000251</td>\n",
       "      <td>0.004787</td>\n",
       "    </tr>\n",
       "    <tr>\n",
       "      <th>CM_DRUG</th>\n",
       "      <td>-0.000251</td>\n",
       "      <td>0.006481</td>\n",
       "      <td>0.000315</td>\n",
       "      <td>-0.000559</td>\n",
       "      <td>-0.000188</td>\n",
       "      <td>-0.000146</td>\n",
       "      <td>0.013504</td>\n",
       "      <td>-0.001660</td>\n",
       "      <td>0.000456</td>\n",
       "      <td>0.014386</td>\n",
       "      <td>...</td>\n",
       "      <td>-0.001246</td>\n",
       "      <td>-0.000439</td>\n",
       "      <td>0.001255</td>\n",
       "      <td>0.005727</td>\n",
       "      <td>-0.000037</td>\n",
       "      <td>0.004406</td>\n",
       "      <td>-0.000251</td>\n",
       "      <td>-0.000016</td>\n",
       "      <td>-0.000047</td>\n",
       "      <td>-0.000903</td>\n",
       "    </tr>\n",
       "    <tr>\n",
       "      <th>CM_HTN_C</th>\n",
       "      <td>-0.000992</td>\n",
       "      <td>0.034582</td>\n",
       "      <td>0.037933</td>\n",
       "      <td>0.005658</td>\n",
       "      <td>-0.005660</td>\n",
       "      <td>0.005095</td>\n",
       "      <td>0.013329</td>\n",
       "      <td>-0.023870</td>\n",
       "      <td>0.005350</td>\n",
       "      <td>0.071287</td>\n",
       "      <td>...</td>\n",
       "      <td>0.015312</td>\n",
       "      <td>-0.004398</td>\n",
       "      <td>-0.026137</td>\n",
       "      <td>0.000992</td>\n",
       "      <td>-0.000600</td>\n",
       "      <td>0.033990</td>\n",
       "      <td>-0.006708</td>\n",
       "      <td>-0.000204</td>\n",
       "      <td>-0.001258</td>\n",
       "      <td>-0.006124</td>\n",
       "    </tr>\n",
       "    <tr>\n",
       "      <th>CM_HYPOTHY</th>\n",
       "      <td>-0.000094</td>\n",
       "      <td>-0.001728</td>\n",
       "      <td>-0.015157</td>\n",
       "      <td>0.003372</td>\n",
       "      <td>-0.001196</td>\n",
       "      <td>-0.000512</td>\n",
       "      <td>-0.010356</td>\n",
       "      <td>0.001905</td>\n",
       "      <td>-0.006032</td>\n",
       "      <td>-0.002176</td>\n",
       "      <td>...</td>\n",
       "      <td>0.000225</td>\n",
       "      <td>-0.002303</td>\n",
       "      <td>-0.017524</td>\n",
       "      <td>0.000070</td>\n",
       "      <td>-0.000125</td>\n",
       "      <td>0.001375</td>\n",
       "      <td>-0.001859</td>\n",
       "      <td>-0.000021</td>\n",
       "      <td>-0.000193</td>\n",
       "      <td>-0.003718</td>\n",
       "    </tr>\n",
       "    <tr>\n",
       "      <th>CM_LIVER</th>\n",
       "      <td>-0.000162</td>\n",
       "      <td>-0.003013</td>\n",
       "      <td>-0.000248</td>\n",
       "      <td>-0.000559</td>\n",
       "      <td>-0.000282</td>\n",
       "      <td>-0.000115</td>\n",
       "      <td>0.003529</td>\n",
       "      <td>-0.003493</td>\n",
       "      <td>0.002336</td>\n",
       "      <td>-0.006188</td>\n",
       "      <td>...</td>\n",
       "      <td>0.000216</td>\n",
       "      <td>-0.000240</td>\n",
       "      <td>-0.002814</td>\n",
       "      <td>-0.000987</td>\n",
       "      <td>-0.000037</td>\n",
       "      <td>-0.000494</td>\n",
       "      <td>-0.000444</td>\n",
       "      <td>-0.000010</td>\n",
       "      <td>-0.000063</td>\n",
       "      <td>-0.001055</td>\n",
       "    </tr>\n",
       "    <tr>\n",
       "      <th>CM_LYMPH</th>\n",
       "      <td>-0.000026</td>\n",
       "      <td>-0.000084</td>\n",
       "      <td>-0.001901</td>\n",
       "      <td>-0.000251</td>\n",
       "      <td>-0.000073</td>\n",
       "      <td>-0.000031</td>\n",
       "      <td>0.002994</td>\n",
       "      <td>-0.000909</td>\n",
       "      <td>-0.000475</td>\n",
       "      <td>-0.001467</td>\n",
       "      <td>...</td>\n",
       "      <td>-0.000658</td>\n",
       "      <td>-0.000078</td>\n",
       "      <td>-0.000914</td>\n",
       "      <td>-0.000125</td>\n",
       "      <td>-0.000005</td>\n",
       "      <td>0.002310</td>\n",
       "      <td>-0.000151</td>\n",
       "      <td>0.000000</td>\n",
       "      <td>-0.000010</td>\n",
       "      <td>-0.000371</td>\n",
       "    </tr>\n",
       "    <tr>\n",
       "      <th>CM_LYTES</th>\n",
       "      <td>-0.000397</td>\n",
       "      <td>-0.002001</td>\n",
       "      <td>-0.015028</td>\n",
       "      <td>-0.002577</td>\n",
       "      <td>-0.002851</td>\n",
       "      <td>0.001668</td>\n",
       "      <td>-0.027420</td>\n",
       "      <td>-0.020378</td>\n",
       "      <td>0.000298</td>\n",
       "      <td>-0.018897</td>\n",
       "      <td>...</td>\n",
       "      <td>-0.014973</td>\n",
       "      <td>0.002610</td>\n",
       "      <td>-0.027263</td>\n",
       "      <td>-0.004144</td>\n",
       "      <td>-0.000517</td>\n",
       "      <td>-0.013567</td>\n",
       "      <td>-0.004109</td>\n",
       "      <td>-0.000089</td>\n",
       "      <td>-0.000909</td>\n",
       "      <td>-0.009788</td>\n",
       "    </tr>\n",
       "    <tr>\n",
       "      <th>CM_METS</th>\n",
       "      <td>-0.000010</td>\n",
       "      <td>-0.000178</td>\n",
       "      <td>0.001480</td>\n",
       "      <td>-0.000167</td>\n",
       "      <td>-0.000157</td>\n",
       "      <td>-0.000104</td>\n",
       "      <td>-0.002292</td>\n",
       "      <td>-0.000903</td>\n",
       "      <td>-0.000783</td>\n",
       "      <td>0.006317</td>\n",
       "      <td>...</td>\n",
       "      <td>-0.000726</td>\n",
       "      <td>-0.000183</td>\n",
       "      <td>-0.001305</td>\n",
       "      <td>-0.000157</td>\n",
       "      <td>-0.000021</td>\n",
       "      <td>-0.002010</td>\n",
       "      <td>0.000000</td>\n",
       "      <td>-0.000010</td>\n",
       "      <td>-0.000047</td>\n",
       "      <td>-0.000997</td>\n",
       "    </tr>\n",
       "    <tr>\n",
       "      <th>CM_NEURO</th>\n",
       "      <td>-0.000078</td>\n",
       "      <td>-0.002172</td>\n",
       "      <td>0.002802</td>\n",
       "      <td>0.002472</td>\n",
       "      <td>-0.000553</td>\n",
       "      <td>-0.000512</td>\n",
       "      <td>0.002405</td>\n",
       "      <td>-0.004136</td>\n",
       "      <td>-0.004770</td>\n",
       "      <td>0.000019</td>\n",
       "      <td>...</td>\n",
       "      <td>-0.007540</td>\n",
       "      <td>-0.003598</td>\n",
       "      <td>-0.004640</td>\n",
       "      <td>0.004814</td>\n",
       "      <td>-0.000110</td>\n",
       "      <td>-0.011146</td>\n",
       "      <td>-0.001070</td>\n",
       "      <td>-0.000021</td>\n",
       "      <td>-0.000172</td>\n",
       "      <td>-0.003091</td>\n",
       "    </tr>\n",
       "    <tr>\n",
       "      <th>CM_OBESE</th>\n",
       "      <td>-0.000094</td>\n",
       "      <td>0.003096</td>\n",
       "      <td>-0.002431</td>\n",
       "      <td>0.004297</td>\n",
       "      <td>-0.001269</td>\n",
       "      <td>-0.000862</td>\n",
       "      <td>0.000873</td>\n",
       "      <td>-0.001087</td>\n",
       "      <td>-0.004735</td>\n",
       "      <td>0.022665</td>\n",
       "      <td>...</td>\n",
       "      <td>0.016165</td>\n",
       "      <td>-0.002679</td>\n",
       "      <td>-0.016258</td>\n",
       "      <td>-0.001314</td>\n",
       "      <td>-0.000115</td>\n",
       "      <td>-0.012545</td>\n",
       "      <td>-0.001446</td>\n",
       "      <td>-0.000073</td>\n",
       "      <td>-0.000282</td>\n",
       "      <td>-0.003034</td>\n",
       "    </tr>\n",
       "    <tr>\n",
       "      <th>CM_PARA</th>\n",
       "      <td>-0.000021</td>\n",
       "      <td>-0.000407</td>\n",
       "      <td>-0.000478</td>\n",
       "      <td>-0.000418</td>\n",
       "      <td>-0.000178</td>\n",
       "      <td>-0.000319</td>\n",
       "      <td>-0.003911</td>\n",
       "      <td>-0.001342</td>\n",
       "      <td>-0.002047</td>\n",
       "      <td>-0.001643</td>\n",
       "      <td>...</td>\n",
       "      <td>-0.002679</td>\n",
       "      <td>-0.007922</td>\n",
       "      <td>-0.003650</td>\n",
       "      <td>-0.000783</td>\n",
       "      <td>-0.000047</td>\n",
       "      <td>-0.001241</td>\n",
       "      <td>-0.000277</td>\n",
       "      <td>0.000000</td>\n",
       "      <td>-0.000084</td>\n",
       "      <td>-0.001347</td>\n",
       "    </tr>\n",
       "    <tr>\n",
       "      <th>CM_PERIVASC</th>\n",
       "      <td>-0.000120</td>\n",
       "      <td>0.004041</td>\n",
       "      <td>-0.013127</td>\n",
       "      <td>0.000409</td>\n",
       "      <td>-0.001650</td>\n",
       "      <td>-0.000966</td>\n",
       "      <td>-0.007136</td>\n",
       "      <td>-0.010454</td>\n",
       "      <td>-0.003050</td>\n",
       "      <td>0.017427</td>\n",
       "      <td>...</td>\n",
       "      <td>-0.016258</td>\n",
       "      <td>-0.003650</td>\n",
       "      <td>-0.031789</td>\n",
       "      <td>-0.004590</td>\n",
       "      <td>-0.000183</td>\n",
       "      <td>-0.017232</td>\n",
       "      <td>-0.002433</td>\n",
       "      <td>-0.000068</td>\n",
       "      <td>-0.000355</td>\n",
       "      <td>-0.005801</td>\n",
       "    </tr>\n",
       "    <tr>\n",
       "      <th>CM_PSYCH</th>\n",
       "      <td>-0.000099</td>\n",
       "      <td>0.002263</td>\n",
       "      <td>-0.006099</td>\n",
       "      <td>-0.000841</td>\n",
       "      <td>-0.000219</td>\n",
       "      <td>-0.000157</td>\n",
       "      <td>0.003912</td>\n",
       "      <td>-0.001723</td>\n",
       "      <td>0.002263</td>\n",
       "      <td>0.000620</td>\n",
       "      <td>...</td>\n",
       "      <td>-0.001314</td>\n",
       "      <td>-0.000783</td>\n",
       "      <td>-0.004590</td>\n",
       "      <td>0.002584</td>\n",
       "      <td>-0.000010</td>\n",
       "      <td>-0.006522</td>\n",
       "      <td>0.003918</td>\n",
       "      <td>-0.000010</td>\n",
       "      <td>-0.000042</td>\n",
       "      <td>-0.001290</td>\n",
       "    </tr>\n",
       "    <tr>\n",
       "      <th>CM_PULMCIRC</th>\n",
       "      <td>-0.000005</td>\n",
       "      <td>-0.000042</td>\n",
       "      <td>-0.000366</td>\n",
       "      <td>-0.000031</td>\n",
       "      <td>-0.000010</td>\n",
       "      <td>-0.000595</td>\n",
       "      <td>-0.000334</td>\n",
       "      <td>-0.000157</td>\n",
       "      <td>-0.000073</td>\n",
       "      <td>-0.000282</td>\n",
       "      <td>...</td>\n",
       "      <td>-0.000115</td>\n",
       "      <td>-0.000047</td>\n",
       "      <td>-0.000183</td>\n",
       "      <td>-0.000010</td>\n",
       "      <td>-0.000872</td>\n",
       "      <td>-0.000386</td>\n",
       "      <td>-0.000031</td>\n",
       "      <td>0.000000</td>\n",
       "      <td>-0.000350</td>\n",
       "      <td>-0.000204</td>\n",
       "    </tr>\n",
       "    <tr>\n",
       "      <th>CM_RENLFAIL</th>\n",
       "      <td>-0.000355</td>\n",
       "      <td>0.004730</td>\n",
       "      <td>0.012402</td>\n",
       "      <td>0.006544</td>\n",
       "      <td>-0.002882</td>\n",
       "      <td>0.006563</td>\n",
       "      <td>-0.009325</td>\n",
       "      <td>-0.013214</td>\n",
       "      <td>0.007997</td>\n",
       "      <td>0.027662</td>\n",
       "      <td>...</td>\n",
       "      <td>-0.012545</td>\n",
       "      <td>-0.001241</td>\n",
       "      <td>-0.017232</td>\n",
       "      <td>-0.006522</td>\n",
       "      <td>-0.000386</td>\n",
       "      <td>0.044139</td>\n",
       "      <td>0.000399</td>\n",
       "      <td>-0.000084</td>\n",
       "      <td>-0.000658</td>\n",
       "      <td>-0.005669</td>\n",
       "    </tr>\n",
       "    <tr>\n",
       "      <th>CM_TUMOR</th>\n",
       "      <td>-0.000021</td>\n",
       "      <td>-0.000428</td>\n",
       "      <td>-0.004099</td>\n",
       "      <td>-0.000433</td>\n",
       "      <td>-0.000334</td>\n",
       "      <td>-0.000183</td>\n",
       "      <td>-0.004705</td>\n",
       "      <td>-0.001201</td>\n",
       "      <td>-0.001206</td>\n",
       "      <td>-0.004261</td>\n",
       "      <td>...</td>\n",
       "      <td>-0.001446</td>\n",
       "      <td>-0.000277</td>\n",
       "      <td>-0.002433</td>\n",
       "      <td>0.003918</td>\n",
       "      <td>-0.000031</td>\n",
       "      <td>0.000399</td>\n",
       "      <td>-0.006068</td>\n",
       "      <td>0.000000</td>\n",
       "      <td>-0.000089</td>\n",
       "      <td>-0.001023</td>\n",
       "    </tr>\n",
       "    <tr>\n",
       "      <th>CM_ULCER</th>\n",
       "      <td>0.000000</td>\n",
       "      <td>-0.000021</td>\n",
       "      <td>-0.000141</td>\n",
       "      <td>-0.000016</td>\n",
       "      <td>-0.000016</td>\n",
       "      <td>0.000000</td>\n",
       "      <td>-0.000078</td>\n",
       "      <td>-0.000021</td>\n",
       "      <td>-0.000010</td>\n",
       "      <td>-0.000094</td>\n",
       "      <td>...</td>\n",
       "      <td>-0.000073</td>\n",
       "      <td>0.000000</td>\n",
       "      <td>-0.000068</td>\n",
       "      <td>-0.000010</td>\n",
       "      <td>0.000000</td>\n",
       "      <td>-0.000084</td>\n",
       "      <td>0.000000</td>\n",
       "      <td>-0.000277</td>\n",
       "      <td>0.000000</td>\n",
       "      <td>-0.000021</td>\n",
       "    </tr>\n",
       "    <tr>\n",
       "      <th>CM_VALVE</th>\n",
       "      <td>-0.000005</td>\n",
       "      <td>-0.000052</td>\n",
       "      <td>-0.000574</td>\n",
       "      <td>-0.000031</td>\n",
       "      <td>-0.000057</td>\n",
       "      <td>-0.001050</td>\n",
       "      <td>-0.000423</td>\n",
       "      <td>-0.000345</td>\n",
       "      <td>-0.000146</td>\n",
       "      <td>-0.000496</td>\n",
       "      <td>...</td>\n",
       "      <td>-0.000282</td>\n",
       "      <td>-0.000084</td>\n",
       "      <td>-0.000355</td>\n",
       "      <td>-0.000042</td>\n",
       "      <td>-0.000350</td>\n",
       "      <td>-0.000658</td>\n",
       "      <td>-0.000089</td>\n",
       "      <td>0.000000</td>\n",
       "      <td>-0.001577</td>\n",
       "      <td>-0.000292</td>\n",
       "    </tr>\n",
       "    <tr>\n",
       "      <th>CM_WGHTLOSS</th>\n",
       "      <td>-0.000057</td>\n",
       "      <td>0.002702</td>\n",
       "      <td>0.006739</td>\n",
       "      <td>-0.001159</td>\n",
       "      <td>-0.000512</td>\n",
       "      <td>-0.000877</td>\n",
       "      <td>-0.004269</td>\n",
       "      <td>-0.003781</td>\n",
       "      <td>0.001449</td>\n",
       "      <td>-0.006433</td>\n",
       "      <td>...</td>\n",
       "      <td>-0.003034</td>\n",
       "      <td>-0.001347</td>\n",
       "      <td>-0.005801</td>\n",
       "      <td>-0.001290</td>\n",
       "      <td>-0.000204</td>\n",
       "      <td>-0.005669</td>\n",
       "      <td>-0.001023</td>\n",
       "      <td>-0.000021</td>\n",
       "      <td>-0.000292</td>\n",
       "      <td>-0.009584</td>\n",
       "    </tr>\n",
       "  </tbody>\n",
       "</table>\n",
       "<p>29 rows × 29 columns</p>\n",
       "</div>"
      ],
      "text/plain": [
       "              CM_AIDS  CM_ALCOHOL  CM_ANEMDEF   CM_ARTH  CM_BLDLOSS    CM_CHF  \\\n",
       "CM_AIDS     -0.001426   -0.000089   -0.000324 -0.000031   -0.000005 -0.000010   \n",
       "CM_ALCOHOL  -0.000089    0.037320    0.011925 -0.000486   -0.000240 -0.000198   \n",
       "CM_ANEMDEF  -0.000324    0.011925    0.030688  0.002469   -0.001493 -0.001551   \n",
       "CM_ARTH     -0.000031   -0.000486    0.002469  0.003890   -0.000277 -0.000073   \n",
       "CM_BLDLOSS  -0.000005   -0.000240   -0.001493 -0.000277   -0.007185 -0.000131   \n",
       "CM_CHF      -0.000010   -0.000198   -0.001551 -0.000073   -0.000131  0.003806   \n",
       "CM_CHRNLUNG -0.000266    0.016028   -0.002312 -0.007227   -0.002104 -0.001316   \n",
       "CM_COAG     -0.000131   -0.003415   -0.018025 -0.001828   -0.000893  0.003532   \n",
       "CM_DEPRESS  -0.000251    0.009416    0.000520  0.001177   -0.000689 -0.000345   \n",
       "CM_DM       -0.000355    0.010013    0.046577  0.018889   -0.002334 -0.001478   \n",
       "CM_DMCX     -0.000068   -0.001754   -0.004415 -0.001833   -0.001029  0.007565   \n",
       "CM_DRUG     -0.000251    0.006481    0.000315 -0.000559   -0.000188 -0.000146   \n",
       "CM_HTN_C    -0.000992    0.034582    0.037933  0.005658   -0.005660  0.005095   \n",
       "CM_HYPOTHY  -0.000094   -0.001728   -0.015157  0.003372   -0.001196 -0.000512   \n",
       "CM_LIVER    -0.000162   -0.003013   -0.000248 -0.000559   -0.000282 -0.000115   \n",
       "CM_LYMPH    -0.000026   -0.000084   -0.001901 -0.000251   -0.000073 -0.000031   \n",
       "CM_LYTES    -0.000397   -0.002001   -0.015028 -0.002577   -0.002851  0.001668   \n",
       "CM_METS     -0.000010   -0.000178    0.001480 -0.000167   -0.000157 -0.000104   \n",
       "CM_NEURO    -0.000078   -0.002172    0.002802  0.002472   -0.000553 -0.000512   \n",
       "CM_OBESE    -0.000094    0.003096   -0.002431  0.004297   -0.001269 -0.000862   \n",
       "CM_PARA     -0.000021   -0.000407   -0.000478 -0.000418   -0.000178 -0.000319   \n",
       "CM_PERIVASC -0.000120    0.004041   -0.013127  0.000409   -0.001650 -0.000966   \n",
       "CM_PSYCH    -0.000099    0.002263   -0.006099 -0.000841   -0.000219 -0.000157   \n",
       "CM_PULMCIRC -0.000005   -0.000042   -0.000366 -0.000031   -0.000010 -0.000595   \n",
       "CM_RENLFAIL -0.000355    0.004730    0.012402  0.006544   -0.002882  0.006563   \n",
       "CM_TUMOR    -0.000021   -0.000428   -0.004099 -0.000433   -0.000334 -0.000183   \n",
       "CM_ULCER     0.000000   -0.000021   -0.000141 -0.000016   -0.000016  0.000000   \n",
       "CM_VALVE    -0.000005   -0.000052   -0.000574 -0.000031   -0.000057 -0.001050   \n",
       "CM_WGHTLOSS -0.000057    0.002702    0.006739 -0.001159   -0.000512 -0.000877   \n",
       "\n",
       "             CM_CHRNLUNG   CM_COAG  CM_DEPRESS     CM_DM     ...       \\\n",
       "CM_AIDS        -0.000266 -0.000131   -0.000251 -0.000355     ...        \n",
       "CM_ALCOHOL      0.016028 -0.003415    0.009416  0.010013     ...        \n",
       "CM_ANEMDEF     -0.002312 -0.018025    0.000520  0.046577     ...        \n",
       "CM_ARTH        -0.007227 -0.001828    0.001177  0.018889     ...        \n",
       "CM_BLDLOSS     -0.002104 -0.000893   -0.000689 -0.002334     ...        \n",
       "CM_CHF         -0.001316  0.003532   -0.000345 -0.001478     ...        \n",
       "CM_CHRNLUNG     0.000020 -0.009240    0.001209  0.015111     ...        \n",
       "CM_COAG        -0.009240 -0.028806   -0.000222 -0.003529     ...        \n",
       "CM_DEPRESS      0.001209 -0.000222    0.004372  0.009119     ...        \n",
       "CM_DM           0.015111 -0.003529    0.009119  0.090255     ...        \n",
       "CM_DMCX        -0.001850  0.001649   -0.000084  0.000000     ...        \n",
       "CM_DRUG         0.013504 -0.001660    0.000456  0.014386     ...        \n",
       "CM_HTN_C        0.013329 -0.023870    0.005350  0.071287     ...        \n",
       "CM_HYPOTHY     -0.010356  0.001905   -0.006032 -0.002176     ...        \n",
       "CM_LIVER        0.003529 -0.003493    0.002336 -0.006188     ...        \n",
       "CM_LYMPH        0.002994 -0.000909   -0.000475 -0.001467     ...        \n",
       "CM_LYTES       -0.027420 -0.020378    0.000298 -0.018897     ...        \n",
       "CM_METS        -0.002292 -0.000903   -0.000783  0.006317     ...        \n",
       "CM_NEURO        0.002405 -0.004136   -0.004770  0.000019     ...        \n",
       "CM_OBESE        0.000873 -0.001087   -0.004735  0.022665     ...        \n",
       "CM_PARA        -0.003911 -0.001342   -0.002047 -0.001643     ...        \n",
       "CM_PERIVASC    -0.007136 -0.010454   -0.003050  0.017427     ...        \n",
       "CM_PSYCH        0.003912 -0.001723    0.002263  0.000620     ...        \n",
       "CM_PULMCIRC    -0.000334 -0.000157   -0.000073 -0.000282     ...        \n",
       "CM_RENLFAIL    -0.009325 -0.013214    0.007997  0.027662     ...        \n",
       "CM_TUMOR       -0.004705 -0.001201   -0.001206 -0.004261     ...        \n",
       "CM_ULCER       -0.000078 -0.000021   -0.000010 -0.000094     ...        \n",
       "CM_VALVE       -0.000423 -0.000345   -0.000146 -0.000496     ...        \n",
       "CM_WGHTLOSS    -0.004269 -0.003781    0.001449 -0.006433     ...        \n",
       "\n",
       "             CM_OBESE   CM_PARA  CM_PERIVASC  CM_PSYCH  CM_PULMCIRC  \\\n",
       "CM_AIDS     -0.000094 -0.000021    -0.000120 -0.000099    -0.000005   \n",
       "CM_ALCOHOL   0.003096 -0.000407     0.004041  0.002263    -0.000042   \n",
       "CM_ANEMDEF  -0.002431 -0.000478    -0.013127 -0.006099    -0.000366   \n",
       "CM_ARTH      0.004297 -0.000418     0.000409 -0.000841    -0.000031   \n",
       "CM_BLDLOSS  -0.001269 -0.000178    -0.001650 -0.000219    -0.000010   \n",
       "CM_CHF      -0.000862 -0.000319    -0.000966 -0.000157    -0.000595   \n",
       "CM_CHRNLUNG  0.000873 -0.003911    -0.007136  0.003912    -0.000334   \n",
       "CM_COAG     -0.001087 -0.001342    -0.010454 -0.001723    -0.000157   \n",
       "CM_DEPRESS  -0.004735 -0.002047    -0.003050  0.002263    -0.000073   \n",
       "CM_DM        0.022665 -0.001643     0.017427  0.000620    -0.000282   \n",
       "CM_DMCX      0.006318 -0.002658    -0.019167  0.000524    -0.000157   \n",
       "CM_DRUG     -0.001246 -0.000439     0.001255  0.005727    -0.000037   \n",
       "CM_HTN_C     0.015312 -0.004398    -0.026137  0.000992    -0.000600   \n",
       "CM_HYPOTHY   0.000225 -0.002303    -0.017524  0.000070    -0.000125   \n",
       "CM_LIVER     0.000216 -0.000240    -0.002814 -0.000987    -0.000037   \n",
       "CM_LYMPH    -0.000658 -0.000078    -0.000914 -0.000125    -0.000005   \n",
       "CM_LYTES    -0.014973  0.002610    -0.027263 -0.004144    -0.000517   \n",
       "CM_METS     -0.000726 -0.000183    -0.001305 -0.000157    -0.000021   \n",
       "CM_NEURO    -0.007540 -0.003598    -0.004640  0.004814    -0.000110   \n",
       "CM_OBESE     0.016165 -0.002679    -0.016258 -0.001314    -0.000115   \n",
       "CM_PARA     -0.002679 -0.007922    -0.003650 -0.000783    -0.000047   \n",
       "CM_PERIVASC -0.016258 -0.003650    -0.031789 -0.004590    -0.000183   \n",
       "CM_PSYCH    -0.001314 -0.000783    -0.004590  0.002584    -0.000010   \n",
       "CM_PULMCIRC -0.000115 -0.000047    -0.000183 -0.000010    -0.000872   \n",
       "CM_RENLFAIL -0.012545 -0.001241    -0.017232 -0.006522    -0.000386   \n",
       "CM_TUMOR    -0.001446 -0.000277    -0.002433  0.003918    -0.000031   \n",
       "CM_ULCER    -0.000073  0.000000    -0.000068 -0.000010     0.000000   \n",
       "CM_VALVE    -0.000282 -0.000084    -0.000355 -0.000042    -0.000350   \n",
       "CM_WGHTLOSS -0.003034 -0.001347    -0.005801 -0.001290    -0.000204   \n",
       "\n",
       "             CM_RENLFAIL  CM_TUMOR  CM_ULCER  CM_VALVE  CM_WGHTLOSS  \n",
       "CM_AIDS        -0.000355 -0.000021  0.000000 -0.000005    -0.000057  \n",
       "CM_ALCOHOL      0.004730 -0.000428 -0.000021 -0.000052     0.002702  \n",
       "CM_ANEMDEF      0.012402 -0.004099 -0.000141 -0.000574     0.006739  \n",
       "CM_ARTH         0.006544 -0.000433 -0.000016 -0.000031    -0.001159  \n",
       "CM_BLDLOSS     -0.002882 -0.000334 -0.000016 -0.000057    -0.000512  \n",
       "CM_CHF          0.006563 -0.000183  0.000000 -0.001050    -0.000877  \n",
       "CM_CHRNLUNG    -0.009325 -0.004705 -0.000078 -0.000423    -0.004269  \n",
       "CM_COAG        -0.013214 -0.001201 -0.000021 -0.000345    -0.003781  \n",
       "CM_DEPRESS      0.007997 -0.001206 -0.000010 -0.000146     0.001449  \n",
       "CM_DM           0.027662 -0.004261 -0.000094 -0.000496    -0.006433  \n",
       "CM_DMCX        -0.007985 -0.000956 -0.000031 -0.000251     0.004787  \n",
       "CM_DRUG         0.004406 -0.000251 -0.000016 -0.000047    -0.000903  \n",
       "CM_HTN_C        0.033990 -0.006708 -0.000204 -0.001258    -0.006124  \n",
       "CM_HYPOTHY      0.001375 -0.001859 -0.000021 -0.000193    -0.003718  \n",
       "CM_LIVER       -0.000494 -0.000444 -0.000010 -0.000063    -0.001055  \n",
       "CM_LYMPH        0.002310 -0.000151  0.000000 -0.000010    -0.000371  \n",
       "CM_LYTES       -0.013567 -0.004109 -0.000089 -0.000909    -0.009788  \n",
       "CM_METS        -0.002010  0.000000 -0.000010 -0.000047    -0.000997  \n",
       "CM_NEURO       -0.011146 -0.001070 -0.000021 -0.000172    -0.003091  \n",
       "CM_OBESE       -0.012545 -0.001446 -0.000073 -0.000282    -0.003034  \n",
       "CM_PARA        -0.001241 -0.000277  0.000000 -0.000084    -0.001347  \n",
       "CM_PERIVASC    -0.017232 -0.002433 -0.000068 -0.000355    -0.005801  \n",
       "CM_PSYCH       -0.006522  0.003918 -0.000010 -0.000042    -0.001290  \n",
       "CM_PULMCIRC    -0.000386 -0.000031  0.000000 -0.000350    -0.000204  \n",
       "CM_RENLFAIL     0.044139  0.000399 -0.000084 -0.000658    -0.005669  \n",
       "CM_TUMOR        0.000399 -0.006068  0.000000 -0.000089    -0.001023  \n",
       "CM_ULCER       -0.000084  0.000000 -0.000277  0.000000    -0.000021  \n",
       "CM_VALVE       -0.000658 -0.000089  0.000000 -0.001577    -0.000292  \n",
       "CM_WGHTLOSS    -0.005669 -0.001023 -0.000021 -0.000292    -0.009584  \n",
       "\n",
       "[29 rows x 29 columns]"
      ]
     },
     "execution_count": 51,
     "metadata": {},
     "output_type": "execute_result"
    }
   ],
   "source": [
    "diff"
   ]
  }
 ],
 "metadata": {
  "kernelspec": {
   "display_name": "Python 3",
   "language": "python",
   "name": "python3"
  },
  "language_info": {
   "codemirror_mode": {
    "name": "ipython",
    "version": 3
   },
   "file_extension": ".py",
   "mimetype": "text/x-python",
   "name": "python",
   "nbconvert_exporter": "python",
   "pygments_lexer": "ipython3",
   "version": "3.5.4"
  }
 },
 "nbformat": 4,
 "nbformat_minor": 2
}

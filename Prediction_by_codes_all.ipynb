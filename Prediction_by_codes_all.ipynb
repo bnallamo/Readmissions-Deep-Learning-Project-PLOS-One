{
 "cells": [
  {
   "cell_type": "markdown",
   "metadata": {},
   "source": [
    "# Prediction by Diagnosis Codes\n",
    "In this notebook we use some fancier networks. "
   ]
  },
  {
   "cell_type": "code",
   "execution_count": 1,
   "metadata": {},
   "outputs": [],
   "source": [
    "import pandas as pd\n",
    "import numpy as np\n",
    "import matplotlib.pyplot as plt\n",
    "#import statsmodels.api as sm\n",
    "from sklearn.model_selection import train_test_split, StratifiedShuffleSplit, StratifiedKFold\n",
    "import os, sys\n",
    "import time\n",
    "from datetime import datetime\n",
    "from importlib import reload\n",
    "%matplotlib inline"
   ]
  },
  {
   "cell_type": "code",
   "execution_count": 2,
   "metadata": {},
   "outputs": [],
   "source": [
    "os.environ['CUDA_VISIBLE_DEVICES'] = ''"
   ]
  },
  {
   "cell_type": "code",
   "execution_count": 2,
   "metadata": {},
   "outputs": [],
   "source": [
    "path = '/nfs/turbo/intmed-bnallamo-turbo/wsliu/Data/NRD/'"
   ]
  },
  {
   "cell_type": "code",
   "execution_count": 2,
   "metadata": {},
   "outputs": [],
   "source": [
    "path = '/nfs/turbo/umms-awaljee/wsliu/Data/NRD/'"
   ]
  },
  {
   "cell_type": "code",
   "execution_count": 3,
   "metadata": {},
   "outputs": [],
   "source": [
    "model_path = path + 'models/'\n",
    "if not os.path.exists(model_path): os.mkdir(model_path)"
   ]
  },
  {
   "cell_type": "code",
   "execution_count": 4,
   "metadata": {
    "scrolled": true
   },
   "outputs": [
    {
     "name": "stderr",
     "output_type": "stream",
     "text": [
      "Using TensorFlow backend.\n"
     ]
    }
   ],
   "source": [
    "from keras.layers import Input, Embedding, Concatenate, Reshape, Lambda, GlobalMaxPooling1D, BatchNormalization\n",
    "from keras.models import Model\n",
    "from keras.layers.core import Dense, Activation, Dropout, RepeatVector\n",
    "from keras.callbacks import ModelCheckpoint, ReduceLROnPlateau, EarlyStopping\n",
    "from keras.utils import to_categorical\n",
    "from keras.optimizers import Adam\n",
    "from keras.initializers import Constant\n",
    "import keras.backend as K"
   ]
  },
  {
   "cell_type": "code",
   "execution_count": 5,
   "metadata": {},
   "outputs": [],
   "source": [
    "module_path = os.path.abspath(os.path.join('..'))\n",
    "if module_path not in sys.path:\n",
    "    sys.path.append(module_path)\n",
    "from DL_utils import plot_roc\n",
    "from keras_addon import AUCCheckPoint\n",
    "from utils import Mat_reg, preprocess\n",
    "from setsum_layer import SetSum, MaskedSum, MaskedDense, MaskedPooling"
   ]
  },
  {
   "cell_type": "code",
   "execution_count": 6,
   "metadata": {},
   "outputs": [],
   "source": [
    "from ccs_tools import dx_multi, pr_multi, core_dtypes_pd"
   ]
  },
  {
   "cell_type": "markdown",
   "metadata": {},
   "source": [
    "## Data Preparation"
   ]
  },
  {
   "cell_type": "code",
   "execution_count": 7,
   "metadata": {},
   "outputs": [],
   "source": [
    "cohort = 'ami'\n",
    "tst_seed = 0"
   ]
  },
  {
   "cell_type": "code",
   "execution_count": 8,
   "metadata": {},
   "outputs": [],
   "source": [
    "all_df = pd.read_csv(path+'cohorts30/{}/pred_comorb.csv'.format(cohort), dtype=core_dtypes_pd)"
   ]
  },
  {
   "cell_type": "markdown",
   "metadata": {},
   "source": [
    "Define the dictionaries for DX, DX1 and hosp, from value to int. Seperating DX1:"
   ]
  },
  {
   "cell_type": "code",
   "execution_count": 9,
   "metadata": {},
   "outputs": [],
   "source": [
    "DX_cat = ['missing'] + sorted(dx_multi.ICD9CM_CODE)\n",
    "PR_cat = ['missing'] + sorted(pr_multi.ICD9CM_CODE)\n",
    "n_DX_cat = len(DX_cat)\n",
    "n_PR_cat = len(PR_cat)\n",
    "unclassified = set(dx_multi.loc[dx_multi.CCS_LVL1 == '18', 'ICD9CM_CODE'])\n",
    "dx_ccs_cat = pd.concat([dx_multi.CCS_LVL1, dx_multi.CCS_LVL2, dx_multi.CCS_LVL3, dx_multi.CCS_LVL4]).astype('category').cat.categories\n",
    "pr_ccs_cat = pd.concat([pr_multi.CCS_LVL1, pr_multi.CCS_LVL2, pr_multi.CCS_LVL3]).astype('category').cat.categories\n",
    "\n",
    "DX1_dict = dict(zip(DX_cat, range(len(DX_cat))))\n",
    "DX_dict = dict(zip(DX_cat, [0] + list(range(len(DX_cat), len(DX_cat)*2))))\n",
    "PR_dict = dict(zip(PR_cat, [0] + list(range(len(DX_cat)*2-1, len(DX_cat)*2+len(PR_cat)-1))))\n",
    "code_cat = ['missing']+sorted(dx_multi.ICD9CM_CODE)*2+sorted(pr_multi.ICD9CM_CODE)+sorted(dx_ccs_cat)[1:]*2+sorted(pr_ccs_cat)[1:]\n",
    "n_code_cat = len(code_cat)    \n",
    "dx1_ccs_dict = dict(zip(dx_ccs_cat[1:], range(1+len(dx_multi)*2+len(pr_multi), len(dx_multi)*2+len(pr_multi)+len(dx_ccs_cat))))\n",
    "dx_ccs_dict = dict(zip(dx_ccs_cat[1:], range(1+len(dx_multi)*2+len(pr_multi)+len(dx_ccs_cat[1:]), \n",
    "                                             1+len(dx_multi)*2+len(pr_multi)+len(dx_ccs_cat[1:])*2)))\n",
    "pr_ccs_dict = dict(zip(pr_ccs_cat[1:], range(1+len(dx_multi)*2+len(pr_multi)+len(dx_ccs_cat[1:])*2, n_code_cat)))\n",
    "\n",
    "\n",
    "hosp_series = all_df['HOSP_NRD'].astype('category')\n",
    "hosp_cat = hosp_series.cat.categories\n",
    "hosp_dict = dict(zip(hosp_cat, range(len(hosp_cat))))"
   ]
  },
  {
   "cell_type": "markdown",
   "metadata": {},
   "source": [
    "### Data Formatting"
   ]
  },
  {
   "cell_type": "code",
   "execution_count": 10,
   "metadata": {},
   "outputs": [],
   "source": [
    "n_DX = 29\n",
    "n_PR = 15\n",
    "DXs = ['DX'+str(j) for j in range(2, n_DX+2)]\n",
    "PRs = ['PR'+str(j) for j in range(1, n_PR+1)]"
   ]
  },
  {
   "cell_type": "code",
   "execution_count": 11,
   "metadata": {},
   "outputs": [],
   "source": [
    "tst_key = pd.read_csv(path+'cohorts30/{}/tst_key{}.csv'.format(cohort, tst_seed), names = ['KEY_NRD'])\n",
    "tst_df = all_df.loc[all_df.KEY_NRD.isin(tst_key.KEY_NRD)]\n",
    "train_df0 = all_df.loc[~all_df.KEY_NRD.isin(tst_key.KEY_NRD)].reset_index()"
   ]
  },
  {
   "cell_type": "code",
   "execution_count": 12,
   "metadata": {},
   "outputs": [],
   "source": [
    "age_mean = train_df0['AGE'].mean()\n",
    "age_std = train_df0['AGE'].std()\n",
    "los_mean = train_df0['LOS'].mean()\n",
    "los_std = train_df0['LOS'].std()\n",
    "n_pay1 = int(train_df0['PAY1'].max())+1\n",
    "n_ed = int(train_df0['HCUP_ED'].max())+1\n",
    "n_zipinc = int(train_df0['ZIPINC_QRTL'].max())+1"
   ]
  },
  {
   "cell_type": "code",
   "execution_count": 13,
   "metadata": {},
   "outputs": [],
   "source": [
    "DX1_array_tst = tst_df.DX1.map(DX1_dict).values\n",
    "DX_df_tst = tst_df[DXs]\n",
    "DX_df_tst = DX_df_tst.fillna('missing')\n",
    "DX_df_tst[DX_df_tst.isin(['invl', 'incn'])] = 'missing'\n",
    "DX_df_tst[DX_df_tst.isin(unclassified)] = 'missing'\n",
    "for dx in DXs:\n",
    "    DX_df_tst[dx] = DX_df_tst[dx].map(DX_dict)\n",
    "DX_mat_tst = DX_df_tst.values\n",
    "PR_df_tst = tst_df[PRs]\n",
    "PR_df_tst = PR_df_tst.fillna('missing')\n",
    "PR_df_tst[PR_df_tst.isin(['invl', 'incn'])] = 'missing'\n",
    "for pr in PRs:\n",
    "    PR_df_tst[pr] = PR_df_tst[pr].map(PR_dict)\n",
    "PR_mat_tst = PR_df_tst.values\n",
    "demo_mat_tst = tst_df[['AGE', 'FEMALE']].values\n",
    "demo_mat_tst[:, 0] = (demo_mat_tst[:, 0]-age_mean)/age_std\n",
    "hosp_array_tst = tst_df['HOSP_NRD'].map(hosp_dict).values\n",
    "hosp_ohe_tst = np.zeros((len(tst_df), len(hosp_cat)))\n",
    "for j in range(hosp_ohe_tst.shape[0]):\n",
    "    for i in range(hosp_ohe_tst.shape[1]):\n",
    "        hosp_ohe_tst[j, hosp_array_tst[i]] = 1.\n",
    "pay1_mat_tst = to_categorical(tst_df.PAY1.values, num_classes=n_pay1)[:, 1:]\n",
    "los_array_tst = (tst_df.LOS.values - los_mean)/los_std\n",
    "ed_mat_tst = to_categorical(tst_df.HCUP_ED.values, num_classes=n_ed)\n",
    "zipinc_mat_tst = to_categorical(tst_df.ZIPINC_QRTL.values, num_classes=n_zipinc)[:, 1:]\n",
    "#transfer_mat_tst = to_categorical(tst_df.SAMEDAYEVENT.values)\n",
    "other_mat_tst = np.concatenate((demo_mat_tst, pay1_mat_tst, los_array_tst.reshape(los_array_tst.shape+(1,)), \n",
    "                                ed_mat_tst, zipinc_mat_tst), axis=1)\n",
    "y_true = tst_df.readm30.astype(int).values"
   ]
  },
  {
   "cell_type": "code",
   "execution_count": 14,
   "metadata": {},
   "outputs": [],
   "source": [
    "n_fold = 5"
   ]
  },
  {
   "cell_type": "code",
   "execution_count": 15,
   "metadata": {},
   "outputs": [],
   "source": [
    "skf = StratifiedKFold(n_splits=n_fold, random_state=24, shuffle=True)\n",
    "trn_idx, val_idx = next(skf.split(train_df0, train_df0.HOSP_NRD))\n",
    "trn_df = train_df0.loc[trn_idx]\n",
    "val_df = train_df0.loc[val_idx]\n",
    "N_trn = len(trn_df)\n",
    "train_df = pd.concat([trn_df, val_df])"
   ]
  },
  {
   "cell_type": "code",
   "execution_count": 16,
   "metadata": {},
   "outputs": [],
   "source": [
    "DX1_series = train_df['DX1'].map(DX1_dict)\n",
    "DX1_array = DX1_series.values\n",
    "DX1_array_trn = DX1_array[:N_trn]\n",
    "DX1_array_val = DX1_array[N_trn:]\n",
    "    \n",
    "DX_df = train_df[DXs]\n",
    "DX_df = DX_df.fillna('missing')\n",
    "DX_df[DX_df.isin(['invl', 'incn'])] = 'missing'\n",
    "DX_df[DX_df.isin(unclassified)] = 'missing'\n",
    "for dx in DXs:\n",
    "    DX_df[dx] = DX_df[dx].map(DX_dict)\n",
    "DX_mat = DX_df.values\n",
    "DX_mat_trn = DX_mat[:N_trn, ]\n",
    "DX_mat_val = DX_mat[N_trn:, ]\n",
    "    \n",
    "PR_df = train_df[PRs]\n",
    "PR_df = PR_df.fillna('missing')\n",
    "PR_df[PR_df.isin(['invl', 'incn'])] = 'missing'\n",
    "for pr in PRs:\n",
    "    PR_df[pr] = PR_df[pr].map(PR_dict)\n",
    "PR_mat = PR_df.values\n",
    "PR_mat_trn = PR_mat[:N_trn, ]\n",
    "PR_mat_val = PR_mat[N_trn:, ]\n",
    "    \n",
    "hosp_series = train_df['HOSP_NRD'].map(hosp_dict)\n",
    "hosp_array = hosp_series.values\n",
    "hosp_array_trn = hosp_array[:N_trn]\n",
    "hosp_array_val = hosp_array[N_trn:]\n",
    "hosp_ohe = np.zeros((len(train_df), len(hosp_cat)))\n",
    "for j in range(hosp_ohe.shape[0]):\n",
    "    for i in range(hosp_ohe.shape[1]):\n",
    "        hosp_ohe[j, hosp_array[i]] = 1.\n",
    "hosp_ohe_trn = hosp_ohe[:N_trn, :]\n",
    "hosp_ohe_val = hosp_ohe[N_trn:, :]\n",
    "\n",
    "demo_mat = train_df[['AGE', 'FEMALE']].values\n",
    "demo_mat[:, 0] = (demo_mat[:, 0]-age_mean)/age_std\n",
    "pay1_mat = to_categorical(train_df.PAY1.values, num_classes=n_pay1)[:, 1:]\n",
    "los_array = train_df.LOS.values\n",
    "los_array = (los_array - los_mean)/los_std\n",
    "ed_mat = to_categorical(train_df.HCUP_ED.values, num_classes=n_ed)\n",
    "zipinc_mat = to_categorical(train_df.ZIPINC_QRTL.values, num_classes=n_zipinc)[:, 1:]\n",
    "other_mat = np.concatenate((demo_mat, pay1_mat, los_array.reshape(los_array.shape+(1,)), ed_mat, zipinc_mat), axis=1)\n",
    "other_mat_trn = other_mat[:N_trn, ]\n",
    "other_mat_val = other_mat[N_trn:, ]\n",
    "    \n",
    "y = train_df['readm30'].values.astype(int)\n",
    "y_trn = y[:N_trn]\n",
    "y_val = y[N_trn:]\n",
    "Y_trn = to_categorical(y_trn)\n",
    "Y_val = to_categorical(y_val)"
   ]
  },
  {
   "cell_type": "markdown",
   "metadata": {},
   "source": [
    "## Model Building"
   ]
  },
  {
   "cell_type": "code",
   "execution_count": 17,
   "metadata": {},
   "outputs": [],
   "source": [
    "from setsum_layer import SetSum, MaskedSum, MaskedDense"
   ]
  },
  {
   "cell_type": "code",
   "execution_count": 18,
   "metadata": {},
   "outputs": [],
   "source": [
    "code_embed_dim = 200\n",
    "hosp_embed_dim = 1\n",
    "fc_width = 256\n",
    "md_width = 128\n",
    "rho_width = 32\n",
    "penalty = 0.\n",
    "count_cap = 20"
   ]
  },
  {
   "cell_type": "code",
   "execution_count": 19,
   "metadata": {},
   "outputs": [],
   "source": [
    "embed_glove = np.load(path+'all/sepdx1/test_embed/cosine/embed_mat_{0}_{1:.3f}_{2}_{3}{4}.npy'.format(code_embed_dim, penalty, count_cap, cohort, \n",
    "                                                                                    tst_seed))\n",
    "embed_initializer = Constant(embed_glove)"
   ]
  },
  {
   "cell_type": "code",
   "execution_count": 75,
   "metadata": {},
   "outputs": [],
   "source": [
    "embed_initializer = 'uniform'"
   ]
  },
  {
   "cell_type": "code",
   "execution_count": 20,
   "metadata": {
    "scrolled": true
   },
   "outputs": [
    {
     "data": {
      "text/plain": [
       "(35952, 200)"
      ]
     },
     "execution_count": 20,
     "metadata": {},
     "output_type": "execute_result"
    }
   ],
   "source": [
    "embed_glove.shape"
   ]
  },
  {
   "cell_type": "code",
   "execution_count": 22,
   "metadata": {},
   "outputs": [
    {
     "data": {
      "text/plain": [
       "35952"
      ]
     },
     "execution_count": 22,
     "metadata": {},
     "output_type": "execute_result"
    }
   ],
   "source": [
    "n_code_cat"
   ]
  },
  {
   "cell_type": "code",
   "execution_count": 95,
   "metadata": {},
   "outputs": [],
   "source": [
    "embed_glove2 = embed_glove.copy()\n",
    "\n",
    "#embed_glove2[0, ] = 10*np.random.randn(200)\n",
    "embed_glove2[0, ] = 10.*np.ones((200,))\n",
    "embed_initializer = Constant(embed_glove2)"
   ]
  },
  {
   "cell_type": "code",
   "execution_count": 53,
   "metadata": {},
   "outputs": [],
   "source": [
    "input_DX1 = Input(shape=(1,))\n",
    "DX1_embed = Embedding(input_dim=n_code_cat, output_dim=code_embed_dim, embeddings_initializer=embed_initializer, \n",
    "                     name='DX1_embed')(input_DX1)\n",
    "DX1_embed = Reshape((code_embed_dim,))(DX1_embed)\n",
    "\n",
    "input_DX = Input(shape = (n_DX,))\n",
    "DX_embed = Embedding(input_dim=n_code_cat, output_dim=code_embed_dim, mask_zero=True, embeddings_initializer=embed_initializer, \n",
    "                     name='DX_embed')(input_DX)\n",
    "DX_feature = MaskedDense(md_width, activation='relu', name='DX_md')(DX_embed)\n",
    "DX_feature = MaskedSum()(DX_feature)\n",
    "\n",
    "input_PR = Input(shape = (n_PR,))\n",
    "PR_embed = Embedding(input_dim=n_code_cat, output_dim=code_embed_dim, mask_zero=True, embeddings_initializer=embed_initializer,\n",
    "                     name='PR_embed')(input_PR)\n",
    "PR_feature = MaskedDense(md_width, activation='relu', name='PR_md')(PR_embed)\n",
    "PR_feature = MaskedSum()(PR_feature)\n",
    "\n",
    "input_hosp = Input(shape=(1,))\n",
    "hosp_embed = Embedding(input_dim=len(hosp_cat), output_dim=hosp_embed_dim, input_length=1)(input_hosp)\n",
    "hosp_embed = Reshape((hosp_embed_dim, ))(hosp_embed)\n",
    "\n",
    "input_other = Input(shape=(other_mat.shape[1], ))\n",
    "\n",
    "merged = Concatenate(axis=1)([DX1_embed, DX_feature, PR_feature, hosp_embed, input_other])\n",
    "\n",
    "x = Dense(fc_width, activation='relu', name='fc')(merged)\n",
    "x = Dropout(0.3)(x)\n",
    "\n",
    "prediction = Dense(2, activation='softmax', name='prediction')(x)\n",
    "model = Model(inputs=[input_DX1, input_DX, input_PR, input_hosp, input_other], outputs=prediction)"
   ]
  },
  {
   "cell_type": "code",
   "execution_count": 96,
   "metadata": {},
   "outputs": [],
   "source": [
    "input_DX1 = Input(shape=(1,))\n",
    "DX1_embed = Embedding(input_dim=n_code_cat, output_dim=code_embed_dim, embeddings_initializer=embed_initializer, \n",
    "                     name='DX1_embed')(input_DX1)\n",
    "DX1_embed = Reshape((code_embed_dim,))(DX1_embed)\n",
    "#DX1_embed = Dense(rho_width, activation='relu')(DX1_embed)\n",
    "input_DX = Input(shape = (n_DX,))\n",
    "DX_embed = Embedding(input_dim=n_code_cat, output_dim=code_embed_dim, mask_zero=True, embeddings_initializer=embed_initializer, \n",
    "                     name='DX_embed')(input_DX)\n",
    "#DX_feature = MaskedDense(md_width, activation='relu')(DX_embed)\n",
    "DX_feature = Dense(md_width, activation='relu', name='DX_dense')(DX_embed)\n",
    "#DX_feature = BatchNormalization()(DX_feature)\n",
    "#DX_feature = Activation('relu')(DX_feature)\n",
    "#DX_feature = MaskedSum()(DX_feature)\n",
    "DX_feature = Lambda(lambda x:K.sum(x, axis=1))(DX_feature)\n",
    "#DX_feature = Dense(rho_width, activation='relu')(DX_feature)\n",
    "input_PR = Input(shape = (n_PR,))\n",
    "PR_embed = Embedding(input_dim=n_code_cat, output_dim=code_embed_dim, mask_zero=True, embeddings_initializer=embed_initializer,\n",
    "                     name='PR_embed')(input_PR)\n",
    "#PR_feature = MaskedDense(md_width, activation='relu')(PR_embed)\n",
    "PR_feature = Dense(md_width, activation='relu', name='PR_dense')(PR_embed)\n",
    "#PR_feature = BatchNormalization()(PR_feature)\n",
    "#PR_feature = Activation('relu')(PR_feature)\n",
    "#PR_feature = MaskedSum()(PR_feature)\n",
    "PR_feature = Lambda(lambda x:K.sum(x, axis=1))(PR_feature)\n",
    "#PR_feature = Dense(rho_width, activation='relu')(PR_feature)\n",
    "input_hosp = Input(shape=(1,))\n",
    "input_other = Input(shape=(other_mat.shape[1], ))\n",
    "merged = Concatenate(axis=1)([DX1_embed, DX_feature, PR_feature, input_other])\n",
    "\n",
    "x = Dense(fc_width, activation='relu', name='fc')(merged)\n",
    "x = Concatenate(axis=1)([x, input_hosp])\n",
    "\n",
    "prediction = Dense(2, activation='softmax', name='prediction')(x)\n",
    "model = Model(inputs=[input_DX1, input_DX, input_PR, input_hosp, input_other], outputs=prediction)"
   ]
  },
  {
   "cell_type": "code",
   "execution_count": 97,
   "metadata": {
    "scrolled": true
   },
   "outputs": [],
   "source": [
    "for l in model.layers:\n",
    "    if l.name=='DX_embed' or l.name=='PR_embed' or l.name=='DX1_embed':\n",
    "        l.trainable = False"
   ]
  },
  {
   "cell_type": "code",
   "execution_count": 105,
   "metadata": {
    "scrolled": true
   },
   "outputs": [],
   "source": [
    "for l in model.layers:\n",
    "    if l.name=='DX_embed' or l.name=='PR_embed' or l.name=='DX1_embed':\n",
    "        l.trainable = True"
   ]
  },
  {
   "cell_type": "code",
   "execution_count": 106,
   "metadata": {},
   "outputs": [],
   "source": [
    "adam = Adam(lr=0.0002)\n",
    "model.compile(optimizer=adam, loss='categorical_crossentropy')"
   ]
  },
  {
   "cell_type": "code",
   "execution_count": 153,
   "metadata": {},
   "outputs": [],
   "source": [
    "adam = Adam(lr=0.00002)\n",
    "model.compile(optimizer=adam, loss='categorical_crossentropy')"
   ]
  },
  {
   "cell_type": "code",
   "execution_count": 111,
   "metadata": {},
   "outputs": [],
   "source": [
    "#checkpoint = ModelCheckpoint(filepath=model_path+'ami_glove_valloss1.h5', save_best_only=True, save_weights_only=True)\n",
    "auccheckpoint = AUCCheckPoint(filepath=model_path+'ami_glove_auc1.h5', validation_y=Y_val, \n",
    "                             validation_x=[DX1_array_val, DX_mat_val, PR_mat_val, hosp_array_val, other_mat_val])\n",
    "reduce_lr = ReduceLROnPlateau(monitor='val_loss', factor=0.2, patience=10, min_lr=K.epsilon())\n",
    "earlystop = EarlyStopping(monitor='val_loss', patience=20)"
   ]
  },
  {
   "cell_type": "code",
   "execution_count": 100,
   "metadata": {},
   "outputs": [],
   "source": [
    "class_weight = {0:(Y_trn.shape[0]/sum(Y_trn[:, 0])), 1:(Y_trn.shape[0]/sum(Y_trn[:, 1]))}"
   ]
  },
  {
   "cell_type": "code",
   "execution_count": 112,
   "metadata": {
    "scrolled": true
   },
   "outputs": [
    {
     "name": "stdout",
     "output_type": "stream",
     "text": [
      "Train on 131070 samples, validate on 33210 samples\n",
      "Epoch 1/20\n",
      "131070/131070 [==============================] - 8s 64us/step - loss: 1.2501 - val_loss: 0.6323\n",
      "AUC: 0.7169\n",
      "\n",
      "Epoch 2/20\n",
      "131070/131070 [==============================] - 8s 58us/step - loss: 1.2455 - val_loss: 0.6232\n",
      "AUC: 0.7026\n",
      "\n",
      "Epoch 3/20\n",
      "131070/131070 [==============================] - 8s 58us/step - loss: 1.2404 - val_loss: 0.6250\n",
      "AUC: 0.7147\n",
      "\n",
      "Epoch 4/20\n",
      "131070/131070 [==============================] - 8s 58us/step - loss: 1.2158 - val_loss: 0.6733\n",
      "AUC: 0.7175\n",
      "\n",
      "Epoch 5/20\n",
      "131070/131070 [==============================] - 8s 58us/step - loss: 1.2043 - val_loss: 0.6119\n",
      "AUC: 0.7145\n",
      "\n",
      "Epoch 6/20\n",
      "131070/131070 [==============================] - 8s 58us/step - loss: 1.1963 - val_loss: 0.6716\n",
      "AUC: 0.7119\n",
      "\n",
      "Epoch 7/20\n",
      "131070/131070 [==============================] - 8s 58us/step - loss: 1.1905 - val_loss: 0.6324\n",
      "AUC: 0.7084\n",
      "\n",
      "Epoch 8/20\n",
      "131070/131070 [==============================] - 8s 58us/step - loss: 1.1807 - val_loss: 0.5447\n",
      "AUC: 0.7006\n",
      "\n",
      "Epoch 9/20\n",
      "131070/131070 [==============================] - 8s 58us/step - loss: 1.1738 - val_loss: 0.6653\n",
      "AUC: 0.7039\n",
      "\n",
      "Epoch 10/20\n",
      "131070/131070 [==============================] - 8s 58us/step - loss: 1.1665 - val_loss: 0.5701\n",
      "AUC: 0.6947\n",
      "\n",
      "Epoch 11/20\n",
      "131070/131070 [==============================] - 8s 58us/step - loss: 1.1633 - val_loss: 0.5885\n",
      "AUC: 0.6941\n",
      "\n",
      "Epoch 12/20\n",
      "131070/131070 [==============================] - 8s 58us/step - loss: 1.1548 - val_loss: 0.6443\n",
      "AUC: 0.6958\n",
      "\n",
      "Epoch 13/20\n",
      "131070/131070 [==============================] - 8s 58us/step - loss: 1.1463 - val_loss: 0.6237\n",
      "AUC: 0.6889\n",
      "\n",
      "Epoch 14/20\n",
      "131070/131070 [==============================] - 8s 58us/step - loss: 1.1426 - val_loss: 0.6578\n",
      "AUC: 0.6901\n",
      "\n",
      "Epoch 15/20\n",
      "131070/131070 [==============================] - 8s 58us/step - loss: 1.1348 - val_loss: 0.5681\n",
      "AUC: 0.6729\n",
      "\n",
      "Epoch 16/20\n",
      "131070/131070 [==============================] - 8s 58us/step - loss: 1.1305 - val_loss: 0.5887\n",
      "AUC: 0.6801\n",
      "\n",
      "Epoch 17/20\n",
      "131070/131070 [==============================] - 8s 58us/step - loss: 1.1257 - val_loss: 0.6716\n",
      "AUC: 0.6885\n",
      "\n",
      "Epoch 18/20\n",
      "131070/131070 [==============================] - 8s 58us/step - loss: 1.1198 - val_loss: 0.6247\n",
      "AUC: 0.6757\n",
      "\n",
      "Epoch 19/20\n",
      "131070/131070 [==============================] - 8s 58us/step - loss: 1.0940 - val_loss: 0.6212\n",
      "AUC: 0.6767\n",
      "\n",
      "Epoch 20/20\n",
      "131070/131070 [==============================] - 8s 58us/step - loss: 1.0920 - val_loss: 0.6060\n",
      "AUC: 0.6763\n",
      "\n"
     ]
    }
   ],
   "source": [
    "hist = model.fit([DX1_array_trn, DX_mat_trn, PR_mat_trn, hosp_array_trn, other_mat_trn], Y_trn, \n",
    "                 batch_size=512, epochs=20, callbacks=[auccheckpoint, reduce_lr, earlystop], class_weight=class_weight, \n",
    "                 validation_data=[[DX1_array_val, DX_mat_val, PR_mat_val, hosp_array_val, other_mat_val], Y_val], \n",
    "                verbose=1)"
   ]
  },
  {
   "cell_type": "code",
   "execution_count": 259,
   "metadata": {},
   "outputs": [],
   "source": [
    "#checkpoint = ModelCheckpoint(filepath=model_path+'ami_glove_valloss1.h5', save_best_only=True, save_weights_only=True)\n",
    "auccheckpoint = AUCCheckPoint(filepath=model_path+'ami_glove_auc1.h5', validation_y=Y_val, \n",
    "                             validation_x=[DX1_array_val, DX_mat_val, PR_mat_val, hosp_ohe_val, other_mat_val])\n",
    "reduce_lr = ReduceLROnPlateau(monitor='val_loss', factor=0.2, patience=10, min_lr=K.epsilon())\n",
    "earlystop = EarlyStopping(monitor='val_loss', patience=20)"
   ]
  },
  {
   "cell_type": "code",
   "execution_count": 260,
   "metadata": {
    "collapsed": true
   },
   "outputs": [
    {
     "name": "stdout",
     "output_type": "stream",
     "text": [
      "Train on 131070 samples, validate on 33210 samples\n",
      "Epoch 1/20\n",
      "131070/131070 [==============================] - 4s 34us/step - loss: 1.2789 - val_loss: 0.5048\n",
      "AUC: 0.7118\n",
      "\n",
      "Epoch 2/20\n",
      "131070/131070 [==============================] - 3s 22us/step - loss: 1.2489 - val_loss: 0.6306\n",
      "AUC: 0.7171\n",
      "\n",
      "Epoch 3/20\n",
      "131070/131070 [==============================] - 3s 22us/step - loss: 1.2401 - val_loss: 0.6452\n",
      "AUC: 0.7194\n",
      "\n",
      "Epoch 4/20\n",
      "131070/131070 [==============================] - 3s 22us/step - loss: 1.2360 - val_loss: 0.6175\n",
      "AUC: 0.7191\n",
      "\n",
      "Epoch 5/20\n",
      "131070/131070 [==============================] - 3s 22us/step - loss: 1.2325 - val_loss: 0.6090\n",
      "AUC: 0.7198\n",
      "\n",
      "Epoch 6/20\n",
      "131070/131070 [==============================] - 3s 22us/step - loss: 1.2303 - val_loss: 0.5510\n",
      "AUC: 0.7219\n",
      "\n",
      "Epoch 7/20\n",
      "131070/131070 [==============================] - 3s 23us/step - loss: 1.2285 - val_loss: 0.5706\n",
      "AUC: 0.7215\n",
      "\n",
      "Epoch 8/20\n",
      "131070/131070 [==============================] - 3s 23us/step - loss: 1.2246 - val_loss: 0.6036\n",
      "AUC: 0.7219\n",
      "\n",
      "Epoch 9/20\n",
      "131070/131070 [==============================] - 3s 22us/step - loss: 1.2246 - val_loss: 0.5619\n",
      "AUC: 0.7216\n",
      "\n",
      "Epoch 10/20\n",
      "131070/131070 [==============================] - 3s 22us/step - loss: 1.2209 - val_loss: 0.5992\n",
      "AUC: 0.7218\n",
      "\n",
      "Epoch 11/20\n",
      "131070/131070 [==============================] - 3s 22us/step - loss: 1.2185 - val_loss: 0.6031\n",
      "AUC: 0.7220\n",
      "\n",
      "Epoch 12/20\n",
      "131070/131070 [==============================] - 3s 22us/step - loss: 1.2118 - val_loss: 0.6280\n",
      "AUC: 0.7221\n",
      "\n",
      "Epoch 13/20\n",
      "131070/131070 [==============================] - 3s 22us/step - loss: 1.2100 - val_loss: 0.5849\n",
      "AUC: 0.7219\n",
      "\n",
      "Epoch 14/20\n",
      "131070/131070 [==============================] - 3s 22us/step - loss: 1.2096 - val_loss: 0.6340\n",
      "AUC: 0.7220\n",
      "\n",
      "Epoch 15/20\n",
      "131070/131070 [==============================] - 3s 22us/step - loss: 1.2089 - val_loss: 0.6054\n",
      "AUC: 0.7220\n",
      "\n",
      "Epoch 16/20\n",
      "131070/131070 [==============================] - 3s 22us/step - loss: 1.2089 - val_loss: 0.6210\n",
      "AUC: 0.7220\n",
      "\n",
      "Epoch 17/20\n",
      "131070/131070 [==============================] - 3s 22us/step - loss: 1.2083 - val_loss: 0.6131\n",
      "AUC: 0.7214\n",
      "\n",
      "Epoch 18/20\n",
      "131070/131070 [==============================] - 3s 22us/step - loss: 1.2073 - val_loss: 0.6276\n",
      "AUC: 0.7214\n",
      "\n",
      "Epoch 19/20\n",
      "131070/131070 [==============================] - 3s 22us/step - loss: 1.2067 - val_loss: 0.6088\n",
      "AUC: 0.7214\n",
      "\n",
      "Epoch 20/20\n",
      "131070/131070 [==============================] - 3s 22us/step - loss: 1.2061 - val_loss: 0.6202\n",
      "AUC: 0.7209\n",
      "\n"
     ]
    }
   ],
   "source": [
    "hist = model.fit([DX1_array_trn, DX_mat_trn, PR_mat_trn, hosp_ohe_trn, other_mat_trn], Y_trn, \n",
    "                 batch_size=512, epochs=20, callbacks=[checkpoint, auccheckpoint, reduce_lr], class_weight=class_weight, \n",
    "                 validation_data=[[DX1_array_val, DX_mat_val, PR_mat_val, hosp_ohe_val, other_mat_val], Y_val], \n",
    "                verbose=1)"
   ]
  },
  {
   "cell_type": "code",
   "execution_count": 52,
   "metadata": {
    "collapsed": true
   },
   "outputs": [
    {
     "data": {
      "text/plain": [
       "[<matplotlib.lines.Line2D at 0x2b70cd93b128>]"
      ]
     },
     "execution_count": 52,
     "metadata": {},
     "output_type": "execute_result"
    },
    {
     "data": {
      "image/png": "[encoded data removed]",
      "text/plain": [
       "<Figure size 432x288 with 1 Axes>"
      ]
     },
     "metadata": {},
     "output_type": "display_data"
    }
   ],
   "source": [
    "plt.plot(hist.history['val_loss'])"
   ]
  },
  {
   "cell_type": "code",
   "execution_count": 67,
   "metadata": {
    "collapsed": true
   },
   "outputs": [
    {
     "data": {
      "text/plain": [
       "[<matplotlib.lines.Line2D at 0x2b70fe323898>]"
      ]
     },
     "execution_count": 67,
     "metadata": {},
     "output_type": "execute_result"
    },
    {
     "data": {
      "image/png": "[encoded data removed]",
      "text/plain": [
       "<Figure size 432x288 with 1 Axes>"
      ]
     },
     "metadata": {},
     "output_type": "display_data"
    }
   ],
   "source": [
    "plt.plot(hist.history['lr'])"
   ]
  },
  {
   "cell_type": "code",
   "execution_count": 68,
   "metadata": {
    "collapsed": true
   },
   "outputs": [
    {
     "data": {
      "text/plain": [
       "[<matplotlib.lines.Line2D at 0x2b710c98ee10>]"
      ]
     },
     "execution_count": 68,
     "metadata": {},
     "output_type": "execute_result"
    },
    {
     "data": {
      "image/png": "[encoded data removed]",
      "text/plain": [
       "<Figure size 432x288 with 1 Axes>"
      ]
     },
     "metadata": {},
     "output_type": "display_data"
    }
   ],
   "source": [
    "plt.plot(auccheckpoint.auc_history)"
   ]
  },
  {
   "cell_type": "code",
   "execution_count": 113,
   "metadata": {},
   "outputs": [],
   "source": [
    "model.load_weights(model_path+'ami_glove_auc1.h5')"
   ]
  },
  {
   "cell_type": "code",
   "execution_count": 390,
   "metadata": {},
   "outputs": [],
   "source": [
    "DX_mat_tst1 = np.flip(DX_mat_tst, axis=1)"
   ]
  },
  {
   "cell_type": "code",
   "execution_count": 114,
   "metadata": {},
   "outputs": [
    {
     "name": "stdout",
     "output_type": "stream",
     "text": [
      "18689/18689 [==============================] - 1s 52us/step\n"
     ]
    }
   ],
   "source": [
    "y = model.predict([DX1_array_tst, DX_mat_tst, PR_mat_tst, hosp_array_tst, other_mat_tst], verbose=1)\n",
    "\n",
    "y_pred = y[:, 1]\n",
    "y_true = tst_df.readm30.astype(int).values"
   ]
  },
  {
   "cell_type": "code",
   "execution_count": 262,
   "metadata": {},
   "outputs": [
    {
     "name": "stdout",
     "output_type": "stream",
     "text": [
      "18689/18689 [==============================] - 1s 59us/step\n"
     ]
    }
   ],
   "source": [
    "y = model.predict([DX1_array_tst, DX_mat_tst, PR_mat_tst, hosp_ohe_tst, other_mat_tst], verbose=1)\n",
    "\n",
    "y_pred = y[:, 1]\n",
    "y_true = tst_df.readm30.astype(int).values"
   ]
  },
  {
   "cell_type": "code",
   "execution_count": 115,
   "metadata": {
    "scrolled": false
   },
   "outputs": [
    {
     "data": {
      "text/plain": [
       "{0: 0.7120925802829361}"
      ]
     },
     "execution_count": 115,
     "metadata": {},
     "output_type": "execute_result"
    },
    {
     "data": {
      "image/png": "[encoded data removed]",
      "text/plain": [
       "<Figure size 432x288 with 1 Axes>"
      ]
     },
     "metadata": {},
     "output_type": "display_data"
    }
   ],
   "source": [
    "plot_roc(y_pred, y_true)"
   ]
  },
  {
   "cell_type": "code",
   "execution_count": 72,
   "metadata": {},
   "outputs": [
    {
     "data": {
      "text/plain": [
       "(35952, 200)"
      ]
     },
     "execution_count": 72,
     "metadata": {},
     "output_type": "execute_result"
    }
   ],
   "source": [
    "embed_glove.shape"
   ]
  },
  {
   "cell_type": "code",
   "execution_count": 91,
   "metadata": {},
   "outputs": [],
   "source": [
    "DX1_weights = embed_glove[DX1_dict[DX_cat[1]]:DX1_dict[DX_cat[-1]], ]\n",
    "DX_weights = embed_glove[DX_dict[DX_cat[1]]:DX_dict[DX_cat[-1]], ]\n",
    "PR_weights = embed_glove[PR_dict[PR_cat[1]]:PR_dict[PR_cat[-1]], ]"
   ]
  },
  {
   "cell_type": "code",
   "execution_count": 87,
   "metadata": {},
   "outputs": [
    {
     "data": {
      "text/plain": [
       "3.5563076"
      ]
     },
     "execution_count": 87,
     "metadata": {},
     "output_type": "execute_result"
    }
   ],
   "source": [
    "np.linalg.norm(DX1_weights, axis=1).mean()"
   ]
  },
  {
   "cell_type": "code",
   "execution_count": 88,
   "metadata": {},
   "outputs": [
    {
     "data": {
      "text/plain": [
       "3.287146"
      ]
     },
     "execution_count": 88,
     "metadata": {},
     "output_type": "execute_result"
    }
   ],
   "source": [
    "np.linalg.norm(DX_weights, axis=1).mean()"
   ]
  },
  {
   "cell_type": "code",
   "execution_count": 93,
   "metadata": {},
   "outputs": [
    {
     "data": {
      "text/plain": [
       "4.044141"
      ]
     },
     "execution_count": 93,
     "metadata": {},
     "output_type": "execute_result"
    }
   ],
   "source": [
    "np.linalg.norm(PR_weights, axis=1).mean()"
   ]
  },
  {
   "cell_type": "code",
   "execution_count": 120,
   "metadata": {},
   "outputs": [
    {
     "data": {
      "text/plain": [
       "array([0.41378173, 6.3316565 , 0.40578735, 0.39956442, 6.720784  ,\n",
       "       5.489902  , 0.40394214, 0.4287176 , 5.9632335 , 4.2582107 ,\n",
       "       3.353282  , 0.37608114, 5.8718457 , 6.4693923 , 5.2384467 ,\n",
       "       6.0083847 , 5.990945  , 6.8545856 , 5.3531127 , 6.1343727 ],\n",
       "      dtype=float32)"
      ]
     },
     "execution_count": 120,
     "metadata": {},
     "output_type": "execute_result"
    }
   ],
   "source": [
    "np.linalg.norm(embed_glove[:20, :], axis=1)"
   ]
  },
  {
   "cell_type": "code",
   "execution_count": 123,
   "metadata": {},
   "outputs": [
    {
     "data": {
      "text/plain": [
       "41071    114138\n",
       "41041     18760\n",
       "41011     13186\n",
       "41091      5306\n",
       "41001      3731\n",
       "41021      3368\n",
       "41031      2178\n",
       "41051      1629\n",
       "41081       647\n",
       "41061       482\n",
       "41070       482\n",
       "41090       144\n",
       "41010        99\n",
       "41040        89\n",
       "41000        10\n",
       "41020         9\n",
       "41080         7\n",
       "41050         7\n",
       "41030         6\n",
       "41060         2\n",
       "Name: DX1, dtype: int64"
      ]
     },
     "execution_count": 123,
     "metadata": {},
     "output_type": "execute_result"
    }
   ],
   "source": [
    "train_df.DX1.value_counts()"
   ]
  },
  {
   "cell_type": "code",
   "execution_count": 126,
   "metadata": {},
   "outputs": [],
   "source": [
    "code = '41041'"
   ]
  },
  {
   "cell_type": "code",
   "execution_count": 127,
   "metadata": {},
   "outputs": [
    {
     "data": {
      "text/plain": [
       "4829"
      ]
     },
     "execution_count": 127,
     "metadata": {},
     "output_type": "execute_result"
    }
   ],
   "source": [
    "DX1_dict[code]"
   ]
  },
  {
   "cell_type": "code",
   "execution_count": 161,
   "metadata": {},
   "outputs": [
    {
     "data": {
      "text/plain": [
       "array([5.8474984 , 0.41149625, 5.5471582 , 5.64598   , 5.2002664 ,\n",
       "       0.39609   , 0.40420276, 5.9460864 , 2.9090228 , 3.659514  ,\n",
       "       5.8583794 , 5.498752  , 5.9506826 , 5.72007   , 5.99805   ,\n",
       "       4.2604523 , 4.090304  , 2.6727421 , 5.325988  ], dtype=float32)"
      ]
     },
     "execution_count": 161,
     "metadata": {},
     "output_type": "execute_result"
    }
   ],
   "source": [
    "np.linalg.norm(embed_glove, axis=1)[DX_dict[DX_cat[1]]:DX_dict[DX_cat[20]]]"
   ]
  },
  {
   "cell_type": "code",
   "execution_count": 164,
   "metadata": {},
   "outputs": [
    {
     "data": {
      "text/plain": [
       "array([5.8474984 , 0.41149625, 5.5471582 , 5.64598   , 5.2002664 ,\n",
       "       0.39609   , 0.40420276, 5.9460864 , 2.9097443 , 3.6599007 ,\n",
       "       5.8583794 , 5.498752  , 5.9506826 , 5.72007   , 5.99805   ,\n",
       "       4.2604523 , 4.090304  , 2.6735256 , 5.325223  ], dtype=float32)"
      ]
     },
     "execution_count": 164,
     "metadata": {},
     "output_type": "execute_result"
    }
   ],
   "source": [
    "np.linalg.norm(embed_weights, axis=1)[DX_dict[DX_cat[1]]:DX_dict[DX_cat[20]]]"
   ]
  },
  {
   "cell_type": "code",
   "execution_count": 110,
   "metadata": {},
   "outputs": [
    {
     "data": {
      "text/plain": [
       "array([141.42136   ,   6.3316565 ,   0.40578735,   0.39956442,\n",
       "         6.720784  ,   5.489902  ,   0.40394214,   0.4287176 ,\n",
       "         5.9632335 ,   4.2582107 ], dtype=float32)"
      ]
     },
     "execution_count": 110,
     "metadata": {},
     "output_type": "execute_result"
    }
   ],
   "source": [
    "np.linalg.norm(embed_glove2, axis=1)[:10]"
   ]
  },
  {
   "cell_type": "code",
   "execution_count": 117,
   "metadata": {},
   "outputs": [
    {
     "data": {
      "text/plain": [
       "array([141.4183    ,   6.3316565 ,   0.40578735,   0.39956442,\n",
       "         6.720784  ,   5.489902  ,   0.40394214,   0.4287176 ,\n",
       "         5.9632335 ,   4.2582107 ], dtype=float32)"
      ]
     },
     "execution_count": 117,
     "metadata": {},
     "output_type": "execute_result"
    }
   ],
   "source": [
    "np.linalg.norm(embed_weights, axis=1)[:10]"
   ]
  },
  {
   "cell_type": "code",
   "execution_count": 129,
   "metadata": {},
   "outputs": [
    {
     "name": "stdout",
     "output_type": "stream",
     "text": [
      "[ 1.4106563   0.23433484  0.09321313 -0.4912311   0.01241883  0.06879711\n",
      "  0.33576208  0.42667928  0.2675886   0.03009285]\n"
     ]
    }
   ],
   "source": [
    "print(embed_glove[DX1_dict[code], :10])"
   ]
  },
  {
   "cell_type": "code",
   "execution_count": 130,
   "metadata": {},
   "outputs": [
    {
     "name": "stdout",
     "output_type": "stream",
     "text": [
      "[ 1.4106563   0.23433484  0.09321313 -0.4912311   0.01241883  0.06879711\n",
      "  0.33576208  0.42667928  0.2675886   0.03009285]\n"
     ]
    }
   ],
   "source": [
    "print(embed_weights[DX1_dict[code], :10])"
   ]
  },
  {
   "cell_type": "code",
   "execution_count": 34,
   "metadata": {},
   "outputs": [
    {
     "name": "stdout",
     "output_type": "stream",
     "text": [
      "input_7 False\n",
      "input_8 False\n",
      "input_6 False\n",
      "DX_embed False\n",
      "PR_embed False\n",
      "DX1_embed False\n",
      "DX_dense True\n",
      "PR_dense True\n",
      "reshape_3 True\n",
      "lambda_1 True\n",
      "lambda_2 True\n",
      "input_10 False\n",
      "concatenate_2 True\n",
      "fc True\n",
      "input_9 False\n",
      "concatenate_3 True\n",
      "prediction True\n"
     ]
    }
   ],
   "source": [
    "for l in model.layers:\n",
    "    print(l.name, l.trainable)"
   ]
  },
  {
   "cell_type": "code",
   "execution_count": 116,
   "metadata": {},
   "outputs": [],
   "source": [
    "for l in model.layers:\n",
    "    if l.name == 'DX_embed':\n",
    "        embed_weights = l.get_weights()[0]"
   ]
  },
  {
   "cell_type": "code",
   "execution_count": 36,
   "metadata": {},
   "outputs": [],
   "source": [
    "m, b = model.layers[6].get_weights()"
   ]
  },
  {
   "cell_type": "code",
   "execution_count": 37,
   "metadata": {},
   "outputs": [],
   "source": [
    "m_fc, b_fc = model.layers[13].get_weights()"
   ]
  },
  {
   "cell_type": "code",
   "execution_count": 38,
   "metadata": {},
   "outputs": [],
   "source": [
    "m_pred, b_pred = model.layers[16].get_weights()"
   ]
  },
  {
   "cell_type": "code",
   "execution_count": 404,
   "metadata": {},
   "outputs": [
    {
     "data": {
      "text/plain": [
       "((474, 256), (256,))"
      ]
     },
     "execution_count": 404,
     "metadata": {},
     "output_type": "execute_result"
    }
   ],
   "source": [
    "m_fc.shape, b_fc.shape"
   ]
  },
  {
   "cell_type": "code",
   "execution_count": 412,
   "metadata": {},
   "outputs": [
    {
     "data": {
      "text/plain": [
       "((257, 2), (2,))"
      ]
     },
     "execution_count": 412,
     "metadata": {},
     "output_type": "execute_result"
    }
   ],
   "source": [
    "m_pred.shape, b_pred.shape"
   ]
  },
  {
   "cell_type": "code",
   "execution_count": 399,
   "metadata": {},
   "outputs": [
    {
     "data": {
      "text/plain": [
       "((200, 128), (128,))"
      ]
     },
     "execution_count": 399,
     "metadata": {},
     "output_type": "execute_result"
    }
   ],
   "source": [
    "m.shape, b.shape"
   ]
  },
  {
   "cell_type": "code",
   "execution_count": 39,
   "metadata": {},
   "outputs": [
    {
     "data": {
      "text/plain": [
       "(0.23086847, -0.23779769, 0.009247722, -0.016657978)"
      ]
     },
     "execution_count": 39,
     "metadata": {},
     "output_type": "execute_result"
    }
   ],
   "source": [
    "m.max(), m.min(), b.max(), b.min()"
   ]
  },
  {
   "cell_type": "code",
   "execution_count": 400,
   "metadata": {},
   "outputs": [
    {
     "data": {
      "text/plain": [
       "(0.2080269, -0.19363649, 0.035119716, -0.02068497)"
      ]
     },
     "execution_count": 400,
     "metadata": {},
     "output_type": "execute_result"
    }
   ],
   "source": [
    "m.max(), m.min(), b.max(), b.min()"
   ]
  },
  {
   "cell_type": "code",
   "execution_count": 35,
   "metadata": {},
   "outputs": [],
   "source": [
    "embed0 = embed_weights[0,]"
   ]
  },
  {
   "cell_type": "code",
   "execution_count": 40,
   "metadata": {},
   "outputs": [],
   "source": [
    "out_md = np.maximum(np.dot(embed0.reshape((1, 200)), m).reshape((128, ))+b, 0)"
   ]
  },
  {
   "cell_type": "code",
   "execution_count": 41,
   "metadata": {},
   "outputs": [],
   "source": [
    "out_fc = np.maximum(np.dot(out_md.reshape(1, 128), m_fc[128:256, :]).reshape((256,))+b_fc, 0)"
   ]
  },
  {
   "cell_type": "code",
   "execution_count": 42,
   "metadata": {},
   "outputs": [
    {
     "data": {
      "text/plain": [
       "array([-1.8251919, -2.4954708], dtype=float32)"
      ]
     },
     "execution_count": 42,
     "metadata": {},
     "output_type": "execute_result"
    }
   ],
   "source": [
    "np.dot(out_fc.reshape(1, 256), m_pred[:-1, :]).reshape((2,))+b_pred"
   ]
  },
  {
   "cell_type": "code",
   "execution_count": 402,
   "metadata": {},
   "outputs": [
    {
     "data": {
      "text/plain": [
       "array([ -2.261562  ,  -0.4348669 , -22.42451   ,  -0.13289407,\n",
       "        -1.8458332 , -14.196199  , -18.868616  ,  -0.3416623 ,\n",
       "        -4.3614364 ,  -2.7573252 ,  -0.63641006,  -0.47714442,\n",
       "        -0.25309756, -11.091749  ,  -8.196642  ,  -1.096318  ,\n",
       "       -10.855441  ,  -3.052955  ,  -1.0288068 , -10.969988  ,\n",
       "         0.40518835,  -0.9418614 ,   1.570924  , -12.889884  ,\n",
       "        -0.56594104,  -3.3714895 ,  -0.9610004 ,   4.169344  ,\n",
       "       -11.599974  ,  -1.1351202 ,  -2.4973285 ,  -5.1674523 ,\n",
       "        -0.08029403, -12.249289  , -15.767118  ,  -0.3019078 ,\n",
       "        -2.6467552 ,  -8.429437  ,  -0.59961534,  -0.5821871 ,\n",
       "        -0.7120409 ,  10.453239  ,  -0.54836684,  -0.26988614,\n",
       "        -2.4051664 , -15.747742  ,   1.2788409 ,  -5.417101  ,\n",
       "        -1.5410671 ,  -7.6972637 ,  -5.7517366 ,  -0.38087183,\n",
       "        -8.969367  , -22.48982   ,  -5.1705847 ,  -9.567425  ,\n",
       "        -4.417823  ,  -5.3998876 , -21.174059  ,  -0.45901605,\n",
       "         0.35313943,  16.164701  ,  -2.0436702 ,  -0.18758824,\n",
       "        -0.07139851,  -6.5093365 ,  -2.8103223 , -10.945596  ,\n",
       "        -9.644728  , -10.544343  ,   0.71612203,  -0.9132165 ,\n",
       "       -12.067972  , -22.932564  ,   0.6029563 ,   0.8950301 ,\n",
       "        -0.4667361 ,  -2.4728458 ,   1.693601  ,  -1.116327  ,\n",
       "        -1.0726683 ,  -0.11494626, -10.610204  , -15.612179  ,\n",
       "        -0.28575736, -23.266134  ,  -0.91765964,  -2.5098958 ,\n",
       "        -0.2358576 ,  -0.49173203,  15.726515  , -11.342329  ,\n",
       "       -20.297705  ,  -0.39641547,  -9.626561  ,   7.7456226 ,\n",
       "         1.5143474 , -10.42355   , -15.350564  ,  -7.2181783 ,\n",
       "        -2.1234043 , -11.251765  , -11.92241   ,  -0.20728384,\n",
       "        -2.0451193 , -11.568891  , -11.77035   , -16.049696  ,\n",
       "        -0.2174707 , -11.287075  ,  -5.921193  ,  -1.095251  ,\n",
       "        -7.7690597 ,  -1.1252269 ,  -1.8463479 ,  -1.4361027 ,\n",
       "         6.4817677 ,  -6.146787  ,  -0.12936904, -13.49704   ,\n",
       "        -0.60516846, -15.321316  ,   4.498232  ,  -0.15378018,\n",
       "        -0.46901122,  -8.022888  ,  -2.0363178 , -18.76024   ],\n",
       "      dtype=float32)"
      ]
     },
     "execution_count": 402,
     "metadata": {},
     "output_type": "execute_result"
    }
   ],
   "source": [
    "np.dot(embed0.reshape((1, 200)), m).reshape((128, ))+b"
   ]
  },
  {
   "cell_type": "code",
   "execution_count": 372,
   "metadata": {},
   "outputs": [],
   "source": [
    "_, eigenv, _ = np.linalg.svd(m)"
   ]
  },
  {
   "cell_type": "code",
   "execution_count": 373,
   "metadata": {},
   "outputs": [
    {
     "data": {
      "text/plain": [
       "array([2.0055656 , 1.9654974 , 1.9222481 , 1.8812366 , 1.8650886 ,\n",
       "       1.84087   , 1.8077695 , 1.7697358 , 1.7582669 , 1.7408098 ,\n",
       "       1.7243272 , 1.7081796 , 1.6939739 , 1.6807402 , 1.6591983 ,\n",
       "       1.6435581 , 1.626347  , 1.6208037 , 1.5892233 , 1.5641856 ,\n",
       "       1.5579144 , 1.5314696 , 1.5292263 , 1.5189304 , 1.4989698 ,\n",
       "       1.4856504 , 1.4797233 , 1.4534702 , 1.4372607 , 1.4181452 ,\n",
       "       1.3980521 , 1.3935324 , 1.3829141 , 1.3591394 , 1.3385834 ,\n",
       "       1.3310603 , 1.312417  , 1.3034167 , 1.2976644 , 1.2843426 ,\n",
       "       1.2687948 , 1.2628138 , 1.2460703 , 1.237558  , 1.2265626 ,\n",
       "       1.2079691 , 1.1903325 , 1.1722714 , 1.1689371 , 1.1561806 ,\n",
       "       1.150674  , 1.1332579 , 1.1287903 , 1.1170601 , 1.1061027 ,\n",
       "       1.0993078 , 1.0924454 , 1.0823112 , 1.0736158 , 1.0470505 ,\n",
       "       1.0321773 , 1.0200784 , 1.0174359 , 1.0063269 , 0.99240345,\n",
       "       0.9827925 , 0.9721319 , 0.9561463 , 0.94861865, 0.93652654,\n",
       "       0.9208943 , 0.9035183 , 0.90330786, 0.8876535 , 0.88100654,\n",
       "       0.8676566 , 0.85447395, 0.85327846, 0.849895  , 0.81207234,\n",
       "       0.810342  , 0.80599916, 0.79150754, 0.7856869 , 0.76512665,\n",
       "       0.75633204, 0.7417937 , 0.7305754 , 0.7169649 , 0.70965487,\n",
       "       0.7014633 , 0.6853149 , 0.67684025, 0.66649014, 0.6610095 ,\n",
       "       0.63707674, 0.6308968 , 0.619859  , 0.612461  , 0.59646004,\n",
       "       0.58074415, 0.5782451 , 0.57111317, 0.5582215 , 0.5343785 ,\n",
       "       0.5255908 , 0.5208966 , 0.51722693, 0.50104344, 0.48787045,\n",
       "       0.48219135, 0.4723151 , 0.45635408, 0.4511126 , 0.4311601 ,\n",
       "       0.41472325, 0.39256847, 0.38734606, 0.37399063, 0.3666249 ,\n",
       "       0.35108495, 0.33533204, 0.3301007 , 0.31281126, 0.29445553,\n",
       "       0.2673526 , 0.24888797, 0.22941627], dtype=float32)"
      ]
     },
     "execution_count": 373,
     "metadata": {},
     "output_type": "execute_result"
    }
   ],
   "source": [
    "eigenv"
   ]
  },
  {
   "cell_type": "markdown",
   "metadata": {},
   "source": [
    "## Model Average"
   ]
  },
  {
   "cell_type": "code",
   "execution_count": 7,
   "metadata": {},
   "outputs": [],
   "source": [
    "from sklearn.metrics import roc_curve, auc"
   ]
  },
  {
   "cell_type": "code",
   "execution_count": 8,
   "metadata": {},
   "outputs": [],
   "source": [
    "y_pred_lst = []\n",
    "n_fold = 10\n",
    "for fold_ind in range(n_fold):\n",
    "    y_pred_lst.append(np.load('output/y_pred'+str(fold_ind)+'.npy'))"
   ]
  },
  {
   "cell_type": "code",
   "execution_count": 10,
   "metadata": {},
   "outputs": [],
   "source": [
    "y_true = tst_df.readm30.astype(int).values"
   ]
  },
  {
   "cell_type": "code",
   "execution_count": 11,
   "metadata": {},
   "outputs": [],
   "source": [
    "auc_lst = []\n",
    "\n",
    "for y_pred in y_pred_lst:\n",
    "    fpr, tpr, _ = roc_curve(y_true, y_pred)\n",
    "    roc_auc = auc(fpr, tpr)\n",
    "    auc_lst.append(roc_auc)"
   ]
  },
  {
   "cell_type": "code",
   "execution_count": 12,
   "metadata": {
    "scrolled": true
   },
   "outputs": [
    {
     "data": {
      "text/plain": [
       "(0.712201901320557, 0.7147529128986604, 0.70995568503486)"
      ]
     },
     "execution_count": 12,
     "metadata": {},
     "output_type": "execute_result"
    }
   ],
   "source": [
    "np.mean(auc_lst), np.max(auc_lst), np.min(auc_lst)"
   ]
  },
  {
   "cell_type": "code",
   "execution_count": 13,
   "metadata": {},
   "outputs": [],
   "source": [
    "y_pred_mat = np.column_stack(y_pred_lst)"
   ]
  },
  {
   "cell_type": "code",
   "execution_count": 14,
   "metadata": {},
   "outputs": [],
   "source": [
    "y_pred_avg = y_pred_mat.mean(axis=1)"
   ]
  },
  {
   "cell_type": "code",
   "execution_count": 15,
   "metadata": {},
   "outputs": [
    {
     "data": {
      "text/plain": [
       "{0: 0.7154705749444924}"
      ]
     },
     "execution_count": 15,
     "metadata": {},
     "output_type": "execute_result"
    },
    {
     "data": {
      "image/png": "[encoded data removed]",
      "text/plain": [
       "<Figure size 432x288 with 1 Axes>"
      ]
     },
     "metadata": {},
     "output_type": "display_data"
    }
   ],
   "source": [
    "plot_roc(y_pred_avg, y_true)"
   ]
  },
  {
   "cell_type": "code",
   "execution_count": 16,
   "metadata": {},
   "outputs": [],
   "source": [
    "np.save('output/y_pred_ami_sepdx1_10.npy', y_pred_mat)"
   ]
  },
  {
   "cell_type": "markdown",
   "metadata": {},
   "source": [
    "## Separate Hospital Embeddings"
   ]
  },
  {
   "cell_type": "code",
   "execution_count": 11,
   "metadata": {},
   "outputs": [],
   "source": [
    "cohort = 'ami'\n",
    "tst_seed = 0"
   ]
  },
  {
   "cell_type": "code",
   "execution_count": 25,
   "metadata": {},
   "outputs": [],
   "source": [
    "all_df = pd.read_csv(path+'cohorts30/{}/pred_comorb.csv'.format(cohort), dtype=core_dtypes_pd)\n",
    "tst_key = pd.read_csv(path+'cohorts30/{}/tst_key{}.csv'.format(cohort, tst_seed), names = ['KEY_NRD'])\n",
    "tst_df = all_df.loc[all_df.KEY_NRD.isin(tst_key.KEY_NRD)]\n",
    "train_df0 = all_df.loc[~all_df.KEY_NRD.isin(tst_key.KEY_NRD)].reset_index()"
   ]
  },
  {
   "cell_type": "code",
   "execution_count": 13,
   "metadata": {},
   "outputs": [],
   "source": [
    "DX_cat = ['missing'] + sorted(dx_multi.ICD9CM_CODE)\n",
    "PR_cat = ['missing'] + sorted(pr_multi.ICD9CM_CODE)\n",
    "n_DX_cat = len(DX_cat)\n",
    "n_PR_cat = len(PR_cat)\n",
    "unclassified = set(dx_multi.loc[dx_multi.CCS_LVL1 == '18', 'ICD9CM_CODE'])\n",
    "dx_ccs_cat = pd.concat([dx_multi.CCS_LVL1, dx_multi.CCS_LVL2, dx_multi.CCS_LVL3, dx_multi.CCS_LVL4]).astype('category').cat.categories\n",
    "pr_ccs_cat = pd.concat([pr_multi.CCS_LVL1, pr_multi.CCS_LVL2, pr_multi.CCS_LVL3]).astype('category').cat.categories\n",
    "DX1_dict = dict(zip(DX_cat, range(len(DX_cat))))\n",
    "DX_dict = dict(zip(DX_cat, [0] + list(range(len(DX_cat), len(DX_cat)*2))))\n",
    "PR_dict = dict(zip(PR_cat, [0] + list(range(len(DX_cat)*2-1, len(DX_cat)*2+len(PR_cat)-1))))\n",
    "code_cat = ['missing']+sorted(dx_multi.ICD9CM_CODE)*2+sorted(pr_multi.ICD9CM_CODE)+sorted(dx_ccs_cat)[1:]*2+sorted(pr_ccs_cat)[1:]\n",
    "n_code_cat = len(code_cat)    \n",
    "dx1_ccs_dict = dict(zip(dx_ccs_cat[1:], range(1+len(dx_multi)*2+len(pr_multi), len(dx_multi)*2+len(pr_multi)+len(dx_ccs_cat))))\n",
    "dx_ccs_dict = dict(zip(dx_ccs_cat[1:], range(1+len(dx_multi)*2+len(pr_multi)+len(dx_ccs_cat[1:]), \n",
    "                                                 1+len(dx_multi)*2+len(pr_multi)+len(dx_ccs_cat[1:])*2)))\n",
    "pr_ccs_dict = dict(zip(pr_ccs_cat[1:], range(1+len(dx_multi)*2+len(pr_multi)+len(dx_ccs_cat[1:])*2, n_code_cat)))\n",
    "hosp_series = all_df['HOSP_NRD'].astype('category')\n",
    "hosp_cat = hosp_series.cat.categories\n",
    "hosp_dict = dict(zip(hosp_cat, range(len(hosp_cat))))\n",
    "\n",
    "n_DX = 29\n",
    "n_PR = 15\n",
    "DXs = ['DX'+str(j) for j in range(2, n_DX+2)]\n",
    "PRs = ['PR'+str(j) for j in range(1, n_PR+1)]"
   ]
  },
  {
   "cell_type": "code",
   "execution_count": 26,
   "metadata": {},
   "outputs": [],
   "source": [
    "age_mean = train_df0['AGE'].mean()\n",
    "age_std = train_df0['AGE'].std()\n",
    "los_mean = train_df0['LOS'].mean()\n",
    "los_std = train_df0['LOS'].std()\n",
    "n_pay1 = int(train_df0['PAY1'].max())+1\n",
    "n_ed = int(train_df0['HCUP_ED'].max())+1\n",
    "n_zipinc = int(train_df0['ZIPINC_QRTL'].max())+1\n",
    "demo_mat_tst = tst_df[['AGE', 'FEMALE']].values\n",
    "demo_mat_tst[:, 0] = (demo_mat_tst[:, 0]-age_mean)/age_std\n",
    "hosp_array_tst = tst_df['HOSP_NRD'].map(hosp_dict).values\n",
    "pay1_mat_tst = to_categorical(tst_df.PAY1.values, num_classes=n_pay1)[:, 1:]\n",
    "los_array_tst = (tst_df.LOS.values - los_mean)/los_std\n",
    "ed_mat_tst = to_categorical(tst_df.HCUP_ED.values, num_classes=n_ed)\n",
    "zipinc_mat_tst = to_categorical(tst_df.ZIPINC_QRTL.values, num_classes=n_zipinc)[:, 1:]\n",
    "#transfer_mat_tst = to_categorical(tst_df.SAMEDAYEVENT.values)\n",
    "other_mat_tst = np.concatenate((demo_mat_tst, pay1_mat_tst, los_array_tst.reshape(los_array_tst.shape+(1,)), \n",
    "                                ed_mat_tst, zipinc_mat_tst), axis=1)"
   ]
  },
  {
   "cell_type": "code",
   "execution_count": 21,
   "metadata": {},
   "outputs": [],
   "source": [
    "code_embed_dim = 200\n",
    "embed_initializer = 'uniform'\n",
    "fc_width = 512\n",
    "md_width = 128\n",
    "lr1 = 2e-4\n",
    "lr2 = 2e-5\n",
    "dropout = 0\n",
    "batchsize = 256\n",
    "penalty = 0.\n",
    "hosp_embed_dim = 1"
   ]
  },
  {
   "cell_type": "code",
   "execution_count": 27,
   "metadata": {},
   "outputs": [],
   "source": [
    "input_DX1 = Input(shape=(1,))\n",
    "DX1_embed = Embedding(input_dim=n_code_cat, output_dim=code_embed_dim, embeddings_initializer=embed_initializer, \n",
    "                             name='DX1_embed')(input_DX1)\n",
    "DX1_embed = Reshape((code_embed_dim,))(DX1_embed)\n",
    "input_DX = Input(shape = (n_DX,))\n",
    "DX_embed = Embedding(input_dim=n_code_cat, output_dim=code_embed_dim, mask_zero=True, embeddings_initializer=embed_initializer, \n",
    "                             name='DX_embed')(input_DX)\n",
    "DX_embed = MaskedDense(md_width, activation='relu')(DX_embed)\n",
    "DX_embed = MaskedSum()(DX_embed)\n",
    "input_PR = Input(shape = (n_PR,))\n",
    "PR_embed = Embedding(input_dim=n_code_cat, output_dim=code_embed_dim, mask_zero=True, embeddings_initializer=embed_initializer,\n",
    "                             name='PR_embed')(input_PR)\n",
    "PR_embed = MaskedDense(md_width, activation='relu')(PR_embed)\n",
    "PR_embed = MaskedSum()(PR_embed)\n",
    "input_hosp = Input(shape=(1,))\n",
    "hosp_embed = Embedding(input_dim=len(hosp_cat), output_dim=hosp_embed_dim, input_length=1)(input_hosp)\n",
    "hosp_embed = Reshape((hosp_embed_dim, ))(hosp_embed)\n",
    "input_other = Input(shape=(other_mat_tst.shape[1], ))\n",
    "merged = Concatenate(axis=1)([DX1_embed, DX_embed, PR_embed, input_other])\n",
    "x = Dense(fc_width, activation='relu')(merged)\n",
    "x = Dropout(dropout)(x)\n",
    "x = Concatenate(axis=1)([x, hosp_embed])\n",
    "prediction = Dense(1, activation='sigmoid', name='prediction', use_bias=False)(x)\n",
    "model = Model(inputs=[input_DX1, input_DX, input_PR, input_hosp, input_other], outputs=prediction)"
   ]
  },
  {
   "cell_type": "code",
   "execution_count": 28,
   "metadata": {},
   "outputs": [],
   "source": [
    "model.load_weights(model_path+'best30_hosp_ami0_0.h5')"
   ]
  },
  {
   "cell_type": "code",
   "execution_count": 30,
   "metadata": {},
   "outputs": [],
   "source": [
    "hosp_embed_layer = model.layers[15]"
   ]
  },
  {
   "cell_type": "code",
   "execution_count": 32,
   "metadata": {},
   "outputs": [],
   "source": [
    "hosp_embed_mat = hosp_embed_layer.get_weights()[0]"
   ]
  },
  {
   "cell_type": "code",
   "execution_count": 43,
   "metadata": {},
   "outputs": [
    {
     "data": {
      "text/plain": [
       "0.044123374"
      ]
     },
     "execution_count": 43,
     "metadata": {},
     "output_type": "execute_result"
    }
   ],
   "source": [
    "hosp_embed_mat.std()"
   ]
  },
  {
   "cell_type": "code",
   "execution_count": 41,
   "metadata": {},
   "outputs": [],
   "source": [
    "hosp_embed_mat = hosp_embed_mat*(model.layers[-1].get_weights()[0][-1, 0])"
   ]
  },
  {
   "cell_type": "code",
   "execution_count": 66,
   "metadata": {},
   "outputs": [],
   "source": [
    "hosp_embed_mats = []\n",
    "last_weights = []\n",
    "tst_seed = 1\n",
    "for val_seed in range(9):\n",
    "    model.load_weights(model_path+'best30_hosp_{}{}_{}.h5'.format(cohort, tst_seed, val_seed))\n",
    "    hosp_embed_layer = model.layers[15]\n",
    "    hosp_embed_mat = (hosp_embed_layer.get_weights()[0])*(model.layers[-1].get_weights()[0][-1, 0])\n",
    "    hosp_embed_mats.append(hosp_embed_mat)\n",
    "    last_weights.append((model.layers[-1].get_weights()[0][-1, 0]))"
   ]
  },
  {
   "cell_type": "code",
   "execution_count": 67,
   "metadata": {},
   "outputs": [],
   "source": [
    "for hosp_embed_mat in hosp_embed_mats:\n",
    "    hosp_embed_mat = (hosp_embed_mat - hosp_embed_mat.mean())/(hosp_embed_mat.std())"
   ]
  },
  {
   "cell_type": "code",
   "execution_count": 68,
   "metadata": {},
   "outputs": [],
   "source": [
    "hosp_embed_mats = np.column_stack(hosp_embed_mats)"
   ]
  },
  {
   "cell_type": "code",
   "execution_count": 69,
   "metadata": {},
   "outputs": [],
   "source": [
    "hosp_embed_avg1 = hosp_embed_mats.mean(axis=1)"
   ]
  },
  {
   "cell_type": "code",
   "execution_count": 65,
   "metadata": {},
   "outputs": [
    {
     "data": {
      "text/plain": [
       "(874,)"
      ]
     },
     "execution_count": 65,
     "metadata": {},
     "output_type": "execute_result"
    }
   ],
   "source": [
    "hosp_embed_avg0.shape"
   ]
  },
  {
   "cell_type": "code",
   "execution_count": 70,
   "metadata": {},
   "outputs": [
    {
     "data": {
      "text/plain": [
       "<matplotlib.collections.PathCollection at 0x2b007a4ff320>"
      ]
     },
     "execution_count": 70,
     "metadata": {},
     "output_type": "execute_result"
    },
    {
     "data": {
      "image/png": "[encoded data removed]",
      "text/plain": [
       "<Figure size 432x288 with 1 Axes>"
      ]
     },
     "metadata": {},
     "output_type": "display_data"
    }
   ],
   "source": [
    "plt.scatter(hosp_embed_avg0, hosp_embed_avg1)"
   ]
  }
 ],
 "metadata": {
  "kernelspec": {
   "display_name": "Python 3",
   "language": "python",
   "name": "python3"
  },
  "language_info": {
   "codemirror_mode": {
    "name": "ipython",
    "version": 3
   },
   "file_extension": ".py",
   "mimetype": "text/x-python",
   "name": "python",
   "nbconvert_exporter": "python",
   "pygments_lexer": "ipython3",
   "version": "3.5.4"
  }
 },
 "nbformat": 4,
 "nbformat_minor": 2
}

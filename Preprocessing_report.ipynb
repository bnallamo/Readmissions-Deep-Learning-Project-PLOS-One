{
 "cells": [
  {
   "cell_type": "markdown",
   "metadata": {},
   "source": [
    "# Preprocessing of the NRD data"
   ]
  },
  {
   "cell_type": "code",
   "execution_count": 1,
   "metadata": {},
   "outputs": [],
   "source": [
    "import pandas as pd\n",
    "import numpy as np\n",
    "import matplotlib.pyplot as plt\n",
    "import time\n",
    "\n",
    "%matplotlib inline"
   ]
  },
  {
   "cell_type": "code",
   "execution_count": 2,
   "metadata": {},
   "outputs": [],
   "source": [
    "path = '/nfs/turbo/intmed-bnallamo-turbo/wsliu/Data/NRD/'"
   ]
  },
  {
   "cell_type": "code",
   "execution_count": 2,
   "metadata": {},
   "outputs": [],
   "source": [
    "path = '/nfs/turbo/umms-awaljee/wsliu/Data/NRD/'"
   ]
  },
  {
   "cell_type": "code",
   "execution_count": 3,
   "metadata": {},
   "outputs": [],
   "source": [
    "from ccs_tools import dx_multi, pr_multi, dx_label, core_cols, core_dtypes_pd, na_values"
   ]
  },
  {
   "cell_type": "markdown",
   "metadata": {},
   "source": [
    "Readmission labels:"
   ]
  },
  {
   "cell_type": "code",
   "execution_count": 4,
   "metadata": {},
   "outputs": [],
   "source": [
    "readm_short = pd.read_csv(path+'cohorts/readm_labels_short.csv')"
   ]
  },
  {
   "cell_type": "markdown",
   "metadata": {},
   "source": [
    "Comorbidities:"
   ]
  },
  {
   "cell_type": "code",
   "execution_count": 5,
   "metadata": {},
   "outputs": [],
   "source": [
    "severity_cols = ['APRDRG', 'APRDRG_Risk_Mortality', 'APRDRG_Severity', 'CM_AIDS',\n",
    "       'CM_ALCOHOL', 'CM_ANEMDEF', 'CM_ARTH', 'CM_BLDLOSS', 'CM_CHF',\n",
    "       'CM_CHRNLUNG', 'CM_COAG', 'CM_DEPRESS', 'CM_DM', 'CM_DMCX', 'CM_DRUG',\n",
    "       'CM_HTN_C', 'CM_HYPOTHY', 'CM_LIVER', 'CM_LYMPH', 'CM_LYTES', 'CM_METS',\n",
    "       'CM_NEURO', 'CM_OBESE', 'CM_PARA', 'CM_PERIVASC', 'CM_PSYCH',\n",
    "       'CM_PULMCIRC', 'CM_RENLFAIL', 'CM_TUMOR', 'CM_ULCER', 'CM_VALVE',\n",
    "       'CM_WGHTLOSS', 'HOSP_NRD', 'KEY_NRD']\n",
    "\n",
    "severity_labels = ['All Patient Refined DRG', 'All Patient Refined DRG: Risk of Mortality Subclass', 'All Patient Refined DRG: Severity of Illness Subclass', 'AHRQ comorbidity measure: Acquired immune deficiency syndrome', 'AHRQ comorbidity measure: Alcohol abuse', 'AHRQ comorbidity measure: Deficiency anemias', 'AHRQ comorbidity measure: Rheumatoid arthritis/collagen vascular diseases', 'AHRQ comorbidity measure: Chronic blood loss anemia', 'AHRQ comorbidity measure: Congestive heart failure', 'AHRQ comorbidity measure: Chronic pulmonary disease', 'AHRQ comorbidity measure: Coagulopathy', 'AHRQ comorbidity measure: Depression', 'AHRQ comorbidity measure: Diabetes, uncomplicated', 'AHRQ comorbidity measure: Diabetes with chronic complications', 'AHRQ comorbidity measure: Drug abuse', 'AHRQ comorbidity measure: Hypertension (combine uncomplicated and complicated)', 'AHRQ comorbidity measure: Hypothyroidism', 'AHRQ comorbidity measure: Liver disease', 'AHRQ comorbidity measure: Lymphoma', 'AHRQ comorbidity measure: Fluid and electrolyte disorders', 'AHRQ comorbidity measure: Metastatic cancer', 'AHRQ comorbidity measure: Other neurological disorders', 'AHRQ comorbidity measure: Obesity', 'AHRQ comorbidity measure: Paralysis', 'AHRQ comorbidity measure: Peripheral vascular disorders', 'AHRQ comorbidity measure: Psychoses', 'AHRQ comorbidity measure: Pulmonary circulation disorders', 'AHRQ comorbidity measure: Renal failure', 'AHRQ comorbidity measure: Solid tumor without metastasis', 'AHRQ comorbidity measure: Peptic ulcer disease excluding bleeding', 'AHRQ comorbidity measure: Valvular disease', 'AHRQ comorbidity measure: Weight loss', 'NRD hospital identifier', 'NRD record identifier']\n",
    "\n",
    "severity_dtypes_pd = dict(zip(severity_cols, [float]*len(severity_cols)))\n",
    "\n",
    "severity = pd.read_table(path+'raw/2014/NRD_2014_Severity.CSV', sep=',', \n",
    "                           header = None, \n",
    "                           names=severity_cols, \n",
    "                           dtype=severity_dtypes_pd, \n",
    "                           na_values=na_values)"
   ]
  },
  {
   "cell_type": "markdown",
   "metadata": {},
   "source": [
    "### Cohorts for prediction model:"
   ]
  },
  {
   "cell_type": "code",
   "execution_count": 28,
   "metadata": {},
   "outputs": [],
   "source": [
    "cohort = 'pna'\n",
    "folder = 'elder/'"
   ]
  },
  {
   "cell_type": "code",
   "execution_count": 29,
   "metadata": {},
   "outputs": [],
   "source": [
    "ami = pd.read_csv(path+'cohorts/{}_core_2014.csv'.format(cohort), dtype=core_dtypes_pd)\n",
    "ami_label = pd.merge(ami, readm_short[['KEY_NRD', 'planned', 'readm30']], on='KEY_NRD')"
   ]
  },
  {
   "cell_type": "markdown",
   "metadata": {},
   "source": [
    "For AMI:"
   ]
  },
  {
   "cell_type": "code",
   "execution_count": 8,
   "metadata": {},
   "outputs": [],
   "source": [
    "ami_label = ami_label[(ami_label['LOS']!=0) & (ami_label['DIED']==0) & (ami_label['DISPUNIFORM'] != 7) \n",
    "                      & (ami_label['DMONTH'] != 12) & (ami_label['DISPUNIFORM'] != 2) \n",
    "                      & (ami_label['AGE']>=65)]"
   ]
  },
  {
   "cell_type": "markdown",
   "metadata": {},
   "source": [
    "For CHF and PNA:"
   ]
  },
  {
   "cell_type": "code",
   "execution_count": 30,
   "metadata": {},
   "outputs": [],
   "source": [
    "ami_label = ami_label[(~ami_label['LOS'].isna()) & (ami_label['DIED']==0) & (ami_label['DISPUNIFORM'] != 7) \n",
    "                      & (ami_label['DMONTH'] != 12) & (ami_label['DISPUNIFORM'] != 2)\n",
    "                      & (ami_label['AGE']>=65)]"
   ]
  },
  {
   "cell_type": "code",
   "execution_count": 31,
   "metadata": {},
   "outputs": [
    {
     "data": {
      "text/plain": [
       "(231839, 1979)"
      ]
     },
     "execution_count": 31,
     "metadata": {},
     "output_type": "execute_result"
    }
   ],
   "source": [
    "len(ami_label), len(ami_label['HOSP_NRD'].value_counts())"
   ]
  },
  {
   "cell_type": "code",
   "execution_count": 102,
   "metadata": {},
   "outputs": [
    {
     "data": {
      "text/plain": [
       "6875"
      ]
     },
     "execution_count": 102,
     "metadata": {},
     "output_type": "execute_result"
    }
   ],
   "source": [
    "len(ami_label) - len(ami_label.drop_duplicates(subset=['NRD_VisitLink'], keep='first'))"
   ]
  },
  {
   "cell_type": "code",
   "execution_count": 32,
   "metadata": {},
   "outputs": [],
   "source": [
    "ami_label = ami_label.drop_duplicates(subset=['NRD_VisitLink'], keep='first')\n",
    "\n",
    "hosp_freq = ami_label.HOSP_NRD.value_counts()\n",
    "\n",
    "hosp_in = hosp_freq[hosp_freq>=10].index"
   ]
  },
  {
   "cell_type": "code",
   "execution_count": 11,
   "metadata": {},
   "outputs": [
    {
     "data": {
      "text/plain": [
       "(603, 2092)"
      ]
     },
     "execution_count": 11,
     "metadata": {},
     "output_type": "execute_result"
    }
   ],
   "source": [
    "sum(hosp_freq<10), len(ami_label.loc[~ami_label.HOSP_NRD.isin(hosp_in)])"
   ]
  },
  {
   "cell_type": "code",
   "execution_count": 33,
   "metadata": {},
   "outputs": [],
   "source": [
    "ami_label = ami_label[ami_label['HOSP_NRD'].isin(hosp_in)]"
   ]
  },
  {
   "cell_type": "code",
   "execution_count": 34,
   "metadata": {},
   "outputs": [
    {
     "data": {
      "text/plain": [
       "(212365, 1852)"
      ]
     },
     "execution_count": 34,
     "metadata": {},
     "output_type": "execute_result"
    }
   ],
   "source": [
    "len(ami_label), len(ami_label['HOSP_NRD'].value_counts())"
   ]
  },
  {
   "cell_type": "code",
   "execution_count": 35,
   "metadata": {},
   "outputs": [],
   "source": [
    "ami_label.to_csv(path+folder+'cohorts10/{}/{}_pred.csv'.format(cohort, cohort), index=False)"
   ]
  },
  {
   "cell_type": "code",
   "execution_count": 91,
   "metadata": {},
   "outputs": [],
   "source": [
    "ami_label = pd.read_csv(path+folder+'cohorts10/{}/{}_pred.csv'.format(cohort, cohort), dtype=core_dtypes_pd)"
   ]
  },
  {
   "cell_type": "code",
   "execution_count": 36,
   "metadata": {},
   "outputs": [],
   "source": [
    "ami_severity = severity.loc[severity['KEY_NRD'].isin(ami_label['KEY_NRD'])]\n",
    "\n",
    "ami_pred = pd.merge(ami_label, ami_severity[list(ami_severity.columns.difference(ami_label.columns))+['KEY_NRD']], on='KEY_NRD')"
   ]
  },
  {
   "cell_type": "code",
   "execution_count": 37,
   "metadata": {},
   "outputs": [],
   "source": [
    "ami_pred.to_csv(path+folder+'cohorts10/{}/pred_comorb.csv'.format(cohort), index=False)"
   ]
  },
  {
   "cell_type": "code",
   "execution_count": null,
   "metadata": {},
   "outputs": [],
   "source": []
  },
  {
   "cell_type": "markdown",
   "metadata": {},
   "source": [
    "\n",
    "### Sample sizes of exclusion criteria:"
   ]
  },
  {
   "cell_type": "code",
   "execution_count": 51,
   "metadata": {},
   "outputs": [
    {
     "data": {
      "text/plain": [
       "(453850, 2008)"
      ]
     },
     "execution_count": 51,
     "metadata": {},
     "output_type": "execute_result"
    }
   ],
   "source": [
    "len(ami_label), len(ami_label['HOSP_NRD'].value_counts())"
   ]
  },
  {
   "cell_type": "code",
   "execution_count": 52,
   "metadata": {},
   "outputs": [
    {
     "data": {
      "text/plain": [
       "0"
      ]
     },
     "execution_count": 52,
     "metadata": {},
     "output_type": "execute_result"
    }
   ],
   "source": [
    "sum(ami_label.LOS.isna())"
   ]
  },
  {
   "cell_type": "code",
   "execution_count": 33,
   "metadata": {},
   "outputs": [
    {
     "data": {
      "text/plain": [
       "4188"
      ]
     },
     "execution_count": 33,
     "metadata": {},
     "output_type": "execute_result"
    }
   ],
   "source": [
    "sum(ami_label['LOS'] == 0)"
   ]
  },
  {
   "cell_type": "code",
   "execution_count": 53,
   "metadata": {},
   "outputs": [
    {
     "data": {
      "text/plain": [
       "18648"
      ]
     },
     "execution_count": 53,
     "metadata": {},
     "output_type": "execute_result"
    }
   ],
   "source": [
    "sum(ami_label['DIED']==1)"
   ]
  },
  {
   "cell_type": "code",
   "execution_count": 54,
   "metadata": {},
   "outputs": [
    {
     "data": {
      "text/plain": [
       "5057"
      ]
     },
     "execution_count": 54,
     "metadata": {},
     "output_type": "execute_result"
    }
   ],
   "source": [
    "sum(ami_label['DISPUNIFORM']==7)"
   ]
  },
  {
   "cell_type": "code",
   "execution_count": 55,
   "metadata": {},
   "outputs": [
    {
     "data": {
      "text/plain": [
       "47523"
      ]
     },
     "execution_count": 55,
     "metadata": {},
     "output_type": "execute_result"
    }
   ],
   "source": [
    "sum(ami_label['DMONTH']==12)"
   ]
  },
  {
   "cell_type": "code",
   "execution_count": 56,
   "metadata": {},
   "outputs": [
    {
     "data": {
      "text/plain": [
       "4839"
      ]
     },
     "execution_count": 56,
     "metadata": {},
     "output_type": "execute_result"
    }
   ],
   "source": [
    "sum(ami_label['DISPUNIFORM']==2)"
   ]
  },
  {
   "cell_type": "code",
   "execution_count": 79,
   "metadata": {},
   "outputs": [
    {
     "data": {
      "text/plain": [
       "363"
      ]
     },
     "execution_count": 79,
     "metadata": {},
     "output_type": "execute_result"
    }
   ],
   "source": [
    "sum(ami_label['PAY1'].isna())"
   ]
  },
  {
   "cell_type": "code",
   "execution_count": 57,
   "metadata": {},
   "outputs": [
    {
     "data": {
      "text/plain": [
       "28159"
      ]
     },
     "execution_count": 57,
     "metadata": {},
     "output_type": "execute_result"
    }
   ],
   "source": [
    "sum(ami_label['AGE']<18)"
   ]
  },
  {
   "cell_type": "code",
   "execution_count": 91,
   "metadata": {},
   "outputs": [
    {
     "data": {
      "text/plain": [
       "19234"
      ]
     },
     "execution_count": 91,
     "metadata": {},
     "output_type": "execute_result"
    }
   ],
   "source": [
    "len(ami_label) - len(ami_label.drop_duplicates(subset=['NRD_VisitLink'], keep='first'))"
   ]
  },
  {
   "cell_type": "code",
   "execution_count": 85,
   "metadata": {},
   "outputs": [],
   "source": [
    "hosp_freq = ami_label.HOSP_NRD.value_counts()"
   ]
  },
  {
   "cell_type": "code",
   "execution_count": 87,
   "metadata": {},
   "outputs": [
    {
     "data": {
      "text/plain": [
       "593"
      ]
     },
     "execution_count": 87,
     "metadata": {},
     "output_type": "execute_result"
    }
   ],
   "source": [
    "sum(hosp_freq<10)"
   ]
  },
  {
   "cell_type": "markdown",
   "metadata": {},
   "source": [
    "## Cross-Validation Splitting"
   ]
  },
  {
   "cell_type": "code",
   "execution_count": 38,
   "metadata": {},
   "outputs": [],
   "source": [
    "from sklearn.model_selection import StratifiedKFold"
   ]
  },
  {
   "cell_type": "code",
   "execution_count": 39,
   "metadata": {},
   "outputs": [],
   "source": [
    "skf = StratifiedKFold(n_splits=10, random_state=24, shuffle=True)"
   ]
  },
  {
   "cell_type": "code",
   "execution_count": 50,
   "metadata": {},
   "outputs": [],
   "source": [
    "cohort = 'pna'\n",
    "folder = 'elder/cohorts10/'"
   ]
  },
  {
   "cell_type": "code",
   "execution_count": 51,
   "metadata": {},
   "outputs": [],
   "source": [
    "data_df = pd.read_csv(path+folder+'{}/pred_comorb.csv'.format(cohort), dtype=core_dtypes_pd)"
   ]
  },
  {
   "cell_type": "code",
   "execution_count": 52,
   "metadata": {},
   "outputs": [],
   "source": [
    "tst_keys = []\n",
    "for train_idx, tst_idx in skf.split(data_df, data_df.HOSP_NRD):\n",
    "    tst_keys.append(data_df.loc[tst_idx, 'KEY_NRD'])"
   ]
  },
  {
   "cell_type": "code",
   "execution_count": 53,
   "metadata": {},
   "outputs": [
    {
     "name": "stdout",
     "output_type": "stream",
     "text": [
      "1852\n",
      "1852\n",
      "1852\n",
      "1852\n",
      "1852\n",
      "1852\n",
      "1852\n",
      "1852\n",
      "1852\n",
      "1852\n"
     ]
    }
   ],
   "source": [
    "for tst_key in tst_keys:\n",
    "    print(len(data_df.loc[data_df.KEY_NRD.isin(tst_key), 'HOSP_NRD'].value_counts()))"
   ]
  },
  {
   "cell_type": "code",
   "execution_count": 54,
   "metadata": {},
   "outputs": [],
   "source": [
    "for j, tst_key in enumerate(tst_keys):\n",
    "    tst_key.to_csv(path+folder+'{}/tst_key{}.csv'.format(cohort, j), index=False)"
   ]
  },
  {
   "cell_type": "markdown",
   "metadata": {},
   "source": [
    "### Code Frequency"
   ]
  },
  {
   "cell_type": "code",
   "execution_count": 5,
   "metadata": {},
   "outputs": [],
   "source": [
    "folder = 'multi_space_glove/'"
   ]
  },
  {
   "cell_type": "code",
   "execution_count": 6,
   "metadata": {},
   "outputs": [],
   "source": [
    "DX_freq = pd.read_csv(path+folder+'DX_freq.csv')"
   ]
  },
  {
   "cell_type": "code",
   "execution_count": 8,
   "metadata": {},
   "outputs": [],
   "source": [
    "PR_freq = pd.read_csv(path+folder+'PR_freq.csv')"
   ]
  },
  {
   "cell_type": "code",
   "execution_count": 9,
   "metadata": {},
   "outputs": [
    {
     "data": {
      "text/plain": [
       "(12233, 3722)"
      ]
     },
     "execution_count": 9,
     "metadata": {},
     "output_type": "execute_result"
    }
   ],
   "source": [
    "sum(DX_freq.frequency>0), sum(PR_freq.frequency>0)"
   ]
  },
  {
   "cell_type": "code",
   "execution_count": 12,
   "metadata": {},
   "outputs": [
    {
     "data": {
      "text/plain": [
       "(9905, 3183)"
      ]
     },
     "execution_count": 12,
     "metadata": {},
     "output_type": "execute_result"
    }
   ],
   "source": [
    "sum(DX_freq.frequency>10), sum(PR_freq.frequency>10)"
   ]
  },
  {
   "cell_type": "code",
   "execution_count": 15,
   "metadata": {},
   "outputs": [
    {
     "data": {
      "text/plain": [
       "(8245, 2758)"
      ]
     },
     "execution_count": 15,
     "metadata": {},
     "output_type": "execute_result"
    }
   ],
   "source": [
    "sum(DX_freq.frequency>=40), sum(PR_freq.frequency>=40)"
   ]
  }
 ],
 "metadata": {
  "kernelspec": {
   "display_name": "Python 3",
   "language": "python",
   "name": "python3"
  },
  "language_info": {
   "codemirror_mode": {
    "name": "ipython",
    "version": 3
   },
   "file_extension": ".py",
   "mimetype": "text/x-python",
   "name": "python",
   "nbconvert_exporter": "python",
   "pygments_lexer": "ipython3",
   "version": "3.5.4"
  }
 },
 "nbformat": 4,
 "nbformat_minor": 2
}

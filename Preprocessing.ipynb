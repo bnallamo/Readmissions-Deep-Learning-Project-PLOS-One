{
 "cells": [
  {
   "cell_type": "code",
   "execution_count": 2,
   "metadata": {},
   "outputs": [
    {
     "data": {
      "text/html": [
       "\n",
       "<script>\n",
       "  function code_toggle() {\n",
       "    if (code_shown){\n",
       "      $('div.input').hide('500');\n",
       "      $('#toggleButton').val('Show Code')\n",
       "    } else {\n",
       "      $('div.input').show('500');\n",
       "      $('#toggleButton').val('Hide Code')\n",
       "    }\n",
       "    code_shown = !code_shown\n",
       "  }\n",
       "\n",
       "  $( document ).ready(function(){\n",
       "    code_shown=false;\n",
       "    $('div.input').hide()\n",
       "  });\n",
       "</script>\n",
       "<form action=\"javascript:code_toggle()\"><input type=\"submit\" id=\"toggleButton\" value=\"Show Code\"></form>\n"
      ],
      "text/plain": [
       "<IPython.core.display.HTML object>"
      ]
     },
     "execution_count": 2,
     "metadata": {},
     "output_type": "execute_result"
    }
   ],
   "source": [
    "from IPython.display import HTML\n",
    "HTML('''\n",
    "<script>\n",
    "  function code_toggle() {\n",
    "    if (code_shown){\n",
    "      $('div.input').hide('500');\n",
    "      $('#toggleButton').val('Show Code')\n",
    "    } else {\n",
    "      $('div.input').show('500');\n",
    "      $('#toggleButton').val('Hide Code')\n",
    "    }\n",
    "    code_shown = !code_shown\n",
    "  }\n",
    "\n",
    "  $( document ).ready(function(){\n",
    "    code_shown=false;\n",
    "    $('div.input').hide()\n",
    "  });\n",
    "</script>\n",
    "<form action=\"javascript:code_toggle()\"><input type=\"submit\" id=\"toggleButton\" value=\"Show Code\"></form>\n",
    "''')"
   ]
  },
  {
   "cell_type": "markdown",
   "metadata": {},
   "source": [
    "# Preprocessing of the NRD data"
   ]
  },
  {
   "cell_type": "code",
   "execution_count": 1,
   "metadata": {},
   "outputs": [],
   "source": [
    "import pandas as pd\n",
    "import numpy as np\n",
    "import matplotlib.pyplot as plt\n",
    "import time"
   ]
  },
  {
   "cell_type": "code",
   "execution_count": 2,
   "metadata": {},
   "outputs": [],
   "source": [
    "pd.set_option('display.expand_frame_repr', False)"
   ]
  },
  {
   "cell_type": "code",
   "execution_count": 2,
   "metadata": {},
   "outputs": [],
   "source": [
    "%matplotlib inline"
   ]
  },
  {
   "cell_type": "code",
   "execution_count": 2,
   "metadata": {},
   "outputs": [],
   "source": [
    "path = '/nfs/turbo/intmed-bnallamo-turbo/wsliu/Data/NRD/'"
   ]
  },
  {
   "cell_type": "code",
   "execution_count": 2,
   "metadata": {},
   "outputs": [],
   "source": [
    "path = '/nfs/turbo/umms-awaljee/wsliu/Data/NRD/'"
   ]
  },
  {
   "cell_type": "code",
   "execution_count": 3,
   "metadata": {},
   "outputs": [],
   "source": [
    "from ccs_tools import dx_multi, pr_multi, dx_label, core_cols, core_dtypes_pd, na_values"
   ]
  },
  {
   "cell_type": "markdown",
   "metadata": {},
   "source": [
    "## Code Frequency Collection"
   ]
  },
  {
   "cell_type": "code",
   "execution_count": 4,
   "metadata": {},
   "outputs": [],
   "source": [
    "DXs = ['DX'+str(j) for j in range(2, 31)]\n",
    "PRs = ['PR'+str(j) for j in range(1, 16)]"
   ]
  },
  {
   "cell_type": "code",
   "execution_count": 5,
   "metadata": {},
   "outputs": [],
   "source": [
    "DX1_freq = pd.DataFrame(dict(DX1=dx_multi.ICD9CM_CODE, frequency=0), index=dx_multi.index)\n",
    "DX_freq = pd.DataFrame(dict(DX=dx_multi.ICD9CM_CODE, frequency=0), index=dx_multi.index)\n",
    "PR_freq = pd.DataFrame(dict(PR=pr_multi.ICD9CM_CODE, frequency=0), index=pr_multi.index)"
   ]
  },
  {
   "cell_type": "code",
   "execution_count": 6,
   "metadata": {},
   "outputs": [],
   "source": [
    "chunked = pd.read_table(path+'raw/2014/NRD_2014_Core.CSV', sep=',', \n",
    "                           header = None, \n",
    "                           names=core_cols, \n",
    "                           dtype=core_dtypes_pd, \n",
    "                           na_values=na_values, \n",
    "                           chunksize=10**6)"
   ]
  },
  {
   "cell_type": "code",
   "execution_count": 18,
   "metadata": {},
   "outputs": [],
   "source": [
    "chunk = next(chunked)"
   ]
  },
  {
   "cell_type": "code",
   "execution_count": 32,
   "metadata": {},
   "outputs": [
    {
     "name": "stdout",
     "output_type": "stream",
     "text": [
      "19.4794020652771\n"
     ]
    }
   ],
   "source": [
    "start = time.time()\n",
    "chunk = next(chunked)\n",
    "print(time.time()-start)"
   ]
  },
  {
   "cell_type": "code",
   "execution_count": 41,
   "metadata": {
    "scrolled": true
   },
   "outputs": [
    {
     "name": "stdout",
     "output_type": "stream",
     "text": [
      "Chunk 0 is finished. It takes 22.1 sec.\n",
      "Chunk 1 is finished. It takes 22.0 sec.\n",
      "Chunk 2 is finished. It takes 21.9 sec.\n",
      "Chunk 3 is finished. It takes 22.1 sec.\n",
      "Chunk 4 is finished. It takes 21.9 sec.\n",
      "Chunk 5 is finished. It takes 22.0 sec.\n",
      "Chunk 6 is finished. It takes 22.6 sec.\n",
      "Chunk 7 is finished. It takes 22.6 sec.\n",
      "Chunk 8 is finished. It takes 22.2 sec.\n",
      "Chunk 9 is finished. It takes 22.4 sec.\n",
      "Chunk 10 is finished. It takes 22.1 sec.\n",
      "Chunk 11 is finished. It takes 22.2 sec.\n",
      "Chunk 12 is finished. It takes 22.3 sec.\n",
      "Chunk 13 is finished. It takes 22.2 sec.\n",
      "Chunk 14 is finished. It takes 19.6 sec.\n"
     ]
    }
   ],
   "source": [
    "chunk_id = 0\n",
    "start = time.time()\n",
    "for chunk in chunked:\n",
    "    dx1_counts = chunk.DX1.value_counts()\n",
    "    dx1_counts = dx1_counts.loc[dx1_counts.index.isin(DX1_freq.index)]\n",
    "    DX1_freq.loc[dx1_counts.index, 'frequency'] += dx1_counts.values\n",
    "    for dx in DXs:\n",
    "        dx_counts = chunk[dx].value_counts()\n",
    "        dx_counts = dx_counts.loc[dx_counts.index.isin(DX_freq.index)]\n",
    "        DX_freq.loc[dx_counts.index, 'frequency'] += dx_counts.values\n",
    "    for pr in PRs:\n",
    "        pr_counts = chunk[pr].value_counts()\n",
    "        pr_counts = pr_counts.loc[pr_counts.index.isin(PR_freq.index)]\n",
    "        PR_freq.loc[pr_counts.index, 'frequency'] += pr_counts.values\n",
    "    print('Chunk {} is finished. It takes {:.1f} sec.'.format(chunk_id, time.time()-start))\n",
    "    chunk_id += 1\n",
    "    start = time.time()"
   ]
  },
  {
   "cell_type": "code",
   "execution_count": 49,
   "metadata": {},
   "outputs": [],
   "source": [
    "DX1_freq.to_csv(path+'all/DX1_freq.csv', index=False)\n",
    "DX_freq.to_csv(path+'all/DX_freq.csv', index=False)\n",
    "PR_freq.to_csv(path+'all/PR_freq.csv', index=False)"
   ]
  },
  {
   "cell_type": "markdown",
   "metadata": {},
   "source": [
    "Frequency collection for elder patients (age>=65):"
   ]
  },
  {
   "cell_type": "code",
   "execution_count": 7,
   "metadata": {
    "scrolled": true
   },
   "outputs": [
    {
     "name": "stdout",
     "output_type": "stream",
     "text": [
      "Chunk 0 is finished. It takes 24.6 sec. Number of rows read: 378771\n",
      "Chunk 1 is finished. It takes 24.6 sec. Number of rows read: 398947\n",
      "Chunk 2 is finished. It takes 24.2 sec. Number of rows read: 384172\n",
      "Chunk 3 is finished. It takes 23.8 sec. Number of rows read: 359940\n",
      "Chunk 4 is finished. It takes 23.0 sec. Number of rows read: 386499\n",
      "Chunk 5 is finished. It takes 23.2 sec. Number of rows read: 361630\n",
      "Chunk 6 is finished. It takes 23.6 sec. Number of rows read: 372699\n",
      "Chunk 7 is finished. It takes 23.8 sec. Number of rows read: 389833\n",
      "Chunk 8 is finished. It takes 24.1 sec. Number of rows read: 372696\n",
      "Chunk 9 is finished. It takes 24.7 sec. Number of rows read: 377942\n",
      "Chunk 10 is finished. It takes 25.2 sec. Number of rows read: 370472\n",
      "Chunk 11 is finished. It takes 24.9 sec. Number of rows read: 373009\n",
      "Chunk 12 is finished. It takes 25.3 sec. Number of rows read: 406832\n",
      "Chunk 13 is finished. It takes 25.3 sec. Number of rows read: 389709\n",
      "Chunk 14 is finished. It takes 21.3 sec. Number of rows read: 350415\n"
     ]
    }
   ],
   "source": [
    "chunk_id = 0\n",
    "start = time.time()\n",
    "for chunk in chunked:\n",
    "    elder = chunk.loc[chunk.AGE>=65]\n",
    "    dx1_counts = elder.DX1.value_counts()\n",
    "    dx1_counts = dx1_counts.loc[dx1_counts.index.isin(DX1_freq.index)]\n",
    "    DX1_freq.loc[dx1_counts.index, 'frequency'] += dx1_counts.values\n",
    "    for dx in DXs:\n",
    "        dx_counts = elder[dx].value_counts()\n",
    "        dx_counts = dx_counts.loc[dx_counts.index.isin(DX_freq.index)]\n",
    "        DX_freq.loc[dx_counts.index, 'frequency'] += dx_counts.values\n",
    "    for pr in PRs:\n",
    "        pr_counts = elder[pr].value_counts()\n",
    "        pr_counts = pr_counts.loc[pr_counts.index.isin(PR_freq.index)]\n",
    "        PR_freq.loc[pr_counts.index, 'frequency'] += pr_counts.values\n",
    "    print('Chunk {} is finished. It takes {:.1f} sec.'.format(chunk_id, time.time()-start), \n",
    "          'Number of rows read: {}'.format(len(elder)))\n",
    "    chunk_id += 1\n",
    "    start = time.time()"
   ]
  },
  {
   "cell_type": "code",
   "execution_count": 12,
   "metadata": {},
   "outputs": [
    {
     "data": {
      "text/plain": [
       "0.26811305732484075"
      ]
     },
     "execution_count": 12,
     "metadata": {},
     "output_type": "execute_result"
    }
   ],
   "source": [
    "sum(DX1_freq.frequency>10)/len(DX1_freq)"
   ]
  },
  {
   "cell_type": "code",
   "execution_count": 13,
   "metadata": {},
   "outputs": [
    {
     "data": {
      "text/plain": [
       "0.47724256900212314"
      ]
     },
     "execution_count": 13,
     "metadata": {},
     "output_type": "execute_result"
    }
   ],
   "source": [
    "sum(DX_freq.frequency>10)/len(DX_freq)"
   ]
  },
  {
   "cell_type": "code",
   "execution_count": 14,
   "metadata": {},
   "outputs": [
    {
     "data": {
      "text/plain": [
       "0.660081053698075"
      ]
     },
     "execution_count": 14,
     "metadata": {},
     "output_type": "execute_result"
    }
   ],
   "source": [
    "sum(PR_freq.frequency>10)/len(PR_freq)"
   ]
  },
  {
   "cell_type": "code",
   "execution_count": 15,
   "metadata": {},
   "outputs": [],
   "source": [
    "DX1_freq.to_csv(path+'elder/DX1_freq.csv', index=False)\n",
    "DX_freq.to_csv(path+'elder/DX_freq.csv', index=False)\n",
    "PR_freq.to_csv(path+'elder/PR_freq.csv', index=False)"
   ]
  },
  {
   "cell_type": "markdown",
   "metadata": {},
   "source": [
    "## Age and Gender Summary"
   ]
  },
  {
   "cell_type": "code",
   "execution_count": 6,
   "metadata": {},
   "outputs": [],
   "source": [
    "chunked = pd.read_table(path+'raw/2014/NRD_2014_Core.CSV', sep=',', \n",
    "                           header = None, \n",
    "                           names=core_cols, \n",
    "                           dtype=core_dtypes_pd, \n",
    "                           na_values=na_values, \n",
    "                           chunksize=10**6)"
   ]
  },
  {
   "cell_type": "code",
   "execution_count": 7,
   "metadata": {},
   "outputs": [
    {
     "name": "stdout",
     "output_type": "stream",
     "text": [
      "Chunk 0 finished.\n",
      "Chunk 1 finished.\n",
      "Chunk 2 finished.\n",
      "Chunk 3 finished.\n",
      "Chunk 4 finished.\n",
      "Chunk 5 finished.\n",
      "Chunk 6 finished.\n",
      "Chunk 7 finished.\n",
      "Chunk 8 finished.\n",
      "Chunk 9 finished.\n",
      "Chunk 10 finished.\n",
      "Chunk 11 finished.\n",
      "Chunk 12 finished.\n",
      "Chunk 13 finished.\n",
      "Chunk 14 finished.\n"
     ]
    }
   ],
   "source": [
    "sub = pd.DataFrame()\n",
    "chunk_id = 0\n",
    "for chunk in chunked:\n",
    "    sub1 = chunk[['KEY_NRD', 'NRD_VisitLink', 'AGE', 'FEMALE']]\n",
    "    sub = pd.concat([sub, sub1])\n",
    "    print('Chunk', chunk_id, 'finished.')\n",
    "    chunk_id += 1"
   ]
  },
  {
   "cell_type": "code",
   "execution_count": 10,
   "metadata": {},
   "outputs": [
    {
     "data": {
      "text/plain": [
       "(52.801208396619636, 24.75132234357384)"
      ]
     },
     "execution_count": 10,
     "metadata": {},
     "output_type": "execute_result"
    }
   ],
   "source": [
    "sub.AGE.mean(), sub.AGE.std()"
   ]
  },
  {
   "cell_type": "code",
   "execution_count": 9,
   "metadata": {},
   "outputs": [
    {
     "data": {
      "text/plain": [
       "0.5806308629838184"
      ]
     },
     "execution_count": 9,
     "metadata": {},
     "output_type": "execute_result"
    }
   ],
   "source": [
    "sub.FEMALE.mean()"
   ]
  },
  {
   "cell_type": "code",
   "execution_count": 8,
   "metadata": {},
   "outputs": [
    {
     "data": {
      "text/plain": [
       "(14894613, 4)"
      ]
     },
     "execution_count": 8,
     "metadata": {},
     "output_type": "execute_result"
    }
   ],
   "source": [
    "sub.shape"
   ]
  },
  {
   "cell_type": "code",
   "execution_count": 15,
   "metadata": {},
   "outputs": [],
   "source": [
    "sub.to_csv(path+'age_gender.csv', index=False)"
   ]
  },
  {
   "cell_type": "markdown",
   "metadata": {},
   "source": [
    "## Creating readmission labels\n",
    "In this section we create two labels for each admission: (1) whether this admission is planned (2) whether this admission is followed by a 30-day readmission. This applies to admission with all DX1. \n",
    "\n",
    "Defining the variable(coloumn) names, data types, and missing values (these are extracted from the NRD SAS load programs):"
   ]
  },
  {
   "cell_type": "code",
   "execution_count": 6,
   "metadata": {},
   "outputs": [],
   "source": [
    "from ccs_tools import core_dtypes_pd, core_cols, core_labels, core_dtypes_logic, na_values"
   ]
  },
  {
   "cell_type": "code",
   "execution_count": 6,
   "metadata": {},
   "outputs": [],
   "source": [
    "core_var_lst = pd.DataFrame(dict(var=core_cols, label=core_labels, dtype_logic=core_dtypes_logic))"
   ]
  },
  {
   "cell_type": "code",
   "execution_count": 6,
   "metadata": {
    "scrolled": true
   },
   "outputs": [
    {
     "data": {
      "text/html": [
       "<div>\n",
       "<style scoped>\n",
       "    .dataframe tbody tr th:only-of-type {\n",
       "        vertical-align: middle;\n",
       "    }\n",
       "\n",
       "    .dataframe tbody tr th {\n",
       "        vertical-align: top;\n",
       "    }\n",
       "\n",
       "    .dataframe thead th {\n",
       "        text-align: right;\n",
       "    }\n",
       "</style>\n",
       "<table border=\"1\" class=\"dataframe\">\n",
       "  <thead>\n",
       "    <tr style=\"text-align: right;\">\n",
       "      <th></th>\n",
       "      <th>dtype_logic</th>\n",
       "      <th>label</th>\n",
       "      <th>var</th>\n",
       "    </tr>\n",
       "  </thead>\n",
       "  <tbody>\n",
       "    <tr>\n",
       "      <th>0</th>\n",
       "      <td>continuous</td>\n",
       "      <td>Age in years at admission</td>\n",
       "      <td>AGE</td>\n",
       "    </tr>\n",
       "    <tr>\n",
       "      <th>1</th>\n",
       "      <td>categorical</td>\n",
       "      <td>Admission day is a weekend</td>\n",
       "      <td>AWEEKEND</td>\n",
       "    </tr>\n",
       "    <tr>\n",
       "      <th>2</th>\n",
       "      <td>categorical</td>\n",
       "      <td>Died during hospitalization</td>\n",
       "      <td>DIED</td>\n",
       "    </tr>\n",
       "    <tr>\n",
       "      <th>3</th>\n",
       "      <td>continuous</td>\n",
       "      <td>Weight to discharges in AHA universe</td>\n",
       "      <td>DISCWT</td>\n",
       "    </tr>\n",
       "    <tr>\n",
       "      <th>4</th>\n",
       "      <td>categorical</td>\n",
       "      <td>Disposition of patient (uniform)</td>\n",
       "      <td>DISPUNIFORM</td>\n",
       "    </tr>\n",
       "    <tr>\n",
       "      <th>5</th>\n",
       "      <td>categorical</td>\n",
       "      <td>Discharge month</td>\n",
       "      <td>DMONTH</td>\n",
       "    </tr>\n",
       "    <tr>\n",
       "      <th>6</th>\n",
       "      <td>categorical</td>\n",
       "      <td>Discharge quarter</td>\n",
       "      <td>DQTR</td>\n",
       "    </tr>\n",
       "    <tr>\n",
       "      <th>7</th>\n",
       "      <td>categorical</td>\n",
       "      <td>DRG in effect on discharge date</td>\n",
       "      <td>DRG</td>\n",
       "    </tr>\n",
       "    <tr>\n",
       "      <th>8</th>\n",
       "      <td>categorical</td>\n",
       "      <td>DRG grouper version used on discharge date</td>\n",
       "      <td>DRGVER</td>\n",
       "    </tr>\n",
       "    <tr>\n",
       "      <th>9</th>\n",
       "      <td>categorical</td>\n",
       "      <td>DRG in use on discharge date, calculated witho...</td>\n",
       "      <td>DRG_NoPOA</td>\n",
       "    </tr>\n",
       "    <tr>\n",
       "      <th>10</th>\n",
       "      <td>embedding</td>\n",
       "      <td>Diagnosis 1</td>\n",
       "      <td>DX1</td>\n",
       "    </tr>\n",
       "    <tr>\n",
       "      <th>11</th>\n",
       "      <td>embedding</td>\n",
       "      <td>Diagnosis 2</td>\n",
       "      <td>DX2</td>\n",
       "    </tr>\n",
       "    <tr>\n",
       "      <th>12</th>\n",
       "      <td>embedding</td>\n",
       "      <td>Diagnosis 3</td>\n",
       "      <td>DX3</td>\n",
       "    </tr>\n",
       "    <tr>\n",
       "      <th>13</th>\n",
       "      <td>embedding</td>\n",
       "      <td>Diagnosis 4</td>\n",
       "      <td>DX4</td>\n",
       "    </tr>\n",
       "    <tr>\n",
       "      <th>14</th>\n",
       "      <td>embedding</td>\n",
       "      <td>Diagnosis 5</td>\n",
       "      <td>DX5</td>\n",
       "    </tr>\n",
       "    <tr>\n",
       "      <th>15</th>\n",
       "      <td>embedding</td>\n",
       "      <td>Diagnosis 6</td>\n",
       "      <td>DX6</td>\n",
       "    </tr>\n",
       "    <tr>\n",
       "      <th>16</th>\n",
       "      <td>embedding</td>\n",
       "      <td>Diagnosis 7</td>\n",
       "      <td>DX7</td>\n",
       "    </tr>\n",
       "    <tr>\n",
       "      <th>17</th>\n",
       "      <td>embedding</td>\n",
       "      <td>Diagnosis 8</td>\n",
       "      <td>DX8</td>\n",
       "    </tr>\n",
       "    <tr>\n",
       "      <th>18</th>\n",
       "      <td>embedding</td>\n",
       "      <td>Diagnosis 9</td>\n",
       "      <td>DX9</td>\n",
       "    </tr>\n",
       "    <tr>\n",
       "      <th>19</th>\n",
       "      <td>embedding</td>\n",
       "      <td>Diagnosis 10</td>\n",
       "      <td>DX10</td>\n",
       "    </tr>\n",
       "    <tr>\n",
       "      <th>20</th>\n",
       "      <td>embedding</td>\n",
       "      <td>Diagnosis 11</td>\n",
       "      <td>DX11</td>\n",
       "    </tr>\n",
       "    <tr>\n",
       "      <th>21</th>\n",
       "      <td>embedding</td>\n",
       "      <td>Diagnosis 12</td>\n",
       "      <td>DX12</td>\n",
       "    </tr>\n",
       "    <tr>\n",
       "      <th>22</th>\n",
       "      <td>embedding</td>\n",
       "      <td>Diagnosis 13</td>\n",
       "      <td>DX13</td>\n",
       "    </tr>\n",
       "    <tr>\n",
       "      <th>23</th>\n",
       "      <td>embedding</td>\n",
       "      <td>Diagnosis 14</td>\n",
       "      <td>DX14</td>\n",
       "    </tr>\n",
       "    <tr>\n",
       "      <th>24</th>\n",
       "      <td>embedding</td>\n",
       "      <td>Diagnosis 15</td>\n",
       "      <td>DX15</td>\n",
       "    </tr>\n",
       "    <tr>\n",
       "      <th>25</th>\n",
       "      <td>embedding</td>\n",
       "      <td>Diagnosis 16</td>\n",
       "      <td>DX16</td>\n",
       "    </tr>\n",
       "    <tr>\n",
       "      <th>26</th>\n",
       "      <td>embedding</td>\n",
       "      <td>Diagnosis 17</td>\n",
       "      <td>DX17</td>\n",
       "    </tr>\n",
       "    <tr>\n",
       "      <th>27</th>\n",
       "      <td>embedding</td>\n",
       "      <td>Diagnosis 18</td>\n",
       "      <td>DX18</td>\n",
       "    </tr>\n",
       "    <tr>\n",
       "      <th>28</th>\n",
       "      <td>embedding</td>\n",
       "      <td>Diagnosis 19</td>\n",
       "      <td>DX19</td>\n",
       "    </tr>\n",
       "    <tr>\n",
       "      <th>29</th>\n",
       "      <td>embedding</td>\n",
       "      <td>Diagnosis 20</td>\n",
       "      <td>DX20</td>\n",
       "    </tr>\n",
       "    <tr>\n",
       "      <th>30</th>\n",
       "      <td>embedding</td>\n",
       "      <td>Diagnosis 21</td>\n",
       "      <td>DX21</td>\n",
       "    </tr>\n",
       "    <tr>\n",
       "      <th>31</th>\n",
       "      <td>embedding</td>\n",
       "      <td>Diagnosis 22</td>\n",
       "      <td>DX22</td>\n",
       "    </tr>\n",
       "    <tr>\n",
       "      <th>32</th>\n",
       "      <td>embedding</td>\n",
       "      <td>Diagnosis 23</td>\n",
       "      <td>DX23</td>\n",
       "    </tr>\n",
       "    <tr>\n",
       "      <th>33</th>\n",
       "      <td>embedding</td>\n",
       "      <td>Diagnosis 24</td>\n",
       "      <td>DX24</td>\n",
       "    </tr>\n",
       "    <tr>\n",
       "      <th>34</th>\n",
       "      <td>embedding</td>\n",
       "      <td>Diagnosis 25</td>\n",
       "      <td>DX25</td>\n",
       "    </tr>\n",
       "    <tr>\n",
       "      <th>35</th>\n",
       "      <td>embedding</td>\n",
       "      <td>Diagnosis 26</td>\n",
       "      <td>DX26</td>\n",
       "    </tr>\n",
       "    <tr>\n",
       "      <th>36</th>\n",
       "      <td>embedding</td>\n",
       "      <td>Diagnosis 27</td>\n",
       "      <td>DX27</td>\n",
       "    </tr>\n",
       "    <tr>\n",
       "      <th>37</th>\n",
       "      <td>embedding</td>\n",
       "      <td>Diagnosis 28</td>\n",
       "      <td>DX28</td>\n",
       "    </tr>\n",
       "    <tr>\n",
       "      <th>38</th>\n",
       "      <td>embedding</td>\n",
       "      <td>Diagnosis 29</td>\n",
       "      <td>DX29</td>\n",
       "    </tr>\n",
       "    <tr>\n",
       "      <th>39</th>\n",
       "      <td>embedding</td>\n",
       "      <td>Diagnosis 30</td>\n",
       "      <td>DX30</td>\n",
       "    </tr>\n",
       "    <tr>\n",
       "      <th>40</th>\n",
       "      <td>categorical</td>\n",
       "      <td>CCS: diagnosis 1</td>\n",
       "      <td>DXCCS1</td>\n",
       "    </tr>\n",
       "    <tr>\n",
       "      <th>41</th>\n",
       "      <td>categorical</td>\n",
       "      <td>CCS: diagnosis 2</td>\n",
       "      <td>DXCCS2</td>\n",
       "    </tr>\n",
       "    <tr>\n",
       "      <th>42</th>\n",
       "      <td>categorical</td>\n",
       "      <td>CCS: diagnosis 3</td>\n",
       "      <td>DXCCS3</td>\n",
       "    </tr>\n",
       "    <tr>\n",
       "      <th>43</th>\n",
       "      <td>categorical</td>\n",
       "      <td>CCS: diagnosis 4</td>\n",
       "      <td>DXCCS4</td>\n",
       "    </tr>\n",
       "    <tr>\n",
       "      <th>44</th>\n",
       "      <td>categorical</td>\n",
       "      <td>CCS: diagnosis 5</td>\n",
       "      <td>DXCCS5</td>\n",
       "    </tr>\n",
       "    <tr>\n",
       "      <th>45</th>\n",
       "      <td>categorical</td>\n",
       "      <td>CCS: diagnosis 6</td>\n",
       "      <td>DXCCS6</td>\n",
       "    </tr>\n",
       "    <tr>\n",
       "      <th>46</th>\n",
       "      <td>categorical</td>\n",
       "      <td>CCS: diagnosis 7</td>\n",
       "      <td>DXCCS7</td>\n",
       "    </tr>\n",
       "    <tr>\n",
       "      <th>47</th>\n",
       "      <td>categorical</td>\n",
       "      <td>CCS: diagnosis 8</td>\n",
       "      <td>DXCCS8</td>\n",
       "    </tr>\n",
       "    <tr>\n",
       "      <th>48</th>\n",
       "      <td>categorical</td>\n",
       "      <td>CCS: diagnosis 9</td>\n",
       "      <td>DXCCS9</td>\n",
       "    </tr>\n",
       "    <tr>\n",
       "      <th>49</th>\n",
       "      <td>categorical</td>\n",
       "      <td>CCS: diagnosis 10</td>\n",
       "      <td>DXCCS10</td>\n",
       "    </tr>\n",
       "    <tr>\n",
       "      <th>50</th>\n",
       "      <td>categorical</td>\n",
       "      <td>CCS: diagnosis 11</td>\n",
       "      <td>DXCCS11</td>\n",
       "    </tr>\n",
       "    <tr>\n",
       "      <th>51</th>\n",
       "      <td>categorical</td>\n",
       "      <td>CCS: diagnosis 12</td>\n",
       "      <td>DXCCS12</td>\n",
       "    </tr>\n",
       "    <tr>\n",
       "      <th>52</th>\n",
       "      <td>categorical</td>\n",
       "      <td>CCS: diagnosis 13</td>\n",
       "      <td>DXCCS13</td>\n",
       "    </tr>\n",
       "    <tr>\n",
       "      <th>53</th>\n",
       "      <td>categorical</td>\n",
       "      <td>CCS: diagnosis 14</td>\n",
       "      <td>DXCCS14</td>\n",
       "    </tr>\n",
       "    <tr>\n",
       "      <th>54</th>\n",
       "      <td>categorical</td>\n",
       "      <td>CCS: diagnosis 15</td>\n",
       "      <td>DXCCS15</td>\n",
       "    </tr>\n",
       "    <tr>\n",
       "      <th>55</th>\n",
       "      <td>categorical</td>\n",
       "      <td>CCS: diagnosis 16</td>\n",
       "      <td>DXCCS16</td>\n",
       "    </tr>\n",
       "    <tr>\n",
       "      <th>56</th>\n",
       "      <td>categorical</td>\n",
       "      <td>CCS: diagnosis 17</td>\n",
       "      <td>DXCCS17</td>\n",
       "    </tr>\n",
       "    <tr>\n",
       "      <th>57</th>\n",
       "      <td>categorical</td>\n",
       "      <td>CCS: diagnosis 18</td>\n",
       "      <td>DXCCS18</td>\n",
       "    </tr>\n",
       "    <tr>\n",
       "      <th>58</th>\n",
       "      <td>categorical</td>\n",
       "      <td>CCS: diagnosis 19</td>\n",
       "      <td>DXCCS19</td>\n",
       "    </tr>\n",
       "    <tr>\n",
       "      <th>59</th>\n",
       "      <td>categorical</td>\n",
       "      <td>CCS: diagnosis 20</td>\n",
       "      <td>DXCCS20</td>\n",
       "    </tr>\n",
       "    <tr>\n",
       "      <th>60</th>\n",
       "      <td>categorical</td>\n",
       "      <td>CCS: diagnosis 21</td>\n",
       "      <td>DXCCS21</td>\n",
       "    </tr>\n",
       "    <tr>\n",
       "      <th>61</th>\n",
       "      <td>categorical</td>\n",
       "      <td>CCS: diagnosis 22</td>\n",
       "      <td>DXCCS22</td>\n",
       "    </tr>\n",
       "    <tr>\n",
       "      <th>62</th>\n",
       "      <td>categorical</td>\n",
       "      <td>CCS: diagnosis 23</td>\n",
       "      <td>DXCCS23</td>\n",
       "    </tr>\n",
       "    <tr>\n",
       "      <th>63</th>\n",
       "      <td>categorical</td>\n",
       "      <td>CCS: diagnosis 24</td>\n",
       "      <td>DXCCS24</td>\n",
       "    </tr>\n",
       "    <tr>\n",
       "      <th>64</th>\n",
       "      <td>categorical</td>\n",
       "      <td>CCS: diagnosis 25</td>\n",
       "      <td>DXCCS25</td>\n",
       "    </tr>\n",
       "    <tr>\n",
       "      <th>65</th>\n",
       "      <td>categorical</td>\n",
       "      <td>CCS: diagnosis 26</td>\n",
       "      <td>DXCCS26</td>\n",
       "    </tr>\n",
       "    <tr>\n",
       "      <th>66</th>\n",
       "      <td>categorical</td>\n",
       "      <td>CCS: diagnosis 27</td>\n",
       "      <td>DXCCS27</td>\n",
       "    </tr>\n",
       "    <tr>\n",
       "      <th>67</th>\n",
       "      <td>categorical</td>\n",
       "      <td>CCS: diagnosis 28</td>\n",
       "      <td>DXCCS28</td>\n",
       "    </tr>\n",
       "    <tr>\n",
       "      <th>68</th>\n",
       "      <td>categorical</td>\n",
       "      <td>CCS: diagnosis 29</td>\n",
       "      <td>DXCCS29</td>\n",
       "    </tr>\n",
       "    <tr>\n",
       "      <th>69</th>\n",
       "      <td>categorical</td>\n",
       "      <td>CCS: diagnosis 30</td>\n",
       "      <td>DXCCS30</td>\n",
       "    </tr>\n",
       "    <tr>\n",
       "      <th>70</th>\n",
       "      <td>embedding</td>\n",
       "      <td>E code 1</td>\n",
       "      <td>ECODE1</td>\n",
       "    </tr>\n",
       "    <tr>\n",
       "      <th>71</th>\n",
       "      <td>embedding</td>\n",
       "      <td>E code 2</td>\n",
       "      <td>ECODE2</td>\n",
       "    </tr>\n",
       "    <tr>\n",
       "      <th>72</th>\n",
       "      <td>embedding</td>\n",
       "      <td>E code 3</td>\n",
       "      <td>ECODE3</td>\n",
       "    </tr>\n",
       "    <tr>\n",
       "      <th>73</th>\n",
       "      <td>embedding</td>\n",
       "      <td>E code 4</td>\n",
       "      <td>ECODE4</td>\n",
       "    </tr>\n",
       "    <tr>\n",
       "      <th>74</th>\n",
       "      <td>categorical</td>\n",
       "      <td>Elective versus non-elective admission</td>\n",
       "      <td>ELECTIVE</td>\n",
       "    </tr>\n",
       "    <tr>\n",
       "      <th>75</th>\n",
       "      <td>categorical</td>\n",
       "      <td>CCS: E Code 1</td>\n",
       "      <td>E_CCS1</td>\n",
       "    </tr>\n",
       "    <tr>\n",
       "      <th>76</th>\n",
       "      <td>categorical</td>\n",
       "      <td>CCS: E Code 2</td>\n",
       "      <td>E_CCS2</td>\n",
       "    </tr>\n",
       "    <tr>\n",
       "      <th>77</th>\n",
       "      <td>categorical</td>\n",
       "      <td>CCS: E Code 3</td>\n",
       "      <td>E_CCS3</td>\n",
       "    </tr>\n",
       "    <tr>\n",
       "      <th>78</th>\n",
       "      <td>categorical</td>\n",
       "      <td>CCS: E Code 4</td>\n",
       "      <td>E_CCS4</td>\n",
       "    </tr>\n",
       "    <tr>\n",
       "      <th>79</th>\n",
       "      <td>categorical</td>\n",
       "      <td>Indicator of sex</td>\n",
       "      <td>FEMALE</td>\n",
       "    </tr>\n",
       "    <tr>\n",
       "      <th>80</th>\n",
       "      <td>categorical</td>\n",
       "      <td>HCUP Emergency Department service indicator</td>\n",
       "      <td>HCUP_ED</td>\n",
       "    </tr>\n",
       "    <tr>\n",
       "      <th>81</th>\n",
       "      <td>categorical</td>\n",
       "      <td>NRD hospital identifier</td>\n",
       "      <td>HOSP_NRD</td>\n",
       "    </tr>\n",
       "    <tr>\n",
       "      <th>82</th>\n",
       "      <td>categorical</td>\n",
       "      <td>NRD record identifier</td>\n",
       "      <td>KEY_NRD</td>\n",
       "    </tr>\n",
       "    <tr>\n",
       "      <th>83</th>\n",
       "      <td>continuous</td>\n",
       "      <td>Length of stay (cleaned)</td>\n",
       "      <td>LOS</td>\n",
       "    </tr>\n",
       "    <tr>\n",
       "      <th>84</th>\n",
       "      <td>categorical</td>\n",
       "      <td>MDC in effect on discharge date</td>\n",
       "      <td>MDC</td>\n",
       "    </tr>\n",
       "    <tr>\n",
       "      <th>85</th>\n",
       "      <td>categorical</td>\n",
       "      <td>MDC in use on discharge date, calculated witho...</td>\n",
       "      <td>MDC_NoPOA</td>\n",
       "    </tr>\n",
       "    <tr>\n",
       "      <th>86</th>\n",
       "      <td>categorical</td>\n",
       "      <td>Number of chronic conditions</td>\n",
       "      <td>NCHRONIC</td>\n",
       "    </tr>\n",
       "    <tr>\n",
       "      <th>87</th>\n",
       "      <td>categorical</td>\n",
       "      <td>Number of diagnoses on this record</td>\n",
       "      <td>NDX</td>\n",
       "    </tr>\n",
       "    <tr>\n",
       "      <th>88</th>\n",
       "      <td>categorical</td>\n",
       "      <td>Number of E codes on this record</td>\n",
       "      <td>NECODE</td>\n",
       "    </tr>\n",
       "    <tr>\n",
       "      <th>89</th>\n",
       "      <td>categorical</td>\n",
       "      <td>Number of procedures on this record</td>\n",
       "      <td>NPR</td>\n",
       "    </tr>\n",
       "    <tr>\n",
       "      <th>90</th>\n",
       "      <td>continuous</td>\n",
       "      <td>Timing variable used to identify days between ...</td>\n",
       "      <td>NRD_DaysToEvent</td>\n",
       "    </tr>\n",
       "    <tr>\n",
       "      <th>91</th>\n",
       "      <td>categorical</td>\n",
       "      <td>NRD stratum used for weighting</td>\n",
       "      <td>NRD_STRATUM</td>\n",
       "    </tr>\n",
       "    <tr>\n",
       "      <th>92</th>\n",
       "      <td>embedding</td>\n",
       "      <td>NRD visitlink</td>\n",
       "      <td>NRD_VisitLink</td>\n",
       "    </tr>\n",
       "    <tr>\n",
       "      <th>93</th>\n",
       "      <td>categorical</td>\n",
       "      <td>Major operating room procedure indicator</td>\n",
       "      <td>ORPROC</td>\n",
       "    </tr>\n",
       "    <tr>\n",
       "      <th>94</th>\n",
       "      <td>categorical</td>\n",
       "      <td>Primary expected payer (uniform)</td>\n",
       "      <td>PAY1</td>\n",
       "    </tr>\n",
       "    <tr>\n",
       "      <th>95</th>\n",
       "      <td>categorical</td>\n",
       "      <td>Patient Location: NCHS Urban-Rural Code</td>\n",
       "      <td>PL_NCHS</td>\n",
       "    </tr>\n",
       "    <tr>\n",
       "      <th>96</th>\n",
       "      <td>embedding</td>\n",
       "      <td>Procedure 1</td>\n",
       "      <td>PR1</td>\n",
       "    </tr>\n",
       "    <tr>\n",
       "      <th>97</th>\n",
       "      <td>embedding</td>\n",
       "      <td>Procedure 2</td>\n",
       "      <td>PR2</td>\n",
       "    </tr>\n",
       "    <tr>\n",
       "      <th>98</th>\n",
       "      <td>embedding</td>\n",
       "      <td>Procedure 3</td>\n",
       "      <td>PR3</td>\n",
       "    </tr>\n",
       "    <tr>\n",
       "      <th>99</th>\n",
       "      <td>embedding</td>\n",
       "      <td>Procedure 4</td>\n",
       "      <td>PR4</td>\n",
       "    </tr>\n",
       "    <tr>\n",
       "      <th>100</th>\n",
       "      <td>embedding</td>\n",
       "      <td>Procedure 5</td>\n",
       "      <td>PR5</td>\n",
       "    </tr>\n",
       "    <tr>\n",
       "      <th>101</th>\n",
       "      <td>embedding</td>\n",
       "      <td>Procedure 6</td>\n",
       "      <td>PR6</td>\n",
       "    </tr>\n",
       "    <tr>\n",
       "      <th>102</th>\n",
       "      <td>embedding</td>\n",
       "      <td>Procedure 7</td>\n",
       "      <td>PR7</td>\n",
       "    </tr>\n",
       "    <tr>\n",
       "      <th>103</th>\n",
       "      <td>embedding</td>\n",
       "      <td>Procedure 8</td>\n",
       "      <td>PR8</td>\n",
       "    </tr>\n",
       "    <tr>\n",
       "      <th>104</th>\n",
       "      <td>embedding</td>\n",
       "      <td>Procedure 9</td>\n",
       "      <td>PR9</td>\n",
       "    </tr>\n",
       "    <tr>\n",
       "      <th>105</th>\n",
       "      <td>embedding</td>\n",
       "      <td>Procedure 10</td>\n",
       "      <td>PR10</td>\n",
       "    </tr>\n",
       "    <tr>\n",
       "      <th>106</th>\n",
       "      <td>embedding</td>\n",
       "      <td>Procedure 11</td>\n",
       "      <td>PR11</td>\n",
       "    </tr>\n",
       "    <tr>\n",
       "      <th>107</th>\n",
       "      <td>embedding</td>\n",
       "      <td>Procedure 12</td>\n",
       "      <td>PR12</td>\n",
       "    </tr>\n",
       "    <tr>\n",
       "      <th>108</th>\n",
       "      <td>embedding</td>\n",
       "      <td>Procedure 13</td>\n",
       "      <td>PR13</td>\n",
       "    </tr>\n",
       "    <tr>\n",
       "      <th>109</th>\n",
       "      <td>embedding</td>\n",
       "      <td>Procedure 14</td>\n",
       "      <td>PR14</td>\n",
       "    </tr>\n",
       "    <tr>\n",
       "      <th>110</th>\n",
       "      <td>embedding</td>\n",
       "      <td>Procedure 15</td>\n",
       "      <td>PR15</td>\n",
       "    </tr>\n",
       "    <tr>\n",
       "      <th>111</th>\n",
       "      <td>categorical</td>\n",
       "      <td>CCS: procedure 1</td>\n",
       "      <td>PRCCS1</td>\n",
       "    </tr>\n",
       "    <tr>\n",
       "      <th>112</th>\n",
       "      <td>categorical</td>\n",
       "      <td>CCS: procedure 2</td>\n",
       "      <td>PRCCS2</td>\n",
       "    </tr>\n",
       "    <tr>\n",
       "      <th>113</th>\n",
       "      <td>categorical</td>\n",
       "      <td>CCS: procedure 3</td>\n",
       "      <td>PRCCS3</td>\n",
       "    </tr>\n",
       "    <tr>\n",
       "      <th>114</th>\n",
       "      <td>categorical</td>\n",
       "      <td>CCS: procedure 4</td>\n",
       "      <td>PRCCS4</td>\n",
       "    </tr>\n",
       "    <tr>\n",
       "      <th>115</th>\n",
       "      <td>categorical</td>\n",
       "      <td>CCS: procedure 5</td>\n",
       "      <td>PRCCS5</td>\n",
       "    </tr>\n",
       "    <tr>\n",
       "      <th>116</th>\n",
       "      <td>categorical</td>\n",
       "      <td>CCS: procedure 6</td>\n",
       "      <td>PRCCS6</td>\n",
       "    </tr>\n",
       "    <tr>\n",
       "      <th>117</th>\n",
       "      <td>categorical</td>\n",
       "      <td>CCS: procedure 7</td>\n",
       "      <td>PRCCS7</td>\n",
       "    </tr>\n",
       "    <tr>\n",
       "      <th>118</th>\n",
       "      <td>categorical</td>\n",
       "      <td>CCS: procedure 8</td>\n",
       "      <td>PRCCS8</td>\n",
       "    </tr>\n",
       "    <tr>\n",
       "      <th>119</th>\n",
       "      <td>categorical</td>\n",
       "      <td>CCS: procedure 9</td>\n",
       "      <td>PRCCS9</td>\n",
       "    </tr>\n",
       "    <tr>\n",
       "      <th>120</th>\n",
       "      <td>categorical</td>\n",
       "      <td>CCS: procedure 10</td>\n",
       "      <td>PRCCS10</td>\n",
       "    </tr>\n",
       "    <tr>\n",
       "      <th>121</th>\n",
       "      <td>categorical</td>\n",
       "      <td>CCS: procedure 11</td>\n",
       "      <td>PRCCS11</td>\n",
       "    </tr>\n",
       "    <tr>\n",
       "      <th>122</th>\n",
       "      <td>categorical</td>\n",
       "      <td>CCS: procedure 12</td>\n",
       "      <td>PRCCS12</td>\n",
       "    </tr>\n",
       "    <tr>\n",
       "      <th>123</th>\n",
       "      <td>categorical</td>\n",
       "      <td>CCS: procedure 13</td>\n",
       "      <td>PRCCS13</td>\n",
       "    </tr>\n",
       "    <tr>\n",
       "      <th>124</th>\n",
       "      <td>categorical</td>\n",
       "      <td>CCS: procedure 14</td>\n",
       "      <td>PRCCS14</td>\n",
       "    </tr>\n",
       "    <tr>\n",
       "      <th>125</th>\n",
       "      <td>categorical</td>\n",
       "      <td>CCS: procedure 15</td>\n",
       "      <td>PRCCS15</td>\n",
       "    </tr>\n",
       "    <tr>\n",
       "      <th>126</th>\n",
       "      <td>continuous</td>\n",
       "      <td>Number of days from admission to PR1</td>\n",
       "      <td>PRDAY1</td>\n",
       "    </tr>\n",
       "    <tr>\n",
       "      <th>127</th>\n",
       "      <td>continuous</td>\n",
       "      <td>Number of days from admission to PR2</td>\n",
       "      <td>PRDAY2</td>\n",
       "    </tr>\n",
       "    <tr>\n",
       "      <th>128</th>\n",
       "      <td>continuous</td>\n",
       "      <td>Number of days from admission to PR3</td>\n",
       "      <td>PRDAY3</td>\n",
       "    </tr>\n",
       "    <tr>\n",
       "      <th>129</th>\n",
       "      <td>continuous</td>\n",
       "      <td>Number of days from admission to PR4</td>\n",
       "      <td>PRDAY4</td>\n",
       "    </tr>\n",
       "    <tr>\n",
       "      <th>130</th>\n",
       "      <td>continuous</td>\n",
       "      <td>Number of days from admission to PR5</td>\n",
       "      <td>PRDAY5</td>\n",
       "    </tr>\n",
       "    <tr>\n",
       "      <th>131</th>\n",
       "      <td>continuous</td>\n",
       "      <td>Number of days from admission to PR6</td>\n",
       "      <td>PRDAY6</td>\n",
       "    </tr>\n",
       "    <tr>\n",
       "      <th>132</th>\n",
       "      <td>continuous</td>\n",
       "      <td>Number of days from admission to PR7</td>\n",
       "      <td>PRDAY7</td>\n",
       "    </tr>\n",
       "    <tr>\n",
       "      <th>133</th>\n",
       "      <td>continuous</td>\n",
       "      <td>Number of days from admission to PR8</td>\n",
       "      <td>PRDAY8</td>\n",
       "    </tr>\n",
       "    <tr>\n",
       "      <th>134</th>\n",
       "      <td>continuous</td>\n",
       "      <td>Number of days from admission to PR9</td>\n",
       "      <td>PRDAY9</td>\n",
       "    </tr>\n",
       "    <tr>\n",
       "      <th>135</th>\n",
       "      <td>continuous</td>\n",
       "      <td>Number of days from admission to PR10</td>\n",
       "      <td>PRDAY10</td>\n",
       "    </tr>\n",
       "    <tr>\n",
       "      <th>136</th>\n",
       "      <td>continuous</td>\n",
       "      <td>Number of days from admission to PR11</td>\n",
       "      <td>PRDAY11</td>\n",
       "    </tr>\n",
       "    <tr>\n",
       "      <th>137</th>\n",
       "      <td>continuous</td>\n",
       "      <td>Number of days from admission to PR12</td>\n",
       "      <td>PRDAY12</td>\n",
       "    </tr>\n",
       "    <tr>\n",
       "      <th>138</th>\n",
       "      <td>continuous</td>\n",
       "      <td>Number of days from admission to PR13</td>\n",
       "      <td>PRDAY13</td>\n",
       "    </tr>\n",
       "    <tr>\n",
       "      <th>139</th>\n",
       "      <td>continuous</td>\n",
       "      <td>Number of days from admission to PR14</td>\n",
       "      <td>PRDAY14</td>\n",
       "    </tr>\n",
       "    <tr>\n",
       "      <th>140</th>\n",
       "      <td>continuous</td>\n",
       "      <td>Number of days from admission to PR15</td>\n",
       "      <td>PRDAY15</td>\n",
       "    </tr>\n",
       "    <tr>\n",
       "      <th>141</th>\n",
       "      <td>categorical</td>\n",
       "      <td>A combined record involving rehab transfer</td>\n",
       "      <td>REHABTRANSFER</td>\n",
       "    </tr>\n",
       "    <tr>\n",
       "      <th>142</th>\n",
       "      <td>categorical</td>\n",
       "      <td>Patient State is the same as Hospital State</td>\n",
       "      <td>RESIDENT</td>\n",
       "    </tr>\n",
       "    <tr>\n",
       "      <th>143</th>\n",
       "      <td>categorical</td>\n",
       "      <td>Transfer flag indicating combination of discha...</td>\n",
       "      <td>SAMEDAYEVENT</td>\n",
       "    </tr>\n",
       "    <tr>\n",
       "      <th>144</th>\n",
       "      <td>categorical</td>\n",
       "      <td>Hospital Service Line</td>\n",
       "      <td>SERVICELINE</td>\n",
       "    </tr>\n",
       "    <tr>\n",
       "      <th>145</th>\n",
       "      <td>continuous</td>\n",
       "      <td>Total charges (cleaned)</td>\n",
       "      <td>TOTCHG</td>\n",
       "    </tr>\n",
       "    <tr>\n",
       "      <th>146</th>\n",
       "      <td>categorical</td>\n",
       "      <td>Calendar year</td>\n",
       "      <td>YEAR</td>\n",
       "    </tr>\n",
       "    <tr>\n",
       "      <th>147</th>\n",
       "      <td>categorical</td>\n",
       "      <td>Median household income national quartile for ...</td>\n",
       "      <td>ZIPINC_QRTL</td>\n",
       "    </tr>\n",
       "  </tbody>\n",
       "</table>\n",
       "</div>"
      ],
      "text/plain": [
       "     dtype_logic                                              label  \\\n",
       "0     continuous                          Age in years at admission   \n",
       "1    categorical                         Admission day is a weekend   \n",
       "2    categorical                        Died during hospitalization   \n",
       "3     continuous               Weight to discharges in AHA universe   \n",
       "4    categorical                   Disposition of patient (uniform)   \n",
       "5    categorical                                    Discharge month   \n",
       "6    categorical                                  Discharge quarter   \n",
       "7    categorical                    DRG in effect on discharge date   \n",
       "8    categorical         DRG grouper version used on discharge date   \n",
       "9    categorical  DRG in use on discharge date, calculated witho...   \n",
       "10     embedding                                        Diagnosis 1   \n",
       "11     embedding                                        Diagnosis 2   \n",
       "12     embedding                                        Diagnosis 3   \n",
       "13     embedding                                        Diagnosis 4   \n",
       "14     embedding                                        Diagnosis 5   \n",
       "15     embedding                                        Diagnosis 6   \n",
       "16     embedding                                        Diagnosis 7   \n",
       "17     embedding                                        Diagnosis 8   \n",
       "18     embedding                                        Diagnosis 9   \n",
       "19     embedding                                       Diagnosis 10   \n",
       "20     embedding                                       Diagnosis 11   \n",
       "21     embedding                                       Diagnosis 12   \n",
       "22     embedding                                       Diagnosis 13   \n",
       "23     embedding                                       Diagnosis 14   \n",
       "24     embedding                                       Diagnosis 15   \n",
       "25     embedding                                       Diagnosis 16   \n",
       "26     embedding                                       Diagnosis 17   \n",
       "27     embedding                                       Diagnosis 18   \n",
       "28     embedding                                       Diagnosis 19   \n",
       "29     embedding                                       Diagnosis 20   \n",
       "30     embedding                                       Diagnosis 21   \n",
       "31     embedding                                       Diagnosis 22   \n",
       "32     embedding                                       Diagnosis 23   \n",
       "33     embedding                                       Diagnosis 24   \n",
       "34     embedding                                       Diagnosis 25   \n",
       "35     embedding                                       Diagnosis 26   \n",
       "36     embedding                                       Diagnosis 27   \n",
       "37     embedding                                       Diagnosis 28   \n",
       "38     embedding                                       Diagnosis 29   \n",
       "39     embedding                                       Diagnosis 30   \n",
       "40   categorical                                   CCS: diagnosis 1   \n",
       "41   categorical                                   CCS: diagnosis 2   \n",
       "42   categorical                                   CCS: diagnosis 3   \n",
       "43   categorical                                   CCS: diagnosis 4   \n",
       "44   categorical                                   CCS: diagnosis 5   \n",
       "45   categorical                                   CCS: diagnosis 6   \n",
       "46   categorical                                   CCS: diagnosis 7   \n",
       "47   categorical                                   CCS: diagnosis 8   \n",
       "48   categorical                                   CCS: diagnosis 9   \n",
       "49   categorical                                  CCS: diagnosis 10   \n",
       "50   categorical                                  CCS: diagnosis 11   \n",
       "51   categorical                                  CCS: diagnosis 12   \n",
       "52   categorical                                  CCS: diagnosis 13   \n",
       "53   categorical                                  CCS: diagnosis 14   \n",
       "54   categorical                                  CCS: diagnosis 15   \n",
       "55   categorical                                  CCS: diagnosis 16   \n",
       "56   categorical                                  CCS: diagnosis 17   \n",
       "57   categorical                                  CCS: diagnosis 18   \n",
       "58   categorical                                  CCS: diagnosis 19   \n",
       "59   categorical                                  CCS: diagnosis 20   \n",
       "60   categorical                                  CCS: diagnosis 21   \n",
       "61   categorical                                  CCS: diagnosis 22   \n",
       "62   categorical                                  CCS: diagnosis 23   \n",
       "63   categorical                                  CCS: diagnosis 24   \n",
       "64   categorical                                  CCS: diagnosis 25   \n",
       "65   categorical                                  CCS: diagnosis 26   \n",
       "66   categorical                                  CCS: diagnosis 27   \n",
       "67   categorical                                  CCS: diagnosis 28   \n",
       "68   categorical                                  CCS: diagnosis 29   \n",
       "69   categorical                                  CCS: diagnosis 30   \n",
       "70     embedding                                           E code 1   \n",
       "71     embedding                                           E code 2   \n",
       "72     embedding                                           E code 3   \n",
       "73     embedding                                           E code 4   \n",
       "74   categorical             Elective versus non-elective admission   \n",
       "75   categorical                                      CCS: E Code 1   \n",
       "76   categorical                                      CCS: E Code 2   \n",
       "77   categorical                                      CCS: E Code 3   \n",
       "78   categorical                                      CCS: E Code 4   \n",
       "79   categorical                                   Indicator of sex   \n",
       "80   categorical        HCUP Emergency Department service indicator   \n",
       "81   categorical                            NRD hospital identifier   \n",
       "82   categorical                              NRD record identifier   \n",
       "83    continuous                           Length of stay (cleaned)   \n",
       "84   categorical                    MDC in effect on discharge date   \n",
       "85   categorical  MDC in use on discharge date, calculated witho...   \n",
       "86   categorical                       Number of chronic conditions   \n",
       "87   categorical                 Number of diagnoses on this record   \n",
       "88   categorical                   Number of E codes on this record   \n",
       "89   categorical                Number of procedures on this record   \n",
       "90    continuous  Timing variable used to identify days between ...   \n",
       "91   categorical                     NRD stratum used for weighting   \n",
       "92     embedding                                      NRD visitlink   \n",
       "93   categorical           Major operating room procedure indicator   \n",
       "94   categorical                   Primary expected payer (uniform)   \n",
       "95   categorical            Patient Location: NCHS Urban-Rural Code   \n",
       "96     embedding                                        Procedure 1   \n",
       "97     embedding                                        Procedure 2   \n",
       "98     embedding                                        Procedure 3   \n",
       "99     embedding                                        Procedure 4   \n",
       "100    embedding                                        Procedure 5   \n",
       "101    embedding                                        Procedure 6   \n",
       "102    embedding                                        Procedure 7   \n",
       "103    embedding                                        Procedure 8   \n",
       "104    embedding                                        Procedure 9   \n",
       "105    embedding                                       Procedure 10   \n",
       "106    embedding                                       Procedure 11   \n",
       "107    embedding                                       Procedure 12   \n",
       "108    embedding                                       Procedure 13   \n",
       "109    embedding                                       Procedure 14   \n",
       "110    embedding                                       Procedure 15   \n",
       "111  categorical                                   CCS: procedure 1   \n",
       "112  categorical                                   CCS: procedure 2   \n",
       "113  categorical                                   CCS: procedure 3   \n",
       "114  categorical                                   CCS: procedure 4   \n",
       "115  categorical                                   CCS: procedure 5   \n",
       "116  categorical                                   CCS: procedure 6   \n",
       "117  categorical                                   CCS: procedure 7   \n",
       "118  categorical                                   CCS: procedure 8   \n",
       "119  categorical                                   CCS: procedure 9   \n",
       "120  categorical                                  CCS: procedure 10   \n",
       "121  categorical                                  CCS: procedure 11   \n",
       "122  categorical                                  CCS: procedure 12   \n",
       "123  categorical                                  CCS: procedure 13   \n",
       "124  categorical                                  CCS: procedure 14   \n",
       "125  categorical                                  CCS: procedure 15   \n",
       "126   continuous               Number of days from admission to PR1   \n",
       "127   continuous               Number of days from admission to PR2   \n",
       "128   continuous               Number of days from admission to PR3   \n",
       "129   continuous               Number of days from admission to PR4   \n",
       "130   continuous               Number of days from admission to PR5   \n",
       "131   continuous               Number of days from admission to PR6   \n",
       "132   continuous               Number of days from admission to PR7   \n",
       "133   continuous               Number of days from admission to PR8   \n",
       "134   continuous               Number of days from admission to PR9   \n",
       "135   continuous              Number of days from admission to PR10   \n",
       "136   continuous              Number of days from admission to PR11   \n",
       "137   continuous              Number of days from admission to PR12   \n",
       "138   continuous              Number of days from admission to PR13   \n",
       "139   continuous              Number of days from admission to PR14   \n",
       "140   continuous              Number of days from admission to PR15   \n",
       "141  categorical         A combined record involving rehab transfer   \n",
       "142  categorical        Patient State is the same as Hospital State   \n",
       "143  categorical  Transfer flag indicating combination of discha...   \n",
       "144  categorical                              Hospital Service Line   \n",
       "145   continuous                            Total charges (cleaned)   \n",
       "146  categorical                                      Calendar year   \n",
       "147  categorical  Median household income national quartile for ...   \n",
       "\n",
       "                 var  \n",
       "0                AGE  \n",
       "1           AWEEKEND  \n",
       "2               DIED  \n",
       "3             DISCWT  \n",
       "4        DISPUNIFORM  \n",
       "5             DMONTH  \n",
       "6               DQTR  \n",
       "7                DRG  \n",
       "8             DRGVER  \n",
       "9          DRG_NoPOA  \n",
       "10               DX1  \n",
       "11               DX2  \n",
       "12               DX3  \n",
       "13               DX4  \n",
       "14               DX5  \n",
       "15               DX6  \n",
       "16               DX7  \n",
       "17               DX8  \n",
       "18               DX9  \n",
       "19              DX10  \n",
       "20              DX11  \n",
       "21              DX12  \n",
       "22              DX13  \n",
       "23              DX14  \n",
       "24              DX15  \n",
       "25              DX16  \n",
       "26              DX17  \n",
       "27              DX18  \n",
       "28              DX19  \n",
       "29              DX20  \n",
       "30              DX21  \n",
       "31              DX22  \n",
       "32              DX23  \n",
       "33              DX24  \n",
       "34              DX25  \n",
       "35              DX26  \n",
       "36              DX27  \n",
       "37              DX28  \n",
       "38              DX29  \n",
       "39              DX30  \n",
       "40            DXCCS1  \n",
       "41            DXCCS2  \n",
       "42            DXCCS3  \n",
       "43            DXCCS4  \n",
       "44            DXCCS5  \n",
       "45            DXCCS6  \n",
       "46            DXCCS7  \n",
       "47            DXCCS8  \n",
       "48            DXCCS9  \n",
       "49           DXCCS10  \n",
       "50           DXCCS11  \n",
       "51           DXCCS12  \n",
       "52           DXCCS13  \n",
       "53           DXCCS14  \n",
       "54           DXCCS15  \n",
       "55           DXCCS16  \n",
       "56           DXCCS17  \n",
       "57           DXCCS18  \n",
       "58           DXCCS19  \n",
       "59           DXCCS20  \n",
       "60           DXCCS21  \n",
       "61           DXCCS22  \n",
       "62           DXCCS23  \n",
       "63           DXCCS24  \n",
       "64           DXCCS25  \n",
       "65           DXCCS26  \n",
       "66           DXCCS27  \n",
       "67           DXCCS28  \n",
       "68           DXCCS29  \n",
       "69           DXCCS30  \n",
       "70            ECODE1  \n",
       "71            ECODE2  \n",
       "72            ECODE3  \n",
       "73            ECODE4  \n",
       "74          ELECTIVE  \n",
       "75            E_CCS1  \n",
       "76            E_CCS2  \n",
       "77            E_CCS3  \n",
       "78            E_CCS4  \n",
       "79            FEMALE  \n",
       "80           HCUP_ED  \n",
       "81          HOSP_NRD  \n",
       "82           KEY_NRD  \n",
       "83               LOS  \n",
       "84               MDC  \n",
       "85         MDC_NoPOA  \n",
       "86          NCHRONIC  \n",
       "87               NDX  \n",
       "88            NECODE  \n",
       "89               NPR  \n",
       "90   NRD_DaysToEvent  \n",
       "91       NRD_STRATUM  \n",
       "92     NRD_VisitLink  \n",
       "93            ORPROC  \n",
       "94              PAY1  \n",
       "95           PL_NCHS  \n",
       "96               PR1  \n",
       "97               PR2  \n",
       "98               PR3  \n",
       "99               PR4  \n",
       "100              PR5  \n",
       "101              PR6  \n",
       "102              PR7  \n",
       "103              PR8  \n",
       "104              PR9  \n",
       "105             PR10  \n",
       "106             PR11  \n",
       "107             PR12  \n",
       "108             PR13  \n",
       "109             PR14  \n",
       "110             PR15  \n",
       "111           PRCCS1  \n",
       "112           PRCCS2  \n",
       "113           PRCCS3  \n",
       "114           PRCCS4  \n",
       "115           PRCCS5  \n",
       "116           PRCCS6  \n",
       "117           PRCCS7  \n",
       "118           PRCCS8  \n",
       "119           PRCCS9  \n",
       "120          PRCCS10  \n",
       "121          PRCCS11  \n",
       "122          PRCCS12  \n",
       "123          PRCCS13  \n",
       "124          PRCCS14  \n",
       "125          PRCCS15  \n",
       "126           PRDAY1  \n",
       "127           PRDAY2  \n",
       "128           PRDAY3  \n",
       "129           PRDAY4  \n",
       "130           PRDAY5  \n",
       "131           PRDAY6  \n",
       "132           PRDAY7  \n",
       "133           PRDAY8  \n",
       "134           PRDAY9  \n",
       "135          PRDAY10  \n",
       "136          PRDAY11  \n",
       "137          PRDAY12  \n",
       "138          PRDAY13  \n",
       "139          PRDAY14  \n",
       "140          PRDAY15  \n",
       "141    REHABTRANSFER  \n",
       "142         RESIDENT  \n",
       "143     SAMEDAYEVENT  \n",
       "144      SERVICELINE  \n",
       "145           TOTCHG  \n",
       "146             YEAR  \n",
       "147      ZIPINC_QRTL  "
      ]
     },
     "metadata": {},
     "output_type": "display_data"
    }
   ],
   "source": [
    "with pd.option_context('display.max_rows', None, 'display.max_columns', 3):\n",
    "    display(core_var_lst)"
   ]
  },
  {
   "cell_type": "markdown",
   "metadata": {},
   "source": [
    "Read the Core data file by chunks, and extract only the variables useful for label creation:"
   ]
  },
  {
   "cell_type": "code",
   "execution_count": 7,
   "metadata": {},
   "outputs": [],
   "source": [
    "PRs = ['PR'+str(j) for j in range(1, 16)]\n",
    "PRCCSs = ['PRCCS'+str(j) for j in range(1, 16)]"
   ]
  },
  {
   "cell_type": "code",
   "execution_count": 5,
   "metadata": {},
   "outputs": [],
   "source": [
    "chunked = pd.read_table(path+'raw/2014/NRD_2014_Core.CSV', sep=',', \n",
    "                           header = None, \n",
    "                           names=core_cols, \n",
    "                           dtype=core_dtypes_pd, \n",
    "                           na_values=na_values, \n",
    "                           chunksize=10**6)"
   ]
  },
  {
   "cell_type": "code",
   "execution_count": 6,
   "metadata": {},
   "outputs": [
    {
     "name": "stdout",
     "output_type": "stream",
     "text": [
      "Chunk 1 finished: 999943 rows are read.\n",
      "Chunk 2 finished: 999951 rows are read.\n",
      "Chunk 3 finished: 999971 rows are read.\n",
      "Chunk 4 finished: 999963 rows are read.\n",
      "Chunk 5 finished: 999922 rows are read.\n",
      "Chunk 6 finished: 999899 rows are read.\n",
      "Chunk 7 finished: 999972 rows are read.\n",
      "Chunk 8 finished: 999986 rows are read.\n",
      "Chunk 9 finished: 999902 rows are read.\n",
      "Chunk 10 finished: 999816 rows are read.\n",
      "Chunk 11 finished: 999954 rows are read.\n",
      "Chunk 12 finished: 999902 rows are read.\n",
      "Chunk 13 finished: 999968 rows are read.\n",
      "Chunk 14 finished: 999897 rows are read.\n",
      "Chunk 15 finished: 894547 rows are read.\n"
     ]
    }
   ],
   "source": [
    "readm = pd.DataFrame()\n",
    "chunk_id = 1\n",
    "for chunk in chunked:\n",
    "    readm1 = chunk[['KEY_NRD', 'NRD_VisitLink', 'NRD_DaysToEvent', 'LOS', 'DX1', 'DXCCS1']+ PRs + PRCCSs]\n",
    "    readm1 = readm1.dropna(subset=['NRD_DaysToEvent', 'LOS'])\n",
    "    nrows = len(readm1)\n",
    "    readm = pd.concat([readm, readm1])\n",
    "    print('Chunk', chunk_id, 'finished:', nrows, 'rows are read.')\n",
    "    chunk_id += 1"
   ]
  },
  {
   "cell_type": "code",
   "execution_count": 7,
   "metadata": {},
   "outputs": [],
   "source": [
    "readm.to_csv(path+'temp/readmission_label.csv', index=False)"
   ]
  },
  {
   "cell_type": "code",
   "execution_count": 4,
   "metadata": {},
   "outputs": [],
   "source": [
    "readm = pd.read_csv(path+'temp/readmission_label.csv', dtype = core_dtypes_pd, low_memory=False)"
   ]
  },
  {
   "cell_type": "code",
   "execution_count": 5,
   "metadata": {},
   "outputs": [
    {
     "data": {
      "text/plain": [
       "(14893593, 36)"
      ]
     },
     "execution_count": 5,
     "metadata": {},
     "output_type": "execute_result"
    }
   ],
   "source": [
    "readm.shape"
   ]
  },
  {
   "cell_type": "code",
   "execution_count": 17,
   "metadata": {},
   "outputs": [
    {
     "data": {
      "text/html": [
       "<div>\n",
       "<style scoped>\n",
       "    .dataframe tbody tr th:only-of-type {\n",
       "        vertical-align: middle;\n",
       "    }\n",
       "\n",
       "    .dataframe tbody tr th {\n",
       "        vertical-align: top;\n",
       "    }\n",
       "\n",
       "    .dataframe thead th {\n",
       "        text-align: right;\n",
       "    }\n",
       "</style>\n",
       "<table border=\"1\" class=\"dataframe\">\n",
       "  <thead>\n",
       "    <tr style=\"text-align: right;\">\n",
       "      <th></th>\n",
       "      <th>KEY_NRD</th>\n",
       "      <th>NRD_VisitLink</th>\n",
       "      <th>NRD_DaysToEvent</th>\n",
       "      <th>LOS</th>\n",
       "      <th>DX1</th>\n",
       "      <th>DXCCS1</th>\n",
       "      <th>PR1</th>\n",
       "      <th>PR2</th>\n",
       "      <th>PR3</th>\n",
       "      <th>PR4</th>\n",
       "      <th>...</th>\n",
       "      <th>PRCCS6</th>\n",
       "      <th>PRCCS7</th>\n",
       "      <th>PRCCS8</th>\n",
       "      <th>PRCCS9</th>\n",
       "      <th>PRCCS10</th>\n",
       "      <th>PRCCS11</th>\n",
       "      <th>PRCCS12</th>\n",
       "      <th>PRCCS13</th>\n",
       "      <th>PRCCS14</th>\n",
       "      <th>PRCCS15</th>\n",
       "    </tr>\n",
       "  </thead>\n",
       "  <tbody>\n",
       "    <tr>\n",
       "      <th>14893588</th>\n",
       "      <td>24880143.0</td>\n",
       "      <td>bye60ik</td>\n",
       "      <td>16646.0</td>\n",
       "      <td>1.0</td>\n",
       "      <td>29620</td>\n",
       "      <td>657.0</td>\n",
       "      <td>NaN</td>\n",
       "      <td>NaN</td>\n",
       "      <td>NaN</td>\n",
       "      <td>NaN</td>\n",
       "      <td>...</td>\n",
       "      <td>NaN</td>\n",
       "      <td>NaN</td>\n",
       "      <td>NaN</td>\n",
       "      <td>NaN</td>\n",
       "      <td>NaN</td>\n",
       "      <td>NaN</td>\n",
       "      <td>NaN</td>\n",
       "      <td>NaN</td>\n",
       "      <td>NaN</td>\n",
       "      <td>NaN</td>\n",
       "    </tr>\n",
       "    <tr>\n",
       "      <th>14893589</th>\n",
       "      <td>24887512.0</td>\n",
       "      <td>bylxy1a</td>\n",
       "      <td>13377.0</td>\n",
       "      <td>5.0</td>\n",
       "      <td>2989</td>\n",
       "      <td>659.0</td>\n",
       "      <td>NaN</td>\n",
       "      <td>NaN</td>\n",
       "      <td>NaN</td>\n",
       "      <td>NaN</td>\n",
       "      <td>...</td>\n",
       "      <td>NaN</td>\n",
       "      <td>NaN</td>\n",
       "      <td>NaN</td>\n",
       "      <td>NaN</td>\n",
       "      <td>NaN</td>\n",
       "      <td>NaN</td>\n",
       "      <td>NaN</td>\n",
       "      <td>NaN</td>\n",
       "      <td>NaN</td>\n",
       "      <td>NaN</td>\n",
       "    </tr>\n",
       "    <tr>\n",
       "      <th>14893590</th>\n",
       "      <td>24887821.0</td>\n",
       "      <td>bkes6v9</td>\n",
       "      <td>15272.0</td>\n",
       "      <td>2.0</td>\n",
       "      <td>2989</td>\n",
       "      <td>659.0</td>\n",
       "      <td>NaN</td>\n",
       "      <td>NaN</td>\n",
       "      <td>NaN</td>\n",
       "      <td>NaN</td>\n",
       "      <td>...</td>\n",
       "      <td>NaN</td>\n",
       "      <td>NaN</td>\n",
       "      <td>NaN</td>\n",
       "      <td>NaN</td>\n",
       "      <td>NaN</td>\n",
       "      <td>NaN</td>\n",
       "      <td>NaN</td>\n",
       "      <td>NaN</td>\n",
       "      <td>NaN</td>\n",
       "      <td>NaN</td>\n",
       "    </tr>\n",
       "    <tr>\n",
       "      <th>14893591</th>\n",
       "      <td>24890729.0</td>\n",
       "      <td>brsdnem</td>\n",
       "      <td>13832.0</td>\n",
       "      <td>5.0</td>\n",
       "      <td>29680</td>\n",
       "      <td>657.0</td>\n",
       "      <td>NaN</td>\n",
       "      <td>NaN</td>\n",
       "      <td>NaN</td>\n",
       "      <td>NaN</td>\n",
       "      <td>...</td>\n",
       "      <td>NaN</td>\n",
       "      <td>NaN</td>\n",
       "      <td>NaN</td>\n",
       "      <td>NaN</td>\n",
       "      <td>NaN</td>\n",
       "      <td>NaN</td>\n",
       "      <td>NaN</td>\n",
       "      <td>NaN</td>\n",
       "      <td>NaN</td>\n",
       "      <td>NaN</td>\n",
       "    </tr>\n",
       "    <tr>\n",
       "      <th>14893592</th>\n",
       "      <td>24893855.0</td>\n",
       "      <td>b0twdwx</td>\n",
       "      <td>17098.0</td>\n",
       "      <td>5.0</td>\n",
       "      <td>29690</td>\n",
       "      <td>657.0</td>\n",
       "      <td>NaN</td>\n",
       "      <td>NaN</td>\n",
       "      <td>NaN</td>\n",
       "      <td>NaN</td>\n",
       "      <td>...</td>\n",
       "      <td>NaN</td>\n",
       "      <td>NaN</td>\n",
       "      <td>NaN</td>\n",
       "      <td>NaN</td>\n",
       "      <td>NaN</td>\n",
       "      <td>NaN</td>\n",
       "      <td>NaN</td>\n",
       "      <td>NaN</td>\n",
       "      <td>NaN</td>\n",
       "      <td>NaN</td>\n",
       "    </tr>\n",
       "  </tbody>\n",
       "</table>\n",
       "<p>5 rows × 36 columns</p>\n",
       "</div>"
      ],
      "text/plain": [
       "             KEY_NRD NRD_VisitLink  NRD_DaysToEvent  LOS    DX1  DXCCS1  PR1  \\\n",
       "14893588  24880143.0       bye60ik          16646.0  1.0  29620   657.0  NaN   \n",
       "14893589  24887512.0       bylxy1a          13377.0  5.0   2989   659.0  NaN   \n",
       "14893590  24887821.0       bkes6v9          15272.0  2.0   2989   659.0  NaN   \n",
       "14893591  24890729.0       brsdnem          13832.0  5.0  29680   657.0  NaN   \n",
       "14893592  24893855.0       b0twdwx          17098.0  5.0  29690   657.0  NaN   \n",
       "\n",
       "          PR2  PR3  PR4   ...   PRCCS6 PRCCS7 PRCCS8 PRCCS9 PRCCS10 PRCCS11  \\\n",
       "14893588  NaN  NaN  NaN   ...      NaN    NaN    NaN    NaN     NaN     NaN   \n",
       "14893589  NaN  NaN  NaN   ...      NaN    NaN    NaN    NaN     NaN     NaN   \n",
       "14893590  NaN  NaN  NaN   ...      NaN    NaN    NaN    NaN     NaN     NaN   \n",
       "14893591  NaN  NaN  NaN   ...      NaN    NaN    NaN    NaN     NaN     NaN   \n",
       "14893592  NaN  NaN  NaN   ...      NaN    NaN    NaN    NaN     NaN     NaN   \n",
       "\n",
       "         PRCCS12 PRCCS13 PRCCS14 PRCCS15  \n",
       "14893588     NaN     NaN     NaN     NaN  \n",
       "14893589     NaN     NaN     NaN     NaN  \n",
       "14893590     NaN     NaN     NaN     NaN  \n",
       "14893591     NaN     NaN     NaN     NaN  \n",
       "14893592     NaN     NaN     NaN     NaN  \n",
       "\n",
       "[5 rows x 36 columns]"
      ]
     },
     "execution_count": 17,
     "metadata": {},
     "output_type": "execute_result"
    }
   ],
   "source": [
    "readm.tail()"
   ]
  },
  {
   "cell_type": "markdown",
   "metadata": {},
   "source": [
    "Sort the data by patient id and then visiting day:"
   ]
  },
  {
   "cell_type": "code",
   "execution_count": 6,
   "metadata": {},
   "outputs": [],
   "source": [
    "readm_sort = readm.sort_values(by=['NRD_VisitLink', 'NRD_DaysToEvent'])"
   ]
  },
  {
   "cell_type": "code",
   "execution_count": 17,
   "metadata": {},
   "outputs": [
    {
     "data": {
      "text/plain": [
       "(5060677, 5088149)"
      ]
     },
     "execution_count": 17,
     "metadata": {},
     "output_type": "execute_result"
    }
   ],
   "source": [
    "sum(readm['PR1'].isna()), sum(readm['PRCCS1'].isna())"
   ]
  },
  {
   "cell_type": "markdown",
   "metadata": {},
   "source": [
    "Define the code sets for Planned Readmission Algorithm (from Page 103 of \"Condition Specific Readmission Measures\"):"
   ]
  },
  {
   "cell_type": "code",
   "execution_count": 14,
   "metadata": {},
   "outputs": [],
   "source": [
    "tablePR1_PRCCS = set([64.0, 105.0, 134.0, 135.0, 176.0])\n",
    "\n",
    "tablePR2_DXCCS = set([45., 194., 196., 254.])\n",
    "\n",
    "tablePR3_PRCCS = set([1.0, 3.0, 5.0, 9.0, 10.0, 12.0, 33.0, 36.0, 38.0, 40.0, 43.0, 44.0, 45.0, 49.0, 51.0, 52.0, 53.0, 55.0, 56.0, 59.0, 66.0, 67.0, 74.0, 78.0, 79.0, 84.0, 85.0, 86.0, 99.0, 104.0, 106.0, 107.0, 109.0, 112.0, 113.0, 114.0, 119.0, 120.0, 124.0, 129.0, 132.0, 142.0, 152.0, 153.0, 154.0, 158.0, 159.0, 166.0, 167.0, 170.0, 172.0])\n",
    "\n",
    "tablePR3_PR = set(['301', '3029', '303', '304', '3174', '346', '3818', '5503', '5504', '9426', '9427'])\n",
    "\n",
    "tablePR4_DXCCS = set([1.0, 2.0, 3.0, 4.0, 5.0, 7.0, 8.0, 9.0, 54.0, 55.0, 60.0, 61.0, 63.0, 76.0, 77.0, 78.0, 82.0, 83.0, 84.0, 85.0, 87.0, 89.0, 90.0, 91.0, 92.0, 93.0, 99.0, 100.0, 102.0, 104.0, 107.0, 109.0, 112.0, 116.0, 118.0, 120.0, 122.0, 123.0, 124.0, 125.0, 126.0, 127.0, 128.0, 129.0, 130.0, 131.0, 135.0, 137.0, 139.0, 140.0, 142.0, 145.0, 146.0, 148.0, 153.0, 154.0, 157.0, 159.0, 165.0, 168.0, 172.0, 197.0, 198.0, 225.0, 226.0, 227.0, 228.0, 229.0, 230.0, 232.0, 233.0, 234.0, 235.0, 237.0, 238.0, 239.0, 240.0, 241.0, 242.0, 243.0, 244.0, 245.0, 246.0, 247.0, 249.0, 250.0, 251.0, 252.0, 253.0, 259.0, 650.0, 651.0, 652.0, 653.0, 656.0, 658.0, 660.0, 661.0, 662.0, 663.0, 670.0])\n",
    "\n",
    "tablePR4_DX = set(['03282', '03640', '03641', '03642', '03643', '07420', '07421', '07422', '07423', '11281', '11503', '11504', '11513', '11514', '11593', '11594', '1303', '3910', '3911', '3912', '3918', '3919', '3920', '3980', '39890', '39899', '4200', '42090', '42091', '42099', '4210', '4211', '4219', '4220', '42290', '42291', '42292', '42293', '42299', '4230', '4231', '4232', '4233', '4290', '42610', '42611', '42612', '42613', '4262', '4263', '4264', '42650', '42651', '42652', '42653', '4260', '42654', '4266', '4267', '42681', '42682', '4269', '42769', '42789', '4279', '7850', '4272', '4280', '4281', '42820', '42821', '42823', '42830', '42831', '42833', '42840', '42841', '42843', '4289', '39891', '57400', '57401', '57430', '57431', '57460', '57461', '57480', '57481', '5750', '57512', '5761', '5770'])"
   ]
  },
  {
   "cell_type": "code",
   "execution_count": 42,
   "metadata": {},
   "outputs": [
    {
     "data": {
      "text/plain": [
       "101"
      ]
     },
     "execution_count": 42,
     "metadata": {},
     "output_type": "execute_result"
    }
   ],
   "source": [
    "len(tablePR4_DXCCS)"
   ]
  },
  {
   "cell_type": "markdown",
   "metadata": {},
   "source": [
    "Create the \"planned\" label: 1 for planned, 0 for unplanned, based on the algorithm in \"2016 Condition-Specific Measures Updates and Specifications Report Hospital-Level 30-Day Risk-Standardized Readmission Measures\". \n",
    "\n",
    "\"The planned readmission algorithm uses a flowchart and four tables of specific procedure categories and discharge diagnosis categories to classify readmissions as planned (Appendix E). As illustrated in Figure PR.1, readmissions are considered planned if any of the following occurs during readmission:\n",
    "1. A procedure is performed that is in one of the procedure categories that are always planned regardless of diagnosis;\n",
    "2. The principal diagnosis is in one of the diagnosis categories that are always planned; or,\n",
    "3. A procedure is performed that is in one of the potentially planned procedure categories and the principal diagnosis is not in the list of acute discharge diagnoses.\""
   ]
  },
  {
   "cell_type": "code",
   "execution_count": 8,
   "metadata": {},
   "outputs": [],
   "source": [
    "readm_sort['planned'] = 0"
   ]
  },
  {
   "cell_type": "code",
   "execution_count": 9,
   "metadata": {},
   "outputs": [],
   "source": [
    "for prccs in PRCCSs:\n",
    "    readm_sort.loc[readm_sort[prccs].isin(tablePR1_PRCCS), 'planned'] = 1"
   ]
  },
  {
   "cell_type": "code",
   "execution_count": 10,
   "metadata": {},
   "outputs": [],
   "source": [
    "readm_sort.loc[readm_sort.DXCCS1.isin(tablePR2_DXCCS), 'planned'] = 1"
   ]
  },
  {
   "cell_type": "markdown",
   "metadata": {},
   "source": [
    "Label the admission with potentially planned prodedures:"
   ]
  },
  {
   "cell_type": "code",
   "execution_count": 11,
   "metadata": {},
   "outputs": [],
   "source": [
    "readm_sort['potential'] = 0\n",
    "for prccs in PRCCSs:\n",
    "    readm_sort.loc[readm_sort[prccs].isin(tablePR3_PRCCS), 'potential'] = 1\n",
    "for pr in PRs:\n",
    "    readm_sort.loc[readm_sort[pr].isin(tablePR3_PR), 'potential'] = 1"
   ]
  },
  {
   "cell_type": "markdown",
   "metadata": {},
   "source": [
    "Label the potential admissions without acute discharge diagnosis:"
   ]
  },
  {
   "cell_type": "code",
   "execution_count": 12,
   "metadata": {},
   "outputs": [],
   "source": [
    "readm_sort.loc[(readm_sort.potential==1) & (~(readm_sort.DXCCS1.isin(tablePR4_DXCCS) | readm_sort.DX1.isin(tablePR4_DX))), 'planned'] = 1"
   ]
  },
  {
   "cell_type": "code",
   "execution_count": 14,
   "metadata": {},
   "outputs": [],
   "source": [
    "readm_sort = readm_sort.drop(columns=['potential'])"
   ]
  },
  {
   "cell_type": "code",
   "execution_count": 13,
   "metadata": {
    "scrolled": true
   },
   "outputs": [
    {
     "data": {
      "text/plain": [
       "0    12130040\n",
       "1     2763553\n",
       "Name: planned, dtype: int64"
      ]
     },
     "execution_count": 13,
     "metadata": {},
     "output_type": "execute_result"
    }
   ],
   "source": [
    "readm_sort['planned'].value_counts()"
   ]
  },
  {
   "cell_type": "markdown",
   "metadata": {},
   "source": [
    "Create the readmission label:"
   ]
  },
  {
   "cell_type": "code",
   "execution_count": 15,
   "metadata": {},
   "outputs": [],
   "source": [
    "shifted = readm_sort[['NRD_VisitLink', 'NRD_DaysToEvent', 'planned']].shift(periods=-1)"
   ]
  },
  {
   "cell_type": "markdown",
   "metadata": {},
   "source": [
    "This label means whether this admission is followed by an unplanned readmission in this year:"
   ]
  },
  {
   "cell_type": "code",
   "execution_count": 16,
   "metadata": {
    "scrolled": true
   },
   "outputs": [],
   "source": [
    "readm_sort['readm'] = (readm_sort['NRD_VisitLink'] == shifted['NRD_VisitLink']) & (shifted['planned'] == False)"
   ]
  },
  {
   "cell_type": "markdown",
   "metadata": {},
   "source": [
    "The next label means whether this admission is followed by an unplanned (\"and not planned subsequent\" crossout) readmission within 30 days of discharge:"
   ]
  },
  {
   "cell_type": "code",
   "execution_count": 17,
   "metadata": {},
   "outputs": [],
   "source": [
    "readm_sort['readm30'] = (readm_sort['readm'] == True) & (readm_sort['NRD_DaysToEvent'] + readm_sort['LOS'] + 30 >= shifted['NRD_DaysToEvent'])"
   ]
  },
  {
   "cell_type": "code",
   "execution_count": 18,
   "metadata": {},
   "outputs": [
    {
     "data": {
      "text/plain": [
       "False    13205429\n",
       "True      1688164\n",
       "Name: readm30, dtype: int64"
      ]
     },
     "execution_count": 18,
     "metadata": {},
     "output_type": "execute_result"
    }
   ],
   "source": [
    "readm_sort['readm30'].value_counts()"
   ]
  },
  {
   "cell_type": "code",
   "execution_count": 19,
   "metadata": {},
   "outputs": [],
   "source": [
    "readm_sort.to_csv(path+'cohorts/readmission_labels_prdx.csv', index=False)"
   ]
  },
  {
   "cell_type": "code",
   "execution_count": 20,
   "metadata": {},
   "outputs": [],
   "source": [
    "readm_short = readm_sort[['KEY_NRD', 'planned', 'readm30']]"
   ]
  },
  {
   "cell_type": "code",
   "execution_count": 21,
   "metadata": {},
   "outputs": [],
   "source": [
    "readm_short.to_csv(path+'cohorts/readm_labels_short.csv', index=False)"
   ]
  },
  {
   "cell_type": "code",
   "execution_count": 6,
   "metadata": {},
   "outputs": [],
   "source": [
    "readm_short = pd.read_csv(path+'cohorts/readm_labels_short.csv')"
   ]
  },
  {
   "cell_type": "code",
   "execution_count": 24,
   "metadata": {
    "scrolled": true
   },
   "outputs": [
    {
     "data": {
      "text/html": [
       "<div>\n",
       "<style scoped>\n",
       "    .dataframe tbody tr th:only-of-type {\n",
       "        vertical-align: middle;\n",
       "    }\n",
       "\n",
       "    .dataframe tbody tr th {\n",
       "        vertical-align: top;\n",
       "    }\n",
       "\n",
       "    .dataframe thead th {\n",
       "        text-align: right;\n",
       "    }\n",
       "</style>\n",
       "<table border=\"1\" class=\"dataframe\">\n",
       "  <thead>\n",
       "    <tr style=\"text-align: right;\">\n",
       "      <th></th>\n",
       "      <th>KEY_NRD</th>\n",
       "      <th>planned</th>\n",
       "      <th>readm30</th>\n",
       "    </tr>\n",
       "  </thead>\n",
       "  <tbody>\n",
       "    <tr>\n",
       "      <th>0</th>\n",
       "      <td>13027615.0</td>\n",
       "      <td>0</td>\n",
       "      <td>False</td>\n",
       "    </tr>\n",
       "    <tr>\n",
       "      <th>1</th>\n",
       "      <td>17451462.0</td>\n",
       "      <td>0</td>\n",
       "      <td>False</td>\n",
       "    </tr>\n",
       "    <tr>\n",
       "      <th>2</th>\n",
       "      <td>15712009.0</td>\n",
       "      <td>0</td>\n",
       "      <td>True</td>\n",
       "    </tr>\n",
       "    <tr>\n",
       "      <th>3</th>\n",
       "      <td>11163602.0</td>\n",
       "      <td>0</td>\n",
       "      <td>False</td>\n",
       "    </tr>\n",
       "    <tr>\n",
       "      <th>4</th>\n",
       "      <td>17233979.0</td>\n",
       "      <td>0</td>\n",
       "      <td>False</td>\n",
       "    </tr>\n",
       "  </tbody>\n",
       "</table>\n",
       "</div>"
      ],
      "text/plain": [
       "      KEY_NRD  planned  readm30\n",
       "0  13027615.0        0    False\n",
       "1  17451462.0        0    False\n",
       "2  15712009.0        0     True\n",
       "3  11163602.0        0    False\n",
       "4  17233979.0        0    False"
      ]
     },
     "execution_count": 24,
     "metadata": {},
     "output_type": "execute_result"
    }
   ],
   "source": [
    "readm_short.head()"
   ]
  },
  {
   "cell_type": "code",
   "execution_count": 5,
   "metadata": {
    "scrolled": false
   },
   "outputs": [
    {
     "name": "stderr",
     "output_type": "stream",
     "text": [
      "/home/wsliu/.local/lib/python3.5/site-packages/numpy/lib/arraysetops.py:472: FutureWarning: elementwise comparison failed; returning scalar instead, but in the future will perform elementwise comparison\n",
      "  mask |= (ar1 == a)\n"
     ]
    }
   ],
   "source": [
    "readm_sort = pd.read_csv(path+'cohorts/readmission_labels.csv', dtype=core_dtypes_pd, index_col=0)"
   ]
  },
  {
   "cell_type": "markdown",
   "metadata": {},
   "source": [
    "## Creating Cohorts"
   ]
  },
  {
   "cell_type": "code",
   "execution_count": 25,
   "metadata": {},
   "outputs": [],
   "source": [
    "chunked = pd.read_table(path+'raw/2014/NRD_2014_Core.CSV', sep=',', \n",
    "                           header = None, \n",
    "                           names=core_cols, \n",
    "                           dtype=core_dtypes_pd, \n",
    "                           na_values=na_values, \n",
    "                           chunksize=10**6)"
   ]
  },
  {
   "cell_type": "markdown",
   "metadata": {},
   "source": [
    "The ICD9 diagnosis codes for the three conditions (from Devraj's paper):"
   ]
  },
  {
   "cell_type": "code",
   "execution_count": 26,
   "metadata": {},
   "outputs": [],
   "source": [
    "ami_DX = ['41000', '41001', '41010', '41011', '41020', '41021', '41030', '41031', '41040', '41041', '41050', '41051', '41060', '41061', '41070', '41071', '41080', '41081', '41090', '41091']"
   ]
  },
  {
   "cell_type": "code",
   "execution_count": 27,
   "metadata": {},
   "outputs": [],
   "source": [
    "chf_DX = ['40201', '40211', '40291', '40401', '40403', '40411', '40413', '40491', '40493', '4280', '4281', '42820', '42821', '42822', '42823', '42830', '42831', '42832', '42833', '42840', '42841', '42842', '42843', '4289']"
   ]
  },
  {
   "cell_type": "code",
   "execution_count": 28,
   "metadata": {},
   "outputs": [],
   "source": [
    "pna_DX = ['4800', '4801', '4802', '4803', '4808', '4809', '481', '4820', '4821', '4822', '48230', '48231', '48232', '48239', '48240', '48241', '48242', '48249', '48281', '48282', '48283', '48284', '48289', '4829', '4830', '4831', '4838', '485', '486', '4870', '48811', '5070']"
   ]
  },
  {
   "cell_type": "markdown",
   "metadata": {},
   "source": [
    "Extract the rows that have DX1 of the three conditions:"
   ]
  },
  {
   "cell_type": "code",
   "execution_count": 29,
   "metadata": {},
   "outputs": [],
   "source": [
    "ami = pd.DataFrame()\n",
    "chf = pd.DataFrame()\n",
    "pna = pd.DataFrame()"
   ]
  },
  {
   "cell_type": "code",
   "execution_count": 30,
   "metadata": {},
   "outputs": [
    {
     "name": "stdout",
     "output_type": "stream",
     "text": [
      "It takes 0.6 seconds to finish chunk 1. Number of rows read: ami: 18099 chf: 29686 pne: 28956\n",
      "It takes 0.9 seconds to finish chunk 2. Number of rows read: ami: 18947 chf: 31695 pne: 31912\n",
      "It takes 1.3 seconds to finish chunk 3. Number of rows read: ami: 17083 chf: 30696 pne: 31051\n",
      "It takes 1.6 seconds to finish chunk 4. Number of rows read: ami: 14968 chf: 29195 pne: 29891\n",
      "It takes 1.7 seconds to finish chunk 5. Number of rows read: ami: 17459 chf: 32467 pne: 31409\n",
      "It takes 2.2 seconds to finish chunk 6. Number of rows read: ami: 18033 chf: 30309 pne: 30129\n",
      "It takes 2.7 seconds to finish chunk 7. Number of rows read: ami: 16192 chf: 30247 pne: 29154\n",
      "It takes 2.8 seconds to finish chunk 8. Number of rows read: ami: 17344 chf: 31001 pne: 31230\n",
      "It takes 3.5 seconds to finish chunk 9. Number of rows read: ami: 17976 chf: 29958 pne: 30294\n",
      "It takes 3.8 seconds to finish chunk 10. Number of rows read: ami: 16449 chf: 30170 pne: 27857\n",
      "It takes 4.3 seconds to finish chunk 11. Number of rows read: ami: 15039 chf: 29189 pne: 27334\n",
      "It takes 4.7 seconds to finish chunk 12. Number of rows read: ami: 18482 chf: 29890 pne: 31560\n",
      "It takes 5.2 seconds to finish chunk 13. Number of rows read: ami: 18341 chf: 31148 pne: 31444\n",
      "It takes 5.8 seconds to finish chunk 14. Number of rows read: ami: 18333 chf: 31386 pne: 32443\n",
      "It takes 5.9 seconds to finish chunk 15. Number of rows read: ami: 15569 chf: 27231 pne: 29207\n"
     ]
    }
   ],
   "source": [
    "chunk_idx = 1\n",
    "for chunk in chunked:\n",
    "    start = time.time()\n",
    "    ami1 = chunk.loc[chunk['DX1'].isin(ami_DX)].copy()\n",
    "    chf1 = chunk.loc[chunk['DX1'].isin(chf_DX)].copy()\n",
    "    pna1 = chunk.loc[chunk['DX1'].isin(pna_DX)].copy()\n",
    "    ami = pd.concat([ami, ami1])\n",
    "    chf = pd.concat([chf, chf1])\n",
    "    pna = pd.concat([pna, pna1])\n",
    "    print('It takes {:.1f} seconds to finish chunk {}.'.format(time.time()-start, chunk_idx), \n",
    "          'Number of rows read: ami:', len(ami1), 'chf:', len(chf1), 'pne:', len(pna1))\n",
    "    chunk_idx += 1"
   ]
  },
  {
   "cell_type": "code",
   "execution_count": 52,
   "metadata": {
    "collapsed": true
   },
   "outputs": [
    {
     "name": "stdout",
     "output_type": "stream",
     "text": [
      "It takes 0.1886589527130127 seconds to finish chunk 1. Number of 4823: 0, No. of 48230: 11.\n",
      "It takes 0.16979074478149414 seconds to finish chunk 2. Number of 4823: 0, No. of 48230: 28.\n",
      "It takes 0.15760374069213867 seconds to finish chunk 3. Number of 4823: 0, No. of 48230: 20.\n",
      "It takes 0.15957856178283691 seconds to finish chunk 4. Number of 4823: 0, No. of 48230: 20.\n",
      "It takes 0.15509033203125 seconds to finish chunk 5. Number of 4823: 0, No. of 48230: 17.\n",
      "It takes 0.15752267837524414 seconds to finish chunk 6. Number of 4823: 0, No. of 48230: 32.\n",
      "It takes 0.15751194953918457 seconds to finish chunk 7. Number of 4823: 0, No. of 48230: 20.\n",
      "It takes 0.15782880783081055 seconds to finish chunk 8. Number of 4823: 0, No. of 48230: 20.\n",
      "It takes 0.15470051765441895 seconds to finish chunk 9. Number of 4823: 0, No. of 48230: 25.\n",
      "It takes 0.1632823944091797 seconds to finish chunk 10. Number of 4823: 0, No. of 48230: 18.\n",
      "It takes 0.15441250801086426 seconds to finish chunk 11. Number of 4823: 0, No. of 48230: 16.\n",
      "It takes 0.16924142837524414 seconds to finish chunk 12. Number of 4823: 0, No. of 48230: 28.\n",
      "It takes 0.1573929786682129 seconds to finish chunk 13. Number of 4823: 0, No. of 48230: 24.\n",
      "It takes 0.15779471397399902 seconds to finish chunk 14. Number of 4823: 0, No. of 48230: 14.\n",
      "It takes 0.14130258560180664 seconds to finish chunk 15. Number of 4823: 0, No. of 48230: 15.\n"
     ]
    }
   ],
   "source": [
    "chunk_idx = 1\n",
    "for chunk in chunked:\n",
    "    start = time.time()\n",
    "    code1 = '4824'\n",
    "    code2 = '48240'\n",
    "    pne1 = chunk.loc[chunk['DX1']==code1]\n",
    "    pne2 = chunk.loc[chunk.DX1==code2]\n",
    "    print('It takes {:.1f} seconds to finish chunk {}.'.format(time.time()-start, chunk_idx), \n",
    "          'Number of {}: {}, No. of {}: {}.'.format(code1, len(pne1), code2, len(pne2)))\n",
    "    chunk_idx += 1"
   ]
  },
  {
   "cell_type": "code",
   "execution_count": 32,
   "metadata": {},
   "outputs": [
    {
     "data": {
      "text/plain": [
       "((258314, 148), (454268, 148), (453871, 148))"
      ]
     },
     "execution_count": 32,
     "metadata": {},
     "output_type": "execute_result"
    }
   ],
   "source": [
    "ami.shape, chf.shape, pna.shape"
   ]
  },
  {
   "cell_type": "code",
   "execution_count": 33,
   "metadata": {},
   "outputs": [],
   "source": [
    "ami.to_csv(path+'cohorts/ami_core_2014.csv', index=False)\n",
    "chf.to_csv(path+'cohorts/chf_core_2014.csv', index=False)\n",
    "pna.to_csv(path+'cohorts/pna_core_2014.csv', index=False)"
   ]
  },
  {
   "cell_type": "code",
   "execution_count": 5,
   "metadata": {},
   "outputs": [],
   "source": [
    "cohort = 'ami'\n",
    "ami = pd.read_csv(path+'cohorts/{}_core_2014.csv'.format(cohort), dtype=core_dtypes_pd)"
   ]
  },
  {
   "cell_type": "markdown",
   "metadata": {},
   "source": [
    "Add the readmission labels to the AMI cohort.  "
   ]
  },
  {
   "cell_type": "code",
   "execution_count": 97,
   "metadata": {},
   "outputs": [],
   "source": [
    "ami_label = pd.merge(ami, readm_short[['KEY_NRD', 'planned', 'readm30']], on='KEY_NRD')"
   ]
  },
  {
   "cell_type": "markdown",
   "metadata": {},
   "source": [
    "Sample sizes of exclusion criteria:"
   ]
  },
  {
   "cell_type": "code",
   "execution_count": 76,
   "metadata": {},
   "outputs": [
    {
     "data": {
      "text/plain": [
       "(258309, 1769)"
      ]
     },
     "execution_count": 76,
     "metadata": {},
     "output_type": "execute_result"
    }
   ],
   "source": [
    "len(ami_label), len(ami_label['HOSP_NRD'].value_counts())"
   ]
  },
  {
   "cell_type": "code",
   "execution_count": 77,
   "metadata": {},
   "outputs": [
    {
     "data": {
      "text/plain": [
       "0"
      ]
     },
     "execution_count": 77,
     "metadata": {},
     "output_type": "execute_result"
    }
   ],
   "source": [
    "sum(ami_label.LOS.isna())"
   ]
  },
  {
   "cell_type": "code",
   "execution_count": 78,
   "metadata": {},
   "outputs": [
    {
     "data": {
      "text/plain": [
       "4926"
      ]
     },
     "execution_count": 78,
     "metadata": {},
     "output_type": "execute_result"
    }
   ],
   "source": [
    "sum(ami_label['LOS'] == 0)"
   ]
  },
  {
   "cell_type": "code",
   "execution_count": 12,
   "metadata": {},
   "outputs": [
    {
     "data": {
      "text/plain": [
       "9777"
      ]
     },
     "execution_count": 12,
     "metadata": {},
     "output_type": "execute_result"
    }
   ],
   "source": [
    "sum((ami_label.LOS==0) | (ami_label.LOS.isna()) | (ami_label.PAY1.isna()) | (ami_label.ZIPINC_QRTL.isna()))"
   ]
  },
  {
   "cell_type": "code",
   "execution_count": 74,
   "metadata": {},
   "outputs": [
    {
     "data": {
      "text/plain": [
       "8148"
      ]
     },
     "execution_count": 74,
     "metadata": {},
     "output_type": "execute_result"
    }
   ],
   "source": [
    "sum((ami_label.LOS.isna()) | (ami_label.PAY1.isna()) | (ami_label.ZIPINC_QRTL.isna()))"
   ]
  },
  {
   "cell_type": "code",
   "execution_count": 75,
   "metadata": {},
   "outputs": [
    {
     "data": {
      "text/plain": [
       "18648"
      ]
     },
     "execution_count": 75,
     "metadata": {},
     "output_type": "execute_result"
    }
   ],
   "source": [
    "sum(ami_label['DIED']==1)"
   ]
  },
  {
   "cell_type": "code",
   "execution_count": 76,
   "metadata": {},
   "outputs": [
    {
     "data": {
      "text/plain": [
       "5057"
      ]
     },
     "execution_count": 76,
     "metadata": {},
     "output_type": "execute_result"
    }
   ],
   "source": [
    "sum(ami_label['DISPUNIFORM']==7)"
   ]
  },
  {
   "cell_type": "code",
   "execution_count": 77,
   "metadata": {},
   "outputs": [
    {
     "data": {
      "text/plain": [
       "47523"
      ]
     },
     "execution_count": 77,
     "metadata": {},
     "output_type": "execute_result"
    }
   ],
   "source": [
    "sum(ami_label['DMONTH']==12)"
   ]
  },
  {
   "cell_type": "code",
   "execution_count": 78,
   "metadata": {},
   "outputs": [
    {
     "data": {
      "text/plain": [
       "4839"
      ]
     },
     "execution_count": 78,
     "metadata": {},
     "output_type": "execute_result"
    }
   ],
   "source": [
    "sum(ami_label['DISPUNIFORM']==2)"
   ]
  },
  {
   "cell_type": "code",
   "execution_count": 79,
   "metadata": {},
   "outputs": [
    {
     "data": {
      "text/plain": [
       "22598"
      ]
     },
     "execution_count": 79,
     "metadata": {},
     "output_type": "execute_result"
    }
   ],
   "source": [
    "sum((ami_label['AGE']>=65) & (ami_label['PAY1'] != 1))"
   ]
  },
  {
   "cell_type": "code",
   "execution_count": 79,
   "metadata": {},
   "outputs": [
    {
     "data": {
      "text/plain": [
       "363"
      ]
     },
     "execution_count": 79,
     "metadata": {},
     "output_type": "execute_result"
    }
   ],
   "source": [
    "sum(ami_label['PAY1'].isna())"
   ]
  },
  {
   "cell_type": "code",
   "execution_count": 80,
   "metadata": {},
   "outputs": [
    {
     "data": {
      "text/plain": [
       "4598"
      ]
     },
     "execution_count": 80,
     "metadata": {},
     "output_type": "execute_result"
    }
   ],
   "source": [
    "sum(ami_label['ZIPINC_QRTL'].isna())"
   ]
  },
  {
   "cell_type": "code",
   "execution_count": 22,
   "metadata": {},
   "outputs": [
    {
     "data": {
      "text/plain": [
       "109990"
      ]
     },
     "execution_count": 22,
     "metadata": {},
     "output_type": "execute_result"
    }
   ],
   "source": [
    "sum(ami_label['AGE']<65)"
   ]
  },
  {
   "cell_type": "markdown",
   "metadata": {},
   "source": [
    "Apply the exclusion criteria above:"
   ]
  },
  {
   "cell_type": "markdown",
   "metadata": {},
   "source": [
    "For AMI:"
   ]
  },
  {
   "cell_type": "code",
   "execution_count": 23,
   "metadata": {},
   "outputs": [],
   "source": [
    "ami_label = ami_label[(ami_label['LOS']!=0) & (ami_label['DIED']==0) & (ami_label['DISPUNIFORM'] != 7) & (ami_label['DMONTH'] != 12)\n",
    "                     & (ami_label['DISPUNIFORM'] != 2) & (~ami_label['PAY1'].isna()) & (~ami_label['ZIPINC_QRTL'].isna())]"
   ]
  },
  {
   "cell_type": "markdown",
   "metadata": {},
   "source": [
    "No other predictors:"
   ]
  },
  {
   "cell_type": "code",
   "execution_count": 81,
   "metadata": {},
   "outputs": [],
   "source": [
    "ami_label = ami_label[(ami_label['LOS']!=0) & (ami_label['DIED']==0) & (ami_label['DISPUNIFORM'] != 7) & (ami_label['DMONTH'] != 12)\n",
    "                     & (ami_label['DISPUNIFORM'] != 2)]"
   ]
  },
  {
   "cell_type": "markdown",
   "metadata": {},
   "source": [
    "For CHF and PNA:"
   ]
  },
  {
   "cell_type": "code",
   "execution_count": 60,
   "metadata": {},
   "outputs": [],
   "source": [
    "ami_label = ami_label[(~ami_label['LOS'].isna()) & (ami_label['DIED']==0) & (ami_label['DISPUNIFORM'] != 7) & (ami_label['DMONTH'] != 12)\n",
    "                     & (ami_label['DISPUNIFORM'] != 2) & (~ami_label['PAY1'].isna()) & (~ami_label['ZIPINC_QRTL'].isna())]"
   ]
  },
  {
   "cell_type": "code",
   "execution_count": 82,
   "metadata": {},
   "outputs": [],
   "source": [
    "ami_label = ami_label[~((ami_label['AGE']>=65) & (ami_label['PAY1'] != 1))]"
   ]
  },
  {
   "cell_type": "markdown",
   "metadata": {},
   "source": [
    "Label the following admission as NOT index admission: it has a previous admission in this year with the same DX1 and it's within 30 days of the discharge of the last admission:"
   ]
  },
  {
   "cell_type": "code",
   "execution_count": 83,
   "metadata": {},
   "outputs": [],
   "source": [
    "ami_label = ami_label.sort_values(by=['NRD_VisitLink', 'NRD_DaysToEvent'])"
   ]
  },
  {
   "cell_type": "code",
   "execution_count": 84,
   "metadata": {},
   "outputs": [],
   "source": [
    "shifted = ami_label[['NRD_VisitLink', 'NRD_DaysToEvent', 'LOS', 'DX1']].shift()"
   ]
  },
  {
   "cell_type": "code",
   "execution_count": 85,
   "metadata": {},
   "outputs": [],
   "source": [
    "ami_label['index_adm'] = ~((ami_label['NRD_VisitLink'] == shifted['NRD_VisitLink']) & (ami_label['DX1']==shifted['DX1']) & (ami_label['NRD_DaysToEvent']<shifted['NRD_DaysToEvent']+shifted['LOS']+30))"
   ]
  },
  {
   "cell_type": "code",
   "execution_count": 16,
   "metadata": {
    "scrolled": true
   },
   "outputs": [
    {
     "data": {
      "text/plain": [
       "True     193468\n",
       "False      1762\n",
       "Name: index_adm, dtype: int64"
      ]
     },
     "execution_count": 16,
     "metadata": {},
     "output_type": "execute_result"
    }
   ],
   "source": [
    "ami_label['index_adm'].value_counts()"
   ]
  },
  {
   "cell_type": "code",
   "execution_count": 86,
   "metadata": {},
   "outputs": [],
   "source": [
    "ami_label = ami_label.loc[ami_label['index_adm']==True].drop(columns=['index_adm'])"
   ]
  },
  {
   "cell_type": "code",
   "execution_count": 87,
   "metadata": {},
   "outputs": [],
   "source": [
    "ami_label = ami_label[ami_label['AGE']>=18]"
   ]
  },
  {
   "cell_type": "code",
   "execution_count": 83,
   "metadata": {},
   "outputs": [],
   "source": [
    "ami_label = ami_label[ami_label['AGE']>=65]"
   ]
  },
  {
   "cell_type": "code",
   "execution_count": 84,
   "metadata": {},
   "outputs": [
    {
     "data": {
      "text/plain": [
       "(106658, 1664)"
      ]
     },
     "execution_count": 84,
     "metadata": {},
     "output_type": "execute_result"
    }
   ],
   "source": [
    "len(ami_label), len(ami_label['HOSP_NRD'].value_counts())"
   ]
  },
  {
   "cell_type": "code",
   "execution_count": 86,
   "metadata": {},
   "outputs": [],
   "source": [
    "ami_label_copy = ami_label.copy()"
   ]
  },
  {
   "cell_type": "code",
   "execution_count": 93,
   "metadata": {},
   "outputs": [],
   "source": [
    "ami_label = ami_label_copy"
   ]
  },
  {
   "cell_type": "markdown",
   "metadata": {},
   "source": [
    "### Cohort to calculate readmission rate for each hospital (there can be multiple visits for each patient)\n",
    "Remove the hospitals with less than 10 admissions for either elder patients (>=65 years old) or younger patients (18-64 years old):"
   ]
  },
  {
   "cell_type": "code",
   "execution_count": 163,
   "metadata": {},
   "outputs": [],
   "source": [
    "elder_freq = ami_label.loc[ami_label['AGE']>=65, 'HOSP_NRD'].value_counts()"
   ]
  },
  {
   "cell_type": "code",
   "execution_count": 165,
   "metadata": {},
   "outputs": [
    {
     "data": {
      "text/plain": [
       "163"
      ]
     },
     "execution_count": 165,
     "metadata": {},
     "output_type": "execute_result"
    }
   ],
   "source": [
    "sum(elder_freq<10)"
   ]
  },
  {
   "cell_type": "code",
   "execution_count": 164,
   "metadata": {},
   "outputs": [],
   "source": [
    "younger_freq = ami_label.loc[ami_label['AGE']<=64, 'HOSP_NRD'].value_counts()"
   ]
  },
  {
   "cell_type": "code",
   "execution_count": 166,
   "metadata": {},
   "outputs": [
    {
     "data": {
      "text/plain": [
       "389"
      ]
     },
     "execution_count": 166,
     "metadata": {},
     "output_type": "execute_result"
    }
   ],
   "source": [
    "sum(younger_freq<10)"
   ]
  },
  {
   "cell_type": "code",
   "execution_count": 167,
   "metadata": {},
   "outputs": [],
   "source": [
    "ami_label = ami_label[~ami_label['HOSP_NRD'].isin(elder_freq[elder_freq<10].index)]"
   ]
  },
  {
   "cell_type": "code",
   "execution_count": 168,
   "metadata": {},
   "outputs": [],
   "source": [
    "ami_label = ami_label[~ami_label['HOSP_NRD'].isin(younger_freq[younger_freq<10].index)]"
   ]
  },
  {
   "cell_type": "markdown",
   "metadata": {},
   "source": [
    "Remove hospitals with less than 10/20/30 admissions:"
   ]
  },
  {
   "cell_type": "code",
   "execution_count": 28,
   "metadata": {},
   "outputs": [],
   "source": [
    "hosp_freq = ami_label.HOSP_NRD.value_counts()"
   ]
  },
  {
   "cell_type": "code",
   "execution_count": 32,
   "metadata": {},
   "outputs": [],
   "source": [
    "hosp_in = hosp_freq[hosp_freq>=10].index"
   ]
  },
  {
   "cell_type": "code",
   "execution_count": 29,
   "metadata": {},
   "outputs": [
    {
     "data": {
      "text/plain": [
       "601"
      ]
     },
     "execution_count": 29,
     "metadata": {},
     "output_type": "execute_result"
    }
   ],
   "source": [
    "sum(hosp_freq<10)"
   ]
  },
  {
   "cell_type": "code",
   "execution_count": 33,
   "metadata": {},
   "outputs": [],
   "source": [
    "ami_label = ami_label[ami_label['HOSP_NRD'].isin(hosp_in)]"
   ]
  },
  {
   "cell_type": "markdown",
   "metadata": {},
   "source": [
    "This is the index admission cohort, for calculation of readmission rate for each hospital, etc."
   ]
  },
  {
   "cell_type": "code",
   "execution_count": 95,
   "metadata": {},
   "outputs": [],
   "source": [
    "ami_label.to_csv(path+'cohorts20/{}/{}_index.csv'.format(cohort, cohort), index=False)"
   ]
  },
  {
   "cell_type": "markdown",
   "metadata": {},
   "source": [
    "### Cohort for prediction model (each patient only contribute one sample)"
   ]
  },
  {
   "cell_type": "code",
   "execution_count": 64,
   "metadata": {},
   "outputs": [],
   "source": [
    "ami_label = ami_label.drop_duplicates(subset=['NRD_VisitLink'], keep='first')"
   ]
  },
  {
   "cell_type": "code",
   "execution_count": 91,
   "metadata": {},
   "outputs": [
    {
     "data": {
      "text/plain": [
       "19234"
      ]
     },
     "execution_count": 91,
     "metadata": {},
     "output_type": "execute_result"
    }
   ],
   "source": [
    "len(ami_label) - len(ami_label.drop_duplicates(subset=['NRD_VisitLink'], keep='first'))"
   ]
  },
  {
   "cell_type": "markdown",
   "metadata": {},
   "source": [
    "Remove hospitals with less than 10 admissions:"
   ]
  },
  {
   "cell_type": "code",
   "execution_count": 85,
   "metadata": {},
   "outputs": [],
   "source": [
    "hosp_freq = ami_label.HOSP_NRD.value_counts()"
   ]
  },
  {
   "cell_type": "code",
   "execution_count": 86,
   "metadata": {},
   "outputs": [],
   "source": [
    "hosp_in = hosp_freq[hosp_freq>=10].index"
   ]
  },
  {
   "cell_type": "code",
   "execution_count": 87,
   "metadata": {},
   "outputs": [
    {
     "data": {
      "text/plain": [
       "593"
      ]
     },
     "execution_count": 87,
     "metadata": {},
     "output_type": "execute_result"
    }
   ],
   "source": [
    "sum(hosp_freq<10)"
   ]
  },
  {
   "cell_type": "code",
   "execution_count": 88,
   "metadata": {},
   "outputs": [],
   "source": [
    "ami_label = ami_label[ami_label['HOSP_NRD'].isin(hosp_in)]"
   ]
  },
  {
   "cell_type": "markdown",
   "metadata": {},
   "source": [
    "This is the cohort for building a prediction model:"
   ]
  },
  {
   "cell_type": "code",
   "execution_count": 92,
   "metadata": {},
   "outputs": [],
   "source": [
    "ami_label.to_csv(path+'cohorts20/{}/{}_pred.csv'.format(cohort, cohort), index=False)"
   ]
  },
  {
   "cell_type": "code",
   "execution_count": 90,
   "metadata": {},
   "outputs": [],
   "source": [
    "ami_label.to_csv(path+'elder/cohorts10/{}/{}_pred.csv'.format(cohort, cohort), index=False)"
   ]
  },
  {
   "cell_type": "code",
   "execution_count": 89,
   "metadata": {},
   "outputs": [
    {
     "data": {
      "text/plain": [
       "(104673, 1071)"
      ]
     },
     "execution_count": 89,
     "metadata": {},
     "output_type": "execute_result"
    }
   ],
   "source": [
    "len(ami_label), len(ami_label['HOSP_NRD'].value_counts())"
   ]
  },
  {
   "cell_type": "code",
   "execution_count": 53,
   "metadata": {},
   "outputs": [
    {
     "data": {
      "text/plain": [
       "False    163427\n",
       "True      36055\n",
       "Name: readm30, dtype: int64"
      ]
     },
     "execution_count": 53,
     "metadata": {},
     "output_type": "execute_result"
    }
   ],
   "source": [
    "ami_label['readm30'].value_counts()"
   ]
  },
  {
   "cell_type": "code",
   "execution_count": 4,
   "metadata": {
    "scrolled": true
   },
   "outputs": [],
   "source": [
    "ami_label = pd.read_csv(path+'cohorts/ami_index.csv', dtype=core_dtypes_pd)"
   ]
  },
  {
   "cell_type": "code",
   "execution_count": 14,
   "metadata": {},
   "outputs": [
    {
     "data": {
      "text/html": [
       "<div>\n",
       "<style scoped>\n",
       "    .dataframe tbody tr th:only-of-type {\n",
       "        vertical-align: middle;\n",
       "    }\n",
       "\n",
       "    .dataframe tbody tr th {\n",
       "        vertical-align: top;\n",
       "    }\n",
       "\n",
       "    .dataframe thead th {\n",
       "        text-align: right;\n",
       "    }\n",
       "</style>\n",
       "<table border=\"1\" class=\"dataframe\">\n",
       "  <thead>\n",
       "    <tr style=\"text-align: right;\">\n",
       "      <th></th>\n",
       "      <th>AGE</th>\n",
       "      <th>AWEEKEND</th>\n",
       "      <th>DIED</th>\n",
       "      <th>DISCWT</th>\n",
       "      <th>DISPUNIFORM</th>\n",
       "      <th>DMONTH</th>\n",
       "      <th>DQTR</th>\n",
       "      <th>DRG</th>\n",
       "      <th>DRGVER</th>\n",
       "      <th>DRG_NoPOA</th>\n",
       "      <th>...</th>\n",
       "      <th>RESIDENT</th>\n",
       "      <th>SAMEDAYEVENT</th>\n",
       "      <th>SERVICELINE</th>\n",
       "      <th>TOTCHG</th>\n",
       "      <th>YEAR</th>\n",
       "      <th>ZIPINC_QRTL</th>\n",
       "      <th>planned</th>\n",
       "      <th>readm</th>\n",
       "      <th>readm30</th>\n",
       "      <th>index_adm</th>\n",
       "    </tr>\n",
       "  </thead>\n",
       "  <tbody>\n",
       "    <tr>\n",
       "      <th>0</th>\n",
       "      <td>89.0</td>\n",
       "      <td>1.0</td>\n",
       "      <td>0.0</td>\n",
       "      <td>2.833704</td>\n",
       "      <td>2.0</td>\n",
       "      <td>7.0</td>\n",
       "      <td>3.0</td>\n",
       "      <td>280.0</td>\n",
       "      <td>31.0</td>\n",
       "      <td>280.0</td>\n",
       "      <td>...</td>\n",
       "      <td>1.0</td>\n",
       "      <td>4</td>\n",
       "      <td>5.0</td>\n",
       "      <td>64660.0</td>\n",
       "      <td>2014.0</td>\n",
       "      <td>1.0</td>\n",
       "      <td>False</td>\n",
       "      <td>True</td>\n",
       "      <td>True</td>\n",
       "      <td>True</td>\n",
       "    </tr>\n",
       "    <tr>\n",
       "      <th>1</th>\n",
       "      <td>65.0</td>\n",
       "      <td>0.0</td>\n",
       "      <td>0.0</td>\n",
       "      <td>2.046126</td>\n",
       "      <td>6.0</td>\n",
       "      <td>1.0</td>\n",
       "      <td>1.0</td>\n",
       "      <td>249.0</td>\n",
       "      <td>31.0</td>\n",
       "      <td>249.0</td>\n",
       "      <td>...</td>\n",
       "      <td>1.0</td>\n",
       "      <td>0</td>\n",
       "      <td>4.0</td>\n",
       "      <td>36915.0</td>\n",
       "      <td>2014.0</td>\n",
       "      <td>3.0</td>\n",
       "      <td>False</td>\n",
       "      <td>True</td>\n",
       "      <td>False</td>\n",
       "      <td>True</td>\n",
       "    </tr>\n",
       "    <tr>\n",
       "      <th>2</th>\n",
       "      <td>72.0</td>\n",
       "      <td>0.0</td>\n",
       "      <td>0.0</td>\n",
       "      <td>1.435778</td>\n",
       "      <td>1.0</td>\n",
       "      <td>10.0</td>\n",
       "      <td>4.0</td>\n",
       "      <td>280.0</td>\n",
       "      <td>32.0</td>\n",
       "      <td>280.0</td>\n",
       "      <td>...</td>\n",
       "      <td>1.0</td>\n",
       "      <td>0</td>\n",
       "      <td>5.0</td>\n",
       "      <td>125222.0</td>\n",
       "      <td>2014.0</td>\n",
       "      <td>2.0</td>\n",
       "      <td>False</td>\n",
       "      <td>False</td>\n",
       "      <td>False</td>\n",
       "      <td>True</td>\n",
       "    </tr>\n",
       "    <tr>\n",
       "      <th>3</th>\n",
       "      <td>57.0</td>\n",
       "      <td>0.0</td>\n",
       "      <td>0.0</td>\n",
       "      <td>2.308072</td>\n",
       "      <td>1.0</td>\n",
       "      <td>11.0</td>\n",
       "      <td>4.0</td>\n",
       "      <td>282.0</td>\n",
       "      <td>32.0</td>\n",
       "      <td>282.0</td>\n",
       "      <td>...</td>\n",
       "      <td>1.0</td>\n",
       "      <td>0</td>\n",
       "      <td>5.0</td>\n",
       "      <td>47257.0</td>\n",
       "      <td>2014.0</td>\n",
       "      <td>4.0</td>\n",
       "      <td>False</td>\n",
       "      <td>False</td>\n",
       "      <td>False</td>\n",
       "      <td>True</td>\n",
       "    </tr>\n",
       "    <tr>\n",
       "      <th>4</th>\n",
       "      <td>61.0</td>\n",
       "      <td>0.0</td>\n",
       "      <td>0.0</td>\n",
       "      <td>5.119861</td>\n",
       "      <td>1.0</td>\n",
       "      <td>11.0</td>\n",
       "      <td>4.0</td>\n",
       "      <td>247.0</td>\n",
       "      <td>32.0</td>\n",
       "      <td>247.0</td>\n",
       "      <td>...</td>\n",
       "      <td>1.0</td>\n",
       "      <td>0</td>\n",
       "      <td>4.0</td>\n",
       "      <td>55842.0</td>\n",
       "      <td>2014.0</td>\n",
       "      <td>1.0</td>\n",
       "      <td>False</td>\n",
       "      <td>False</td>\n",
       "      <td>False</td>\n",
       "      <td>True</td>\n",
       "    </tr>\n",
       "  </tbody>\n",
       "</table>\n",
       "<p>5 rows × 152 columns</p>\n",
       "</div>"
      ],
      "text/plain": [
       "    AGE  AWEEKEND  DIED    DISCWT  DISPUNIFORM  DMONTH  DQTR    DRG  DRGVER  \\\n",
       "0  89.0       1.0   0.0  2.833704          2.0     7.0   3.0  280.0    31.0   \n",
       "1  65.0       0.0   0.0  2.046126          6.0     1.0   1.0  249.0    31.0   \n",
       "2  72.0       0.0   0.0  1.435778          1.0    10.0   4.0  280.0    32.0   \n",
       "3  57.0       0.0   0.0  2.308072          1.0    11.0   4.0  282.0    32.0   \n",
       "4  61.0       0.0   0.0  5.119861          1.0    11.0   4.0  247.0    32.0   \n",
       "\n",
       "   DRG_NoPOA    ...    RESIDENT SAMEDAYEVENT SERVICELINE    TOTCHG    YEAR  \\\n",
       "0      280.0    ...         1.0            4         5.0   64660.0  2014.0   \n",
       "1      249.0    ...         1.0            0         4.0   36915.0  2014.0   \n",
       "2      280.0    ...         1.0            0         5.0  125222.0  2014.0   \n",
       "3      282.0    ...         1.0            0         5.0   47257.0  2014.0   \n",
       "4      247.0    ...         1.0            0         4.0   55842.0  2014.0   \n",
       "\n",
       "  ZIPINC_QRTL planned  readm readm30 index_adm  \n",
       "0         1.0   False   True    True      True  \n",
       "1         3.0   False   True   False      True  \n",
       "2         2.0   False  False   False      True  \n",
       "3         4.0   False  False   False      True  \n",
       "4         1.0   False  False   False      True  \n",
       "\n",
       "[5 rows x 152 columns]"
      ]
     },
     "execution_count": 14,
     "metadata": {},
     "output_type": "execute_result"
    }
   ],
   "source": [
    "ami_label.head()"
   ]
  },
  {
   "cell_type": "code",
   "execution_count": 61,
   "metadata": {},
   "outputs": [],
   "source": [
    "visit_freq = ami_label.NRD_VisitLink.value_counts()"
   ]
  },
  {
   "cell_type": "code",
   "execution_count": 62,
   "metadata": {},
   "outputs": [
    {
     "data": {
      "text/plain": [
       "1    282153\n",
       "Name: NRD_VisitLink, dtype: int64"
      ]
     },
     "execution_count": 62,
     "metadata": {},
     "output_type": "execute_result"
    }
   ],
   "source": [
    "visit_freq.value_counts()"
   ]
  },
  {
   "cell_type": "code",
   "execution_count": 24,
   "metadata": {},
   "outputs": [
    {
     "data": {
      "text/plain": [
       "0.9776998754869636"
      ]
     },
     "execution_count": 24,
     "metadata": {},
     "output_type": "execute_result"
    }
   ],
   "source": [
    "sum(visit_freq==1)/len(visit_freq)"
   ]
  },
  {
   "cell_type": "markdown",
   "metadata": {},
   "source": [
    "### Summary Stats"
   ]
  },
  {
   "cell_type": "code",
   "execution_count": 5,
   "metadata": {},
   "outputs": [],
   "source": [
    "from ccs_tools import dx_multi, pr_multi, core_dtypes_pd"
   ]
  },
  {
   "cell_type": "code",
   "execution_count": 50,
   "metadata": {},
   "outputs": [],
   "source": [
    "cohort = 'pna'\n",
    "folder = 'multi_space_glove/'\n",
    "hosp_cutoff = 10"
   ]
  },
  {
   "cell_type": "code",
   "execution_count": 51,
   "metadata": {},
   "outputs": [],
   "source": [
    "data_df = pd.read_csv(path+folder+'cohorts{}/{}/pred_comorb.csv'.format(hosp_cutoff, cohort), dtype=core_dtypes_pd)"
   ]
  },
  {
   "cell_type": "code",
   "execution_count": 33,
   "metadata": {},
   "outputs": [
    {
     "data": {
      "text/plain": [
       "(327833, 1919)"
      ]
     },
     "execution_count": 33,
     "metadata": {},
     "output_type": "execute_result"
    }
   ],
   "source": [
    "len(data_df), len(data_df['HOSP_NRD'].value_counts())"
   ]
  },
  {
   "cell_type": "code",
   "execution_count": 34,
   "metadata": {},
   "outputs": [
    {
     "data": {
      "text/html": [
       "<div>\n",
       "<style scoped>\n",
       "    .dataframe tbody tr th:only-of-type {\n",
       "        vertical-align: middle;\n",
       "    }\n",
       "\n",
       "    .dataframe tbody tr th {\n",
       "        vertical-align: top;\n",
       "    }\n",
       "\n",
       "    .dataframe thead th {\n",
       "        text-align: right;\n",
       "    }\n",
       "</style>\n",
       "<table border=\"1\" class=\"dataframe\">\n",
       "  <thead>\n",
       "    <tr style=\"text-align: right;\">\n",
       "      <th></th>\n",
       "      <th>readm30</th>\n",
       "      <th>FEMALE</th>\n",
       "      <th>AGE</th>\n",
       "    </tr>\n",
       "  </thead>\n",
       "  <tbody>\n",
       "    <tr>\n",
       "      <th>count</th>\n",
       "      <td>327833.000000</td>\n",
       "      <td>327833.000000</td>\n",
       "      <td>327833.000000</td>\n",
       "    </tr>\n",
       "    <tr>\n",
       "      <th>mean</th>\n",
       "      <td>0.142990</td>\n",
       "      <td>0.518490</td>\n",
       "      <td>69.159179</td>\n",
       "    </tr>\n",
       "    <tr>\n",
       "      <th>std</th>\n",
       "      <td>0.350064</td>\n",
       "      <td>0.499659</td>\n",
       "      <td>16.799630</td>\n",
       "    </tr>\n",
       "    <tr>\n",
       "      <th>min</th>\n",
       "      <td>0.000000</td>\n",
       "      <td>0.000000</td>\n",
       "      <td>18.000000</td>\n",
       "    </tr>\n",
       "    <tr>\n",
       "      <th>25%</th>\n",
       "      <td>0.000000</td>\n",
       "      <td>0.000000</td>\n",
       "      <td>58.000000</td>\n",
       "    </tr>\n",
       "    <tr>\n",
       "      <th>50%</th>\n",
       "      <td>0.000000</td>\n",
       "      <td>1.000000</td>\n",
       "      <td>72.000000</td>\n",
       "    </tr>\n",
       "    <tr>\n",
       "      <th>75%</th>\n",
       "      <td>0.000000</td>\n",
       "      <td>1.000000</td>\n",
       "      <td>83.000000</td>\n",
       "    </tr>\n",
       "    <tr>\n",
       "      <th>max</th>\n",
       "      <td>1.000000</td>\n",
       "      <td>1.000000</td>\n",
       "      <td>90.000000</td>\n",
       "    </tr>\n",
       "  </tbody>\n",
       "</table>\n",
       "</div>"
      ],
      "text/plain": [
       "             readm30         FEMALE            AGE\n",
       "count  327833.000000  327833.000000  327833.000000\n",
       "mean        0.142990       0.518490      69.159179\n",
       "std         0.350064       0.499659      16.799630\n",
       "min         0.000000       0.000000      18.000000\n",
       "25%         0.000000       0.000000      58.000000\n",
       "50%         0.000000       1.000000      72.000000\n",
       "75%         0.000000       1.000000      83.000000\n",
       "max         1.000000       1.000000      90.000000"
      ]
     },
     "execution_count": 34,
     "metadata": {},
     "output_type": "execute_result"
    }
   ],
   "source": [
    "data_df[['readm30', 'FEMALE', 'AGE']].astype(float).describe()"
   ]
  },
  {
   "cell_type": "code",
   "execution_count": 11,
   "metadata": {},
   "outputs": [],
   "source": [
    "DXs = ['DX'+str(j) for j in range(2, 31)]\n",
    "PRs = ['PR'+str(j) for j in range(1, 16)]"
   ]
  },
  {
   "cell_type": "code",
   "execution_count": 27,
   "metadata": {},
   "outputs": [],
   "source": [
    "outcome_grouped = data_df.groupby('readm30')\n",
    "noreadm = outcome_grouped.get_group(False)\n",
    "readm = outcome_grouped.get_group(True)"
   ]
  },
  {
   "cell_type": "code",
   "execution_count": 28,
   "metadata": {},
   "outputs": [],
   "source": [
    "var_name = []\n",
    "stats_no = []\n",
    "stats_re = []\n",
    "\n",
    "var_name.append('Sample size')\n",
    "stats_no.append('{}'.format(len(noreadm)))\n",
    "stats_re.append('{}'.format(len(readm)))\n",
    "\n",
    "var_name.append('Age, mean (std)')\n",
    "stats_no.append('{0:.1f} ({1:.1f})'.format(noreadm.AGE.mean(), noreadm.AGE.std()))\n",
    "stats_re.append('{0:.1f} ({1:.1f})'.format(readm.AGE.mean(), readm.AGE.std()))\n",
    "\n",
    "var_name.append('Female pct.')\n",
    "stats_no.append('{:.1%}'.format(noreadm.FEMALE.mean()))\n",
    "stats_re.append('{:.1%}'.format(readm.FEMALE.mean()))\n",
    "\n",
    "var_name.append('No. of diagnosis codes, mean (std)')\n",
    "stats_no.append('{0:.1f} ({1:.1f})'.format(noreadm.NDX.mean(), noreadm.NDX.std()))\n",
    "stats_re.append('{0:.1f} ({1:.1f})'.format(readm.NDX.mean(), readm.NDX.std()))\n",
    "\n",
    "var_name.append('No. of procedure codes, mean (std)')\n",
    "stats_no.append('{0:.1f} ({1:.1f})'.format(noreadm.NPR.mean(), noreadm.NPR.std()))\n",
    "stats_re.append('{0:.1f} ({1:.1f})'.format(readm.NPR.mean(), readm.NPR.std()))\n",
    "\n",
    "var_name.append('Length of stay, mean (std)')\n",
    "stats_no.append('{0:.1f} ({1:.1f})'.format(noreadm.LOS.mean(), noreadm.LOS.std()))\n",
    "stats_re.append('{0:.1f} ({1:.1f})'.format(readm.LOS.mean(), readm.LOS.std()))\n",
    "\n",
    "var_name.append('Median household income by zipcode')\n",
    "stats_no.append('')\n",
    "stats_re.append('')\n",
    "\n",
    "var_name.append('$1-$39,999')\n",
    "stats_no.append('{:.1%}'.format(sum(noreadm.ZIPINC_QRTL==1)/len(noreadm)))\n",
    "stats_re.append('{:.1%}'.format(sum(readm.ZIPINC_QRTL==1)/len(readm)))\n",
    "\n",
    "var_name.append('$40,000-$50,999')\n",
    "stats_no.append('{:.1%}'.format(sum(noreadm.ZIPINC_QRTL==2)/len(noreadm)))\n",
    "stats_re.append('{:.1%}'.format(sum(readm.ZIPINC_QRTL==2)/len(readm)))\n",
    "\n",
    "var_name.append('$51,000-$65,999')\n",
    "stats_no.append('{:.1%}'.format(sum(noreadm.ZIPINC_QRTL==3)/len(noreadm)))\n",
    "stats_re.append('{:.1%}'.format(sum(readm.ZIPINC_QRTL==3)/len(readm)))\n",
    "\n",
    "var_name.append('$66,000+')\n",
    "stats_no.append('{:.1%}'.format(sum(noreadm.ZIPINC_QRTL==4)/len(noreadm)))\n",
    "stats_re.append('{:.1%}'.format(sum(readm.ZIPINC_QRTL==4)/len(readm)))\n",
    "\n",
    "var_name.append('Insurance status')\n",
    "stats_no.append('')\n",
    "stats_re.append('')\n",
    "\n",
    "var_name.append('Medicare')\n",
    "stats_no.append('{:.1%}'.format(sum(noreadm.PAY1==1)/len(noreadm)))\n",
    "stats_re.append('{:.1%}'.format(sum(readm.PAY1==1)/len(readm)))\n",
    "\n",
    "var_name.append('Medicaid')\n",
    "stats_no.append('{:.1%}'.format(sum(noreadm.PAY1==2)/len(noreadm)))\n",
    "stats_re.append('{:.1%}'.format(sum(readm.PAY1==2)/len(readm)))\n",
    "\n",
    "var_name.append('Private')\n",
    "stats_no.append('{:.1%}'.format(sum(noreadm.PAY1==3)/len(noreadm)))\n",
    "stats_re.append('{:.1%}'.format(sum(readm.PAY1==3)/len(readm)))\n",
    "\n",
    "var_name.append('Uninsured/other')\n",
    "stats_no.append('{:.1%}'.format(sum(noreadm.PAY1>3)/len(noreadm)))\n",
    "stats_re.append('{:.1%}'.format(sum(readm.PAY1>3)/len(readm)))\n",
    "\n",
    "var_name.append('Transfer hospitalization')\n",
    "stats_no.append('')\n",
    "stats_re.append('')\n",
    "\n",
    "var_name.append('Not a transfer or other same-day stay')\n",
    "stats_no.append('{:.1%}'.format(sum(noreadm.SAMEDAYEVENT=='0')/len(noreadm)))\n",
    "stats_re.append('{:.1%}'.format(sum(readm.SAMEDAYEVENT=='0')/len(readm)))\n",
    "\n",
    "var_name.append('Transfer involving two discharges from different hospitals')\n",
    "stats_no.append('{:.1%}'.format(sum(noreadm.SAMEDAYEVENT=='1')/len(noreadm)))\n",
    "stats_re.append('{:.1%}'.format(sum(readm.SAMEDAYEVENT=='1')/len(readm)))\n",
    "\n",
    "var_name.append('Same-day stay involving two discharges from different hospitals')\n",
    "stats_no.append('{:.1%}'.format(sum(noreadm.SAMEDAYEVENT=='2')/len(noreadm)))\n",
    "stats_re.append('{:.1%}'.format(sum(readm.SAMEDAYEVENT=='2')/len(readm)))\n",
    "\n",
    "var_name.append('Same-day stay involving two discharges at the same hospital')\n",
    "stats_no.append('{:.1%}'.format(sum(noreadm.SAMEDAYEVENT=='3')/len(noreadm)))\n",
    "stats_re.append('{:.1%}'.format(sum(readm.SAMEDAYEVENT=='3')/len(readm)))\n",
    "\n",
    "var_name.append('Same-day stay involving three or more discharges at the same or different hospitals')\n",
    "stats_no.append('{:.1%}'.format(sum(noreadm.SAMEDAYEVENT=='4')/len(noreadm)))\n",
    "stats_re.append('{:.1%}'.format(sum(readm.SAMEDAYEVENT=='4')/len(readm)))\n",
    "\n",
    "var_name.append('Emergency department services')\n",
    "stats_no.append('')\n",
    "stats_re.append('')\n",
    "\n",
    "var_name.append('Record does not meet any HCUP Emergency Department criteria')\n",
    "stats_no.append('{:.1%}'.format(sum(noreadm.HCUP_ED==0)/len(noreadm)))\n",
    "stats_re.append('{:.1%}'.format(sum(readm.HCUP_ED==0)/len(readm)))\n",
    "\n",
    "var_name.append('Emergency Department revenue code on record')\n",
    "stats_no.append('{:.1%}'.format(sum(noreadm.HCUP_ED==1)/len(noreadm)))\n",
    "stats_re.append('{:.1%}'.format(sum(readm.HCUP_ED==1)/len(readm)))\n",
    "\n",
    "var_name.append('Positive Emergency Department charge (when revenue center codes are not available)')\n",
    "stats_no.append('{:.1%}'.format(sum(noreadm.HCUP_ED==2)/len(noreadm)))\n",
    "stats_re.append('{:.1%}'.format(sum(readm.HCUP_ED==2)/len(readm)))\n",
    "\n",
    "var_name.append('Emergency Department CPT procedure code on record')\n",
    "stats_no.append('{:.1%}'.format(sum(noreadm.HCUP_ED==3)/len(noreadm)))\n",
    "stats_re.append('{:.1%}'.format(sum(readm.HCUP_ED==3)/len(readm)))\n",
    "\n",
    "var_name.append('Condition code P7 indication of ED admission, point of origin of ED, or admission source of ED')\n",
    "stats_no.append('{:.1%}'.format(sum(noreadm.HCUP_ED==4)/len(noreadm)))\n",
    "stats_re.append('{:.1%}'.format(sum(readm.HCUP_ED==4)/len(readm)))"
   ]
  },
  {
   "cell_type": "code",
   "execution_count": 29,
   "metadata": {},
   "outputs": [],
   "source": [
    "summary_df = pd.DataFrame(list(zip(var_name, stats_no, stats_re)), \n",
    "                          columns=['Predictors', 'No Readmission', 'Readmission'])"
   ]
  },
  {
   "cell_type": "code",
   "execution_count": 30,
   "metadata": {},
   "outputs": [
    {
     "data": {
      "text/html": [
       "<div>\n",
       "<style scoped>\n",
       "    .dataframe tbody tr th:only-of-type {\n",
       "        vertical-align: middle;\n",
       "    }\n",
       "\n",
       "    .dataframe tbody tr th {\n",
       "        vertical-align: top;\n",
       "    }\n",
       "\n",
       "    .dataframe thead th {\n",
       "        text-align: right;\n",
       "    }\n",
       "</style>\n",
       "<table border=\"1\" class=\"dataframe\">\n",
       "  <thead>\n",
       "    <tr style=\"text-align: right;\">\n",
       "      <th></th>\n",
       "      <th>Predictors</th>\n",
       "      <th>No Readmission</th>\n",
       "      <th>Readmission</th>\n",
       "    </tr>\n",
       "  </thead>\n",
       "  <tbody>\n",
       "    <tr>\n",
       "      <th>0</th>\n",
       "      <td>Sample size</td>\n",
       "      <td>249584</td>\n",
       "      <td>53649</td>\n",
       "    </tr>\n",
       "    <tr>\n",
       "      <th>1</th>\n",
       "      <td>Age, mean (std)</td>\n",
       "      <td>72.5 (14.3)</td>\n",
       "      <td>72.5 (13.9)</td>\n",
       "    </tr>\n",
       "    <tr>\n",
       "      <th>2</th>\n",
       "      <td>Female pct.</td>\n",
       "      <td>48.8%</td>\n",
       "      <td>49.3%</td>\n",
       "    </tr>\n",
       "    <tr>\n",
       "      <th>3</th>\n",
       "      <td>No. of diagnosis codes, mean (std)</td>\n",
       "      <td>15.1 (5.5)</td>\n",
       "      <td>16.2 (5.7)</td>\n",
       "    </tr>\n",
       "    <tr>\n",
       "      <th>4</th>\n",
       "      <td>No. of procedure codes, mean (std)</td>\n",
       "      <td>1.1 (1.9)</td>\n",
       "      <td>1.3 (2.1)</td>\n",
       "    </tr>\n",
       "    <tr>\n",
       "      <th>5</th>\n",
       "      <td>Length of stay, mean (std)</td>\n",
       "      <td>5.2 (5.9)</td>\n",
       "      <td>6.2 (7.1)</td>\n",
       "    </tr>\n",
       "    <tr>\n",
       "      <th>6</th>\n",
       "      <td>Median household income by zipcode</td>\n",
       "      <td></td>\n",
       "      <td></td>\n",
       "    </tr>\n",
       "    <tr>\n",
       "      <th>7</th>\n",
       "      <td>$1-$39,999</td>\n",
       "      <td>30.3%</td>\n",
       "      <td>32.4%</td>\n",
       "    </tr>\n",
       "    <tr>\n",
       "      <th>8</th>\n",
       "      <td>$40,000-$50,999</td>\n",
       "      <td>26.7%</td>\n",
       "      <td>26.5%</td>\n",
       "    </tr>\n",
       "    <tr>\n",
       "      <th>9</th>\n",
       "      <td>$51,000-$65,999</td>\n",
       "      <td>22.1%</td>\n",
       "      <td>21.1%</td>\n",
       "    </tr>\n",
       "    <tr>\n",
       "      <th>10</th>\n",
       "      <td>$66,000+</td>\n",
       "      <td>19.4%</td>\n",
       "      <td>18.5%</td>\n",
       "    </tr>\n",
       "    <tr>\n",
       "      <th>11</th>\n",
       "      <td>Insurance status</td>\n",
       "      <td></td>\n",
       "      <td></td>\n",
       "    </tr>\n",
       "    <tr>\n",
       "      <th>12</th>\n",
       "      <td>Medicare</td>\n",
       "      <td>74.6%</td>\n",
       "      <td>78.4%</td>\n",
       "    </tr>\n",
       "    <tr>\n",
       "      <th>13</th>\n",
       "      <td>Medicaid</td>\n",
       "      <td>9.0%</td>\n",
       "      <td>10.0%</td>\n",
       "    </tr>\n",
       "    <tr>\n",
       "      <th>14</th>\n",
       "      <td>Private</td>\n",
       "      <td>11.1%</td>\n",
       "      <td>8.1%</td>\n",
       "    </tr>\n",
       "    <tr>\n",
       "      <th>15</th>\n",
       "      <td>Uninsured/other</td>\n",
       "      <td>5.2%</td>\n",
       "      <td>3.4%</td>\n",
       "    </tr>\n",
       "    <tr>\n",
       "      <th>16</th>\n",
       "      <td>Transfer hospitalization</td>\n",
       "      <td></td>\n",
       "      <td></td>\n",
       "    </tr>\n",
       "    <tr>\n",
       "      <th>17</th>\n",
       "      <td>Not a transfer or other same-day stay</td>\n",
       "      <td>97.7%</td>\n",
       "      <td>97.6%</td>\n",
       "    </tr>\n",
       "    <tr>\n",
       "      <th>18</th>\n",
       "      <td>Transfer involving two discharges from differe...</td>\n",
       "      <td>0.9%</td>\n",
       "      <td>0.9%</td>\n",
       "    </tr>\n",
       "    <tr>\n",
       "      <th>19</th>\n",
       "      <td>Same-day stay involving two discharges from di...</td>\n",
       "      <td>0.5%</td>\n",
       "      <td>0.5%</td>\n",
       "    </tr>\n",
       "    <tr>\n",
       "      <th>20</th>\n",
       "      <td>Same-day stay involving two discharges at the ...</td>\n",
       "      <td>0.8%</td>\n",
       "      <td>0.8%</td>\n",
       "    </tr>\n",
       "    <tr>\n",
       "      <th>21</th>\n",
       "      <td>Same-day stay involving three or more discharg...</td>\n",
       "      <td>0.1%</td>\n",
       "      <td>0.2%</td>\n",
       "    </tr>\n",
       "    <tr>\n",
       "      <th>22</th>\n",
       "      <td>Emergency department services</td>\n",
       "      <td></td>\n",
       "      <td></td>\n",
       "    </tr>\n",
       "    <tr>\n",
       "      <th>23</th>\n",
       "      <td>Record does not meet any HCUP Emergency Depart...</td>\n",
       "      <td>14.8%</td>\n",
       "      <td>13.1%</td>\n",
       "    </tr>\n",
       "    <tr>\n",
       "      <th>24</th>\n",
       "      <td>Emergency Department revenue code on record</td>\n",
       "      <td>55.6%</td>\n",
       "      <td>55.1%</td>\n",
       "    </tr>\n",
       "    <tr>\n",
       "      <th>25</th>\n",
       "      <td>Positive Emergency Department charge (when rev...</td>\n",
       "      <td>14.2%</td>\n",
       "      <td>16.3%</td>\n",
       "    </tr>\n",
       "    <tr>\n",
       "      <th>26</th>\n",
       "      <td>Emergency Department CPT procedure code on record</td>\n",
       "      <td>0.0%</td>\n",
       "      <td>0.0%</td>\n",
       "    </tr>\n",
       "    <tr>\n",
       "      <th>27</th>\n",
       "      <td>Condition code P7 indication of ED admission, ...</td>\n",
       "      <td>15.4%</td>\n",
       "      <td>15.5%</td>\n",
       "    </tr>\n",
       "  </tbody>\n",
       "</table>\n",
       "</div>"
      ],
      "text/plain": [
       "                                           Predictors No Readmission  \\\n",
       "0                                         Sample size         249584   \n",
       "1                                     Age, mean (std)    72.5 (14.3)   \n",
       "2                                         Female pct.          48.8%   \n",
       "3                  No. of diagnosis codes, mean (std)     15.1 (5.5)   \n",
       "4                  No. of procedure codes, mean (std)      1.1 (1.9)   \n",
       "5                          Length of stay, mean (std)      5.2 (5.9)   \n",
       "6                  Median household income by zipcode                  \n",
       "7                                          $1-$39,999          30.3%   \n",
       "8                                     $40,000-$50,999          26.7%   \n",
       "9                                     $51,000-$65,999          22.1%   \n",
       "10                                           $66,000+          19.4%   \n",
       "11                                   Insurance status                  \n",
       "12                                           Medicare          74.6%   \n",
       "13                                           Medicaid           9.0%   \n",
       "14                                            Private          11.1%   \n",
       "15                                    Uninsured/other           5.2%   \n",
       "16                           Transfer hospitalization                  \n",
       "17              Not a transfer or other same-day stay          97.7%   \n",
       "18  Transfer involving two discharges from differe...           0.9%   \n",
       "19  Same-day stay involving two discharges from di...           0.5%   \n",
       "20  Same-day stay involving two discharges at the ...           0.8%   \n",
       "21  Same-day stay involving three or more discharg...           0.1%   \n",
       "22                      Emergency department services                  \n",
       "23  Record does not meet any HCUP Emergency Depart...          14.8%   \n",
       "24        Emergency Department revenue code on record          55.6%   \n",
       "25  Positive Emergency Department charge (when rev...          14.2%   \n",
       "26  Emergency Department CPT procedure code on record           0.0%   \n",
       "27  Condition code P7 indication of ED admission, ...          15.4%   \n",
       "\n",
       "    Readmission  \n",
       "0         53649  \n",
       "1   72.5 (13.9)  \n",
       "2         49.3%  \n",
       "3    16.2 (5.7)  \n",
       "4     1.3 (2.1)  \n",
       "5     6.2 (7.1)  \n",
       "6                \n",
       "7         32.4%  \n",
       "8         26.5%  \n",
       "9         21.1%  \n",
       "10        18.5%  \n",
       "11               \n",
       "12        78.4%  \n",
       "13        10.0%  \n",
       "14         8.1%  \n",
       "15         3.4%  \n",
       "16               \n",
       "17        97.6%  \n",
       "18         0.9%  \n",
       "19         0.5%  \n",
       "20         0.8%  \n",
       "21         0.2%  \n",
       "22               \n",
       "23        13.1%  \n",
       "24        55.1%  \n",
       "25        16.3%  \n",
       "26         0.0%  \n",
       "27        15.5%  "
      ]
     },
     "execution_count": 30,
     "metadata": {},
     "output_type": "execute_result"
    }
   ],
   "source": [
    "summary_df"
   ]
  },
  {
   "cell_type": "code",
   "execution_count": 38,
   "metadata": {},
   "outputs": [],
   "source": [
    "summary_df.to_csv('summary_stats.csv', index=False)"
   ]
  },
  {
   "cell_type": "code",
   "execution_count": 40,
   "metadata": {},
   "outputs": [
    {
     "data": {
      "text/plain": [
       "<matplotlib.axes._subplots.AxesSubplot at 0x2ad686f19c88>"
      ]
     },
     "execution_count": 40,
     "metadata": {},
     "output_type": "execute_result"
    },
    {
     "data": {
      "image/png": "[encoded data removed]",
      "text/plain": [
       "<Figure size 432x288 with 1 Axes>"
      ]
     },
     "metadata": {},
     "output_type": "display_data"
    }
   ],
   "source": [
    "data_df.NDX.plot.hist(bins=30)"
   ]
  },
  {
   "cell_type": "code",
   "execution_count": 52,
   "metadata": {},
   "outputs": [],
   "source": [
    "DX1_series = data_df.DX1\n",
    "DX_series = pd.concat([data_df[DX] for DX in DXs])\n",
    "PR_series = pd.concat([data_df[PR] for PR in PRs])"
   ]
  },
  {
   "cell_type": "code",
   "execution_count": 53,
   "metadata": {},
   "outputs": [
    {
     "data": {
      "text/plain": [
       "count        32.000000\n",
       "mean      10244.781250\n",
       "std       41428.298823\n",
       "min          18.000000\n",
       "25%         191.250000\n",
       "50%         810.500000\n",
       "75%        2593.750000\n",
       "max      232357.000000\n",
       "Name: DX1, dtype: float64"
      ]
     },
     "execution_count": 53,
     "metadata": {},
     "output_type": "execute_result"
    }
   ],
   "source": [
    "DX1_series.value_counts().describe()"
   ]
  },
  {
   "cell_type": "code",
   "execution_count": 51,
   "metadata": {},
   "outputs": [
    {
     "data": {
      "text/plain": [
       "'Coronary atherosclerosis of native coronary artery'"
      ]
     },
     "execution_count": 51,
     "metadata": {},
     "output_type": "execute_result"
    }
   ],
   "source": [
    "dx_label.loc['41401', 'longdesc']"
   ]
  },
  {
   "cell_type": "code",
   "execution_count": 54,
   "metadata": {},
   "outputs": [
    {
     "data": {
      "text/plain": [
       "count      6690.000000\n",
       "mean        585.698804\n",
       "std        3982.291063\n",
       "min           1.000000\n",
       "25%           3.000000\n",
       "50%          12.000000\n",
       "75%          77.000000\n",
       "max      143155.000000\n",
       "dtype: float64"
      ]
     },
     "execution_count": 54,
     "metadata": {},
     "output_type": "execute_result"
    }
   ],
   "source": [
    "DX_series.value_counts().describe()"
   ]
  },
  {
   "cell_type": "code",
   "execution_count": 55,
   "metadata": {},
   "outputs": [
    {
     "data": {
      "text/plain": [
       "count     1443.000000\n",
       "mean       180.446292\n",
       "std       1107.481648\n",
       "min          1.000000\n",
       "25%          1.000000\n",
       "50%          4.000000\n",
       "75%         19.000000\n",
       "max      17615.000000\n",
       "dtype: float64"
      ]
     },
     "execution_count": 55,
     "metadata": {},
     "output_type": "execute_result"
    }
   ],
   "source": [
    "PR_series.value_counts().describe()"
   ]
  },
  {
   "cell_type": "code",
   "execution_count": 43,
   "metadata": {},
   "outputs": [
    {
     "data": {
      "text/plain": [
       "0.7553133568932577"
      ]
     },
     "execution_count": 43,
     "metadata": {},
     "output_type": "execute_result"
    }
   ],
   "source": [
    "152602/202038"
   ]
  },
  {
   "cell_type": "code",
   "execution_count": 46,
   "metadata": {},
   "outputs": [],
   "source": [
    "DX_freq = pd.concat([data_df[DX] for DX in DXs]).value_counts()"
   ]
  },
  {
   "cell_type": "code",
   "execution_count": 47,
   "metadata": {},
   "outputs": [
    {
     "data": {
      "text/plain": [
       "4019     132879\n",
       "2724      94039\n",
       "4280      67545\n",
       "25000     63402\n",
       "53081     62968\n",
       "dtype: int64"
      ]
     },
     "execution_count": 47,
     "metadata": {},
     "output_type": "execute_result"
    }
   ],
   "source": [
    "DX_freq.head()"
   ]
  },
  {
   "cell_type": "markdown",
   "metadata": {},
   "source": [
    "## Create the input data for prediction with comorbidities"
   ]
  },
  {
   "cell_type": "code",
   "execution_count": 36,
   "metadata": {},
   "outputs": [],
   "source": [
    "severity_cols = ['APRDRG', 'APRDRG_Risk_Mortality', 'APRDRG_Severity', 'CM_AIDS',\n",
    "       'CM_ALCOHOL', 'CM_ANEMDEF', 'CM_ARTH', 'CM_BLDLOSS', 'CM_CHF',\n",
    "       'CM_CHRNLUNG', 'CM_COAG', 'CM_DEPRESS', 'CM_DM', 'CM_DMCX', 'CM_DRUG',\n",
    "       'CM_HTN_C', 'CM_HYPOTHY', 'CM_LIVER', 'CM_LYMPH', 'CM_LYTES', 'CM_METS',\n",
    "       'CM_NEURO', 'CM_OBESE', 'CM_PARA', 'CM_PERIVASC', 'CM_PSYCH',\n",
    "       'CM_PULMCIRC', 'CM_RENLFAIL', 'CM_TUMOR', 'CM_ULCER', 'CM_VALVE',\n",
    "       'CM_WGHTLOSS', 'HOSP_NRD', 'KEY_NRD']\n",
    "\n",
    "severity_labels = ['All Patient Refined DRG', 'All Patient Refined DRG: Risk of Mortality Subclass', 'All Patient Refined DRG: Severity of Illness Subclass', 'AHRQ comorbidity measure: Acquired immune deficiency syndrome', 'AHRQ comorbidity measure: Alcohol abuse', 'AHRQ comorbidity measure: Deficiency anemias', 'AHRQ comorbidity measure: Rheumatoid arthritis/collagen vascular diseases', 'AHRQ comorbidity measure: Chronic blood loss anemia', 'AHRQ comorbidity measure: Congestive heart failure', 'AHRQ comorbidity measure: Chronic pulmonary disease', 'AHRQ comorbidity measure: Coagulopathy', 'AHRQ comorbidity measure: Depression', 'AHRQ comorbidity measure: Diabetes, uncomplicated', 'AHRQ comorbidity measure: Diabetes with chronic complications', 'AHRQ comorbidity measure: Drug abuse', 'AHRQ comorbidity measure: Hypertension (combine uncomplicated and complicated)', 'AHRQ comorbidity measure: Hypothyroidism', 'AHRQ comorbidity measure: Liver disease', 'AHRQ comorbidity measure: Lymphoma', 'AHRQ comorbidity measure: Fluid and electrolyte disorders', 'AHRQ comorbidity measure: Metastatic cancer', 'AHRQ comorbidity measure: Other neurological disorders', 'AHRQ comorbidity measure: Obesity', 'AHRQ comorbidity measure: Paralysis', 'AHRQ comorbidity measure: Peripheral vascular disorders', 'AHRQ comorbidity measure: Psychoses', 'AHRQ comorbidity measure: Pulmonary circulation disorders', 'AHRQ comorbidity measure: Renal failure', 'AHRQ comorbidity measure: Solid tumor without metastasis', 'AHRQ comorbidity measure: Peptic ulcer disease excluding bleeding', 'AHRQ comorbidity measure: Valvular disease', 'AHRQ comorbidity measure: Weight loss', 'NRD hospital identifier', 'NRD record identifier']\n",
    "\n",
    "severity_dtypes_pd = dict(zip(severity_cols, [float]*len(severity_cols)))"
   ]
  },
  {
   "cell_type": "code",
   "execution_count": 37,
   "metadata": {},
   "outputs": [],
   "source": [
    "severity = pd.read_table(path+'raw/2014/NRD_2014_Severity.CSV', sep=',', \n",
    "                           header = None, \n",
    "                           names=severity_cols, \n",
    "                           dtype=severity_dtypes_pd, \n",
    "                           na_values=na_values)"
   ]
  },
  {
   "cell_type": "code",
   "execution_count": 8,
   "metadata": {},
   "outputs": [
    {
     "data": {
      "text/plain": [
       "(14894613, 34)"
      ]
     },
     "execution_count": 8,
     "metadata": {},
     "output_type": "execute_result"
    }
   ],
   "source": [
    "severity.shape"
   ]
  },
  {
   "cell_type": "code",
   "execution_count": 45,
   "metadata": {},
   "outputs": [],
   "source": [
    "ami_severity = severity.loc[severity['KEY_NRD'].isin(ami_label['KEY_NRD'])]"
   ]
  },
  {
   "cell_type": "code",
   "execution_count": 35,
   "metadata": {},
   "outputs": [
    {
     "data": {
      "text/plain": [
       "(187055, 34)"
      ]
     },
     "execution_count": 35,
     "metadata": {},
     "output_type": "execute_result"
    }
   ],
   "source": [
    "ami_severity.shape"
   ]
  },
  {
   "cell_type": "code",
   "execution_count": 98,
   "metadata": {},
   "outputs": [],
   "source": [
    "comorb = [n for n in severity_cols if n.startswith('CM')]"
   ]
  },
  {
   "cell_type": "code",
   "execution_count": 89,
   "metadata": {},
   "outputs": [],
   "source": [
    "comorb_df = pd.merge(ami_severity[comorb+['KEY_NRD']], ami_label[['AGE', 'FEMALE', 'HOSP_NRD', 'KEY_NRD', 'NRD_VisitLink', 'NRD_DaysToEvent', 'readm30']], on='KEY_NRD')"
   ]
  },
  {
   "cell_type": "code",
   "execution_count": 94,
   "metadata": {},
   "outputs": [
    {
     "data": {
      "text/plain": [
       "(305936, 36)"
      ]
     },
     "execution_count": 94,
     "metadata": {},
     "output_type": "execute_result"
    }
   ],
   "source": [
    "comorb_df.shape"
   ]
  },
  {
   "cell_type": "code",
   "execution_count": 90,
   "metadata": {},
   "outputs": [],
   "source": [
    "comorb_df.to_csv(path+'cohorts/pna/comorbidities.csv', index=False)"
   ]
  },
  {
   "cell_type": "markdown",
   "metadata": {},
   "source": [
    "Distribution of number of comorbidities for each admission:"
   ]
  },
  {
   "cell_type": "code",
   "execution_count": 14,
   "metadata": {
    "scrolled": true
   },
   "outputs": [
    {
     "data": {
      "text/plain": [
       "<matplotlib.axes._subplots.AxesSubplot at 0x2ab6531885c0>"
      ]
     },
     "execution_count": 14,
     "metadata": {},
     "output_type": "execute_result"
    },
    {
     "data": {
      "image/png": "[encoded data removed]",
      "text/plain": [
       "<Figure size 432x288 with 1 Axes>"
      ]
     },
     "metadata": {},
     "output_type": "display_data"
    }
   ],
   "source": [
    "comorb_df[comorb].apply(sum, axis=1).hist(bins=14, density=1)"
   ]
  },
  {
   "cell_type": "markdown",
   "metadata": {},
   "source": [
    "## Create data set for Prediction model\n",
    "This dataset includes all potential predictiors, but only the first admission of each patient. "
   ]
  },
  {
   "cell_type": "code",
   "execution_count": 124,
   "metadata": {},
   "outputs": [],
   "source": [
    "cohort = 'pna'"
   ]
  },
  {
   "cell_type": "code",
   "execution_count": 125,
   "metadata": {
    "scrolled": true
   },
   "outputs": [],
   "source": [
    "ami_label = pd.read_csv(path+'cohorts20/{}/{}_index.csv'.format(cohort, cohort), dtype=core_dtypes_pd)"
   ]
  },
  {
   "cell_type": "code",
   "execution_count": 129,
   "metadata": {},
   "outputs": [],
   "source": [
    "ami_label = pd.read_csv(path+'cohorts20/{}/{}_pred.csv'.format(cohort, cohort), dtype=core_dtypes_pd)"
   ]
  },
  {
   "cell_type": "markdown",
   "metadata": {},
   "source": [
    "Index admission cohorts for calculating hospital readmission rate, with all predictors including comorbidities:"
   ]
  },
  {
   "cell_type": "code",
   "execution_count": 91,
   "metadata": {},
   "outputs": [],
   "source": [
    "ami_severity = severity.loc[severity['KEY_NRD'].isin(ami_label['KEY_NRD'])]"
   ]
  },
  {
   "cell_type": "code",
   "execution_count": 92,
   "metadata": {},
   "outputs": [],
   "source": [
    "ami_pred = pd.merge(ami_label, ami_severity[list(ami_severity.columns.difference(ami_label.columns))+['KEY_NRD']], on='KEY_NRD')"
   ]
  },
  {
   "cell_type": "code",
   "execution_count": 128,
   "metadata": {},
   "outputs": [],
   "source": [
    "ami_pred.to_csv(path+'cohorts20/{}/index_comorb.csv'.format(cohort))"
   ]
  },
  {
   "cell_type": "code",
   "execution_count": 132,
   "metadata": {},
   "outputs": [],
   "source": [
    "ami_pred.to_csv(path+'cohorts20/{}/pred_comorb.csv'.format(cohort))"
   ]
  },
  {
   "cell_type": "code",
   "execution_count": 93,
   "metadata": {},
   "outputs": [],
   "source": [
    "ami_pred.to_csv(path+'elder/cohorts10/{}/pred_comorb.csv'.format(cohort))"
   ]
  },
  {
   "cell_type": "code",
   "execution_count": 26,
   "metadata": {},
   "outputs": [],
   "source": [
    "index_comorb = pd.read_csv(path+'cohorts/{}/index_comorb.csv'.format(cohort), dtype=core_dtypes_pd)"
   ]
  },
  {
   "cell_type": "code",
   "execution_count": 27,
   "metadata": {},
   "outputs": [],
   "source": [
    "pred = pd.read_csv(path+'cohorts/{}/{}_pred.csv'.format(cohort, cohort), dtype=core_dtypes_pd)"
   ]
  },
  {
   "cell_type": "code",
   "execution_count": 28,
   "metadata": {},
   "outputs": [],
   "source": [
    "index_comorb1 = index_comorb.loc[index_comorb.HOSP_NRD.isin(set(pred.HOSP_NRD.values))]"
   ]
  },
  {
   "cell_type": "code",
   "execution_count": 29,
   "metadata": {},
   "outputs": [
    {
     "data": {
      "text/plain": [
       "((325192, 183), (305936, 179), (325142, 183))"
      ]
     },
     "execution_count": 29,
     "metadata": {},
     "output_type": "execute_result"
    }
   ],
   "source": [
    "index_comorb.shape, pred.shape, index_comorb1.shape"
   ]
  },
  {
   "cell_type": "code",
   "execution_count": 30,
   "metadata": {},
   "outputs": [
    {
     "data": {
      "text/plain": [
       "(1908, 1908)"
      ]
     },
     "execution_count": 30,
     "metadata": {},
     "output_type": "execute_result"
    }
   ],
   "source": [
    "len(index_comorb1.HOSP_NRD.unique()), len(index_comorb1.HOSP_NRD.unique())"
   ]
  },
  {
   "cell_type": "code",
   "execution_count": 31,
   "metadata": {},
   "outputs": [],
   "source": [
    "index_comorb1.to_csv(path+'cohorts/{}/index_comorb.csv'.format(cohort), index=False)"
   ]
  },
  {
   "cell_type": "markdown",
   "metadata": {},
   "source": [
    "## Cross-Validation Splitting"
   ]
  },
  {
   "cell_type": "code",
   "execution_count": 145,
   "metadata": {},
   "outputs": [],
   "source": [
    "cohort = 'pna'\n",
    "folder = 'elder/cohorts10/'"
   ]
  },
  {
   "cell_type": "code",
   "execution_count": 146,
   "metadata": {},
   "outputs": [],
   "source": [
    "data_df = pd.read_csv(path+folder+'{}/pred_comorb.csv'.format(cohort), dtype=core_dtypes_pd)"
   ]
  },
  {
   "cell_type": "code",
   "execution_count": 135,
   "metadata": {},
   "outputs": [],
   "source": [
    "from sklearn.model_selection import StratifiedKFold"
   ]
  },
  {
   "cell_type": "code",
   "execution_count": 136,
   "metadata": {},
   "outputs": [],
   "source": [
    "skf = StratifiedKFold(n_splits=10, random_state=24, shuffle=True)"
   ]
  },
  {
   "cell_type": "code",
   "execution_count": 154,
   "metadata": {
    "collapsed": true
   },
   "outputs": [
    {
     "data": {
      "text/html": [
       "<div>\n",
       "<style scoped>\n",
       "    .dataframe tbody tr th:only-of-type {\n",
       "        vertical-align: middle;\n",
       "    }\n",
       "\n",
       "    .dataframe tbody tr th {\n",
       "        vertical-align: top;\n",
       "    }\n",
       "\n",
       "    .dataframe thead th {\n",
       "        text-align: right;\n",
       "    }\n",
       "</style>\n",
       "<table border=\"1\" class=\"dataframe\">\n",
       "  <thead>\n",
       "    <tr style=\"text-align: right;\">\n",
       "      <th></th>\n",
       "      <th>Unnamed: 0</th>\n",
       "      <th>AGE</th>\n",
       "      <th>AWEEKEND</th>\n",
       "      <th>DIED</th>\n",
       "      <th>DISCWT</th>\n",
       "      <th>DISPUNIFORM</th>\n",
       "      <th>DMONTH</th>\n",
       "      <th>DQTR</th>\n",
       "      <th>DRG</th>\n",
       "      <th>DRGVER</th>\n",
       "      <th>...</th>\n",
       "      <th>CM_OBESE</th>\n",
       "      <th>CM_PARA</th>\n",
       "      <th>CM_PERIVASC</th>\n",
       "      <th>CM_PSYCH</th>\n",
       "      <th>CM_PULMCIRC</th>\n",
       "      <th>CM_RENLFAIL</th>\n",
       "      <th>CM_TUMOR</th>\n",
       "      <th>CM_ULCER</th>\n",
       "      <th>CM_VALVE</th>\n",
       "      <th>CM_WGHTLOSS</th>\n",
       "    </tr>\n",
       "  </thead>\n",
       "  <tbody>\n",
       "    <tr>\n",
       "      <th>0</th>\n",
       "      <td>0</td>\n",
       "      <td>65.0</td>\n",
       "      <td>0.0</td>\n",
       "      <td>0.0</td>\n",
       "      <td>2.046126</td>\n",
       "      <td>6.0</td>\n",
       "      <td>1.0</td>\n",
       "      <td>1.0</td>\n",
       "      <td>249.0</td>\n",
       "      <td>31.0</td>\n",
       "      <td>...</td>\n",
       "      <td>0.0</td>\n",
       "      <td>0.0</td>\n",
       "      <td>0.0</td>\n",
       "      <td>0.0</td>\n",
       "      <td>0.0</td>\n",
       "      <td>1.0</td>\n",
       "      <td>0.0</td>\n",
       "      <td>0.0</td>\n",
       "      <td>0.0</td>\n",
       "      <td>0.0</td>\n",
       "    </tr>\n",
       "    <tr>\n",
       "      <th>1</th>\n",
       "      <td>1</td>\n",
       "      <td>72.0</td>\n",
       "      <td>0.0</td>\n",
       "      <td>0.0</td>\n",
       "      <td>1.435778</td>\n",
       "      <td>1.0</td>\n",
       "      <td>10.0</td>\n",
       "      <td>4.0</td>\n",
       "      <td>280.0</td>\n",
       "      <td>32.0</td>\n",
       "      <td>...</td>\n",
       "      <td>0.0</td>\n",
       "      <td>0.0</td>\n",
       "      <td>0.0</td>\n",
       "      <td>0.0</td>\n",
       "      <td>0.0</td>\n",
       "      <td>1.0</td>\n",
       "      <td>0.0</td>\n",
       "      <td>0.0</td>\n",
       "      <td>0.0</td>\n",
       "      <td>0.0</td>\n",
       "    </tr>\n",
       "    <tr>\n",
       "      <th>2</th>\n",
       "      <td>2</td>\n",
       "      <td>57.0</td>\n",
       "      <td>0.0</td>\n",
       "      <td>0.0</td>\n",
       "      <td>2.308072</td>\n",
       "      <td>1.0</td>\n",
       "      <td>11.0</td>\n",
       "      <td>4.0</td>\n",
       "      <td>282.0</td>\n",
       "      <td>32.0</td>\n",
       "      <td>...</td>\n",
       "      <td>1.0</td>\n",
       "      <td>0.0</td>\n",
       "      <td>0.0</td>\n",
       "      <td>0.0</td>\n",
       "      <td>0.0</td>\n",
       "      <td>0.0</td>\n",
       "      <td>0.0</td>\n",
       "      <td>0.0</td>\n",
       "      <td>0.0</td>\n",
       "      <td>0.0</td>\n",
       "    </tr>\n",
       "    <tr>\n",
       "      <th>3</th>\n",
       "      <td>3</td>\n",
       "      <td>61.0</td>\n",
       "      <td>0.0</td>\n",
       "      <td>0.0</td>\n",
       "      <td>5.119861</td>\n",
       "      <td>1.0</td>\n",
       "      <td>11.0</td>\n",
       "      <td>4.0</td>\n",
       "      <td>247.0</td>\n",
       "      <td>32.0</td>\n",
       "      <td>...</td>\n",
       "      <td>0.0</td>\n",
       "      <td>0.0</td>\n",
       "      <td>0.0</td>\n",
       "      <td>0.0</td>\n",
       "      <td>0.0</td>\n",
       "      <td>0.0</td>\n",
       "      <td>0.0</td>\n",
       "      <td>0.0</td>\n",
       "      <td>0.0</td>\n",
       "      <td>0.0</td>\n",
       "    </tr>\n",
       "    <tr>\n",
       "      <th>4</th>\n",
       "      <td>4</td>\n",
       "      <td>61.0</td>\n",
       "      <td>0.0</td>\n",
       "      <td>0.0</td>\n",
       "      <td>1.910494</td>\n",
       "      <td>6.0</td>\n",
       "      <td>8.0</td>\n",
       "      <td>3.0</td>\n",
       "      <td>264.0</td>\n",
       "      <td>31.0</td>\n",
       "      <td>...</td>\n",
       "      <td>0.0</td>\n",
       "      <td>0.0</td>\n",
       "      <td>0.0</td>\n",
       "      <td>0.0</td>\n",
       "      <td>0.0</td>\n",
       "      <td>1.0</td>\n",
       "      <td>0.0</td>\n",
       "      <td>0.0</td>\n",
       "      <td>0.0</td>\n",
       "      <td>1.0</td>\n",
       "    </tr>\n",
       "    <tr>\n",
       "      <th>5</th>\n",
       "      <td>5</td>\n",
       "      <td>49.0</td>\n",
       "      <td>1.0</td>\n",
       "      <td>0.0</td>\n",
       "      <td>1.962383</td>\n",
       "      <td>1.0</td>\n",
       "      <td>3.0</td>\n",
       "      <td>1.0</td>\n",
       "      <td>247.0</td>\n",
       "      <td>31.0</td>\n",
       "      <td>...</td>\n",
       "      <td>0.0</td>\n",
       "      <td>0.0</td>\n",
       "      <td>0.0</td>\n",
       "      <td>0.0</td>\n",
       "      <td>0.0</td>\n",
       "      <td>0.0</td>\n",
       "      <td>0.0</td>\n",
       "      <td>0.0</td>\n",
       "      <td>0.0</td>\n",
       "      <td>0.0</td>\n",
       "    </tr>\n",
       "    <tr>\n",
       "      <th>6</th>\n",
       "      <td>6</td>\n",
       "      <td>62.0</td>\n",
       "      <td>0.0</td>\n",
       "      <td>0.0</td>\n",
       "      <td>1.962383</td>\n",
       "      <td>1.0</td>\n",
       "      <td>10.0</td>\n",
       "      <td>4.0</td>\n",
       "      <td>248.0</td>\n",
       "      <td>32.0</td>\n",
       "      <td>...</td>\n",
       "      <td>0.0</td>\n",
       "      <td>0.0</td>\n",
       "      <td>0.0</td>\n",
       "      <td>1.0</td>\n",
       "      <td>0.0</td>\n",
       "      <td>0.0</td>\n",
       "      <td>0.0</td>\n",
       "      <td>0.0</td>\n",
       "      <td>0.0</td>\n",
       "      <td>0.0</td>\n",
       "    </tr>\n",
       "    <tr>\n",
       "      <th>7</th>\n",
       "      <td>7</td>\n",
       "      <td>60.0</td>\n",
       "      <td>1.0</td>\n",
       "      <td>0.0</td>\n",
       "      <td>2.004409</td>\n",
       "      <td>1.0</td>\n",
       "      <td>8.0</td>\n",
       "      <td>3.0</td>\n",
       "      <td>233.0</td>\n",
       "      <td>31.0</td>\n",
       "      <td>...</td>\n",
       "      <td>0.0</td>\n",
       "      <td>0.0</td>\n",
       "      <td>0.0</td>\n",
       "      <td>0.0</td>\n",
       "      <td>0.0</td>\n",
       "      <td>0.0</td>\n",
       "      <td>0.0</td>\n",
       "      <td>0.0</td>\n",
       "      <td>0.0</td>\n",
       "      <td>0.0</td>\n",
       "    </tr>\n",
       "    <tr>\n",
       "      <th>8</th>\n",
       "      <td>8</td>\n",
       "      <td>63.0</td>\n",
       "      <td>1.0</td>\n",
       "      <td>0.0</td>\n",
       "      <td>1.985053</td>\n",
       "      <td>1.0</td>\n",
       "      <td>6.0</td>\n",
       "      <td>2.0</td>\n",
       "      <td>282.0</td>\n",
       "      <td>31.0</td>\n",
       "      <td>...</td>\n",
       "      <td>0.0</td>\n",
       "      <td>0.0</td>\n",
       "      <td>0.0</td>\n",
       "      <td>0.0</td>\n",
       "      <td>0.0</td>\n",
       "      <td>0.0</td>\n",
       "      <td>0.0</td>\n",
       "      <td>0.0</td>\n",
       "      <td>0.0</td>\n",
       "      <td>0.0</td>\n",
       "    </tr>\n",
       "    <tr>\n",
       "      <th>9</th>\n",
       "      <td>9</td>\n",
       "      <td>78.0</td>\n",
       "      <td>0.0</td>\n",
       "      <td>0.0</td>\n",
       "      <td>1.347743</td>\n",
       "      <td>6.0</td>\n",
       "      <td>1.0</td>\n",
       "      <td>1.0</td>\n",
       "      <td>280.0</td>\n",
       "      <td>31.0</td>\n",
       "      <td>...</td>\n",
       "      <td>0.0</td>\n",
       "      <td>0.0</td>\n",
       "      <td>0.0</td>\n",
       "      <td>0.0</td>\n",
       "      <td>0.0</td>\n",
       "      <td>1.0</td>\n",
       "      <td>0.0</td>\n",
       "      <td>0.0</td>\n",
       "      <td>0.0</td>\n",
       "      <td>0.0</td>\n",
       "    </tr>\n",
       "    <tr>\n",
       "      <th>10</th>\n",
       "      <td>10</td>\n",
       "      <td>54.0</td>\n",
       "      <td>0.0</td>\n",
       "      <td>0.0</td>\n",
       "      <td>1.372326</td>\n",
       "      <td>1.0</td>\n",
       "      <td>5.0</td>\n",
       "      <td>2.0</td>\n",
       "      <td>233.0</td>\n",
       "      <td>31.0</td>\n",
       "      <td>...</td>\n",
       "      <td>0.0</td>\n",
       "      <td>0.0</td>\n",
       "      <td>0.0</td>\n",
       "      <td>0.0</td>\n",
       "      <td>0.0</td>\n",
       "      <td>0.0</td>\n",
       "      <td>0.0</td>\n",
       "      <td>0.0</td>\n",
       "      <td>0.0</td>\n",
       "      <td>0.0</td>\n",
       "    </tr>\n",
       "    <tr>\n",
       "      <th>11</th>\n",
       "      <td>11</td>\n",
       "      <td>78.0</td>\n",
       "      <td>0.0</td>\n",
       "      <td>0.0</td>\n",
       "      <td>2.068489</td>\n",
       "      <td>1.0</td>\n",
       "      <td>2.0</td>\n",
       "      <td>1.0</td>\n",
       "      <td>281.0</td>\n",
       "      <td>31.0</td>\n",
       "      <td>...</td>\n",
       "      <td>0.0</td>\n",
       "      <td>0.0</td>\n",
       "      <td>0.0</td>\n",
       "      <td>0.0</td>\n",
       "      <td>0.0</td>\n",
       "      <td>1.0</td>\n",
       "      <td>0.0</td>\n",
       "      <td>0.0</td>\n",
       "      <td>0.0</td>\n",
       "      <td>0.0</td>\n",
       "    </tr>\n",
       "    <tr>\n",
       "      <th>12</th>\n",
       "      <td>12</td>\n",
       "      <td>73.0</td>\n",
       "      <td>0.0</td>\n",
       "      <td>0.0</td>\n",
       "      <td>1.434884</td>\n",
       "      <td>1.0</td>\n",
       "      <td>4.0</td>\n",
       "      <td>2.0</td>\n",
       "      <td>251.0</td>\n",
       "      <td>31.0</td>\n",
       "      <td>...</td>\n",
       "      <td>0.0</td>\n",
       "      <td>0.0</td>\n",
       "      <td>1.0</td>\n",
       "      <td>0.0</td>\n",
       "      <td>0.0</td>\n",
       "      <td>0.0</td>\n",
       "      <td>0.0</td>\n",
       "      <td>0.0</td>\n",
       "      <td>0.0</td>\n",
       "      <td>0.0</td>\n",
       "    </tr>\n",
       "    <tr>\n",
       "      <th>13</th>\n",
       "      <td>13</td>\n",
       "      <td>77.0</td>\n",
       "      <td>0.0</td>\n",
       "      <td>0.0</td>\n",
       "      <td>4.897867</td>\n",
       "      <td>1.0</td>\n",
       "      <td>7.0</td>\n",
       "      <td>3.0</td>\n",
       "      <td>251.0</td>\n",
       "      <td>31.0</td>\n",
       "      <td>...</td>\n",
       "      <td>1.0</td>\n",
       "      <td>0.0</td>\n",
       "      <td>0.0</td>\n",
       "      <td>0.0</td>\n",
       "      <td>0.0</td>\n",
       "      <td>0.0</td>\n",
       "      <td>0.0</td>\n",
       "      <td>0.0</td>\n",
       "      <td>0.0</td>\n",
       "      <td>0.0</td>\n",
       "    </tr>\n",
       "    <tr>\n",
       "      <th>14</th>\n",
       "      <td>14</td>\n",
       "      <td>59.0</td>\n",
       "      <td>1.0</td>\n",
       "      <td>0.0</td>\n",
       "      <td>1.131234</td>\n",
       "      <td>1.0</td>\n",
       "      <td>4.0</td>\n",
       "      <td>2.0</td>\n",
       "      <td>238.0</td>\n",
       "      <td>31.0</td>\n",
       "      <td>...</td>\n",
       "      <td>0.0</td>\n",
       "      <td>0.0</td>\n",
       "      <td>0.0</td>\n",
       "      <td>0.0</td>\n",
       "      <td>0.0</td>\n",
       "      <td>0.0</td>\n",
       "      <td>0.0</td>\n",
       "      <td>0.0</td>\n",
       "      <td>0.0</td>\n",
       "      <td>0.0</td>\n",
       "    </tr>\n",
       "    <tr>\n",
       "      <th>15</th>\n",
       "      <td>15</td>\n",
       "      <td>74.0</td>\n",
       "      <td>0.0</td>\n",
       "      <td>0.0</td>\n",
       "      <td>1.588771</td>\n",
       "      <td>1.0</td>\n",
       "      <td>4.0</td>\n",
       "      <td>2.0</td>\n",
       "      <td>247.0</td>\n",
       "      <td>31.0</td>\n",
       "      <td>...</td>\n",
       "      <td>0.0</td>\n",
       "      <td>0.0</td>\n",
       "      <td>0.0</td>\n",
       "      <td>0.0</td>\n",
       "      <td>0.0</td>\n",
       "      <td>0.0</td>\n",
       "      <td>0.0</td>\n",
       "      <td>0.0</td>\n",
       "      <td>0.0</td>\n",
       "      <td>0.0</td>\n",
       "    </tr>\n",
       "    <tr>\n",
       "      <th>16</th>\n",
       "      <td>16</td>\n",
       "      <td>52.0</td>\n",
       "      <td>0.0</td>\n",
       "      <td>0.0</td>\n",
       "      <td>1.962383</td>\n",
       "      <td>1.0</td>\n",
       "      <td>8.0</td>\n",
       "      <td>3.0</td>\n",
       "      <td>247.0</td>\n",
       "      <td>31.0</td>\n",
       "      <td>...</td>\n",
       "      <td>1.0</td>\n",
       "      <td>0.0</td>\n",
       "      <td>0.0</td>\n",
       "      <td>0.0</td>\n",
       "      <td>0.0</td>\n",
       "      <td>0.0</td>\n",
       "      <td>0.0</td>\n",
       "      <td>0.0</td>\n",
       "      <td>0.0</td>\n",
       "      <td>0.0</td>\n",
       "    </tr>\n",
       "    <tr>\n",
       "      <th>17</th>\n",
       "      <td>17</td>\n",
       "      <td>67.0</td>\n",
       "      <td>0.0</td>\n",
       "      <td>0.0</td>\n",
       "      <td>1.588771</td>\n",
       "      <td>1.0</td>\n",
       "      <td>9.0</td>\n",
       "      <td>3.0</td>\n",
       "      <td>247.0</td>\n",
       "      <td>31.0</td>\n",
       "      <td>...</td>\n",
       "      <td>0.0</td>\n",
       "      <td>0.0</td>\n",
       "      <td>0.0</td>\n",
       "      <td>0.0</td>\n",
       "      <td>0.0</td>\n",
       "      <td>0.0</td>\n",
       "      <td>0.0</td>\n",
       "      <td>0.0</td>\n",
       "      <td>0.0</td>\n",
       "      <td>0.0</td>\n",
       "    </tr>\n",
       "    <tr>\n",
       "      <th>18</th>\n",
       "      <td>18</td>\n",
       "      <td>45.0</td>\n",
       "      <td>0.0</td>\n",
       "      <td>0.0</td>\n",
       "      <td>2.243183</td>\n",
       "      <td>1.0</td>\n",
       "      <td>10.0</td>\n",
       "      <td>4.0</td>\n",
       "      <td>216.0</td>\n",
       "      <td>32.0</td>\n",
       "      <td>...</td>\n",
       "      <td>0.0</td>\n",
       "      <td>0.0</td>\n",
       "      <td>0.0</td>\n",
       "      <td>0.0</td>\n",
       "      <td>0.0</td>\n",
       "      <td>1.0</td>\n",
       "      <td>0.0</td>\n",
       "      <td>0.0</td>\n",
       "      <td>0.0</td>\n",
       "      <td>0.0</td>\n",
       "    </tr>\n",
       "    <tr>\n",
       "      <th>19</th>\n",
       "      <td>19</td>\n",
       "      <td>78.0</td>\n",
       "      <td>0.0</td>\n",
       "      <td>0.0</td>\n",
       "      <td>1.445207</td>\n",
       "      <td>5.0</td>\n",
       "      <td>1.0</td>\n",
       "      <td>1.0</td>\n",
       "      <td>246.0</td>\n",
       "      <td>31.0</td>\n",
       "      <td>...</td>\n",
       "      <td>1.0</td>\n",
       "      <td>0.0</td>\n",
       "      <td>0.0</td>\n",
       "      <td>1.0</td>\n",
       "      <td>0.0</td>\n",
       "      <td>0.0</td>\n",
       "      <td>0.0</td>\n",
       "      <td>0.0</td>\n",
       "      <td>0.0</td>\n",
       "      <td>0.0</td>\n",
       "    </tr>\n",
       "  </tbody>\n",
       "</table>\n",
       "<p>20 rows × 183 columns</p>\n",
       "</div>"
      ],
      "text/plain": [
       "    Unnamed: 0   AGE  AWEEKEND  DIED    DISCWT  DISPUNIFORM  DMONTH  DQTR  \\\n",
       "0            0  65.0       0.0   0.0  2.046126          6.0     1.0   1.0   \n",
       "1            1  72.0       0.0   0.0  1.435778          1.0    10.0   4.0   \n",
       "2            2  57.0       0.0   0.0  2.308072          1.0    11.0   4.0   \n",
       "3            3  61.0       0.0   0.0  5.119861          1.0    11.0   4.0   \n",
       "4            4  61.0       0.0   0.0  1.910494          6.0     8.0   3.0   \n",
       "5            5  49.0       1.0   0.0  1.962383          1.0     3.0   1.0   \n",
       "6            6  62.0       0.0   0.0  1.962383          1.0    10.0   4.0   \n",
       "7            7  60.0       1.0   0.0  2.004409          1.0     8.0   3.0   \n",
       "8            8  63.0       1.0   0.0  1.985053          1.0     6.0   2.0   \n",
       "9            9  78.0       0.0   0.0  1.347743          6.0     1.0   1.0   \n",
       "10          10  54.0       0.0   0.0  1.372326          1.0     5.0   2.0   \n",
       "11          11  78.0       0.0   0.0  2.068489          1.0     2.0   1.0   \n",
       "12          12  73.0       0.0   0.0  1.434884          1.0     4.0   2.0   \n",
       "13          13  77.0       0.0   0.0  4.897867          1.0     7.0   3.0   \n",
       "14          14  59.0       1.0   0.0  1.131234          1.0     4.0   2.0   \n",
       "15          15  74.0       0.0   0.0  1.588771          1.0     4.0   2.0   \n",
       "16          16  52.0       0.0   0.0  1.962383          1.0     8.0   3.0   \n",
       "17          17  67.0       0.0   0.0  1.588771          1.0     9.0   3.0   \n",
       "18          18  45.0       0.0   0.0  2.243183          1.0    10.0   4.0   \n",
       "19          19  78.0       0.0   0.0  1.445207          5.0     1.0   1.0   \n",
       "\n",
       "      DRG  DRGVER     ...      CM_OBESE CM_PARA CM_PERIVASC CM_PSYCH  \\\n",
       "0   249.0    31.0     ...           0.0     0.0         0.0      0.0   \n",
       "1   280.0    32.0     ...           0.0     0.0         0.0      0.0   \n",
       "2   282.0    32.0     ...           1.0     0.0         0.0      0.0   \n",
       "3   247.0    32.0     ...           0.0     0.0         0.0      0.0   \n",
       "4   264.0    31.0     ...           0.0     0.0         0.0      0.0   \n",
       "5   247.0    31.0     ...           0.0     0.0         0.0      0.0   \n",
       "6   248.0    32.0     ...           0.0     0.0         0.0      1.0   \n",
       "7   233.0    31.0     ...           0.0     0.0         0.0      0.0   \n",
       "8   282.0    31.0     ...           0.0     0.0         0.0      0.0   \n",
       "9   280.0    31.0     ...           0.0     0.0         0.0      0.0   \n",
       "10  233.0    31.0     ...           0.0     0.0         0.0      0.0   \n",
       "11  281.0    31.0     ...           0.0     0.0         0.0      0.0   \n",
       "12  251.0    31.0     ...           0.0     0.0         1.0      0.0   \n",
       "13  251.0    31.0     ...           1.0     0.0         0.0      0.0   \n",
       "14  238.0    31.0     ...           0.0     0.0         0.0      0.0   \n",
       "15  247.0    31.0     ...           0.0     0.0         0.0      0.0   \n",
       "16  247.0    31.0     ...           1.0     0.0         0.0      0.0   \n",
       "17  247.0    31.0     ...           0.0     0.0         0.0      0.0   \n",
       "18  216.0    32.0     ...           0.0     0.0         0.0      0.0   \n",
       "19  246.0    31.0     ...           1.0     0.0         0.0      1.0   \n",
       "\n",
       "   CM_PULMCIRC CM_RENLFAIL CM_TUMOR CM_ULCER CM_VALVE CM_WGHTLOSS  \n",
       "0          0.0         1.0      0.0      0.0      0.0         0.0  \n",
       "1          0.0         1.0      0.0      0.0      0.0         0.0  \n",
       "2          0.0         0.0      0.0      0.0      0.0         0.0  \n",
       "3          0.0         0.0      0.0      0.0      0.0         0.0  \n",
       "4          0.0         1.0      0.0      0.0      0.0         1.0  \n",
       "5          0.0         0.0      0.0      0.0      0.0         0.0  \n",
       "6          0.0         0.0      0.0      0.0      0.0         0.0  \n",
       "7          0.0         0.0      0.0      0.0      0.0         0.0  \n",
       "8          0.0         0.0      0.0      0.0      0.0         0.0  \n",
       "9          0.0         1.0      0.0      0.0      0.0         0.0  \n",
       "10         0.0         0.0      0.0      0.0      0.0         0.0  \n",
       "11         0.0         1.0      0.0      0.0      0.0         0.0  \n",
       "12         0.0         0.0      0.0      0.0      0.0         0.0  \n",
       "13         0.0         0.0      0.0      0.0      0.0         0.0  \n",
       "14         0.0         0.0      0.0      0.0      0.0         0.0  \n",
       "15         0.0         0.0      0.0      0.0      0.0         0.0  \n",
       "16         0.0         0.0      0.0      0.0      0.0         0.0  \n",
       "17         0.0         0.0      0.0      0.0      0.0         0.0  \n",
       "18         0.0         1.0      0.0      0.0      0.0         0.0  \n",
       "19         0.0         0.0      0.0      0.0      0.0         0.0  \n",
       "\n",
       "[20 rows x 183 columns]"
      ]
     },
     "execution_count": 154,
     "metadata": {},
     "output_type": "execute_result"
    }
   ],
   "source": [
    "data_df.head(20)"
   ]
  },
  {
   "cell_type": "code",
   "execution_count": 147,
   "metadata": {},
   "outputs": [],
   "source": [
    "tst_keys = []\n",
    "for train_idx, tst_idx in skf.split(data_df, data_df.HOSP_NRD):\n",
    "    tst_keys.append(data_df.loc[tst_idx, 'KEY_NRD'])"
   ]
  },
  {
   "cell_type": "code",
   "execution_count": 148,
   "metadata": {},
   "outputs": [
    {
     "name": "stdout",
     "output_type": "stream",
     "text": [
      "1749\n",
      "1749\n",
      "1749\n",
      "1749\n",
      "1749\n",
      "1749\n",
      "1749\n",
      "1749\n",
      "1749\n",
      "1749\n"
     ]
    }
   ],
   "source": [
    "for tst_key in tst_keys:\n",
    "    print(len(data_df.loc[data_df.KEY_NRD.isin(tst_key), 'HOSP_NRD'].value_counts()))"
   ]
  },
  {
   "cell_type": "code",
   "execution_count": 149,
   "metadata": {},
   "outputs": [],
   "source": [
    "for j, tst_key in enumerate(tst_keys):\n",
    "    tst_key.to_csv(path+'cohorts20/{}/tst_key{}.csv'.format(cohort, j), index=False)"
   ]
  },
  {
   "cell_type": "markdown",
   "metadata": {},
   "source": [
    "## Medical History of Each Paitent"
   ]
  },
  {
   "cell_type": "code",
   "execution_count": 35,
   "metadata": {},
   "outputs": [],
   "source": [
    "index_pred = pd.read_csv(path+'cohorts/pna_index.csv', dtype=core_dtypes_pd)"
   ]
  },
  {
   "cell_type": "code",
   "execution_count": 36,
   "metadata": {},
   "outputs": [
    {
     "data": {
      "text/plain": [
       "(325192, 150)"
      ]
     },
     "execution_count": 36,
     "metadata": {},
     "output_type": "execute_result"
    }
   ],
   "source": [
    "index_pred.shape"
   ]
  },
  {
   "cell_type": "code",
   "execution_count": 37,
   "metadata": {},
   "outputs": [],
   "source": [
    "index_pred = index_pred.drop_duplicates(subset=['NRD_VisitLink'], keep='last')"
   ]
  },
  {
   "cell_type": "code",
   "execution_count": 38,
   "metadata": {},
   "outputs": [],
   "source": [
    "history = pd.DataFrame()"
   ]
  },
  {
   "cell_type": "code",
   "execution_count": 39,
   "metadata": {},
   "outputs": [],
   "source": [
    "chunked = pd.read_table(path+'raw/2014/NRD_2014_Core.CSV', sep=',', \n",
    "                           header = None, \n",
    "                           names=core_cols, \n",
    "                           dtype=core_dtypes_pd, \n",
    "                           na_values=na_values, \n",
    "                           chunksize=10**6)"
   ]
  },
  {
   "cell_type": "code",
   "execution_count": 40,
   "metadata": {},
   "outputs": [
    {
     "name": "stdout",
     "output_type": "stream",
     "text": [
      "It takes 0.5 seconds to finish chunk 0. 42357 record were read in history.\n",
      "It takes 0.7 seconds to finish chunk 1. 48144 record were read in history.\n",
      "It takes 0.9 seconds to finish chunk 2. 43994 record were read in history.\n",
      "It takes 1.0 seconds to finish chunk 3. 43822 record were read in history.\n",
      "It takes 1.3 seconds to finish chunk 4. 44787 record were read in history.\n",
      "It takes 1.5 seconds to finish chunk 5. 45031 record were read in history.\n",
      "It takes 1.8 seconds to finish chunk 6. 43357 record were read in history.\n",
      "It takes 2.1 seconds to finish chunk 7. 43959 record were read in history.\n",
      "It takes 2.6 seconds to finish chunk 8. 42973 record were read in history.\n",
      "It takes 3.0 seconds to finish chunk 9. 41251 record were read in history.\n",
      "It takes 2.8 seconds to finish chunk 10. 40497 record were read in history.\n",
      "It takes 3.3 seconds to finish chunk 11. 45268 record were read in history.\n",
      "It takes 4.0 seconds to finish chunk 12. 47074 record were read in history.\n",
      "It takes 4.3 seconds to finish chunk 13. 45605 record were read in history.\n",
      "It takes 4.5 seconds to finish chunk 14. 42636 record were read in history.\n"
     ]
    }
   ],
   "source": [
    "chunk_id = 0\n",
    "for chunk in chunked:\n",
    "    start = time.time()\n",
    "    hist = chunk.loc[chunk.NRD_VisitLink.isin(index_pred.NRD_VisitLink)]\n",
    "    history = pd.concat([history, hist], axis=0)\n",
    "    print('It takes {:.1f} seconds to finish chunk {}. {} record were read in history.'.format(time.time()-start, chunk_id, \n",
    "                                                                                               len(hist)))\n",
    "    chunk_id += 1"
   ]
  },
  {
   "cell_type": "code",
   "execution_count": 41,
   "metadata": {},
   "outputs": [],
   "source": [
    "freq = history.NRD_VisitLink.value_counts()"
   ]
  },
  {
   "cell_type": "code",
   "execution_count": 42,
   "metadata": {},
   "outputs": [
    {
     "data": {
      "text/plain": [
       "0.1511008853490903"
      ]
     },
     "execution_count": 42,
     "metadata": {},
     "output_type": "execute_result"
    }
   ],
   "source": [
    "sum(freq>3)/len(freq)"
   ]
  },
  {
   "cell_type": "markdown",
   "metadata": {},
   "source": [
    "### backups"
   ]
  },
  {
   "cell_type": "code",
   "execution_count": 67,
   "metadata": {},
   "outputs": [],
   "source": [
    "severity2014 = pd.read_sas(path+'sas/nrd_severity_2014.sas7bdat', chunksize=10**6)"
   ]
  },
  {
   "cell_type": "code",
   "execution_count": 75,
   "metadata": {},
   "outputs": [],
   "source": [
    "core2014 = pd.read_sas(path+'sas/nrd_core_2014.sas7bdat', chunksize=10000)"
   ]
  },
  {
   "cell_type": "code",
   "execution_count": 72,
   "metadata": {},
   "outputs": [],
   "source": [
    "dxpr2014 = pd.read_sas(path+'sas/nrd_dx_pr_grps_2014.sas7bdat', chunksize=1000)"
   ]
  },
  {
   "cell_type": "code",
   "execution_count": 61,
   "metadata": {},
   "outputs": [],
   "source": [
    "core_dtypes_logic[core_cols.index('TOTCHG')] = 'continuous'"
   ]
  },
  {
   "cell_type": "code",
   "execution_count": 40,
   "metadata": {},
   "outputs": [
    {
     "data": {
      "text/plain": [
       "count    220134.000000\n",
       "mean          1.175638\n",
       "std           2.641674\n",
       "min          -4.000000\n",
       "25%           0.000000\n",
       "50%           0.000000\n",
       "75%           1.000000\n",
       "max         365.000000\n",
       "Name: PRDAY1, dtype: float64"
      ]
     },
     "execution_count": 40,
     "metadata": {},
     "output_type": "execute_result"
    }
   ],
   "source": [
    "ami['PRDAY1'].describe()"
   ]
  },
  {
   "cell_type": "code",
   "execution_count": 64,
   "metadata": {
    "scrolled": true
   },
   "outputs": [
    {
     "data": {
      "text/plain": [
       " 1.0    72043\n",
       " 2.0    70457\n",
       " 3.0    59103\n",
       " 4.0    52113\n",
       "NaN      4598\n",
       "Name: ZIPINC_QRTL, dtype: int64"
      ]
     },
     "execution_count": 64,
     "metadata": {},
     "output_type": "execute_result"
    }
   ],
   "source": [
    "ami['ZIPINC_QRTL'].value_counts(dropna=False)"
   ]
  },
  {
   "cell_type": "markdown",
   "metadata": {},
   "source": [
    "Create a label whether this admission is a subsequent readmission following a planned admission (not necessary any more):"
   ]
  },
  {
   "cell_type": "code",
   "execution_count": 69,
   "metadata": {},
   "outputs": [],
   "source": [
    "planned = readm_sort.loc[readm_sort['planned']==True, ['NRD_VisitLink', 'NRD_DaysToEvent']]"
   ]
  },
  {
   "cell_type": "code",
   "execution_count": 71,
   "metadata": {},
   "outputs": [],
   "source": [
    "patient_planned = set(planned['NRD_VisitLink'].unique())"
   ]
  },
  {
   "cell_type": "code",
   "execution_count": 72,
   "metadata": {},
   "outputs": [],
   "source": [
    "sub_df = readm_sort.loc[readm_sort['NRD_VisitLink'].isin(patient_planned)]"
   ]
  },
  {
   "cell_type": "code",
   "execution_count": 74,
   "metadata": {},
   "outputs": [],
   "source": [
    "patient_freq = sub_df['NRD_VisitLink'].value_counts()"
   ]
  },
  {
   "cell_type": "code",
   "execution_count": 75,
   "metadata": {},
   "outputs": [],
   "source": [
    "sub_df = sub_df.loc[sub_df['NRD_VisitLink'].isin(patient_freq[patient_freq>1].index)]"
   ]
  },
  {
   "cell_type": "code",
   "execution_count": 78,
   "metadata": {},
   "outputs": [],
   "source": [
    "sub_df['planned_subsequent'] = False"
   ]
  },
  {
   "cell_type": "code",
   "execution_count": 80,
   "metadata": {},
   "outputs": [],
   "source": [
    "sub_df = sub_df.reset_index()"
   ]
  },
  {
   "cell_type": "code",
   "execution_count": 88,
   "metadata": {},
   "outputs": [
    {
     "name": "stdout",
     "output_type": "stream",
     "text": [
      "3234.76953125\n"
     ]
    }
   ],
   "source": [
    "start = time.time()\n",
    "pln_sub = False\n",
    "j = 0\n",
    "patient = sub_df.loc[j, 'NRD_VisitLink']\n",
    "while j<len(sub_df):\n",
    "    if pln_sub:\n",
    "        if sub_df.loc[j, 'NRD_VisitLink'] == patient:\n",
    "            sub_df.loc[j, 'planned_subsequent'] = True\n",
    "        else:\n",
    "            pln_sub = False\n",
    "    if sub_df.loc[j, 'planned'] == True:\n",
    "        patient = sub_df.loc[j, 'NRD_VisitLink']\n",
    "        pln_sub = True\n",
    "    j += 1\n",
    "print(time.time()-start)"
   ]
  },
  {
   "cell_type": "code",
   "execution_count": 92,
   "metadata": {},
   "outputs": [],
   "source": [
    "key_subseq = set(sub_df.loc[sub_df['planned_subsequent'], 'KEY_NRD'].values)"
   ]
  },
  {
   "cell_type": "code",
   "execution_count": 97,
   "metadata": {},
   "outputs": [],
   "source": [
    "readm_sort['planned_subseq'] = readm_sort['KEY_NRD'].isin(key_subseq)"
   ]
  },
  {
   "cell_type": "markdown",
   "metadata": {},
   "source": [
    "The next label means whether this admission is followed by an admission that is neither planned nor planned subseqent:"
   ]
  },
  {
   "cell_type": "code",
   "execution_count": 101,
   "metadata": {},
   "outputs": [],
   "source": [
    "readm_sort['readm_nosubseq'] = (readm_sort['readm'] == True) & (shifted['planned_subseq'] == False)"
   ]
  },
  {
   "cell_type": "code",
   "execution_count": 106,
   "metadata": {},
   "outputs": [
    {
     "data": {
      "text/html": [
       "<div>\n",
       "<style scoped>\n",
       "    .dataframe tbody tr th:only-of-type {\n",
       "        vertical-align: middle;\n",
       "    }\n",
       "\n",
       "    .dataframe tbody tr th {\n",
       "        vertical-align: top;\n",
       "    }\n",
       "\n",
       "    .dataframe thead th {\n",
       "        text-align: right;\n",
       "    }\n",
       "</style>\n",
       "<table border=\"1\" class=\"dataframe\">\n",
       "  <thead>\n",
       "    <tr style=\"text-align: right;\">\n",
       "      <th>readm_nosubseq</th>\n",
       "      <th>False</th>\n",
       "      <th>True</th>\n",
       "      <th>All</th>\n",
       "    </tr>\n",
       "    <tr>\n",
       "      <th>readm</th>\n",
       "      <th></th>\n",
       "      <th></th>\n",
       "      <th></th>\n",
       "    </tr>\n",
       "  </thead>\n",
       "  <tbody>\n",
       "    <tr>\n",
       "      <th>False</th>\n",
       "      <td>11143020</td>\n",
       "      <td>0</td>\n",
       "      <td>11143020</td>\n",
       "    </tr>\n",
       "    <tr>\n",
       "      <th>True</th>\n",
       "      <td>221244</td>\n",
       "      <td>3529329</td>\n",
       "      <td>3750573</td>\n",
       "    </tr>\n",
       "    <tr>\n",
       "      <th>All</th>\n",
       "      <td>11364264</td>\n",
       "      <td>3529329</td>\n",
       "      <td>14893593</td>\n",
       "    </tr>\n",
       "  </tbody>\n",
       "</table>\n",
       "</div>"
      ],
      "text/plain": [
       "readm_nosubseq     False     True       All\n",
       "readm                                      \n",
       "False           11143020        0  11143020\n",
       "True              221244  3529329   3750573\n",
       "All             11364264  3529329  14893593"
      ]
     },
     "execution_count": 106,
     "metadata": {},
     "output_type": "execute_result"
    }
   ],
   "source": [
    "pd.crosstab(index=readm_sort['readm'], columns=readm_sort['readm_nosubseq'], margins=True)"
   ]
  },
  {
   "cell_type": "code",
   "execution_count": 8,
   "metadata": {},
   "outputs": [],
   "source": [
    "readm_sort['planned'] = readm_sort['PRCCS1'].isin(tablePR1_PRCCS) | readm_sort['DXCCS1'].isin(tablePR2_DXCCS) | ((readm_sort['PRCCS1'].isin(tablePR3_PRCCS) | readm_sort['PR1'].isin(tablePR3_PR)) & (~(readm_sort['DXCCS1'].isin(tablePR4_DXCCS) | readm_sort['DX1'].isin(tablePR4_DX))))"
   ]
  }
 ],
 "metadata": {
  "kernelspec": {
   "display_name": "Python 3",
   "language": "python",
   "name": "python3"
  },
  "language_info": {
   "codemirror_mode": {
    "name": "ipython",
    "version": 3
   },
   "file_extension": ".py",
   "mimetype": "text/x-python",
   "name": "python",
   "nbconvert_exporter": "python",
   "pygments_lexer": "ipython3",
   "version": "3.5.4"
  }
 },
 "nbformat": 4,
 "nbformat_minor": 2
}

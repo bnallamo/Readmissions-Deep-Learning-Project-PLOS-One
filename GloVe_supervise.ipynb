{
 "cells": [
  {
   "cell_type": "markdown",
   "metadata": {},
   "source": [
    "# Supervised GloVe"
   ]
  },
  {
   "cell_type": "code",
   "execution_count": 1,
   "metadata": {},
   "outputs": [],
   "source": [
    "import pandas as pd\n",
    "import numpy as np\n",
    "import matplotlib.pyplot as plt\n",
    "#import statsmodels.api as sm\n",
    "from sklearn.model_selection import train_test_split, StratifiedKFold\n",
    "from sklearn.metrics import roc_curve, auc\n",
    "import os, sys, time\n",
    "from importlib import reload\n",
    "%matplotlib inline"
   ]
  },
  {
   "cell_type": "code",
   "execution_count": 2,
   "metadata": {},
   "outputs": [],
   "source": [
    "path = '/nfs/turbo/intmed-bnallamo-turbo/wsliu/Data/NRD/'"
   ]
  },
  {
   "cell_type": "code",
   "execution_count": 2,
   "metadata": {},
   "outputs": [],
   "source": [
    "path = '/nfs/turbo/umms-awaljee/wsliu/Data/NRD/'"
   ]
  },
  {
   "cell_type": "code",
   "execution_count": 3,
   "metadata": {},
   "outputs": [],
   "source": [
    "model_path = path + 'models/'\n",
    "if not os.path.exists(model_path): os.mkdir(model_path)"
   ]
  },
  {
   "cell_type": "code",
   "execution_count": 4,
   "metadata": {
    "scrolled": true
   },
   "outputs": [
    {
     "name": "stderr",
     "output_type": "stream",
     "text": [
      "Using TensorFlow backend.\n"
     ]
    }
   ],
   "source": [
    "from keras.layers import Input, Embedding, Concatenate, Reshape, BatchNormalization, LSTM, CuDNNLSTM, CuDNNGRU, Lambda, Add\n",
    "from keras.models import Model\n",
    "from keras.layers.core import Dense, Activation, Dropout, RepeatVector\n",
    "from keras.callbacks import ModelCheckpoint, ReduceLROnPlateau, EarlyStopping\n",
    "from keras.utils import to_categorical\n",
    "from keras.optimizers import Adam\n",
    "from keras.initializers import Constant\n",
    "import keras.backend as K\n",
    "\n",
    "module_path = os.path.abspath(os.path.join('..'))\n",
    "if module_path not in sys.path:\n",
    "    sys.path.append(module_path)\n",
    "from DL_utils import plot_roc\n",
    "from keras_addon import AUCCheckPoint\n",
    "from utils import get_frequency, preprocess\n",
    "\n",
    "from ccs_tools import dx_multi, pr_multi, core_dtypes_pd, dx_label"
   ]
  },
  {
   "cell_type": "markdown",
   "metadata": {},
   "source": [
    "## Data Preparation"
   ]
  },
  {
   "cell_type": "code",
   "execution_count": 176,
   "metadata": {},
   "outputs": [],
   "source": [
    "n_DX = 29\n",
    "n_PR = 15\n",
    "DXs = ['DX'+str(n) for n in range(2, n_DX+2)]\n",
    "PRs = ['PR'+str(n) for n in range(1, n_PR+1)]\n",
    "Others = ['AGE', 'FEMALE']"
   ]
  },
  {
   "cell_type": "code",
   "execution_count": 177,
   "metadata": {},
   "outputs": [],
   "source": [
    "cohort='ami'\n",
    "folder = 'multi_space_glove/'\n",
    "tst_seed=0"
   ]
  },
  {
   "cell_type": "code",
   "execution_count": 214,
   "metadata": {},
   "outputs": [],
   "source": [
    "all_df = pd.read_csv(path+folder+'cohorts10/{}/pred_comorb.csv'.format(cohort), dtype=core_dtypes_pd)"
   ]
  },
  {
   "cell_type": "code",
   "execution_count": 215,
   "metadata": {},
   "outputs": [],
   "source": [
    "DX1_rarecutpoint = 10\n",
    "DX_rarecutpoint = 10\n",
    "PR_rarecutpoint = 10"
   ]
  },
  {
   "cell_type": "code",
   "execution_count": 216,
   "metadata": {},
   "outputs": [],
   "source": [
    "preprocessed = preprocess(all_df, DX_rarecutpoint=DX_rarecutpoint, PR_rarecutpoint=PR_rarecutpoint)\n",
    "all_df = preprocessed['int_df']\n",
    "\n",
    "tst_key = pd.read_csv(path+folder+'cohorts10/{}/tst_key{}.csv'.format(cohort, tst_seed), names = ['KEY_NRD'])\n",
    "tst_df = all_df.loc[all_df.KEY_NRD.isin(tst_key.KEY_NRD)].reset_index(drop=True)\n",
    "train_df0 = all_df.loc[~all_df.KEY_NRD.isin(tst_key.KEY_NRD)].reset_index(drop=True)\n",
    "\n",
    "DX1_cat = preprocessed['DX1_cat']\n",
    "DX_cat = preprocessed['DX_cat']\n",
    "PR_cat = preprocessed['PR_cat']\n",
    "DX1_dict = preprocessed['DX1_dict']\n",
    "DX_dict = preprocessed['DX_dict']\n",
    "PR_dict = preprocessed['PR_dict']\n",
    "code_cat = preprocessed['code_cat']\n",
    "hosp_cat = preprocessed['hosp_cat']"
   ]
  },
  {
   "cell_type": "code",
   "execution_count": 217,
   "metadata": {},
   "outputs": [
    {
     "data": {
      "text/plain": [
       "((181319, 182), (20719, 182))"
      ]
     },
     "execution_count": 217,
     "metadata": {},
     "output_type": "execute_result"
    }
   ],
   "source": [
    "train_df0.shape, tst_df.shape"
   ]
  },
  {
   "cell_type": "markdown",
   "metadata": {},
   "source": [
    "### Collect Co-occurence Counts by Glove class"
   ]
  },
  {
   "cell_type": "code",
   "execution_count": 12,
   "metadata": {},
   "outputs": [],
   "source": [
    "from glove import Glove"
   ]
  },
  {
   "cell_type": "code",
   "execution_count": 14,
   "metadata": {},
   "outputs": [],
   "source": [
    "code_embed_dim=100\n",
    "count_cap=20"
   ]
  },
  {
   "cell_type": "code",
   "execution_count": 15,
   "metadata": {},
   "outputs": [],
   "source": [
    "g = Glove(input_dim=len(preprocessed['code_cat']), embedding_dim=code_embed_dim, count_cap=count_cap)"
   ]
  },
  {
   "cell_type": "code",
   "execution_count": 16,
   "metadata": {},
   "outputs": [
    {
     "name": "stdout",
     "output_type": "stream",
     "text": [
      "Updating co-occurrence matrix from a Dataframe with 181319 rows...\n",
      "Finished. It takes 31.0 seconds to update the cooccurrences.\n"
     ]
    }
   ],
   "source": [
    "g.update_cooccur(train_df0[['DX1']+DXs+PRs])"
   ]
  },
  {
   "cell_type": "code",
   "execution_count": 17,
   "metadata": {},
   "outputs": [],
   "source": [
    "cooccur_df = g.get_cooccur_df()"
   ]
  },
  {
   "cell_type": "code",
   "execution_count": 18,
   "metadata": {},
   "outputs": [
    {
     "data": {
      "text/plain": [
       "(896850, 3)"
      ]
     },
     "execution_count": 18,
     "metadata": {},
     "output_type": "execute_result"
    }
   ],
   "source": [
    "cooccur_df.shape"
   ]
  },
  {
   "cell_type": "code",
   "execution_count": 19,
   "metadata": {},
   "outputs": [],
   "source": [
    "parent_pairs = preprocessed['parent_pairs']"
   ]
  },
  {
   "cell_type": "markdown",
   "metadata": {},
   "source": [
    "### Data formating"
   ]
  },
  {
   "cell_type": "code",
   "execution_count": 184,
   "metadata": {},
   "outputs": [],
   "source": [
    "DX1_cat = preprocessed['DX1_cat']\n",
    "DX_cat = preprocessed['DX_cat']\n",
    "PR_cat = preprocessed['PR_cat']\n",
    "DX1_dict = preprocessed['DX1_dict']\n",
    "DX_dict = preprocessed['DX_dict']\n",
    "PR_dict = preprocessed['PR_dict']\n",
    "code_cat = preprocessed['code_cat']\n",
    "hosp_cat = preprocessed['hosp_cat']"
   ]
  },
  {
   "cell_type": "code",
   "execution_count": 21,
   "metadata": {},
   "outputs": [],
   "source": [
    "train_df = train_df0.copy()"
   ]
  },
  {
   "cell_type": "code",
   "execution_count": 22,
   "metadata": {},
   "outputs": [],
   "source": [
    "n_fold = 5"
   ]
  },
  {
   "cell_type": "code",
   "execution_count": 23,
   "metadata": {},
   "outputs": [],
   "source": [
    "skf = StratifiedKFold(n_splits=n_fold, random_state=24, shuffle=True)"
   ]
  },
  {
   "cell_type": "code",
   "execution_count": 24,
   "metadata": {},
   "outputs": [],
   "source": [
    "trn_idx, val_idx = next(skf.split(train_df, train_df0.HOSP_NRD))"
   ]
  },
  {
   "cell_type": "code",
   "execution_count": 170,
   "metadata": {},
   "outputs": [],
   "source": [
    "trn_df = train_df.loc[trn_idx].reset_index(drop=True)\n",
    "val_df = train_df.loc[val_idx].reset_index(drop=True)"
   ]
  },
  {
   "cell_type": "markdown",
   "metadata": {},
   "source": [
    "### Data Generator"
   ]
  },
  {
   "cell_type": "code",
   "execution_count": 33,
   "metadata": {},
   "outputs": [],
   "source": [
    "from keras.utils import Sequence"
   ]
  },
  {
   "cell_type": "code",
   "execution_count": 193,
   "metadata": {},
   "outputs": [],
   "source": [
    "batchsize_ratio = 4"
   ]
  },
  {
   "cell_type": "code",
   "execution_count": 194,
   "metadata": {},
   "outputs": [],
   "source": [
    "class DoubleBatchGenerator(Sequence):\n",
    "    'Generates data from two datasets'\n",
    "    def __init__(self, cooccur_df, readm_df, readm_batchsize=512, batchsize_ratio=4, shuffle=True, scaling_factor=0.75, \n",
    "                count_cap=20):\n",
    "        '''Initialization\n",
    "        Here coocur_df and readm_df need to have integer index from 0, i.e. they need to reset_index()'''\n",
    "        self.readm_batchsize = readm_batchsize\n",
    "        self.cooccur_batchsize = readm_batchsize*batchsize_ratio\n",
    "        self.batchsize_ratio = batchsize_ratio\n",
    "        self.cooccur_df = cooccur_df\n",
    "        self.readm_df = readm_df\n",
    "        self.shuffle = shuffle\n",
    "        self.__scaling_factor = scaling_factor\n",
    "        self.__count_cap = count_cap\n",
    "        self.on_epoch_end()\n",
    "\n",
    "    def __len__(self):\n",
    "        'Denotes the number of batches per epoch'\n",
    "        readm_steps = np.floor(len(self.readm_df) / self.readm_batchsize)\n",
    "        cooccur_steps = np.floor(len(self.cooccur_df)/self.cooccur_batchsize)\n",
    "        return int(np.min((readm_steps, cooccur_steps)))\n",
    "\n",
    "    def __getitem__(self, index):\n",
    "        'Generate one batch of data'\n",
    "        # Generate indexes of the batch\n",
    "        readm_indexes = self.readm_indexes[index*self.readm_batchsize:(index+1)*self.readm_batchsize]\n",
    "        cooccur_indexes = self.cooccur_indexes[index*self.cooccur_batchsize:(index+1)*self.cooccur_batchsize]\n",
    "\n",
    "        DX1_array = self.readm_df.loc[readm_indexes, 'DX1'].values\n",
    "        DX_mat = self.readm_df.loc[readm_indexes, DXs].values\n",
    "        PR_mat = self.readm_df.loc[readm_indexes, PRs].values\n",
    "        hosp_array = self.readm_df.loc[readm_indexes, 'HOSP_NRD'].values\n",
    "        other_mat = self.readm_df.loc[readm_indexes, Others].values\n",
    "        y_readm = self.readm_df.loc[readm_indexes, 'readm30'].astype(int).values\n",
    "        Y_readm = to_categorical(y_readm, num_classes=2)\n",
    "\n",
    "        focal_id = self.cooccur_df.loc[cooccur_indexes, 'focal_index'].values\n",
    "        context_id = self.cooccur_df.loc[cooccur_indexes, 'context_index'].values\n",
    "        y_cooccur = np.log(self.cooccur_df.loc[cooccur_indexes, 'cooccur_counts'].values)\n",
    "        \n",
    "        focal_id = np.reshape(focal_id, (self.readm_batchsize, self.batchsize_ratio))\n",
    "        context_id = np.reshape(context_id, (self.readm_batchsize, self.batchsize_ratio))\n",
    "        y_cooccur = np.reshape(y_cooccur, (self.readm_batchsize, self.batchsize_ratio))\n",
    "\n",
    "        return [DX1_array, DX_mat, PR_mat, hosp_array, other_mat, focal_id, context_id], [Y_readm, y_cooccur]\n",
    "\n",
    "    def on_epoch_end(self):\n",
    "        'Updates indexes after each epoch'\n",
    "        self.readm_indexes = np.arange(len(self.readm_df))\n",
    "        self.cooccur_indexes = np.arange(len(self.cooccur_df))\n",
    "        if self.shuffle == True:\n",
    "            np.random.shuffle(self.readm_indexes)\n",
    "            np.random.shuffle(self.cooccur_indexes)"
   ]
  },
  {
   "cell_type": "code",
   "execution_count": 195,
   "metadata": {},
   "outputs": [],
   "source": [
    "count_cap = 20\n",
    "scaling_factor = 0.75\n",
    "def weighting_factor(count):\n",
    "    ge_mask = K.cast(K.greater_equal(count, count_cap), K.floatx())\n",
    "    l_mask = K.cast(K.less(count, count_cap), K.floatx())\n",
    "    return 1.*ge_mask + np.power(count/count_cap, scaling_factor)*l_mask"
   ]
  },
  {
   "cell_type": "code",
   "execution_count": 196,
   "metadata": {},
   "outputs": [],
   "source": [
    "def loss_cooccur(y_true, y_pred):\n",
    "    weight_cooccur = weighting_factor(K.exp(y_true))\n",
    "    return K.mean(K.square(y_pred - y_true)*weight_cooccur)"
   ]
  },
  {
   "cell_type": "code",
   "execution_count": 208,
   "metadata": {},
   "outputs": [],
   "source": [
    "trn_gen = DoubleBatchGenerator(cooccur_df=cooccur_df, readm_df=trn_df, readm_batchsize=256, batchsize_ratio=batchsize_ratio, \n",
    "                               shuffle=True)"
   ]
  },
  {
   "cell_type": "code",
   "execution_count": 209,
   "metadata": {},
   "outputs": [],
   "source": [
    "val_gen = DoubleBatchGenerator(cooccur_df=cooccur_df, readm_df=val_df, readm_batchsize=256, batchsize_ratio=batchsize_ratio, \n",
    "                               shuffle=False)"
   ]
  },
  {
   "cell_type": "code",
   "execution_count": 218,
   "metadata": {},
   "outputs": [],
   "source": [
    "tst_gen = DoubleBatchGenerator(cooccur_df=cooccur_df, readm_df=tst_df, readm_batchsize=256, batchsize_ratio=batchsize_ratio, \n",
    "                               shuffle=False)"
   ]
  },
  {
   "cell_type": "code",
   "execution_count": 206,
   "metadata": {},
   "outputs": [
    {
     "data": {
      "text/plain": [
       "(282.447265625, 71.69140625, 437.9150390625)"
      ]
     },
     "execution_count": 206,
     "metadata": {},
     "output_type": "execute_result"
    }
   ],
   "source": [
    "len(trn_df)/512, len(val_df)/512, len(cooccur_df)/512/batchsize_ratio"
   ]
  },
  {
   "cell_type": "code",
   "execution_count": 167,
   "metadata": {},
   "outputs": [],
   "source": [
    "arrays = next(iter(trn_gen))"
   ]
  },
  {
   "cell_type": "code",
   "execution_count": 168,
   "metadata": {},
   "outputs": [
    {
     "data": {
      "text/plain": [
       "([array([12, 16, 16, 16]),\n",
       "  array([[2404,  528,  357,  844,    0,    0,    0,    0,    0,    0,    0,\n",
       "             0,    0,    0,    0,    0,    0,    0,    0,    0,    0,    0,\n",
       "             0,    0,    0,    0,    0,    0,    0],\n",
       "         [ 844,    0,    0,  241,  790, 2409, 2361, 2364, 1836,  357,  313,\n",
       "          1267,  348,  388,    0,    0,    0,    0,    0,    0,    0,    0,\n",
       "             0,    0,    0,    0,    0,    0,    0],\n",
       "         [1482,  801,  313,  233, 1434,  844,    0,    0,    0,    0,    0,\n",
       "             0,    0,    0,    0,    0,    0,    0,    0,    0,    0,    0,\n",
       "             0,    0,    0,    0,    0,    0,    0],\n",
       "         [ 924,  790,    0,  562, 2280, 1199,  299, 1159, 1819,  313,  856,\n",
       "          2192,  922, 1107,  785,    0,  929, 2361,    0,    0,    0,    0,\n",
       "             0,    0,    0,    0,    0,    0,    0]]),\n",
       "  array([[2426, 2422, 2428, 2502, 2722, 2438, 2520,    0,    0,    0,    0,\n",
       "             0,    0,    0,    0],\n",
       "         [2590, 2714, 2722, 2520, 2588, 2505, 2719,    0,    0,    0,    0,\n",
       "             0,    0,    0,    0],\n",
       "         [2722, 2427, 2719, 2502, 2422, 2438, 2520,    0,    0,    0,    0,\n",
       "             0,    0,    0,    0],\n",
       "         [   0,    0,    0,    0,    0,    0,    0,    0,    0,    0,    0,\n",
       "             0,    0,    0,    0]]),\n",
       "  array([0, 0, 0, 0]),\n",
       "  array([[71.,  0.],\n",
       "         [68.,  1.],\n",
       "         [75.,  0.],\n",
       "         [90.,  0.]]),\n",
       "  array([[1481, 2139],\n",
       "         [1898,  312],\n",
       "         [2423, 1688],\n",
       "         [2745, 2466]]),\n",
       "  array([[ 928, 1409],\n",
       "         [1602,  241],\n",
       "         [1213,  781],\n",
       "         [ 993, 1218]])],\n",
       " [array([[1., 0.],\n",
       "         [1., 0.],\n",
       "         [1., 0.],\n",
       "         [1., 0.]], dtype=float32), array([[0.        , 2.39789527],\n",
       "         [0.        , 6.05678401],\n",
       "         [0.        , 2.19722458],\n",
       "         [2.19722458, 0.        ]])])"
      ]
     },
     "execution_count": 168,
     "metadata": {},
     "output_type": "execute_result"
    }
   ],
   "source": [
    "arrays"
   ]
  },
  {
   "cell_type": "code",
   "execution_count": 169,
   "metadata": {},
   "outputs": [
    {
     "data": {
      "text/html": [
       "<div>\n",
       "<style scoped>\n",
       "    .dataframe tbody tr th:only-of-type {\n",
       "        vertical-align: middle;\n",
       "    }\n",
       "\n",
       "    .dataframe tbody tr th {\n",
       "        vertical-align: top;\n",
       "    }\n",
       "\n",
       "    .dataframe thead th {\n",
       "        text-align: right;\n",
       "    }\n",
       "</style>\n",
       "<table border=\"1\" class=\"dataframe\">\n",
       "  <thead>\n",
       "    <tr style=\"text-align: right;\">\n",
       "      <th></th>\n",
       "      <th>focal_index</th>\n",
       "      <th>context_index</th>\n",
       "      <th>cooccur_counts</th>\n",
       "    </tr>\n",
       "  </thead>\n",
       "  <tbody>\n",
       "    <tr>\n",
       "      <th>0</th>\n",
       "      <td>1481</td>\n",
       "      <td>928</td>\n",
       "      <td>1.0</td>\n",
       "    </tr>\n",
       "    <tr>\n",
       "      <th>1</th>\n",
       "      <td>2139</td>\n",
       "      <td>1409</td>\n",
       "      <td>11.0</td>\n",
       "    </tr>\n",
       "    <tr>\n",
       "      <th>2</th>\n",
       "      <td>1898</td>\n",
       "      <td>1602</td>\n",
       "      <td>1.0</td>\n",
       "    </tr>\n",
       "    <tr>\n",
       "      <th>3</th>\n",
       "      <td>312</td>\n",
       "      <td>241</td>\n",
       "      <td>427.0</td>\n",
       "    </tr>\n",
       "    <tr>\n",
       "      <th>4</th>\n",
       "      <td>2423</td>\n",
       "      <td>1213</td>\n",
       "      <td>1.0</td>\n",
       "    </tr>\n",
       "    <tr>\n",
       "      <th>5</th>\n",
       "      <td>1688</td>\n",
       "      <td>781</td>\n",
       "      <td>9.0</td>\n",
       "    </tr>\n",
       "    <tr>\n",
       "      <th>6</th>\n",
       "      <td>2745</td>\n",
       "      <td>993</td>\n",
       "      <td>9.0</td>\n",
       "    </tr>\n",
       "    <tr>\n",
       "      <th>7</th>\n",
       "      <td>2466</td>\n",
       "      <td>1218</td>\n",
       "      <td>1.0</td>\n",
       "    </tr>\n",
       "  </tbody>\n",
       "</table>\n",
       "</div>"
      ],
      "text/plain": [
       "   focal_index  context_index  cooccur_counts\n",
       "0         1481            928             1.0\n",
       "1         2139           1409            11.0\n",
       "2         1898           1602             1.0\n",
       "3          312            241           427.0\n",
       "4         2423           1213             1.0\n",
       "5         1688            781             9.0\n",
       "6         2745            993             9.0\n",
       "7         2466           1218             1.0"
      ]
     },
     "execution_count": 169,
     "metadata": {},
     "output_type": "execute_result"
    }
   ],
   "source": [
    "cooccur_df.head(8)"
   ]
  },
  {
   "cell_type": "markdown",
   "metadata": {},
   "source": [
    "### Model Building"
   ]
  },
  {
   "cell_type": "code",
   "execution_count": 71,
   "metadata": {},
   "outputs": [],
   "source": [
    "from setsum_layer import SetSum, MaskedSum, MaskedDense, MaskedPooling\n",
    "from keras.layers import Multiply"
   ]
  },
  {
   "cell_type": "code",
   "execution_count": 30,
   "metadata": {},
   "outputs": [],
   "source": [
    "from keras_multi_head import MultiHeadAttention"
   ]
  },
  {
   "cell_type": "code",
   "execution_count": 200,
   "metadata": {},
   "outputs": [],
   "source": [
    "code_embed_dim = 100\n",
    "md_width = 64\n",
    "fc_width = 512\n",
    "hosp_embed_dim = 1\n",
    "dropout = 0.3\n",
    "job_index = 0\n",
    "batchsize = 512\n",
    "parent_pairs = None"
   ]
  },
  {
   "cell_type": "code",
   "execution_count": 96,
   "metadata": {
    "collapsed": true
   },
   "outputs": [
    {
     "ename": "NameError",
     "evalue": "name 'embed_mat' is not defined",
     "output_type": "error",
     "traceback": [
      "\u001b[0;31m---------------------------------------------------------------------------\u001b[0m",
      "\u001b[0;31mNameError\u001b[0m                                 Traceback (most recent call last)",
      "\u001b[0;32m<ipython-input-96-c61877658696>\u001b[0m in \u001b[0;36m<module>\u001b[0;34m()\u001b[0m\n\u001b[0;32m----> 1\u001b[0;31m \u001b[0membed_initializer\u001b[0m \u001b[0;34m=\u001b[0m \u001b[0mConstant\u001b[0m\u001b[0;34m(\u001b[0m\u001b[0membed_mat\u001b[0m\u001b[0;34m)\u001b[0m\u001b[0;34m\u001b[0m\u001b[0m\n\u001b[0m",
      "\u001b[0;31mNameError\u001b[0m: name 'embed_mat' is not defined"
     ]
    }
   ],
   "source": [
    "embed_initializer = Constant(embed_mat)"
   ]
  },
  {
   "cell_type": "code",
   "execution_count": 201,
   "metadata": {},
   "outputs": [],
   "source": [
    "embed_initializer = 'uniform'"
   ]
  },
  {
   "cell_type": "code",
   "execution_count": 202,
   "metadata": {},
   "outputs": [],
   "source": [
    "input_w = Input(shape=(batchsize_ratio,), name='focal_index')\n",
    "input_v = Input(shape=(batchsize_ratio,), name='context_index')\n",
    "if parent_pairs is None:\n",
    "    embed_layer = Embedding(input_dim=len(code_cat), output_dim=code_embed_dim, name='embed')\n",
    "else:\n",
    "    embed_layer = Embedding(input_dim=len(code_cat), output_dim=code_embed_dim, name='embed',\n",
    "                            embeddings_regularizer=Parent_reg(parent_pairs, lamb, metric))\n",
    "w_embed = embed_layer(input_w)\n",
    "v_embed = embed_layer(input_v)\n",
    "bias_layer = Embedding(input_dim=len(code_cat), output_dim=1, name='bias')\n",
    "w_bias = bias_layer(input_w)\n",
    "v_bias = bias_layer(input_v)\n",
    "\n",
    "inner = Multiply()([w_embed, v_embed])\n",
    "inner = Lambda(lambda x: K.sum(x, axis=-1, keepdims=True))(inner)\n",
    "\n",
    "merged = Concatenate(axis=-1)([inner, w_bias, v_bias])\n",
    "\n",
    "output_cooccur = Lambda(lambda x: K.sum(x, axis=-1, keepdims=False), name='cooccur')(merged)\n",
    "\n",
    "input_DX1 = Input(shape=(1,))\n",
    "DX1_embed = embed_layer(input_DX1)\n",
    "DX1_embed = Reshape((code_embed_dim,))(DX1_embed)\n",
    "input_DX = Input(shape = (len(DXs),))\n",
    "DX_embed = embed_layer(input_DX)\n",
    "DX_embed = MaskedDense(md_width, activation='relu')(DX_embed)\n",
    "DX_embed = MaskedSum()(DX_embed)\n",
    "input_PR = Input(shape = (len(PRs),))\n",
    "PR_embed = embed_layer(input_PR)\n",
    "PR_embed = MaskedDense(md_width, activation='relu')(PR_embed)\n",
    "PR_embed = MaskedSum()(PR_embed)\n",
    "input_hosp = Input(shape=(1,))\n",
    "hosp_embed = Embedding(input_dim=len(hosp_cat), output_dim=hosp_embed_dim, input_length=1)(input_hosp)\n",
    "hosp_embed = Reshape((hosp_embed_dim, ))(hosp_embed)\n",
    "input_other = Input(shape=(other_mat_train.shape[1], ))\n",
    "merged = Concatenate(axis=1)([DX1_embed, DX_embed, PR_embed, hosp_embed, input_other])\n",
    "merged = Dense(fc_width, activation='relu')(merged)\n",
    "merged = Dropout(dropout)(merged)\n",
    "output_readm = Dense(2, activation='softmax', name='readm')(merged)\n",
    "\n",
    "model = Model(inputs=[input_DX1, input_DX, input_PR, input_hosp, input_other, input_w, input_v], \n",
    "              outputs=[output_readm, output_cooccur])"
   ]
  },
  {
   "cell_type": "code",
   "execution_count": 203,
   "metadata": {},
   "outputs": [],
   "source": [
    "adam = Adam(lr=5e-4)\n",
    "model.compile(loss={'readm':'categorical_crossentropy', 'cooccur':loss_cooccur}, \n",
    "             optimizer=adam, \n",
    "             loss_weights={'readm':1., 'cooccur':1.})"
   ]
  },
  {
   "cell_type": "code",
   "execution_count": 532,
   "metadata": {},
   "outputs": [],
   "source": [
    "auccheckpoint = AUCCheckPoint(filepath=model_path+'embeding_nn_temp'+str(job_index)+'.h5', validation_y=Y_val[:, 1], \n",
    "                                 validation_x=[DX1_array_val, DX_mat_val, PR_mat_val, hosp_array_val, other_mat_val])\n",
    "reduce_lr = ReduceLROnPlateau(monitor='val_loss', factor=0.2, patience=5, min_lr=K.epsilon())\n",
    "earlystop = EarlyStopping(monitor='val_loss', patience=20)"
   ]
  },
  {
   "cell_type": "code",
   "execution_count": 454,
   "metadata": {},
   "outputs": [],
   "source": [
    "class_weight = {0:(Y_trn.shape[0]/sum(Y_trn[:, 0])), 1:(Y_trn.shape[0]/sum(Y_trn[:, 1]))}"
   ]
  },
  {
   "cell_type": "code",
   "execution_count": 211,
   "metadata": {
    "scrolled": true
   },
   "outputs": [
    {
     "name": "stdout",
     "output_type": "stream",
     "text": [
      "Epoch 1/20\n",
      "564/564 [==============================] - 17s 31ms/step - loss: 2.8996 - readm_loss: 0.3487 - cooccur_loss: 2.5510 - val_loss: 2.9153 - val_readm_loss: 0.3452 - val_cooccur_loss: 2.5702\n",
      "Epoch 2/20\n",
      "564/564 [==============================] - 17s 30ms/step - loss: 2.6290 - readm_loss: 0.3416 - cooccur_loss: 2.2875 - val_loss: 2.4299 - val_readm_loss: 0.3427 - val_cooccur_loss: 2.0873\n",
      "Epoch 3/20\n",
      "564/564 [==============================] - 17s 30ms/step - loss: 1.7837 - readm_loss: 0.3387 - cooccur_loss: 1.4450 - val_loss: 1.1876 - val_readm_loss: 0.3424 - val_cooccur_loss: 0.8451\n",
      "Epoch 4/20\n",
      "564/564 [==============================] - 20s 35ms/step - loss: 0.7943 - readm_loss: 0.3374 - cooccur_loss: 0.4569 - val_loss: 0.6045 - val_readm_loss: 0.3434 - val_cooccur_loss: 0.2611\n",
      "Epoch 5/20\n",
      "564/564 [==============================] - 20s 35ms/step - loss: 0.5373 - readm_loss: 0.3357 - cooccur_loss: 0.2016 - val_loss: 0.5123 - val_readm_loss: 0.3421 - val_cooccur_loss: 0.1702\n",
      "Epoch 6/20\n",
      "564/564 [==============================] - 20s 36ms/step - loss: 0.4908 - readm_loss: 0.3335 - cooccur_loss: 0.1573 - val_loss: 0.4912 - val_readm_loss: 0.3408 - val_cooccur_loss: 0.1503\n",
      "Epoch 7/20\n",
      "564/564 [==============================] - 20s 35ms/step - loss: 0.4770 - readm_loss: 0.3319 - cooccur_loss: 0.1451 - val_loss: 0.4851 - val_readm_loss: 0.3415 - val_cooccur_loss: 0.1436\n",
      "Epoch 8/20\n",
      "564/564 [==============================] - 20s 36ms/step - loss: 0.4694 - readm_loss: 0.3295 - cooccur_loss: 0.1400 - val_loss: 0.4796 - val_readm_loss: 0.3413 - val_cooccur_loss: 0.1384\n",
      "Epoch 9/20\n",
      "564/564 [==============================] - 20s 35ms/step - loss: 0.4621 - readm_loss: 0.3276 - cooccur_loss: 0.1344 - val_loss: 0.4785 - val_readm_loss: 0.3468 - val_cooccur_loss: 0.1317\n",
      "Epoch 10/20\n",
      "564/564 [==============================] - 17s 30ms/step - loss: 0.4535 - readm_loss: 0.3264 - cooccur_loss: 0.1271 - val_loss: 0.4684 - val_readm_loss: 0.3454 - val_cooccur_loss: 0.1229\n",
      "Epoch 11/20\n",
      "564/564 [==============================] - 17s 30ms/step - loss: 0.4429 - readm_loss: 0.3253 - cooccur_loss: 0.1176 - val_loss: 0.4558 - val_readm_loss: 0.3432 - val_cooccur_loss: 0.1126\n",
      "Epoch 12/20\n",
      "564/564 [==============================] - 17s 30ms/step - loss: 0.4316 - readm_loss: 0.3243 - cooccur_loss: 0.1073 - val_loss: 0.4488 - val_readm_loss: 0.3461 - val_cooccur_loss: 0.1027\n",
      "Epoch 13/20\n",
      "564/564 [==============================] - 17s 30ms/step - loss: 0.4211 - readm_loss: 0.3234 - cooccur_loss: 0.0977 - val_loss: 0.4399 - val_readm_loss: 0.3454 - val_cooccur_loss: 0.0945\n",
      "Epoch 14/20\n",
      "564/564 [==============================] - 17s 30ms/step - loss: 0.4140 - readm_loss: 0.3231 - cooccur_loss: 0.0909 - val_loss: 0.4347 - val_readm_loss: 0.3469 - val_cooccur_loss: 0.0877\n",
      "Epoch 15/20\n",
      "564/564 [==============================] - 17s 30ms/step - loss: 0.4073 - readm_loss: 0.3228 - cooccur_loss: 0.0845 - val_loss: 0.4342 - val_readm_loss: 0.3520 - val_cooccur_loss: 0.0821\n",
      "Epoch 16/20\n",
      "564/564 [==============================] - 17s 30ms/step - loss: 0.4009 - readm_loss: 0.3222 - cooccur_loss: 0.0788 - val_loss: 0.4271 - val_readm_loss: 0.3501 - val_cooccur_loss: 0.0770\n",
      "Epoch 17/20\n",
      "564/564 [==============================] - 20s 35ms/step - loss: 0.3951 - readm_loss: 0.3207 - cooccur_loss: 0.0744 - val_loss: 0.4218 - val_readm_loss: 0.3492 - val_cooccur_loss: 0.0726\n",
      "Epoch 18/20\n",
      "564/564 [==============================] - 20s 36ms/step - loss: 0.3906 - readm_loss: 0.3201 - cooccur_loss: 0.0705 - val_loss: 0.4169 - val_readm_loss: 0.3481 - val_cooccur_loss: 0.0688\n",
      "Epoch 19/20\n",
      "564/564 [==============================] - 20s 36ms/step - loss: 0.3852 - readm_loss: 0.3185 - cooccur_loss: 0.0668 - val_loss: 0.4158 - val_readm_loss: 0.3503 - val_cooccur_loss: 0.0655\n",
      "Epoch 20/20\n",
      "564/564 [==============================] - 20s 36ms/step - loss: 0.3818 - readm_loss: 0.3179 - cooccur_loss: 0.0639 - val_loss: 0.4134 - val_readm_loss: 0.3509 - val_cooccur_loss: 0.0626\n"
     ]
    }
   ],
   "source": [
    "hist = model.fit_generator(generator=trn_gen, validation_data=val_gen, epochs=20, verbose=1)"
   ]
  },
  {
   "cell_type": "code",
   "execution_count": 533,
   "metadata": {
    "scrolled": true
   },
   "outputs": [
    {
     "name": "stdout",
     "output_type": "stream",
     "text": [
      "Train on 62090 samples, validate on 15976 samples\n",
      "Epoch 1/30\n",
      "62090/62090 [==============================] - 6s 104us/step - loss: 0.3077 - val_loss: 0.3170\n",
      "AUC: 0.7102\n",
      "\n",
      "Epoch 2/30\n",
      "62090/62090 [==============================] - 2s 25us/step - loss: 0.3075 - val_loss: 0.3171\n",
      "AUC: 0.7104\n",
      "\n",
      "Epoch 3/30\n",
      "62090/62090 [==============================] - 1s 23us/step - loss: 0.3072 - val_loss: 0.3171\n",
      "AUC: 0.7105\n",
      "\n",
      "Epoch 4/30\n",
      "62090/62090 [==============================] - 1s 24us/step - loss: 0.3070 - val_loss: 0.3172\n",
      "AUC: 0.7103\n",
      "\n",
      "Epoch 5/30\n",
      "62090/62090 [==============================] - 1s 24us/step - loss: 0.3063 - val_loss: 0.3171\n",
      "AUC: 0.7104\n",
      "\n",
      "Epoch 6/30\n",
      "62090/62090 [==============================] - 1s 23us/step - loss: 0.3060 - val_loss: 0.3171\n",
      "AUC: 0.7107\n",
      "\n",
      "Epoch 7/30\n",
      "62090/62090 [==============================] - 1s 24us/step - loss: 0.3056 - val_loss: 0.3172\n",
      "AUC: 0.7106\n",
      "\n",
      "Epoch 8/30\n",
      "62090/62090 [==============================] - 1s 23us/step - loss: 0.3055 - val_loss: 0.3172\n",
      "AUC: 0.7106\n",
      "\n",
      "Epoch 9/30\n",
      "62090/62090 [==============================] - 1s 24us/step - loss: 0.3053 - val_loss: 0.3172\n",
      "AUC: 0.7105\n",
      "\n",
      "Epoch 10/30\n",
      "62090/62090 [==============================] - 1s 24us/step - loss: 0.3057 - val_loss: 0.3172\n",
      "AUC: 0.7105\n",
      "\n",
      "Epoch 11/30\n",
      "62090/62090 [==============================] - 1s 23us/step - loss: 0.3058 - val_loss: 0.3173\n",
      "AUC: 0.7105\n",
      "\n",
      "Epoch 12/30\n",
      "62090/62090 [==============================] - 1s 23us/step - loss: 0.3053 - val_loss: 0.3172\n",
      "AUC: 0.7105\n",
      "\n",
      "Epoch 13/30\n",
      "62090/62090 [==============================] - 1s 23us/step - loss: 0.3053 - val_loss: 0.3172\n",
      "AUC: 0.7105\n",
      "\n",
      "Epoch 14/30\n",
      "62090/62090 [==============================] - 1s 24us/step - loss: 0.3059 - val_loss: 0.3172\n",
      "AUC: 0.7105\n",
      "\n",
      "Epoch 15/30\n",
      "62090/62090 [==============================] - 1s 24us/step - loss: 0.3054 - val_loss: 0.3171\n",
      "AUC: 0.7105\n",
      "\n",
      "Epoch 16/30\n",
      "62090/62090 [==============================] - 2s 25us/step - loss: 0.3059 - val_loss: 0.3171\n",
      "AUC: 0.7105\n",
      "\n",
      "Epoch 17/30\n",
      "62090/62090 [==============================] - 1s 24us/step - loss: 0.3057 - val_loss: 0.3171\n",
      "AUC: 0.7105\n",
      "\n",
      "Epoch 18/30\n",
      "62090/62090 [==============================] - 2s 24us/step - loss: 0.3053 - val_loss: 0.3171\n",
      "AUC: 0.7105\n",
      "\n",
      "Epoch 19/30\n",
      "62090/62090 [==============================] - 2s 25us/step - loss: 0.3055 - val_loss: 0.3171\n",
      "AUC: 0.7105\n",
      "\n",
      "Epoch 20/30\n",
      "62090/62090 [==============================] - 1s 24us/step - loss: 0.3058 - val_loss: 0.3171\n",
      "AUC: 0.7105\n",
      "\n",
      "Epoch 21/30\n",
      "62090/62090 [==============================] - 1s 24us/step - loss: 0.3056 - val_loss: 0.3171\n",
      "AUC: 0.7105\n",
      "\n"
     ]
    }
   ],
   "source": [
    "hist = model.fit([DX1_array_trn, DX_mat_trn, PR_mat_trn, hosp_array_trn, other_mat_trn], Y_trn, \n",
    "                     batch_size=batchsize, epochs=30, callbacks=[auccheckpoint, reduce_lr, earlystop], \n",
    "                     validation_data=[[DX1_array_val, DX_mat_val, PR_mat_val, hosp_array_val, other_mat_val], Y_val], \n",
    "                    verbose=1)"
   ]
  },
  {
   "cell_type": "code",
   "execution_count": 105,
   "metadata": {
    "scrolled": true
   },
   "outputs": [
    {
     "data": {
      "text/plain": [
       "[<matplotlib.lines.Line2D at 0x2b36a7cb3c18>]"
      ]
     },
     "execution_count": 105,
     "metadata": {},
     "output_type": "execute_result"
    },
    {
     "data": {
      "image/png": "[encoded data removed]",
      "text/plain": [
       "<Figure size 432x288 with 1 Axes>"
      ]
     },
     "metadata": {},
     "output_type": "display_data"
    }
   ],
   "source": [
    "plt.plot(hist.history['val_loss'])"
   ]
  },
  {
   "cell_type": "code",
   "execution_count": 106,
   "metadata": {
    "scrolled": false
   },
   "outputs": [
    {
     "data": {
      "text/plain": [
       "[<matplotlib.lines.Line2D at 0x2b36a7cf4b38>]"
      ]
     },
     "execution_count": 106,
     "metadata": {},
     "output_type": "execute_result"
    },
    {
     "data": {
      "image/png": "[encoded data removed]",
      "text/plain": [
       "<Figure size 432x288 with 1 Axes>"
      ]
     },
     "metadata": {},
     "output_type": "display_data"
    }
   ],
   "source": [
    "plt.plot(auccheckpoint.auc_history)"
   ]
  },
  {
   "cell_type": "code",
   "execution_count": 534,
   "metadata": {},
   "outputs": [],
   "source": [
    "model.load_weights(model_path+'embeding_nn_temp'+str(job_index)+'.h5')"
   ]
  },
  {
   "cell_type": "code",
   "execution_count": 219,
   "metadata": {},
   "outputs": [
    {
     "name": "stdout",
     "output_type": "stream",
     "text": [
      "80/80 [==============================] - 1s 16ms/step\n"
     ]
    }
   ],
   "source": [
    "y = model.predict_generator(tst_gen, verbose=1)"
   ]
  },
  {
   "cell_type": "code",
   "execution_count": 220,
   "metadata": {},
   "outputs": [
    {
     "data": {
      "text/plain": [
       "[array([[0.7344694 , 0.26553062],\n",
       "        [0.9152254 , 0.08477461],\n",
       "        [0.8734931 , 0.12650691],\n",
       "        ...,\n",
       "        [0.74305004, 0.25694996],\n",
       "        [0.7577038 , 0.2422963 ],\n",
       "        [0.6693048 , 0.33069518]], dtype=float32),\n",
       " array([[0.41521823, 2.5294583 , 0.9428971 , 5.565948  ],\n",
       "        [0.6144388 , 2.202258  , 2.1306427 , 0.1867327 ],\n",
       "        [0.7124145 , 0.9411886 , 0.6416438 , 0.10872786],\n",
       "        ...,\n",
       "        [2.2309911 , 0.5028403 , 0.4565217 , 1.4713295 ],\n",
       "        [4.421336  , 0.71095407, 0.3599179 , 1.6731604 ],\n",
       "        [4.9626756 , 0.53126544, 1.0251919 , 0.5296705 ]], dtype=float32)]"
      ]
     },
     "execution_count": 220,
     "metadata": {},
     "output_type": "execute_result"
    }
   ],
   "source": [
    "y[0]"
   ]
  },
  {
   "cell_type": "code",
   "execution_count": 227,
   "metadata": {},
   "outputs": [],
   "source": [
    "y_pred = y[0][:, 1]\n",
    "y_true = tst_df.readm30.astype(int).values[:len(y_pred)]"
   ]
  },
  {
   "cell_type": "code",
   "execution_count": 231,
   "metadata": {
    "scrolled": true
   },
   "outputs": [
    {
     "data": {
      "text/plain": [
       "{0: 0.689598222510154}"
      ]
     },
     "execution_count": 231,
     "metadata": {},
     "output_type": "execute_result"
    },
    {
     "data": {
      "image/png": "[encoded data removed]",
      "text/plain": [
       "<Figure size 432x288 with 1 Axes>"
      ]
     },
     "metadata": {},
     "output_type": "display_data"
    }
   ],
   "source": [
    "plot_roc(y_pred, y_true)"
   ]
  }
 ],
 "metadata": {
  "kernelspec": {
   "display_name": "Python 3",
   "language": "python",
   "name": "python3"
  },
  "language_info": {
   "codemirror_mode": {
    "name": "ipython",
    "version": 3
   },
   "file_extension": ".py",
   "mimetype": "text/x-python",
   "name": "python",
   "nbconvert_exporter": "python",
   "pygments_lexer": "ipython3",
   "version": "3.5.4"
  }
 },
 "nbformat": 4,
 "nbformat_minor": 2
}

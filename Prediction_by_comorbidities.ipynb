{
 "cells": [
  {
   "cell_type": "code",
   "execution_count": 1,
   "metadata": {},
   "outputs": [
    {
     "data": {
      "text/html": [
       "\n",
       "<script>\n",
       "  function code_toggle() {\n",
       "    if (code_shown){\n",
       "      $('div.input').hide('500');\n",
       "      $('#toggleButton').val('Show Code')\n",
       "    } else {\n",
       "      $('div.input').show('500');\n",
       "      $('#toggleButton').val('Hide Code')\n",
       "    }\n",
       "    code_shown = !code_shown\n",
       "  }\n",
       "\n",
       "  $( document ).ready(function(){\n",
       "    code_shown=false;\n",
       "    $('div.input').hide()\n",
       "  });\n",
       "</script>\n",
       "<form action=\"javascript:code_toggle()\"><input type=\"submit\" id=\"toggleButton\" value=\"Show Code\"></form>\n"
      ],
      "text/plain": [
       "<IPython.core.display.HTML object>"
      ]
     },
     "execution_count": 1,
     "metadata": {},
     "output_type": "execute_result"
    }
   ],
   "source": [
    "from IPython.display import HTML\n",
    "HTML('''\n",
    "<script>\n",
    "  function code_toggle() {\n",
    "    if (code_shown){\n",
    "      $('div.input').hide('500');\n",
    "      $('#toggleButton').val('Show Code')\n",
    "    } else {\n",
    "      $('div.input').show('500');\n",
    "      $('#toggleButton').val('Hide Code')\n",
    "    }\n",
    "    code_shown = !code_shown\n",
    "  }\n",
    "\n",
    "  $( document ).ready(function(){\n",
    "    code_shown=false;\n",
    "    $('div.input').hide()\n",
    "  });\n",
    "</script>\n",
    "<form action=\"javascript:code_toggle()\"><input type=\"submit\" id=\"toggleButton\" value=\"Show Code\"></form>\n",
    "''')"
   ]
  },
  {
   "cell_type": "markdown",
   "metadata": {},
   "source": [
    "# Prediction Models by Comorbidities\n",
    "In this notebook we build different models to predict the 30-day readmission rate by the 29 comorbidity categories. "
   ]
  },
  {
   "cell_type": "code",
   "execution_count": 6,
   "metadata": {
    "scrolled": true
   },
   "outputs": [],
   "source": [
    "import pandas as pd\n",
    "import numpy as np\n",
    "import matplotlib.pyplot as plt\n",
    "from sklearn.model_selection import train_test_split\n",
    "import os\n",
    "\n",
    "import sys\n",
    "module_path = os.path.abspath(os.path.join('..'))\n",
    "if module_path not in sys.path:\n",
    "    sys.path.append(module_path)\n",
    "    \n",
    "from DL_utils import plot_roc\n",
    "from sklearn.metrics import roc_curve, auc, average_precision_score\n",
    "import statsmodels.stats.api as sms"
   ]
  },
  {
   "cell_type": "code",
   "execution_count": 4,
   "metadata": {},
   "outputs": [],
   "source": [
    "%matplotlib inline"
   ]
  },
  {
   "cell_type": "code",
   "execution_count": 4,
   "metadata": {},
   "outputs": [],
   "source": [
    "path = '/nfs/turbo/intmed-bnallamo-turbo/wsliu/Data/NRD/'"
   ]
  },
  {
   "cell_type": "code",
   "execution_count": 2,
   "metadata": {},
   "outputs": [],
   "source": [
    "path = '/nfs/turbo/umms-awaljee/wsliu/Data/NRD/'"
   ]
  },
  {
   "cell_type": "code",
   "execution_count": 3,
   "metadata": {},
   "outputs": [],
   "source": [
    "model_path = path + 'models/'\n",
    "if not os.path.exists(model_path): os.mkdir(model_path)"
   ]
  },
  {
   "cell_type": "code",
   "execution_count": 4,
   "metadata": {},
   "outputs": [],
   "source": [
    "from ccs_tools import core_dtypes_pd"
   ]
  },
  {
   "cell_type": "markdown",
   "metadata": {},
   "source": [
    "## Data reading and splitting\n",
    "We first read the ami index cohort, select only the first admission of each patient, and do a train-test splitting. "
   ]
  },
  {
   "cell_type": "code",
   "execution_count": 11,
   "metadata": {},
   "outputs": [],
   "source": [
    "cohort = 'pna'\n",
    "n_fold = 10\n",
    "folder = 'elder/cohorts10/'"
   ]
  },
  {
   "cell_type": "code",
   "execution_count": 12,
   "metadata": {},
   "outputs": [],
   "source": [
    "data_df = pd.read_csv(path+folder+'{}/pred_comorb.csv'.format(cohort), dtype=core_dtypes_pd)"
   ]
  },
  {
   "cell_type": "code",
   "execution_count": 13,
   "metadata": {},
   "outputs": [],
   "source": [
    "for fold_ind in range(n_fold):\n",
    "    tst_key = pd.read_csv(path+folder+'{}/tst_key{}.csv'.format(cohort, fold_ind), names=['KEY_NRD'])\n",
    "    tst_df = data_df.loc[data_df.KEY_NRD.isin(tst_key.KEY_NRD)]\n",
    "    train_df = data_df.loc[~data_df.KEY_NRD.isin(tst_key.KEY_NRD)]\n",
    "    train_df.to_csv(path+folder+'{}/train{}.csv'.format(cohort, fold_ind), index=False)\n",
    "    tst_df.to_csv(path+folder+'{}/tst{}.csv'.format(cohort, fold_ind), index=False)"
   ]
  },
  {
   "cell_type": "code",
   "execution_count": 5,
   "metadata": {},
   "outputs": [],
   "source": [
    "train_df = pd.read_csv(path+'cohorts30/{}/train{}.csv'.format(cohort, tst_fold), dtype=core_dtypes_pd)\n",
    "tst_df = pd.read_csv(path+'cohorts30/{}/tst{}.csv'.format(cohort, tst_fold), dtype=core_dtypes_pd)"
   ]
  },
  {
   "cell_type": "code",
   "execution_count": 45,
   "metadata": {},
   "outputs": [],
   "source": [
    "hosp_size = train_df.groupby('HOSP_NRD').size().sort_values(ascending=False)"
   ]
  },
  {
   "cell_type": "markdown",
   "metadata": {},
   "source": [
    "### Random effects analysis"
   ]
  },
  {
   "cell_type": "code",
   "execution_count": 6,
   "metadata": {},
   "outputs": [],
   "source": [
    "random_effects = pd.read_csv(path+'cohorts30/ami/random_effects0.csv')\n",
    "random_effects.columns = ['HOSP_NRD', 'random_effects', 'postVar']\n",
    "\n",
    "random_effects = random_effects.assign(upper = random_effects.random_effects + 1.96*random_effects.postVar.apply(np.sqrt))\n",
    "random_effects = random_effects.assign(lower = random_effects.random_effects - 1.96*random_effects.postVar.apply(np.sqrt))\n",
    "\n",
    "random_effects = random_effects.assign(outlier = 'not_outlier')\n",
    "random_effects.loc[random_effects.upper < 0, 'outlier'] = 'good'\n",
    "random_effects.loc[random_effects.lower > 0, 'outlier'] = 'bad'"
   ]
  },
  {
   "cell_type": "code",
   "execution_count": 7,
   "metadata": {},
   "outputs": [
    {
     "data": {
      "text/plain": [
       "not_outlier    838\n",
       "bad             22\n",
       "good            14\n",
       "Name: outlier, dtype: int64"
      ]
     },
     "execution_count": 7,
     "metadata": {},
     "output_type": "execute_result"
    }
   ],
   "source": [
    "random_effects.outlier.value_counts()"
   ]
  },
  {
   "cell_type": "code",
   "execution_count": 8,
   "metadata": {},
   "outputs": [
    {
     "data": {
      "text/html": [
       "<div>\n",
       "<style scoped>\n",
       "    .dataframe tbody tr th:only-of-type {\n",
       "        vertical-align: middle;\n",
       "    }\n",
       "\n",
       "    .dataframe tbody tr th {\n",
       "        vertical-align: top;\n",
       "    }\n",
       "\n",
       "    .dataframe thead th {\n",
       "        text-align: right;\n",
       "    }\n",
       "</style>\n",
       "<table border=\"1\" class=\"dataframe\">\n",
       "  <thead>\n",
       "    <tr style=\"text-align: right;\">\n",
       "      <th></th>\n",
       "      <th>HOSP_NRD</th>\n",
       "      <th>random_effects</th>\n",
       "      <th>postVar</th>\n",
       "      <th>upper</th>\n",
       "      <th>lower</th>\n",
       "      <th>outlier</th>\n",
       "    </tr>\n",
       "  </thead>\n",
       "  <tbody>\n",
       "    <tr>\n",
       "      <th>0</th>\n",
       "      <td>11006</td>\n",
       "      <td>-0.127262</td>\n",
       "      <td>0.026824</td>\n",
       "      <td>0.193750</td>\n",
       "      <td>-0.448274</td>\n",
       "      <td>not_outlier</td>\n",
       "    </tr>\n",
       "    <tr>\n",
       "      <th>1</th>\n",
       "      <td>11010</td>\n",
       "      <td>-0.130477</td>\n",
       "      <td>0.017956</td>\n",
       "      <td>0.132164</td>\n",
       "      <td>-0.393118</td>\n",
       "      <td>not_outlier</td>\n",
       "    </tr>\n",
       "    <tr>\n",
       "      <th>2</th>\n",
       "      <td>11011</td>\n",
       "      <td>-0.187761</td>\n",
       "      <td>0.031573</td>\n",
       "      <td>0.160507</td>\n",
       "      <td>-0.536029</td>\n",
       "      <td>not_outlier</td>\n",
       "    </tr>\n",
       "    <tr>\n",
       "      <th>3</th>\n",
       "      <td>11013</td>\n",
       "      <td>0.343648</td>\n",
       "      <td>0.012701</td>\n",
       "      <td>0.564541</td>\n",
       "      <td>0.122754</td>\n",
       "      <td>bad</td>\n",
       "    </tr>\n",
       "    <tr>\n",
       "      <th>4</th>\n",
       "      <td>11014</td>\n",
       "      <td>-0.090874</td>\n",
       "      <td>0.013931</td>\n",
       "      <td>0.140464</td>\n",
       "      <td>-0.322213</td>\n",
       "      <td>not_outlier</td>\n",
       "    </tr>\n",
       "  </tbody>\n",
       "</table>\n",
       "</div>"
      ],
      "text/plain": [
       "   HOSP_NRD  random_effects   postVar     upper     lower      outlier\n",
       "0     11006       -0.127262  0.026824  0.193750 -0.448274  not_outlier\n",
       "1     11010       -0.130477  0.017956  0.132164 -0.393118  not_outlier\n",
       "2     11011       -0.187761  0.031573  0.160507 -0.536029  not_outlier\n",
       "3     11013        0.343648  0.012701  0.564541  0.122754          bad\n",
       "4     11014       -0.090874  0.013931  0.140464 -0.322213  not_outlier"
      ]
     },
     "execution_count": 8,
     "metadata": {},
     "output_type": "execute_result"
    }
   ],
   "source": [
    "random_effects.head()"
   ]
  },
  {
   "cell_type": "code",
   "execution_count": 14,
   "metadata": {},
   "outputs": [],
   "source": [
    "RE_compare = pd.DataFrame()\n",
    "for tst_fold in range(10):\n",
    "    random_effects = pd.read_csv(path+'cohorts30/{}/random_effects{}.csv'.format(cohort, tst_fold))\n",
    "    random_effects.columns = ['HOSP_NRD', 'random_effects', 'postVar']\n",
    "\n",
    "    random_effects = random_effects.assign(upper = random_effects.random_effects + 1.96*random_effects.postVar.apply(np.sqrt))\n",
    "    random_effects = random_effects.assign(lower = random_effects.random_effects - 1.96*random_effects.postVar.apply(np.sqrt))\n",
    "\n",
    "    random_effects = random_effects.assign(outlier = 'not_outlier')\n",
    "    random_effects.loc[random_effects.upper < 0, 'outlier'] = 'good'\n",
    "    random_effects.loc[random_effects.lower > 0, 'outlier'] = 'bad'\n",
    "    \n",
    "    outlier = random_effects[['HOSP_NRD', 'outlier']]\n",
    "    outlier.columns = ['HOSP_NRD', 'outlier'+str(tst_fold)]\n",
    "    \n",
    "    try:\n",
    "        RE_compare = pd.merge(RE_compare, outlier, on='HOSP_NRD')\n",
    "    except KeyError:\n",
    "        RE_compare = outlier"
   ]
  },
  {
   "cell_type": "code",
   "execution_count": 38,
   "metadata": {},
   "outputs": [
    {
     "data": {
      "text/html": [
       "<div>\n",
       "<style scoped>\n",
       "    .dataframe tbody tr th:only-of-type {\n",
       "        vertical-align: middle;\n",
       "    }\n",
       "\n",
       "    .dataframe tbody tr th {\n",
       "        vertical-align: top;\n",
       "    }\n",
       "\n",
       "    .dataframe thead th {\n",
       "        text-align: right;\n",
       "    }\n",
       "</style>\n",
       "<table border=\"1\" class=\"dataframe\">\n",
       "  <thead>\n",
       "    <tr style=\"text-align: right;\">\n",
       "      <th>outlier0</th>\n",
       "      <th>bad</th>\n",
       "      <th>good</th>\n",
       "      <th>not_outlier</th>\n",
       "      <th>All</th>\n",
       "    </tr>\n",
       "    <tr>\n",
       "      <th>outlier3</th>\n",
       "      <th></th>\n",
       "      <th></th>\n",
       "      <th></th>\n",
       "      <th></th>\n",
       "    </tr>\n",
       "  </thead>\n",
       "  <tbody>\n",
       "    <tr>\n",
       "      <th>bad</th>\n",
       "      <td>16</td>\n",
       "      <td>0</td>\n",
       "      <td>2</td>\n",
       "      <td>18</td>\n",
       "    </tr>\n",
       "    <tr>\n",
       "      <th>good</th>\n",
       "      <td>0</td>\n",
       "      <td>12</td>\n",
       "      <td>6</td>\n",
       "      <td>18</td>\n",
       "    </tr>\n",
       "    <tr>\n",
       "      <th>not_outlier</th>\n",
       "      <td>6</td>\n",
       "      <td>2</td>\n",
       "      <td>830</td>\n",
       "      <td>838</td>\n",
       "    </tr>\n",
       "    <tr>\n",
       "      <th>All</th>\n",
       "      <td>22</td>\n",
       "      <td>14</td>\n",
       "      <td>838</td>\n",
       "      <td>874</td>\n",
       "    </tr>\n",
       "  </tbody>\n",
       "</table>\n",
       "</div>"
      ],
      "text/plain": [
       "outlier0     bad  good  not_outlier  All\n",
       "outlier3                                \n",
       "bad           16     0            2   18\n",
       "good           0    12            6   18\n",
       "not_outlier    6     2          830  838\n",
       "All           22    14          838  874"
      ]
     },
     "execution_count": 38,
     "metadata": {},
     "output_type": "execute_result"
    }
   ],
   "source": [
    "pd.crosstab(RE_compare.outlier3, RE_compare.outlier0, margins=True)"
   ]
  },
  {
   "cell_type": "code",
   "execution_count": 78,
   "metadata": {},
   "outputs": [],
   "source": [
    "adjusted_ME = pd.read_csv(path+'cohorts30/ami/adjusted_ME0.csv')"
   ]
  },
  {
   "cell_type": "code",
   "execution_count": 84,
   "metadata": {},
   "outputs": [],
   "source": [
    "n_fold=3\n",
    "adjusted_ME = pd.DataFrame()\n",
    "for tst_fold in range(n_fold):\n",
    "    adjusted = pd.read_csv(path+'cohorts30/{}/adjusted_ME{}.csv'.format(cohort, tst_fold))\n",
    "    adjusted = adjusted[['HOSP_NRD', 'Adjusted_ME']]\n",
    "    adjusted.columns = ['HOSP_NRD', 'Adjusted_ME'+str(tst_fold)]\n",
    "    try:\n",
    "        adjusted_ME = pd.merge(adjusted_ME, adjusted, on='HOSP_NRD')\n",
    "    except KeyError:\n",
    "        adjusted_ME = adjusted"
   ]
  },
  {
   "cell_type": "code",
   "execution_count": 86,
   "metadata": {},
   "outputs": [
    {
     "data": {
      "text/plain": [
       "<matplotlib.axes._subplots.AxesSubplot at 0x2b990cf41e80>"
      ]
     },
     "execution_count": 86,
     "metadata": {},
     "output_type": "execute_result"
    },
    {
     "data": {
      "image/png": "[encoded data removed]",
      "text/plain": [
       "<Figure size 432x288 with 1 Axes>"
      ]
     },
     "metadata": {},
     "output_type": "display_data"
    }
   ],
   "source": [
    "adjusted_ME.plot.scatter('Adjusted_ME1', 'Adjusted_ME2')"
   ]
  },
  {
   "cell_type": "code",
   "execution_count": 88,
   "metadata": {},
   "outputs": [
    {
     "data": {
      "text/plain": [
       "<matplotlib.axes._subplots.AxesSubplot at 0x2b99094a0128>"
      ]
     },
     "execution_count": 88,
     "metadata": {},
     "output_type": "execute_result"
    },
    {
     "data": {
      "image/png": "[encoded data removed]",
      "text/plain": [
       "<Figure size 432x288 with 1 Axes>"
      ]
     },
     "metadata": {},
     "output_type": "display_data"
    }
   ],
   "source": [
    "adjusted_ME.loc[adjusted_ME.HOSP_NRD.isin(random_effects.loc[random_effects.outlier!='not_outlier', 'HOSP_NRD'])].plot.scatter('Adjusted_ME1', 'Adjusted_ME2')"
   ]
  },
  {
   "cell_type": "code",
   "execution_count": 33,
   "metadata": {},
   "outputs": [],
   "source": [
    "update = pd.read_csv(path+'cohorts30/ami/stata/training.csv')"
   ]
  },
  {
   "cell_type": "code",
   "execution_count": 35,
   "metadata": {},
   "outputs": [],
   "source": [
    "hosp_ordered = train_df.sort_values('HOSP_NRD')[['HOSP_NRD']]"
   ]
  },
  {
   "cell_type": "code",
   "execution_count": 37,
   "metadata": {},
   "outputs": [],
   "source": [
    "hosp_ordered = hosp_ordered.reset_index()"
   ]
  },
  {
   "cell_type": "code",
   "execution_count": 38,
   "metadata": {},
   "outputs": [],
   "source": [
    "update = pd.concat([update, hosp_ordered], axis=1)"
   ]
  },
  {
   "cell_type": "code",
   "execution_count": 39,
   "metadata": {},
   "outputs": [
    {
     "data": {
      "text/html": [
       "<div>\n",
       "<style scoped>\n",
       "    .dataframe tbody tr th:only-of-type {\n",
       "        vertical-align: middle;\n",
       "    }\n",
       "\n",
       "    .dataframe tbody tr th {\n",
       "        vertical-align: top;\n",
       "    }\n",
       "\n",
       "    .dataframe thead th {\n",
       "        text-align: right;\n",
       "    }\n",
       "</style>\n",
       "<table border=\"1\" class=\"dataframe\">\n",
       "  <thead>\n",
       "    <tr style=\"text-align: right;\">\n",
       "      <th></th>\n",
       "      <th>re_mean</th>\n",
       "      <th>se_mean</th>\n",
       "      <th>re_mode</th>\n",
       "      <th>se_mode</th>\n",
       "      <th>y_pr</th>\n",
       "      <th>y_pr_mode</th>\n",
       "      <th>index</th>\n",
       "      <th>HOSP_NRD</th>\n",
       "    </tr>\n",
       "  </thead>\n",
       "  <tbody>\n",
       "    <tr>\n",
       "      <th>0</th>\n",
       "      <td>-0.131011</td>\n",
       "      <td>0.163852</td>\n",
       "      <td>-0.127313</td>\n",
       "      <td>0.163828</td>\n",
       "      <td>0.165808</td>\n",
       "      <td>0.166320</td>\n",
       "      <td>142046</td>\n",
       "      <td>11006.0</td>\n",
       "    </tr>\n",
       "    <tr>\n",
       "      <th>1</th>\n",
       "      <td>-0.131011</td>\n",
       "      <td>0.163852</td>\n",
       "      <td>-0.127313</td>\n",
       "      <td>0.163828</td>\n",
       "      <td>0.107342</td>\n",
       "      <td>0.107696</td>\n",
       "      <td>42125</td>\n",
       "      <td>11006.0</td>\n",
       "    </tr>\n",
       "    <tr>\n",
       "      <th>2</th>\n",
       "      <td>-0.131011</td>\n",
       "      <td>0.163852</td>\n",
       "      <td>-0.127313</td>\n",
       "      <td>0.163828</td>\n",
       "      <td>0.054342</td>\n",
       "      <td>0.054532</td>\n",
       "      <td>140405</td>\n",
       "      <td>11006.0</td>\n",
       "    </tr>\n",
       "    <tr>\n",
       "      <th>3</th>\n",
       "      <td>-0.131011</td>\n",
       "      <td>0.163852</td>\n",
       "      <td>-0.127313</td>\n",
       "      <td>0.163828</td>\n",
       "      <td>0.105625</td>\n",
       "      <td>0.105975</td>\n",
       "      <td>136930</td>\n",
       "      <td>11006.0</td>\n",
       "    </tr>\n",
       "    <tr>\n",
       "      <th>4</th>\n",
       "      <td>-0.131011</td>\n",
       "      <td>0.163852</td>\n",
       "      <td>-0.127313</td>\n",
       "      <td>0.163828</td>\n",
       "      <td>0.059397</td>\n",
       "      <td>0.059604</td>\n",
       "      <td>108039</td>\n",
       "      <td>11006.0</td>\n",
       "    </tr>\n",
       "  </tbody>\n",
       "</table>\n",
       "</div>"
      ],
      "text/plain": [
       "    re_mean   se_mean   re_mode   se_mode      y_pr  y_pr_mode   index  \\\n",
       "0 -0.131011  0.163852 -0.127313  0.163828  0.165808   0.166320  142046   \n",
       "1 -0.131011  0.163852 -0.127313  0.163828  0.107342   0.107696   42125   \n",
       "2 -0.131011  0.163852 -0.127313  0.163828  0.054342   0.054532  140405   \n",
       "3 -0.131011  0.163852 -0.127313  0.163828  0.105625   0.105975  136930   \n",
       "4 -0.131011  0.163852 -0.127313  0.163828  0.059397   0.059604  108039   \n",
       "\n",
       "   HOSP_NRD  \n",
       "0   11006.0  \n",
       "1   11006.0  \n",
       "2   11006.0  \n",
       "3   11006.0  \n",
       "4   11006.0  "
      ]
     },
     "execution_count": 39,
     "metadata": {},
     "output_type": "execute_result"
    }
   ],
   "source": [
    "update.head()"
   ]
  },
  {
   "cell_type": "code",
   "execution_count": 40,
   "metadata": {},
   "outputs": [],
   "source": [
    "grouped = update.groupby('HOSP_NRD')"
   ]
  },
  {
   "cell_type": "code",
   "execution_count": 42,
   "metadata": {},
   "outputs": [],
   "source": [
    "re_stata = grouped[['re_mode', 'se_mode']].mean()"
   ]
  },
  {
   "cell_type": "code",
   "execution_count": 44,
   "metadata": {},
   "outputs": [],
   "source": [
    "re_stata = re_stata.assign(HOSP_NRD=re_stata.index)"
   ]
  },
  {
   "cell_type": "code",
   "execution_count": 45,
   "metadata": {},
   "outputs": [
    {
     "data": {
      "text/html": [
       "<div>\n",
       "<style scoped>\n",
       "    .dataframe tbody tr th:only-of-type {\n",
       "        vertical-align: middle;\n",
       "    }\n",
       "\n",
       "    .dataframe tbody tr th {\n",
       "        vertical-align: top;\n",
       "    }\n",
       "\n",
       "    .dataframe thead th {\n",
       "        text-align: right;\n",
       "    }\n",
       "</style>\n",
       "<table border=\"1\" class=\"dataframe\">\n",
       "  <thead>\n",
       "    <tr style=\"text-align: right;\">\n",
       "      <th></th>\n",
       "      <th>re_mode</th>\n",
       "      <th>se_mode</th>\n",
       "      <th>HOSP_NRD</th>\n",
       "    </tr>\n",
       "    <tr>\n",
       "      <th>HOSP_NRD</th>\n",
       "      <th></th>\n",
       "      <th></th>\n",
       "      <th></th>\n",
       "    </tr>\n",
       "  </thead>\n",
       "  <tbody>\n",
       "    <tr>\n",
       "      <th>11006.0</th>\n",
       "      <td>-0.127313</td>\n",
       "      <td>0.163828</td>\n",
       "      <td>11006.0</td>\n",
       "    </tr>\n",
       "    <tr>\n",
       "      <th>11010.0</th>\n",
       "      <td>-0.130474</td>\n",
       "      <td>0.134027</td>\n",
       "      <td>11010.0</td>\n",
       "    </tr>\n",
       "    <tr>\n",
       "      <th>11011.0</th>\n",
       "      <td>-0.187890</td>\n",
       "      <td>0.177746</td>\n",
       "      <td>11011.0</td>\n",
       "    </tr>\n",
       "    <tr>\n",
       "      <th>11013.0</th>\n",
       "      <td>0.343755</td>\n",
       "      <td>0.112714</td>\n",
       "      <td>11013.0</td>\n",
       "    </tr>\n",
       "    <tr>\n",
       "      <th>11014.0</th>\n",
       "      <td>-0.090868</td>\n",
       "      <td>0.118048</td>\n",
       "      <td>11014.0</td>\n",
       "    </tr>\n",
       "  </tbody>\n",
       "</table>\n",
       "</div>"
      ],
      "text/plain": [
       "           re_mode   se_mode  HOSP_NRD\n",
       "HOSP_NRD                              \n",
       "11006.0  -0.127313  0.163828   11006.0\n",
       "11010.0  -0.130474  0.134027   11010.0\n",
       "11011.0  -0.187890  0.177746   11011.0\n",
       "11013.0   0.343755  0.112714   11013.0\n",
       "11014.0  -0.090868  0.118048   11014.0"
      ]
     },
     "execution_count": 45,
     "metadata": {},
     "output_type": "execute_result"
    }
   ],
   "source": [
    "re_stata.head()"
   ]
  },
  {
   "cell_type": "code",
   "execution_count": 46,
   "metadata": {},
   "outputs": [
    {
     "data": {
      "text/html": [
       "<div>\n",
       "<style scoped>\n",
       "    .dataframe tbody tr th:only-of-type {\n",
       "        vertical-align: middle;\n",
       "    }\n",
       "\n",
       "    .dataframe tbody tr th {\n",
       "        vertical-align: top;\n",
       "    }\n",
       "\n",
       "    .dataframe thead th {\n",
       "        text-align: right;\n",
       "    }\n",
       "</style>\n",
       "<table border=\"1\" class=\"dataframe\">\n",
       "  <thead>\n",
       "    <tr style=\"text-align: right;\">\n",
       "      <th></th>\n",
       "      <th>HOSP_NRD</th>\n",
       "      <th>random_effects</th>\n",
       "      <th>postVar</th>\n",
       "      <th>upper</th>\n",
       "      <th>lower</th>\n",
       "      <th>outlier</th>\n",
       "    </tr>\n",
       "  </thead>\n",
       "  <tbody>\n",
       "    <tr>\n",
       "      <th>0</th>\n",
       "      <td>11006</td>\n",
       "      <td>-0.127262</td>\n",
       "      <td>0.026824</td>\n",
       "      <td>0.193750</td>\n",
       "      <td>-0.448274</td>\n",
       "      <td>not_outlier</td>\n",
       "    </tr>\n",
       "    <tr>\n",
       "      <th>1</th>\n",
       "      <td>11010</td>\n",
       "      <td>-0.130477</td>\n",
       "      <td>0.017956</td>\n",
       "      <td>0.132164</td>\n",
       "      <td>-0.393118</td>\n",
       "      <td>not_outlier</td>\n",
       "    </tr>\n",
       "    <tr>\n",
       "      <th>2</th>\n",
       "      <td>11011</td>\n",
       "      <td>-0.187761</td>\n",
       "      <td>0.031573</td>\n",
       "      <td>0.160507</td>\n",
       "      <td>-0.536029</td>\n",
       "      <td>not_outlier</td>\n",
       "    </tr>\n",
       "    <tr>\n",
       "      <th>3</th>\n",
       "      <td>11013</td>\n",
       "      <td>0.343648</td>\n",
       "      <td>0.012701</td>\n",
       "      <td>0.564541</td>\n",
       "      <td>0.122754</td>\n",
       "      <td>bad</td>\n",
       "    </tr>\n",
       "    <tr>\n",
       "      <th>4</th>\n",
       "      <td>11014</td>\n",
       "      <td>-0.090874</td>\n",
       "      <td>0.013931</td>\n",
       "      <td>0.140464</td>\n",
       "      <td>-0.322213</td>\n",
       "      <td>not_outlier</td>\n",
       "    </tr>\n",
       "  </tbody>\n",
       "</table>\n",
       "</div>"
      ],
      "text/plain": [
       "   HOSP_NRD  random_effects   postVar     upper     lower      outlier\n",
       "0     11006       -0.127262  0.026824  0.193750 -0.448274  not_outlier\n",
       "1     11010       -0.130477  0.017956  0.132164 -0.393118  not_outlier\n",
       "2     11011       -0.187761  0.031573  0.160507 -0.536029  not_outlier\n",
       "3     11013        0.343648  0.012701  0.564541  0.122754          bad\n",
       "4     11014       -0.090874  0.013931  0.140464 -0.322213  not_outlier"
      ]
     },
     "execution_count": 46,
     "metadata": {},
     "output_type": "execute_result"
    }
   ],
   "source": [
    "random_effects.head()"
   ]
  },
  {
   "cell_type": "code",
   "execution_count": 47,
   "metadata": {},
   "outputs": [
    {
     "name": "stderr",
     "output_type": "stream",
     "text": [
      "/sw/lsa/centos7/python-anaconda-arc-connect/created-20170421/lib/python3.5/site-packages/IPython/core/interactiveshell.py:2961: FutureWarning: 'HOSP_NRD' is both an index level and a column label.\n",
      "Defaulting to column, but this will raise an ambiguity error in a future version\n",
      "  exec(code_obj, self.user_global_ns, self.user_ns)\n"
     ]
    }
   ],
   "source": [
    "compare = pd.merge(random_effects, re_stata, on='HOSP_NRD')"
   ]
  },
  {
   "cell_type": "code",
   "execution_count": 50,
   "metadata": {},
   "outputs": [],
   "source": [
    "compare = compare.assign(postSD = compare.postVar.apply(np.sqrt))"
   ]
  },
  {
   "cell_type": "code",
   "execution_count": 51,
   "metadata": {},
   "outputs": [
    {
     "data": {
      "text/html": [
       "<div>\n",
       "<style scoped>\n",
       "    .dataframe tbody tr th:only-of-type {\n",
       "        vertical-align: middle;\n",
       "    }\n",
       "\n",
       "    .dataframe tbody tr th {\n",
       "        vertical-align: top;\n",
       "    }\n",
       "\n",
       "    .dataframe thead th {\n",
       "        text-align: right;\n",
       "    }\n",
       "</style>\n",
       "<table border=\"1\" class=\"dataframe\">\n",
       "  <thead>\n",
       "    <tr style=\"text-align: right;\">\n",
       "      <th></th>\n",
       "      <th>HOSP_NRD</th>\n",
       "      <th>random_effects</th>\n",
       "      <th>postVar</th>\n",
       "      <th>upper</th>\n",
       "      <th>lower</th>\n",
       "      <th>outlier</th>\n",
       "      <th>re_mode</th>\n",
       "      <th>se_mode</th>\n",
       "      <th>postSD</th>\n",
       "    </tr>\n",
       "  </thead>\n",
       "  <tbody>\n",
       "    <tr>\n",
       "      <th>0</th>\n",
       "      <td>11006</td>\n",
       "      <td>-0.127262</td>\n",
       "      <td>0.026824</td>\n",
       "      <td>0.193750</td>\n",
       "      <td>-0.448274</td>\n",
       "      <td>not_outlier</td>\n",
       "      <td>-0.127313</td>\n",
       "      <td>0.163828</td>\n",
       "      <td>0.163782</td>\n",
       "    </tr>\n",
       "    <tr>\n",
       "      <th>1</th>\n",
       "      <td>11010</td>\n",
       "      <td>-0.130477</td>\n",
       "      <td>0.017956</td>\n",
       "      <td>0.132164</td>\n",
       "      <td>-0.393118</td>\n",
       "      <td>not_outlier</td>\n",
       "      <td>-0.130474</td>\n",
       "      <td>0.134027</td>\n",
       "      <td>0.134000</td>\n",
       "    </tr>\n",
       "    <tr>\n",
       "      <th>2</th>\n",
       "      <td>11011</td>\n",
       "      <td>-0.187761</td>\n",
       "      <td>0.031573</td>\n",
       "      <td>0.160507</td>\n",
       "      <td>-0.536029</td>\n",
       "      <td>not_outlier</td>\n",
       "      <td>-0.187890</td>\n",
       "      <td>0.177746</td>\n",
       "      <td>0.177688</td>\n",
       "    </tr>\n",
       "    <tr>\n",
       "      <th>3</th>\n",
       "      <td>11013</td>\n",
       "      <td>0.343648</td>\n",
       "      <td>0.012701</td>\n",
       "      <td>0.564541</td>\n",
       "      <td>0.122754</td>\n",
       "      <td>bad</td>\n",
       "      <td>0.343755</td>\n",
       "      <td>0.112714</td>\n",
       "      <td>0.112701</td>\n",
       "    </tr>\n",
       "    <tr>\n",
       "      <th>4</th>\n",
       "      <td>11014</td>\n",
       "      <td>-0.090874</td>\n",
       "      <td>0.013931</td>\n",
       "      <td>0.140464</td>\n",
       "      <td>-0.322213</td>\n",
       "      <td>not_outlier</td>\n",
       "      <td>-0.090868</td>\n",
       "      <td>0.118048</td>\n",
       "      <td>0.118030</td>\n",
       "    </tr>\n",
       "  </tbody>\n",
       "</table>\n",
       "</div>"
      ],
      "text/plain": [
       "   HOSP_NRD  random_effects   postVar     upper     lower      outlier  \\\n",
       "0     11006       -0.127262  0.026824  0.193750 -0.448274  not_outlier   \n",
       "1     11010       -0.130477  0.017956  0.132164 -0.393118  not_outlier   \n",
       "2     11011       -0.187761  0.031573  0.160507 -0.536029  not_outlier   \n",
       "3     11013        0.343648  0.012701  0.564541  0.122754          bad   \n",
       "4     11014       -0.090874  0.013931  0.140464 -0.322213  not_outlier   \n",
       "\n",
       "    re_mode   se_mode    postSD  \n",
       "0 -0.127313  0.163828  0.163782  \n",
       "1 -0.130474  0.134027  0.134000  \n",
       "2 -0.187890  0.177746  0.177688  \n",
       "3  0.343755  0.112714  0.112701  \n",
       "4 -0.090868  0.118048  0.118030  "
      ]
     },
     "execution_count": 51,
     "metadata": {},
     "output_type": "execute_result"
    }
   ],
   "source": [
    "compare.head()"
   ]
  },
  {
   "cell_type": "code",
   "execution_count": 53,
   "metadata": {},
   "outputs": [
    {
     "data": {
      "text/plain": [
       "<matplotlib.axes._subplots.AxesSubplot at 0x2af7f5eb7128>"
      ]
     },
     "execution_count": 53,
     "metadata": {},
     "output_type": "execute_result"
    },
    {
     "data": {
      "image/png": "[encoded data removed]",
      "text/plain": [
       "<Figure size 432x288 with 1 Axes>"
      ]
     },
     "metadata": {},
     "output_type": "display_data"
    }
   ],
   "source": [
    "compare.plot.scatter('postSD', 'se_mode')"
   ]
  },
  {
   "cell_type": "code",
   "execution_count": 51,
   "metadata": {},
   "outputs": [],
   "source": [
    "re_r = pd.read_csv(path+'cohorts30/ami/random_effects_r.csv')"
   ]
  },
  {
   "cell_type": "code",
   "execution_count": 53,
   "metadata": {},
   "outputs": [],
   "source": [
    "re_r.columns = ['HOSP_NRD', 'RE_r3']"
   ]
  },
  {
   "cell_type": "code",
   "execution_count": 54,
   "metadata": {},
   "outputs": [],
   "source": [
    "compare = pd.merge(compare, re_r, on='HOSP_NRD')"
   ]
  },
  {
   "cell_type": "code",
   "execution_count": 55,
   "metadata": {},
   "outputs": [
    {
     "data": {
      "text/plain": [
       "<matplotlib.axes._subplots.AxesSubplot at 0x2b990bb84f98>"
      ]
     },
     "execution_count": 55,
     "metadata": {},
     "output_type": "execute_result"
    },
    {
     "data": {
      "image/png": "[encoded data removed]",
      "text/plain": [
       "<Figure size 432x288 with 1 Axes>"
      ]
     },
     "metadata": {},
     "output_type": "display_data"
    }
   ],
   "source": [
    "compare.plot.scatter('RE_r3', 'RE')"
   ]
  },
  {
   "cell_type": "code",
   "execution_count": 11,
   "metadata": {},
   "outputs": [],
   "source": [
    "tst_df = pd.concat([tst_df, yhat], axis=1)"
   ]
  },
  {
   "cell_type": "code",
   "execution_count": 26,
   "metadata": {},
   "outputs": [
    {
     "data": {
      "text/plain": [
       "(0.12156075053705367, 0.12344159666113756, 0.12244025025074667)"
      ]
     },
     "execution_count": 26,
     "metadata": {},
     "output_type": "execute_result"
    }
   ],
   "source": [
    "tst_df.yhat.mean(), tst_df.readm30.mean(), pred_test.y_pred.mean()"
   ]
  },
  {
   "cell_type": "code",
   "execution_count": 9,
   "metadata": {},
   "outputs": [],
   "source": [
    "comorbs = [c for c in train_df.columns if c.startswith('CM')]"
   ]
  },
  {
   "cell_type": "code",
   "execution_count": 32,
   "metadata": {},
   "outputs": [],
   "source": [
    "train_df = train_df[['AGE', 'FEMALE', 'readm30', 'HOSP_NRD']+comorbs]\n",
    "tst_df = tst_df[['AGE', 'FEMALE', 'readm30', 'HOSP_NRD']+comorbs]"
   ]
  },
  {
   "cell_type": "code",
   "execution_count": 33,
   "metadata": {},
   "outputs": [
    {
     "data": {
      "text/plain": [
       "((164280, 33), (18689, 33))"
      ]
     },
     "execution_count": 33,
     "metadata": {},
     "output_type": "execute_result"
    }
   ],
   "source": [
    "train_df.shape, tst_df.shape"
   ]
  },
  {
   "cell_type": "code",
   "execution_count": 34,
   "metadata": {},
   "outputs": [],
   "source": [
    "train_df.to_csv(path+'cohorts30/{}/comorb_train{}.csv'.format(cohort, tst_fold), index=False)\n",
    "tst_df.to_csv(path+'cohorts30/{}/comorb_tst{}.csv'.format(cohort, tst_fold), index=False)"
   ]
  },
  {
   "cell_type": "markdown",
   "metadata": {},
   "source": [
    "## Mixed Effects Logistic Regression\n",
    "This part is done by the R package lme4, in a separate notebook \"Mixed_effect_logistic.ipynb\". Here we directly read the result: prediction scores and the true outcomes for the test set."
   ]
  },
  {
   "cell_type": "code",
   "execution_count": 22,
   "metadata": {},
   "outputs": [],
   "source": [
    "pred_test = pd.read_csv(path+'cohorts30/ami/prediction_MELR0.csv')"
   ]
  },
  {
   "cell_type": "code",
   "execution_count": 23,
   "metadata": {},
   "outputs": [
    {
     "data": {
      "text/plain": [
       "0.6893627647580756"
      ]
     },
     "execution_count": 23,
     "metadata": {},
     "output_type": "execute_result"
    }
   ],
   "source": [
    "fpr, tpr, _ = roc_curve(pred_test['y_true'].values, pred_test['y_pred'].values)\n",
    "auc(fpr, tpr)"
   ]
  },
  {
   "cell_type": "code",
   "execution_count": 12,
   "metadata": {},
   "outputs": [],
   "source": [
    "cohort = 'pna'\n",
    "folder = 'multi_space_glove/cohorts10/'"
   ]
  },
  {
   "cell_type": "code",
   "execution_count": 15,
   "metadata": {},
   "outputs": [],
   "source": [
    "n_fold = 10\n",
    "auc_lst = []\n",
    "for fold_ind in range(n_fold):\n",
    "    pred_test = pd.read_csv(path+folder+'{}/prediction_MELR{}.csv'.format(cohort, fold_ind))\n",
    "    fpr, tpr, _ = roc_curve(pred_test['y_true'].values, pred_test['y_pred'].values)\n",
    "    auc_lst.append(auc(fpr, tpr))"
   ]
  },
  {
   "cell_type": "code",
   "execution_count": 13,
   "metadata": {},
   "outputs": [],
   "source": [
    "n_fold = 10\n",
    "auprc_lst = []\n",
    "for fold_ind in range(n_fold):\n",
    "    pred_test = pd.read_csv(path+folder+'{}/prediction_MELR{}.csv'.format(cohort, fold_ind))\n",
    "    ap = average_precision_score(pred_test['y_true'].values, pred_test['y_pred'].values)\n",
    "    auprc_lst.append(ap)"
   ]
  },
  {
   "cell_type": "code",
   "execution_count": 7,
   "metadata": {},
   "outputs": [
    {
     "name": "stdout",
     "output_type": "stream",
     "text": [
      "0.6360 (0.0024)\n"
     ]
    }
   ],
   "source": [
    "print('{0:.4f} ({1:.4f})'.format(np.mean(auc_lst), np.std(auc_lst)/np.sqrt(len(auc_lst))))"
   ]
  },
  {
   "cell_type": "code",
   "execution_count": 16,
   "metadata": {},
   "outputs": [
    {
     "name": "stdout",
     "output_type": "stream",
     "text": [
      "0.605 (0.601, 0.609)\n"
     ]
    }
   ],
   "source": [
    "print('{0:.3f}'.format(np.mean(auc_lst)), '({0:.3f}, {1:.3f})'.format(*sms.DescrStatsW(auc_lst).zconfint_mean()))"
   ]
  },
  {
   "cell_type": "code",
   "execution_count": 14,
   "metadata": {},
   "outputs": [
    {
     "name": "stdout",
     "output_type": "stream",
     "text": [
      "0.208 (0.204, 0.213)\n"
     ]
    }
   ],
   "source": [
    "print('{0:.3f}'.format(np.mean(auprc_lst)), '({0:.3f}, {1:.3f})'.format(*sms.DescrStatsW(auprc_lst).tconfint_mean()))"
   ]
  },
  {
   "cell_type": "code",
   "execution_count": null,
   "metadata": {},
   "outputs": [],
   "source": [
    "sms.DescrStatsW(auc_lst)"
   ]
  },
  {
   "cell_type": "markdown",
   "metadata": {},
   "source": [
    "### Result visualization"
   ]
  },
  {
   "cell_type": "code",
   "execution_count": 16,
   "metadata": {},
   "outputs": [],
   "source": [
    "import os, sys\n",
    "module_path = os.path.abspath(os.path.join('..'))\n",
    "if module_path not in sys.path:\n",
    "    sys.path.append(module_path)"
   ]
  },
  {
   "cell_type": "code",
   "execution_count": 19,
   "metadata": {},
   "outputs": [
    {
     "data": {
      "text/plain": [
       "0.6806022149893868"
      ]
     },
     "execution_count": 19,
     "metadata": {},
     "output_type": "execute_result"
    }
   ],
   "source": [
    "fpr, tpr, _ = roc_curve(pred_test['y_true'].values, pred_test['y_pred'].values)\n",
    "auc(fpr, tpr)"
   ]
  },
  {
   "cell_type": "code",
   "execution_count": 42,
   "metadata": {},
   "outputs": [
    {
     "data": {
      "text/plain": [
       "{0: 0.6770002708238051}"
      ]
     },
     "execution_count": 42,
     "metadata": {},
     "output_type": "execute_result"
    },
    {
     "data": {
      "image/png": "[encoded data removed]",
      "text/plain": [
       "<Figure size 432x288 with 1 Axes>"
      ]
     },
     "metadata": {},
     "output_type": "display_data"
    }
   ],
   "source": [
    "plot_roc(pred_test['y_pred'].values, pred_test['y_true'].values)"
   ]
  },
  {
   "cell_type": "markdown",
   "metadata": {},
   "source": [
    "## Fully Connected Neural Nets"
   ]
  },
  {
   "cell_type": "markdown",
   "metadata": {},
   "source": [
    "### Prepare the training data"
   ]
  },
  {
   "cell_type": "code",
   "execution_count": 19,
   "metadata": {},
   "outputs": [],
   "source": [
    "df = pd.read_csv(path+'cohorts/ami/comorb_train.csv')"
   ]
  },
  {
   "cell_type": "code",
   "execution_count": 20,
   "metadata": {},
   "outputs": [],
   "source": [
    "comorb = ['CM_AIDS', 'CM_ALCOHOL', 'CM_ANEMDEF', 'CM_ARTH', 'CM_BLDLOSS',\n",
    "       'CM_CHF', 'CM_CHRNLUNG', 'CM_COAG', 'CM_DEPRESS', 'CM_DM', 'CM_DMCX',\n",
    "       'CM_DRUG', 'CM_HTN_C', 'CM_HYPOTHY', 'CM_LIVER', 'CM_LYMPH', 'CM_LYTES',\n",
    "       'CM_METS', 'CM_NEURO', 'CM_OBESE', 'CM_PARA', 'CM_PERIVASC', 'CM_PSYCH',\n",
    "       'CM_PULMCIRC', 'CM_RENLFAIL', 'CM_TUMOR', 'CM_ULCER', 'CM_VALVE',\n",
    "       'CM_WGHTLOSS']"
   ]
  },
  {
   "cell_type": "code",
   "execution_count": 21,
   "metadata": {},
   "outputs": [],
   "source": [
    "trn_df, val_df = train_test_split(df, test_size=0.11, random_state=24, stratify = df['HOSP_NRD'])"
   ]
  },
  {
   "cell_type": "code",
   "execution_count": 22,
   "metadata": {},
   "outputs": [],
   "source": [
    "N_trn = len(trn_df)\n",
    "N_val = len(val_df)"
   ]
  },
  {
   "cell_type": "code",
   "execution_count": 23,
   "metadata": {
    "scrolled": true
   },
   "outputs": [],
   "source": [
    "X_trn = trn_df[['AGE', 'FEMALE']+comorb].values\n",
    "X_val = val_df[['AGE', 'FEMALE']+comorb].values\n",
    "\n",
    "mean_age = trn_df['AGE'].mean()\n",
    "sigma_age = trn_df['AGE'].std()\n",
    "X_trn[:, 0] = (X_trn[:, 0] - mean_age)/sigma_age\n",
    "X_val[:, 0] = (X_val[:, 0] - mean_age)/sigma_age"
   ]
  },
  {
   "cell_type": "code",
   "execution_count": 24,
   "metadata": {},
   "outputs": [
    {
     "data": {
      "text/plain": [
       "(66.17134972231185, 13.808092896091805)"
      ]
     },
     "execution_count": 24,
     "metadata": {},
     "output_type": "execute_result"
    }
   ],
   "source": [
    "mean_age, sigma_age"
   ]
  },
  {
   "cell_type": "code",
   "execution_count": 24,
   "metadata": {},
   "outputs": [],
   "source": [
    "hosp_series = pd.concat([trn_df, val_df])['HOSP_NRD']\n",
    "hosp_series = hosp_series.astype(int).astype('category')\n",
    "\n",
    "old_cat = hosp_series.cat.categories\n",
    "n_cat = len(old_cat)\n",
    "\n",
    "hosp_series = hosp_series.cat.rename_categories(range(n_cat))\n",
    "hosp_array = hosp_series.astype(int).values\n",
    "\n",
    "hosp_trn = hosp_array[:N_trn]\n",
    "hosp_val = hosp_array[N_trn:]"
   ]
  },
  {
   "cell_type": "code",
   "execution_count": 25,
   "metadata": {},
   "outputs": [],
   "source": [
    "y_trn = trn_df['readm30'].values.astype(int)\n",
    "y_val = val_df['readm30'].values.astype(int)"
   ]
  },
  {
   "cell_type": "code",
   "execution_count": 26,
   "metadata": {},
   "outputs": [
    {
     "data": {
      "text/plain": [
       "((145667, 31), (145667,), (145667,), (18004, 31), (18004,), (18004,))"
      ]
     },
     "execution_count": 26,
     "metadata": {},
     "output_type": "execute_result"
    }
   ],
   "source": [
    "X_trn.shape, hosp_trn.shape, y_trn.shape, X_val.shape, hosp_val.shape, y_val.shape"
   ]
  },
  {
   "cell_type": "code",
   "execution_count": 33,
   "metadata": {
    "scrolled": true
   },
   "outputs": [
    {
     "data": {
      "text/plain": [
       "(dtype('float64'), dtype('int64'), dtype('int64'))"
      ]
     },
     "execution_count": 33,
     "metadata": {},
     "output_type": "execute_result"
    }
   ],
   "source": [
    "X_trn.dtype, hosp_trn.dtype, y_trn.dtype"
   ]
  },
  {
   "cell_type": "markdown",
   "metadata": {},
   "source": [
    "### Model building"
   ]
  },
  {
   "cell_type": "code",
   "execution_count": 27,
   "metadata": {
    "scrolled": true
   },
   "outputs": [
    {
     "name": "stderr",
     "output_type": "stream",
     "text": [
      "Using TensorFlow backend.\n"
     ]
    }
   ],
   "source": [
    "from keras.layers import Input, Embedding, concatenate, Reshape, BatchNormalization\n",
    "from keras.models import Model\n",
    "from keras.layers.core import Dense, Activation, Dropout\n",
    "from keras.callbacks import ModelCheckpoint, ReduceLROnPlateau, EarlyStopping\n",
    "from keras.optimizers import Adam\n",
    "from keras.utils import to_categorical"
   ]
  },
  {
   "cell_type": "code",
   "execution_count": 30,
   "metadata": {},
   "outputs": [
    {
     "data": {
      "text/plain": [
       "<module 'keras_addon' from '/home/wsliu/Codes/DLproj/keras_addon.py'>"
      ]
     },
     "execution_count": 30,
     "metadata": {},
     "output_type": "execute_result"
    }
   ],
   "source": [
    "from importlib import reload\n",
    "import keras_addon\n",
    "reload(keras_addon)"
   ]
  },
  {
   "cell_type": "code",
   "execution_count": 31,
   "metadata": {
    "scrolled": true
   },
   "outputs": [],
   "source": [
    "from keras_addon import AUCCheckPoint"
   ]
  },
  {
   "cell_type": "code",
   "execution_count": 32,
   "metadata": {},
   "outputs": [],
   "source": [
    "Y_trn = to_categorical(y_trn)\n",
    "Y_val = to_categorical(y_val)"
   ]
  },
  {
   "cell_type": "code",
   "execution_count": 48,
   "metadata": {},
   "outputs": [],
   "source": [
    "input_X = Input(shape=(31,))\n",
    "\n",
    "embed_dim = 2\n",
    "input_hosp = Input(shape=(1,))\n",
    "embed_out = Embedding(n_cat, embed_dim, input_length=1)(input_hosp)\n",
    "embed_out = Reshape((embed_dim,))(embed_out)\n",
    "\n",
    "merged_X = concatenate([input_X, embed_out], axis=1)\n",
    "\n",
    "x = Dense(64, activation='relu')(merged_X)\n",
    "x = Dense(32, activation='relu')(x)\n",
    "x = Dropout(0.5)(x)\n",
    "#x = Dense(16, activation='relu')(x)\n",
    "\n",
    "prediction = Dense(2, activation='softmax', name='readm')(x)\n",
    "model = Model(inputs=[input_X, input_hosp], outputs=prediction)"
   ]
  },
  {
   "cell_type": "code",
   "execution_count": 49,
   "metadata": {},
   "outputs": [],
   "source": [
    "adam = Adam(0.001)\n",
    "model.compile(optimizer=adam, loss='categorical_crossentropy', metrics=['accuracy'])"
   ]
  },
  {
   "cell_type": "code",
   "execution_count": 50,
   "metadata": {},
   "outputs": [],
   "source": [
    "checkpointer = ModelCheckpoint(filepath=model_path+'ami_comorb_valloss1.h5', verbose=0, save_best_only=True, save_weights_only=True)\n",
    "auc_checkpoint = AUCCheckPoint(model_path+'ami_comorb_auc1.h5', validation_y=y_val, validation_x=[X_val, hosp_val])\n",
    "reduce_lr = ReduceLROnPlateau(monitor='loss', factor=0.2, patience=3, min_lr=1.e-8)\n",
    "earlystop = EarlyStopping(monitor='val_loss', patience=15)"
   ]
  },
  {
   "cell_type": "code",
   "execution_count": 36,
   "metadata": {},
   "outputs": [],
   "source": [
    "class_weight = {0:(len(y_trn)/sum(Y_trn[:,0])), 1:(len(y_trn)/sum(Y_trn[:,1]))}"
   ]
  },
  {
   "cell_type": "code",
   "execution_count": 51,
   "metadata": {
    "scrolled": true
   },
   "outputs": [
    {
     "name": "stdout",
     "output_type": "stream",
     "text": [
      "Train on 145667 samples, validate on 18004 samples\n",
      "Epoch 1/20\n",
      "145667/145667 [==============================] - 2s 10us/step - loss: 1.3288 - acc: 0.5807 - val_loss: 0.6443 - val_acc: 0.5963\n",
      "AUC: 0.6804\n",
      "\n",
      "Epoch 2/20\n",
      "145667/145667 [==============================] - 1s 8us/step - loss: 1.2924 - acc: 0.5990 - val_loss: 0.6064 - val_acc: 0.6288\n",
      "AUC: 0.6847\n",
      "\n",
      "Epoch 3/20\n",
      "145667/145667 [==============================] - 1s 7us/step - loss: 1.2807 - acc: 0.5944 - val_loss: 0.6196 - val_acc: 0.6130\n",
      "AUC: 0.6844\n",
      "\n",
      "Epoch 4/20\n",
      "145667/145667 [==============================] - 1s 7us/step - loss: 1.2735 - acc: 0.5911 - val_loss: 0.6318 - val_acc: 0.5900\n",
      "AUC: 0.6839\n",
      "\n",
      "Epoch 5/20\n",
      "145667/145667 [==============================] - 1s 7us/step - loss: 1.2718 - acc: 0.5833 - val_loss: 0.6544 - val_acc: 0.5751\n",
      "AUC: 0.6839\n",
      "\n",
      "Epoch 6/20\n",
      "145667/145667 [==============================] - 1s 7us/step - loss: 1.2708 - acc: 0.5874 - val_loss: 0.6231 - val_acc: 0.5918\n",
      "AUC: 0.6823\n",
      "\n",
      "Epoch 7/20\n",
      "145667/145667 [==============================] - 1s 8us/step - loss: 1.2682 - acc: 0.5856 - val_loss: 0.6494 - val_acc: 0.5627\n",
      "AUC: 0.6828\n",
      "\n",
      "Epoch 8/20\n",
      "145667/145667 [==============================] - 1s 7us/step - loss: 1.2679 - acc: 0.5847 - val_loss: 0.6351 - val_acc: 0.5836\n",
      "AUC: 0.6823\n",
      "\n",
      "Epoch 9/20\n",
      "145667/145667 [==============================] - 1s 8us/step - loss: 1.2661 - acc: 0.5837 - val_loss: 0.6187 - val_acc: 0.5957\n",
      "AUC: 0.6813\n",
      "\n",
      "Epoch 10/20\n",
      "145667/145667 [==============================] - 1s 7us/step - loss: 1.2636 - acc: 0.5849 - val_loss: 0.6380 - val_acc: 0.5793\n",
      "AUC: 0.6803\n",
      "\n",
      "Epoch 11/20\n",
      "145667/145667 [==============================] - 1s 8us/step - loss: 1.2637 - acc: 0.5836 - val_loss: 0.6284 - val_acc: 0.5939\n",
      "AUC: 0.6803\n",
      "\n",
      "Epoch 12/20\n",
      "145667/145667 [==============================] - 1s 8us/step - loss: 1.2630 - acc: 0.5856 - val_loss: 0.6464 - val_acc: 0.5749\n",
      "AUC: 0.6795\n",
      "\n",
      "Epoch 13/20\n",
      "145667/145667 [==============================] - 1s 7us/step - loss: 1.2609 - acc: 0.5839 - val_loss: 0.6247 - val_acc: 0.6011\n",
      "AUC: 0.6772\n",
      "\n",
      "Epoch 14/20\n",
      "145667/145667 [==============================] - 1s 8us/step - loss: 1.2603 - acc: 0.5892 - val_loss: 0.6367 - val_acc: 0.5848\n",
      "AUC: 0.6789\n",
      "\n",
      "Epoch 15/20\n",
      "145667/145667 [==============================] - 1s 7us/step - loss: 1.2609 - acc: 0.5873 - val_loss: 0.6465 - val_acc: 0.5727\n",
      "AUC: 0.6768\n",
      "\n",
      "Epoch 16/20\n",
      "145667/145667 [==============================] - 1s 8us/step - loss: 1.2589 - acc: 0.5893 - val_loss: 0.6348 - val_acc: 0.5901\n",
      "AUC: 0.6780\n",
      "\n",
      "Epoch 17/20\n",
      "145667/145667 [==============================] - 1s 7us/step - loss: 1.2578 - acc: 0.5884 - val_loss: 0.6429 - val_acc: 0.5749\n",
      "AUC: 0.6772\n",
      "\n"
     ]
    }
   ],
   "source": [
    "hist = model.fit([X_trn, hosp_trn], Y_trn, batch_size=512, epochs=20, callbacks=[checkpointer, auc_checkpoint, reduce_lr, earlystop],\n",
    "                 validation_data=[[X_val, hosp_val], Y_val], class_weight = class_weight, verbose=1)"
   ]
  },
  {
   "cell_type": "markdown",
   "metadata": {},
   "source": [
    "### Model Testing"
   ]
  },
  {
   "cell_type": "code",
   "execution_count": 41,
   "metadata": {},
   "outputs": [],
   "source": [
    "from DL_utils import plot_roc"
   ]
  },
  {
   "cell_type": "code",
   "execution_count": 52,
   "metadata": {},
   "outputs": [],
   "source": [
    "tst_df = pd.read_csv(path+'cohorts/ami/comorb_tst.csv')"
   ]
  },
  {
   "cell_type": "code",
   "execution_count": 53,
   "metadata": {},
   "outputs": [],
   "source": [
    "X_tst = tst_df[['AGE', 'FEMALE']+comorb].values\n",
    "X_tst[:, 0] = (X_tst[:, 0] - mean_age)/sigma_age\n",
    "\n",
    "hosp_tst_series = tst_df['HOSP_NRD'].astype(int).astype('category')\n",
    "\n",
    "hosp_tst_series = hosp_tst_series.cat.rename_categories(range(n_cat))\n",
    "hosp_tst = hosp_tst_series.astype(int).values"
   ]
  },
  {
   "cell_type": "code",
   "execution_count": 60,
   "metadata": {},
   "outputs": [],
   "source": [
    "model.load_weights(model_path+'ami_comorb_valloss1.h5')"
   ]
  },
  {
   "cell_type": "code",
   "execution_count": 61,
   "metadata": {},
   "outputs": [
    {
     "name": "stdout",
     "output_type": "stream",
     "text": [
      "18186/18186 [==============================] - 0s 2us/step\n"
     ]
    }
   ],
   "source": [
    "y_pred = model.predict([X_tst, hosp_tst], batch_size=512, verbose=1)"
   ]
  },
  {
   "cell_type": "code",
   "execution_count": 62,
   "metadata": {},
   "outputs": [],
   "source": [
    "y_pred = y_pred[:,1]"
   ]
  },
  {
   "cell_type": "code",
   "execution_count": 63,
   "metadata": {},
   "outputs": [],
   "source": [
    "y_true = tst_df['readm30'].values"
   ]
  },
  {
   "cell_type": "code",
   "execution_count": 58,
   "metadata": {},
   "outputs": [
    {
     "data": {
      "text/plain": [
       "((18186,), (18186,))"
      ]
     },
     "execution_count": 58,
     "metadata": {},
     "output_type": "execute_result"
    }
   ],
   "source": [
    "y_pred.shape, y_true.shape"
   ]
  },
  {
   "cell_type": "code",
   "execution_count": 64,
   "metadata": {
    "scrolled": true
   },
   "outputs": [
    {
     "data": {
      "text/plain": [
       "{0: 0.6784096906395523}"
      ]
     },
     "execution_count": 64,
     "metadata": {},
     "output_type": "execute_result"
    },
    {
     "data": {
      "image/png": "[encoded data removed]",
      "text/plain": [
       "<Figure size 432x288 with 1 Axes>"
      ]
     },
     "metadata": {},
     "output_type": "display_data"
    }
   ],
   "source": [
    "plot_roc(y_pred, y_true)"
   ]
  }
 ],
 "metadata": {
  "kernelspec": {
   "display_name": "Python 3",
   "language": "python",
   "name": "python3"
  },
  "language_info": {
   "codemirror_mode": {
    "name": "ipython",
    "version": 3
   },
   "file_extension": ".py",
   "mimetype": "text/x-python",
   "name": "python",
   "nbconvert_exporter": "python",
   "pygments_lexer": "ipython3",
   "version": "3.5.4"
  }
 },
 "nbformat": 4,
 "nbformat_minor": 2
}

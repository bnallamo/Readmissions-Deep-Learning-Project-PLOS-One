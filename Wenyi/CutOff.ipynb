{
 "cells": [
  {
   "cell_type": "code",
   "execution_count": 1,
   "metadata": {},
   "outputs": [],
   "source": [
    "from __future__ import absolute_import\n",
    "from __future__ import print_function\n",
    "\n",
    "import csv\n",
    "import numpy as np\n",
    "import os\n",
    "import pandas as pd\n",
    "import sys\n",
    "import matplotlib.pyplot as plt"
   ]
  },
  {
   "cell_type": "code",
   "execution_count": 2,
   "metadata": {},
   "outputs": [],
   "source": [
    "module_path = '/home/wsliu/Codes/DLproj'\n",
    "if module_path not in sys.path:\n",
    "    sys.path.append(module_path)\n",
    "if module_path+'/NRD' not in sys.path:\n",
    "    sys.path.append(module_path+'/NRD')"
   ]
  },
  {
   "cell_type": "code",
   "execution_count": 3,
   "metadata": {},
   "outputs": [],
   "source": [
    "data_path = '/nfs/turbo/umms-awaljee/wsliu/Data/MIMIC/raw/'"
   ]
  },
  {
   "cell_type": "code",
   "execution_count": 4,
   "metadata": {},
   "outputs": [],
   "source": [
    "import pandas as pd\n",
    "import numpy as np\n",
    "import matplotlib.pyplot as plt\n",
    "#import statsmodels.api as sm\n",
    "from sklearn.model_selection import train_test_split, StratifiedKFold\n",
    "from sklearn.metrics import roc_curve, auc\n",
    "import os, sys, time\n",
    "from importlib import reload"
   ]
  },
  {
   "cell_type": "code",
   "execution_count": null,
   "metadata": {},
   "outputs": [
    {
     "name": "stderr",
     "output_type": "stream",
     "text": [
      "Using TensorFlow backend.\n"
     ]
    }
   ],
   "source": [
    "from keras.layers import Input, Embedding, Concatenate, Reshape, BatchNormalization, LSTM, CuDNNLSTM, CuDNNGRU, Lambda\n",
    "from keras.models import Model\n",
    "from keras.layers.core import Dense, Activation, Dropout, RepeatVector\n",
    "from keras.callbacks import ModelCheckpoint, ReduceLROnPlateau, EarlyStopping\n",
    "from keras.utils import to_categorical\n",
    "from keras.optimizers import Adam\n",
    "from keras.initializers import Constant\n",
    "import keras.backend as K\n",
    "from keras.layers import Dense, Embedding, Conv2D, MaxPool2D\n",
    "from keras.layers import Reshape, Flatten, Dropout, Concatenate\n",
    "from keras.callbacks import ModelCheckpoint\n",
    "from keras.optimizers import Adam\n",
    "from keras.models import Model\n",
    "#from tqdm import tqdm\n",
    "from setsum_layer import SetSum, MaskedSum, MaskedDense, MaskedPooling\n",
    "import tensorflow as tf"
   ]
  },
  {
   "cell_type": "code",
   "execution_count": 5,
   "metadata": {},
   "outputs": [],
   "source": [
    "def dataframe_from_csv(path, header=0, index_col=0):\n",
    "    return pd.read_csv(path, header=header, index_col=index_col)\n",
    "e_map = {'ASIAN': 1,\n",
    "         'BLACK': 2,\n",
    "         'CARIBBEAN ISLAND': 2,\n",
    "         'HISPANIC': 3,\n",
    "         'SOUTH AMERICAN': 3,\n",
    "         'WHITE': 4,\n",
    "         'MIDDLE EASTERN': 4,\n",
    "         'PORTUGUESE': 4,\n",
    "         'AMERICAN INDIAN': 0,\n",
    "         'NATIVE HAWAIIAN': 0,\n",
    "         'UNABLE TO OBTAIN': 0,\n",
    "         'PATIENT DECLINED TO ANSWER': 0,\n",
    "         'UNKNOWN': 0,\n",
    "         'OTHER': 0,\n",
    "         '': 0}\n",
    "\n",
    "\n",
    "def transform_ethnicity(ethnicity_series):\n",
    "    global e_map\n",
    "\n",
    "    def aggregate_ethnicity(ethnicity_str):\n",
    "        return ethnicity_str.replace(' OR ', '/').split(' - ')[0].split('/')[0]\n",
    "\n",
    "    ethnicity_series = ethnicity_series.apply(aggregate_ethnicity)\n",
    "    return {'Ethnicity': ethnicity_series.fillna('').apply(lambda s: e_map[s] if s in e_map else e_map['OTHER'])}"
   ]
  },
  {
   "cell_type": "markdown",
   "metadata": {},
   "source": [
    "The ADMISSIONS table contains the information of each hospital admission. SUBJECT_ID identifies patient, HADM_ID identifies hospital admission. DEATHTIME is missing when the patient didn't die in hospital. "
   ]
  },
  {
   "cell_type": "code",
   "execution_count": 6,
   "metadata": {},
   "outputs": [],
   "source": [
    "admits = pd.read_csv(data_path+'ADMISSIONS.csv', header=0, index_col=0)\n",
    "admits = admits[['SUBJECT_ID', 'HADM_ID', 'ADMITTIME', 'DISCHTIME', 'DEATHTIME','ETHNICITY']]\n",
    "admits.ADMITTIME = pd.to_datetime(admits.ADMITTIME)\n",
    "admits.DISCHTIME = pd.to_datetime(admits.DISCHTIME)\n",
    "admits.DEATHTIME = pd.to_datetime(admits.DEATHTIME)\n",
    "admits['Eth']=transform_ethnicity(admits['ETHNICITY'])['Ethnicity']\n",
    "admits.drop(columns=['ETHNICITY'],inplace=True)"
   ]
  },
  {
   "cell_type": "markdown",
   "metadata": {},
   "source": [
    "The PATIENTS table contains information of each patient. "
   ]
  },
  {
   "cell_type": "code",
   "execution_count": 7,
   "metadata": {},
   "outputs": [],
   "source": [
    "patients =  pd.read_csv(data_path+'PATIENTS.csv', header=0, index_col=0)\n",
    "patients = patients[['SUBJECT_ID','DOB','GENDER','DOD']]\n",
    "patients.DOB = pd.to_datetime(patients.DOB)\n",
    "patients.DOD = pd.to_datetime(patients.DOD)\n",
    "patients.GENDER = patients.GENDER.astype('category')\n",
    "patients.GENDER = patients['GENDER'].cat.codes"
   ]
  },
  {
   "cell_type": "markdown",
   "metadata": {},
   "source": [
    "ICUSTAYS table contains information of each ICU stay. Here I count the number of ICU stays and total length of stays in ICU, in each hospital admission. "
   ]
  },
  {
   "cell_type": "code",
   "execution_count": 8,
   "metadata": {},
   "outputs": [],
   "source": [
    "stays = pd.read_csv(data_path+'ICUSTAYS.csv',header=0,index_col=0)\n",
    "stays = stays[['HADM_ID','LOS']] # This LOS is the length of stay in ICU, not in hospital\n",
    "stays_hadm = stays.groupby('HADM_ID')['LOS'].agg(['count', 'sum'])\n",
    "stays_hadm = stays_hadm.reset_index()\n",
    "stays_hadm.columns = ['HADM_ID', 'n_ICU_stays', 'ICU_LOS']"
   ]
  },
  {
   "cell_type": "markdown",
   "metadata": {},
   "source": [
    "Merge the tables. AGE is converted to unit \"year\". AGE over 90 is trancated to 90. MOT_long measures time period from hospital discharge to death in days, missing if not died. HOSP_LOS is the length of stay in hospital. Note: some HOSP_LOS are smaller than ICU_LOS. Not sure if it's problematic. "
   ]
  },
  {
   "cell_type": "code",
   "execution_count": 9,
   "metadata": {},
   "outputs": [],
   "source": [
    "admits = admits.merge(stays_hadm,how='inner',on='HADM_ID')\n",
    "admits = admits.merge(patients,how='inner',on='SUBJECT_ID')\n",
    "admits['AGE'] = (admits.ADMITTIME-admits.DOB).apply(lambda s: s/np.timedelta64(1,'Y'))\n",
    "admits.loc[admits.AGE < 0, 'AGE'] = 90\n",
    "admits['MOT_long'] =  (admits.DOD-admits.DISCHTIME).apply(lambda s: s/np.timedelta64(1,'D'))\n",
    "admits['HOSP_LOS'] = (admits.DISCHTIME-admits.ADMITTIME).apply(lambda s: s/np.timedelta64(1,'D'))"
   ]
  },
  {
   "cell_type": "markdown",
   "metadata": {},
   "source": [
    "Removing of unlikely events indicating errors. "
   ]
  },
  {
   "cell_type": "code",
   "execution_count": 10,
   "metadata": {},
   "outputs": [],
   "source": [
    "admits = admits.loc[~((admits.ADMITTIME.dt.date>admits.DOD.dt.date)|(admits.DISCHTIME>admits.DEATHTIME)|\n",
    "                      (admits.DISCHTIME<admits.DEATHTIME))]"
   ]
  },
  {
   "cell_type": "markdown",
   "metadata": {},
   "source": [
    "Considering only the admission without in-hospital mortality."
   ]
  },
  {
   "cell_type": "code",
   "execution_count": 11,
   "metadata": {},
   "outputs": [
    {
     "data": {
      "text/plain": [
       "True     51972\n",
       "False     5753\n",
       "Name: DEATHTIME, dtype: int64"
      ]
     },
     "execution_count": 11,
     "metadata": {},
     "output_type": "execute_result"
    }
   ],
   "source": [
    "admits.DEATHTIME.isna().value_counts()"
   ]
  },
  {
   "cell_type": "code",
   "execution_count": 12,
   "metadata": {},
   "outputs": [],
   "source": [
    "admits = admits.loc[admits.DEATHTIME.isna()]"
   ]
  },
  {
   "cell_type": "markdown",
   "metadata": {},
   "source": [
    "Creating the mortality labels:"
   ]
  },
  {
   "cell_type": "code",
   "execution_count": 13,
   "metadata": {},
   "outputs": [],
   "source": [
    "admits = admits.assign(MOT_1year=(~admits.DOD.isna()) & (admits.MOT_long<365))\n",
    "admits = admits.assign(MOT_30days=(~admits.DOD.isna()) & (admits.MOT_long<30))"
   ]
  },
  {
   "cell_type": "code",
   "execution_count": 14,
   "metadata": {},
   "outputs": [
    {
     "data": {
      "text/plain": [
       "(False    0.841761\n",
       " True     0.158239\n",
       " Name: MOT_1year, dtype: float64, False    0.957246\n",
       " True     0.042754\n",
       " Name: MOT_30days, dtype: float64)"
      ]
     },
     "execution_count": 14,
     "metadata": {},
     "output_type": "execute_result"
    }
   ],
   "source": [
    "admits.MOT_1year.value_counts(dropna=False, normalize=True), admits.MOT_30days.value_counts(dropna=False, normalize=True)"
   ]
  },
  {
   "cell_type": "markdown",
   "metadata": {},
   "source": [
    "D_ICD_DIAGNOSES and D_ICD_PROCEDURES are the definitions of DX/PR codes. DIAGNOSES_ICD and PROCEDURES_ICD are the \"long\" tables of each DX/PR in each hospital admission. We include only the codes with definitions. "
   ]
  },
  {
   "cell_type": "code",
   "execution_count": 15,
   "metadata": {},
   "outputs": [],
   "source": [
    "codes = dataframe_from_csv(data_path+'D_ICD_DIAGNOSES.csv')\n",
    "codes = codes[['ICD9_CODE']]\n",
    "diagnoses = dataframe_from_csv(data_path+'DIAGNOSES_ICD.csv')\n",
    "diagnoses = diagnoses.merge(codes, how='inner', left_on='ICD9_CODE', right_on='ICD9_CODE')\n",
    "diagnoses = diagnoses[['HADM_ID','ICD9_CODE']]\n",
    "diagnoses[ 'HADM_ID'] = diagnoses[ 'HADM_ID'].astype(int)\n",
    "procedure_codes = dataframe_from_csv(data_path+'D_ICD_PROCEDURES.csv')\n",
    "procedure_codes = procedure_codes[['ICD9_CODE']]\n",
    "procedures = dataframe_from_csv(data_path+'PROCEDURES_ICD.csv')\n",
    "procedures = procedures.merge(procedure_codes, how='inner', left_on='ICD9_CODE', right_on='ICD9_CODE')\n",
    "procedures = procedures[['HADM_ID','ICD9_CODE']]\n",
    "procedures['HADM_ID'] = procedures['HADM_ID'].astype(int)"
   ]
  },
  {
   "cell_type": "markdown",
   "metadata": {},
   "source": [
    "Including only the admissions in the admits table:"
   ]
  },
  {
   "cell_type": "code",
   "execution_count": 16,
   "metadata": {},
   "outputs": [],
   "source": [
    "diagnoses = diagnoses.loc[diagnoses.HADM_ID.isin(set(admits.HADM_ID))]\n",
    "procedures = procedures.loc[procedures.HADM_ID.isin(set(admits.HADM_ID))]"
   ]
  },
  {
   "cell_type": "code",
   "execution_count": 17,
   "metadata": {},
   "outputs": [],
   "source": [
    "diagnoses_count = diagnoses.groupby('HADM_ID',as_index=False).count()\n",
    "diagnoses_count = diagnoses_count.rename(str, columns={\"ICD9_CODE\":\"COUNT\"})\n",
    "diagnoses_count = diagnoses_count[['HADM_ID','COUNT']]"
   ]
  },
  {
   "cell_type": "code",
   "execution_count": 18,
   "metadata": {},
   "outputs": [],
   "source": [
    "procedures_count = procedures.groupby('HADM_ID',as_index=False).count()\n",
    "procedures_count = procedures_count.rename(str, columns={\"ICD9_CODE\":\"COUNT\"})\n",
    "procedures_count = procedures_count[['HADM_ID','COUNT']]"
   ]
  },
  {
   "cell_type": "code",
   "execution_count": 25,
   "metadata": {},
   "outputs": [
    {
     "data": {
      "text/plain": [
       "(484, 870, 271)"
      ]
     },
     "execution_count": 25,
     "metadata": {},
     "output_type": "execute_result"
    }
   ],
   "source": [
    "sum(diagnoses_count.COUNT>30), sum(procedures_count.COUNT>15), sum(procedures_count.COUNT>20)"
   ]
  },
  {
   "cell_type": "code",
   "execution_count": 92,
   "metadata": {},
   "outputs": [
    {
     "data": {
      "text/plain": [
       "Text(0.5,1,'Bar Chart of # Diagnoses')"
      ]
     },
     "execution_count": 92,
     "metadata": {},
     "output_type": "execute_result"
    },
    {
     "data": {
      "image/png": "[encoded data removed]",
      "text/plain": [
       "<Figure size 432x288 with 1 Axes>"
      ]
     },
     "metadata": {},
     "output_type": "display_data"
    }
   ],
   "source": [
    "diagnoses_count.COUNT.hist(bins=39)\n",
    "plt.title('Bar Chart of # Diagnoses')"
   ]
  },
  {
   "cell_type": "code",
   "execution_count": 93,
   "metadata": {},
   "outputs": [
    {
     "data": {
      "text/plain": [
       "Text(0.5,1,'Bar Chart of # Procedures')"
      ]
     },
     "execution_count": 93,
     "metadata": {},
     "output_type": "execute_result"
    },
    {
     "data": {
      "image/png": "[encoded data removed]",
      "text/plain": [
       "<Figure size 432x288 with 1 Axes>"
      ]
     },
     "metadata": {},
     "output_type": "display_data"
    }
   ],
   "source": [
    "procedures_count.COUNT.hist(bins=40)\n",
    "plt.title('Bar Chart of # Procedures')"
   ]
  },
  {
   "cell_type": "code",
   "execution_count": 114,
   "metadata": {},
   "outputs": [
    {
     "data": {
      "text/plain": [
       "Text(0.5,1,'1-year Mortality vs. # Diagnoses')"
      ]
     },
     "execution_count": 114,
     "metadata": {},
     "output_type": "execute_result"
    },
    {
     "data": {
      "image/png": "[encoded data removed]",
      "text/plain": [
       "<Figure size 432x288 with 1 Axes>"
      ]
     },
     "metadata": {},
     "output_type": "display_data"
    }
   ],
   "source": [
    "n_diag_mot1y = pd.merge(admits[['HADM_ID', 'MOT_1year']], diagnoses_count, on='HADM_ID').groupby('COUNT')['MOT_1year'].mean()\n",
    "plt.scatter(n_diag_mot1y.index, n_diag_mot1y)\n",
    "plt.title('1-year Mortality vs. # Diagnoses')"
   ]
  },
  {
   "cell_type": "code",
   "execution_count": 115,
   "metadata": {},
   "outputs": [
    {
     "data": {
      "text/plain": [
       "Text(0.5,1,'1-year Mortality vs. # Procedures')"
      ]
     },
     "execution_count": 115,
     "metadata": {},
     "output_type": "execute_result"
    },
    {
     "data": {
      "image/png": "[encoded data removed]",
      "text/plain": [
       "<Figure size 432x288 with 1 Axes>"
      ]
     },
     "metadata": {},
     "output_type": "display_data"
    }
   ],
   "source": [
    "n_proc_mot1y = pd.merge(admits[['HADM_ID', 'MOT_1year']], procedures_count, on='HADM_ID').groupby('COUNT')['MOT_1year'].mean()\n",
    "plt.scatter(n_proc_mot1y.index, n_proc_mot1y)\n",
    "plt.title('1-year Mortality vs. # Procedures')"
   ]
  },
  {
   "cell_type": "code",
   "execution_count": 117,
   "metadata": {},
   "outputs": [
    {
     "data": {
      "text/plain": [
       "Text(0.5,1,'30-Days Mortality vs. # Diagnoses')"
      ]
     },
     "execution_count": 117,
     "metadata": {},
     "output_type": "execute_result"
    },
    {
     "data": {
      "image/png": "[encoded data removed]",
      "text/plain": [
       "<Figure size 432x288 with 1 Axes>"
      ]
     },
     "metadata": {},
     "output_type": "display_data"
    }
   ],
   "source": [
    "n_diag_mot30d = pd.merge(admits[['HADM_ID', 'MOT_30days']], diagnoses_count, on='HADM_ID').groupby('COUNT')['MOT_30days'].mean()\n",
    "plt.scatter(n_diag_mot30d.index, n_diag_mot30d)\n",
    "plt.title('30-Days Mortality vs. # Diagnoses')"
   ]
  },
  {
   "cell_type": "code",
   "execution_count": 116,
   "metadata": {},
   "outputs": [
    {
     "data": {
      "text/plain": [
       "Text(0.5,1,'30-Day Mortality vs. # Procedures')"
      ]
     },
     "execution_count": 116,
     "metadata": {},
     "output_type": "execute_result"
    },
    {
     "data": {
      "image/png": "[encoded data removed]",
      "text/plain": [
       "<Figure size 432x288 with 1 Axes>"
      ]
     },
     "metadata": {},
     "output_type": "display_data"
    }
   ],
   "source": [
    "n_proc_mot30d = pd.merge(admits[['HADM_ID', 'MOT_30days']], procedures_count, on='HADM_ID').groupby('COUNT')['MOT_30days'].mean()\n",
    "plt.scatter(n_proc_mot30d.index, n_proc_mot30d)\n",
    "plt.title('30-Day Mortality vs. # Procedures')"
   ]
  },
  {
   "cell_type": "markdown",
   "metadata": {},
   "source": [
    "Remove admissions with no codes: "
   ]
  },
  {
   "cell_type": "code",
   "execution_count": 19,
   "metadata": {},
   "outputs": [],
   "source": [
    "no_code = set(admits.HADM_ID).difference(set(diagnoses_count.HADM_ID).union(procedures_count.HADM_ID))\n",
    "admits = admits.loc[~admits.HADM_ID.isin(no_code)]"
   ]
  },
  {
   "cell_type": "markdown",
   "metadata": {},
   "source": [
    "Remove admissions with more than 20 procedures:"
   ]
  },
  {
   "cell_type": "code",
   "execution_count": 20,
   "metadata": {},
   "outputs": [],
   "source": [
    "admits = admits.loc[~admits.HADM_ID.isin(set(procedures_count.loc[procedures_count.COUNT>20, 'HADM_ID']))]\n",
    "procedures = procedures.loc[~procedures.HADM_ID.isin(set(procedures_count.loc[procedures_count.COUNT>20, 'HADM_ID']))]"
   ]
  },
  {
   "cell_type": "code",
   "execution_count": 21,
   "metadata": {},
   "outputs": [
    {
     "data": {
      "text/plain": [
       "(51697, 16)"
      ]
     },
     "execution_count": 21,
     "metadata": {},
     "output_type": "execute_result"
    }
   ],
   "source": [
    "admits.shape"
   ]
  },
  {
   "cell_type": "markdown",
   "metadata": {},
   "source": [
    "Remove infrequent codes:"
   ]
  },
  {
   "cell_type": "code",
   "execution_count": 22,
   "metadata": {},
   "outputs": [],
   "source": [
    "cutoff = 0"
   ]
  },
  {
   "cell_type": "code",
   "execution_count": 23,
   "metadata": {},
   "outputs": [],
   "source": [
    "diag_freq = diagnoses.ICD9_CODE.value_counts()\n",
    "proc_freq = procedures.ICD9_CODE.value_counts()\n",
    "diag_freq = pd.DataFrame(dict(DX=diag_freq.index, frequency=diag_freq.values))\n",
    "proc_freq = pd.DataFrame(dict(PR=proc_freq.index, frequency=proc_freq.values))"
   ]
  },
  {
   "cell_type": "code",
   "execution_count": 57,
   "metadata": {},
   "outputs": [],
   "source": [
    "diag_freq.to_csv(data_path+'../cleaned/DX_freq.csv', index=False)\n",
    "proc_freq.to_csv(data_path+'../cleaned/PR_freq.csv', index=False)"
   ]
  },
  {
   "cell_type": "code",
   "execution_count": 70,
   "metadata": {},
   "outputs": [],
   "source": [
    "diagnoses.ICD9_CODE = diagnoses.ICD9_CODE.astype('str')\n",
    "procedures.ICD9_CODE = procedures.ICD9_CODE.astype('str')"
   ]
  },
  {
   "cell_type": "code",
   "execution_count": 72,
   "metadata": {},
   "outputs": [],
   "source": [
    "diagnoses_df = diagnoses.pivot_table(index='HADM_ID',columns=diagnoses.groupby('HADM_ID').cumcount(),values='ICD9_CODE',aggfunc=np.sum).add_prefix('DX')\n",
    "procedures_df = procedures.pivot_table(index='HADM_ID',columns=procedures.groupby('HADM_ID').cumcount(),values='ICD9_CODE',aggfunc=np.sum).add_prefix('PR')"
   ]
  },
  {
   "cell_type": "code",
   "execution_count": 73,
   "metadata": {},
   "outputs": [
    {
     "data": {
      "text/plain": [
       "((51967, 39), (45443, 20), (51697, 16))"
      ]
     },
     "execution_count": 73,
     "metadata": {},
     "output_type": "execute_result"
    }
   ],
   "source": [
    "diagnoses_df.shape, procedures_df.shape, admits.shape"
   ]
  },
  {
   "cell_type": "code",
   "execution_count": 74,
   "metadata": {},
   "outputs": [],
   "source": [
    "clean_df = pd.merge(admits[['SUBJECT_ID', 'HADM_ID', 'Eth', 'n_ICU_stays', 'ICU_LOS', 'GENDER', 'AGE', 'MOT_long', 'HOSP_LOS', \n",
    "                           'MOT_1year', 'MOT_30days']], diagnoses_df, on='HADM_ID', how='left')\n",
    "clean_df = pd.merge(clean_df, procedures_df, on='HADM_ID', how='left')"
   ]
  },
  {
   "cell_type": "code",
   "execution_count": 75,
   "metadata": {},
   "outputs": [
    {
     "data": {
      "text/html": [
       "<div>\n",
       "<style scoped>\n",
       "    .dataframe tbody tr th:only-of-type {\n",
       "        vertical-align: middle;\n",
       "    }\n",
       "\n",
       "    .dataframe tbody tr th {\n",
       "        vertical-align: top;\n",
       "    }\n",
       "\n",
       "    .dataframe thead th {\n",
       "        text-align: right;\n",
       "    }\n",
       "</style>\n",
       "<table border=\"1\" class=\"dataframe\">\n",
       "  <thead>\n",
       "    <tr style=\"text-align: right;\">\n",
       "      <th></th>\n",
       "      <th>SUBJECT_ID</th>\n",
       "      <th>HADM_ID</th>\n",
       "      <th>Eth</th>\n",
       "      <th>n_ICU_stays</th>\n",
       "      <th>ICU_LOS</th>\n",
       "      <th>GENDER</th>\n",
       "      <th>AGE</th>\n",
       "      <th>MOT_long</th>\n",
       "      <th>HOSP_LOS</th>\n",
       "      <th>MOT_1year</th>\n",
       "      <th>...</th>\n",
       "      <th>PR10</th>\n",
       "      <th>PR11</th>\n",
       "      <th>PR12</th>\n",
       "      <th>PR13</th>\n",
       "      <th>PR14</th>\n",
       "      <th>PR15</th>\n",
       "      <th>PR16</th>\n",
       "      <th>PR17</th>\n",
       "      <th>PR18</th>\n",
       "      <th>PR19</th>\n",
       "    </tr>\n",
       "  </thead>\n",
       "  <tbody>\n",
       "    <tr>\n",
       "      <th>0</th>\n",
       "      <td>22</td>\n",
       "      <td>165315</td>\n",
       "      <td>4</td>\n",
       "      <td>1</td>\n",
       "      <td>1.1438</td>\n",
       "      <td>0</td>\n",
       "      <td>64.928145</td>\n",
       "      <td>NaN</td>\n",
       "      <td>1.144444</td>\n",
       "      <td>False</td>\n",
       "      <td>...</td>\n",
       "      <td>NaN</td>\n",
       "      <td>NaN</td>\n",
       "      <td>NaN</td>\n",
       "      <td>NaN</td>\n",
       "      <td>NaN</td>\n",
       "      <td>NaN</td>\n",
       "      <td>NaN</td>\n",
       "      <td>NaN</td>\n",
       "      <td>NaN</td>\n",
       "      <td>NaN</td>\n",
       "    </tr>\n",
       "    <tr>\n",
       "      <th>1</th>\n",
       "      <td>23</td>\n",
       "      <td>152223</td>\n",
       "      <td>4</td>\n",
       "      <td>1</td>\n",
       "      <td>1.2641</td>\n",
       "      <td>1</td>\n",
       "      <td>71.131651</td>\n",
       "      <td>NaN</td>\n",
       "      <td>5.496528</td>\n",
       "      <td>False</td>\n",
       "      <td>...</td>\n",
       "      <td>NaN</td>\n",
       "      <td>NaN</td>\n",
       "      <td>NaN</td>\n",
       "      <td>NaN</td>\n",
       "      <td>NaN</td>\n",
       "      <td>NaN</td>\n",
       "      <td>NaN</td>\n",
       "      <td>NaN</td>\n",
       "      <td>NaN</td>\n",
       "      <td>NaN</td>\n",
       "    </tr>\n",
       "    <tr>\n",
       "      <th>2</th>\n",
       "      <td>23</td>\n",
       "      <td>124321</td>\n",
       "      <td>4</td>\n",
       "      <td>1</td>\n",
       "      <td>1.1862</td>\n",
       "      <td>1</td>\n",
       "      <td>75.256344</td>\n",
       "      <td>NaN</td>\n",
       "      <td>6.768056</td>\n",
       "      <td>False</td>\n",
       "      <td>...</td>\n",
       "      <td>NaN</td>\n",
       "      <td>NaN</td>\n",
       "      <td>NaN</td>\n",
       "      <td>NaN</td>\n",
       "      <td>NaN</td>\n",
       "      <td>NaN</td>\n",
       "      <td>NaN</td>\n",
       "      <td>NaN</td>\n",
       "      <td>NaN</td>\n",
       "      <td>NaN</td>\n",
       "    </tr>\n",
       "    <tr>\n",
       "      <th>3</th>\n",
       "      <td>24</td>\n",
       "      <td>161859</td>\n",
       "      <td>4</td>\n",
       "      <td>1</td>\n",
       "      <td>0.5124</td>\n",
       "      <td>1</td>\n",
       "      <td>39.017027</td>\n",
       "      <td>NaN</td>\n",
       "      <td>2.856944</td>\n",
       "      <td>False</td>\n",
       "      <td>...</td>\n",
       "      <td>NaN</td>\n",
       "      <td>NaN</td>\n",
       "      <td>NaN</td>\n",
       "      <td>NaN</td>\n",
       "      <td>NaN</td>\n",
       "      <td>NaN</td>\n",
       "      <td>NaN</td>\n",
       "      <td>NaN</td>\n",
       "      <td>NaN</td>\n",
       "      <td>NaN</td>\n",
       "    </tr>\n",
       "    <tr>\n",
       "      <th>4</th>\n",
       "      <td>25</td>\n",
       "      <td>129635</td>\n",
       "      <td>4</td>\n",
       "      <td>1</td>\n",
       "      <td>3.5466</td>\n",
       "      <td>1</td>\n",
       "      <td>58.950115</td>\n",
       "      <td>NaN</td>\n",
       "      <td>3.534028</td>\n",
       "      <td>False</td>\n",
       "      <td>...</td>\n",
       "      <td>NaN</td>\n",
       "      <td>NaN</td>\n",
       "      <td>NaN</td>\n",
       "      <td>NaN</td>\n",
       "      <td>NaN</td>\n",
       "      <td>NaN</td>\n",
       "      <td>NaN</td>\n",
       "      <td>NaN</td>\n",
       "      <td>NaN</td>\n",
       "      <td>NaN</td>\n",
       "    </tr>\n",
       "  </tbody>\n",
       "</table>\n",
       "<p>5 rows × 70 columns</p>\n",
       "</div>"
      ],
      "text/plain": [
       "   SUBJECT_ID  HADM_ID  Eth  n_ICU_stays  ICU_LOS  GENDER        AGE  \\\n",
       "0          22   165315    4            1   1.1438       0  64.928145   \n",
       "1          23   152223    4            1   1.2641       1  71.131651   \n",
       "2          23   124321    4            1   1.1862       1  75.256344   \n",
       "3          24   161859    4            1   0.5124       1  39.017027   \n",
       "4          25   129635    4            1   3.5466       1  58.950115   \n",
       "\n",
       "   MOT_long  HOSP_LOS  MOT_1year ...   PR10 PR11 PR12 PR13 PR14 PR15 PR16  \\\n",
       "0       NaN  1.144444      False ...    NaN  NaN  NaN  NaN  NaN  NaN  NaN   \n",
       "1       NaN  5.496528      False ...    NaN  NaN  NaN  NaN  NaN  NaN  NaN   \n",
       "2       NaN  6.768056      False ...    NaN  NaN  NaN  NaN  NaN  NaN  NaN   \n",
       "3       NaN  2.856944      False ...    NaN  NaN  NaN  NaN  NaN  NaN  NaN   \n",
       "4       NaN  3.534028      False ...    NaN  NaN  NaN  NaN  NaN  NaN  NaN   \n",
       "\n",
       "  PR17 PR18 PR19  \n",
       "0  NaN  NaN  NaN  \n",
       "1  NaN  NaN  NaN  \n",
       "2  NaN  NaN  NaN  \n",
       "3  NaN  NaN  NaN  \n",
       "4  NaN  NaN  NaN  \n",
       "\n",
       "[5 rows x 70 columns]"
      ]
     },
     "execution_count": 75,
     "metadata": {},
     "output_type": "execute_result"
    }
   ],
   "source": [
    "clean_df.head()"
   ]
  },
  {
   "cell_type": "code",
   "execution_count": 77,
   "metadata": {},
   "outputs": [],
   "source": [
    "clean_df.to_csv(data_path+'../cleaned/clean_df.csv', index=False)"
   ]
  }
 ],
 "metadata": {
  "kernelspec": {
   "display_name": "Python 3",
   "language": "python",
   "name": "python3"
  },
  "language_info": {
   "codemirror_mode": {
    "name": "ipython",
    "version": 3
   },
   "file_extension": ".py",
   "mimetype": "text/x-python",
   "name": "python",
   "nbconvert_exporter": "python",
   "pygments_lexer": "ipython3",
   "version": "3.5.4"
  }
 },
 "nbformat": 4,
 "nbformat_minor": 2
}

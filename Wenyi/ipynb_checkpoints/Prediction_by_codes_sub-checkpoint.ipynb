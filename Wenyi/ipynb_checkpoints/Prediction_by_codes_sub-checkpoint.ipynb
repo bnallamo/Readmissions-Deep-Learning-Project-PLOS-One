{
 "cells": [
  {
   "cell_type": "markdown",
   "metadata": {},
   "source": [
    "# Prediction by Diagnosis Codes\n",
    "In this notebook we use some fancier networks. "
   ]
  },
  {
   "cell_type": "code",
   "execution_count": 1,
   "metadata": {},
   "outputs": [],
   "source": [
    "import pandas as pd\n",
    "import numpy as np\n",
    "import matplotlib.pyplot as plt\n",
    "#import statsmodels.api as sm\n",
    "from sklearn.model_selection import train_test_split, StratifiedKFold, KFold\n",
    "from sklearn.metrics import roc_curve, auc\n",
    "import os, sys, time\n",
    "from importlib import reload\n",
    "%matplotlib inline"
   ]
  },
  {
   "cell_type": "code",
   "execution_count": 2,
   "metadata": {},
   "outputs": [],
   "source": [
    "path = '/nfs/turbo/umms-awaljee/wsliu/Data/MIMIC/'"
   ]
  },
  {
   "cell_type": "code",
   "execution_count": 3,
   "metadata": {},
   "outputs": [],
   "source": [
    "model_path = path + 'models/'\n",
    "if not os.path.exists(model_path): os.mkdir(model_path)"
   ]
  },
  {
   "cell_type": "code",
   "execution_count": 4,
   "metadata": {
    "scrolled": true
   },
   "outputs": [
    {
     "name": "stderr",
     "output_type": "stream",
     "text": [
      "Using TensorFlow backend.\n"
     ]
    }
   ],
   "source": [
    "from keras.layers import Input, Embedding, Concatenate, Reshape, BatchNormalization, LSTM, CuDNNLSTM, CuDNNGRU, Lambda, Add\n",
    "from keras.models import Model\n",
    "from keras.layers.core import Dense, Activation, Dropout, RepeatVector\n",
    "from keras.callbacks import ModelCheckpoint, ReduceLROnPlateau, EarlyStopping\n",
    "from keras.utils import to_categorical\n",
    "from keras.optimizers import Adam\n",
    "from keras.initializers import Constant\n",
    "import keras.backend as K\n",
    "\n",
    "module_path = '/home/wsliu/Codes/DLproj'\n",
    "if module_path not in sys.path:\n",
    "    sys.path.append(module_path)\n",
    "if module_path+'/NRD' not in sys.path:\n",
    "    sys.path.append(module_path+'/NRD')\n",
    "from DL_utils import plot_roc\n",
    "from keras_addon import AUCCheckPoint\n",
    "from utils import get_frequency, preprocess\n",
    "\n",
    "from ccs_tools import dx_multi, pr_multi, core_dtypes_pd"
   ]
  },
  {
   "cell_type": "markdown",
   "metadata": {},
   "source": [
    "## Data Preparation"
   ]
  },
  {
   "cell_type": "code",
   "execution_count": 5,
   "metadata": {},
   "outputs": [],
   "source": [
    "all_df = pd.read_csv(path+'MIMIC3_Updated_include.csv')"
   ]
  },
  {
   "cell_type": "code",
   "execution_count": 6,
   "metadata": {},
   "outputs": [],
   "source": [
    "all_df = all_df.drop(columns=['PR'+str(j) for j in range(15, 40)])"
   ]
  },
  {
   "cell_type": "code",
   "execution_count": 7,
   "metadata": {},
   "outputs": [],
   "source": [
    "n_DX = 30\n",
    "n_PR = 15\n",
    "DXs = ['DX'+str(n) for n in range(1, n_DX+1)]\n",
    "PRs = ['PR'+str(n) for n in range(1, n_PR+1)]"
   ]
  },
  {
   "cell_type": "code",
   "execution_count": 153,
   "metadata": {},
   "outputs": [
    {
     "data": {
      "text/plain": [
       "Index(['Unnamed: 0', 'HADM_ID', 'MORTALITY_1year', 'AGE', 'GENDER', 'LOS',\n",
       "       'Eth', 'DX0', 'DX1', 'DX2', 'DX3', 'DX4', 'DX5', 'DX6', 'DX7', 'DX8',\n",
       "       'DX9', 'DX10', 'DX11', 'DX12', 'DX13', 'DX14', 'DX15', 'DX16', 'DX17',\n",
       "       'DX18', 'DX19', 'DX20', 'DX21', 'DX22', 'DX23', 'DX24', 'DX25', 'DX26',\n",
       "       'DX27', 'DX28', 'DX29', 'PR0', 'PR1', 'PR2', 'PR3', 'PR4', 'PR5', 'PR6',\n",
       "       'PR7', 'PR8', 'PR9', 'PR10', 'PR11', 'PR12', 'PR13', 'PR14'],\n",
       "      dtype='object')"
      ]
     },
     "execution_count": 153,
     "metadata": {},
     "output_type": "execute_result"
    }
   ],
   "source": [
    "all_df.columns"
   ]
  },
  {
   "cell_type": "code",
   "execution_count": 8,
   "metadata": {},
   "outputs": [],
   "source": [
    "all_df.columns = ['Unnamed: 0', 'HADM_ID', 'MORTALITY_1year', 'AGE', 'GENDER', 'LOS', 'Eth'] + DXs + PRs"
   ]
  },
  {
   "cell_type": "code",
   "execution_count": 9,
   "metadata": {},
   "outputs": [
    {
     "data": {
      "text/plain": [
       "(45348, 52)"
      ]
     },
     "execution_count": 9,
     "metadata": {},
     "output_type": "execute_result"
    }
   ],
   "source": [
    "all_df.shape"
   ]
  },
  {
   "cell_type": "code",
   "execution_count": 10,
   "metadata": {},
   "outputs": [],
   "source": [
    "DX_series = pd.Series()\n",
    "for dx in DXs:\n",
    "    DX_series = pd.concat([DX_series, all_df[dx]])\n",
    "\n",
    "PR_series = pd.Series()\n",
    "for pr in PRs:\n",
    "    PR_series = pd.concat([PR_series, all_df[pr]])"
   ]
  },
  {
   "cell_type": "code",
   "execution_count": 11,
   "metadata": {},
   "outputs": [],
   "source": [
    "DX_freq = DX_series.value_counts()\n",
    "PR_freq = PR_series.value_counts()"
   ]
  },
  {
   "cell_type": "code",
   "execution_count": 12,
   "metadata": {},
   "outputs": [],
   "source": [
    "DX_rarecutpoint = 10\n",
    "PR_rarecutpoint = 10"
   ]
  },
  {
   "cell_type": "code",
   "execution_count": 13,
   "metadata": {},
   "outputs": [],
   "source": [
    "DX_cat = sorted(DX_freq.loc[DX_freq>=DX_rarecutpoint].index)\n",
    "PR_cat = sorted(PR_freq.loc[PR_freq>=PR_rarecutpoint].index)\n",
    "DX_in = set(DX_cat)\n",
    "PR_in = set(PR_cat)\n",
    "\n",
    "code_cat = ['missing'] + DX_cat + PR_cat"
   ]
  },
  {
   "cell_type": "code",
   "execution_count": 160,
   "metadata": {},
   "outputs": [
    {
     "data": {
      "text/plain": [
       "(2504, 771)"
      ]
     },
     "execution_count": 160,
     "metadata": {},
     "output_type": "execute_result"
    }
   ],
   "source": [
    "len(DX_in), len(PR_in)"
   ]
  },
  {
   "cell_type": "code",
   "execution_count": 15,
   "metadata": {},
   "outputs": [],
   "source": [
    "clean_df = all_df.copy()\n",
    "for dx in DXs:\n",
    "    clean_df.loc[~clean_df[dx].isin(DX_in), dx] = 'missing'\n",
    "for pr in PRs:\n",
    "    clean_df.loc[~clean_df[pr].isin(PR_in), pr] = 'missing'"
   ]
  },
  {
   "cell_type": "code",
   "execution_count": 16,
   "metadata": {},
   "outputs": [],
   "source": [
    "clean_df = clean_df.loc[(clean_df[DXs] != 'missing').sum(axis=1)>0]\n",
    "clean_df = clean_df.loc[(clean_df[PRs] != 'missing').sum(axis=1)>0]"
   ]
  },
  {
   "cell_type": "code",
   "execution_count": 163,
   "metadata": {},
   "outputs": [
    {
     "data": {
      "text/plain": [
       "(45348, 45157)"
      ]
     },
     "execution_count": 163,
     "metadata": {},
     "output_type": "execute_result"
    }
   ],
   "source": [
    "len(all_df), len(clean_df)"
   ]
  },
  {
   "cell_type": "code",
   "execution_count": 17,
   "metadata": {},
   "outputs": [],
   "source": [
    "all_df = clean_df.reset_index(drop=True)"
   ]
  },
  {
   "cell_type": "code",
   "execution_count": 18,
   "metadata": {},
   "outputs": [],
   "source": [
    "DX_dict = dict(zip(DX_cat, range(1, len(DX_cat)+1)))\n",
    "PR_dict = dict(zip(PR_cat, range(len(DX_cat)+1, len(DX_cat)+len(PR_cat)+1)))\n",
    "\n",
    "DX_dict['missing'] = 0\n",
    "PR_dict['missing'] = 0"
   ]
  },
  {
   "cell_type": "code",
   "execution_count": 19,
   "metadata": {},
   "outputs": [],
   "source": [
    "int_df = all_df.copy()\n",
    "for dx in DXs:\n",
    "    int_df[dx] = int_df[dx].map(DX_dict)\n",
    "    \n",
    "for pr in PRs:\n",
    "    int_df[pr] = int_df[pr].map(PR_dict)"
   ]
  },
  {
   "cell_type": "code",
   "execution_count": 20,
   "metadata": {},
   "outputs": [
    {
     "data": {
      "text/plain": [
       "(3275, 3276)"
      ]
     },
     "execution_count": 20,
     "metadata": {},
     "output_type": "execute_result"
    }
   ],
   "source": [
    "int_df.PR1.max(), len(code_cat)"
   ]
  },
  {
   "cell_type": "code",
   "execution_count": 21,
   "metadata": {},
   "outputs": [],
   "source": [
    "all_df = int_df.reset_index(drop=True)"
   ]
  },
  {
   "cell_type": "code",
   "execution_count": 22,
   "metadata": {},
   "outputs": [],
   "source": [
    "kf = KFold(n_splits=5, shuffle=True, random_state=24)\n",
    "\n",
    "train_idx, tst_idx = next(kf.split(all_df))\n",
    "\n",
    "train_df0 = all_df.loc[train_idx].reset_index(drop=True)\n",
    "tst_df = all_df.loc[tst_idx].reset_index(drop=True)"
   ]
  },
  {
   "cell_type": "code",
   "execution_count": 169,
   "metadata": {},
   "outputs": [],
   "source": [
    "train_df0, tst_df = train_test_split(all_df, random_state=24, shuffle=True)\n",
    "\n",
    "train_df0 = train_df0.reset_index(drop=True)\n",
    "tst_df = tst_df.reset_index(drop=True)"
   ]
  },
  {
   "cell_type": "code",
   "execution_count": 47,
   "metadata": {},
   "outputs": [
    {
     "data": {
      "text/plain": [
       "(set(), 38203, 6368)"
      ]
     },
     "execution_count": 47,
     "metadata": {},
     "output_type": "execute_result"
    }
   ],
   "source": [
    "set(train_df0.HADM_ID).intersection(set(tst_df.HADM_ID)), len(train_df0), len(tst_df)"
   ]
  },
  {
   "cell_type": "markdown",
   "metadata": {},
   "source": [
    "## Embedding + NN"
   ]
  },
  {
   "cell_type": "markdown",
   "metadata": {},
   "source": [
    "### Train embedding with Glove"
   ]
  },
  {
   "cell_type": "code",
   "execution_count": 23,
   "metadata": {},
   "outputs": [],
   "source": [
    "from glove import Glove"
   ]
  },
  {
   "cell_type": "code",
   "execution_count": 26,
   "metadata": {},
   "outputs": [],
   "source": [
    "code_embed_dim=50\n",
    "count_cap=20"
   ]
  },
  {
   "cell_type": "code",
   "execution_count": 32,
   "metadata": {},
   "outputs": [],
   "source": [
    "g = Glove(input_dim=len(code_cat), embedding_dim=code_embed_dim, count_cap=count_cap)"
   ]
  },
  {
   "cell_type": "code",
   "execution_count": 28,
   "metadata": {},
   "outputs": [
    {
     "name": "stdout",
     "output_type": "stream",
     "text": [
      "Updating co-occurrence matrix from a Dataframe with 36125 rows...\n",
      "Finished. It takes 5.5 seconds to update the cooccurrences.\n"
     ]
    }
   ],
   "source": [
    "g.update_cooccur(train_df0[DXs+PRs])"
   ]
  },
  {
   "cell_type": "code",
   "execution_count": 29,
   "metadata": {},
   "outputs": [],
   "source": [
    "cooccur_df = g.get_cooccur_df()"
   ]
  },
  {
   "cell_type": "code",
   "execution_count": 30,
   "metadata": {},
   "outputs": [
    {
     "data": {
      "text/plain": [
       "(729894, 3)"
      ]
     },
     "execution_count": 30,
     "metadata": {},
     "output_type": "execute_result"
    }
   ],
   "source": [
    "cooccur_df.shape"
   ]
  },
  {
   "cell_type": "code",
   "execution_count": 33,
   "metadata": {
    "scrolled": true
   },
   "outputs": [
    {
     "name": "stdout",
     "output_type": "stream",
     "text": [
      "Preparing data...\n",
      "Defining the GloVe model...\n",
      "Training the GloVe model...\n",
      "Epoch 1/80\n",
      "729894/729894 [==============================] - 3s 4us/step - loss: 0.5288\n",
      "Epoch 2/80\n",
      "729894/729894 [==============================] - 3s 4us/step - loss: 0.1254\n",
      "Epoch 3/80\n",
      "729894/729894 [==============================] - 3s 4us/step - loss: 0.1071\n",
      "Epoch 4/80\n",
      "729894/729894 [==============================] - 3s 4us/step - loss: 0.0890\n",
      "Epoch 5/80\n",
      "729894/729894 [==============================] - 3s 4us/step - loss: 0.0764\n",
      "Epoch 6/80\n",
      "729894/729894 [==============================] - 3s 4us/step - loss: 0.0670\n",
      "Epoch 7/80\n",
      "729894/729894 [==============================] - 3s 4us/step - loss: 0.0595\n",
      "Epoch 8/80\n",
      "729894/729894 [==============================] - 3s 4us/step - loss: 0.0538\n",
      "Epoch 9/80\n",
      "729894/729894 [==============================] - 3s 4us/step - loss: 0.0496\n",
      "Epoch 10/80\n",
      "729894/729894 [==============================] - 3s 4us/step - loss: 0.0463\n",
      "Epoch 11/80\n",
      "729894/729894 [==============================] - 3s 4us/step - loss: 0.0438\n",
      "Epoch 12/80\n",
      "729894/729894 [==============================] - 3s 4us/step - loss: 0.0417\n",
      "Epoch 13/80\n",
      "729894/729894 [==============================] - 3s 4us/step - loss: 0.0399\n",
      "Epoch 14/80\n",
      "729894/729894 [==============================] - 3s 4us/step - loss: 0.0385\n",
      "Epoch 15/80\n",
      "729894/729894 [==============================] - 3s 4us/step - loss: 0.0372\n",
      "Epoch 16/80\n",
      "729894/729894 [==============================] - 3s 4us/step - loss: 0.0362\n",
      "Epoch 17/80\n",
      "729894/729894 [==============================] - 3s 4us/step - loss: 0.0353\n",
      "Epoch 18/80\n",
      "729894/729894 [==============================] - 3s 4us/step - loss: 0.0346\n",
      "Epoch 19/80\n",
      "729894/729894 [==============================] - 3s 4us/step - loss: 0.0339\n",
      "Epoch 20/80\n",
      "729894/729894 [==============================] - 3s 4us/step - loss: 0.0334\n",
      "Epoch 21/80\n",
      "729894/729894 [==============================] - 3s 4us/step - loss: 0.0329\n",
      "Epoch 22/80\n",
      "729894/729894 [==============================] - 3s 4us/step - loss: 0.0325\n",
      "Epoch 23/80\n",
      "729894/729894 [==============================] - 3s 4us/step - loss: 0.0322\n",
      "Epoch 24/80\n",
      "729894/729894 [==============================] - 3s 4us/step - loss: 0.0319\n",
      "Epoch 25/80\n",
      "729894/729894 [==============================] - 3s 4us/step - loss: 0.0317\n",
      "Epoch 26/80\n",
      "729894/729894 [==============================] - 3s 4us/step - loss: 0.0315\n",
      "Epoch 27/80\n",
      "729894/729894 [==============================] - 3s 4us/step - loss: 0.0313\n",
      "Epoch 28/80\n",
      "729894/729894 [==============================] - 3s 4us/step - loss: 0.0311\n",
      "Epoch 29/80\n",
      "729894/729894 [==============================] - 3s 4us/step - loss: 0.0309\n",
      "Epoch 30/80\n",
      "729894/729894 [==============================] - 3s 4us/step - loss: 0.0308\n",
      "Epoch 31/80\n",
      "729894/729894 [==============================] - 3s 4us/step - loss: 0.0307\n",
      "Epoch 32/80\n",
      "729894/729894 [==============================] - 3s 4us/step - loss: 0.0306\n",
      "Epoch 33/80\n",
      "729894/729894 [==============================] - 3s 4us/step - loss: 0.0305\n",
      "Epoch 34/80\n",
      "729894/729894 [==============================] - 3s 4us/step - loss: 0.0304\n",
      "Epoch 35/80\n",
      "729894/729894 [==============================] - 3s 4us/step - loss: 0.0303\n",
      "Epoch 36/80\n",
      "729894/729894 [==============================] - 3s 4us/step - loss: 0.0302\n",
      "Epoch 37/80\n",
      "729894/729894 [==============================] - 3s 4us/step - loss: 0.0301\n",
      "Epoch 38/80\n",
      "729894/729894 [==============================] - 3s 4us/step - loss: 0.0301\n",
      "Epoch 39/80\n",
      "729894/729894 [==============================] - 3s 4us/step - loss: 0.0300\n",
      "Epoch 40/80\n",
      "729894/729894 [==============================] - 3s 4us/step - loss: 0.0299\n",
      "Epoch 41/80\n",
      "729894/729894 [==============================] - 3s 4us/step - loss: 0.0299\n",
      "Epoch 42/80\n",
      "729894/729894 [==============================] - 3s 4us/step - loss: 0.0298\n",
      "Epoch 43/80\n",
      "729894/729894 [==============================] - 3s 4us/step - loss: 0.0298\n",
      "Epoch 44/80\n",
      "729894/729894 [==============================] - 3s 4us/step - loss: 0.0297\n",
      "Epoch 45/80\n",
      "729894/729894 [==============================] - 3s 4us/step - loss: 0.0297\n",
      "Epoch 46/80\n",
      "729894/729894 [==============================] - 3s 4us/step - loss: 0.0297\n",
      "Epoch 47/80\n",
      "729894/729894 [==============================] - 3s 4us/step - loss: 0.0296\n",
      "Epoch 48/80\n",
      "729894/729894 [==============================] - 3s 4us/step - loss: 0.0296\n",
      "Epoch 49/80\n",
      "729894/729894 [==============================] - 3s 4us/step - loss: 0.0280\n",
      "Epoch 50/80\n",
      "729894/729894 [==============================] - 3s 4us/step - loss: 0.0279\n",
      "Epoch 51/80\n",
      "729894/729894 [==============================] - 3s 4us/step - loss: 0.0278\n",
      "Epoch 52/80\n",
      "729894/729894 [==============================] - 3s 4us/step - loss: 0.0278\n",
      "Epoch 53/80\n",
      "729894/729894 [==============================] - 3s 4us/step - loss: 0.0278\n",
      "Epoch 54/80\n",
      "729894/729894 [==============================] - 3s 4us/step - loss: 0.0274\n",
      "Epoch 55/80\n",
      "729894/729894 [==============================] - 3s 4us/step - loss: 0.0274\n",
      "Epoch 56/80\n",
      "729894/729894 [==============================] - 3s 4us/step - loss: 0.0274\n",
      "Epoch 57/80\n",
      "729894/729894 [==============================] - 3s 4us/step - loss: 0.0274\n",
      "Epoch 58/80\n",
      "729894/729894 [==============================] - 3s 4us/step - loss: 0.0273\n",
      "Epoch 59/80\n",
      "729894/729894 [==============================] - 3s 4us/step - loss: 0.0273\n",
      "Epoch 60/80\n",
      "729894/729894 [==============================] - 3s 4us/step - loss: 0.0273\n",
      "Epoch 61/80\n",
      "729894/729894 [==============================] - 3s 4us/step - loss: 0.0273\n",
      "Epoch 62/80\n",
      "729894/729894 [==============================] - 3s 4us/step - loss: 0.0273\n",
      "Epoch 63/80\n",
      "729894/729894 [==============================] - 3s 4us/step - loss: 0.0273\n",
      "Epoch 64/80\n",
      "729894/729894 [==============================] - 3s 4us/step - loss: 0.0273\n",
      "Epoch 65/80\n",
      "729894/729894 [==============================] - 3s 4us/step - loss: 0.0273\n",
      "Epoch 66/80\n",
      "729894/729894 [==============================] - 3s 4us/step - loss: 0.0273\n",
      "Epoch 67/80\n",
      "729894/729894 [==============================] - 3s 4us/step - loss: 0.0273\n",
      "Epoch 68/80\n",
      "729894/729894 [==============================] - 3s 4us/step - loss: 0.0273\n",
      "Epoch 69/80\n",
      "729894/729894 [==============================] - 3s 4us/step - loss: 0.0273\n",
      "Epoch 70/80\n",
      "729894/729894 [==============================] - 3s 4us/step - loss: 0.0273\n",
      "Epoch 71/80\n",
      "729894/729894 [==============================] - 3s 4us/step - loss: 0.0273\n",
      "Epoch 72/80\n",
      "729894/729894 [==============================] - 3s 4us/step - loss: 0.0273\n",
      "Epoch 73/80\n",
      "729894/729894 [==============================] - 3s 4us/step - loss: 0.0273\n",
      "Epoch 74/80\n",
      "729894/729894 [==============================] - 3s 4us/step - loss: 0.0273\n",
      "Epoch 75/80\n",
      "729894/729894 [==============================] - 3s 4us/step - loss: 0.0273\n",
      "Epoch 76/80\n",
      "729894/729894 [==============================] - 3s 4us/step - loss: 0.0273\n",
      "Epoch 77/80\n",
      "729894/729894 [==============================] - 3s 4us/step - loss: 0.0273\n",
      "Epoch 78/80\n",
      "729894/729894 [==============================] - 3s 4us/step - loss: 0.0273\n",
      "Epoch 79/80\n",
      "729894/729894 [==============================] - 3s 4us/step - loss: 0.0273\n",
      "Epoch 80/80\n",
      "729894/729894 [==============================] - 3s 4us/step - loss: 0.0273\n",
      "Finished. The pretrained embedding matrix can be retrieved by .get_embed_mat().\n"
     ]
    }
   ],
   "source": [
    "g.train_glove(cooccur_df=cooccur_df, cache_path=model_path+'temp/', epochs=80, earlystop_patience=10, reducelr_patience=3, \n",
    "              batch_size=1024)"
   ]
  },
  {
   "cell_type": "code",
   "execution_count": 34,
   "metadata": {},
   "outputs": [],
   "source": [
    "embed_mat = g.get_embed_mat()"
   ]
  },
  {
   "cell_type": "code",
   "execution_count": 68,
   "metadata": {},
   "outputs": [
    {
     "data": {
      "text/plain": [
       "(3342, 100)"
      ]
     },
     "execution_count": 68,
     "metadata": {},
     "output_type": "execute_result"
    }
   ],
   "source": [
    "embed_mat.shape"
   ]
  },
  {
   "cell_type": "markdown",
   "metadata": {},
   "source": [
    "### Data formating"
   ]
  },
  {
   "cell_type": "code",
   "execution_count": 35,
   "metadata": {},
   "outputs": [],
   "source": [
    "DX_mat_tst = tst_df[DXs].values\n",
    "PR_mat_tst = tst_df[PRs].values\n",
    "    \n",
    "continue_mat_tst = tst_df[['AGE', 'GENDER', 'LOS']].values\n",
    "eth_array_tst = tst_df['Eth'].values\n",
    "eth_mat_tst = to_categorical(eth_array_tst, num_classes=5)\n",
    "other_mat_tst = np.concatenate((continue_mat_tst, eth_mat_tst), axis=1)"
   ]
  },
  {
   "cell_type": "code",
   "execution_count": 36,
   "metadata": {},
   "outputs": [],
   "source": [
    "y_true = tst_df.MORTALITY_1year.values"
   ]
  },
  {
   "cell_type": "code",
   "execution_count": 37,
   "metadata": {},
   "outputs": [],
   "source": [
    "train_df = train_df0.copy()"
   ]
  },
  {
   "cell_type": "code",
   "execution_count": 38,
   "metadata": {},
   "outputs": [],
   "source": [
    "gkf2 = KFold(n_splits=5, shuffle=True, random_state=23)\n",
    "trn_idx, val_idx = next(gkf2.split(train_df))"
   ]
  },
  {
   "cell_type": "code",
   "execution_count": 39,
   "metadata": {},
   "outputs": [],
   "source": [
    "DX_mat_train = train_df[DXs].values\n",
    "            \n",
    "DX_mat_trn = DX_mat_train[trn_idx, :]\n",
    "DX_mat_val = DX_mat_train[val_idx, :]\n",
    "\n",
    "PR_mat_train = train_df[PRs].values\n",
    "            \n",
    "PR_mat_trn = PR_mat_train[trn_idx, :]\n",
    "PR_mat_val = PR_mat_train[val_idx, :]"
   ]
  },
  {
   "cell_type": "code",
   "execution_count": 40,
   "metadata": {},
   "outputs": [],
   "source": [
    "continue_mat_train = train_df[['AGE', 'GENDER', 'LOS']].values\n",
    "eth_array_train = train_df['Eth'].values\n",
    "eth_mat_train = to_categorical(eth_array_train, num_classes=5)\n",
    "other_mat_train = np.concatenate((continue_mat_train, eth_mat_train), axis=1)\n",
    "other_mat_trn = other_mat_train[trn_idx, :]\n",
    "other_mat_val = other_mat_train[val_idx, :]\n",
    "\n",
    "y_train = train_df.MORTALITY_1year.values\n",
    "y_trn = y_train[trn_idx]\n",
    "y_val = y_train[val_idx]\n",
    "Y_trn = to_categorical(y_train[trn_idx])\n",
    "Y_val = to_categorical(y_train[val_idx])"
   ]
  },
  {
   "cell_type": "markdown",
   "metadata": {},
   "source": [
    "### Model Building"
   ]
  },
  {
   "cell_type": "code",
   "execution_count": 41,
   "metadata": {},
   "outputs": [],
   "source": [
    "from setsum_layer import SetSum, MaskedSum, MaskedDense, MaskedPooling"
   ]
  },
  {
   "cell_type": "code",
   "execution_count": 30,
   "metadata": {},
   "outputs": [],
   "source": [
    "from keras_multi_head import MultiHeadAttention"
   ]
  },
  {
   "cell_type": "code",
   "execution_count": 42,
   "metadata": {},
   "outputs": [],
   "source": [
    "code_embed_dim = 50\n",
    "md_width = 32\n",
    "fc_width = 128\n",
    "dropout = 0.3\n",
    "job_index = 0\n",
    "batchsize = 512"
   ]
  },
  {
   "cell_type": "code",
   "execution_count": 114,
   "metadata": {},
   "outputs": [],
   "source": [
    "n_heads = 8\n",
    "n_att_layers = 24"
   ]
  },
  {
   "cell_type": "code",
   "execution_count": 43,
   "metadata": {},
   "outputs": [],
   "source": [
    "embed_initializer = Constant(embed_mat)"
   ]
  },
  {
   "cell_type": "code",
   "execution_count": 130,
   "metadata": {},
   "outputs": [],
   "source": [
    "embed_initializer = 'uniform'"
   ]
  },
  {
   "cell_type": "markdown",
   "metadata": {},
   "source": [
    "Model building: \n",
    "- setsum_nn \n",
    "- setsum_lr\n",
    "- embed_sum\n",
    "- embed_pool"
   ]
  },
  {
   "cell_type": "code",
   "execution_count": 44,
   "metadata": {},
   "outputs": [],
   "source": [
    "model_name = 'setsum_nn'"
   ]
  },
  {
   "cell_type": "code",
   "execution_count": 51,
   "metadata": {},
   "outputs": [],
   "source": [
    "input_DX = Input(shape = (len(DXs),))\n",
    "DX_embed = Embedding(input_dim=len(code_cat), output_dim=code_embed_dim, mask_zero=True, embeddings_initializer=embed_initializer, \n",
    "                     name='DX_embed')(input_DX)\n",
    "if model_name=='setsum_nn' or 'setsum_lr':\n",
    "    DX_embed = MaskedDense(md_width, activation='relu')(DX_embed)\n",
    "    DX_embed = MaskedSum()(DX_embed)\n",
    "elif model_name=='embed_sum':\n",
    "    DX_embed = MaskedSum()(DX_embed)\n",
    "elif model_name=='embed_pool':\n",
    "    DX_embed = MaskedPooling()(DX_embed)\n",
    "input_PR = Input(shape = (len(PRs),))\n",
    "PR_embed = Embedding(input_dim=len(code_cat), output_dim=code_embed_dim, mask_zero=True, embeddings_initializer=embed_initializer, \n",
    "                     name='PR_embed')(input_PR)\n",
    "if model_name=='setsum_nn' or 'setsum_lr':\n",
    "    PR_embed = MaskedDense(md_width, activation='relu')(PR_embed)\n",
    "    PR_embed = MaskedSum()(PR_embed)\n",
    "elif model_name=='embed_sum':\n",
    "    PR_embed = MaskedSum()(PR_embed)\n",
    "elif model_name=='embed_pool':\n",
    "    PR_embed = MaskedPooling()(PR_embed)\n",
    "input_other = Input(shape=(other_mat_train.shape[1], ))\n",
    "merged = Concatenate(axis=1)([DX_embed, PR_embed, input_other])\n",
    "if model_name=='setsum_nn':\n",
    "    merged = Dense(fc_width, activation='relu')(merged)\n",
    "    merged = Dropout(dropout)(merged)\n",
    "prediction = Dense(2, activation='softmax')(merged)\n",
    "model = Model(inputs=[input_DX, input_PR, input_other], outputs=prediction)"
   ]
  },
  {
   "cell_type": "markdown",
   "metadata": {},
   "source": [
    "Trying multi-head attention:"
   ]
  },
  {
   "cell_type": "code",
   "execution_count": 115,
   "metadata": {},
   "outputs": [],
   "source": [
    "input_DX1 = Input(shape=(1,))\n",
    "DX1_embed = Embedding(input_dim=len(code_cat), output_dim=code_embed_dim, mask_zero=True, embeddings_initializer=embed_initializer, \n",
    "                      name='DX1_embed')(input_DX1)\n",
    "#DX1_embed = Reshape((code_embed_dim,))(DX1_embed)\n",
    "\n",
    "input_DX = Input(shape = (len(DXs),))\n",
    "DX_embed = Embedding(input_dim=len(code_cat), output_dim=code_embed_dim, mask_zero=True, embeddings_initializer=embed_initializer, \n",
    "                     name='DX_embed')(input_DX)\n",
    "\n",
    "input_PR = Input(shape = (len(PRs),))\n",
    "PR_embed = Embedding(input_dim=len(code_cat), output_dim=code_embed_dim, mask_zero=True, embeddings_initializer=embed_initializer, \n",
    "                     name='PR_embed')(input_PR)\n",
    "\n",
    "code_embed = Concatenate(axis=1)([DX1_embed, DX_embed, PR_embed])\n",
    "for j in range(n_att_layers):\n",
    "    att = MultiHeadAttention(head_num=n_heads, use_bias=False, activation='linear')(code_embed)\n",
    "    code_embed = Add()([code_embed, att])\n",
    "    #code_embed = Dropout(0.3)(code_embed)\n",
    "    #code_embed = MultiHeadAttention(head_num=n_heads, use_bias=False, activation='linear')(code_embed)\n",
    "    code_embed = BatchNormalization()(code_embed)\n",
    "#code_embed = MaskedSum()(code_embed)\n",
    "code_embed = Lambda(lambda x:x[:, 0, :])(code_embed)\n",
    "#DX_embed = Reshape((1, code_embed_dim))(DX_embed)\n",
    "\n",
    "input_hosp = Input(shape=(1,))\n",
    "hosp_embed = Embedding(input_dim=len(hosp_cat), output_dim=hosp_embed_dim, input_length=1)(input_hosp)\n",
    "hosp_embed = Reshape((hosp_embed_dim, ))(hosp_embed)\n",
    "input_other = Input(shape=(other_mat_train.shape[1], ))\n",
    "merged = Concatenate(axis=1)([code_embed, hosp_embed, input_other])\n",
    "#merged = Dense(fc_width, activation='relu')(merged)\n",
    "#merged = Dropout(dropout)(merged)\n",
    "prediction = Dense(2, activation='softmax')(merged)\n",
    "model = Model(inputs=[input_DX1, input_DX, input_PR, input_hosp, input_other], outputs=prediction)"
   ]
  },
  {
   "cell_type": "code",
   "execution_count": 52,
   "metadata": {
    "scrolled": true
   },
   "outputs": [],
   "source": [
    "for l in model.layers:\n",
    "    if l.name=='DX_embed' or l.name=='PR_embed':\n",
    "        l.trainable = False"
   ]
  },
  {
   "cell_type": "code",
   "execution_count": 53,
   "metadata": {},
   "outputs": [],
   "source": [
    "adam = Adam(lr=0.0005)\n",
    "model.compile(optimizer=adam, loss='categorical_crossentropy')"
   ]
  },
  {
   "cell_type": "code",
   "execution_count": 79,
   "metadata": {
    "scrolled": true
   },
   "outputs": [],
   "source": [
    "for l in model.layers:\n",
    "    if l.name=='DX_embed' or l.name=='PR_embed':\n",
    "        l.trainable = True"
   ]
  },
  {
   "cell_type": "code",
   "execution_count": 80,
   "metadata": {},
   "outputs": [],
   "source": [
    "adam = Adam(lr=0.00005)\n",
    "model.compile(optimizer=adam, loss='categorical_crossentropy')"
   ]
  },
  {
   "cell_type": "code",
   "execution_count": 54,
   "metadata": {},
   "outputs": [],
   "source": [
    "auccheckpoint = AUCCheckPoint(filepath=model_path+'embeding_nn_temp'+str(job_index)+'.h5', validation_y=Y_val[:, 1], \n",
    "                                 validation_x=[DX_mat_val, PR_mat_val, other_mat_val])\n",
    "reduce_lr = ReduceLROnPlateau(monitor='val_loss', factor=0.2, patience=5, min_lr=K.epsilon())\n",
    "earlystop = EarlyStopping(monitor='val_loss', patience=20)"
   ]
  },
  {
   "cell_type": "code",
   "execution_count": 454,
   "metadata": {},
   "outputs": [],
   "source": [
    "class_weight = {0:(Y_trn.shape[0]/sum(Y_trn[:, 0])), 1:(Y_trn.shape[0]/sum(Y_trn[:, 1]))}"
   ]
  },
  {
   "cell_type": "code",
   "execution_count": 55,
   "metadata": {
    "scrolled": true
   },
   "outputs": [
    {
     "name": "stdout",
     "output_type": "stream",
     "text": [
      "Train on 28900 samples, validate on 7225 samples\n",
      "Epoch 1/100\n",
      "28900/28900 [==============================] - 1s 30us/step - loss: 1.4497 - val_loss: 0.6656\n",
      "AUC: 0.5691\n",
      "\n",
      "Epoch 2/100\n",
      "28900/28900 [==============================] - 0s 13us/step - loss: 0.9723 - val_loss: 0.5192\n",
      "AUC: 0.6914\n",
      "\n",
      "Epoch 3/100\n",
      "28900/28900 [==============================] - 0s 13us/step - loss: 0.6604 - val_loss: 0.4069\n",
      "AUC: 0.7374\n",
      "\n",
      "Epoch 4/100\n",
      "28900/28900 [==============================] - 0s 13us/step - loss: 0.4947 - val_loss: 0.3862\n",
      "AUC: 0.7571\n",
      "\n",
      "Epoch 5/100\n",
      "28900/28900 [==============================] - 0s 13us/step - loss: 0.4239 - val_loss: 0.3642\n",
      "AUC: 0.7795\n",
      "\n",
      "Epoch 6/100\n",
      "28900/28900 [==============================] - 0s 13us/step - loss: 0.3938 - val_loss: 0.3580\n",
      "AUC: 0.7900\n",
      "\n",
      "Epoch 7/100\n",
      "28900/28900 [==============================] - 0s 13us/step - loss: 0.3721 - val_loss: 0.3468\n",
      "AUC: 0.8079\n",
      "\n",
      "Epoch 8/100\n",
      "28900/28900 [==============================] - 0s 13us/step - loss: 0.3626 - val_loss: 0.3430\n",
      "AUC: 0.8145\n",
      "\n",
      "Epoch 9/100\n",
      "28900/28900 [==============================] - 0s 13us/step - loss: 0.3560 - val_loss: 0.3416\n",
      "AUC: 0.8185\n",
      "\n",
      "Epoch 10/100\n",
      "28900/28900 [==============================] - 0s 13us/step - loss: 0.3479 - val_loss: 0.3348\n",
      "AUC: 0.8272\n",
      "\n",
      "Epoch 11/100\n",
      "28900/28900 [==============================] - 0s 13us/step - loss: 0.3449 - val_loss: 0.3332\n",
      "AUC: 0.8290\n",
      "\n",
      "Epoch 12/100\n",
      "28900/28900 [==============================] - 0s 13us/step - loss: 0.3399 - val_loss: 0.3306\n",
      "AUC: 0.8358\n",
      "\n",
      "Epoch 13/100\n",
      "28900/28900 [==============================] - 0s 13us/step - loss: 0.3351 - val_loss: 0.3291\n",
      "AUC: 0.8386\n",
      "\n",
      "Epoch 14/100\n",
      "28900/28900 [==============================] - 0s 13us/step - loss: 0.3336 - val_loss: 0.3288\n",
      "AUC: 0.8370\n",
      "\n",
      "Epoch 15/100\n",
      "28900/28900 [==============================] - 0s 13us/step - loss: 0.3287 - val_loss: 0.3254\n",
      "AUC: 0.8408\n",
      "\n",
      "Epoch 16/100\n",
      "28900/28900 [==============================] - 0s 13us/step - loss: 0.3289 - val_loss: 0.3251\n",
      "AUC: 0.8415\n",
      "\n",
      "Epoch 17/100\n",
      "28900/28900 [==============================] - 0s 13us/step - loss: 0.3245 - val_loss: 0.3232\n",
      "AUC: 0.8441\n",
      "\n",
      "Epoch 18/100\n",
      "28900/28900 [==============================] - 0s 13us/step - loss: 0.3252 - val_loss: 0.3246\n",
      "AUC: 0.8432\n",
      "\n",
      "Epoch 19/100\n",
      "28900/28900 [==============================] - 0s 13us/step - loss: 0.3242 - val_loss: 0.3227\n",
      "AUC: 0.8454\n",
      "\n",
      "Epoch 20/100\n",
      "28900/28900 [==============================] - 0s 13us/step - loss: 0.3202 - val_loss: 0.3205\n",
      "AUC: 0.8489\n",
      "\n",
      "Epoch 21/100\n",
      "28900/28900 [==============================] - 0s 13us/step - loss: 0.3192 - val_loss: 0.3220\n",
      "AUC: 0.8467\n",
      "\n",
      "Epoch 22/100\n",
      "28900/28900 [==============================] - 0s 13us/step - loss: 0.3204 - val_loss: 0.3213\n",
      "AUC: 0.8483\n",
      "\n",
      "Epoch 23/100\n",
      "28900/28900 [==============================] - 0s 13us/step - loss: 0.3171 - val_loss: 0.3204\n",
      "AUC: 0.8507\n",
      "\n",
      "Epoch 24/100\n",
      "28900/28900 [==============================] - 0s 13us/step - loss: 0.3168 - val_loss: 0.3175\n",
      "AUC: 0.8511\n",
      "\n",
      "Epoch 25/100\n",
      "28900/28900 [==============================] - 0s 13us/step - loss: 0.3151 - val_loss: 0.3171\n",
      "AUC: 0.8520\n",
      "\n",
      "Epoch 26/100\n",
      "28900/28900 [==============================] - 0s 13us/step - loss: 0.3143 - val_loss: 0.3168\n",
      "AUC: 0.8529\n",
      "\n",
      "Epoch 27/100\n",
      "28900/28900 [==============================] - 0s 13us/step - loss: 0.3131 - val_loss: 0.3166\n",
      "AUC: 0.8534\n",
      "\n",
      "Epoch 28/100\n",
      "28900/28900 [==============================] - 0s 13us/step - loss: 0.3135 - val_loss: 0.3179\n",
      "AUC: 0.8518\n",
      "\n",
      "Epoch 29/100\n",
      "28900/28900 [==============================] - 0s 13us/step - loss: 0.3111 - val_loss: 0.3175\n",
      "AUC: 0.8527\n",
      "\n",
      "Epoch 30/100\n",
      "28900/28900 [==============================] - 0s 13us/step - loss: 0.3084 - val_loss: 0.3143\n",
      "AUC: 0.8550\n",
      "\n",
      "Epoch 31/100\n",
      "28900/28900 [==============================] - 0s 13us/step - loss: 0.3106 - val_loss: 0.3131\n",
      "AUC: 0.8568\n",
      "\n",
      "Epoch 32/100\n",
      "28900/28900 [==============================] - 0s 13us/step - loss: 0.3083 - val_loss: 0.3144\n",
      "AUC: 0.8561\n",
      "\n",
      "Epoch 33/100\n",
      "28900/28900 [==============================] - 0s 13us/step - loss: 0.3079 - val_loss: 0.3134\n",
      "AUC: 0.8571\n",
      "\n",
      "Epoch 34/100\n",
      "28900/28900 [==============================] - 0s 13us/step - loss: 0.3059 - val_loss: 0.3183\n",
      "AUC: 0.8560\n",
      "\n",
      "Epoch 35/100\n",
      "28900/28900 [==============================] - 0s 13us/step - loss: 0.3072 - val_loss: 0.3185\n",
      "AUC: 0.8593\n",
      "\n",
      "Epoch 36/100\n",
      "28900/28900 [==============================] - 0s 13us/step - loss: 0.3087 - val_loss: 0.3111\n",
      "AUC: 0.8582\n",
      "\n",
      "Epoch 37/100\n",
      "28900/28900 [==============================] - 0s 13us/step - loss: 0.3053 - val_loss: 0.3106\n",
      "AUC: 0.8610\n",
      "\n",
      "Epoch 38/100\n",
      "28900/28900 [==============================] - 0s 13us/step - loss: 0.3037 - val_loss: 0.3132\n",
      "AUC: 0.8590\n",
      "\n",
      "Epoch 39/100\n",
      "28900/28900 [==============================] - 0s 13us/step - loss: 0.3039 - val_loss: 0.3120\n",
      "AUC: 0.8603\n",
      "\n",
      "Epoch 40/100\n",
      "28900/28900 [==============================] - 0s 13us/step - loss: 0.3025 - val_loss: 0.3100\n",
      "AUC: 0.8606\n",
      "\n",
      "Epoch 41/100\n",
      "28900/28900 [==============================] - 0s 13us/step - loss: 0.3019 - val_loss: 0.3104\n",
      "AUC: 0.8600\n",
      "\n",
      "Epoch 42/100\n",
      "28900/28900 [==============================] - 0s 13us/step - loss: 0.3026 - val_loss: 0.3086\n",
      "AUC: 0.8627\n",
      "\n",
      "Epoch 43/100\n",
      "28900/28900 [==============================] - 0s 13us/step - loss: 0.3022 - val_loss: 0.3081\n",
      "AUC: 0.8619\n",
      "\n",
      "Epoch 44/100\n",
      "28900/28900 [==============================] - 0s 13us/step - loss: 0.3009 - val_loss: 0.3089\n",
      "AUC: 0.8625\n",
      "\n",
      "Epoch 45/100\n",
      "28900/28900 [==============================] - 0s 13us/step - loss: 0.3016 - val_loss: 0.3076\n",
      "AUC: 0.8632\n",
      "\n",
      "Epoch 46/100\n",
      "28900/28900 [==============================] - 0s 13us/step - loss: 0.3003 - val_loss: 0.3088\n",
      "AUC: 0.8624\n",
      "\n",
      "Epoch 47/100\n",
      "28900/28900 [==============================] - 0s 13us/step - loss: 0.2986 - val_loss: 0.3096\n",
      "AUC: 0.8616\n",
      "\n",
      "Epoch 48/100\n",
      "28900/28900 [==============================] - 0s 13us/step - loss: 0.2991 - val_loss: 0.3064\n",
      "AUC: 0.8637\n",
      "\n",
      "Epoch 49/100\n",
      "28900/28900 [==============================] - 0s 13us/step - loss: 0.2988 - val_loss: 0.3081\n",
      "AUC: 0.8630\n",
      "\n",
      "Epoch 50/100\n",
      "28900/28900 [==============================] - 0s 13us/step - loss: 0.2977 - val_loss: 0.3065\n",
      "AUC: 0.8633\n",
      "\n",
      "Epoch 51/100\n",
      "28900/28900 [==============================] - 0s 13us/step - loss: 0.2964 - val_loss: 0.3073\n",
      "AUC: 0.8639\n",
      "\n",
      "Epoch 52/100\n",
      "28900/28900 [==============================] - 0s 13us/step - loss: 0.2974 - val_loss: 0.3083\n",
      "AUC: 0.8639\n",
      "\n",
      "Epoch 53/100\n",
      "28900/28900 [==============================] - 0s 13us/step - loss: 0.2965 - val_loss: 0.3061\n",
      "AUC: 0.8648\n",
      "\n",
      "Epoch 54/100\n",
      "28900/28900 [==============================] - 0s 13us/step - loss: 0.2957 - val_loss: 0.3058\n",
      "AUC: 0.8651\n",
      "\n",
      "Epoch 55/100\n",
      "28900/28900 [==============================] - 0s 13us/step - loss: 0.2941 - val_loss: 0.3063\n",
      "AUC: 0.8645\n",
      "\n",
      "Epoch 56/100\n",
      "28900/28900 [==============================] - 0s 13us/step - loss: 0.2949 - val_loss: 0.3113\n",
      "AUC: 0.8636\n",
      "\n",
      "Epoch 57/100\n",
      "28900/28900 [==============================] - 0s 13us/step - loss: 0.2949 - val_loss: 0.3067\n",
      "AUC: 0.8661\n",
      "\n",
      "Epoch 58/100\n",
      "28900/28900 [==============================] - 0s 13us/step - loss: 0.2950 - val_loss: 0.3068\n",
      "AUC: 0.8657\n",
      "\n",
      "Epoch 59/100\n",
      "28900/28900 [==============================] - 0s 13us/step - loss: 0.2941 - val_loss: 0.3066\n",
      "AUC: 0.8660\n",
      "\n",
      "Epoch 60/100\n",
      "28900/28900 [==============================] - 0s 13us/step - loss: 0.2909 - val_loss: 0.3051\n",
      "AUC: 0.8668\n",
      "\n",
      "Epoch 61/100\n",
      "28900/28900 [==============================] - 0s 13us/step - loss: 0.2913 - val_loss: 0.3050\n",
      "AUC: 0.8667\n",
      "\n",
      "Epoch 62/100\n",
      "28900/28900 [==============================] - 0s 13us/step - loss: 0.2910 - val_loss: 0.3054\n",
      "AUC: 0.8666\n",
      "\n",
      "Epoch 63/100\n",
      "28900/28900 [==============================] - 0s 13us/step - loss: 0.2887 - val_loss: 0.3049\n",
      "AUC: 0.8667\n",
      "\n",
      "Epoch 64/100\n",
      "28900/28900 [==============================] - 0s 13us/step - loss: 0.2895 - val_loss: 0.3050\n",
      "AUC: 0.8667\n",
      "\n",
      "Epoch 65/100\n",
      "28900/28900 [==============================] - 0s 13us/step - loss: 0.2900 - val_loss: 0.3046\n",
      "AUC: 0.8667\n",
      "\n",
      "Epoch 66/100\n",
      "28900/28900 [==============================] - 0s 13us/step - loss: 0.2891 - val_loss: 0.3053\n",
      "AUC: 0.8665\n",
      "\n",
      "Epoch 67/100\n",
      "28900/28900 [==============================] - 0s 13us/step - loss: 0.2906 - val_loss: 0.3046\n",
      "AUC: 0.8668\n",
      "\n",
      "Epoch 68/100\n",
      "28900/28900 [==============================] - 0s 13us/step - loss: 0.2875 - val_loss: 0.3048\n",
      "AUC: 0.8667\n",
      "\n",
      "Epoch 69/100\n"
     ]
    },
    {
     "name": "stdout",
     "output_type": "stream",
     "text": [
      "28900/28900 [==============================] - 0s 13us/step - loss: 0.2896 - val_loss: 0.3046\n",
      "AUC: 0.8669\n",
      "\n",
      "Epoch 70/100\n",
      "28900/28900 [==============================] - 0s 13us/step - loss: 0.2888 - val_loss: 0.3045\n",
      "AUC: 0.8669\n",
      "\n",
      "Epoch 71/100\n",
      "28900/28900 [==============================] - 0s 13us/step - loss: 0.2897 - val_loss: 0.3050\n",
      "AUC: 0.8669\n",
      "\n",
      "Epoch 72/100\n",
      "28900/28900 [==============================] - 0s 13us/step - loss: 0.2903 - val_loss: 0.3044\n",
      "AUC: 0.8671\n",
      "\n",
      "Epoch 73/100\n",
      "28900/28900 [==============================] - 0s 13us/step - loss: 0.2881 - val_loss: 0.3044\n",
      "AUC: 0.8671\n",
      "\n",
      "Epoch 74/100\n",
      "28900/28900 [==============================] - 0s 13us/step - loss: 0.2879 - val_loss: 0.3043\n",
      "AUC: 0.8671\n",
      "\n",
      "Epoch 75/100\n",
      "28900/28900 [==============================] - 0s 13us/step - loss: 0.2893 - val_loss: 0.3041\n",
      "AUC: 0.8674\n",
      "\n",
      "Epoch 76/100\n",
      "28900/28900 [==============================] - 0s 13us/step - loss: 0.2890 - val_loss: 0.3045\n",
      "AUC: 0.8672\n",
      "\n",
      "Epoch 77/100\n",
      "28900/28900 [==============================] - 0s 13us/step - loss: 0.2892 - val_loss: 0.3045\n",
      "AUC: 0.8673\n",
      "\n",
      "Epoch 78/100\n",
      "28900/28900 [==============================] - 0s 13us/step - loss: 0.2884 - val_loss: 0.3045\n",
      "AUC: 0.8672\n",
      "\n",
      "Epoch 79/100\n",
      "28900/28900 [==============================] - 0s 13us/step - loss: 0.2873 - val_loss: 0.3044\n",
      "AUC: 0.8675\n",
      "\n",
      "Epoch 80/100\n",
      "28900/28900 [==============================] - 0s 13us/step - loss: 0.2877 - val_loss: 0.3040\n",
      "AUC: 0.8676\n",
      "\n",
      "Epoch 81/100\n",
      "28900/28900 [==============================] - 0s 13us/step - loss: 0.2869 - val_loss: 0.3040\n",
      "AUC: 0.8676\n",
      "\n",
      "Epoch 82/100\n",
      "28900/28900 [==============================] - 0s 13us/step - loss: 0.2870 - val_loss: 0.3040\n",
      "AUC: 0.8675\n",
      "\n",
      "Epoch 83/100\n",
      "28900/28900 [==============================] - 0s 13us/step - loss: 0.2863 - val_loss: 0.3042\n",
      "AUC: 0.8675\n",
      "\n",
      "Epoch 84/100\n",
      "28900/28900 [==============================] - 0s 13us/step - loss: 0.2867 - val_loss: 0.3041\n",
      "AUC: 0.8675\n",
      "\n",
      "Epoch 85/100\n",
      "28900/28900 [==============================] - 0s 13us/step - loss: 0.2876 - val_loss: 0.3042\n",
      "AUC: 0.8676\n",
      "\n",
      "Epoch 86/100\n",
      "28900/28900 [==============================] - 0s 13us/step - loss: 0.2873 - val_loss: 0.3042\n",
      "AUC: 0.8676\n",
      "\n",
      "Epoch 87/100\n",
      "28900/28900 [==============================] - 0s 13us/step - loss: 0.2873 - val_loss: 0.3041\n",
      "AUC: 0.8676\n",
      "\n",
      "Epoch 88/100\n",
      "28900/28900 [==============================] - 0s 13us/step - loss: 0.2871 - val_loss: 0.3041\n",
      "AUC: 0.8676\n",
      "\n",
      "Epoch 89/100\n",
      "28900/28900 [==============================] - 0s 13us/step - loss: 0.2872 - val_loss: 0.3041\n",
      "AUC: 0.8676\n",
      "\n",
      "Epoch 90/100\n",
      "28900/28900 [==============================] - 0s 13us/step - loss: 0.2865 - val_loss: 0.3041\n",
      "AUC: 0.8676\n",
      "\n",
      "Epoch 91/100\n",
      "28900/28900 [==============================] - 0s 13us/step - loss: 0.2876 - val_loss: 0.3041\n",
      "AUC: 0.8676\n",
      "\n",
      "Epoch 92/100\n",
      "28900/28900 [==============================] - 0s 13us/step - loss: 0.2865 - val_loss: 0.3041\n",
      "AUC: 0.8676\n",
      "\n",
      "Epoch 93/100\n",
      "28900/28900 [==============================] - 0s 13us/step - loss: 0.2871 - val_loss: 0.3041\n",
      "AUC: 0.8676\n",
      "\n",
      "Epoch 94/100\n",
      "28900/28900 [==============================] - 0s 13us/step - loss: 0.2865 - val_loss: 0.3041\n",
      "AUC: 0.8676\n",
      "\n",
      "Epoch 95/100\n",
      "28900/28900 [==============================] - 0s 13us/step - loss: 0.2877 - val_loss: 0.3041\n",
      "AUC: 0.8676\n",
      "\n",
      "Epoch 96/100\n",
      "28900/28900 [==============================] - 0s 13us/step - loss: 0.2873 - val_loss: 0.3041\n",
      "AUC: 0.8676\n",
      "\n",
      "Epoch 97/100\n",
      "28900/28900 [==============================] - 0s 13us/step - loss: 0.2869 - val_loss: 0.3041\n",
      "AUC: 0.8676\n",
      "\n",
      "Epoch 98/100\n",
      "28900/28900 [==============================] - 0s 13us/step - loss: 0.2863 - val_loss: 0.3041\n",
      "AUC: 0.8676\n",
      "\n",
      "Epoch 99/100\n",
      "28900/28900 [==============================] - 0s 13us/step - loss: 0.2875 - val_loss: 0.3041\n",
      "AUC: 0.8676\n",
      "\n",
      "Epoch 100/100\n",
      "28900/28900 [==============================] - 0s 13us/step - loss: 0.2874 - val_loss: 0.3041\n",
      "AUC: 0.8676\n",
      "\n"
     ]
    }
   ],
   "source": [
    "hist = model.fit([DX_mat_trn, PR_mat_trn, other_mat_trn], Y_trn, \n",
    "                     batch_size=batchsize, epochs=100, callbacks=[auccheckpoint, reduce_lr, earlystop], \n",
    "                     validation_data=[[DX_mat_val, PR_mat_val, other_mat_val], Y_val], \n",
    "                    verbose=1)"
   ]
  },
  {
   "cell_type": "code",
   "execution_count": 56,
   "metadata": {
    "scrolled": true
   },
   "outputs": [
    {
     "data": {
      "text/plain": [
       "[<matplotlib.lines.Line2D at 0x2b2753cd9550>]"
      ]
     },
     "execution_count": 56,
     "metadata": {},
     "output_type": "execute_result"
    },
    {
     "data": {
      "image/png": "[encoded data removed]",
      "text/plain": [
       "<Figure size 432x288 with 1 Axes>"
      ]
     },
     "metadata": {},
     "output_type": "display_data"
    }
   ],
   "source": [
    "plt.plot(hist.history['val_loss'])"
   ]
  },
  {
   "cell_type": "code",
   "execution_count": 57,
   "metadata": {
    "scrolled": false
   },
   "outputs": [
    {
     "data": {
      "text/plain": [
       "[<matplotlib.lines.Line2D at 0x2b2753d185c0>]"
      ]
     },
     "execution_count": 57,
     "metadata": {},
     "output_type": "execute_result"
    },
    {
     "data": {
      "image/png": "[encoded data removed]",
      "text/plain": [
       "<Figure size 432x288 with 1 Axes>"
      ]
     },
     "metadata": {},
     "output_type": "display_data"
    }
   ],
   "source": [
    "plt.plot(auccheckpoint.auc_history)"
   ]
  },
  {
   "cell_type": "code",
   "execution_count": 58,
   "metadata": {},
   "outputs": [],
   "source": [
    "model.load_weights(model_path+'embeding_nn_temp'+str(job_index)+'.h5')"
   ]
  },
  {
   "cell_type": "code",
   "execution_count": 59,
   "metadata": {},
   "outputs": [
    {
     "name": "stdout",
     "output_type": "stream",
     "text": [
      "9032/9032 [==============================] - 0s 51us/step\n"
     ]
    }
   ],
   "source": [
    "y = model.predict([DX_mat_tst, PR_mat_tst, other_mat_tst], verbose=1)\n",
    "\n",
    "y_pred = y[:, 1]"
   ]
  },
  {
   "cell_type": "code",
   "execution_count": 60,
   "metadata": {
    "scrolled": true
   },
   "outputs": [
    {
     "data": {
      "text/plain": [
       "{0: 0.8718302942734018}"
      ]
     },
     "execution_count": 60,
     "metadata": {},
     "output_type": "execute_result"
    },
    {
     "data": {
      "image/png": "[encoded data removed]",
      "text/plain": [
       "<Figure size 432x288 with 1 Axes>"
      ]
     },
     "metadata": {},
     "output_type": "display_data"
    }
   ],
   "source": [
    "plot_roc(y_pred, y_true)"
   ]
  },
  {
   "cell_type": "markdown",
   "metadata": {},
   "source": [
    "### Embedding Visualization"
   ]
  },
  {
   "cell_type": "code",
   "execution_count": 237,
   "metadata": {},
   "outputs": [],
   "source": [
    "from MulticoreTSNE import MulticoreTSNE as TSNE"
   ]
  },
  {
   "cell_type": "code",
   "execution_count": 238,
   "metadata": {},
   "outputs": [],
   "source": [
    "code_freq = get_frequency(train_df0)"
   ]
  },
  {
   "cell_type": "code",
   "execution_count": 239,
   "metadata": {},
   "outputs": [],
   "source": [
    "DX_freq = code_freq['DX']"
   ]
  },
  {
   "cell_type": "code",
   "execution_count": 240,
   "metadata": {},
   "outputs": [],
   "source": [
    "DX_embed_mat = embed_mat[DX_dict[DX_cat[0]]:(DX_dict[DX_cat[-1]]+1), :]"
   ]
  },
  {
   "cell_type": "code",
   "execution_count": 306,
   "metadata": {},
   "outputs": [],
   "source": [
    "DX_embed_mat = embed_mat[1:(DX_dict[DX_cat[-1]]+1), :]"
   ]
  },
  {
   "cell_type": "code",
   "execution_count": 300,
   "metadata": {},
   "outputs": [],
   "source": [
    "tsne = TSNE(n_components=2, init='random', random_state=0)"
   ]
  },
  {
   "cell_type": "code",
   "execution_count": 307,
   "metadata": {},
   "outputs": [
    {
     "name": "stdout",
     "output_type": "stream",
     "text": [
      "Time used: 12.048529148101807 sec\n"
     ]
    }
   ],
   "source": [
    "start = time.time()\n",
    "DX_tsne = tsne.fit_transform(DX_embed_mat)\n",
    "print('Time used: {} sec'.format(time.time()-start))"
   ]
  },
  {
   "cell_type": "code",
   "execution_count": 243,
   "metadata": {},
   "outputs": [],
   "source": [
    "plot_df = pd.DataFrame(dict(x=DX_tsne[:, 0], y=DX_tsne[:, 1]), index=DX_cat)"
   ]
  },
  {
   "cell_type": "code",
   "execution_count": 321,
   "metadata": {},
   "outputs": [],
   "source": [
    "plot_df = pd.DataFrame(dict(x=DX_tsne[:, 0], y=DX_tsne[:, 1]), index=['m'+dx for dx in DX1_cat]+DX_cat)"
   ]
  },
  {
   "cell_type": "markdown",
   "metadata": {},
   "source": [
    "CCS category labels:"
   ]
  },
  {
   "cell_type": "code",
   "execution_count": 244,
   "metadata": {},
   "outputs": [],
   "source": [
    "plot_df = plot_df.assign(ccs_lvl1=[dx_multi.loc[dx, 'CCS_LVL1']+' '+dx_multi.loc[dx, 'CCS_LVL1_LABEL'] for dx in plot_df.index])\n",
    "\n",
    "plot_df = plot_df.assign(freq=DX_freq.loc[pd.Series(DX_cat).apply(lambda x:DX_dict[x])].values)\n",
    "\n",
    "plot_df = plot_df.assign(dot_size=plot_df.freq.apply(lambda x:np.log(x+1)**2/4))"
   ]
  },
  {
   "cell_type": "code",
   "execution_count": 310,
   "metadata": {},
   "outputs": [],
   "source": [
    "plot_df = plot_df.assign(label='other')"
   ]
  },
  {
   "cell_type": "code",
   "execution_count": 320,
   "metadata": {},
   "outputs": [
    {
     "data": {
      "text/html": [
       "<div>\n",
       "<style scoped>\n",
       "    .dataframe tbody tr th:only-of-type {\n",
       "        vertical-align: middle;\n",
       "    }\n",
       "\n",
       "    .dataframe tbody tr th {\n",
       "        vertical-align: top;\n",
       "    }\n",
       "\n",
       "    .dataframe thead th {\n",
       "        text-align: right;\n",
       "    }\n",
       "</style>\n",
       "<table border=\"1\" class=\"dataframe\">\n",
       "  <thead>\n",
       "    <tr style=\"text-align: right;\">\n",
       "      <th></th>\n",
       "      <th>x</th>\n",
       "      <th>y</th>\n",
       "      <th>label</th>\n",
       "    </tr>\n",
       "  </thead>\n",
       "  <tbody>\n",
       "    <tr>\n",
       "      <th>41001</th>\n",
       "      <td>3.324308</td>\n",
       "      <td>10.902804</td>\n",
       "      <td>major</td>\n",
       "    </tr>\n",
       "    <tr>\n",
       "      <th>41001</th>\n",
       "      <td>-0.376500</td>\n",
       "      <td>1.508393</td>\n",
       "      <td>other</td>\n",
       "    </tr>\n",
       "  </tbody>\n",
       "</table>\n",
       "</div>"
      ],
      "text/plain": [
       "              x          y  label\n",
       "41001  3.324308  10.902804  major\n",
       "41001 -0.376500   1.508393  other"
      ]
     },
     "execution_count": 320,
     "metadata": {},
     "output_type": "execute_result"
    }
   ],
   "source": [
    "plot_df.loc['41001']"
   ]
  },
  {
   "cell_type": "code",
   "execution_count": 322,
   "metadata": {
    "collapsed": true
   },
   "outputs": [
    {
     "data": {
      "text/html": [
       "<div>\n",
       "<style scoped>\n",
       "    .dataframe tbody tr th:only-of-type {\n",
       "        vertical-align: middle;\n",
       "    }\n",
       "\n",
       "    .dataframe tbody tr th {\n",
       "        vertical-align: top;\n",
       "    }\n",
       "\n",
       "    .dataframe thead th {\n",
       "        text-align: right;\n",
       "    }\n",
       "</style>\n",
       "<table border=\"1\" class=\"dataframe\">\n",
       "  <thead>\n",
       "    <tr style=\"text-align: right;\">\n",
       "      <th></th>\n",
       "      <th>x</th>\n",
       "      <th>y</th>\n",
       "    </tr>\n",
       "  </thead>\n",
       "  <tbody>\n",
       "    <tr>\n",
       "      <th>m41000</th>\n",
       "      <td>5.994010</td>\n",
       "      <td>-13.867500</td>\n",
       "    </tr>\n",
       "    <tr>\n",
       "      <th>m41001</th>\n",
       "      <td>3.324308</td>\n",
       "      <td>10.902804</td>\n",
       "    </tr>\n",
       "    <tr>\n",
       "      <th>m41010</th>\n",
       "      <td>-5.964371</td>\n",
       "      <td>-5.004744</td>\n",
       "    </tr>\n",
       "    <tr>\n",
       "      <th>m41011</th>\n",
       "      <td>3.358795</td>\n",
       "      <td>11.083466</td>\n",
       "    </tr>\n",
       "    <tr>\n",
       "      <th>m41020</th>\n",
       "      <td>5.888000</td>\n",
       "      <td>-13.817354</td>\n",
       "    </tr>\n",
       "    <tr>\n",
       "      <th>m41021</th>\n",
       "      <td>3.266266</td>\n",
       "      <td>10.813693</td>\n",
       "    </tr>\n",
       "    <tr>\n",
       "      <th>m41030</th>\n",
       "      <td>10.456566</td>\n",
       "      <td>-14.355887</td>\n",
       "    </tr>\n",
       "    <tr>\n",
       "      <th>m41031</th>\n",
       "      <td>3.254933</td>\n",
       "      <td>10.763239</td>\n",
       "    </tr>\n",
       "    <tr>\n",
       "      <th>m41040</th>\n",
       "      <td>4.830407</td>\n",
       "      <td>-15.705278</td>\n",
       "    </tr>\n",
       "    <tr>\n",
       "      <th>m41041</th>\n",
       "      <td>2.996257</td>\n",
       "      <td>11.277818</td>\n",
       "    </tr>\n",
       "    <tr>\n",
       "      <th>m41050</th>\n",
       "      <td>12.145478</td>\n",
       "      <td>-6.577780</td>\n",
       "    </tr>\n",
       "    <tr>\n",
       "      <th>m41051</th>\n",
       "      <td>3.137660</td>\n",
       "      <td>10.620467</td>\n",
       "    </tr>\n",
       "    <tr>\n",
       "      <th>m41060</th>\n",
       "      <td>9.797898</td>\n",
       "      <td>-12.790399</td>\n",
       "    </tr>\n",
       "    <tr>\n",
       "      <th>m41061</th>\n",
       "      <td>2.303349</td>\n",
       "      <td>7.326526</td>\n",
       "    </tr>\n",
       "    <tr>\n",
       "      <th>m41070</th>\n",
       "      <td>-12.708771</td>\n",
       "      <td>-2.968350</td>\n",
       "    </tr>\n",
       "    <tr>\n",
       "      <th>m41071</th>\n",
       "      <td>1.310318</td>\n",
       "      <td>13.164182</td>\n",
       "    </tr>\n",
       "    <tr>\n",
       "      <th>m41080</th>\n",
       "      <td>11.018405</td>\n",
       "      <td>-13.890571</td>\n",
       "    </tr>\n",
       "    <tr>\n",
       "      <th>m41081</th>\n",
       "      <td>1.539214</td>\n",
       "      <td>6.538039</td>\n",
       "    </tr>\n",
       "    <tr>\n",
       "      <th>m41090</th>\n",
       "      <td>-1.650072</td>\n",
       "      <td>-4.472263</td>\n",
       "    </tr>\n",
       "    <tr>\n",
       "      <th>m41091</th>\n",
       "      <td>2.256572</td>\n",
       "      <td>12.647313</td>\n",
       "    </tr>\n",
       "    <tr>\n",
       "      <th>00845</th>\n",
       "      <td>8.867237</td>\n",
       "      <td>10.019275</td>\n",
       "    </tr>\n",
       "    <tr>\n",
       "      <th>0088</th>\n",
       "      <td>-3.082910</td>\n",
       "      <td>0.376406</td>\n",
       "    </tr>\n",
       "    <tr>\n",
       "      <th>0090</th>\n",
       "      <td>-3.067797</td>\n",
       "      <td>4.014546</td>\n",
       "    </tr>\n",
       "    <tr>\n",
       "      <th>0340</th>\n",
       "      <td>11.605210</td>\n",
       "      <td>-11.665422</td>\n",
       "    </tr>\n",
       "    <tr>\n",
       "      <th>0380</th>\n",
       "      <td>7.734156</td>\n",
       "      <td>1.162930</td>\n",
       "    </tr>\n",
       "    <tr>\n",
       "      <th>03811</th>\n",
       "      <td>8.244345</td>\n",
       "      <td>0.877406</td>\n",
       "    </tr>\n",
       "    <tr>\n",
       "      <th>03812</th>\n",
       "      <td>8.600551</td>\n",
       "      <td>0.538114</td>\n",
       "    </tr>\n",
       "    <tr>\n",
       "      <th>03819</th>\n",
       "      <td>8.917855</td>\n",
       "      <td>-0.005611</td>\n",
       "    </tr>\n",
       "    <tr>\n",
       "      <th>03840</th>\n",
       "      <td>9.302263</td>\n",
       "      <td>1.126356</td>\n",
       "    </tr>\n",
       "    <tr>\n",
       "      <th>03842</th>\n",
       "      <td>7.652380</td>\n",
       "      <td>1.565716</td>\n",
       "    </tr>\n",
       "  </tbody>\n",
       "</table>\n",
       "</div>"
      ],
      "text/plain": [
       "                x          y\n",
       "m41000   5.994010 -13.867500\n",
       "m41001   3.324308  10.902804\n",
       "m41010  -5.964371  -5.004744\n",
       "m41011   3.358795  11.083466\n",
       "m41020   5.888000 -13.817354\n",
       "m41021   3.266266  10.813693\n",
       "m41030  10.456566 -14.355887\n",
       "m41031   3.254933  10.763239\n",
       "m41040   4.830407 -15.705278\n",
       "m41041   2.996257  11.277818\n",
       "m41050  12.145478  -6.577780\n",
       "m41051   3.137660  10.620467\n",
       "m41060   9.797898 -12.790399\n",
       "m41061   2.303349   7.326526\n",
       "m41070 -12.708771  -2.968350\n",
       "m41071   1.310318  13.164182\n",
       "m41080  11.018405 -13.890571\n",
       "m41081   1.539214   6.538039\n",
       "m41090  -1.650072  -4.472263\n",
       "m41091   2.256572  12.647313\n",
       "00845    8.867237  10.019275\n",
       "0088    -3.082910   0.376406\n",
       "0090    -3.067797   4.014546\n",
       "0340    11.605210 -11.665422\n",
       "0380     7.734156   1.162930\n",
       "03811    8.244345   0.877406\n",
       "03812    8.600551   0.538114\n",
       "03819    8.917855  -0.005611\n",
       "03840    9.302263   1.126356\n",
       "03842    7.652380   1.565716"
      ]
     },
     "execution_count": 322,
     "metadata": {},
     "output_type": "execute_result"
    }
   ],
   "source": [
    "plot_df.head(30)"
   ]
  },
  {
   "cell_type": "code",
   "execution_count": 245,
   "metadata": {
    "scrolled": true
   },
   "outputs": [],
   "source": [
    "groups = plot_df.groupby('ccs_lvl1')\n",
    "gkey = groups.size().sort_values(ascending=False).index"
   ]
  },
  {
   "cell_type": "code",
   "execution_count": 102,
   "metadata": {
    "collapsed": true
   },
   "outputs": [
    {
     "data": {
      "image/png": "[encoded data removed]",
      "text/plain": [
       "<Figure size 1296x1080 with 1 Axes>"
      ]
     },
     "metadata": {},
     "output_type": "display_data"
    }
   ],
   "source": [
    "fig, ax = plt.subplots(figsize=(18, 15))\n",
    "for name in gkey[:10]:\n",
    "    group = groups.get_group(name)\n",
    "    ax.scatter(group.x, group.y, marker='o', s=group.dot_size.values, label=name)\n",
    "    #plt.annotate(name, xy=(group.x.values, group.y.values), xytext=(group.x.values, group.y.values))\n",
    "ax.legend()\n",
    "plt.savefig('output/embed.png', dpi=200)"
   ]
  },
  {
   "cell_type": "code",
   "execution_count": 246,
   "metadata": {
    "collapsed": true
   },
   "outputs": [
    {
     "data": {
      "image/png": "[encoded data removed]",
      "text/plain": [
       "<Figure size 1296x1080 with 1 Axes>"
      ]
     },
     "metadata": {},
     "output_type": "display_data"
    }
   ],
   "source": [
    "fig, ax = plt.subplots(figsize=(18, 15))\n",
    "for name in gkey[:10]:\n",
    "    group = groups.get_group(name)\n",
    "    ax.scatter(group.x, group.y, marker='o', s=group.dot_size.values, label=name)\n",
    "    #plt.annotate(name, xy=(group.x.values, group.y.values), xytext=(group.x.values, group.y.values))\n",
    "ax.legend()\n",
    "plt.savefig('output/embed.png', dpi=200)"
   ]
  },
  {
   "cell_type": "code",
   "execution_count": 26,
   "metadata": {},
   "outputs": [],
   "source": [
    "bias_mat = g.get_bias_mat()"
   ]
  },
  {
   "cell_type": "code",
   "execution_count": 28,
   "metadata": {},
   "outputs": [],
   "source": [
    "all_freq = pd.concat([code_freq['DX1'], code_freq['DX'], code_freq['PR']], axis=0)"
   ]
  },
  {
   "cell_type": "code",
   "execution_count": 29,
   "metadata": {
    "scrolled": false
   },
   "outputs": [],
   "source": [
    "all_freq = all_freq.sort_index().drop(0)"
   ]
  },
  {
   "cell_type": "code",
   "execution_count": 30,
   "metadata": {},
   "outputs": [],
   "source": [
    "code_bias_mat = bias_mat[1:(len(DX1_cat)+len(DX_cat)+len(PR_cat)+1), :]"
   ]
  },
  {
   "cell_type": "code",
   "execution_count": 32,
   "metadata": {},
   "outputs": [
    {
     "data": {
      "text/plain": [
       "((2134, 1), (2134,))"
      ]
     },
     "execution_count": 32,
     "metadata": {},
     "output_type": "execute_result"
    }
   ],
   "source": [
    "code_bias_mat.shape, all_freq.shape"
   ]
  },
  {
   "cell_type": "code",
   "execution_count": 38,
   "metadata": {},
   "outputs": [],
   "source": [
    "from collections import defaultdict"
   ]
  },
  {
   "cell_type": "code",
   "execution_count": 39,
   "metadata": {},
   "outputs": [],
   "source": [
    "marg_dict = defaultdict(float)\n",
    "\n",
    "for _, row in cooccur_df.iterrows():\n",
    "    marg_dict[row.focal_index] += row.cooccur_counts\n",
    "    marg_dict[row.context_index] += row.cooccur_counts"
   ]
  },
  {
   "cell_type": "code",
   "execution_count": 51,
   "metadata": {},
   "outputs": [],
   "source": [
    "marg_freq = np.array(list(marg_dict.values()))"
   ]
  },
  {
   "cell_type": "code",
   "execution_count": 54,
   "metadata": {
    "collapsed": true
   },
   "outputs": [
    {
     "data": {
      "text/plain": [
       "<matplotlib.collections.PathCollection at 0x2b9297f50c18>"
      ]
     },
     "execution_count": 54,
     "metadata": {},
     "output_type": "execute_result"
    },
    {
     "data": {
      "image/png": "[encoded data removed]",
      "text/plain": [
       "<Figure size 432x288 with 1 Axes>"
      ]
     },
     "metadata": {},
     "output_type": "display_data"
    }
   ],
   "source": [
    "plt.scatter(code_bias_mat[:, 0], np.log(marg_freq))"
   ]
  },
  {
   "cell_type": "code",
   "execution_count": 56,
   "metadata": {
    "collapsed": true
   },
   "outputs": [
    {
     "data": {
      "text/plain": [
       "<matplotlib.collections.PathCollection at 0x2b929a170240>"
      ]
     },
     "execution_count": 56,
     "metadata": {},
     "output_type": "execute_result"
    },
    {
     "data": {
      "image/png": "[encoded data removed]",
      "text/plain": [
       "<Figure size 432x288 with 1 Axes>"
      ]
     },
     "metadata": {},
     "output_type": "display_data"
    }
   ],
   "source": [
    "plt.scatter(code_bias_mat[:, 0], np.log(all_freq.values))"
   ]
  },
  {
   "cell_type": "code",
   "execution_count": 57,
   "metadata": {},
   "outputs": [
    {
     "data": {
      "text/html": [
       "<div>\n",
       "<style scoped>\n",
       "    .dataframe tbody tr th:only-of-type {\n",
       "        vertical-align: middle;\n",
       "    }\n",
       "\n",
       "    .dataframe tbody tr th {\n",
       "        vertical-align: top;\n",
       "    }\n",
       "\n",
       "    .dataframe thead th {\n",
       "        text-align: right;\n",
       "    }\n",
       "</style>\n",
       "<table border=\"1\" class=\"dataframe\">\n",
       "  <thead>\n",
       "    <tr style=\"text-align: right;\">\n",
       "      <th></th>\n",
       "      <th>focal_index</th>\n",
       "      <th>context_index</th>\n",
       "      <th>cooccur_counts</th>\n",
       "    </tr>\n",
       "  </thead>\n",
       "  <tbody>\n",
       "    <tr>\n",
       "      <th>0</th>\n",
       "      <td>1151</td>\n",
       "      <td>604</td>\n",
       "      <td>2.0</td>\n",
       "    </tr>\n",
       "    <tr>\n",
       "      <th>1</th>\n",
       "      <td>1082</td>\n",
       "      <td>437</td>\n",
       "      <td>13.0</td>\n",
       "    </tr>\n",
       "    <tr>\n",
       "      <th>2</th>\n",
       "      <td>1428</td>\n",
       "      <td>153</td>\n",
       "      <td>11.0</td>\n",
       "    </tr>\n",
       "    <tr>\n",
       "      <th>3</th>\n",
       "      <td>1117</td>\n",
       "      <td>103</td>\n",
       "      <td>6.0</td>\n",
       "    </tr>\n",
       "    <tr>\n",
       "      <th>4</th>\n",
       "      <td>1006</td>\n",
       "      <td>901</td>\n",
       "      <td>3.0</td>\n",
       "    </tr>\n",
       "  </tbody>\n",
       "</table>\n",
       "</div>"
      ],
      "text/plain": [
       "   focal_index  context_index  cooccur_counts\n",
       "0         1151            604             2.0\n",
       "1         1082            437            13.0\n",
       "2         1428            153            11.0\n",
       "3         1117            103             6.0\n",
       "4         1006            901             3.0"
      ]
     },
     "execution_count": 57,
     "metadata": {},
     "output_type": "execute_result"
    }
   ],
   "source": [
    "cooccur_df.head()"
   ]
  },
  {
   "cell_type": "markdown",
   "metadata": {},
   "source": [
    "## Multi-Space GloVe"
   ]
  },
  {
   "cell_type": "code",
   "execution_count": 12,
   "metadata": {},
   "outputs": [],
   "source": [
    "from glove import GloveMS"
   ]
  },
  {
   "cell_type": "code",
   "execution_count": 112,
   "metadata": {},
   "outputs": [],
   "source": [
    "DX1_dim = 5\n",
    "DX_dim = 100\n",
    "PR_dim = 40\n",
    "count_cap = 5\n",
    "n_fold = 7\n",
    "hosp_embed_dim = 1\n",
    "fc_width = 128\n",
    "dropout = 0.3\n",
    "lr1 = 2e-4\n",
    "lr2 = 2e-5\n",
    "batchsize = 128"
   ]
  },
  {
   "cell_type": "code",
   "execution_count": 91,
   "metadata": {},
   "outputs": [],
   "source": [
    "DX1_cat = preprocessed['DX1_cat']\n",
    "DX_cat = preprocessed['DX_cat']\n",
    "PR_cat = preprocessed['PR_cat']\n",
    "DX1_dict = preprocessed['DX1_dict']\n",
    "DX_dict = preprocessed['DX_dict']\n",
    "PR_dict = preprocessed['PR_dict']\n",
    "code_cat = preprocessed['code_cat']\n",
    "hosp_cat = preprocessed['hosp_cat']\n",
    "\n",
    "n_DX1_cat = len(DX1_cat)\n",
    "n_DX_cat = len(DX_cat)\n",
    "n_PR_cat = len(PR_cat)\n",
    "\n",
    "n_DX = 29\n",
    "n_PR = 15\n",
    "DXs = ['DX'+str(j) for j in range(2, n_DX+2)]\n",
    "PRs = ['PR'+str(j) for j in range(1, n_PR+1)]"
   ]
  },
  {
   "cell_type": "code",
   "execution_count": 113,
   "metadata": {},
   "outputs": [],
   "source": [
    "gms = GloveMS(n_DX1_cat=n_DX1_cat, n_DX_cat=n_DX_cat, n_PR_cat=n_PR_cat, DX1_dim=DX1_dim, DX_dim=DX_dim, PR_dim=PR_dim, \n",
    "              count_cap=count_cap, scaling_factor=0.75)"
   ]
  },
  {
   "cell_type": "code",
   "execution_count": 75,
   "metadata": {},
   "outputs": [
    {
     "name": "stdout",
     "output_type": "stream",
     "text": [
      "Updating co-occurrence matrix from a Dataframe with 167841 rows...\n",
      "Finished. It takes 36.9 seconds to update the cooccurrences.\n"
     ]
    }
   ],
   "source": [
    "gms.update_cooccur(train_df0[['DX1']+DXs+PRs])\n",
    "\n",
    "cooccur_df = gms.get_cooccur_df()"
   ]
  },
  {
   "cell_type": "code",
   "execution_count": 114,
   "metadata": {
    "scrolled": true
   },
   "outputs": [
    {
     "name": "stdout",
     "output_type": "stream",
     "text": [
      "Preparing data...\n",
      "Defining the GloVe model...\n",
      "Training the GloVe model...\n",
      "Epoch 1/50\n",
      " - 22s - loss: 0.8345\n",
      "Epoch 2/50\n",
      " - 20s - loss: 0.2112\n",
      "Epoch 3/50\n",
      " - 20s - loss: 0.1570\n",
      "Epoch 4/50\n",
      " - 20s - loss: 0.1345\n",
      "Epoch 5/50\n",
      " - 20s - loss: 0.1201\n",
      "Epoch 6/50\n",
      " - 20s - loss: 0.1101\n",
      "Epoch 7/50\n",
      " - 20s - loss: 0.1026\n",
      "Epoch 8/50\n",
      " - 20s - loss: 0.0969\n",
      "Epoch 9/50\n",
      " - 20s - loss: 0.0924\n",
      "Epoch 10/50\n",
      " - 20s - loss: 0.0886\n",
      "Epoch 11/50\n",
      " - 20s - loss: 0.0856\n",
      "Epoch 12/50\n",
      " - 20s - loss: 0.0832\n",
      "Epoch 13/50\n",
      " - 20s - loss: 0.0811\n",
      "Epoch 14/50\n",
      " - 20s - loss: 0.0796\n",
      "Epoch 15/50\n",
      " - 20s - loss: 0.0783\n",
      "Epoch 16/50\n",
      " - 20s - loss: 0.0772\n",
      "Epoch 17/50\n",
      " - 20s - loss: 0.0764\n",
      "Epoch 18/50\n",
      " - 20s - loss: 0.0757\n",
      "Epoch 19/50\n",
      " - 20s - loss: 0.0750\n",
      "Epoch 20/50\n",
      " - 20s - loss: 0.0746\n",
      "Epoch 21/50\n",
      " - 20s - loss: 0.0740\n",
      "Epoch 22/50\n",
      " - 20s - loss: 0.0737\n",
      "Epoch 23/50\n",
      " - 20s - loss: 0.0733\n",
      "Epoch 24/50\n",
      " - 20s - loss: 0.0729\n",
      "Epoch 25/50\n",
      " - 20s - loss: 0.0726\n",
      "Epoch 26/50\n",
      " - 20s - loss: 0.0723\n",
      "Epoch 27/50\n",
      " - 20s - loss: 0.0722\n",
      "Epoch 28/50\n",
      " - 20s - loss: 0.0719\n",
      "Epoch 29/50\n",
      " - 20s - loss: 0.0716\n",
      "Epoch 30/50\n",
      " - 20s - loss: 0.0715\n",
      "Epoch 31/50\n",
      " - 20s - loss: 0.0713\n",
      "Epoch 32/50\n",
      " - 20s - loss: 0.0711\n",
      "Epoch 33/50\n",
      " - 20s - loss: 0.0710\n",
      "Epoch 34/50\n",
      " - 20s - loss: 0.0708\n",
      "Epoch 35/50\n",
      " - 20s - loss: 0.0707\n",
      "Epoch 36/50\n",
      " - 20s - loss: 0.0706\n",
      "Epoch 37/50\n",
      " - 20s - loss: 0.0704\n",
      "Epoch 38/50\n",
      " - 20s - loss: 0.0703\n",
      "Epoch 39/50\n",
      " - 20s - loss: 0.0702\n",
      "Epoch 40/50\n",
      " - 20s - loss: 0.0701\n",
      "Epoch 41/50\n",
      " - 20s - loss: 0.0700\n",
      "Epoch 42/50\n",
      " - 20s - loss: 0.0699\n",
      "Epoch 43/50\n",
      " - 20s - loss: 0.0698\n",
      "Epoch 44/50\n",
      " - 20s - loss: 0.0698\n",
      "Epoch 45/50\n",
      " - 20s - loss: 0.0697\n",
      "Epoch 46/50\n",
      " - 20s - loss: 0.0696\n",
      "Epoch 47/50\n",
      " - 20s - loss: 0.0696\n",
      "Epoch 48/50\n",
      " - 20s - loss: 0.0694\n",
      "Epoch 49/50\n",
      " - 20s - loss: 0.0694\n",
      "Epoch 50/50\n",
      " - 20s - loss: 0.0693\n",
      "Finished. The pretrained embedding matrix can be retrieved by .get_embed_mat().\n"
     ]
    }
   ],
   "source": [
    "gms.train_glove(cooccur_df=cooccur_df, cache_path=model_path, epochs=50, earlystop_patience=10, reducelr_patience=2, verbose=2)"
   ]
  },
  {
   "cell_type": "code",
   "execution_count": 95,
   "metadata": {},
   "outputs": [],
   "source": [
    "embeds = gms.get_embed_mat()"
   ]
  },
  {
   "cell_type": "code",
   "execution_count": 79,
   "metadata": {},
   "outputs": [],
   "source": [
    "age_mean = train_df0['AGE'].mean()\n",
    "age_std = train_df0['AGE'].std()\n",
    "los_mean = train_df0['LOS'].mean()\n",
    "los_std = train_df0['LOS'].std()\n",
    "n_pay1 = int(train_df0['PAY1'].max())+1\n",
    "n_ed = int(train_df0['HCUP_ED'].max())+1\n",
    "n_zipinc = int(train_df0['ZIPINC_QRTL'].max())+1\n",
    "\n",
    "DX1_array_tst = tst_df['DX1'].values\n",
    "DX_mat_tst = np.maximum(tst_df[DXs].values - n_DX1_cat, 0)\n",
    "PR_mat_tst = np.maximum(tst_df[PRs].values - n_DX1_cat - n_DX_cat, 0)\n",
    "hosp_array_tst = tst_df['HOSP_NRD'].values\n",
    "    \n",
    "demo_mat_tst = tst_df[['AGE', 'FEMALE']].values\n",
    "demo_mat_tst[:, 0] = (demo_mat_tst[:, 0]-age_mean)/age_std\n",
    "pay1_mat_tst = to_categorical(tst_df.PAY1.values, num_classes=n_pay1)[:, 1:]\n",
    "los_array_tst = (tst_df.LOS.values - los_mean)/los_std\n",
    "ed_mat_tst = to_categorical(tst_df.HCUP_ED.values, num_classes=n_ed)\n",
    "zipinc_mat_tst = to_categorical(tst_df.ZIPINC_QRTL.values, num_classes=n_zipinc)[:, 1:]\n",
    "#transfer_mat_tst = to_categorical(tst_df.SAMEDAYEVENT.values)\n",
    "other_mat_tst = np.concatenate((demo_mat_tst, pay1_mat_tst, los_array_tst.reshape(los_array_tst.shape+(1,)), \n",
    "                                ed_mat_tst, zipinc_mat_tst), axis=1)\n",
    "y_true = tst_df.readm30.astype(int).values"
   ]
  },
  {
   "cell_type": "code",
   "execution_count": 104,
   "metadata": {},
   "outputs": [],
   "source": [
    "skf = StratifiedKFold(n_splits=n_fold, random_state=24, shuffle=True)\n",
    "trn_idx, val_idx = next(skf.split(train_df0, train_df0.HOSP_NRD))"
   ]
  },
  {
   "cell_type": "code",
   "execution_count": 105,
   "metadata": {},
   "outputs": [],
   "source": [
    "train_df = train_df0.copy()\n",
    "DX1_array_train = train_df['DX1'].values\n",
    "DX1_array_trn = DX1_array_train[trn_idx]\n",
    "DX1_array_val = DX1_array_train[val_idx]\n",
    "\n",
    "DX_mat_train = np.maximum(train_df[DXs].values - n_DX1_cat, 0)\n",
    "DX_mat_trn = DX_mat_train[trn_idx, :]\n",
    "DX_mat_val = DX_mat_train[val_idx, :]\n",
    "\n",
    "PR_mat_train = np.maximum(train_df[PRs].values - n_DX1_cat - n_DX_cat, 0)\n",
    "PR_mat_trn = PR_mat_train[trn_idx, :]\n",
    "PR_mat_val = PR_mat_train[val_idx, :]\n",
    "    \n",
    "hosp_array_train = train_df['HOSP_NRD'].values\n",
    "hosp_array_trn = hosp_array_train[trn_idx]\n",
    "hosp_array_val = hosp_array_train[val_idx]\n",
    "    \n",
    "demo_mat_train = train_df[['AGE', 'FEMALE']].values\n",
    "demo_mat_train[:, 0] = (demo_mat_train[:, 0]-age_mean)/age_std\n",
    "pay1_mat_train = to_categorical(train_df.PAY1.values, num_classes=n_pay1)[:, 1:]\n",
    "los_array_train = (train_df.LOS.values - los_mean)/los_std\n",
    "ed_mat_train = to_categorical(train_df.HCUP_ED.values, num_classes=n_ed)\n",
    "zipinc_mat_train = to_categorical(train_df.ZIPINC_QRTL.values, num_classes=n_zipinc)[:, 1:]\n",
    "#transfer_mat_train = to_categorical(train_df.SAMEDAYEVENT.values)\n",
    "other_mat_train = np.concatenate((demo_mat_train, pay1_mat_train, los_array_train.reshape(los_array_train.shape+(1,)), \n",
    "                                    ed_mat_train, zipinc_mat_train), axis=1)\n",
    "other_mat_trn = other_mat_train[trn_idx, :]\n",
    "other_mat_val = other_mat_train[val_idx, :]\n",
    "\n",
    "y_train = train_df.readm30.astype(int).values\n",
    "Y_trn = to_categorical(y_train[trn_idx])\n",
    "Y_val = to_categorical(y_train[val_idx])"
   ]
  },
  {
   "cell_type": "code",
   "execution_count": 32,
   "metadata": {},
   "outputs": [],
   "source": [
    "from setsum_layer import MaskedDense, MaskedSum"
   ]
  },
  {
   "cell_type": "code",
   "execution_count": 106,
   "metadata": {},
   "outputs": [],
   "source": [
    "input_DX1 = Input(shape=(1,))\n",
    "DX1_embed = Embedding(input_dim=n_DX1_cat+1, output_dim=DX1_dim, embeddings_initializer=Constant(embeds['DX1_embed']), \n",
    "                              name='DX1_embed')(input_DX1)     \n",
    "DX1_embed = Reshape((DX1_dim,))(DX1_embed)\n",
    "input_DX = Input(shape = (len(DXs),))\n",
    "DX_embed = Embedding(input_dim=n_DX_cat+1, output_dim=DX_dim, mask_zero=True, \n",
    "                     embeddings_initializer=Constant(embeds['DX_embed']), name='DX_embed')(input_DX)\n",
    "DX_embed = MaskedDense(DX_dim, activation='relu')(DX_embed)\n",
    "DX_embed = MaskedSum()(DX_embed)\n",
    "input_PR = Input(shape = (len(PRs),))\n",
    "PR_embed = Embedding(input_dim=n_PR_cat+1, output_dim=PR_dim, mask_zero=True, \n",
    "                     embeddings_initializer=Constant(embeds['PR_embed']), name='PR_embed')(input_PR)\n",
    "PR_embed = MaskedDense(PR_dim, activation='relu')(PR_embed)\n",
    "PR_embed = MaskedSum()(PR_embed)\n",
    "input_hosp = Input(shape=(1,))\n",
    "hosp_embed = Embedding(input_dim=len(hosp_cat), output_dim=hosp_embed_dim, input_length=1)(input_hosp)\n",
    "hosp_embed = Reshape((hosp_embed_dim, ))(hosp_embed)\n",
    "input_other = Input(shape=(other_mat_train.shape[1], ))\n",
    "merged = Concatenate(axis=1)([DX1_embed, DX_embed, PR_embed, hosp_embed, input_other])\n",
    "merged = Dense(fc_width, activation='relu')(merged)\n",
    "merged = Dropout(dropout)(merged)\n",
    "prediction = Dense(2, activation='softmax')(merged)\n",
    "model = Model(inputs=[input_DX1, input_DX, input_PR, input_hosp, input_other], outputs=prediction)  "
   ]
  },
  {
   "cell_type": "code",
   "execution_count": 107,
   "metadata": {},
   "outputs": [],
   "source": [
    "for l in model.layers:\n",
    "    if l.name=='DX_embed' or l.name=='PR_embed' or l.name=='DX1_embed':\n",
    "        l.trainable = False\n",
    "            \n",
    "adam = Adam(lr=lr1)\n",
    "model.compile(optimizer=adam, loss='categorical_crossentropy')"
   ]
  },
  {
   "cell_type": "code",
   "execution_count": 108,
   "metadata": {},
   "outputs": [],
   "source": [
    "auccheckpoint = AUCCheckPoint(filepath=model_path+'embeding_nn_sub_temp1.h5', validation_y=Y_val[:, 1], \n",
    "                                 validation_x=[DX1_array_val, DX_mat_val, PR_mat_val, hosp_array_val, other_mat_val])\n",
    "reduce_lr = ReduceLROnPlateau(monitor='val_loss', factor=0.2, patience=10, min_lr=K.epsilon())\n",
    "earlystop = EarlyStopping(monitor='val_loss', patience=20)\n",
    "class_weight = {0:(Y_trn.shape[0]/sum(Y_trn[:, 0])), 1:(Y_trn.shape[0]/sum(Y_trn[:, 1]))}"
   ]
  },
  {
   "cell_type": "code",
   "execution_count": 109,
   "metadata": {
    "scrolled": true
   },
   "outputs": [
    {
     "name": "stdout",
     "output_type": "stream",
     "text": [
      "Train on 143376 samples, validate on 24465 samples\n",
      "Epoch 1/30\n",
      "143376/143376 [==============================] - 7s 50us/step - loss: 1.3147 - val_loss: 0.6223\n",
      "AUC: 0.7032\n",
      "\n",
      "Epoch 2/30\n",
      "143376/143376 [==============================] - 5s 37us/step - loss: 1.2663 - val_loss: 0.6354\n",
      "AUC: 0.7080\n",
      "\n",
      "Epoch 3/30\n",
      "143376/143376 [==============================] - 5s 37us/step - loss: 1.2580 - val_loss: 0.6174\n",
      "AUC: 0.7115\n",
      "\n",
      "Epoch 4/30\n",
      "143376/143376 [==============================] - 5s 37us/step - loss: 1.2519 - val_loss: 0.6577\n",
      "AUC: 0.7120\n",
      "\n",
      "Epoch 5/30\n",
      "143376/143376 [==============================] - 5s 37us/step - loss: 1.2474 - val_loss: 0.6383\n",
      "AUC: 0.7141\n",
      "\n",
      "Epoch 6/30\n",
      "143376/143376 [==============================] - 5s 37us/step - loss: 1.2433 - val_loss: 0.6005\n",
      "AUC: 0.7155\n",
      "\n",
      "Epoch 7/30\n",
      "143376/143376 [==============================] - 5s 37us/step - loss: 1.2399 - val_loss: 0.6122\n",
      "AUC: 0.7162\n",
      "\n",
      "Epoch 8/30\n",
      "143376/143376 [==============================] - 5s 37us/step - loss: 1.2348 - val_loss: 0.6184\n",
      "AUC: 0.7173\n",
      "\n",
      "Epoch 9/30\n",
      "143376/143376 [==============================] - 5s 37us/step - loss: 1.2306 - val_loss: 0.6442\n",
      "AUC: 0.7172\n",
      "\n",
      "Epoch 10/30\n",
      "143376/143376 [==============================] - 5s 37us/step - loss: 1.2273 - val_loss: 0.6477\n",
      "AUC: 0.7166\n",
      "\n",
      "Epoch 11/30\n",
      "143376/143376 [==============================] - 5s 37us/step - loss: 1.2233 - val_loss: 0.6040\n",
      "AUC: 0.7172\n",
      "\n",
      "Epoch 12/30\n",
      "143376/143376 [==============================] - 5s 37us/step - loss: 1.2199 - val_loss: 0.6196\n",
      "AUC: 0.7175\n",
      "\n",
      "Epoch 13/30\n",
      "143376/143376 [==============================] - 5s 37us/step - loss: 1.2159 - val_loss: 0.6037\n",
      "AUC: 0.7176\n",
      "\n",
      "Epoch 14/30\n",
      "143376/143376 [==============================] - 5s 37us/step - loss: 1.2127 - val_loss: 0.6283\n",
      "AUC: 0.7167\n",
      "\n",
      "Epoch 15/30\n",
      "143376/143376 [==============================] - 5s 37us/step - loss: 1.2086 - val_loss: 0.6097\n",
      "AUC: 0.7158\n",
      "\n",
      "Epoch 16/30\n",
      "143376/143376 [==============================] - 5s 37us/step - loss: 1.2067 - val_loss: 0.6075\n",
      "AUC: 0.7155\n",
      "\n",
      "Epoch 17/30\n",
      "143376/143376 [==============================] - 5s 37us/step - loss: 1.1991 - val_loss: 0.6043\n",
      "AUC: 0.7162\n",
      "\n",
      "Epoch 18/30\n",
      "143376/143376 [==============================] - 5s 37us/step - loss: 1.1975 - val_loss: 0.6069\n",
      "AUC: 0.7158\n",
      "\n",
      "Epoch 19/30\n",
      "143376/143376 [==============================] - 5s 37us/step - loss: 1.1974 - val_loss: 0.6035\n",
      "AUC: 0.7157\n",
      "\n",
      "Epoch 20/30\n",
      "143376/143376 [==============================] - 5s 37us/step - loss: 1.1965 - val_loss: 0.6180\n",
      "AUC: 0.7166\n",
      "\n",
      "Epoch 21/30\n",
      "143376/143376 [==============================] - 5s 37us/step - loss: 1.1945 - val_loss: 0.6029\n",
      "AUC: 0.7161\n",
      "\n",
      "Epoch 22/30\n",
      "143376/143376 [==============================] - 5s 37us/step - loss: 1.1956 - val_loss: 0.6126\n",
      "AUC: 0.7159\n",
      "\n",
      "Epoch 23/30\n",
      "143376/143376 [==============================] - 5s 37us/step - loss: 1.1929 - val_loss: 0.6034\n",
      "AUC: 0.7150\n",
      "\n",
      "Epoch 24/30\n",
      "143376/143376 [==============================] - 5s 37us/step - loss: 1.1933 - val_loss: 0.6224\n",
      "AUC: 0.7152\n",
      "\n",
      "Epoch 25/30\n",
      "143376/143376 [==============================] - 5s 37us/step - loss: 1.1920 - val_loss: 0.6116\n",
      "AUC: 0.7150\n",
      "\n",
      "Epoch 26/30\n",
      "143376/143376 [==============================] - 6s 38us/step - loss: 1.1904 - val_loss: 0.6162\n",
      "AUC: 0.7146\n",
      "\n"
     ]
    }
   ],
   "source": [
    "hist = model.fit([DX1_array_trn, DX_mat_trn, PR_mat_trn, hosp_array_trn, other_mat_trn], Y_trn, \n",
    "                     batch_size=batchsize, epochs=30, callbacks=[auccheckpoint, reduce_lr, earlystop], class_weight=class_weight, \n",
    "                     validation_data=[[DX1_array_val, DX_mat_val, PR_mat_val, hosp_array_val, other_mat_val], Y_val], \n",
    "                    verbose=1)"
   ]
  },
  {
   "cell_type": "code",
   "execution_count": 110,
   "metadata": {},
   "outputs": [],
   "source": [
    "model.load_weights(model_path+'embeding_nn_sub_temp1.h5')\n",
    "y = model.predict([DX1_array_tst, DX_mat_tst, PR_mat_tst, hosp_array_tst, other_mat_tst], verbose=0)"
   ]
  },
  {
   "cell_type": "code",
   "execution_count": 111,
   "metadata": {},
   "outputs": [
    {
     "data": {
      "text/plain": [
       "0.713009823826124"
      ]
     },
     "execution_count": 111,
     "metadata": {},
     "output_type": "execute_result"
    }
   ],
   "source": [
    "y_pred = y[:, 1]\n",
    "fpr, tpr, _ = roc_curve(y_true, y_pred)\n",
    "auc(fpr, tpr)"
   ]
  },
  {
   "cell_type": "code",
   "execution_count": 102,
   "metadata": {
    "scrolled": true
   },
   "outputs": [
    {
     "name": "stdout",
     "output_type": "stream",
     "text": [
      "Train on 143376 samples, validate on 24465 samples\n",
      "Epoch 1/20\n",
      "143376/143376 [==============================] - 8s 57us/step - loss: 1.2154 - val_loss: 0.6076\n",
      "AUC: 0.7179\n",
      "\n",
      "Epoch 2/20\n",
      "143376/143376 [==============================] - 6s 45us/step - loss: 1.2140 - val_loss: 0.6152\n",
      "AUC: 0.7177\n",
      "\n",
      "Epoch 3/20\n",
      "143376/143376 [==============================] - 6s 45us/step - loss: 1.2108 - val_loss: 0.6069\n",
      "AUC: 0.7176\n",
      "\n",
      "Epoch 4/20\n",
      "143376/143376 [==============================] - 6s 45us/step - loss: 1.2101 - val_loss: 0.6146\n",
      "AUC: 0.7179\n",
      "\n",
      "Epoch 5/20\n",
      "143376/143376 [==============================] - 6s 45us/step - loss: 1.2101 - val_loss: 0.6177\n",
      "AUC: 0.7178\n",
      "\n",
      "Epoch 6/20\n",
      "143376/143376 [==============================] - 6s 45us/step - loss: 1.2085 - val_loss: 0.6083\n",
      "AUC: 0.7177\n",
      "\n",
      "Epoch 7/20\n",
      "143376/143376 [==============================] - 6s 45us/step - loss: 1.2065 - val_loss: 0.6068\n",
      "AUC: 0.7179\n",
      "\n",
      "Epoch 8/20\n",
      "143376/143376 [==============================] - 6s 45us/step - loss: 1.2073 - val_loss: 0.6279\n",
      "AUC: 0.7174\n",
      "\n",
      "Epoch 9/20\n",
      "143376/143376 [==============================] - 6s 45us/step - loss: 1.2049 - val_loss: 0.6065\n",
      "AUC: 0.7178\n",
      "\n",
      "Epoch 10/20\n",
      "143376/143376 [==============================] - 6s 45us/step - loss: 1.2052 - val_loss: 0.6194\n",
      "AUC: 0.7177\n",
      "\n",
      "Epoch 11/20\n",
      "143376/143376 [==============================] - 6s 45us/step - loss: 1.2054 - val_loss: 0.6165\n",
      "AUC: 0.7174\n",
      "\n",
      "Epoch 12/20\n",
      "143376/143376 [==============================] - 6s 45us/step - loss: 1.2019 - val_loss: 0.6153\n",
      "AUC: 0.7175\n",
      "\n",
      "Epoch 13/20\n",
      "143376/143376 [==============================] - 6s 45us/step - loss: 1.2017 - val_loss: 0.6060\n",
      "AUC: 0.7175\n",
      "\n",
      "Epoch 14/20\n",
      "143376/143376 [==============================] - 6s 45us/step - loss: 1.2007 - val_loss: 0.6083\n",
      "AUC: 0.7174\n",
      "\n",
      "Epoch 15/20\n",
      "143376/143376 [==============================] - 6s 45us/step - loss: 1.2006 - val_loss: 0.6043\n",
      "AUC: 0.7174\n",
      "\n",
      "Epoch 16/20\n",
      "143376/143376 [==============================] - 7s 46us/step - loss: 1.1978 - val_loss: 0.6054\n",
      "AUC: 0.7172\n",
      "\n",
      "Epoch 17/20\n",
      "143376/143376 [==============================] - 6s 45us/step - loss: 1.1970 - val_loss: 0.6075\n",
      "AUC: 0.7168\n",
      "\n",
      "Epoch 18/20\n",
      "143376/143376 [==============================] - 6s 45us/step - loss: 1.1969 - val_loss: 0.6139\n",
      "AUC: 0.7165\n",
      "\n",
      "Epoch 19/20\n",
      "143376/143376 [==============================] - 6s 45us/step - loss: 1.1959 - val_loss: 0.6230\n",
      "AUC: 0.7167\n",
      "\n",
      "Epoch 20/20\n",
      "143376/143376 [==============================] - 6s 45us/step - loss: 1.1940 - val_loss: 0.6233\n",
      "AUC: 0.7166\n",
      "\n"
     ]
    }
   ],
   "source": [
    "for l in model.layers:\n",
    "    if l.name=='DX_embed' or l.name=='PR_embed' or l.name=='DX1_embed':\n",
    "        l.trainable = True\n",
    "adam = Adam(lr=lr2)\n",
    "model.compile(optimizer=adam, loss='categorical_crossentropy')\n",
    "    \n",
    "auccheckpoint = AUCCheckPoint(filepath=model_path+'embeding_nn_sub_temp2.h5', validation_y=Y_val[:, 1], \n",
    "                                 validation_x=[DX1_array_val, DX_mat_val, PR_mat_val, hosp_array_val, other_mat_val])\n",
    "hist = model.fit([DX1_array_trn, DX_mat_trn, PR_mat_trn, hosp_array_trn, other_mat_trn], Y_trn, \n",
    "                     batch_size=batchsize, epochs=20, callbacks=[auccheckpoint, reduce_lr, earlystop], class_weight=class_weight, \n",
    "                     validation_data=[[DX1_array_val, DX_mat_val, PR_mat_val, hosp_array_val, other_mat_val], Y_val], \n",
    "                    verbose=1)"
   ]
  },
  {
   "cell_type": "code",
   "execution_count": 103,
   "metadata": {},
   "outputs": [
    {
     "data": {
      "text/plain": [
       "0.7145367137051865"
      ]
     },
     "execution_count": 103,
     "metadata": {},
     "output_type": "execute_result"
    }
   ],
   "source": [
    "model.load_weights(model_path+'embeding_nn_sub_temp2.h5')    \n",
    "y = model.predict([DX1_array_tst, DX_mat_tst, PR_mat_tst, hosp_array_tst, other_mat_tst], verbose=0)\n",
    "y_pred = y[:, 1]\n",
    "fpr, tpr, _ = roc_curve(y_true, y_pred)\n",
    "auc(fpr, tpr)"
   ]
  }
 ],
 "metadata": {
  "kernelspec": {
   "display_name": "Python 3",
   "language": "python",
   "name": "python3"
  },
  "language_info": {
   "codemirror_mode": {
    "name": "ipython",
    "version": 3
   },
   "file_extension": ".py",
   "mimetype": "text/x-python",
   "name": "python",
   "nbconvert_exporter": "python",
   "pygments_lexer": "ipython3",
   "version": "3.5.4"
  }
 },
 "nbformat": 4,
 "nbformat_minor": 2
}

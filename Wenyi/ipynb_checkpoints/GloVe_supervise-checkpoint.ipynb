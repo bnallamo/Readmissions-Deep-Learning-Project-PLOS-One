{
 "cells": [
  {
   "cell_type": "markdown",
   "metadata": {},
   "source": [
    "# Supervised GloVe"
   ]
  },
  {
   "cell_type": "code",
   "execution_count": 1,
   "metadata": {},
   "outputs": [
    {
     "name": "stderr",
     "output_type": "stream",
     "text": [
      "Using TensorFlow backend.\n"
     ]
    }
   ],
   "source": [
    "import keras"
   ]
  },
  {
   "cell_type": "code",
   "execution_count": 3,
   "metadata": {},
   "outputs": [],
   "source": [
    "import pandas as pd\n",
    "import numpy as np\n",
    "import matplotlib.pyplot as plt\n",
    "#import statsmodels.api as sm\n",
    "from sklearn.model_selection import train_test_split, StratifiedKFold, KFold, GroupShuffleSplit\n",
    "from sklearn.metrics import roc_curve, auc\n",
    "import os, sys, time\n",
    "from importlib import reload\n",
    "%matplotlib inline"
   ]
  },
  {
   "cell_type": "code",
   "execution_count": 4,
   "metadata": {},
   "outputs": [],
   "source": [
    "path = '/nfs/turbo/umms-awaljee/wsliu/Data/MIMIC/'"
   ]
  },
  {
   "cell_type": "code",
   "execution_count": 5,
   "metadata": {},
   "outputs": [],
   "source": [
    "model_path = path + 'models/'\n",
    "if not os.path.exists(model_path): os.mkdir(model_path)"
   ]
  },
  {
   "cell_type": "code",
   "execution_count": 6,
   "metadata": {
    "scrolled": true
   },
   "outputs": [],
   "source": [
    "from keras.layers import Input, Embedding, Concatenate, Reshape, BatchNormalization, LSTM, CuDNNLSTM, CuDNNGRU, Lambda, Add\n",
    "from keras.models import Model\n",
    "from keras.layers.core import Dense, Activation, Dropout, RepeatVector\n",
    "from keras.callbacks import ModelCheckpoint, ReduceLROnPlateau, EarlyStopping\n",
    "from keras.utils import to_categorical\n",
    "from keras.optimizers import Adam\n",
    "from keras.initializers import Constant\n",
    "import keras.backend as K\n",
    "\n",
    "module_path = '/home/wsliu/Codes/DLproj'\n",
    "if module_path not in sys.path:\n",
    "    sys.path.append(module_path)\n",
    "if module_path+'/NRD' not in sys.path:\n",
    "    sys.path.append(module_path+'/NRD')\n",
    "from DL_utils import plot_roc\n",
    "from keras_addon import AUCCheckPoint\n",
    "from utils import get_frequency, preprocess\n",
    "\n",
    "from ccs_tools import dx_multi, pr_multi, core_dtypes_pd, dx_label"
   ]
  },
  {
   "cell_type": "code",
   "execution_count": 7,
   "metadata": {},
   "outputs": [],
   "source": [
    "from doublebatch import DoubleBatchGenerator"
   ]
  },
  {
   "cell_type": "markdown",
   "metadata": {},
   "source": [
    "## Data Preparation"
   ]
  },
  {
   "cell_type": "code",
   "execution_count": 8,
   "metadata": {},
   "outputs": [],
   "source": [
    "all_df = pd.read_csv(path+'cleaned/clean_df.csv', low_memory=False)"
   ]
  },
  {
   "cell_type": "code",
   "execution_count": 9,
   "metadata": {},
   "outputs": [],
   "source": [
    "n_DX = 39\n",
    "n_PR = 20\n",
    "DXs = ['DX'+str(n) for n in range(n_DX)]\n",
    "PRs = ['PR'+str(n) for n in range(n_PR)]"
   ]
  },
  {
   "cell_type": "code",
   "execution_count": 8,
   "metadata": {},
   "outputs": [
    {
     "data": {
      "text/plain": [
       "Index(['SUBJECT_ID', 'HADM_ID', 'Eth', 'n_ICU_stays', 'ICU_LOS', 'GENDER',\n",
       "       'AGE', 'MOT_long', 'HOSP_LOS', 'MOT_1year', 'MOT_30days', 'DX0', 'DX1',\n",
       "       'DX2', 'DX3', 'DX4', 'DX5', 'DX6', 'DX7', 'DX8', 'DX9', 'DX10', 'DX11',\n",
       "       'DX12', 'DX13', 'DX14', 'DX15', 'DX16', 'DX17', 'DX18', 'DX19', 'DX20',\n",
       "       'DX21', 'DX22', 'DX23', 'DX24', 'DX25', 'DX26', 'DX27', 'DX28', 'DX29',\n",
       "       'DX30', 'DX31', 'DX32', 'DX33', 'DX34', 'DX35', 'DX36', 'DX37', 'DX38',\n",
       "       'PR0', 'PR1', 'PR2', 'PR3', 'PR4', 'PR5', 'PR6', 'PR7', 'PR8', 'PR9',\n",
       "       'PR10', 'PR11', 'PR12', 'PR13', 'PR14', 'PR15', 'PR16', 'PR17', 'PR18',\n",
       "       'PR19'],\n",
       "      dtype='object')"
      ]
     },
     "execution_count": 8,
     "metadata": {},
     "output_type": "execute_result"
    }
   ],
   "source": [
    "all_df.columns"
   ]
  },
  {
   "cell_type": "code",
   "execution_count": 10,
   "metadata": {},
   "outputs": [],
   "source": [
    "all_df = all_df[['SUBJECT_ID', 'HADM_ID', 'Eth', 'GENDER', 'AGE', 'MOT_long', 'HOSP_LOS', 'MOT_1year', 'MOT_30days']+DXs+PRs]"
   ]
  },
  {
   "cell_type": "code",
   "execution_count": 10,
   "metadata": {},
   "outputs": [
    {
     "data": {
      "text/plain": [
       "(51697, 68)"
      ]
     },
     "execution_count": 10,
     "metadata": {},
     "output_type": "execute_result"
    }
   ],
   "source": [
    "all_df.shape"
   ]
  },
  {
   "cell_type": "code",
   "execution_count": 11,
   "metadata": {},
   "outputs": [],
   "source": [
    "DX_series = pd.Series()\n",
    "for dx in DXs:\n",
    "    DX_series = pd.concat([DX_series, all_df[dx]])\n",
    "\n",
    "PR_series = pd.Series()\n",
    "for pr in PRs:\n",
    "    PR_series = pd.concat([PR_series, all_df[pr]])"
   ]
  },
  {
   "cell_type": "code",
   "execution_count": 12,
   "metadata": {},
   "outputs": [],
   "source": [
    "DX_freq = DX_series.value_counts()\n",
    "PR_freq = PR_series.value_counts()"
   ]
  },
  {
   "cell_type": "code",
   "execution_count": 13,
   "metadata": {},
   "outputs": [],
   "source": [
    "DX_rarecutpoint = 50\n",
    "PR_rarecutpoint = 50"
   ]
  },
  {
   "cell_type": "code",
   "execution_count": 14,
   "metadata": {},
   "outputs": [],
   "source": [
    "DX_cat = sorted(DX_freq.loc[DX_freq>DX_rarecutpoint].index)\n",
    "PR_cat = sorted(PR_freq.loc[PR_freq>PR_rarecutpoint].index)\n",
    "DX_in = set(DX_cat)\n",
    "PR_in = set(PR_cat)\n",
    "\n",
    "code_cat = ['missing'] + DX_cat + PR_cat"
   ]
  },
  {
   "cell_type": "code",
   "execution_count": 21,
   "metadata": {},
   "outputs": [
    {
     "data": {
      "text/plain": [
       "(1869, 561)"
      ]
     },
     "execution_count": 21,
     "metadata": {},
     "output_type": "execute_result"
    }
   ],
   "source": [
    "len(DX_in), len(PR_in)"
   ]
  },
  {
   "cell_type": "code",
   "execution_count": 15,
   "metadata": {},
   "outputs": [],
   "source": [
    "clean_df = all_df.copy()\n",
    "for dx in DXs:\n",
    "    clean_df.loc[~clean_df[dx].isin(DX_in), dx] = 'missing'\n",
    "for pr in PRs:\n",
    "    clean_df.loc[~clean_df[pr].isin(PR_in), pr] = 'missing'"
   ]
  },
  {
   "cell_type": "code",
   "execution_count": 16,
   "metadata": {},
   "outputs": [],
   "source": [
    "clean_df = clean_df.loc[(clean_df[DXs] != 'missing').sum(axis=1)>0]\n",
    "clean_df = clean_df.loc[(clean_df[PRs] != 'missing').sum(axis=1)>0]"
   ]
  },
  {
   "cell_type": "code",
   "execution_count": 18,
   "metadata": {},
   "outputs": [
    {
     "data": {
      "text/plain": [
       "(51697, 44740)"
      ]
     },
     "execution_count": 18,
     "metadata": {},
     "output_type": "execute_result"
    }
   ],
   "source": [
    "len(all_df), len(clean_df)"
   ]
  },
  {
   "cell_type": "code",
   "execution_count": 17,
   "metadata": {},
   "outputs": [],
   "source": [
    "all_df = clean_df.reset_index(drop=True)"
   ]
  },
  {
   "cell_type": "code",
   "execution_count": 18,
   "metadata": {},
   "outputs": [],
   "source": [
    "DX_dict = dict(zip(DX_cat, range(1, len(DX_cat)+1)))\n",
    "PR_dict = dict(zip(PR_cat, range(len(DX_cat)+1, len(DX_cat)+len(PR_cat)+1)))\n",
    "\n",
    "DX_dict['missing'] = 0\n",
    "PR_dict['missing'] = 0"
   ]
  },
  {
   "cell_type": "code",
   "execution_count": 19,
   "metadata": {},
   "outputs": [],
   "source": [
    "int_df = all_df.copy()\n",
    "for dx in DXs:\n",
    "    int_df[dx] = int_df[dx].map(DX_dict)\n",
    "    \n",
    "for pr in PRs:\n",
    "    int_df[pr] = int_df[pr].map(PR_dict)"
   ]
  },
  {
   "cell_type": "code",
   "execution_count": 22,
   "metadata": {},
   "outputs": [
    {
     "data": {
      "text/plain": [
       "(1530, 1531)"
      ]
     },
     "execution_count": 22,
     "metadata": {},
     "output_type": "execute_result"
    }
   ],
   "source": [
    "int_df.PR1.max(), len(code_cat)"
   ]
  },
  {
   "cell_type": "code",
   "execution_count": 20,
   "metadata": {},
   "outputs": [],
   "source": [
    "all_df = int_df.reset_index(drop=True)"
   ]
  },
  {
   "cell_type": "code",
   "execution_count": 21,
   "metadata": {},
   "outputs": [],
   "source": [
    "gss = GroupShuffleSplit(n_splits=1, test_size=0.2, random_state=24)"
   ]
  },
  {
   "cell_type": "code",
   "execution_count": 22,
   "metadata": {},
   "outputs": [],
   "source": [
    "train_idx, tst_idx = next(gss.split(all_df, groups=all_df.SUBJECT_ID))"
   ]
  },
  {
   "cell_type": "code",
   "execution_count": 23,
   "metadata": {},
   "outputs": [],
   "source": [
    "train_df0 = all_df.loc[train_idx].reset_index(drop=True)\n",
    "tst_df = all_df.loc[tst_idx].reset_index(drop=True)"
   ]
  },
  {
   "cell_type": "code",
   "execution_count": 24,
   "metadata": {},
   "outputs": [
    {
     "data": {
      "text/plain": [
       "(set(), 35834, 8906, 29724, 7432)"
      ]
     },
     "execution_count": 24,
     "metadata": {},
     "output_type": "execute_result"
    }
   ],
   "source": [
    "set(train_df0.SUBJECT_ID).intersection(set(tst_df.SUBJECT_ID)), len(train_df0), len(tst_df), len(set(train_df0.SUBJECT_ID)), len(set(tst_df.SUBJECT_ID))"
   ]
  },
  {
   "cell_type": "markdown",
   "metadata": {},
   "source": [
    "### Collect Co-occurence Counts by Glove class"
   ]
  },
  {
   "cell_type": "code",
   "execution_count": 25,
   "metadata": {},
   "outputs": [],
   "source": [
    "from glove import Glove"
   ]
  },
  {
   "cell_type": "code",
   "execution_count": 26,
   "metadata": {},
   "outputs": [],
   "source": [
    "code_embed_dim=20\n",
    "count_cap=72"
   ]
  },
  {
   "cell_type": "code",
   "execution_count": 27,
   "metadata": {},
   "outputs": [],
   "source": [
    "g = Glove(input_dim=len(code_cat), embedding_dim=code_embed_dim, count_cap=count_cap)"
   ]
  },
  {
   "cell_type": "code",
   "execution_count": 28,
   "metadata": {},
   "outputs": [
    {
     "name": "stdout",
     "output_type": "stream",
     "text": [
      "Updating co-occurrence matrix from a Dataframe with 35834 rows...\n",
      "Finished. It takes 9.5 seconds to update the cooccurrences.\n"
     ]
    }
   ],
   "source": [
    "g.update_cooccur(train_df0[DXs+PRs])"
   ]
  },
  {
   "cell_type": "code",
   "execution_count": 29,
   "metadata": {},
   "outputs": [],
   "source": [
    "cooccur_df = g.get_cooccur_df()"
   ]
  },
  {
   "cell_type": "code",
   "execution_count": 30,
   "metadata": {
    "scrolled": true
   },
   "outputs": [
    {
     "name": "stdout",
     "output_type": "stream",
     "text": [
      "Preparing data...\n",
      "Defining the GloVe model...\n",
      "Training the GloVe model...\n",
      "Epoch 1/50\n",
      "455346/455346 [==============================] - 2s 4us/step - loss: 0.8111\n",
      "Epoch 2/50\n",
      "455346/455346 [==============================] - 2s 3us/step - loss: 0.1407\n",
      "Epoch 3/50\n",
      "455346/455346 [==============================] - 2s 3us/step - loss: 0.0898\n",
      "Epoch 4/50\n",
      "455346/455346 [==============================] - 2s 3us/step - loss: 0.0835\n",
      "Epoch 5/50\n",
      "455346/455346 [==============================] - 2s 3us/step - loss: 0.0810\n",
      "Epoch 6/50\n",
      "455346/455346 [==============================] - 2s 3us/step - loss: 0.0789\n",
      "Epoch 7/50\n",
      "455346/455346 [==============================] - 2s 3us/step - loss: 0.0766\n",
      "Epoch 8/50\n",
      "455346/455346 [==============================] - 2s 3us/step - loss: 0.0739\n",
      "Epoch 9/50\n",
      "455346/455346 [==============================] - 2s 3us/step - loss: 0.0707\n",
      "Epoch 10/50\n",
      "455346/455346 [==============================] - 2s 3us/step - loss: 0.0668\n",
      "Epoch 11/50\n",
      "455346/455346 [==============================] - 2s 3us/step - loss: 0.0622\n",
      "Epoch 12/50\n",
      "455346/455346 [==============================] - 2s 3us/step - loss: 0.0569\n",
      "Epoch 13/50\n",
      "455346/455346 [==============================] - 2s 3us/step - loss: 0.0516\n",
      "Epoch 14/50\n",
      "455346/455346 [==============================] - 2s 3us/step - loss: 0.0469\n",
      "Epoch 15/50\n",
      "455346/455346 [==============================] - 2s 3us/step - loss: 0.0430\n",
      "Epoch 16/50\n",
      "455346/455346 [==============================] - 2s 3us/step - loss: 0.0399\n",
      "Epoch 17/50\n",
      "455346/455346 [==============================] - 2s 3us/step - loss: 0.0373\n",
      "Epoch 18/50\n",
      "455346/455346 [==============================] - 2s 3us/step - loss: 0.0351\n",
      "Epoch 19/50\n",
      "455346/455346 [==============================] - 2s 3us/step - loss: 0.0331\n",
      "Epoch 20/50\n",
      "455346/455346 [==============================] - 2s 3us/step - loss: 0.0314\n",
      "Epoch 21/50\n",
      "455346/455346 [==============================] - 2s 3us/step - loss: 0.0300\n",
      "Epoch 22/50\n",
      "455346/455346 [==============================] - 2s 3us/step - loss: 0.0288\n",
      "Epoch 23/50\n",
      "455346/455346 [==============================] - 2s 3us/step - loss: 0.0278\n",
      "Epoch 24/50\n",
      "455346/455346 [==============================] - 2s 3us/step - loss: 0.0270\n",
      "Epoch 25/50\n",
      "455346/455346 [==============================] - 2s 3us/step - loss: 0.0263\n",
      "Epoch 26/50\n",
      "455346/455346 [==============================] - 2s 3us/step - loss: 0.0257\n",
      "Epoch 27/50\n",
      "455346/455346 [==============================] - 2s 3us/step - loss: 0.0252\n",
      "Epoch 28/50\n",
      "455346/455346 [==============================] - 2s 3us/step - loss: 0.0247\n",
      "Epoch 29/50\n",
      "455346/455346 [==============================] - 2s 3us/step - loss: 0.0243\n",
      "Epoch 30/50\n",
      "455346/455346 [==============================] - 2s 3us/step - loss: 0.0240\n",
      "Epoch 31/50\n",
      "455346/455346 [==============================] - 2s 3us/step - loss: 0.0237\n",
      "Epoch 32/50\n",
      "455346/455346 [==============================] - 2s 3us/step - loss: 0.0234\n",
      "Epoch 33/50\n",
      "455346/455346 [==============================] - 2s 3us/step - loss: 0.0231\n",
      "Epoch 34/50\n",
      "455346/455346 [==============================] - 2s 3us/step - loss: 0.0229\n",
      "Epoch 35/50\n",
      "455346/455346 [==============================] - 2s 3us/step - loss: 0.0227\n",
      "Epoch 36/50\n",
      "455346/455346 [==============================] - 2s 3us/step - loss: 0.0226\n",
      "Epoch 37/50\n",
      "455346/455346 [==============================] - 2s 3us/step - loss: 0.0224\n",
      "Epoch 38/50\n",
      "455346/455346 [==============================] - 2s 3us/step - loss: 0.0223\n",
      "Epoch 39/50\n",
      "455346/455346 [==============================] - 2s 3us/step - loss: 0.0222\n",
      "Epoch 40/50\n",
      "455346/455346 [==============================] - 2s 3us/step - loss: 0.0221\n",
      "Epoch 41/50\n",
      "455346/455346 [==============================] - 2s 3us/step - loss: 0.0220\n",
      "Epoch 42/50\n",
      "455346/455346 [==============================] - 2s 3us/step - loss: 0.0219\n",
      "Epoch 43/50\n",
      "455346/455346 [==============================] - 2s 3us/step - loss: 0.0218\n",
      "Epoch 44/50\n",
      "455346/455346 [==============================] - 2s 3us/step - loss: 0.0217\n",
      "Epoch 45/50\n",
      "455346/455346 [==============================] - 2s 3us/step - loss: 0.0217\n",
      "Epoch 46/50\n",
      "455346/455346 [==============================] - 2s 3us/step - loss: 0.0216\n",
      "Epoch 47/50\n",
      "455346/455346 [==============================] - 2s 3us/step - loss: 0.0216\n",
      "Epoch 48/50\n",
      "455346/455346 [==============================] - 2s 3us/step - loss: 0.0215\n",
      "Epoch 49/50\n",
      "455346/455346 [==============================] - 2s 3us/step - loss: 0.0215\n",
      "Epoch 50/50\n",
      "455346/455346 [==============================] - 2s 3us/step - loss: 0.0214\n",
      "Finished. The pretrained embedding matrix can be retrieved by .get_embed_mat().\n"
     ]
    }
   ],
   "source": [
    "g.train_glove(cooccur_df=cooccur_df, cache_path=model_path+'temp/', batch_size=1024, epochs=50, reducelr_patience=3)"
   ]
  },
  {
   "cell_type": "code",
   "execution_count": 31,
   "metadata": {},
   "outputs": [],
   "source": [
    "embed_mat = g.get_embed_mat()"
   ]
  },
  {
   "cell_type": "code",
   "execution_count": 44,
   "metadata": {},
   "outputs": [
    {
     "data": {
      "text/plain": [
       "((461914, 3), (35770, 52), 12.913447022644675)"
      ]
     },
     "execution_count": 44,
     "metadata": {},
     "output_type": "execute_result"
    }
   ],
   "source": [
    "cooccur_df.shape, train_df0.shape, len(cooccur_df)/len(train_df0)"
   ]
  },
  {
   "cell_type": "markdown",
   "metadata": {},
   "source": [
    "### Data formating"
   ]
  },
  {
   "cell_type": "code",
   "execution_count": 32,
   "metadata": {},
   "outputs": [],
   "source": [
    "train_df = train_df0.copy()"
   ]
  },
  {
   "cell_type": "code",
   "execution_count": 33,
   "metadata": {},
   "outputs": [],
   "source": [
    "n_fold = 5"
   ]
  },
  {
   "cell_type": "code",
   "execution_count": 34,
   "metadata": {},
   "outputs": [],
   "source": [
    "gss2 = GroupShuffleSplit(n_splits=1, test_size=1/n_fold, random_state=24)\n",
    "trn_idx, val_idx = next(gss2.split(train_df, groups=train_df.SUBJECT_ID))"
   ]
  },
  {
   "cell_type": "code",
   "execution_count": 35,
   "metadata": {},
   "outputs": [],
   "source": [
    "trn_df = train_df.loc[trn_idx].reset_index(drop=True)\n",
    "val_df = train_df.loc[val_idx].reset_index(drop=True)"
   ]
  },
  {
   "cell_type": "markdown",
   "metadata": {},
   "source": [
    "### Data Generator"
   ]
  },
  {
   "cell_type": "code",
   "execution_count": 36,
   "metadata": {},
   "outputs": [],
   "source": [
    "from keras.utils import Sequence"
   ]
  },
  {
   "cell_type": "code",
   "execution_count": 37,
   "metadata": {},
   "outputs": [],
   "source": [
    "readm_batchsize = 256\n",
    "batchsize_ratio = 20"
   ]
  },
  {
   "cell_type": "code",
   "execution_count": 38,
   "metadata": {},
   "outputs": [],
   "source": [
    "from doublebatch import DoubleBatchGenerator"
   ]
  },
  {
   "cell_type": "code",
   "execution_count": 36,
   "metadata": {},
   "outputs": [],
   "source": [
    "class DoubleBatchGenerator(Sequence):\n",
    "    'Generates data from two datasets'\n",
    "    def __init__(self, cooccur_df, readm_df, readm_batchsize=512, batchsize_ratio=16, shuffle=True, scaling_factor=0.75, \n",
    "                count_cap=20):\n",
    "        '''Initialization\n",
    "        Here coocur_df and readm_df need to have integer index from 0, i.e. they need to reset_index()'''\n",
    "        self.readm_batchsize = readm_batchsize\n",
    "        self.cooccur_batchsize = readm_batchsize*batchsize_ratio\n",
    "        self.batchsize_ratio = batchsize_ratio\n",
    "        self.cooccur_df = cooccur_df\n",
    "        self.readm_df = readm_df\n",
    "        self.shuffle = shuffle\n",
    "        self.__scaling_factor = scaling_factor\n",
    "        self.__count_cap = count_cap\n",
    "        self.batch_size = self.readm_batchsize\n",
    "        self.n = self.__len__()*self.batch_size\n",
    "        self.on_epoch_end()\n",
    "\n",
    "    def __len__(self):\n",
    "        'Denotes the number of batches per epoch'\n",
    "        readm_steps = np.floor(len(self.readm_df) / self.readm_batchsize)\n",
    "        cooccur_steps = np.floor(len(self.cooccur_df)/self.cooccur_batchsize)\n",
    "        return int(np.min((readm_steps, cooccur_steps)))\n",
    "\n",
    "    def __getitem__(self, index):\n",
    "        'Generate one batch of data'\n",
    "        # Generate indexes of the batch\n",
    "        readm_indexes = self.readm_indexes[index*self.readm_batchsize:(index+1)*self.readm_batchsize]\n",
    "        cooccur_indexes = self.cooccur_indexes[index*self.cooccur_batchsize:(index+1)*self.cooccur_batchsize]\n",
    "\n",
    "        DX_mat = self.readm_df.loc[readm_indexes, DXs].values\n",
    "        PR_mat = self.readm_df.loc[readm_indexes, PRs].values\n",
    "        continue_mat = self.readm_df.loc[readm_indexes, ['AGE', 'GENDER', 'LOS']].values\n",
    "        eth_array = self.readm_df.loc[readm_indexes, 'Eth'].values\n",
    "        eth_mat = to_categorical(eth_array, num_classes=5)\n",
    "        other_mat = np.concatenate((continue_mat, eth_mat), axis=1)\n",
    "        y_readm = self.readm_df.loc[readm_indexes, 'MORTALITY_1year'].astype(int).values\n",
    "        Y_readm = to_categorical(y_readm, num_classes=2)\n",
    "\n",
    "        focal_id = self.cooccur_df.loc[cooccur_indexes, 'focal_index'].values\n",
    "        context_id = self.cooccur_df.loc[cooccur_indexes, 'context_index'].values\n",
    "        y_cooccur = np.log(self.cooccur_df.loc[cooccur_indexes, 'cooccur_counts'].values)\n",
    "        \n",
    "        focal_id = np.reshape(focal_id, (self.readm_batchsize, self.batchsize_ratio))\n",
    "        context_id = np.reshape(context_id, (self.readm_batchsize, self.batchsize_ratio))\n",
    "        y_cooccur = np.reshape(y_cooccur, (self.readm_batchsize, self.batchsize_ratio))\n",
    "\n",
    "        return [DX_mat, PR_mat, other_mat, focal_id, context_id], [Y_readm, y_cooccur]\n",
    "\n",
    "    def on_epoch_end(self):\n",
    "        'Updates indexes after each epoch'\n",
    "        self.readm_indexes = np.arange(len(self.readm_df))\n",
    "        self.cooccur_indexes = np.arange(len(self.cooccur_df))\n",
    "        if self.shuffle == True:\n",
    "            np.random.shuffle(self.readm_indexes)\n",
    "            np.random.shuffle(self.cooccur_indexes)"
   ]
  },
  {
   "cell_type": "code",
   "execution_count": 39,
   "metadata": {},
   "outputs": [],
   "source": [
    "trn_gen = DoubleBatchGenerator(cooccur_df=cooccur_df, readm_df=trn_df, readm_batchsize=readm_batchsize, outcome='MOT_1year', \n",
    "                               batchsize_ratio=batchsize_ratio, shuffle=True)"
   ]
  },
  {
   "cell_type": "code",
   "execution_count": 40,
   "metadata": {},
   "outputs": [],
   "source": [
    "val_gen = DoubleBatchGenerator(cooccur_df=cooccur_df, readm_df=val_df, readm_batchsize=len(val_df), outcome='MOT_1year', \n",
    "                               batchsize_ratio=batchsize_ratio, shuffle=False)\n",
    "\n",
    "tst_gen = DoubleBatchGenerator(cooccur_df=cooccur_df, readm_df=tst_df, readm_batchsize=len(tst_df), outcome='MOT_1year', \n",
    "                               batchsize_ratio=batchsize_ratio, shuffle=False)"
   ]
  },
  {
   "cell_type": "code",
   "execution_count": 41,
   "metadata": {},
   "outputs": [],
   "source": [
    "val_x, val_y = next(iter(val_gen))"
   ]
  },
  {
   "cell_type": "code",
   "execution_count": 48,
   "metadata": {},
   "outputs": [
    {
     "data": {
      "text/plain": [
       "(112.41015625, 27.56640625, 88.934765625)"
      ]
     },
     "execution_count": 48,
     "metadata": {},
     "output_type": "execute_result"
    }
   ],
   "source": [
    "len(trn_df)/readm_batchsize, len(val_df)/readm_batchsize, len(cooccur_df)/readm_batchsize/batchsize_ratio"
   ]
  },
  {
   "cell_type": "markdown",
   "metadata": {},
   "source": [
    "### Model Building"
   ]
  },
  {
   "cell_type": "code",
   "execution_count": 42,
   "metadata": {},
   "outputs": [],
   "source": [
    "from setsum_layer import SetSum, MaskedSum, MaskedDense, MaskedPooling\n",
    "from keras.layers import Multiply"
   ]
  },
  {
   "cell_type": "code",
   "execution_count": 43,
   "metadata": {},
   "outputs": [],
   "source": [
    "from keras_multi_head import MultiHeadAttention"
   ]
  },
  {
   "cell_type": "code",
   "execution_count": 44,
   "metadata": {},
   "outputs": [],
   "source": [
    "code_embed_dim = 30\n",
    "md_width = 5\n",
    "fc_width = 512\n",
    "dropout = 0.3\n",
    "job_index = 0\n",
    "parent_pairs = None"
   ]
  },
  {
   "cell_type": "code",
   "execution_count": 45,
   "metadata": {},
   "outputs": [],
   "source": [
    "embed_initializer = Constant(embed_mat)"
   ]
  },
  {
   "cell_type": "code",
   "execution_count": 54,
   "metadata": {},
   "outputs": [],
   "source": [
    "embed_initializer = 'uniform'"
   ]
  },
  {
   "cell_type": "code",
   "execution_count": 46,
   "metadata": {},
   "outputs": [],
   "source": [
    "input_w = Input(shape=(batchsize_ratio,), name='focal_index')\n",
    "input_v = Input(shape=(batchsize_ratio,), name='context_index')\n",
    "if parent_pairs is None:\n",
    "    embed_layer = Embedding(input_dim=len(code_cat), output_dim=code_embed_dim, name='embed', \n",
    "                            embeddings_initializer=embed_initializer)\n",
    "else:\n",
    "    embed_layer = Embedding(input_dim=len(code_cat), output_dim=code_embed_dim, name='embed',\n",
    "                            embeddings_regularizer=Parent_reg(parent_pairs, lamb, metric))\n",
    "w_embed = embed_layer(input_w)\n",
    "v_embed = embed_layer(input_v)\n",
    "bias_layer = Embedding(input_dim=len(code_cat), output_dim=1, name='bias')\n",
    "w_bias = bias_layer(input_w)\n",
    "v_bias = bias_layer(input_v)\n",
    "\n",
    "inner = Multiply()([w_embed, v_embed])\n",
    "inner = Lambda(lambda x: K.sum(x, axis=-1, keepdims=True))(inner)\n",
    "\n",
    "merged = Concatenate(axis=-1)([inner, w_bias, v_bias])\n",
    "\n",
    "output_cooccur = Lambda(lambda x: K.sum(x, axis=-1, keepdims=False), name='cooccur')(merged)\n",
    "\n",
    "input_DX = Input(shape = (len(DXs),))\n",
    "DX_embed = embed_layer(input_DX)\n",
    "DX_embed = MaskedDense(md_width, activation='relu')(DX_embed)\n",
    "DX_embed = MaskedSum()(DX_embed)\n",
    "input_PR = Input(shape = (len(PRs),))\n",
    "PR_embed = embed_layer(input_PR)\n",
    "PR_embed = MaskedDense(md_width, activation='relu')(PR_embed)\n",
    "PR_embed = MaskedSum()(PR_embed)\n",
    "input_other = Input(shape=(8, ))\n",
    "merged = Concatenate(axis=1)([DX_embed, PR_embed, input_other])\n",
    "merged = Dense(fc_width, activation='relu')(merged)\n",
    "merged = Dropout(dropout)(merged)\n",
    "output_readm = Dense(2, activation='softmax', name='readm')(merged)\n",
    "\n",
    "model = Model(inputs=[input_DX, input_PR, input_other, input_w, input_v], \n",
    "              outputs=[output_readm, output_cooccur])"
   ]
  },
  {
   "cell_type": "code",
   "execution_count": 47,
   "metadata": {},
   "outputs": [],
   "source": [
    "scaling_factor = 0.75\n",
    "def weighting_factor(count):\n",
    "    ge_mask = K.cast(K.greater_equal(count, count_cap), K.floatx())\n",
    "    l_mask = K.cast(K.less(count, count_cap), K.floatx())\n",
    "    return 1.*ge_mask + np.power(count/count_cap, scaling_factor)*l_mask\n",
    "\n",
    "def loss_cooccur(y_true, y_pred):\n",
    "    weight_cooccur = weighting_factor(K.exp(y_true))\n",
    "    return K.mean(K.square(y_pred - y_true)*weight_cooccur)"
   ]
  },
  {
   "cell_type": "code",
   "execution_count": 48,
   "metadata": {},
   "outputs": [],
   "source": [
    "adam = Adam(lr=5e-4)\n",
    "model.compile(loss={'readm':'categorical_crossentropy', 'cooccur':loss_cooccur}, \n",
    "             optimizer=adam, \n",
    "             loss_weights={'readm':1., 'cooccur':10.})"
   ]
  },
  {
   "cell_type": "code",
   "execution_count": 49,
   "metadata": {},
   "outputs": [],
   "source": [
    "auccheckpoint = AUCCheckPoint(filepath=model_path+'embeding_nn_temp'+str(job_index)+'.h5', validation_x=val_x, validation_y=val_y,\n",
    "                              auc_output_idx=[0])\n",
    "reduce_lr = ReduceLROnPlateau(monitor='val_loss', factor=0.2, patience=10, min_lr=K.epsilon())\n",
    "#earlystop = EarlyStopping(monitor='val_loss', patience=20)"
   ]
  },
  {
   "cell_type": "code",
   "execution_count": 51,
   "metadata": {},
   "outputs": [],
   "source": [
    "class_weight = {'readm':{0:1., 1:1.}}"
   ]
  },
  {
   "cell_type": "code",
   "execution_count": 52,
   "metadata": {
    "scrolled": true
   },
   "outputs": [
    {
     "name": "stdout",
     "output_type": "stream",
     "text": [
      "Epoch 1/20\n",
      "88/88 [==============================] - 4s 45ms/step - loss: 127.1133 - readm_loss: 1.0631 - cooccur_loss: 12.6050 - val_loss: 117.7896 - val_readm_loss: 0.5163 - val_cooccur_loss: 11.7273\n",
      "AUC_readm: 0.7343\n",
      "Mean AUC: 0.7343\n",
      "\n",
      "Epoch 2/20\n",
      "88/88 [==============================] - 3s 39ms/step - loss: 108.4231 - readm_loss: 0.7358 - cooccur_loss: 10.7687 - val_loss: 100.7593 - val_readm_loss: 0.4199 - val_cooccur_loss: 10.0339\n",
      "AUC_readm: 0.7672\n",
      "Mean AUC: 0.7672\n",
      "\n",
      "Epoch 3/20\n",
      "88/88 [==============================] - 3s 38ms/step - loss: 92.9591 - readm_loss: 0.5997 - cooccur_loss: 9.2359 - val_loss: 86.6540 - val_readm_loss: 0.3937 - val_cooccur_loss: 8.6260\n",
      "AUC_readm: 0.7781\n",
      "Mean AUC: 0.7781\n",
      "\n",
      "Epoch 4/20\n",
      "88/88 [==============================] - 3s 39ms/step - loss: 80.1643 - readm_loss: 0.5166 - cooccur_loss: 7.9648 - val_loss: 74.8235 - val_readm_loss: 0.3674 - val_cooccur_loss: 7.4456\n",
      "AUC_readm: 0.7869\n",
      "Mean AUC: 0.7869\n",
      "\n",
      "Epoch 5/20\n",
      "88/88 [==============================] - 3s 39ms/step - loss: 69.2800 - readm_loss: 0.4458 - cooccur_loss: 6.8834 - val_loss: 64.8397 - val_readm_loss: 0.3573 - val_cooccur_loss: 6.4482\n",
      "AUC_readm: 0.7933\n",
      "Mean AUC: 0.7933\n",
      "\n",
      "Epoch 6/20\n",
      "88/88 [==============================] - 3s 38ms/step - loss: 60.0907 - readm_loss: 0.4093 - cooccur_loss: 5.9681 - val_loss: 56.3090 - val_readm_loss: 0.3521 - val_cooccur_loss: 5.5957\n",
      "AUC_readm: 0.7932\n",
      "Mean AUC: 0.7932\n",
      "\n",
      "Epoch 7/20\n",
      "88/88 [==============================] - 3s 39ms/step - loss: 52.3036 - readm_loss: 0.3843 - cooccur_loss: 5.1919 - val_loss: 49.0415 - val_readm_loss: 0.3501 - val_cooccur_loss: 4.8691\n",
      "AUC_readm: 0.7964\n",
      "Mean AUC: 0.7964\n",
      "\n",
      "Epoch 8/20\n",
      "88/88 [==============================] - 3s 38ms/step - loss: 45.6466 - readm_loss: 0.3743 - cooccur_loss: 4.5272 - val_loss: 42.8021 - val_readm_loss: 0.3473 - val_cooccur_loss: 4.2455\n",
      "AUC_readm: 0.8027\n",
      "Mean AUC: 0.8027\n",
      "\n",
      "Epoch 9/20\n",
      "88/88 [==============================] - 3s 37ms/step - loss: 39.8664 - readm_loss: 0.3627 - cooccur_loss: 3.9504 - val_loss: 37.4469 - val_readm_loss: 0.3436 - val_cooccur_loss: 3.7103\n",
      "AUC_readm: 0.8063\n",
      "Mean AUC: 0.8063\n",
      "\n",
      "Epoch 10/20\n",
      "88/88 [==============================] - 3s 36ms/step - loss: 34.9142 - readm_loss: 0.3616 - cooccur_loss: 3.4553 - val_loss: 32.8280 - val_readm_loss: 0.3430 - val_cooccur_loss: 3.2485\n",
      "AUC_readm: 0.8082\n",
      "Mean AUC: 0.8082\n",
      "\n",
      "Epoch 11/20\n",
      "88/88 [==============================] - 3s 36ms/step - loss: 30.6681 - readm_loss: 0.3597 - cooccur_loss: 3.0308 - val_loss: 28.8236 - val_readm_loss: 0.3423 - val_cooccur_loss: 2.8481\n",
      "AUC_readm: 0.8080\n",
      "Mean AUC: 0.8080\n",
      "\n",
      "Epoch 12/20\n",
      "88/88 [==============================] - 3s 38ms/step - loss: 26.9724 - readm_loss: 0.3543 - cooccur_loss: 2.6618 - val_loss: 25.3711 - val_readm_loss: 0.3484 - val_cooccur_loss: 2.5023\n",
      "AUC_readm: 0.8105\n",
      "Mean AUC: 0.8105\n",
      "\n",
      "Epoch 13/20\n",
      "88/88 [==============================] - 3s 38ms/step - loss: 23.7431 - readm_loss: 0.3484 - cooccur_loss: 2.3395 - val_loss: 22.3689 - val_readm_loss: 0.3403 - val_cooccur_loss: 2.2029\n",
      "AUC_readm: 0.8136\n",
      "Mean AUC: 0.8136\n",
      "\n",
      "Epoch 14/20\n",
      "88/88 [==============================] - 3s 36ms/step - loss: 20.9719 - readm_loss: 0.3527 - cooccur_loss: 2.0619 - val_loss: 19.7560 - val_readm_loss: 0.3372 - val_cooccur_loss: 1.9419\n",
      "AUC_readm: 0.8169\n",
      "Mean AUC: 0.8169\n",
      "\n",
      "Epoch 15/20\n",
      "88/88 [==============================] - 3s 39ms/step - loss: 18.5755 - readm_loss: 0.3464 - cooccur_loss: 1.8229 - val_loss: 17.4960 - val_readm_loss: 0.3371 - val_cooccur_loss: 1.7159\n",
      "AUC_readm: 0.8176\n",
      "Mean AUC: 0.8176\n",
      "\n",
      "Epoch 16/20\n",
      "88/88 [==============================] - 3s 38ms/step - loss: 16.4507 - readm_loss: 0.3474 - cooccur_loss: 1.6103 - val_loss: 15.5268 - val_readm_loss: 0.3346 - val_cooccur_loss: 1.5192\n",
      "AUC_readm: 0.8219\n",
      "Mean AUC: 0.8219\n",
      "\n",
      "Epoch 17/20\n",
      "88/88 [==============================] - 3s 38ms/step - loss: 14.6214 - readm_loss: 0.3409 - cooccur_loss: 1.4281 - val_loss: 13.8112 - val_readm_loss: 0.3322 - val_cooccur_loss: 1.3479\n",
      "AUC_readm: 0.8236\n",
      "Mean AUC: 0.8236\n",
      "\n",
      "Epoch 18/20\n",
      "88/88 [==============================] - 3s 39ms/step - loss: 13.0402 - readm_loss: 0.3442 - cooccur_loss: 1.2696 - val_loss: 12.3143 - val_readm_loss: 0.3344 - val_cooccur_loss: 1.1980\n",
      "AUC_readm: 0.8254\n",
      "Mean AUC: 0.8254\n",
      "\n",
      "Epoch 19/20\n",
      "88/88 [==============================] - 3s 39ms/step - loss: 11.6358 - readm_loss: 0.3430 - cooccur_loss: 1.1293 - val_loss: 11.0134 - val_readm_loss: 0.3380 - val_cooccur_loss: 1.0675\n",
      "AUC_readm: 0.8271\n",
      "Mean AUC: 0.8271\n",
      "\n",
      "Epoch 20/20\n",
      "88/88 [==============================] - 3s 38ms/step - loss: 10.4101 - readm_loss: 0.3403 - cooccur_loss: 1.0070 - val_loss: 9.8635 - val_readm_loss: 0.3338 - val_cooccur_loss: 0.9530\n",
      "AUC_readm: 0.8287\n",
      "Mean AUC: 0.8287\n",
      "\n"
     ]
    }
   ],
   "source": [
    "hist = model.fit_generator(generator=trn_gen, validation_data=val_gen, epochs=20, verbose=1, \n",
    "                           callbacks=[auccheckpoint, reduce_lr], class_weight=class_weight)"
   ]
  },
  {
   "cell_type": "code",
   "execution_count": 127,
   "metadata": {
    "scrolled": true
   },
   "outputs": [
    {
     "data": {
      "text/plain": [
       "[<matplotlib.lines.Line2D at 0x2aeda49bbb70>]"
      ]
     },
     "execution_count": 127,
     "metadata": {},
     "output_type": "execute_result"
    },
    {
     "data": {
      "image/png": "[encoded data removed]",
      "text/plain": [
       "<Figure size 432x288 with 1 Axes>"
      ]
     },
     "metadata": {},
     "output_type": "display_data"
    }
   ],
   "source": [
    "plt.plot(hist.history['val_loss'])"
   ]
  },
  {
   "cell_type": "code",
   "execution_count": 128,
   "metadata": {},
   "outputs": [
    {
     "data": {
      "text/plain": [
       "[<matplotlib.lines.Line2D at 0x2aeda49ec940>]"
      ]
     },
     "execution_count": 128,
     "metadata": {},
     "output_type": "execute_result"
    },
    {
     "data": {
      "image/png": "[encoded data removed]",
      "text/plain": [
       "<Figure size 432x288 with 1 Axes>"
      ]
     },
     "metadata": {},
     "output_type": "display_data"
    }
   ],
   "source": [
    "plt.plot(hist.history['lr'])"
   ]
  },
  {
   "cell_type": "code",
   "execution_count": 129,
   "metadata": {
    "scrolled": false
   },
   "outputs": [
    {
     "data": {
      "text/plain": [
       "[<matplotlib.lines.Line2D at 0x2aeda4a235c0>]"
      ]
     },
     "execution_count": 129,
     "metadata": {},
     "output_type": "execute_result"
    },
    {
     "data": {
      "image/png": "[encoded data removed]",
      "text/plain": [
       "<Figure size 432x288 with 1 Axes>"
      ]
     },
     "metadata": {},
     "output_type": "display_data"
    }
   ],
   "source": [
    "plt.plot(auccheckpoint.auc_history['readm'])"
   ]
  },
  {
   "cell_type": "code",
   "execution_count": 130,
   "metadata": {},
   "outputs": [],
   "source": [
    "model.load_weights(model_path+'embeding_nn_temp'+str(job_index)+'.h5')"
   ]
  },
  {
   "cell_type": "code",
   "execution_count": 131,
   "metadata": {},
   "outputs": [
    {
     "name": "stdout",
     "output_type": "stream",
     "text": [
      "\r",
      "1/1 [==============================] - 0s 89ms/step\n"
     ]
    }
   ],
   "source": [
    "y = model.predict_generator(tst_gen, verbose=1)\n",
    "\n",
    "y_pred = y[0][:, 1]\n",
    "y_true = tst_df.MORTALITY_1year.astype(int).values"
   ]
  },
  {
   "cell_type": "code",
   "execution_count": 132,
   "metadata": {
    "scrolled": true
   },
   "outputs": [
    {
     "data": {
      "text/plain": [
       "{0: 0.8751385225171326}"
      ]
     },
     "execution_count": 132,
     "metadata": {},
     "output_type": "execute_result"
    },
    {
     "data": {
      "image/png": "[encoded data removed]",
      "text/plain": [
       "<Figure size 432x288 with 1 Axes>"
      ]
     },
     "metadata": {},
     "output_type": "display_data"
    }
   ],
   "source": [
    "plot_roc(y_pred, y_true)"
   ]
  }
 ],
 "metadata": {
  "kernelspec": {
   "display_name": "Python 3",
   "language": "python",
   "name": "python3"
  },
  "language_info": {
   "codemirror_mode": {
    "name": "ipython",
    "version": 3
   },
   "file_extension": ".py",
   "mimetype": "text/x-python",
   "name": "python",
   "nbconvert_exporter": "python",
   "pygments_lexer": "ipython3",
   "version": "3.5.4"
  }
 },
 "nbformat": 4,
 "nbformat_minor": 2
}
